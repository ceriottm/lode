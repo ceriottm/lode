{
 "cells": [
  {
   "cell_type": "code",
   "execution_count": null,
   "metadata": {},
   "outputs": [],
   "source": [
    "import math\n",
    "import sys\n",
    "from functools import partial\n",
    "\n",
    "import matplotlib.pyplot as plt\n",
    "import mpltex\n",
    "import numpy as np\n",
    "from ase.io import read\n",
    "from rascal.representations import SphericalInvariants as SOAP\n",
    "from rascal.utils.scorer import get_rmse\n",
    "from sklearn.kernel_ridge import KernelRidge\n",
    "from sklearn.metrics.pairwise import linear_kernel, polynomial_kernel\n",
    "from sklearn.model_selection import train_test_split\n",
    "from sklearn.utils import Bunch\n",
    "from tqdm import tqdm"
   ]
  },
  {
   "cell_type": "code",
   "execution_count": null,
   "metadata": {},
   "outputs": [],
   "source": [
    "sys.path.append(\"../\")"
   ]
  },
  {
   "cell_type": "code",
   "execution_count": null,
   "metadata": {},
   "outputs": [],
   "source": [
    "from ..utilities.precompute_lode import lode_get_features\n",
    "from ..pylode.projection_coeffs import Density_Projection_Calculator as LODE"
   ]
  },
  {
   "cell_type": "code",
   "execution_count": null,
   "metadata": {},
   "outputs": [],
   "source": [
    "tab10 = plt.rcParams[\"axes.prop_cycle\"].by_key()[\"color\"]\n",
    "kernel_func = partial(linear_kernel)"
   ]
  },
  {
   "cell_type": "markdown",
   "metadata": {
    "tags": []
   },
   "source": [
    "# General functions"
   ]
  },
  {
   "cell_type": "code",
   "execution_count": null,
   "metadata": {},
   "outputs": [],
   "source": [
    "def build_kernel_matrix(kernel_func, X, Y, desc=\"Build kernel\"):\n",
    "    \"\"\"Build kernel matrix for kernel ridge regression.\n",
    "\n",
    "    Parameters\n",
    "    ----------\n",
    "    kernel_func : callable\n",
    "        kernel function. i.e. `sklearn.metrics.pairwise.linear_kernel`\n",
    "    X : ndarray of shape (n_sets_X, n_atoms, n_features)\n",
    "        The first feature array.\n",
    "    Y : ndarray of shape (n_sets_Y, n_atoms, n_features)\n",
    "        The second feature array.\n",
    "    desc : str\n",
    "        Description for progress bar.\n",
    "\n",
    "    Returns\n",
    "    -------\n",
    "    K : ndarray of shape (n_samples_X, n_samples_Y)\n",
    "\n",
    "    Raises\n",
    "    ------\n",
    "    ValueError\n",
    "        If predicted number of structures times `n_atoms` is not equal to\n",
    "        the length of one of the feature arrays.\n",
    "    \"\"\"\n",
    "    if X is Y:\n",
    "        # For X==Y the kernel matrix is symmetric.\n",
    "        # Only calculate upper trangle matrix and copy at the end.\n",
    "        row, col = np.triu_indices(X.shape[0])\n",
    "    else:\n",
    "        row, col = np.indices((X.shape[0], Y.shape[0]))\n",
    "\n",
    "    K = np.zeros([X.shape[0], Y.shape[0]])\n",
    "\n",
    "    indices = [(r, c) for r, c in zip(row.flatten(), col.flatten())]\n",
    "    for n, m in tqdm(indices, desc=desc):\n",
    "        K[n, m] = np.sum(kernel_func(X[n], Y[m]))\n",
    "\n",
    "    if X is Y:\n",
    "        K += K.T\n",
    "        K -= np.diag(np.diag(K)) / 2\n",
    "\n",
    "    return K"
   ]
  },
  {
   "cell_type": "code",
   "execution_count": null,
   "metadata": {},
   "outputs": [],
   "source": [
    "def train_predict_krr(X, regularisation=1):\n",
    "    \"\"\"\n",
    "    Train a KRR model based on \n",
    "\n",
    "    Parameters\n",
    "    ----------\n",
    "    X_reshape : ndarray of shape (n_sets_X, n_atoms, n_features)\n",
    "        Feature array\n",
    "    regularisation : float\n",
    "        regularisation for KRR\n",
    "\n",
    "    Returns\n",
    "    -------\n",
    "    RMSE train : np.array\n",
    "        root mean square deviation (%) of the training set \n",
    "        with respect to the standard deviation of the test set.\n",
    "    RMSE test : np.array\n",
    "        root mean square deviation (%) of the test set\n",
    "        with respect to the standard deviation of the test set.\n",
    "    \"\"\"\n",
    "    X_train = X[i_train]\n",
    "    X_test = X[i_test]\n",
    "\n",
    "    rmse_train = np.zeros(len(r_train_structures))\n",
    "    rmse_test = np.zeros(len(r_train_structures))\n",
    "\n",
    "    for i, n_train_structure in enumerate(r_train_structures):\n",
    "        X_train_cur = X_train[:n_train_structure]\n",
    "\n",
    "        K_train = build_kernel_matrix(\n",
    "            kernel_func,\n",
    "            X=X_train_cur,\n",
    "            Y=X_train_cur,\n",
    "            desc=f\"Build train kernel for\" f\" {n_train_structure} sets\")\n",
    "\n",
    "        K_test = build_kernel_matrix(\n",
    "            kernel_func,\n",
    "            X=X_test,\n",
    "            Y=X_train_cur,\n",
    "            desc=f\"Build test kernel for\" f\" {n_train_structure} sets\")\n",
    "\n",
    "        Y_train_cur = Y_train[:n_train_structure]\n",
    "\n",
    "        krr = KernelRidge(alpha=regularisation, kernel=\"precomputed\", gamma=1)\n",
    "        krr.fit(K_train, Y_train_cur)\n",
    "\n",
    "        Y_train_pred = krr.predict(K_train)\n",
    "        Y_test_pred = krr.predict(K_test)\n",
    "\n",
    "        rmse_train[i] = 100*get_rmse(Y_train_pred, Y_train_cur)\n",
    "        rmse_test[i] = 100*get_rmse(Y_test_pred, Y_test)\n",
    "\n",
    "        # Calculate % RMSE\n",
    "        rmse_train[i] /= Y_train_cur.var()\n",
    "        rmse_test[i] /= Y_train_cur.var()\n",
    "\n",
    "    return rmse_train, rmse_test"
   ]
  },
  {
   "cell_type": "code",
   "execution_count": null,
   "metadata": {},
   "outputs": [],
   "source": [
    "@mpltex.acs_decorator\n",
    "def plot_rmsd(bunch_obj,\n",
    "              method_keys,\n",
    "              prop_keys,\n",
    "              show_test=True,\n",
    "              show_train=False,\n",
    "              colors_test=None,\n",
    "              colors_train=None,\n",
    "              ylim=(1e-2, 1e2),\n",
    "              fname=None):\n",
    "\n",
    "    fmts = [\"-\", \"--\", \".-\"]\n",
    "\n",
    "    if type(method_keys) not in (list, tuple):\n",
    "        method_keys = [method_keys]\n",
    "\n",
    "    if type(prop_keys) not in (list, tuple):\n",
    "        prop_keys = [prop_keys]\n",
    "\n",
    "    if colors_test is None:\n",
    "        colors_test = [\"k\", tab10[3]]\n",
    "    elif colors_test not in (list, tuple):\n",
    "        colors_test = [colors_test]\n",
    "\n",
    "    if colors_train is None:\n",
    "        colors_train = [tab10[0], tab10[1]]\n",
    "    elif colors_train not in (list, tuple):\n",
    "        colors_train = [colors_train]\n",
    "\n",
    "    assert len(method_keys) == len(prop_keys)\n",
    "\n",
    "    fig, ax = plt.subplots(constrained_layout=True)\n",
    "\n",
    "    if show_test:\n",
    "        handles_test = []\n",
    "    if show_train:\n",
    "        handles_train = []\n",
    "\n",
    "    for i, (method, prop_key) in enumerate(zip(method_keys, prop_keys)):\n",
    "        results_obj = bunch_obj[method]\n",
    "        realiziations = results_obj.keys()\n",
    "\n",
    "        if show_test:\n",
    "            handles_test_cur = len(realiziations) * [None]\n",
    "        if show_train:\n",
    "            handles_train_cur = len(realiziations) * [None]\n",
    "\n",
    "        for j, k in enumerate(realiziations):\n",
    "            label_cutoff = rf\"$r_\\mathrm{{{prop_key}}}=\"\n",
    "            label_cutoff += rf\"{results_obj[k][prop_key]}\\,\\mathrm{{\\AA}}$\"\n",
    "\n",
    "            if show_test:\n",
    "                handles_test_cur[j] = ax.plot(\n",
    "                    r_train_structures,\n",
    "                    results_obj[k].rmse_test,\n",
    "                    fmts[j],\n",
    "                    c=colors_test[i],\n",
    "                    label=rf\"Test, {method}, {label_cutoff}\")[0]\n",
    "\n",
    "            if show_train:\n",
    "                handles_train_cur[j] = ax.plot(\n",
    "                    r_train_structures,\n",
    "                    results_obj[k].rmse_train,\n",
    "                    fmts[j],\n",
    "                    c=colors_train[i],\n",
    "                    label=rf\"Train, {method}, {label_cutoff}\")[0]\n",
    "\n",
    "        if show_test:\n",
    "            handles_test += handles_test_cur\n",
    "        if show_train:\n",
    "            handles_train += handles_train_cur\n",
    "\n",
    "    ax.set_yscale(\"log\")\n",
    "    ax.set_xscale(\"log\")\n",
    "\n",
    "    ax.set_xlim(1e1, 2e3)\n",
    "    ax.set_ylim(*ylim)\n",
    "\n",
    "    ax.set_xlabel(\"training structures\")\n",
    "    ax.set_ylabel(\"\\% RMSE\")\n",
    "\n",
    "    handles = []\n",
    "    if show_test:\n",
    "        handles += handles_test\n",
    "    if show_train:\n",
    "        handles += handles_train\n",
    "\n",
    "    labels = [handle.get_label() for handle in handles]\n",
    "    ax.legend(\n",
    "        handles,\n",
    "        labels,\n",
    "        ncol=2,\n",
    "        handlelength=1,\n",
    "        frameon=True,\n",
    "        edgecolor=\"None\",\n",
    "        fontsize=7,\n",
    "    )\n",
    "\n",
    "    if fname is not None:\n",
    "        fig.savefig(fname, transparent=True)\n",
    "\n",
    "    fig.show()"
   ]
  },
  {
   "cell_type": "markdown",
   "metadata": {
    "tags": []
   },
   "source": [
    "# Import and preprocess data "
   ]
  },
  {
   "cell_type": "code",
   "execution_count": null,
   "metadata": {},
   "outputs": [],
   "source": [
    "input_file = \"../datasets/point_charges_Training_set.xyz\"\n",
    "\n",
    "frames = read(input_file, index=\":\")\n",
    "n_frames = len(frames)\n",
    "n_atoms = len(frames[0])\n",
    "\n",
    "# Move atoms in unitcell\n",
    "for frame in frames:\n",
    "    frame.wrap()\n",
    "\n",
    "# extract energy\n",
    "Y = np.array([frame.info[\"energy\"] for frame in frames])\n",
    "\n",
    "# Create an object/dictionary for storing results\n",
    "results = Bunch()\n",
    "\n",
    "# Get atomic species in dataset\n",
    "global_species = set()\n",
    "for frame in frames:\n",
    "    global_species.update(frame.get_chemical_symbols())\n",
    "species_dict = {k: i for i, k in enumerate(global_species)}"
   ]
  },
  {
   "cell_type": "markdown",
   "metadata": {
    "tags": []
   },
   "source": [
    "# Split Train and Test data\n",
    "\n",
    "Here only for Y since the X depends on our applied model (SOAP, LODE)"
   ]
  },
  {
   "cell_type": "code",
   "execution_count": null,
   "metadata": {},
   "outputs": [],
   "source": [
    "f_train = 0.75  # factor of the train set picked from the total set\n",
    "n_subsets = 5  # number of subsets picked on a logspace for scaling test\n",
    "\n",
    "i_train, i_test = train_test_split(\n",
    "    np.arange(n_frames), train_size=f_train, random_state=0\n",
    ")\n",
    "n_train = len(i_train)\n",
    "n_test = len(i_test)\n",
    "\n",
    "# Split energies\n",
    "Y_train = Y[i_train]\n",
    "Y_test = Y[i_test]\n",
    "\n",
    "# Generate subset numbers for training curve\n",
    "exp_max = math.log(n_train, 10)\n",
    "r_train_structures = np.logspace(1, exp_max, num=n_subsets, endpoint=True)\n",
    "r_train_structures = np.round(r_train_structures).astype(int)\n",
    "\n",
    "# Remove doubled values\n",
    "r_train_structures = np.unique(r_train_structures)"
   ]
  },
  {
   "cell_type": "markdown",
   "metadata": {},
   "source": [
    "## Recalculate?\n",
    "\n",
    "Recalculating the features (especially for LODE) may take a long time!r_train_structures"
   ]
  },
  {
   "cell_type": "code",
   "execution_count": null,
   "metadata": {},
   "outputs": [],
   "source": [
    "recalc_features_soap = False\n",
    "recalc_regression_soap = False\n",
    "\n",
    "recalc_features_lode = False\n",
    "recalc_regression_lode = False"
   ]
  },
  {
   "cell_type": "markdown",
   "metadata": {},
   "source": [
    "# SOAP"
   ]
  },
  {
   "cell_type": "code",
   "execution_count": null,
   "metadata": {},
   "outputs": [],
   "source": [
    "results.soap = Bunch()\n",
    "r_cut = [3, 6, 9]\n",
    "regularisation_soap = 10e-10  # From paper\n",
    "\n",
    "hypers_soap = dict(\n",
    "    cutoff_smooth_width=0.5,\n",
    "    soap_type=\"PowerSpectrum\",  # nu = 2\n",
    "    max_radial=6,\n",
    "    max_angular=2,\n",
    "    gaussian_sigma_type=\"Constant\")"
   ]
  },
  {
   "cell_type": "code",
   "execution_count": null,
   "metadata": {},
   "outputs": [],
   "source": [
    "for cut in r_cut:\n",
    "    results.soap[f\"r_{cut}\"] = Bunch()\n",
    "    results.soap[f\"r_{cut}\"].cut = cut\n",
    "    fname_precomputed = f\"../datasets/precomputed/precomputed_soap_{cut}.npy\"\n",
    "\n",
    "    if recalc_features_soap:\n",
    "        hypers_soap[\"interaction_cutoff\"] = cut\n",
    "\n",
    "        calculator = SOAP(**hypers_soap)\n",
    "        soap_rep = calculator.transform(frames)\n",
    "        X_raw = soap_rep.get_features(calculator)\n",
    "\n",
    "        np.save(fname_precomputed, X_raw)\n",
    "\n",
    "    else:\n",
    "        X_raw = np.load(fname_precomputed)\n",
    "\n",
    "    n_features = X_raw.shape[1]\n",
    "    X = X_raw.reshape(n_frames, n_atoms, n_features)\n",
    "    results.soap[f\"r_{cut}\"].X = X\n",
    "\n",
    "print(f\"n_features_soap = {n_features}\")"
   ]
  },
  {
   "cell_type": "markdown",
   "metadata": {},
   "source": [
    "## Train krr model"
   ]
  },
  {
   "cell_type": "code",
   "execution_count": null,
   "metadata": {},
   "outputs": [],
   "source": [
    "for cut in r_cut:\n",
    "    print(f\"cut = {cut} Å\")\n",
    "    fname_precomputed = f\"precomputed/precomputed_soap_{cut}\"\n",
    "\n",
    "    if recalc_regression_soap:\n",
    "        rmse_train, rmse_test = train_predict_krr(\n",
    "            X=results.soap[f\"r_{cut}\"].X,\n",
    "            regularisation=regularisation_soap)\n",
    "\n",
    "        np.save(f\"{fname_precomputed}_train.npy\", rmse_train)\n",
    "        np.save(f\"{fname_precomputed}_test.npy\", rmse_test)\n",
    "\n",
    "    else:\n",
    "        rmse_train = np.load(f\"{fname_precomputed}_train.npy\")\n",
    "        rmse_test = np.load(f\"{fname_precomputed}_test.npy\", )\n",
    "\n",
    "    results.soap[f\"r_{cut}\"].rmse_train = rmse_train.copy()\n",
    "    results.soap[f\"r_{cut}\"].rmse_test = rmse_test.copy()"
   ]
  },
  {
   "cell_type": "code",
   "execution_count": null,
   "metadata": {},
   "outputs": [],
   "source": [
    "plot_rmsd(results, \"soap\", \"cut\", show_test=True, show_train=True, fname=None)"
   ]
  },
  {
   "cell_type": "markdown",
   "metadata": {},
   "source": [
    "# LODE model"
   ]
  },
  {
   "cell_type": "code",
   "execution_count": null,
   "metadata": {},
   "outputs": [],
   "source": [
    "results.lode = Bunch()\n",
    "r_smearing = [3, 2, 1]\n",
    "regularisation_lode = 10e-10  # From paper\n",
    "\n",
    "# Note that the radial cutoff of the representation\n",
    "# 2.0 is chosen to be smaller than the minimum distance\n",
    "# between any pair of ions in the dataset (which is 2.5 Angstrom)\n",
    "\n",
    "hypers_lode = dict(\n",
    "    max_radial=1,  # currently, only 1 is supported\n",
    "    max_angular=2,\n",
    "    cutoff_radius=2,\n",
    "    potential_exponent=1,  # currently, 1 is supported\n",
    "    compute_gradients=False)"
   ]
  },
  {
   "cell_type": "code",
   "execution_count": null,
   "metadata": {},
   "outputs": [],
   "source": [
    "for smear in r_smearing:\n",
    "    results.lode[f\"r_{smear}\"] = Bunch()\n",
    "    results.lode[f\"r_{smear}\"].smear = smear\n",
    "    fname_precomputed = f\"../datasets/precomputed/precomputed_lode_{smear}.npy\"\n",
    "\n",
    "    if recalc_features_lode:\n",
    "        hypers_lode[\"smearing\"] = smear\n",
    "        X = lode_get_features(frames, **hypers_lode)\n",
    "        np.save(fname_precomputed, X)\n",
    "    else:\n",
    "        X = np.load(fname_precomputed)\n",
    "\n",
    "    n_features = X.shape[2]\n",
    "    results.lode[f\"r_{smear}\"].X = X\n",
    "\n",
    "print(f\"n_features_lode = {n_features}\")"
   ]
  },
  {
   "cell_type": "code",
   "execution_count": null,
   "metadata": {},
   "outputs": [],
   "source": [
    "for smear in r_smearing:\n",
    "    print(f\"smearing = {smear} Å\")\n",
    "    fname_precomputed = f\"precomputed/precomputed_lode_{smear}\"\n",
    "\n",
    "    if recalc_regression_lode:\n",
    "        rmse_train, rmse_test = train_predict_krr(\n",
    "            X=results.lode[f\"r_{smear}\"].X,\n",
    "            regularisation=regularisation_lode)\n",
    "\n",
    "        np.save(f\"{fname_precomputed}_train.npy\", rmse_train)\n",
    "        np.save(f\"{fname_precomputed}_test.npy\", rmse_test)\n",
    "    else:\n",
    "        rmse_train = np.load(f\"{fname_precomputed}_train.npy\")\n",
    "        rmse_test = np.load(f\"{fname_precomputed}_test.npy\", )\n",
    "\n",
    "    results.lode[f\"r_{smear}\"].rmse_train = rmse_train.copy()\n",
    "    results.lode[f\"r_{smear}\"].rmse_test = rmse_test.copy()"
   ]
  },
  {
   "cell_type": "code",
   "execution_count": null,
   "metadata": {},
   "outputs": [],
   "source": [
    "plot_rmsd(results, \"lode\", \"smear\", show_test=True,\n",
    "          show_train=True, fname=None)"
   ]
  },
  {
   "cell_type": "markdown",
   "metadata": {},
   "source": [
    "## Plot results for SOAP and LODE"
   ]
  },
  {
   "cell_type": "code",
   "execution_count": null,
   "metadata": {},
   "outputs": [],
   "source": [
    "plot_rmsd(results, [\"soap\", \"lode\"], [\"cut\", \"smear\"],\n",
    "          fname=\"RMSE_point_charges.pdf\", ylim=(1e-3, 5e2))"
   ]
  },
  {
   "cell_type": "code",
   "execution_count": null,
   "metadata": {},
   "outputs": [],
   "source": []
  }
 ],
 "metadata": {
  "interpreter": {
   "hash": "aee8b7b246df8f9039afb4144a1f6fd8d2ca17a180786b69acc140d282b71a49"
  },
  "kernelspec": {
   "display_name": "Python 3 (ipykernel)",
   "language": "python",
   "name": "python3"
  },
  "language_info": {
   "codemirror_mode": {
    "name": "ipython",
    "version": 3
   },
   "file_extension": ".py",
   "mimetype": "text/x-python",
   "name": "python",
   "nbconvert_exporter": "python",
   "pygments_lexer": "ipython3",
   "version": "3.8.10"
  }
 },
 "nbformat": 4,
 "nbformat_minor": 4
}
