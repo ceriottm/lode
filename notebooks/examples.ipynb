{
 "cells": [
  {
   "cell_type": "code",
   "execution_count": null,
   "metadata": {},
   "outputs": [],
   "source": [
    "%load_ext autoreload\n",
    "%autoreload 2\n",
    "\n",
    "import time\n",
    "\n",
    "import numpy as np\n",
    "from ase.io import read\n",
    "\n",
    "# Imports specific to this \"library\"\n",
    "from pylode import Density_Projection_Calculator"
   ]
  },
  {
   "cell_type": "markdown",
   "metadata": {
    "tags": []
   },
   "source": [
    "# Example BaTiO3"
   ]
  },
  {
   "cell_type": "code",
   "execution_count": null,
   "metadata": {},
   "outputs": [],
   "source": [
    "# Get frames and define a dictionary specifying to which index\n",
    "# the individual chemical elements are mapped.\n",
    "# Since we have 3 elements in this systems, we can access the coefficients\n",
    "# using indices 0,1,2, and we map those to the elements O,Ba,Ti.\n",
    "# WARNING: There will be errors if the range is not 0,1,...,num_species-1\n",
    "frames = read('../datasets/BaTiO3_Training_set.xyz', ':30')\n",
    "species_dict = {'O':0, 'Ti':1, 'Ba':2}\n",
    "\n",
    "# Define hyperparameters\n",
    "hypers = {\n",
    "    'smearing':2.0, # WARNING: comp. cost scales cubically with 1/smearing\n",
    "    'max_radial':6,\n",
    "    'max_angular':6,\n",
    "    'cutoff_radius':4.5,\n",
    "    'potential_exponent':1, # currently, only the exponent p=1 is supported\n",
    "    'compute_gradients':True,\n",
    "    'radial_basis': 'GTO',\n",
    "    \n",
    "}\n",
    "\n",
    "# Evaluate the features on all frames and record required time\n",
    "tstart = time.time()\n",
    "calculator = Density_Projection_Calculator(**hypers)\n",
    "calculator.transform(frames, species_dict)\n",
    "dt = time.time() - tstart\n",
    "\n",
    "# Example for how to get features and gradients\n",
    "# Check out get_features() and get_feature_gradients() for a detailed\n",
    "# description of the array format\n",
    "features = calculator.get_features()\n",
    "gradients = calculator.get_feature_gradients()\n",
    "print('BaTiO3 data set')\n",
    "print('Shape of obtained feature array = ', features.shape)\n",
    "print('Shape of obtained gradient array = ', gradients.shape)\n",
    "\n",
    "# Reference values to understand the array shapes\n",
    "print('\\nValues for reference to understand the array shapes:')\n",
    "print('Number of frames =', len(frames))\n",
    "print('Total number of environments = ', sum([len(frame) for frame in frames]))\n",
    "print('Number of chemical species = ', len(species_dict))\n",
    "print('nmax = ', calculator.max_radial)\n",
    "print('lmax = ', calculator.max_angular)\n",
    "print('(lmax+1)^2 = ', (hypers['max_angular']+1)**2)\n",
    "print('Note: nmax=1 by default for 1/r LODE with monomial basis.')\n",
    "\n",
    "# Estimate required time to compute features for all frames\n",
    "print('\\nComputational cost:')\n",
    "print(f'Required time for {len(frames)} frames = {dt:4.1f}s')\n",
    "frames_all = read('../datasets/BaTiO3_Training_set.xyz', ':')\n",
    "N_all = len(frames_all)\n",
    "dt_all = N_all/len(frames)*dt\n",
    "print(f'Estimated time for {N_all} structures {dt_all:4.1f}s = {dt_all/60.:4.1f}min')"
   ]
  },
  {
   "cell_type": "code",
   "execution_count": null,
   "metadata": {},
   "outputs": [],
   "source": [
    "n_frames = 30\n",
    "n_atoms = len(frames[0])\n",
    "X = features.reshape(n_frames, n_atoms, np.prod(features.shape[1:]))"
   ]
  },
  {
   "cell_type": "markdown",
   "metadata": {
    "tags": []
   },
   "source": [
    "# Example shiftML"
   ]
  },
  {
   "cell_type": "code",
   "execution_count": null,
   "metadata": {},
   "outputs": [],
   "source": [
    "frames = read('../datasets/shiftml.xyz',':')\n",
    "species_dict = {'C':0, 'H':1, 'N':2, 'O':3}\n",
    "\n",
    "# Define hyperparameters\n",
    "hypers = {\n",
    "    'smearing':3.,\n",
    "    'max_angular':2,\n",
    "    'cutoff_radius':3.5,\n",
    "    'potential_exponent':1,\n",
    "    'compute_gradients':True\n",
    "}\n",
    "num_strucs = len(frames)\n",
    "num_atoms = np.array([len(frame) for frame in frames])\n",
    "num_env = np.sum(num_atoms)\n",
    "print('\\nShiftML data set')\n",
    "print('Number of structures         = ', num_strucs)\n",
    "print('Total # of environments      = ', num_env)\n",
    "print('Average # of atoms per frame = ', np.round(num_env / len(frames),1))\n",
    "\n",
    "frames = frames[:20]\n",
    "print(f'Number of atoms of first {len(frames)} structures = ', [len(frame) for frame in frames])\n",
    "\n",
    "tstart = time.time()\n",
    "calculator = Density_Projection_Calculator(**hypers)\n",
    "calculator.transform(frames, species_dict)\n",
    "features = calculator.get_features()\n",
    "gradients = calculator.get_feature_gradients()\n",
    "tend = time.time()\n",
    "dt = tend - tstart\n",
    "print(f'Required time for first {len(frames)} frames = {np.round(dt,2)}s')\n",
    "print(f'Estimated time for all frames = {np.round(dt/len(frames)*num_strucs/60,2)}min')"
   ]
  },
  {
   "cell_type": "markdown",
   "metadata": {},
   "source": [
    "Note for computational cost:\n",
    "\n",
    "version 1: BaTiO3: estimated total 24min, ShiftML: 62s for first 20 frames\n",
    "\n",
    "version 2: Precompute as much as possible using numpy arrays -> 18min, 51s\n",
    "            Some tests show that main loop is indeed the main contribution\n",
    "            to computational cost + fixed 1s contribution from splining in\n",
    "            the very beginning.\n",
    "\n",
    "version 3:"
   ]
  }
 ],
 "metadata": {
  "interpreter": {
   "hash": "aee8b7b246df8f9039afb4144a1f6fd8d2ca17a180786b69acc140d282b71a49"
  },
  "kernelspec": {
   "display_name": "Python 3 (ipykernel)",
   "language": "python",
   "name": "python3"
  },
  "language_info": {
   "codemirror_mode": {
    "name": "ipython",
    "version": 3
   },
   "file_extension": ".py",
   "mimetype": "text/x-python",
   "name": "python",
   "nbconvert_exporter": "python",
   "pygments_lexer": "ipython3",
   "version": "3.8.10"
  }
 },
 "nbformat": 4,
 "nbformat_minor": 4
}
