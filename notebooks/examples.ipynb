{
 "cells": [
  {
   "cell_type": "code",
   "execution_count": 1,
   "metadata": {},
   "outputs": [],
   "source": [
    "%load_ext autoreload\n",
    "%autoreload 2\n",
    "\n",
    "import time\n",
    "\n",
    "import numpy as np\n",
    "from ase.io import read\n",
    "from ase import Atoms\n",
    "\n",
    "# Imports specific to this \"library\"\n",
    "from pylode import DensityProjectionCalculator\n",
    "from pylode.lib.kvec_generator import KvectorGenerator"
   ]
  },
  {
   "cell_type": "markdown",
   "metadata": {},
   "source": [
    "# Kevector Example"
   ]
  },
  {
   "cell_type": "code",
   "execution_count": 2,
   "metadata": {},
   "outputs": [
    {
     "name": "stdout",
     "output_type": "stream",
     "text": [
      "Number of k-vectors =  309\n",
      "Shape of k-vectors array =  (309, 3)\n",
      "Shape of array for norms =  (309,)\n"
     ]
    }
   ],
   "source": [
    "# The smearing of the target density determines the cutoff in\n",
    "# reciprocal space. pi/smearing was shown to yield good LODE convergence.\n",
    "smearing_realspace = 1.5\n",
    "kspace_cutoff = np.pi / smearing_realspace\n",
    "\n",
    "# Define cell\n",
    "L = 15.6\n",
    "cell = np.eye(3) * L\n",
    "\n",
    "# Generate k vectors\n",
    "kvecgen = KvectorGenerator(cell, kspace_cutoff, need_origin=False)\n",
    "kvecgen.compute()\n",
    "print('Number of k-vectors = ', kvecgen.kvector_number)\n",
    "print('Shape of k-vectors array = ', kvecgen.kvectors.shape)\n",
    "print('Shape of array for norms = ', kvecgen.kvector_norms.shape)"
   ]
  },
  {
   "cell_type": "markdown",
   "metadata": {},
   "source": [
    "# Example gaussian"
   ]
  },
  {
   "cell_type": "code",
   "execution_count": 3,
   "metadata": {},
   "outputs": [
    {
     "name": "stdout",
     "output_type": "stream",
     "text": [
      "cell= Cell([12.0, 12.0, 12.0])\n",
      "cell= Cell([12.0, 12.0, 12.0])\n",
      "cell= Cell([12.0, 12.0, 12.0])\n",
      "cell= Cell([12.0, 12.0, 12.0])\n",
      "cell= Cell([12.0, 12.0, 12.0])\n",
      "Shapes =  (10, 1, 8, 36)\n",
      "Required time for 5 frames = 1.8305718898773193s\n"
     ]
    }
   ],
   "source": [
    "frames = []\n",
    "cell = np.eye(3) *12\n",
    "distances = np.linspace(1.5, 2., 5)\n",
    "# for d in distances:\n",
    "#     positions2 = [[0,0,0],[0,0,d],[0,d,0],[0,d,d],[d,d,d]]\n",
    "#     frame = Atoms('O5', positions=positions2, cell=cell, pbc=True)\n",
    "#     frames.append(frame)\n",
    "# write('oxygen_toy_structures.xyz', frames)\n",
    "\n",
    "for d in distances:\n",
    "    positions2 = [[1,1,1],[1,1,d+1]]\n",
    "    frame = Atoms('O2', positions=positions2, cell=cell, pbc=True)\n",
    "    frames.append(frame)\n",
    "\n",
    "\n",
    "# frames = read('oxygen_toy_structures.xyz', ':')\n",
    "\n",
    "# Define hyperparameters\n",
    "hypers = {\n",
    "    'smearing':1.5,\n",
    "    'max_angular':5,\n",
    "    'max_radial':8,\n",
    "    'cutoff_radius':5.,\n",
    "    'potential_exponent':0,\n",
    "    'radial_basis': 'gto',\n",
    "    'compute_gradients':False\n",
    "    }\n",
    "\n",
    "tstart = time.time()\n",
    "calculator = DensityProjectionCalculator(**hypers)\n",
    "calculator.transform(frames)\n",
    "# gradients = calculator.get_feature_gradients()\n",
    "\n",
    "print('Shapes = ', calculator.features.shape)\n",
    "tend = time.time()\n",
    "dt = tend - tstart\n",
    "print(f'Required time for {len(frames)} frames = {dt}s')"
   ]
  },
  {
   "cell_type": "markdown",
   "metadata": {
    "tags": []
   },
   "source": [
    "# Example BaTiO3"
   ]
  },
  {
   "cell_type": "code",
   "execution_count": 4,
   "metadata": {},
   "outputs": [
    {
     "name": "stdout",
     "output_type": "stream",
     "text": [
      "cell= Cell([7.955160132292204, 7.955160132292204, 7.955160132292204])\n",
      "cell= Cell([7.954639951096393, 7.954639951096393, 7.954639951096393])\n",
      "cell= Cell([7.979600181660014, 7.979600181660014, 7.979600181660014])\n",
      "cell= Cell([8.00504990114136, 8.00504990114136, 8.00504990114136])\n",
      "cell= Cell([7.955129969191328, 7.955129969191328, 7.955129969191328])\n",
      "cell= Cell([7.954639951096393, 7.954639951096393, 7.954639951096393])\n",
      "cell= Cell([7.979600181660014, 7.979600181660014, 7.979600181660014])\n",
      "cell= Cell([7.95197977727, 7.95197977727, 7.95197977727])\n",
      "cell= Cell([8.00504990114136, 8.00504990114136, 8.00504990114136])\n",
      "cell= Cell([7.95197977727, 7.95197977727, 7.95197977727])\n",
      "cell= Cell([8.00504990114136, 8.00504990114136, 8.00504990114136])\n",
      "cell= Cell([7.979719775709101, 7.979719775709101, 7.979719775709101])\n",
      "cell= Cell([7.955129969191328, 7.955129969191328, 7.955129969191328])\n",
      "cell= Cell([7.979719775709101, 7.979719775709101, 7.979719775709101])\n",
      "cell= Cell([8.00504990114136, 8.00504990114136, 8.00504990114136])\n",
      "cell= Cell([8.00504990114136, 8.00504990114136, 8.00504990114136])\n",
      "cell= Cell([8.00504990114136, 8.00504990114136, 8.00504990114136])\n",
      "cell= Cell([7.959140074076232, 7.959140074076232, 7.959140074076232])\n",
      "cell= Cell([8.01995999816393, 8.01995999816393, 8.01995999816393])\n",
      "cell= Cell([7.955129969191328, 7.955129969191328, 7.955129969191328])\n",
      "cell= Cell([7.979719775709101, 7.979719775709101, 7.979719775709101])\n",
      "cell= Cell([7.979600181660014, 7.979600181660014, 7.979600181660014])\n",
      "cell= Cell([7.955129969191328, 7.955129969191328, 7.955129969191328])\n",
      "cell= Cell([8.009950082090713, 8.009950082090713, 8.009950082090713])\n",
      "cell= Cell([7.955129969191328, 7.955129969191328, 7.955129969191328])\n",
      "cell= Cell([8.00504990114136, 8.00504990114136, 8.00504990114136])\n",
      "cell= Cell([8.00504990114136, 8.00504990114136, 8.00504990114136])\n",
      "cell= Cell([8.00504990114136, 8.00504990114136, 8.00504990114136])\n",
      "cell= Cell([8.00504990114136, 8.00504990114136, 8.00504990114136])\n",
      "cell= Cell([8.00504990114136, 8.00504990114136, 8.00504990114136])\n",
      "BaTiO3 data set\n",
      "Shape of obtained feature array =  (1200, 3, 6, 49)\n",
      "Shape of obtained gradient array =  (48000, 3, 3, 6, 49)\n",
      "\n",
      "Values for reference to understand the array shapes:\n",
      "Number of frames = 30\n",
      "Total number of environments =  1200\n",
      "nmax =  6\n",
      "lmax =  6\n",
      "(lmax+1)^2 =  49\n",
      "Note: nmax=1 by default for 1/r LODE with monomial basis.\n",
      "\n",
      "Computational cost:\n",
      "Required time for 30 frames =  9.1s\n",
      "Estimated time for 1458 structures 443.0s =  7.4min\n"
     ]
    }
   ],
   "source": [
    "# Get frames and define a dictionary specifying to which index\n",
    "# the individual chemical elements are mapped.\n",
    "# Since we have 3 elements in this systems, we can access the coefficients\n",
    "# using indices 0,1,2, and we map those to the elements O,Ba,Ti.\n",
    "# WARNING: There will be errors if the range is not 0,1,...,num_species-1\n",
    "frames = read('../datasets/BaTiO3_Training_set.xyz', ':30')\n",
    "\n",
    "# Define hyperparameters\n",
    "hypers = {\n",
    "    'smearing':2.0, # WARNING: comp. cost scales cubically with 1/smearing\n",
    "    'max_radial':6,\n",
    "    'max_angular':6,\n",
    "    'cutoff_radius':4.5,\n",
    "    'potential_exponent':1, # currently, only the exponent p=1 is supported\n",
    "    'compute_gradients':True,\n",
    "    'radial_basis': 'GTO',\n",
    "    \n",
    "}\n",
    "\n",
    "# Evaluate the features on all frames and record required time\n",
    "tstart = time.time()\n",
    "calculator = DensityProjectionCalculator(**hypers)\n",
    "calculator.transform(frames)\n",
    "dt = time.time() - tstart\n",
    "\n",
    "# Example for how to get features and gradients\n",
    "# Check out get_features() and get_feature_gradients() for a detailed\n",
    "# description of the array format\n",
    "features = calculator.features\n",
    "gradients = calculator.feature_gradients\n",
    "print('BaTiO3 data set')\n",
    "print('Shape of obtained feature array = ', features.shape)\n",
    "print('Shape of obtained gradient array = ', gradients.shape)\n",
    "\n",
    "# Reference values to understand the array shapes\n",
    "print('\\nValues for reference to understand the array shapes:')\n",
    "print('Number of frames =', len(frames))\n",
    "print('Total number of environments = ', sum([len(frame) for frame in frames]))\n",
    "print('nmax = ', calculator.max_radial)\n",
    "print('lmax = ', calculator.max_angular)\n",
    "print('(lmax+1)^2 = ', (hypers['max_angular']+1)**2)\n",
    "print('Note: nmax=1 by default for 1/r LODE with monomial basis.')\n",
    "\n",
    "# Estimate required time to compute features for all frames\n",
    "print('\\nComputational cost:')\n",
    "print(f'Required time for {len(frames)} frames = {dt:4.1f}s')\n",
    "frames_all = read('../datasets/BaTiO3_Training_set.xyz', ':')\n",
    "N_all = len(frames_all)\n",
    "dt_all = N_all/len(frames)*dt\n",
    "print(f'Estimated time for {N_all} structures {dt_all:4.1f}s = {dt_all/60.:4.1f}min')"
   ]
  },
  {
   "cell_type": "code",
   "execution_count": 5,
   "metadata": {},
   "outputs": [],
   "source": [
    "n_frames = 30\n",
    "n_atoms = len(frames[0])\n",
    "X = features.reshape(n_frames, n_atoms, np.prod(features.shape[1:]))"
   ]
  },
  {
   "cell_type": "markdown",
   "metadata": {
    "tags": []
   },
   "source": [
    "# Example shiftML"
   ]
  },
  {
   "cell_type": "code",
   "execution_count": 9,
   "metadata": {},
   "outputs": [
    {
     "name": "stdout",
     "output_type": "stream",
     "text": [
      "\n",
      "ShiftML data set\n",
      "Number of structures         =  3546\n",
      "Total # of environments      =  340941\n",
      "Average # of atoms per frame =  96.1\n",
      "Number of atoms of first 20 structures =  [156, 44, 120, 76, 18, 48, 48, 200, 52, 20, 120, 50, 40, 64, 32, 28, 120, 152, 14, 44]\n",
      "cell= Cell([[10.360074368, 0.0, 0.0], [0.0, 9.5756716973, 0.0], [-2.47333307439, 0.0, 14.5245238218]])\n",
      "cell= Cell([[6.660418234, 0.0, 0.0], [-1.9016559725, 6.42812948767, 0.0], [-1.25141266115, -2.27504567912, 12.6523569315]])\n",
      "cell= Cell([[11.820081988, 0.0, 0.0], [0.0, 6.16204514198, 0.0], [-1.93709867636, 0.0, 18.1259066073]])\n",
      "cell= Cell([[6.67904537, 0.0, 0.0], [0.0, 7.72205177402, 0.0], [-1.246009309, 0.0, 13.0838958904]])\n",
      "cell= Cell([[3.814011932, 0.0, 0.0], [0.0, 4.67901458213, 0.0], [-0.186058944079, 0.0, 9.11012983072]])\n",
      "cell= Cell([8.206047178, 4.74602482773, 10.6000629696])\n",
      "cell= Cell([[9.690026652, 0.0, 0.0], [0.0, 7.48801654547, 0.0], [-1.97226926464, 0.0, 4.42979568396]])\n",
      "cell= Cell([[9.98906627, 0.0, 0.0], [0.0, 9.9840617478, 0.0], [-4.44526434801, 0.0, 20.5723521252]])\n",
      "cell= Cell([13.141867792, 5.96253112657, 6.76803562914])\n",
      "cell= Cell([[5.833045304, 0.0, 0.0], [-2.55535798591, 4.7537569314, 0.0], [-0.54079912927, -1.32487707903, 6.4287100574]])\n",
      "cell= Cell([[7.761059716, 0.0, 0.0], [0.0, 11.5000899333, 0.0], [-4.560903158, 0.0, 13.5290094474]])\n",
      "cell= Cell([[8.101851636, 0.0, 0.0], [3.0822522327, 7.5115669295, 0.0], [3.7193899472, 1.1514027471, 7.56656229841]])\n",
      "cell= Cell([5.013027976, 6.91504097249, 9.27105383459])\n",
      "cell= Cell([[5.842305954, 0.0, 0.0], [0.0, 7.75400778135, 0.0], [-1.54550609015, 0.0, 12.7527022825]])\n",
      "cell= Cell([[7.260032092, 0.0, 0.0], [0.0, 10.5500463151, 0.0], [-1.49150825301, 0.0, 4.73045541034]])\n",
      "cell= Cell([5.22803381, 6.29304180547, 8.66405447095])\n",
      "cell= Cell([13.514093004, 5.04463523518, 20.9931434388])\n",
      "cell= Cell([[5.036047306, 0.0, 0.0], [0.0, 7.25006996337, 0.0], [-1.68402400284, 0.0, 32.790091785]])\n",
      "cell= Cell([[4.931005076, 0.0, 0.0], [0.0, 6.4510071147, 0.0], [-2.42099035518, 0.0, 4.8156984533]])\n",
      "cell= Cell([[5.757055056, 0.0, 0.0], [0.0, 10.1203961676, 0.0], [-1.03443340952, 0.0, 7.00854095524]])\n",
      "Required time for first 20 frames = 4.31s\n",
      "Estimated time for all frames = 12.73min\n"
     ]
    }
   ],
   "source": [
    "frames = read('../datasets/shiftml.xyz',':')\n",
    "\n",
    "# Define hyperparameters\n",
    "hypers = {\n",
    "    'smearing':1.5,\n",
    "    'max_radial': 1,\n",
    "    'max_angular':2,\n",
    "    'cutoff_radius':3.5,\n",
    "    'potential_exponent':1,\n",
    "    'compute_gradients':False,\n",
    "    'radial_basis': 'monomial',\n",
    "}\n",
    "num_strucs = len(frames)\n",
    "num_atoms = np.array([len(frame) for frame in frames])\n",
    "num_env = np.sum(num_atoms)\n",
    "print('\\nShiftML data set')\n",
    "print('Number of structures         = ', num_strucs)\n",
    "print('Total # of environments      = ', num_env)\n",
    "print('Average # of atoms per frame = ', np.round(num_env / len(frames),1))\n",
    "\n",
    "frames = frames[:20]\n",
    "print(f'Number of atoms of first {len(frames)} structures = ', [len(frame) for frame in frames])\n",
    "\n",
    "tstart = time.time()\n",
    "calculator = DensityProjectionCalculator(**hypers)\n",
    "calculator.transform(frames)\n",
    "features = calculator.features\n",
    "tend = time.time()\n",
    "dt = tend - tstart\n",
    "print(f'Required time for first {len(frames)} frames = {np.round(dt,2)}s')\n",
    "print(f'Estimated time for all frames = {np.round(dt/len(frames)*num_strucs/60,2)}min')"
   ]
  },
  {
   "cell_type": "markdown",
   "metadata": {},
   "source": [
    "Note for computational cost:\n",
    "\n",
    "version 1: BaTiO3: estimated total 24min, ShiftML: 62s for first 20 frames\n",
    "\n",
    "version 2: Precompute as much as possible using numpy arrays -> 18min, 51s\n",
    "            Some tests show that main loop is indeed the main contribution\n",
    "            to computational cost + fixed 1s contribution from splining in\n",
    "            the very beginning.\n",
    "\n",
    "version 3:"
   ]
  }
 ],
 "metadata": {
  "interpreter": {
   "hash": "aee8b7b246df8f9039afb4144a1f6fd8d2ca17a180786b69acc140d282b71a49"
  },
  "kernelspec": {
   "display_name": "Python 3",
   "language": "python",
   "name": "python3"
  },
  "language_info": {
   "codemirror_mode": {
    "name": "ipython",
    "version": 3
   },
   "file_extension": ".py",
   "mimetype": "text/x-python",
   "name": "python",
   "nbconvert_exporter": "python",
   "pygments_lexer": "ipython3",
   "version": "3.8.5"
  }
 },
 "nbformat": 4,
 "nbformat_minor": 4
}
