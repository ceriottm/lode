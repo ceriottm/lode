{
 "cells": [
  {
   "cell_type": "code",
   "execution_count": null,
   "metadata": {},
   "outputs": [],
   "source": [
    "%reload_ext autoreload\n",
    "%autoreload 2\n",
    "\n",
    "import time\n",
    "\n",
    "import numpy as np\n",
    "from ase.io import read\n",
    "from ase import Atoms\n",
    "\n",
    "# Imports specific to this \"library\"\n",
    "from pylode import DensityProjectionCalculator\n",
    "from pylode.utilities.generate_invariants import generate_degree2_invariants, generate_degree2_invariants_from_different"
   ]
  },
  {
   "cell_type": "markdown",
   "metadata": {},
   "source": [
    "## Generate Density Projection Coefficients"
   ]
  },
  {
   "cell_type": "code",
   "execution_count": null,
   "metadata": {},
   "outputs": [],
   "source": [
    "# Generate a simple data set containing 5 O2 molecules\n",
    "frames = []\n",
    "cell = np.eye(3) *12\n",
    "distances = np.linspace(1.5, 2., 3)\n",
    "for d in distances:\n",
    "    positions = [[1,1,1],[1,1,d+1]]\n",
    "    frame = Atoms('O2', positions=positions, cell=cell, pbc=True)\n",
    "    frames.append(frame)\n",
    "\n",
    "# Generate short range (SR) density projection coefficients\n",
    "# that use a Gaussian density (set potential_exponent = 0 in hypers)\n",
    "hypers = {\n",
    "    'smearing':1.5,\n",
    "    'max_angular':6,\n",
    "    'max_radial':6,\n",
    "    'cutoff_radius':5.,\n",
    "    'potential_exponent':0,\n",
    "    'radial_basis': 'gto',\n",
    "    'compute_gradients':False\n",
    "    }\n",
    "calculator_sr = DensityProjectionCalculator(**hypers)\n",
    "calculator_sr.transform(frames)\n",
    "descriptors_sr = calculator_sr.features\n",
    "\n",
    "# Generate long range (LR) density projection coefficients\n",
    "# that use a smeared Coulomb density (set potential_exponent = 1 in hypers)\n",
    "hypers = {\n",
    "    'smearing':1.5,\n",
    "    'max_angular':6,\n",
    "    'max_radial':1,\n",
    "    'cutoff_radius':5.,\n",
    "    'potential_exponent':1,\n",
    "    'radial_basis': 'monomial',\n",
    "    'compute_gradients':False\n",
    "    }\n",
    "calculator_lr = DensityProjectionCalculator(**hypers)\n",
    "calculator_lr.transform(frames)\n",
    "descriptors_lr = calculator_lr.features"
   ]
  },
  {
   "cell_type": "markdown",
   "metadata": {},
   "source": [
    "## Generate invariants from the projection coefficients"
   ]
  },
  {
   "cell_type": "code",
   "execution_count": null,
   "metadata": {},
   "outputs": [],
   "source": [
    "# SOAP vectors of the structures: obtained by taking quadratic invariants\n",
    "# combining SR times SR descriptors (rho x rho)\n",
    "invariants_soap = generate_degree2_invariants(descriptors_sr)\n",
    "\n",
    "# Pure LODE invariants: obtained by taking quadratic invariants\n",
    "# combining LR times LR descriptors (V x V)\n",
    "invariants_lode = generate_degree2_invariants(descriptors_lr)\n",
    "\n",
    "# Multiscale invariants: combine SR and LR descriptors (rho x V)\n",
    "invariants_multiscale = generate_degree2_invariants_from_different(descriptors_sr, descriptors_lr)"
   ]
  },
  {
   "cell_type": "markdown",
   "metadata": {},
   "source": [
    "## Test invariance"
   ]
  },
  {
   "cell_type": "code",
   "execution_count": null,
   "metadata": {},
   "outputs": [],
   "source": [
    "Nrot = 20\n",
    "np.random.seed(4823131)\n",
    "from numpy.testing import assert_allclose\n",
    "for i in range(Nrot):\n",
    "    # Generate random rotation matrix\n",
    "    from scipy.linalg import qr\n",
    "    M = np.random.normal(0,1,(3,3))\n",
    "    Q, R = qr(M)\n",
    "    assert_allclose(Q.T@Q, np.eye(3), rtol=1e-15, atol=1e-15)\n",
    "    # Generate rotated structures\n",
    "    frames_rotated = []\n",
    "    for d in distances:\n",
    "        positions = np.array([[1,1,1],[1,1,d+1]]) @ Q.T\n",
    "        cell_rot = cell @ Q.T\n",
    "        frame = Atoms('O2', positions=positions, cell=cell_rot, pbc=True)\n",
    "        frame.wrap()\n",
    "        frames_rotated.append(frame)\n",
    "        \n",
    "    calculator_rot = DensityProjectionCalculator(**hypers)\n",
    "    calculator_rot.transform(frames_rotated)\n",
    "    descriptors_rot = calculator_rot.features\n",
    "    invariants_rot = generate_degree2_invariants(descriptors_rot)\n",
    "    \n",
    "    diff = invariants_lode - invariants_rot\n",
    "    error = np.linalg.norm(diff) / np.linalg.norm(invariants_lode)\n",
    "    print(f'Deviation from perfect invariance = {error:4.2e}')\n",
    "    #if error > 1e-10: print(diff)"
   ]
  },
  {
   "cell_type": "markdown",
   "metadata": {},
   "source": [
    "## Reshape invariants into input for ML models"
   ]
  },
  {
   "cell_type": "code",
   "execution_count": null,
   "metadata": {},
   "outputs": [],
   "source": [
    "# Reshape invariants into the shape num_environments x num_features\n",
    "invariants_lode_reshaped = invariants_lode.reshape(len(invariants_lode),-1)"
   ]
  }
 ],
 "metadata": {
  "interpreter": {
   "hash": "aee8b7b246df8f9039afb4144a1f6fd8d2ca17a180786b69acc140d282b71a49"
  },
  "kernelspec": {
   "display_name": "Python 3",
   "language": "python",
   "name": "python3"
  },
  "language_info": {
   "codemirror_mode": {
    "name": "ipython",
    "version": 3
   },
   "file_extension": ".py",
   "mimetype": "text/x-python",
   "name": "python",
   "nbconvert_exporter": "python",
   "pygments_lexer": "ipython3",
   "version": "3.8.5"
  }
 },
 "nbformat": 4,
 "nbformat_minor": 4
}
