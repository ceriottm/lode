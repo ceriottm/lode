{
 "cells": [
  {
   "cell_type": "code",
   "execution_count": 1,
   "id": "neutral-danish",
   "metadata": {},
   "outputs": [],
   "source": [
    "%load_ext autoreload\n",
    "%autoreload 2"
   ]
  },
  {
   "cell_type": "code",
   "execution_count": null,
   "id": "quality-executive",
   "metadata": {},
   "outputs": [],
   "source": [
    "%matplotlib inline\n",
    "from matplotlib import pylab as plt\n",
    "\n",
    "import time\n",
    "import rascal\n",
    "\n",
    "import ase\n",
    "from ase import Atoms\n",
    "from ase.io import read, write\n",
    "from ase.build import make_supercell\n",
    "from ase.visualize import view\n",
    "import numpy as np\n",
    "\n",
    "# Descriptor related imports: compare the librascal and pyLODE versions of SOAP\n",
    "import rascal.representations\n",
    "import rascaline\n",
    "from pylode.lib.projection_coeffs import DensityProjectionCalculator"
   ]
  },
  {
   "cell_type": "markdown",
   "id": "useful-cache",
   "metadata": {},
   "source": [
    "# Introduction"
   ]
  },
  {
   "cell_type": "markdown",
   "id": "muslim-brain",
   "metadata": {},
   "source": [
    "This notebook is used to compare the features obtained from rascaline, librascal and pylode. The goal is to fully understand the details of the three implementations to make sure that the same coefficients from different codes agree."
   ]
  },
  {
   "cell_type": "markdown",
   "id": "buried-angola",
   "metadata": {},
   "source": [
    "# Compute the same features using 3 different libraries"
   ]
  },
  {
   "cell_type": "markdown",
   "id": "quantitative-state",
   "metadata": {},
   "source": [
    "### Define structure to be used for the comparison\n",
    "The main differences between librascal and the pyLODE implementation are the presence of a smooth cutoff function and the potentially different order in which neighbors are stored. We thus wish to generate structures for which these two effects do not alter the coefficients too much. For this task, we use clusters of Oxygen atoms for which all atoms have a mutual distance of less than 3A. Then, even for a relatively large smearing of 1.5A, the atomic densities will be reasonably contained within a ball of cutoff radius 6 that will also be used for the cutoff."
   ]
  },
  {
   "cell_type": "code",
   "execution_count": null,
   "id": "critical-territory",
   "metadata": {},
   "outputs": [],
   "source": [
    "frames = []\n",
    "cell = np.eye(3) * 16\n",
    "distances = np.linspace(1., 2.5, 10)\n",
    "for d in distances:\n",
    "    positions = [[1,1,1],[1+0.1*d,1+d,d+1]]\n",
    "    positions = [[1,1,1],[1,1,1+d]]\n",
    "    frame = Atoms('O2', positions=positions, cell=cell, pbc=True)\n",
    "    frames.append(frame)"
   ]
  },
  {
   "cell_type": "markdown",
   "id": "intimate-india",
   "metadata": {},
   "source": [
    "### Define common hyperparameters"
   ]
  },
  {
   "cell_type": "code",
   "execution_count": null,
   "id": "greatest-check",
   "metadata": {},
   "outputs": [],
   "source": [
    "nmax = 5\n",
    "lmax = 2\n",
    "rcut = 6.\n",
    "smearing = 0.5"
   ]
  },
  {
   "cell_type": "markdown",
   "id": "opposed-opening",
   "metadata": {},
   "source": [
    "### Get the features from librascal"
   ]
  },
  {
   "cell_type": "code",
   "execution_count": null,
   "id": "novel-ladder",
   "metadata": {},
   "outputs": [],
   "source": [
    "# define the parameters of the spherical expansion\n",
    "hypers = dict(interaction_cutoff=rcut, \n",
    "              max_radial=nmax, \n",
    "              max_angular=lmax, \n",
    "              gaussian_sigma_constant=smearing,\n",
    "              gaussian_sigma_type=\"Constant\",\n",
    "              cutoff_smooth_width=0.1,\n",
    "              radial_basis=\"GTO\",\n",
    "              compute_gradients=False,\n",
    "              expansion_by_species_method='structure wise',\n",
    "              )\n",
    "\n",
    "calculator_librascal = rascal.representations.SphericalExpansion(**hypers)\n",
    "# compute the representation of all the structures\n",
    "features_librascal = calculator_librascal.transform(frames).get_features(calculator_librascal)"
   ]
  },
  {
   "cell_type": "markdown",
   "id": "honey-blank",
   "metadata": {},
   "source": [
    "### Get the features from pyLODE"
   ]
  },
  {
   "cell_type": "code",
   "execution_count": null,
   "id": "rural-advantage",
   "metadata": {},
   "outputs": [],
   "source": [
    "hypers = {\n",
    "    'smearing':smearing,\n",
    "    'max_angular':lmax,\n",
    "    'max_radial':nmax,\n",
    "    'cutoff_radius':rcut,\n",
    "    'potential_exponent':0,\n",
    "    'radial_basis': 'gto',\n",
    "    'compute_gradients':False,\n",
    "    }\n",
    "\n",
    "calculator_pylode = DensityProjectionCalculator(**hypers)\n",
    "calculator_pylode.transform(frames)\n",
    "features_pylode = calculator_pylode.features"
   ]
  },
  {
   "cell_type": "markdown",
   "id": "middle-bronze",
   "metadata": {},
   "source": [
    "### Get the features from Rascaline"
   ]
  },
  {
   "cell_type": "code",
   "execution_count": null,
   "id": "bright-cheat",
   "metadata": {},
   "outputs": [],
   "source": [
    "HYPER_PARAMETERS = {\n",
    "    \"cutoff\": rcut,\n",
    "    \"max_radial\": nmax,\n",
    "    \"max_angular\": lmax,\n",
    "    \"atomic_gaussian_width\": smearing,\n",
    "    \"gradients\": False,\n",
    "    \"radial_basis\": {\n",
    "        \"Gto\": {},\n",
    "    },\n",
    "    \"cutoff_function\": {\n",
    "        \"Step\": {\"width\": 1e-3},\n",
    "    },\n",
    "}\n",
    "\n",
    "calculator_rascaline = rascaline.SphericalExpansion(**HYPER_PARAMETERS)\n",
    "\n",
    "# run the actual calculation\n",
    "descriptor_rascaline = calculator_rascaline.compute(frames)"
   ]
  },
  {
   "cell_type": "code",
   "execution_count": null,
   "id": "muslim-israel",
   "metadata": {},
   "outputs": [],
   "source": [
    "print(descriptor_rascaline.values[0].reshape(((lmax+1)**2, nmax)).T / 10.962374348347298)"
   ]
  },
  {
   "cell_type": "code",
   "execution_count": null,
   "id": "exterior-approval",
   "metadata": {},
   "outputs": [],
   "source": [
    "print(features_librascal[0].reshape((nmax,(lmax+1)**2)))"
   ]
  },
  {
   "cell_type": "code",
   "execution_count": null,
   "id": "dependent-thriller",
   "metadata": {},
   "outputs": [],
   "source": [
    "print(np.round(features_pylode,13)[0,0])"
   ]
  },
  {
   "cell_type": "code",
   "execution_count": null,
   "id": "quick-retreat",
   "metadata": {},
   "outputs": [],
   "source": [
    "10.962374348347298 / np.sqrt(2)"
   ]
  },
  {
   "cell_type": "markdown",
   "id": "decimal-franklin",
   "metadata": {},
   "source": [
    "# Debugging: Compare coeffs with semi-analytical results"
   ]
  },
  {
   "cell_type": "markdown",
   "id": "advanced-amplifier",
   "metadata": {},
   "source": [
    "### Generate orthonormalization matrix"
   ]
  },
  {
   "cell_type": "code",
   "execution_count": null,
   "id": "concrete-ridge",
   "metadata": {},
   "outputs": [],
   "source": [
    "from scipy.integrate import quad\n",
    "from pylode.lib.radial_basis import innerprod"
   ]
  },
  {
   "cell_type": "code",
   "execution_count": null,
   "id": "dressed-finding",
   "metadata": {},
   "outputs": [],
   "source": [
    "Nradial = 1000\n",
    "sigma = np.ones(nmax, dtype=float)\n",
    "for i in range(1, nmax):\n",
    "    sigma[i] = np.sqrt(i)\n",
    "sigma *= rcut / nmax\n",
    "\n",
    "# Define primitive GTO-like radial basis functions\n",
    "f_gto = lambda n, x: x**n * np.exp(-0.5 * (x / sigma[n])**2)\n",
    "xx = np.linspace(0, rcut * 2.5, Nradial)\n",
    "R_n = np.array([f_gto(n, xx) for n in range(nmax)])\n",
    "\n",
    "# Orthonormalize\n",
    "innerprods = np.zeros((nmax, nmax))\n",
    "for i in range(nmax):\n",
    "    for j in range(nmax):\n",
    "        innerprods[i, j] = innerprod(xx, R_n[i], R_n[j])\n",
    "eigvals, eigvecs = np.linalg.eigh(innerprods)\n",
    "transformation = eigvecs @ np.diag(np.sqrt(1. / eigvals)) @ eigvecs.T"
   ]
  },
  {
   "cell_type": "markdown",
   "id": "square-fossil",
   "metadata": {},
   "source": [
    "### Compute the coefficients for $l=1$ starting from the analytical formula"
   ]
  },
  {
   "cell_type": "code",
   "execution_count": null,
   "id": "considered-glucose",
   "metadata": {},
   "outputs": [],
   "source": [
    "def compute_coefficient(dist = 2.0):\n",
    "    prefac = np.sqrt(1.5) / (2 * np.pi * smearing**3)\n",
    "    prefac *= np.exp(-0.5 * d**2 / smearing**2)\n",
    "    \n",
    "    # Define sigma_n for each radial basis function\n",
    "    sigma_radial = np.ones(nmax, dtype=float)\n",
    "    for i in range(1,nmax):\n",
    "        sigma_radial[i] = np.sqrt(i)\n",
    "    sigma_radial *= rcut/nmax\n",
    "\n",
    "    # Compute coefficients\n",
    "    coeffs = np.zeros((nmax,))\n",
    "    for n in range(nmax):\n",
    "        # Start defining functions appearing in integrand\n",
    "        R_n = lambda r: r**n * np.exp(-0.5*r**2/smearing**2)\n",
    "        gaussian = lambda r: np.exp(-0.5*r**2/sigma_radial[n]**2)\n",
    "        reff = lambda r: d*r/smearing**2\n",
    "        hyperbolic = lambda r: 2*(reff(r)*np.cosh(reff(r)) + np.sinh(reff(r)))/reff(r)**2\n",
    "        integrand = lambda r: r**2 * R_n(r) * gaussian(r) * hyperbolic(r)\n",
    "        \n",
    "        # Output\n",
    "        eps = 1e-8\n",
    "        coeffs[n] = prefac * quad(integrand, eps, 20)[0]\n",
    "    \n",
    "    return coeffs"
   ]
  },
  {
   "cell_type": "code",
   "execution_count": null,
   "id": "tamil-algebra",
   "metadata": {},
   "outputs": [],
   "source": [
    "features_explicit = np.zeros((len(distances), nmax))\n",
    "for i, d in enumerate(distances):\n",
    "    features_explicit[i] = transformation @ compute_coefficient(dist = d)"
   ]
  },
  {
   "cell_type": "code",
   "execution_count": null,
   "id": "charitable-depth",
   "metadata": {},
   "outputs": [],
   "source": [
    "print(features_explicit)"
   ]
  },
  {
   "cell_type": "markdown",
   "id": "academic-principal",
   "metadata": {},
   "source": [
    "### Get the $l=1$ part of the features of the three codes"
   ]
  },
  {
   "cell_type": "code",
   "execution_count": null,
   "id": "welcome-square",
   "metadata": {},
   "outputs": [],
   "source": [
    "print('Shapes of feature vectors')\n",
    "print('rascaline', descriptor_rascaline.values.shape)\n",
    "print('librascal', features_librascal.shape)"
   ]
  },
  {
   "cell_type": "code",
   "execution_count": null,
   "id": "subtle-yacht",
   "metadata": {},
   "outputs": [],
   "source": [
    "features_L1_rascaline = descriptor_rascaline.values[0::2, 2*nmax:3*nmax] / 10.962374348347298 "
   ]
  },
  {
   "cell_type": "code",
   "execution_count": null,
   "id": "historic-calcium",
   "metadata": {},
   "outputs": [],
   "source": [
    "features_L1_librascal = features_librascal[0::2, 2::(lmax+1)**2]"
   ]
  },
  {
   "cell_type": "code",
   "execution_count": null,
   "id": "drawn-medium",
   "metadata": {},
   "outputs": [],
   "source": [
    "print(np.round(features_L1_rascaline, 6))"
   ]
  },
  {
   "cell_type": "code",
   "execution_count": null,
   "id": "drawn-fabric",
   "metadata": {},
   "outputs": [],
   "source": [
    "ratios = np.round(features_L1_rascaline / features_explicit, 5)\n",
    "print(ratios)"
   ]
  },
  {
   "cell_type": "code",
   "execution_count": null,
   "id": "soviet-walter",
   "metadata": {},
   "outputs": [],
   "source": [
    "hypers_pylode_primitive = {\n",
    "    'smearing':smearing,\n",
    "    'max_angular':lmax,\n",
    "    'max_radial':nmax,\n",
    "    'cutoff_radius':rcut,\n",
    "    'potential_exponent':0,\n",
    "    'radial_basis': 'gto_primitive',\n",
    "    'compute_gradients':False,\n",
    "    }\n",
    "\n",
    "calculator_pylode_primitive = DensityProjectionCalculator(**hypers_pylode_primitive)\n",
    "calculator_pylode_primitive.transform(frames)\n",
    "features_pylode_primitive = np.round(calculator_pylode_primitive.features, 15)"
   ]
  },
  {
   "cell_type": "code",
   "execution_count": null,
   "id": "another-poetry",
   "metadata": {},
   "outputs": [],
   "source": [
    "features_pylode_primitive.shape"
   ]
  },
  {
   "cell_type": "code",
   "execution_count": null,
   "id": "located-concert",
   "metadata": {},
   "outputs": [],
   "source": [
    "features_pylode_primitive[0::2,0,:,2]"
   ]
  },
  {
   "cell_type": "code",
   "execution_count": null,
   "id": "advised-template",
   "metadata": {},
   "outputs": [],
   "source": [
    "features_explicit"
   ]
  },
  {
   "cell_type": "code",
   "execution_count": null,
   "id": "fitting-remove",
   "metadata": {},
   "outputs": [],
   "source": [
    "features_explicit / features_pylode_primitive[1::2,0,:,2]"
   ]
  }
 ],
 "metadata": {
  "kernelspec": {
   "display_name": "Python 3",
   "language": "python",
   "name": "python3"
  },
  "language_info": {
   "codemirror_mode": {
    "name": "ipython",
    "version": 3
   },
   "file_extension": ".py",
   "mimetype": "text/x-python",
   "name": "python",
   "nbconvert_exporter": "python",
   "pygments_lexer": "ipython3",
   "version": "3.8.5"
  }
 },
 "nbformat": 4,
 "nbformat_minor": 5
}
