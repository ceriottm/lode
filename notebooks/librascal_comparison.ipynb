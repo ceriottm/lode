{
 "cells": [
  {
   "cell_type": "code",
   "execution_count": 1,
   "id": "finite-internet",
   "metadata": {},
   "outputs": [],
   "source": [
    "%load_ext autoreload\n",
    "%autoreload 2"
   ]
  },
  {
   "cell_type": "code",
   "execution_count": 2,
   "id": "functioning-prince",
   "metadata": {},
   "outputs": [],
   "source": [
    "%matplotlib inline\n",
    "from matplotlib import pylab as plt\n",
    "\n",
    "import time\n",
    "import rascal\n",
    "\n",
    "import ase\n",
    "from ase import Atoms\n",
    "from ase.io import read, write\n",
    "from ase.build import make_supercell\n",
    "from ase.visualize import view\n",
    "import numpy as np\n",
    "\n",
    "# Descriptor related imports: compare the librascal and pyLODE versions of SOAP\n",
    "import rascal.representations\n",
    "import rascaline\n",
    "from pylode.lib.projection_coeffs import DensityProjectionCalculator"
   ]
  },
  {
   "cell_type": "markdown",
   "id": "nonprofit-sacramento",
   "metadata": {},
   "source": [
    "# Introduction"
   ]
  },
  {
   "cell_type": "markdown",
   "id": "automated-scanner",
   "metadata": {},
   "source": [
    "This notebook is used to compare the features obtained from rascaline, librascal and pylode. The goal is to fully understand the details of the three implementations to make sure that the same coefficients from different codes agree."
   ]
  },
  {
   "cell_type": "markdown",
   "id": "second-ministry",
   "metadata": {},
   "source": [
    "# Compute the same features using 3 different libraries"
   ]
  },
  {
   "cell_type": "markdown",
   "id": "buried-protein",
   "metadata": {},
   "source": [
    "### Define structure to be used for the comparison\n",
    "The main differences between librascal and the pyLODE implementation are the presence of a smooth cutoff function and the potentially different order in which neighbors are stored. We thus wish to generate structures for which these two effects do not alter the coefficients too much. For this task, we use clusters of Oxygen atoms for which all atoms have a mutual distance of less than 3A. Then, even for a relatively large smearing of 1.5A, the atomic densities will be reasonably contained within a ball of cutoff radius 6 that will also be used for the cutoff."
   ]
  },
  {
   "cell_type": "code",
   "execution_count": 3,
   "id": "minute-aquatic",
   "metadata": {},
   "outputs": [],
   "source": [
    "frames = []\n",
    "cell = np.eye(3) * 16\n",
    "distances = np.linspace(1., 2.5, 10)\n",
    "for d in distances:\n",
    "    positions = [[1,1,1],[1+0.1*d,1+d,d+1]]\n",
    "    positions = [[1,1,1],[1,1,1+d]]\n",
    "    frame = Atoms('O2', positions=positions, cell=cell, pbc=True)\n",
    "    frames.append(frame)"
   ]
  },
  {
   "cell_type": "markdown",
   "id": "latest-meaning",
   "metadata": {},
   "source": [
    "### Define common hyperparameters"
   ]
  },
  {
   "cell_type": "code",
   "execution_count": 4,
   "id": "complimentary-protein",
   "metadata": {},
   "outputs": [],
   "source": [
    "nmax = 5\n",
    "lmax = 2\n",
    "rcut = 6.\n",
    "smearing = 0.5"
   ]
  },
  {
   "cell_type": "markdown",
   "id": "induced-blame",
   "metadata": {},
   "source": [
    "### Get the features from librascal"
   ]
  },
  {
   "cell_type": "code",
   "execution_count": 5,
   "id": "greater-designation",
   "metadata": {},
   "outputs": [],
   "source": [
    "# define the parameters of the spherical expansion\n",
    "hypers = dict(interaction_cutoff=rcut, \n",
    "              max_radial=nmax, \n",
    "              max_angular=lmax, \n",
    "              gaussian_sigma_constant=smearing,\n",
    "              gaussian_sigma_type=\"Constant\",\n",
    "              cutoff_smooth_width=0.1,\n",
    "              radial_basis=\"GTO\",\n",
    "              compute_gradients=False,\n",
    "              expansion_by_species_method='structure wise',\n",
    "              )\n",
    "\n",
    "calculator_librascal = rascal.representations.SphericalExpansion(**hypers)\n",
    "# compute the representation of all the structures\n",
    "features_librascal = calculator_librascal.transform(frames).get_features(calculator_librascal)"
   ]
  },
  {
   "cell_type": "markdown",
   "id": "bright-ethics",
   "metadata": {},
   "source": [
    "### Get the features from pyLODE"
   ]
  },
  {
   "cell_type": "code",
   "execution_count": 6,
   "id": "distinct-attribute",
   "metadata": {},
   "outputs": [],
   "source": [
    "hypers = {\n",
    "    'smearing':smearing,\n",
    "    'max_angular':lmax,\n",
    "    'max_radial':nmax,\n",
    "    'cutoff_radius':rcut,\n",
    "    'potential_exponent':0,\n",
    "    'radial_basis': 'gto',\n",
    "    'compute_gradients':False,\n",
    "    }\n",
    "\n",
    "calculator_pylode = DensityProjectionCalculator(**hypers)\n",
    "calculator_pylode.transform(frames)\n",
    "features_pylode = calculator_pylode.features"
   ]
  },
  {
   "cell_type": "markdown",
   "id": "effective-central",
   "metadata": {},
   "source": [
    "### Get the features from Rascaline"
   ]
  },
  {
   "cell_type": "code",
   "execution_count": 7,
   "id": "generic-facing",
   "metadata": {},
   "outputs": [],
   "source": [
    "HYPER_PARAMETERS = {\n",
    "    \"cutoff\": rcut,\n",
    "    \"max_radial\": nmax,\n",
    "    \"max_angular\": lmax,\n",
    "    \"atomic_gaussian_width\": smearing,\n",
    "    \"gradients\": False,\n",
    "    \"radial_basis\": {\n",
    "        \"Gto\": {},\n",
    "    },\n",
    "    \"cutoff_function\": {\n",
    "        \"Step\": {\"width\": 1e-3},\n",
    "    },\n",
    "}\n",
    "\n",
    "calculator_rascaline = rascaline.SphericalExpansion(**HYPER_PARAMETERS)\n",
    "\n",
    "# run the actual calculation\n",
    "descriptor_rascaline = calculator_rascaline.compute(frames)"
   ]
  },
  {
   "cell_type": "code",
   "execution_count": 8,
   "id": "united-agent",
   "metadata": {},
   "outputs": [
    {
     "name": "stdout",
     "output_type": "stream",
     "text": [
      "[[ 0.05147185  0.          0.02122093  0.          0.          0.\n",
      "   0.01512606  0.          0.        ]\n",
      " [-0.00546906  0.          0.00777222  0.          0.          0.\n",
      "   0.00809737  0.          0.        ]\n",
      " [-0.00079393  0.         -0.00222316  0.          0.          0.\n",
      "  -0.00188237  0.          0.        ]\n",
      " [-0.00095734  0.          0.00110087  0.          0.          0.\n",
      "   0.00109044  0.          0.        ]\n",
      " [ 0.00070372  0.         -0.00020696  0.          0.          0.\n",
      "  -0.00024995  0.          0.        ]]\n"
     ]
    }
   ],
   "source": [
    "print(descriptor_rascaline.values[0].reshape(((lmax+1)**2, nmax)).T / 10.962374348347298)"
   ]
  },
  {
   "cell_type": "code",
   "execution_count": 9,
   "id": "unknown-disability",
   "metadata": {},
   "outputs": [
    {
     "name": "stdout",
     "output_type": "stream",
     "text": [
      "[[ 0.05147185  0.          0.02122093  0.          0.          0.\n",
      "   0.01512605  0.          0.        ]\n",
      " [-0.00546906  0.          0.00777222  0.          0.          0.\n",
      "   0.00809737  0.          0.        ]\n",
      " [-0.00079393  0.         -0.00222316  0.          0.          0.\n",
      "  -0.00188237  0.          0.        ]\n",
      " [-0.00095734  0.          0.00110087  0.          0.          0.\n",
      "   0.00109044  0.          0.        ]\n",
      " [ 0.00070372  0.         -0.00020696  0.          0.          0.\n",
      "  -0.00024995  0.          0.        ]]\n"
     ]
    }
   ],
   "source": [
    "print(features_librascal[0].reshape((nmax,(lmax+1)**2)))"
   ]
  },
  {
   "cell_type": "code",
   "execution_count": 10,
   "id": "sophisticated-shame",
   "metadata": {},
   "outputs": [
    {
     "name": "stdout",
     "output_type": "stream",
     "text": [
      "[[ 0.58296935 -0.         -0.21830123 -0.          0.          0.\n",
      "   0.14991096  0.          0.        ]\n",
      " [ 0.0413589  -0.         -0.1277388  -0.          0.         -0.\n",
      "   0.11816994  0.         -0.        ]\n",
      " [ 0.03932226 -0.         -0.04570556  0.         -0.          0.\n",
      "   0.04204833 -0.          0.        ]\n",
      " [ 0.00961505 -0.         -0.01020576 -0.          0.          0.\n",
      "   0.00930852  0.         -0.        ]\n",
      " [ 0.00081809  0.         -0.00107424  0.         -0.          0.\n",
      "   0.00102854  0.         -0.        ]]\n"
     ]
    }
   ],
   "source": [
    "print(np.round(features_pylode,13)[0,0])"
   ]
  },
  {
   "cell_type": "code",
   "execution_count": 11,
   "id": "hungarian-action",
   "metadata": {},
   "outputs": [
    {
     "data": {
      "text/plain": [
       "7.751569239621834"
      ]
     },
     "execution_count": 11,
     "metadata": {},
     "output_type": "execute_result"
    }
   ],
   "source": [
    "10.962374348347298 / np.sqrt(2)"
   ]
  },
  {
   "cell_type": "markdown",
   "id": "deadly-preservation",
   "metadata": {},
   "source": [
    "# Debugging: Compare coeffs with semi-analytical results"
   ]
  },
  {
   "cell_type": "markdown",
   "id": "adapted-prescription",
   "metadata": {},
   "source": [
    "## Compute the coefficients for $l=1$ using 4 different approaches"
   ]
  },
  {
   "cell_type": "markdown",
   "id": "gothic-affairs",
   "metadata": {},
   "source": [
    "To make sure that we understand every single aspect of the codes including all the prefactors and conventions, we compute the exact coefficients we would expect from an Oxygen molecule oriented along the z-axis. The computations are done using three (four) different methods: a fully analytical approach applicable to all $l$, a semi-analytical approach in which the final radial integral is evaluated numerically also valid for all $l$, and finally an explicit formula that was obtained directly for the special case $l=1$ starting at the very definition. For convenience, we also include the complete analytical formula for the special case $l=1$."
   ]
  },
  {
   "cell_type": "markdown",
   "id": "sticky-preference",
   "metadata": {},
   "source": [
    "### Generate orthonormalization matrix"
   ]
  },
  {
   "cell_type": "code",
   "execution_count": 12,
   "id": "prescription-steering",
   "metadata": {},
   "outputs": [],
   "source": [
    "from scipy.integrate import quad\n",
    "from pylode.lib.radial_basis import innerprod\n",
    "from scipy.special import gamma, hyp1f1, sph_harm, iv"
   ]
  },
  {
   "cell_type": "code",
   "execution_count": 13,
   "id": "mineral-hospital",
   "metadata": {},
   "outputs": [],
   "source": [
    "Nradial = 1000\n",
    "sigma = np.ones(nmax, dtype=float)\n",
    "for i in range(1, nmax):\n",
    "    sigma[i] = np.sqrt(i)\n",
    "sigma *= rcut / nmax\n",
    "\n",
    "# Define primitive GTO-like radial basis functions\n",
    "f_gto = lambda n, x: x**n * np.exp(-0.5 * (x / sigma[n])**2)\n",
    "xx = np.linspace(0, rcut * 2.5, Nradial)\n",
    "R_n = np.array([f_gto(n, xx) for n in range(nmax)])\n",
    "\n",
    "# Orthonormalize\n",
    "innerprods = np.zeros((nmax, nmax))\n",
    "for i in range(nmax):\n",
    "    for j in range(nmax):\n",
    "        innerprods[i, j] = innerprod(xx, R_n[i], R_n[j])\n",
    "eigvals, eigvecs = np.linalg.eigh(innerprods)\n",
    "transformation = eigvecs @ np.diag(np.sqrt(1. / eigvals)) @ eigvecs.T"
   ]
  },
  {
   "cell_type": "markdown",
   "id": "numerical-collector",
   "metadata": {},
   "source": [
    "### Fully analytical formula for $l=1$"
   ]
  },
  {
   "cell_type": "code",
   "execution_count": 14,
   "id": "every-disease",
   "metadata": {},
   "outputs": [],
   "source": [
    "def coefficients_analytical_l1(nmax, d):\n",
    "    # Define auxilary quantities and prefactors\n",
    "    a = 1. / (2 * smearing**2)\n",
    "    lplus3half = 2.5\n",
    "    prefac_global = np.pi * np.sqrt(3/4) * a / gamma(lplus3half) * d * np.exp(-a*d**2)\n",
    "    prefac_global /= (2 * np.pi * smearing**2)**1.5\n",
    "    \n",
    "    # Start main loop\n",
    "    featvec = np.zeros((nmax))\n",
    "    for n in range(nmax):\n",
    "        # Compute contribution for primitive GTO function\n",
    "        nlplus3half = (4 + n) / 2\n",
    "        b = 1. / (2 * sigma[n]**2)\n",
    "        prefac_n_dep = gamma(nlplus3half) / (a+b)**nlplus3half\n",
    "        hyp = hyp1f1(nlplus3half, lplus3half, a**2*d**2/(a+b))\n",
    "        featvec[n] = prefac_n_dep * hyp\n",
    "\n",
    "    return prefac_global * (transformation @ featvec)"
   ]
  },
  {
   "cell_type": "markdown",
   "id": "numerous-charter",
   "metadata": {},
   "source": [
    "### Fully analytical formula for general $l$"
   ]
  },
  {
   "cell_type": "code",
   "execution_count": 15,
   "id": "empty-annotation",
   "metadata": {},
   "outputs": [],
   "source": [
    "def coefficients_analytical_general_l(nmax, d, l):\n",
    "    # Define auxilary quantities and prefactors\n",
    "    a = 1. / (2 * smearing**2)\n",
    "    lplus3half = l + 1.5\n",
    "    prefac_global = np.pi**1.5 * sph_harm(0, l, 0, 0).real * a / gamma(lplus3half)\n",
    "    prefac_global *= d * np.exp(-a*d**2)\n",
    "    prefac_global /= (2 * np.pi * smearing**2)**1.5\n",
    "\n",
    "    # Start main loop\n",
    "    featvec = np.zeros((nmax))\n",
    "    for n in range(nmax):\n",
    "        nlplus3half = (3 + n + l) / 2\n",
    "        b = 1. / (2 * sigma[n]**2)\n",
    "        prefac_n_dep = gamma(nlplus3half) / (a+b)**nlplus3half\n",
    "        hyp = hyp1f1(nlplus3half, lplus3half, a**2*d**2/(a+b))\n",
    "        featvec[n] = prefac_n_dep * hyp\n",
    "\n",
    "    return prefac_global * (transformation @ featvec)   "
   ]
  },
  {
   "cell_type": "markdown",
   "id": "saved-quarterly",
   "metadata": {},
   "source": [
    "### Semianalytical (final integral performed numerically) formula for general l"
   ]
  },
  {
   "cell_type": "code",
   "execution_count": 111,
   "id": "organized-report",
   "metadata": {},
   "outputs": [],
   "source": [
    "def coefficients_semianalytical_general_l(nmax, d, l):\n",
    "    # Prefactor\n",
    "    a = 1. / (2 * smearing**2)\n",
    "    prefac_global = 4*np.pi * sph_harm(0, l, 0, 0).real * np.exp(-a*d**2)\n",
    "    prefac_global /= (2 * np.pi * smearing**2)**1.5\n",
    "\n",
    "    # Main loop performing the numerical integration\n",
    "    featvec = np.zeros((nmax))\n",
    "    for n in range(nmax):\n",
    "        # Define the integrand consisting of a power-law, Gaussian and Bessel part\n",
    "        b = 1. / (2 * sigma[n]**2)\n",
    "        gaussian = lambda r: np.exp(-(a+b)*r**2)\n",
    "        power = lambda r: r**(1+n)\n",
    "        mod_sph_bessel = lambda x: np.sqrt(np.pi/2/x) * iv(l + 0.5, x)\n",
    "        bessel = lambda r: mod_sph_bessel(2*a*d*r)\n",
    "        integrand = lambda r: power(r) * gaussian(r) * bessel(r)\n",
    "        \n",
    "        # Numerical integration\n",
    "        eps = 1e-10\n",
    "        featvec[n] = quad(integrand, eps, 10*rcut)[0]\n",
    "\n",
    "    return prefac_global * (transformation @ featvec)   "
   ]
  },
  {
   "cell_type": "markdown",
   "id": "working-constitutional",
   "metadata": {},
   "source": [
    "### Semianalytical (final integral performed numerically) formula for $l=1$"
   ]
  },
  {
   "cell_type": "code",
   "execution_count": 69,
   "id": "theoretical-museum",
   "metadata": {},
   "outputs": [],
   "source": [
    "def coefficients_semianalytical_l1(nmax, d):\n",
    "    # Prefactor\n",
    "    a = 1. / (2 * smearing**2)\n",
    "    prefac = np.sqrt(1.5) / (2 * np.pi * smearing**3)\n",
    "    prefac *= np.exp(-a*d**2)\n",
    "    \n",
    "    # Start main loop\n",
    "    featvec = np.zeros((nmax,))\n",
    "    for n in range(nmax):\n",
    "        # Start defining functions appearing in integrand\n",
    "        b = 1. / (2 * sigma[n]**2)\n",
    "        gaussian = lambda r: np.exp(-(a+b)*r**2)\n",
    "        power = lambda r: r**(2+n)\n",
    "        mod_sph_bessel = lambda x: (x*np.cosh(x) - np.sinh(x))/x**2\n",
    "        bessel = lambda r: mod_sph_bessel(2*a*d*r)\n",
    "\n",
    "        integrand = lambda r: power(r) * gaussian(r) * bessel(r) * 2\n",
    "        \n",
    "        # Numerical Integration\n",
    "        featvec[n] = quad(integrand, 1e-10, 10 * rcut)[0]\n",
    "    \n",
    "    return prefac * (transformation @ featvec)"
   ]
  },
  {
   "cell_type": "markdown",
   "id": "august-hormone",
   "metadata": {},
   "source": [
    "### Compare the coefficients obtained using different methods"
   ]
  },
  {
   "cell_type": "code",
   "execution_count": 112,
   "id": "russian-kentucky",
   "metadata": {},
   "outputs": [],
   "source": [
    "features_analytical_l1 = np.zeros((len(distances), nmax))\n",
    "features_semianalytical_l1 = np.zeros((len(distances), nmax))\n",
    "features_analytical_general = np.zeros((len(distances), nmax))\n",
    "features_semianalytical_general = np.zeros((len(distances), nmax))\n",
    "\n",
    "for i_dist, d in enumerate(distances):\n",
    "    features_analytical_l1[i_dist] = coefficients_analytical_l1(nmax, d)\n",
    "    features_semianalytical_l1[i_dist] = coefficients_semianalytical_l1(nmax, d)\n",
    "    features_analytical_general[i_dist] = coefficients_analytical_general_l(nmax, d, l=1)\n",
    "    features_semianalytical_general[i_dist] = coefficients_semianalytical_general_l(nmax, d, l=1)"
   ]
  },
  {
   "cell_type": "code",
   "execution_count": 113,
   "id": "ignored-possible",
   "metadata": {},
   "outputs": [
    {
     "ename": "AssertionError",
     "evalue": "",
     "output_type": "error",
     "traceback": [
      "\u001b[0;31m---------------------------------------------------------------------------\u001b[0m",
      "\u001b[0;31mAssertionError\u001b[0m                            Traceback (most recent call last)",
      "\u001b[0;32m<ipython-input-113-5d7e50e1a7c3>\u001b[0m in \u001b[0;36m<module>\u001b[0;34m\u001b[0m\n\u001b[1;32m      3\u001b[0m \u001b[0mdelta3\u001b[0m \u001b[0;34m=\u001b[0m \u001b[0mnp\u001b[0m\u001b[0;34m.\u001b[0m\u001b[0mlinalg\u001b[0m\u001b[0;34m.\u001b[0m\u001b[0mnorm\u001b[0m\u001b[0;34m(\u001b[0m\u001b[0mfeatures_semianalytical_l1\u001b[0m \u001b[0;34m-\u001b[0m \u001b[0mfeatures_semianalytical_general\u001b[0m\u001b[0;34m)\u001b[0m\u001b[0;34m\u001b[0m\u001b[0;34m\u001b[0m\u001b[0m\n\u001b[1;32m      4\u001b[0m \u001b[0;32massert\u001b[0m \u001b[0mdelta1\u001b[0m \u001b[0;34m<\u001b[0m \u001b[0;36m1e-14\u001b[0m\u001b[0;34m\u001b[0m\u001b[0;34m\u001b[0m\u001b[0m\n\u001b[0;32m----> 5\u001b[0;31m \u001b[0;32massert\u001b[0m \u001b[0mdelta2\u001b[0m \u001b[0;34m<\u001b[0m \u001b[0;36m1e-14\u001b[0m\u001b[0;34m\u001b[0m\u001b[0;34m\u001b[0m\u001b[0m\n\u001b[0m\u001b[1;32m      6\u001b[0m \u001b[0;32massert\u001b[0m \u001b[0mdelta3\u001b[0m \u001b[0;34m<\u001b[0m \u001b[0;36m1e-14\u001b[0m\u001b[0;34m\u001b[0m\u001b[0;34m\u001b[0m\u001b[0m\n",
      "\u001b[0;31mAssertionError\u001b[0m: "
     ]
    }
   ],
   "source": [
    "delta1 = np.linalg.norm(features_analytical_l1 - features_analytical_general)\n",
    "delta2 = np.linalg.norm(features_analytical_general - features_semianalytical_general)\n",
    "delta3 = np.linalg.norm(features_semianalytical_l1 - features_semianalytical_general)\n",
    "assert delta1 < 1e-14\n",
    "assert delta2 < 1e-14\n",
    "assert delta3 < 1e-14"
   ]
  },
  {
   "cell_type": "markdown",
   "id": "certified-concentrate",
   "metadata": {},
   "source": [
    "## Compare the exact values with those obtained from the three codes"
   ]
  },
  {
   "cell_type": "markdown",
   "id": "impossible-warrior",
   "metadata": {},
   "source": [
    "The exact coefficients obtained using the analytical formula are now compared to those obtained from the three codes."
   ]
  },
  {
   "cell_type": "markdown",
   "id": "temporal-integration",
   "metadata": {},
   "source": [
    "### Get the $l=1$ part of the features of the three codes"
   ]
  },
  {
   "cell_type": "code",
   "execution_count": 85,
   "id": "received-asset",
   "metadata": {},
   "outputs": [
    {
     "name": "stdout",
     "output_type": "stream",
     "text": [
      "Shapes of feature vectors\n",
      "rascaline (20, 45)\n",
      "librascal (20, 45)\n"
     ]
    }
   ],
   "source": [
    "print('Shapes of feature vectors')\n",
    "print('rascaline', descriptor_rascaline.values.shape)\n",
    "print('librascal', features_librascal.shape)"
   ]
  },
  {
   "cell_type": "code",
   "execution_count": 90,
   "id": "focused-click",
   "metadata": {},
   "outputs": [],
   "source": [
    "features_L1_rascaline = descriptor_rascaline.values[0::2, 2*nmax:3*nmax] / 10.962374348347298 "
   ]
  },
  {
   "cell_type": "code",
   "execution_count": 91,
   "id": "brutal-facility",
   "metadata": {},
   "outputs": [],
   "source": [
    "features_L1_librascal = features_librascal[0::2, 2::(lmax+1)**2]"
   ]
  },
  {
   "cell_type": "code",
   "execution_count": 104,
   "id": "threatened-movie",
   "metadata": {},
   "outputs": [],
   "source": [
    "features_L1_pylode = features_pylode[0::2, 0, :, 2]"
   ]
  },
  {
   "cell_type": "code",
   "execution_count": 105,
   "id": "sixth-welcome",
   "metadata": {},
   "outputs": [],
   "source": [
    "for features in [features_L1_rascaline, features_L1_librascal, features_L1_pylode, features_analytical_l1]:\n",
    "    assert features.shape == (len(distances), nmax)"
   ]
  },
  {
   "cell_type": "code",
   "execution_count": 106,
   "id": "extra-adams",
   "metadata": {},
   "outputs": [
    {
     "name": "stdout",
     "output_type": "stream",
     "text": [
      "[[-1.00000652 -0.99999203 -1.00000484 -0.99997672 -1.00013495]\n",
      " [-1.00001176 -0.99999042 -1.00000417 -0.99997917 -1.00010812]\n",
      " [-0.99999967 -0.99999679 -1.00001156 -0.99995062 -1.00022285]\n",
      " [-0.999988   -0.99999817 -1.0000171  -0.99993273 -1.00027445]\n",
      " [-0.99999971 -0.99999182 -1.00001961 -0.9999286  -1.0002671 ]\n",
      " [-1.00004083 -0.99998263 -1.00002343 -0.99992237 -1.00026729]\n",
      " [-1.0001318  -0.99997251 -1.00003167 -0.99990673 -1.00029551]\n",
      " [-0.99987848 -0.99995229 -1.00004472 -0.99988466 -1.00033642]\n",
      " [-0.9999175  -0.99989227 -1.0000633  -0.99985851 -1.00037995]\n",
      " [-0.99985533 -0.99965541 -1.00009136 -0.99982544 -1.00043086]]\n"
     ]
    }
   ],
   "source": [
    "print(features_analytical_l1 / features_L1_pylode)"
   ]
  },
  {
   "cell_type": "code",
   "execution_count": 107,
   "id": "mineral-economics",
   "metadata": {},
   "outputs": [
    {
     "name": "stdout",
     "output_type": "stream",
     "text": [
      "[[  10.28713756   16.43517202  -20.558928      9.27042635   -5.19116778]\n",
      " [   9.77458243   13.96330621  -30.78519581   10.51760787   -5.49395653]\n",
      " [   9.07938946   12.43607865  -63.19524416   13.60294306   -7.24849529]\n",
      " [   8.12652275   11.30270389 2037.8391698    20.03520446  -11.47166267]\n",
      " [   6.79638072   10.32556364   62.45417019   34.67792844  -23.25304518]\n",
      " [   4.89369633    9.37042525   32.69576047   79.14078711  -97.75420123]\n",
      " [   2.09881702    8.33439651   22.59529455  496.49517869   90.48743811]\n",
      " [  -2.07770659    7.10699822   17.47936955 -302.31193861   43.83847828]\n",
      " [  -8.15579123    5.5286498    14.34035059 -245.05753763   36.20664184]\n",
      " [ -15.57813624    3.30894059   12.16169389 -835.47080194   35.83297961]]\n"
     ]
    }
   ],
   "source": [
    "print(features_analytical_l1 / features_L1_rascaline)"
   ]
  },
  {
   "cell_type": "code",
   "execution_count": 114,
   "id": "drawn-transportation",
   "metadata": {},
   "outputs": [
    {
     "name": "stdout",
     "output_type": "stream",
     "text": [
      "[[  13.02502924    8.93481348  -13.17746885    6.13230946   -2.94123088]\n",
      " [  11.63657475    8.45317492  -18.85183055    6.4425329    -2.9715553 ]\n",
      " [  10.21276809    7.80510645  -36.88175146    7.73664343   -3.72743698]\n",
      " [   8.76335324    7.09471808 1131.22722203   10.62070829   -5.59549455]\n",
      " [   7.26233527    6.36661279   32.93751937   17.203659    -10.7474639 ]\n",
      " [   5.63620659    5.6371188    16.37446942   36.88438309  -42.81131864]\n",
      " [   3.74581104    4.90386018   10.7495392   218.13117543   37.5730556 ]\n",
      " [   1.36671538    4.14760433    7.90765615 -125.58043314   17.27674341]\n",
      " [  -1.76181228    3.32702909    6.17954936  -96.50461231   13.56059421]\n",
      " [  -5.49020168    2.3589434     5.00317787 -312.64728256   12.7727958 ]]\n"
     ]
    }
   ],
   "source": [
    "print(features_semianalytical_general / features_L1_librascal)"
   ]
  },
  {
   "cell_type": "code",
   "execution_count": null,
   "id": "lucky-gateway",
   "metadata": {},
   "outputs": [],
   "source": []
  }
 ],
 "metadata": {
  "kernelspec": {
   "display_name": "Python 3",
   "language": "python",
   "name": "python3"
  },
  "language_info": {
   "codemirror_mode": {
    "name": "ipython",
    "version": 3
   },
   "file_extension": ".py",
   "mimetype": "text/x-python",
   "name": "python",
   "nbconvert_exporter": "python",
   "pygments_lexer": "ipython3",
   "version": "3.8.5"
  }
 },
 "nbformat": 4,
 "nbformat_minor": 5
}
