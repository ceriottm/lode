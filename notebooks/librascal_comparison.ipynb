{
 "cells": [
  {
   "cell_type": "code",
   "execution_count": 1,
   "id": "mental-mumbai",
   "metadata": {},
   "outputs": [],
   "source": [
    "%load_ext autoreload\n",
    "%autoreload 2"
   ]
  },
  {
   "cell_type": "code",
   "execution_count": 69,
   "id": "swiss-hampton",
   "metadata": {},
   "outputs": [],
   "source": [
    "%matplotlib inline\n",
    "from matplotlib import pylab as plt\n",
    "\n",
    "import time\n",
    "import rascal\n",
    "\n",
    "import ase\n",
    "from ase import Atoms\n",
    "from ase.io import read, write\n",
    "from ase.build import make_supercell\n",
    "from ase.visualize import view\n",
    "from numpy.testing import assert_allclose\n",
    "import numpy as np\n",
    "\n",
    "# Descriptor related imports: compare the librascal and pyLODE versions of SOAP\n",
    "import rascal.representations\n",
    "import rascaline\n",
    "from pylode.lib.projection_coeffs import DensityProjectionCalculator"
   ]
  },
  {
   "cell_type": "markdown",
   "id": "radio-worthy",
   "metadata": {},
   "source": [
    "# Introduction"
   ]
  },
  {
   "cell_type": "markdown",
   "id": "ecological-trash",
   "metadata": {},
   "source": [
    "This notebook is used to compare the features obtained from rascaline, librascal and pylode. The goal is to fully understand the details of the three implementations to make sure that the same coefficients from different codes agree."
   ]
  },
  {
   "cell_type": "markdown",
   "id": "defined-clinic",
   "metadata": {},
   "source": [
    "# Compute the same features using 3 different libraries"
   ]
  },
  {
   "cell_type": "markdown",
   "id": "electoral-oasis",
   "metadata": {},
   "source": [
    "### Define structure to be used for the comparison\n",
    "The main differences between librascal and the pyLODE implementation are the presence of a smooth cutoff function and the potentially different order in which neighbors are stored. We thus wish to generate structures for which these two effects do not alter the coefficients too much. For this task, we use clusters of Oxygen atoms for which all atoms have a mutual distance of less than 3A. Then, even for a relatively large smearing of 1.5A, the atomic densities will be reasonably contained within a ball of cutoff radius 6 that will also be used for the cutoff."
   ]
  },
  {
   "cell_type": "code",
   "execution_count": 3,
   "id": "floppy-subject",
   "metadata": {},
   "outputs": [],
   "source": [
    "frames = []\n",
    "cell = np.eye(3) * 16\n",
    "distances = np.linspace(1., 2.5, 10)\n",
    "for d in distances:\n",
    "    positions = [[1,1,1],[1+0.1*d,1+d,d+1]]\n",
    "    positions = [[1,1,1],[1,1,1+d]]\n",
    "    frame = Atoms('O2', positions=positions, cell=cell, pbc=True)\n",
    "    frames.append(frame)"
   ]
  },
  {
   "cell_type": "markdown",
   "id": "southern-skirt",
   "metadata": {},
   "source": [
    "### Define common hyperparameters"
   ]
  },
  {
   "cell_type": "code",
   "execution_count": 4,
   "id": "sunrise-extreme",
   "metadata": {},
   "outputs": [],
   "source": [
    "nmax = 5\n",
    "lmax = 5\n",
    "rcut = 6.\n",
    "smearing = 0.5"
   ]
  },
  {
   "cell_type": "markdown",
   "id": "willing-functionality",
   "metadata": {},
   "source": [
    "### Get the features from librascal"
   ]
  },
  {
   "cell_type": "code",
   "execution_count": 5,
   "id": "artificial-heating",
   "metadata": {},
   "outputs": [],
   "source": [
    "# define the parameters of the spherical expansion\n",
    "hypers = dict(interaction_cutoff=rcut, \n",
    "              max_radial=nmax, \n",
    "              max_angular=lmax, \n",
    "              gaussian_sigma_constant=smearing,\n",
    "              gaussian_sigma_type=\"Constant\",\n",
    "              cutoff_smooth_width=0.1,\n",
    "              radial_basis=\"GTO\",\n",
    "              compute_gradients=False,\n",
    "              expansion_by_species_method='structure wise',\n",
    "              )\n",
    "\n",
    "calculator_librascal = rascal.representations.SphericalExpansion(**hypers)\n",
    "# compute the representation of all the structures\n",
    "features_librascal = calculator_librascal.transform(frames).get_features(calculator_librascal)"
   ]
  },
  {
   "cell_type": "markdown",
   "id": "funded-operations",
   "metadata": {},
   "source": [
    "### Get the features from pyLODE"
   ]
  },
  {
   "cell_type": "code",
   "execution_count": 6,
   "id": "happy-sydney",
   "metadata": {},
   "outputs": [],
   "source": [
    "hypers = {\n",
    "    'smearing':smearing,\n",
    "    'max_angular':lmax,\n",
    "    'max_radial':nmax,\n",
    "    'cutoff_radius':rcut,\n",
    "    'potential_exponent':0,\n",
    "    'radial_basis': 'gto',\n",
    "    'compute_gradients':False,\n",
    "    'subtract_center_contribution':False,\n",
    "    }\n",
    "\n",
    "calculator_pylode = DensityProjectionCalculator(**hypers)\n",
    "calculator_pylode.transform(frames)\n",
    "features_pylode = calculator_pylode.features"
   ]
  },
  {
   "cell_type": "markdown",
   "id": "rental-working",
   "metadata": {},
   "source": [
    "### Get the features from Rascaline"
   ]
  },
  {
   "cell_type": "code",
   "execution_count": 7,
   "id": "bottom-shower",
   "metadata": {},
   "outputs": [],
   "source": [
    "HYPER_PARAMETERS = {\n",
    "    \"cutoff\": rcut,\n",
    "    \"max_radial\": nmax,\n",
    "    \"max_angular\": lmax,\n",
    "    \"atomic_gaussian_width\": smearing,\n",
    "    \"gradients\": False,\n",
    "    \"radial_basis\": {\n",
    "        \"Gto\": {},\n",
    "    },\n",
    "    \"cutoff_function\": {\n",
    "        \"Step\": {\"width\": 1e-3},\n",
    "    },\n",
    "}\n",
    "\n",
    "calculator_rascaline = rascaline.SphericalExpansion(**HYPER_PARAMETERS)\n",
    "\n",
    "# run the actual calculation\n",
    "descriptor_rascaline = calculator_rascaline.compute(frames)"
   ]
  },
  {
   "cell_type": "code",
   "execution_count": 8,
   "id": "enclosed-employment",
   "metadata": {},
   "outputs": [
    {
     "name": "stdout",
     "output_type": "stream",
     "text": [
      "[[ 5.14718463e-02  0.00000000e+00  2.12209328e-02  0.00000000e+00\n",
      "   0.00000000e+00  0.00000000e+00  1.51260554e-02  0.00000000e+00\n",
      "   0.00000000e+00  0.00000000e+00  0.00000000e+00  0.00000000e+00\n",
      "   8.37159246e-03  0.00000000e+00  0.00000000e+00  0.00000000e+00\n",
      "   0.00000000e+00  0.00000000e+00  0.00000000e+00  0.00000000e+00\n",
      "   3.89939354e-03  0.00000000e+00  0.00000000e+00  0.00000000e+00\n",
      "   0.00000000e+00  0.00000000e+00  0.00000000e+00  0.00000000e+00\n",
      "   0.00000000e+00  0.00000000e+00  1.59174652e-03  0.00000000e+00\n",
      "   0.00000000e+00  0.00000000e+00  0.00000000e+00  0.00000000e+00]\n",
      " [-5.46906168e-03  0.00000000e+00  7.77222083e-03  0.00000000e+00\n",
      "   0.00000000e+00  0.00000000e+00  8.09736941e-03  0.00000000e+00\n",
      "   0.00000000e+00  0.00000000e+00  0.00000000e+00  0.00000000e+00\n",
      "   6.18845886e-03  0.00000000e+00  0.00000000e+00  0.00000000e+00\n",
      "   0.00000000e+00  0.00000000e+00  0.00000000e+00  0.00000000e+00\n",
      "   3.80602806e-03  0.00000000e+00  0.00000000e+00  0.00000000e+00\n",
      "   0.00000000e+00  0.00000000e+00  0.00000000e+00  0.00000000e+00\n",
      "   0.00000000e+00  0.00000000e+00  1.98704235e-03  0.00000000e+00\n",
      "   0.00000000e+00  0.00000000e+00  0.00000000e+00  0.00000000e+00]\n",
      " [-7.93927879e-04  0.00000000e+00 -2.22315980e-03  0.00000000e+00\n",
      "   0.00000000e+00  0.00000000e+00 -1.88236794e-03  0.00000000e+00\n",
      "   0.00000000e+00  0.00000000e+00  0.00000000e+00  0.00000000e+00\n",
      "  -1.13816864e-03  0.00000000e+00  0.00000000e+00  0.00000000e+00\n",
      "   0.00000000e+00  0.00000000e+00  0.00000000e+00  0.00000000e+00\n",
      "  -5.25115168e-04  0.00000000e+00  0.00000000e+00  0.00000000e+00\n",
      "   0.00000000e+00  0.00000000e+00  0.00000000e+00  0.00000000e+00\n",
      "   0.00000000e+00  0.00000000e+00 -1.84181671e-04  0.00000000e+00\n",
      "   0.00000000e+00  0.00000000e+00  0.00000000e+00  0.00000000e+00]\n",
      " [-9.57342904e-04  0.00000000e+00  1.10086844e-03  0.00000000e+00\n",
      "   0.00000000e+00  0.00000000e+00  1.09044304e-03  0.00000000e+00\n",
      "   0.00000000e+00  0.00000000e+00  0.00000000e+00  0.00000000e+00\n",
      "   7.68276739e-04  0.00000000e+00  0.00000000e+00  0.00000000e+00\n",
      "   0.00000000e+00  0.00000000e+00  0.00000000e+00  0.00000000e+00\n",
      "   4.26878846e-04  0.00000000e+00  0.00000000e+00  0.00000000e+00\n",
      "   0.00000000e+00  0.00000000e+00  0.00000000e+00  0.00000000e+00\n",
      "   0.00000000e+00  0.00000000e+00  1.97692760e-04  0.00000000e+00\n",
      "   0.00000000e+00  0.00000000e+00  0.00000000e+00  0.00000000e+00]\n",
      " [ 7.03715183e-04  0.00000000e+00 -2.06963592e-04  0.00000000e+00\n",
      "   0.00000000e+00  0.00000000e+00 -2.49947692e-04  0.00000000e+00\n",
      "   0.00000000e+00  0.00000000e+00  0.00000000e+00  0.00000000e+00\n",
      "  -1.94022086e-04  0.00000000e+00  0.00000000e+00  0.00000000e+00\n",
      "   0.00000000e+00  0.00000000e+00  0.00000000e+00  0.00000000e+00\n",
      "  -1.13960721e-04  0.00000000e+00  0.00000000e+00  0.00000000e+00\n",
      "   0.00000000e+00  0.00000000e+00  0.00000000e+00  0.00000000e+00\n",
      "   0.00000000e+00  0.00000000e+00 -5.46360019e-05  0.00000000e+00\n",
      "   0.00000000e+00  0.00000000e+00  0.00000000e+00  0.00000000e+00]]\n"
     ]
    }
   ],
   "source": [
    "print(descriptor_rascaline.values[0].reshape(((lmax+1)**2, nmax)).T / 10.962374348347298)"
   ]
  },
  {
   "cell_type": "code",
   "execution_count": 9,
   "id": "funny-husband",
   "metadata": {},
   "outputs": [
    {
     "name": "stdout",
     "output_type": "stream",
     "text": [
      "[[ 5.14718474e-02  0.00000000e+00  2.12209331e-02  0.00000000e+00\n",
      "   0.00000000e+00  0.00000000e+00  1.51260522e-02  0.00000000e+00\n",
      "   0.00000000e+00  0.00000000e+00  0.00000000e+00  0.00000000e+00\n",
      "   8.37158944e-03  0.00000000e+00  0.00000000e+00  0.00000000e+00\n",
      "   0.00000000e+00  0.00000000e+00  0.00000000e+00  0.00000000e+00\n",
      "   3.89939267e-03  0.00000000e+00  0.00000000e+00  0.00000000e+00\n",
      "   0.00000000e+00  0.00000000e+00  0.00000000e+00  0.00000000e+00\n",
      "   0.00000000e+00  0.00000000e+00  1.59174695e-03  0.00000000e+00\n",
      "   0.00000000e+00  0.00000000e+00  0.00000000e+00  0.00000000e+00]\n",
      " [-5.46906277e-03  0.00000000e+00  7.77221999e-03  0.00000000e+00\n",
      "   0.00000000e+00  0.00000000e+00  8.09737010e-03  0.00000000e+00\n",
      "   0.00000000e+00  0.00000000e+00  0.00000000e+00  0.00000000e+00\n",
      "   6.18846029e-03  0.00000000e+00  0.00000000e+00  0.00000000e+00\n",
      "   0.00000000e+00  0.00000000e+00  0.00000000e+00  0.00000000e+00\n",
      "   3.80602972e-03  0.00000000e+00  0.00000000e+00  0.00000000e+00\n",
      "   0.00000000e+00  0.00000000e+00  0.00000000e+00  0.00000000e+00\n",
      "   0.00000000e+00  0.00000000e+00  1.98704381e-03  0.00000000e+00\n",
      "   0.00000000e+00  0.00000000e+00  0.00000000e+00  0.00000000e+00]\n",
      " [-7.93927357e-04  0.00000000e+00 -2.22315915e-03  0.00000000e+00\n",
      "   0.00000000e+00  0.00000000e+00 -1.88236744e-03  0.00000000e+00\n",
      "   0.00000000e+00  0.00000000e+00  0.00000000e+00  0.00000000e+00\n",
      "  -1.13816841e-03  0.00000000e+00  0.00000000e+00  0.00000000e+00\n",
      "   0.00000000e+00  0.00000000e+00  0.00000000e+00  0.00000000e+00\n",
      "  -5.25115302e-04  0.00000000e+00  0.00000000e+00  0.00000000e+00\n",
      "   0.00000000e+00  0.00000000e+00  0.00000000e+00  0.00000000e+00\n",
      "   0.00000000e+00  0.00000000e+00 -1.84182015e-04  0.00000000e+00\n",
      "   0.00000000e+00  0.00000000e+00  0.00000000e+00  0.00000000e+00]\n",
      " [-9.57343241e-04  0.00000000e+00  1.10086807e-03  0.00000000e+00\n",
      "   0.00000000e+00  0.00000000e+00  1.09044288e-03  0.00000000e+00\n",
      "   0.00000000e+00  0.00000000e+00  0.00000000e+00  0.00000000e+00\n",
      "   7.68276722e-04  0.00000000e+00  0.00000000e+00  0.00000000e+00\n",
      "   0.00000000e+00  0.00000000e+00  0.00000000e+00  0.00000000e+00\n",
      "   4.26878954e-04  0.00000000e+00  0.00000000e+00  0.00000000e+00\n",
      "   0.00000000e+00  0.00000000e+00  0.00000000e+00  0.00000000e+00\n",
      "   0.00000000e+00  0.00000000e+00  1.97692921e-04  0.00000000e+00\n",
      "   0.00000000e+00  0.00000000e+00  0.00000000e+00  0.00000000e+00]\n",
      " [ 7.03715298e-04  0.00000000e+00 -2.06963473e-04  0.00000000e+00\n",
      "   0.00000000e+00  0.00000000e+00 -2.49947672e-04  0.00000000e+00\n",
      "   0.00000000e+00  0.00000000e+00  0.00000000e+00  0.00000000e+00\n",
      "  -1.94022114e-04  0.00000000e+00  0.00000000e+00  0.00000000e+00\n",
      "   0.00000000e+00  0.00000000e+00  0.00000000e+00  0.00000000e+00\n",
      "  -1.13960772e-04  0.00000000e+00  0.00000000e+00  0.00000000e+00\n",
      "   0.00000000e+00  0.00000000e+00  0.00000000e+00  0.00000000e+00\n",
      "   0.00000000e+00  0.00000000e+00 -5.46360591e-05  0.00000000e+00\n",
      "   0.00000000e+00  0.00000000e+00  0.00000000e+00  0.00000000e+00]]\n"
     ]
    }
   ],
   "source": [
    "print(features_librascal[0].reshape((nmax,(lmax+1)**2)))"
   ]
  },
  {
   "cell_type": "code",
   "execution_count": 10,
   "id": "unexpected-detroit",
   "metadata": {},
   "outputs": [
    {
     "name": "stdout",
     "output_type": "stream",
     "text": [
      "[[ 5.82969355e-01 -0.00000000e+00 -2.18301230e-01 -0.00000000e+00\n",
      "   0.00000000e+00  0.00000000e+00  1.49910963e-01  0.00000000e+00\n",
      "   0.00000000e+00  0.00000000e+00  0.00000000e+00  0.00000000e+00\n",
      "  -7.91269910e-02 -0.00000000e+00  0.00000000e+00 -0.00000000e+00\n",
      "  -0.00000000e+00  0.00000000e+00 -0.00000000e+00  0.00000000e+00\n",
      "   3.47551616e-02  0.00000000e+00  0.00000000e+00 -0.00000000e+00\n",
      "  -1.00400900e-07 -0.00000000e+00 -0.00000000e+00  0.00000000e+00\n",
      "  -0.00000000e+00 -0.00000000e+00 -1.31995033e-02 -0.00000000e+00\n",
      "  -0.00000000e+00 -0.00000000e+00  7.43360000e-09  0.00000000e+00]\n",
      " [ 4.13588973e-02 -0.00000000e+00 -1.27738805e-01 -0.00000000e+00\n",
      "   0.00000000e+00 -0.00000000e+00  1.18169936e-01  0.00000000e+00\n",
      "  -0.00000000e+00  0.00000000e+00 -0.00000000e+00  0.00000000e+00\n",
      "  -8.29036936e-02 -0.00000000e+00  0.00000000e+00 -0.00000000e+00\n",
      "   0.00000000e+00 -0.00000000e+00 -0.00000000e+00 -0.00000000e+00\n",
      "   4.77460688e-02 -0.00000000e+00 -0.00000000e+00  0.00000000e+00\n",
      "   5.23742000e-08 -0.00000000e+00  0.00000000e+00 -0.00000000e+00\n",
      "  -0.00000000e+00  0.00000000e+00 -2.36030741e-02  0.00000000e+00\n",
      "   0.00000000e+00  0.00000000e+00  4.62300000e-09 -0.00000000e+00]\n",
      " [ 3.93222557e-02 -0.00000000e+00 -4.57055610e-02  0.00000000e+00\n",
      "  -0.00000000e+00  0.00000000e+00  4.20483337e-02 -0.00000000e+00\n",
      "   0.00000000e+00  0.00000000e+00  0.00000000e+00  0.00000000e+00\n",
      "  -3.06483378e-02  0.00000000e+00  0.00000000e+00 -0.00000000e+00\n",
      "  -0.00000000e+00 -0.00000000e+00 -0.00000000e+00  0.00000000e+00\n",
      "   1.88478748e-02  0.00000000e+00  0.00000000e+00  0.00000000e+00\n",
      "   1.41307500e-07 -0.00000000e+00  0.00000000e+00  0.00000000e+00\n",
      "   0.00000000e+00  0.00000000e+00 -1.01121134e-02 -0.00000000e+00\n",
      "  -0.00000000e+00 -0.00000000e+00 -2.04830000e-08  0.00000000e+00]\n",
      " [ 9.61505237e-03 -0.00000000e+00 -1.02057574e-02 -0.00000000e+00\n",
      "   0.00000000e+00  0.00000000e+00  9.30852290e-03  0.00000000e+00\n",
      "  -0.00000000e+00  0.00000000e+00  0.00000000e+00  0.00000000e+00\n",
      "  -6.77825255e-03 -0.00000000e+00  0.00000000e+00 -0.00000000e+00\n",
      "  -0.00000000e+00  0.00000000e+00 -0.00000000e+00  0.00000000e+00\n",
      "   4.20246742e-03 -0.00000000e+00  0.00000000e+00 -0.00000000e+00\n",
      "  -1.50258700e-07  0.00000000e+00  0.00000000e+00  0.00000000e+00\n",
      "   0.00000000e+00 -0.00000000e+00 -2.29543965e-03  0.00000000e+00\n",
      "  -0.00000000e+00  0.00000000e+00  1.91266000e-08 -0.00000000e+00]\n",
      " [ 8.18093723e-04  0.00000000e+00 -1.07423776e-03  0.00000000e+00\n",
      "  -0.00000000e+00  0.00000000e+00  1.02854099e-03  0.00000000e+00\n",
      "  -0.00000000e+00  0.00000000e+00 -0.00000000e+00  0.00000000e+00\n",
      "  -7.88848651e-04 -0.00000000e+00  0.00000000e+00 -0.00000000e+00\n",
      "  -0.00000000e+00 -0.00000000e+00  0.00000000e+00  0.00000000e+00\n",
      "   5.16093716e-04  0.00000000e+00 -0.00000000e+00  0.00000000e+00\n",
      "   1.05006700e-07  0.00000000e+00  0.00000000e+00 -0.00000000e+00\n",
      "  -0.00000000e+00 -0.00000000e+00 -2.96003353e-04 -0.00000000e+00\n",
      "  -0.00000000e+00 -0.00000000e+00 -1.20424000e-08 -0.00000000e+00]]\n"
     ]
    }
   ],
   "source": [
    "print(np.round(features_pylode,13)[0,0])"
   ]
  },
  {
   "cell_type": "code",
   "execution_count": 11,
   "id": "downtown-burning",
   "metadata": {},
   "outputs": [
    {
     "data": {
      "text/plain": [
       "7.751569239621834"
      ]
     },
     "execution_count": 11,
     "metadata": {},
     "output_type": "execute_result"
    }
   ],
   "source": [
    "10.962374348347298 / np.sqrt(2)"
   ]
  },
  {
   "cell_type": "markdown",
   "id": "beautiful-guest",
   "metadata": {},
   "source": [
    "# Debugging: Compare coeffs with semi-analytical results"
   ]
  },
  {
   "cell_type": "markdown",
   "id": "coastal-animal",
   "metadata": {},
   "source": [
    "## Compute the coefficients for $l=1$ using 4 different approaches"
   ]
  },
  {
   "cell_type": "markdown",
   "id": "completed-future",
   "metadata": {},
   "source": [
    "To make sure that we understand every single aspect of the codes including all the prefactors and conventions, we compute the exact coefficients we would expect from an Oxygen molecule oriented along the z-axis. The computations are done using three (four) different methods: a fully analytical approach applicable to all $l$, a semi-analytical approach in which the final radial integral is evaluated numerically also valid for all $l$, and finally an explicit formula that was obtained directly for the special case $l=1$ starting at the very definition. For convenience, we also include the complete analytical formula for the special case $l=1$."
   ]
  },
  {
   "cell_type": "markdown",
   "id": "forty-fusion",
   "metadata": {},
   "source": [
    "### Generate orthonormalization matrix"
   ]
  },
  {
   "cell_type": "code",
   "execution_count": 12,
   "id": "ranging-fundamental",
   "metadata": {},
   "outputs": [],
   "source": [
    "from scipy.integrate import quad\n",
    "from pylode.lib.radial_basis import innerprod\n",
    "from scipy.special import gamma, hyp1f1, sph_harm, iv"
   ]
  },
  {
   "cell_type": "code",
   "execution_count": 13,
   "id": "trained-diploma",
   "metadata": {},
   "outputs": [],
   "source": [
    "Nradial = 1000\n",
    "sigma = np.ones(nmax, dtype=float)\n",
    "for i in range(1, nmax):\n",
    "    sigma[i] = np.sqrt(i)\n",
    "sigma *= rcut / nmax\n",
    "\n",
    "# Define primitive GTO-like radial basis functions\n",
    "f_gto = lambda n, x: x**n * np.exp(-0.5 * (x / sigma[n])**2)\n",
    "xx = np.linspace(0, rcut * 2.5, Nradial)\n",
    "R_n = np.array([f_gto(n, xx) for n in range(nmax)])\n",
    "\n",
    "# Orthonormalize\n",
    "innerprods = np.zeros((nmax, nmax))\n",
    "for i in range(nmax):\n",
    "    for j in range(nmax):\n",
    "        innerprods[i, j] = innerprod(xx, R_n[i], R_n[j])\n",
    "eigvals, eigvecs = np.linalg.eigh(innerprods)\n",
    "transformation = eigvecs @ np.diag(np.sqrt(1. / eigvals)) @ eigvecs.T"
   ]
  },
  {
   "cell_type": "markdown",
   "id": "realistic-sellers",
   "metadata": {},
   "source": [
    "### Fully analytical formula for $l=1$"
   ]
  },
  {
   "cell_type": "code",
   "execution_count": 14,
   "id": "welsh-python",
   "metadata": {},
   "outputs": [],
   "source": [
    "def coefficients_analytical_l1(nmax, d):\n",
    "    # Define auxilary quantities and prefactors\n",
    "    a = 1. / (2 * smearing**2)\n",
    "    lplus3half = 2.5\n",
    "    prefac_global = np.pi * np.sqrt(3/4) * a / gamma(lplus3half) * d * np.exp(-a*d**2)\n",
    "    prefac_global /= (2 * np.pi * smearing**2)**1.5\n",
    "    \n",
    "    # Start main loop\n",
    "    featvec = np.zeros((nmax))\n",
    "    for n in range(nmax):\n",
    "        # Compute contribution for primitive GTO function\n",
    "        nlplus3half = (4 + n) / 2\n",
    "        b = 1. / (2 * sigma[n]**2)\n",
    "        prefac_n_dep = gamma(nlplus3half) / (a+b)**nlplus3half\n",
    "        hyp = hyp1f1(nlplus3half, lplus3half, a**2*d**2/(a+b))\n",
    "        featvec[n] = prefac_n_dep * hyp\n",
    "\n",
    "    return prefac_global * (transformation @ featvec)"
   ]
  },
  {
   "cell_type": "markdown",
   "id": "physical-breast",
   "metadata": {},
   "source": [
    "### Fully analytical formula for general $l$"
   ]
  },
  {
   "cell_type": "code",
   "execution_count": 15,
   "id": "damaged-pollution",
   "metadata": {},
   "outputs": [],
   "source": [
    "def coefficients_analytical_general_l(nmax, d, l):\n",
    "    # Define auxilary quantities and prefactors\n",
    "    a = 1. / (2 * smearing**2)\n",
    "    lplus3half = l + 1.5\n",
    "    prefac_global = np.pi**1.5 * sph_harm(0, l, 0, 0).real * a / gamma(lplus3half)\n",
    "    prefac_global *= d * np.exp(-a*d**2)\n",
    "    prefac_global /= (2 * np.pi * smearing**2)**1.5\n",
    "\n",
    "    # Start main loop\n",
    "    featvec = np.zeros((nmax))\n",
    "    for n in range(nmax):\n",
    "        nlplus3half = (3 + n + l) / 2\n",
    "        b = 1. / (2 * sigma[n]**2)\n",
    "        prefac_n_dep = gamma(nlplus3half) / (a+b)**nlplus3half\n",
    "        hyp = hyp1f1(nlplus3half, lplus3half, a**2*d**2/(a+b))\n",
    "        featvec[n] = prefac_n_dep * hyp\n",
    "\n",
    "    return prefac_global * (transformation @ featvec)   "
   ]
  },
  {
   "cell_type": "markdown",
   "id": "working-luxembourg",
   "metadata": {},
   "source": [
    "### Semianalytical (final integral performed numerically) formula for general l"
   ]
  },
  {
   "cell_type": "code",
   "execution_count": 16,
   "id": "working-mainstream",
   "metadata": {},
   "outputs": [],
   "source": [
    "def coefficients_semianalytical_general_l(nmax, d, l):\n",
    "    # Prefactor\n",
    "    a = 1. / (2 * smearing**2)\n",
    "    prefac_global = 4*np.pi * sph_harm(0, l, 0, 0).real * np.exp(-a*d**2)\n",
    "    prefac_global /= (2 * np.pi * smearing**2)**1.5\n",
    "\n",
    "    # Main loop performing the numerical integration\n",
    "    featvec = np.zeros((nmax))\n",
    "    for n in range(nmax):\n",
    "        # Define the integrand consisting of a power-law, Gaussian and Bessel part\n",
    "        b = 1. / (2 * sigma[n]**2)\n",
    "        gaussian = lambda r: np.exp(-(a+b)*r**2)\n",
    "        power = lambda r: r**(2+n)\n",
    "        mod_sph_bessel = lambda x: np.sqrt(np.pi/2/x) * iv(l + 0.5, x)\n",
    "        bessel = lambda r: mod_sph_bessel(2*a*d*r)\n",
    "        integrand = lambda r: power(r) * gaussian(r) * bessel(r)\n",
    "        \n",
    "        # Numerical integration\n",
    "        eps = 1e-10\n",
    "        featvec[n] = quad(integrand, eps, 10*rcut)[0]\n",
    "\n",
    "    return prefac_global * (transformation @ featvec)   "
   ]
  },
  {
   "cell_type": "markdown",
   "id": "frequent-cooler",
   "metadata": {},
   "source": [
    "### Semianalytical (final integral performed numerically) formula for $l=1$"
   ]
  },
  {
   "cell_type": "code",
   "execution_count": 17,
   "id": "accurate-mumbai",
   "metadata": {},
   "outputs": [],
   "source": [
    "def coefficients_semianalytical_l1(nmax, d):\n",
    "    # Prefactor\n",
    "    a = 1. / (2 * smearing**2)\n",
    "    prefac = np.sqrt(1.5) / (2 * np.pi * smearing**3)\n",
    "    prefac *= np.exp(-a*d**2)\n",
    "    \n",
    "    # Start main loop\n",
    "    featvec = np.zeros((nmax,))\n",
    "    for n in range(nmax):\n",
    "        # Start defining functions appearing in integrand\n",
    "        b = 1. / (2 * sigma[n]**2)\n",
    "        gaussian = lambda r: np.exp(-(a+b)*r**2)\n",
    "        power = lambda r: r**(2+n)\n",
    "        mod_sph_bessel = lambda x: (x*np.cosh(x) - np.sinh(x))/x**2\n",
    "        bessel = lambda r: mod_sph_bessel(2*a*d*r)\n",
    "\n",
    "        integrand = lambda r: power(r) * gaussian(r) * bessel(r) * 2\n",
    "        \n",
    "        # Numerical Integration\n",
    "        featvec[n] = quad(integrand, 1e-10, 10 * rcut)[0]\n",
    "    \n",
    "    return prefac * (transformation @ featvec)"
   ]
  },
  {
   "cell_type": "markdown",
   "id": "satisfied-copying",
   "metadata": {},
   "source": [
    "### Compare the coefficients obtained using different methods"
   ]
  },
  {
   "cell_type": "code",
   "execution_count": 18,
   "id": "loose-problem",
   "metadata": {},
   "outputs": [],
   "source": [
    "features_analytical_l1 = np.zeros((len(distances), nmax))\n",
    "features_semianalytical_l1 = np.zeros((len(distances), nmax))\n",
    "features_analytical_general = np.zeros((len(distances), nmax))\n",
    "features_semianalytical_general = np.zeros((len(distances), nmax))\n",
    "\n",
    "for i_dist, d in enumerate(distances):\n",
    "    features_analytical_l1[i_dist] = coefficients_analytical_l1(nmax, d)\n",
    "    features_semianalytical_l1[i_dist] = coefficients_semianalytical_l1(nmax, d)\n",
    "    features_analytical_general[i_dist] = coefficients_analytical_general_l(nmax, d, l=1)\n",
    "    features_semianalytical_general[i_dist] = coefficients_semianalytical_general_l(nmax, d, l=1)"
   ]
  },
  {
   "cell_type": "code",
   "execution_count": 19,
   "id": "productive-entry",
   "metadata": {},
   "outputs": [],
   "source": [
    "delta1 = np.linalg.norm(features_analytical_l1 - features_analytical_general)\n",
    "delta2 = np.linalg.norm(features_analytical_general - features_semianalytical_general)\n",
    "delta3 = np.linalg.norm(features_semianalytical_l1 - features_semianalytical_general)\n",
    "assert delta1 < 1e-14\n",
    "assert delta2 < 1e-14\n",
    "assert delta3 < 1e-14"
   ]
  },
  {
   "cell_type": "markdown",
   "id": "joint-history",
   "metadata": {},
   "source": [
    "## Compare the exact values with those obtained from the three codes"
   ]
  },
  {
   "cell_type": "markdown",
   "id": "mathematical-implement",
   "metadata": {},
   "source": [
    "The exact coefficients obtained using the analytical formula are now compared to those obtained from the three codes."
   ]
  },
  {
   "cell_type": "markdown",
   "id": "strong-tiger",
   "metadata": {},
   "source": [
    "### Get the $l=1$ (and $m=0$) part of the features of the three codes"
   ]
  },
  {
   "cell_type": "code",
   "execution_count": 20,
   "id": "absolute-sucking",
   "metadata": {},
   "outputs": [
    {
     "name": "stdout",
     "output_type": "stream",
     "text": [
      "Shapes of feature vectors\n",
      "rascaline (20, 180)\n",
      "librascal (20, 180)\n"
     ]
    }
   ],
   "source": [
    "print('Shapes of feature vectors')\n",
    "print('rascaline', descriptor_rascaline.values.shape)\n",
    "print('librascal', features_librascal.shape)"
   ]
  },
  {
   "cell_type": "code",
   "execution_count": 21,
   "id": "aggregate-crime",
   "metadata": {},
   "outputs": [],
   "source": [
    "features_L1_rascaline = descriptor_rascaline.values[0::2, 2*nmax:3*nmax] / 10.962374348347298 "
   ]
  },
  {
   "cell_type": "code",
   "execution_count": 22,
   "id": "green-native",
   "metadata": {},
   "outputs": [],
   "source": [
    "features_L1_librascal = features_librascal[0::2, 2::(lmax+1)**2]"
   ]
  },
  {
   "cell_type": "code",
   "execution_count": 23,
   "id": "portuguese-dividend",
   "metadata": {},
   "outputs": [],
   "source": [
    "features_L1_pylode = features_pylode[0::2, 0, :, 2]"
   ]
  },
  {
   "cell_type": "code",
   "execution_count": 24,
   "id": "miniature-ottawa",
   "metadata": {},
   "outputs": [],
   "source": [
    "for features in [features_L1_rascaline, features_L1_librascal, features_L1_pylode, features_analytical_l1]:\n",
    "    assert features.shape == (len(distances), nmax)"
   ]
  },
  {
   "cell_type": "code",
   "execution_count": 25,
   "id": "scenic-exhaust",
   "metadata": {},
   "outputs": [
    {
     "name": "stdout",
     "output_type": "stream",
     "text": [
      "[[-1.00000652 -0.99999203 -1.00000484 -0.99997672 -1.00013495]\n",
      " [-1.00001176 -0.99999042 -1.00000417 -0.99997917 -1.00010812]\n",
      " [-0.99999967 -0.99999679 -1.00001156 -0.99995062 -1.00022285]\n",
      " [-0.999988   -0.99999817 -1.0000171  -0.99993273 -1.00027445]\n",
      " [-0.99999971 -0.99999182 -1.00001961 -0.9999286  -1.0002671 ]\n",
      " [-1.00004083 -0.99998263 -1.00002343 -0.99992237 -1.00026729]\n",
      " [-1.0001318  -0.99997251 -1.00003167 -0.99990673 -1.00029551]\n",
      " [-0.99987848 -0.99995229 -1.00004472 -0.99988466 -1.00033642]\n",
      " [-0.9999175  -0.99989227 -1.0000633  -0.99985851 -1.00037995]\n",
      " [-0.99985533 -0.99965541 -1.00009136 -0.99982544 -1.00043086]]\n"
     ]
    }
   ],
   "source": [
    "print(features_analytical_l1 / features_L1_pylode)"
   ]
  },
  {
   "cell_type": "code",
   "execution_count": 26,
   "id": "funny-click",
   "metadata": {},
   "outputs": [
    {
     "data": {
      "text/plain": [
       "array([[ 2.12209328e-02,  7.77222083e-03, -2.22315980e-03,\n",
       "         1.10086844e-03, -2.06963592e-04],\n",
       "       [ 1.82872880e-02,  1.08215478e-02, -1.92841702e-03,\n",
       "         1.28198787e-03, -2.91064176e-04],\n",
       "       [ 1.48128538e-02,  1.32208991e-02, -1.16564928e-03,\n",
       "         1.28221435e-03, -3.17523578e-04],\n",
       "       [ 1.13269371e-02,  1.46821740e-02,  4.29768587e-05,\n",
       "         1.10319775e-03, -2.80126006e-04],\n",
       "       [ 8.18803551e-03,  1.51074657e-02,  1.60168701e-03,\n",
       "         7.91117698e-04, -1.87689390e-04],\n",
       "       [ 5.59090740e-03,  1.45604609e-02,  3.36449115e-03,\n",
       "         4.21322721e-04, -5.91186089e-05],\n",
       "       [ 3.59937371e-03,  1.32170997e-02,  5.16335949e-03,\n",
       "         7.99145053e-05,  8.26208132e-05],\n",
       "       [ 2.18608148e-03,  1.13134065e-02,  6.83430768e-03,\n",
       "        -1.52904894e-04,  2.15912558e-04],\n",
       "       [ 1.26902780e-03,  9.10051808e-03,  8.23764697e-03,\n",
       "        -2.15192429e-04,  3.24412870e-04],\n",
       "       [ 7.40858763e-04,  6.81097112e-03,  9.27105741e-03,\n",
       "        -7.05306736e-05,  3.99236327e-04]])"
      ]
     },
     "execution_count": 26,
     "metadata": {},
     "output_type": "execute_result"
    }
   ],
   "source": [
    "features_L1_rascaline"
   ]
  },
  {
   "cell_type": "code",
   "execution_count": 27,
   "id": "public-cooperation",
   "metadata": {},
   "outputs": [
    {
     "name": "stdout",
     "output_type": "stream",
     "text": [
      "[[  10.28713756   16.43517202  -20.558928      9.27042635   -5.19116778]\n",
      " [   9.77458243   13.96330621  -30.78519581   10.51760787   -5.49395653]\n",
      " [   9.07938946   12.43607865  -63.19524416   13.60294306   -7.24849529]\n",
      " [   8.12652275   11.30270389 2037.83916981   20.03520446  -11.47166267]\n",
      " [   6.79638072   10.32556364   62.45417019   34.67792844  -23.25304518]\n",
      " [   4.89369633    9.37042525   32.69576047   79.14078711  -97.75420123]\n",
      " [   2.09881702    8.33439651   22.59529455  496.49517869   90.48743811]\n",
      " [  -2.07770659    7.10699822   17.47936955 -302.31193861   43.83847828]\n",
      " [  -8.15579123    5.5286498    14.34035059 -245.05753763   36.20664184]\n",
      " [ -15.57813624    3.30894059   12.16169389 -835.47080194   35.83297961]]\n"
     ]
    }
   ],
   "source": [
    "print(features_analytical_l1 / features_L1_rascaline)"
   ]
  },
  {
   "cell_type": "code",
   "execution_count": 28,
   "id": "active-jungle",
   "metadata": {},
   "outputs": [
    {
     "name": "stdout",
     "output_type": "stream",
     "text": [
      "[[  10.2871374    16.43517379  -20.558934      9.27042952   -5.19117076]\n",
      " [   9.77458134   13.96330939  -30.78521506   10.51761389   -5.49396112]\n",
      " [   9.07938715   12.43608236  -63.1953296    13.60295318   -7.24850266]\n",
      " [   8.12651919   11.30270751 2037.76635012   20.03522061  -11.47167527]\n",
      " [   6.79638063   10.32556357   62.45416931   34.67792831  -23.25304515]\n",
      " [   4.89369627    9.37042517   32.69576017   79.14078634  -97.75420029]\n",
      " [   2.098817      8.33439644   22.59529434  496.49517424   90.4874373 ]\n",
      " [  -2.07770657    7.10699816   17.47936941 -302.3119431    43.8384781 ]\n",
      " [  -8.15579114    5.52864973   14.34035051 -245.05755576   36.20664209]\n",
      " [ -15.57813648    3.30894052   12.16169387 -835.47130629   35.83298036]]\n"
     ]
    }
   ],
   "source": [
    "print(features_semianalytical_general / features_L1_librascal)"
   ]
  },
  {
   "cell_type": "markdown",
   "id": "joined-wisconsin",
   "metadata": {},
   "source": [
    "### Get the $l=2$ (and $m=0$) part of the features of the three codes"
   ]
  },
  {
   "cell_type": "code",
   "execution_count": 29,
   "id": "taken-setting",
   "metadata": {},
   "outputs": [],
   "source": [
    "lm_index = 6 # l**2 + l"
   ]
  },
  {
   "cell_type": "code",
   "execution_count": 30,
   "id": "secret-silly",
   "metadata": {},
   "outputs": [
    {
     "name": "stdout",
     "output_type": "stream",
     "text": [
      "Shapes of feature vectors\n",
      "rascaline (20, 180)\n",
      "librascal (20, 180)\n"
     ]
    }
   ],
   "source": [
    "print('Shapes of feature vectors')\n",
    "print('rascaline', descriptor_rascaline.values.shape)\n",
    "print('librascal', features_librascal.shape)"
   ]
  },
  {
   "cell_type": "code",
   "execution_count": 31,
   "id": "freelance-canadian",
   "metadata": {},
   "outputs": [],
   "source": [
    "features_L2_rascaline = descriptor_rascaline.values[0::2, lm_index*nmax:(lm_index+1)*nmax] / 10.962374348347298 "
   ]
  },
  {
   "cell_type": "code",
   "execution_count": 32,
   "id": "black-jewelry",
   "metadata": {},
   "outputs": [],
   "source": [
    "features_L2_librascal = features_librascal[0::2, lm_index::(lmax+1)**2]"
   ]
  },
  {
   "cell_type": "code",
   "execution_count": 33,
   "id": "brave-watson",
   "metadata": {},
   "outputs": [],
   "source": [
    "features_L2_pylode = features_pylode[0::2, 0, :, lm_index]"
   ]
  },
  {
   "cell_type": "code",
   "execution_count": 34,
   "id": "unique-serum",
   "metadata": {},
   "outputs": [],
   "source": [
    "features_analytical_l2 = np.zeros((len(distances), nmax))\n",
    "features_numerical_l2 = np.zeros((len(distances), nmax))\n",
    "\n",
    "for i_dist, d in enumerate(distances):\n",
    "    features_analytical_l2[i_dist] = coefficients_analytical_general_l(nmax, d, l=2)\n",
    "    features_numerical_l2[i_dist] = coefficients_semianalytical_general_l(nmax, d, l=2)"
   ]
  },
  {
   "cell_type": "code",
   "execution_count": 35,
   "id": "medical-implementation",
   "metadata": {},
   "outputs": [],
   "source": [
    "delta_l2 = np.linalg.norm(features_analytical_l2 - features_numerical_l2)"
   ]
  },
  {
   "cell_type": "code",
   "execution_count": 36,
   "id": "breeding-transcription",
   "metadata": {},
   "outputs": [
    {
     "name": "stdout",
     "output_type": "stream",
     "text": [
      "[[2.00003657 1.99999206 2.00004042 1.99975149 2.00137186]\n",
      " [2.33330769 2.33332688 2.33336334 2.33322609 2.3338514 ]\n",
      " [2.66661887 2.66665413 2.66669826 2.66657161 2.66708017]\n",
      " [3.00001682 2.99997772 3.00004964 2.99980644 3.00078776]\n",
      " [3.33344759 3.33329721 3.33340912 3.33304348 3.33441972]\n",
      " [3.66679862 3.66660297 3.66677242 3.66631712 3.66786913]\n",
      " [4.00007373 3.99987851 4.0001463  3.99958235 4.00132179]\n",
      " [4.33291109 4.33308634 4.33354493 4.33279751 4.3348972 ]\n",
      " [4.66604278 4.6660836  4.66698608 4.66595638 4.66857628]\n",
      " [4.99914537 4.99802202 5.00049524 4.99905833 5.00232537]]\n"
     ]
    }
   ],
   "source": [
    "print(features_L2_pylode / features_analytical_l2)"
   ]
  },
  {
   "cell_type": "code",
   "execution_count": 37,
   "id": "catholic-seeking",
   "metadata": {},
   "outputs": [
    {
     "name": "stdout",
     "output_type": "stream",
     "text": [
      "[[1.00001828 0.99999603 1.00002021 0.99987575 1.00068593]\n",
      " [0.99998901 0.99999724 1.00001286 0.99995404 1.00022203]\n",
      " [0.99998207 0.9999953  1.00001185 0.99996435 1.00015507]\n",
      " [1.00000561 0.99999257 1.00001655 0.99993548 1.00026259]\n",
      " [1.00003428 0.99998916 1.00002274 0.99991304 1.00032592]\n",
      " [1.00003599 0.99998263 1.00002884 0.99990467 1.00032795]\n",
      " [1.00001843 0.99996963 1.00003657 0.99989559 1.00033045]\n",
      " [0.99990256 0.999943   1.00004883 0.99987635 1.00036089]\n",
      " [0.99986631 0.99987506 1.00006845 0.9998478  1.0004092 ]\n",
      " [0.99982907 0.9996044  1.00009905 0.99981167 1.00046507]]\n"
     ]
    }
   ],
   "source": [
    "print(features_L2_pylode / features_numerical_l2)"
   ]
  },
  {
   "cell_type": "markdown",
   "id": "editorial-engine",
   "metadata": {},
   "source": [
    "### Repeat for general $l$"
   ]
  },
  {
   "cell_type": "code",
   "execution_count": 43,
   "id": "disabled-platform",
   "metadata": {},
   "outputs": [
    {
     "name": "stdout",
     "output_type": "stream",
     "text": [
      "pyLODE vs numerical coefficients for l = 1\n",
      "[[-0.999993 -1.000008 -0.999995 -1.000023 -0.999865]\n",
      " [-0.999988 -1.00001  -0.999996 -1.000021 -0.999892]\n",
      " [-1.       -1.000003 -0.999988 -1.000049 -0.999777]\n",
      " [-1.000012 -1.000002 -0.999983 -1.000067 -0.999726]\n",
      " [-1.       -1.000008 -0.99998  -1.000071 -0.999733]\n",
      " [-0.999959 -1.000017 -0.999977 -1.000078 -0.999733]\n",
      " [-0.999868 -1.000027 -0.999968 -1.000093 -0.999705]\n",
      " [-1.000122 -1.000048 -0.999955 -1.000115 -0.999664]\n",
      " [-1.000083 -1.000108 -0.999937 -1.000142 -0.99962 ]\n",
      " [-1.000145 -1.000345 -0.999909 -1.000175 -0.999569]]\n",
      "Difference between numerical and analytical evaluation =  1.1055781958455465e-15\n",
      "\n",
      "pyLODE vs numerical coefficients for l = 2\n",
      "[[1.000018 0.999996 1.00002  0.999876 1.000686]\n",
      " [0.999989 0.999997 1.000013 0.999954 1.000222]\n",
      " [0.999982 0.999995 1.000012 0.999964 1.000155]\n",
      " [1.000006 0.999993 1.000017 0.999935 1.000263]\n",
      " [1.000034 0.999989 1.000023 0.999913 1.000326]\n",
      " [1.000036 0.999983 1.000029 0.999905 1.000328]\n",
      " [1.000018 0.99997  1.000037 0.999896 1.00033 ]\n",
      " [0.999903 0.999943 1.000049 0.999876 1.000361]\n",
      " [0.999866 0.999875 1.000068 0.999848 1.000409]\n",
      " [0.999829 0.999604 1.000099 0.999812 1.000465]]\n",
      "Difference between numerical and analytical evaluation =  0.4163992461415825\n",
      "\n",
      "pyLODE vs numerical coefficients for l = 3\n",
      "[[-1.000019 -1.000064 -0.999984 -1.000007 -0.999966]\n",
      " [-1.000001 -1.000037 -0.999983 -1.000048 -0.999773]\n",
      " [-0.999987 -0.999996 -0.999979 -1.000098 -0.999573]\n",
      " [-0.999989 -0.99999  -0.999975 -1.000109 -0.999565]\n",
      " [-0.999996 -1.000014 -0.999971 -1.000103 -0.999622]\n",
      " [-0.999974 -1.000036 -0.999966 -1.000106 -0.999638]\n",
      " [-0.999561 -1.000044 -0.999956 -1.000124 -0.999611]\n",
      " [-1.000157 -1.00006  -0.999942 -1.000148 -0.999573]\n",
      " [-1.000129 -1.000142 -0.99992  -1.000175 -0.999533]\n",
      " [-1.000172 -1.000512 -0.999888 -1.00021  -0.999484]]\n",
      "Difference between numerical and analytical evaluation =  0.48093803255696754\n",
      "\n",
      "pyLODE vs numerical coefficients for l = 4\n",
      "[[1.000031 0.999984 1.000052 0.999762 1.001196]\n",
      " [0.99992  1.000137 1.000031 0.999941 1.000282]\n",
      " [0.999935 1.000054 1.00003  0.999904 1.000411]\n",
      " [1.000036 0.999952 1.000036 0.999853 1.000578]\n",
      " [1.000124 0.99993  1.000042 0.999843 1.000571]\n",
      " [1.000094 0.999968 1.000048 0.99985  1.000505]\n",
      " [1.000398 0.999985 1.000056 0.999845 1.000481]\n",
      " [0.999923 0.999926 1.000071 0.999824 1.000505]\n",
      " [0.999807 0.999769 1.000095 0.999793 1.000548]\n",
      " [0.999777 0.999268 1.000132 0.999754 1.000599]]\n",
      "Difference between numerical and analytical evaluation =  0.42042236937043703\n",
      "\n",
      "pyLODE vs numerical coefficients for l = 5\n",
      "[[-1.000793 -0.999387 -0.999663 -0.999841 -1.000452]\n",
      " [-0.999961 -1.00008  -0.999966 -1.000265 -0.998869]\n",
      " [-0.999602 -1.000218 -1.00001  -1.000306 -0.998807]\n",
      " [-0.99973  -1.000098 -0.999966 -1.000229 -0.999143]\n",
      " [-1.00019  -0.99998  -0.999931 -1.000179 -0.99936 ]\n",
      " [-1.000856 -0.999982 -0.999926 -1.000179 -0.999406]\n",
      " [-1.000325 -1.000077 -0.999927 -1.000201 -0.999384]\n",
      " [-1.00044  -1.000185 -0.999914 -1.000226 -0.999361]\n",
      " [-1.000236 -1.000303 -0.999883 -1.000252 -0.999339]\n",
      " [-1.000136 -1.000912 -0.999838 -1.00029  -0.9993  ]]\n",
      "Difference between numerical and analytical evaluation =  0.3337281994940344\n",
      "\n"
     ]
    }
   ],
   "source": [
    "for l in range(1, lmax+1):\n",
    "    lm_index = l**2 + l\n",
    "    \n",
    "    # Get the features from the spherical expansion codes\n",
    "    features_l_pylode = features_pylode[0::2, 0, :, lm_index]\n",
    "    features_l_rascaline = descriptor_rascaline.values[0::2, lm_index*nmax:(lm_index+1)*nmax] / 10.962374348347298 \n",
    "    features_l_librascal = features_librascal[0::2, lm_index::(lmax+1)**2]\n",
    "    \n",
    "    # Get the features from the analytical and numerical evaluations\n",
    "    features_l_analytical = np.zeros((len(distances), nmax))\n",
    "    features_l_numerical = np.zeros((len(distances), nmax))\n",
    "    for i_dist, d in enumerate(distances):\n",
    "        features_l_analytical[i_dist] = coefficients_analytical_general_l(nmax, d, l=l)\n",
    "        features_l_numerical[i_dist] = coefficients_semianalytical_general_l(nmax, d, l=l)\n",
    "        \n",
    "    # Compare the coefficients\n",
    "    ratios = features_l_pylode / features_l_numerical\n",
    "    err = np.linalg.norm(features_l_analytical - features_l_numerical)\n",
    "    print(f'pyLODE vs numerical coefficients for l = {l}')\n",
    "    print(np.round(ratios,6))\n",
    "    print('Difference between numerical and analytical evaluation = ', err)\n",
    "    print()"
   ]
  },
  {
   "cell_type": "markdown",
   "id": "amended-prison",
   "metadata": {},
   "source": [
    "#### Comment on the results:"
   ]
  },
  {
   "cell_type": "markdown",
   "id": "valued-royalty",
   "metadata": {},
   "source": [
    "Overall, we have four sets of coefficients: 1. pyLODE, 2. rascal (rascaline and librascal, which agree), 3. the analytical expression and 4. the numerical evaluation (pen and paper derivation apart from final step). As the results above show, the coefficients from 1 and 4 agree up to a global sign of (-1)^l, which is most likely easy to be found. What has to be examined:\n",
    "- the analytical and numerical coefficients (3 and 4) do not agree for $l\\geq2$ (see the final line of the printed output above) We need to understand why this is the case.\n",
    "- the rascal coefficients do not agree (even up to global factor) with the results from 3 or 4.\n",
    "- Personal belief by Kevin: Given that I understand the full derivation for 1 and 4, and the two results agree, I am inclined to believe that those values are correct (apart from the global sign discussed above), and think that there might be potential issues with the full analytical formula and some bugs in the rascal implementations."
   ]
  },
  {
   "cell_type": "markdown",
   "id": "orange-bargain",
   "metadata": {},
   "source": [
    "# Compute the exact expression for $l=0$"
   ]
  },
  {
   "cell_type": "markdown",
   "id": "clinical-humanitarian",
   "metadata": {},
   "source": [
    "Note that $l=0$ is more complicated, since the center atom contributes to the density as well. We begin this investigation by using a frame that only consists of a single atom."
   ]
  },
  {
   "cell_type": "code",
   "execution_count": 46,
   "id": "amateur-terrain",
   "metadata": {},
   "outputs": [],
   "source": [
    "frames.append(Atoms('O', positions=[[1,1,1]], cell=cell, pbc=True))\n",
    "frames.append(Atoms('O', positions=[[1,1,1]], cell=1.2*cell, pbc=True))"
   ]
  },
  {
   "cell_type": "markdown",
   "id": "medical-sullivan",
   "metadata": {},
   "source": [
    "### Get the features from librascal"
   ]
  },
  {
   "cell_type": "code",
   "execution_count": 56,
   "id": "severe-sunday",
   "metadata": {},
   "outputs": [],
   "source": [
    "features_librascal_single = calculator_librascal.transform(frames).get_features(calculator_librascal)[-2:]"
   ]
  },
  {
   "cell_type": "markdown",
   "id": "different-spray",
   "metadata": {},
   "source": [
    "### Get the features from pyLODE"
   ]
  },
  {
   "cell_type": "code",
   "execution_count": 57,
   "id": "endangered-athletics",
   "metadata": {},
   "outputs": [],
   "source": [
    "calculator_pylode.transform(frames)\n",
    "features_pylode_single = calculator_pylode.features[-2:]"
   ]
  },
  {
   "cell_type": "markdown",
   "id": "illegal-military",
   "metadata": {},
   "source": [
    "### Get the features from Rascaline"
   ]
  },
  {
   "cell_type": "code",
   "execution_count": 58,
   "id": "jewish-essence",
   "metadata": {},
   "outputs": [],
   "source": [
    "features_rascaline_single = calculator_rascaline.compute(frames).values[-2:]"
   ]
  },
  {
   "cell_type": "markdown",
   "id": "nominated-copper",
   "metadata": {},
   "source": [
    "### Start by checking that the obtained feature vectors only contain nonzero entries for l=0"
   ]
  },
  {
   "cell_type": "code",
   "execution_count": 59,
   "id": "boring-thesis",
   "metadata": {},
   "outputs": [
    {
     "data": {
      "text/plain": [
       "(2, 1, 5, 36)"
      ]
     },
     "execution_count": 59,
     "metadata": {},
     "output_type": "execute_result"
    }
   ],
   "source": [
    "features_pylode_single.shape"
   ]
  },
  {
   "cell_type": "code",
   "execution_count": 60,
   "id": "impressed-tomorrow",
   "metadata": {},
   "outputs": [
    {
     "data": {
      "text/plain": [
       "(2, 180)"
      ]
     },
     "execution_count": 60,
     "metadata": {},
     "output_type": "execute_result"
    }
   ],
   "source": [
    "features_librascal_single.shape"
   ]
  },
  {
   "cell_type": "code",
   "execution_count": 62,
   "id": "regular-bikini",
   "metadata": {},
   "outputs": [
    {
     "data": {
      "text/plain": [
       "(2, 180)"
      ]
     },
     "execution_count": 62,
     "metadata": {},
     "output_type": "execute_result"
    }
   ],
   "source": [
    "features_rascaline_single.shape"
   ]
  },
  {
   "cell_type": "markdown",
   "id": "passing-anime",
   "metadata": {},
   "source": [
    "Check which coefficients are nonzero:"
   ]
  },
  {
   "cell_type": "code",
   "execution_count": 73,
   "id": "alternate-collins",
   "metadata": {},
   "outputs": [],
   "source": [
    "for i in range(len(features_pylode_single)):\n",
    "    feat = features_pylode_single[i,0]\n",
    "    feat_zero = feat[:,1:]\n",
    "    assert_allclose(feat_zero, np.zeros_like(feat_zero), atol=1e-7)"
   ]
  },
  {
   "cell_type": "markdown",
   "id": "civil-engineering",
   "metadata": {},
   "source": [
    "### Define and check exact coefficients for $l=0$"
   ]
  },
  {
   "cell_type": "code",
   "execution_count": 87,
   "id": "angry-sculpture",
   "metadata": {},
   "outputs": [],
   "source": [
    "def exact_coeffs_l0(d):\n",
    "    # Start computing coefficients for l=0\n",
    "    featvec = np.zeros((nmax))\n",
    "    \n",
    "    # Case 1: If the distance is zero, the integrals\n",
    "    # can easily be computed by hand. Furthermore,\n",
    "    # separating this case out is convenient since\n",
    "    # the general expression as a function of the pair\n",
    "    # distance d has a (removable) singularity at d=0\n",
    "    if d == 0:\n",
    "        prefac = np.sqrt(np.pi)\n",
    "        prefac /= np.sqrt(2 * np.pi * smearing**2)**3\n",
    "        \n",
    "        featvec = np.zeros((nmax))\n",
    "        for n in range(nmax):\n",
    "            b = 0.5 * (1/smearing**2 + 1/sigma[n]**2)\n",
    "            neff = (3+n) / 2\n",
    "            featvec[n] = prefac * b**(-neff) * gamma(neff)\n",
    "            \n",
    "    else:\n",
    "        # Define auxilary quantities and prefactors\n",
    "        a = d / smearing**2\n",
    "        prefac = 1. / (np.sqrt(2) * np.pi * smearing * d) * np.exp(-0.5*d**2/smearing**2)\n",
    "\n",
    "        # Start main loop\n",
    "        for n in range(nmax):\n",
    "            # Compute contribution for primitive GTO function\n",
    "            powerlaw = lambda r: r**(1+n)\n",
    "            b = 0.5 * (1/smearing**2 + 1/sigma[n]**2)\n",
    "            gaussian = lambda r: np.exp(-b * r**2)\n",
    "            sinh = lambda r: np.sinh(a * r)\n",
    "            integrand = lambda r: powerlaw(r) * gaussian(r) * sinh(r)\n",
    "\n",
    "            # Numerical Integration\n",
    "            featvec[n] = prefac * quad(integrand, 1e-10, 10 * rcut)[0]\n",
    "\n",
    "    return transformation @ featvec"
   ]
  },
  {
   "cell_type": "code",
   "execution_count": null,
   "id": "trained-configuration",
   "metadata": {},
   "outputs": [
    {
     "name": "stderr",
     "output_type": "stream",
     "text": [
      "<ipython-input-87-bed4a68a00e7>:31: RuntimeWarning: overflow encountered in sinh\n",
      "  sinh = lambda r: np.sinh(a * r)\n",
      "<ipython-input-87-bed4a68a00e7>:32: RuntimeWarning: invalid value encountered in double_scalars\n",
      "  integrand = lambda r: powerlaw(r) * gaussian(r) * sinh(r)\n",
      "<ipython-input-87-bed4a68a00e7>:35: IntegrationWarning: The occurrence of roundoff error is detected, which prevents \n",
      "  the requested tolerance from being achieved.  The error may be \n",
      "  underestimated.\n",
      "  featvec[n] = prefac * quad(integrand, 1e-10, 10 * rcut)[0]\n"
     ]
    }
   ],
   "source": [
    "Ndist = 100\n",
    "dd = np.linspace(0, rcut, Ndist)\n",
    "coeffs = np.zeros((nmax, Ndist))\n",
    "for i, d in enumerate(dd):\n",
    "    coeffs[:,i] = exact_coeffs_l0(d)\n",
    "\n",
    "\n",
    "# Make plot\n",
    "for n in range(3,nmax):\n",
    "    plt.plot(dd, coeffs[n], label=f'n={n}')\n",
    "plt.legend()\n",
    "plt.xlabel('Pair distance rij')\n",
    "plt.ylabel('Contribution to <n00|rho_i>')"
   ]
  },
  {
   "cell_type": "markdown",
   "id": "cloudy-berkeley",
   "metadata": {},
   "source": [
    "Remark: This plot was mostly used to make sure that the implementation for small distances $r_{ij} \\rightarrow 0$ does indeed converge to the special case $r_{ij}=0$ which is implemented separately."
   ]
  },
  {
   "cell_type": "markdown",
   "id": "aggressive-reference",
   "metadata": {},
   "source": [
    "### Compare pyLODE and rascal coefficients with exact values"
   ]
  },
  {
   "cell_type": "code",
   "execution_count": 93,
   "id": "apparent-coral",
   "metadata": {},
   "outputs": [],
   "source": [
    "feat_pylode_l0_zero = features_pylode_single[0,0,:,0]"
   ]
  },
  {
   "cell_type": "code",
   "execution_count": 94,
   "id": "local-enemy",
   "metadata": {},
   "outputs": [
    {
     "data": {
      "text/plain": [
       "(5,)"
      ]
     },
     "execution_count": 94,
     "metadata": {},
     "output_type": "execute_result"
    }
   ],
   "source": [
    "feat_pylode_l0_zero.shape"
   ]
  },
  {
   "cell_type": "code",
   "execution_count": 95,
   "id": "arctic-ethiopia",
   "metadata": {},
   "outputs": [
    {
     "data": {
      "text/plain": [
       "array([ 3.96244980e-01, -4.15614113e-02,  7.82924674e-03,  2.53274680e-03,\n",
       "        9.21855147e-05])"
      ]
     },
     "execution_count": 95,
     "metadata": {},
     "output_type": "execute_result"
    }
   ],
   "source": [
    "coeffs[:,0]"
   ]
  },
  {
   "cell_type": "code",
   "execution_count": 97,
   "id": "reported-evanescence",
   "metadata": {},
   "outputs": [],
   "source": [
    "coeffs_center_exact = coeffs[:,0]"
   ]
  },
  {
   "cell_type": "code",
   "execution_count": 98,
   "id": "official-purple",
   "metadata": {},
   "outputs": [
    {
     "name": "stdout",
     "output_type": "stream",
     "text": [
      "Exact center contributions [ 3.96244980e-01 -4.15614113e-02  7.82924674e-03  2.53274680e-03\n",
      "  9.21855147e-05]\n"
     ]
    }
   ],
   "source": [
    "print('Exact center contributions', coeffs_center_exact)"
   ]
  },
  {
   "cell_type": "code",
   "execution_count": 99,
   "id": "insured-thunder",
   "metadata": {},
   "outputs": [
    {
     "name": "stdout",
     "output_type": "stream",
     "text": [
      "Comparison to pyLODE\n",
      "[0.99999336 0.99992641 1.00036322 0.99855786 1.02418289]\n"
     ]
    }
   ],
   "source": [
    "print('Comparison to pyLODE')\n",
    "print(feat_pylode_l0_zero / coeffs_center_exact)"
   ]
  },
  {
   "cell_type": "code",
   "execution_count": 102,
   "id": "contrary-agriculture",
   "metadata": {},
   "outputs": [
    {
     "name": "stdout",
     "output_type": "stream",
     "text": [
      "Comparison to librascal\n",
      "[ 0.08525288  0.23575038  0.0870154  -0.61764874  8.38379227]\n"
     ]
    }
   ],
   "source": [
    "print('Comparison to librascal')\n",
    "feat_librascal_l0_nonzeropart = features_librascal_single[0,::(lmax+1)**2]\n",
    "print(feat_librascal_l0_nonzeropart / coeffs_center_exact)"
   ]
  },
  {
   "cell_type": "code",
   "execution_count": 108,
   "id": "driving-zimbabwe",
   "metadata": {},
   "outputs": [
    {
     "data": {
      "text/plain": [
       "array([ 0.03378103, -0.00979812,  0.00068127, -0.00156435,  0.00077286])"
      ]
     },
     "execution_count": 108,
     "metadata": {},
     "output_type": "execute_result"
    }
   ],
   "source": [
    "feat_librascal_l0_nonzeropart"
   ]
  },
  {
   "cell_type": "code",
   "execution_count": 104,
   "id": "developmental-classic",
   "metadata": {},
   "outputs": [
    {
     "name": "stdout",
     "output_type": "stream",
     "text": [
      "Comparison to rascaline\n",
      "[ 1.74709451e-309 -1.66567353e-308  8.84219710e-308  2.73330689e-307\n",
      "  7.50961180e-306]\n"
     ]
    }
   ],
   "source": [
    "print('Comparison to rascaline')\n",
    "feat_rascaline_l0_nonzeropart = features_rascaline_single[0,:nmax]\n",
    "print(feat_rascaline_l0_nonzeropart / coeffs_center_exact)"
   ]
  },
  {
   "cell_type": "code",
   "execution_count": null,
   "id": "lesbian-insurance",
   "metadata": {},
   "outputs": [],
   "source": []
  }
 ],
 "metadata": {
  "kernelspec": {
   "display_name": "Python 3",
   "language": "python",
   "name": "python3"
  },
  "language_info": {
   "codemirror_mode": {
    "name": "ipython",
    "version": 3
   },
   "file_extension": ".py",
   "mimetype": "text/x-python",
   "name": "python",
   "nbconvert_exporter": "python",
   "pygments_lexer": "ipython3",
   "version": "3.8.5"
  }
 },
 "nbformat": 4,
 "nbformat_minor": 5
}
