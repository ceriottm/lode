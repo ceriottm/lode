{
 "cells": [
  {
   "cell_type": "code",
   "execution_count": 1,
   "id": "mental-mumbai",
   "metadata": {},
   "outputs": [],
   "source": [
    "%load_ext autoreload\n",
    "%autoreload 2"
   ]
  },
  {
   "cell_type": "code",
   "execution_count": 2,
   "id": "banner-facility",
   "metadata": {},
   "outputs": [],
   "source": [
    "import sys"
   ]
  },
  {
   "cell_type": "code",
   "execution_count": 3,
   "id": "joint-disorder",
   "metadata": {},
   "outputs": [],
   "source": [
    "sys.path.insert(0, '/ssd/scratch/khugueni/librascal-pypi-release/build')"
   ]
  },
  {
   "cell_type": "code",
   "execution_count": 4,
   "id": "swiss-hampton",
   "metadata": {},
   "outputs": [],
   "source": [
    "%matplotlib inline\n",
    "from matplotlib import pylab as plt\n",
    "\n",
    "import time\n",
    "import rascal\n",
    "\n",
    "import ase\n",
    "from ase import Atoms\n",
    "from ase.io import read, write\n",
    "from ase.build import make_supercell\n",
    "from ase.visualize import view\n",
    "from numpy.testing import assert_allclose\n",
    "import numpy as np\n",
    "from numpy.linalg import norm\n",
    "\n",
    "from scipy.integrate import quad\n",
    "from pylode.lib.radial_basis import innerprod\n",
    "from scipy.special import gamma, hyp1f1, sph_harm, iv\n",
    "\n",
    "# Descriptor related imports: compare the librascal and pyLODE versions of SOAP\n",
    "from rascal.representations import SphericalExpansion as RascalSphericalExpansion\n",
    "#from librascal.representations import SphericalExpansion as RascalSphericalExpansion\n",
    "import rascaline\n",
    "from pylode.lib.projection_coeffs import DensityProjectionCalculator"
   ]
  },
  {
   "cell_type": "markdown",
   "id": "radio-worthy",
   "metadata": {},
   "source": [
    "# Introduction"
   ]
  },
  {
   "cell_type": "markdown",
   "id": "ecological-trash",
   "metadata": {},
   "source": [
    "This notebook is used to compare the features obtained from rascaline, librascal and pylode. The goal is to fully understand the details of the three implementations to make sure that the same coefficients from different codes agree."
   ]
  },
  {
   "cell_type": "markdown",
   "id": "forced-porter",
   "metadata": {},
   "source": [
    "## Table of Contents:\n",
    "* [Preparation](#preparation)\n",
    "    * [Exact Expression for Coefficients](#exactexpressions)\n",
    "    * [Get the features for dimers](#getfeatures)\n",
    "* [Coefficients for $l=1$](#l=1)\n",
    "    * [Explicit computation of coefficients for $l=1$](#l=1explicit)\n",
    "    * [Comparison to pyLODE/rascal for dimers](#l=1dimer)\n",
    "* [Coefficients for $l\\geq 2$](#lgeq2)\n",
    "    * [Coefficients for $l=2$](#l=2)\n",
    "    * [Coefficients for general $l$](#l_general)\n",
    "* [Coefficients for l=0](#l=0)\n",
    "    * [Exact coefficients](#l=0exact)\n",
    "    * [Comparison to pyLODE/rascal for center contribution](#l=0center)\n",
    "    * [Comparison to pyLODE/rascal for dimers](#l=0dimer)"
   ]
  },
  {
   "cell_type": "markdown",
   "id": "defined-clinic",
   "metadata": {},
   "source": [
    "# Preparation: Get features from all three codes <a class=\"anchor\" id=\"preparation\"></a>"
   ]
  },
  {
   "cell_type": "markdown",
   "id": "funded-message",
   "metadata": {},
   "source": [
    "## Exact Expression for Coefficients <a class=\"anchor\" id=\"exactexpressions\"></a>"
   ]
  },
  {
   "cell_type": "markdown",
   "id": "following-adobe",
   "metadata": {},
   "source": [
    "### Define common hyperparameters"
   ]
  },
  {
   "cell_type": "code",
   "execution_count": 5,
   "id": "suspended-lease",
   "metadata": {},
   "outputs": [],
   "source": [
    "nmax = 5\n",
    "lmax = 1\n",
    "rcut = 6.\n",
    "smearing = 0.5"
   ]
  },
  {
   "cell_type": "markdown",
   "id": "rental-surrey",
   "metadata": {},
   "source": [
    "### Generate orthonormalization matrix <a class=\"anchor\" id=\"orthonormalization\"></a>"
   ]
  },
  {
   "cell_type": "code",
   "execution_count": 6,
   "id": "continental-concern",
   "metadata": {},
   "outputs": [],
   "source": [
    "Nradial = 1000\n",
    "sigma = np.ones(nmax, dtype=float)\n",
    "for i in range(1, nmax):\n",
    "    sigma[i] = np.sqrt(i)\n",
    "sigma *= rcut / nmax\n",
    "\n",
    "# Define primitive GTO-like radial basis functions\n",
    "f_gto = lambda n, x: x**n * np.exp(-0.5 * (x / sigma[n])**2)\n",
    "xx = np.linspace(0, rcut * 2.5, Nradial)\n",
    "R_n = np.array([f_gto(n, xx) for n in range(nmax)])"
   ]
  },
  {
   "cell_type": "code",
   "execution_count": 7,
   "id": "square-admission",
   "metadata": {},
   "outputs": [],
   "source": [
    "# Define inner product matrix using analytical expression for primitive GTOs\n",
    "innerprods_primitive = np.zeros((nmax, nmax))\n",
    "for n1 in range(nmax):\n",
    "    for n2 in range(nmax):\n",
    "        sigeff = 0.5 * (1/sigma[n1]**2 + 1/sigma[n2]**2)\n",
    "        neff = 0.5 * (3 + n1 + n2)\n",
    "        innerprods_primitive[n1, n2] = 0.5 * sigeff**(-neff) * gamma(neff)\n",
    "\n",
    "eigvals, eigvecs = np.linalg.eigh(innerprods_primitive)\n",
    "transformation_primitive = eigvecs @ np.diag(np.sqrt(1. / eigvals)) @ eigvecs.T"
   ]
  },
  {
   "cell_type": "code",
   "execution_count": 8,
   "id": "listed-gamma",
   "metadata": {},
   "outputs": [],
   "source": [
    "normalizations = np.zeros((nmax,))\n",
    "for n in range(nmax):\n",
    "    normalizations[n] = 1/np.sqrt(innerprods_primitive[n, n])"
   ]
  },
  {
   "cell_type": "code",
   "execution_count": 9,
   "id": "graduate-standard",
   "metadata": {},
   "outputs": [],
   "source": [
    "# Inner product matrix for normalized GTOs\n",
    "innerprods_normalized = np.zeros((nmax, nmax))\n",
    "for n1 in range(nmax):\n",
    "    for n2 in range(nmax):\n",
    "        innerprods_normalized[n1, n2] = innerprods_primitive[n1, n2]\n",
    "        innerprods_normalized[n1, n2] *= normalizations[n1] * normalizations[n2]"
   ]
  },
  {
   "cell_type": "code",
   "execution_count": 10,
   "id": "resistant-contest",
   "metadata": {},
   "outputs": [],
   "source": [
    "eigvals, eigvecs = np.linalg.eigh(innerprods_normalized)\n",
    "transformation_normalized = eigvecs @ np.diag(np.sqrt(1. / eigvals)) @ eigvecs.T"
   ]
  },
  {
   "cell_type": "code",
   "execution_count": 11,
   "id": "forty-cinema",
   "metadata": {},
   "outputs": [],
   "source": [
    "use_gto_convention = 'normalized' # choose between 'normalized' and 'primitive'\n",
    "if use_gto_convention == 'normalized':\n",
    "    transformation = transformation_normalized\n",
    "    innerprods = innerprods_normalized\n",
    "elif use_gto_convention == 'primitive':\n",
    "    transformation = transformation_primitive\n",
    "    innerprods = innerprods_primitive\n",
    "    normalizations = np.ones_like(normalizations)"
   ]
  },
  {
   "cell_type": "code",
   "execution_count": 12,
   "id": "interpreted-sierra",
   "metadata": {},
   "outputs": [],
   "source": [
    "assert_allclose(transformation @ innerprods @ transformation, np.eye(nmax), atol=1e-5, rtol=1e-5)"
   ]
  },
  {
   "cell_type": "markdown",
   "id": "polish-education",
   "metadata": {},
   "source": [
    "### Fully analytical formula for general $l$"
   ]
  },
  {
   "cell_type": "code",
   "execution_count": 13,
   "id": "clear-development",
   "metadata": {},
   "outputs": [],
   "source": [
    "def coefficients_analytical_general_l(nmax, d, l):\n",
    "    # Define auxilary quantities and prefactors\n",
    "    a = 1. / (2 * smearing**2)\n",
    "    lplus3half = l + 1.5\n",
    "    prefac_global = np.pi**1.5 * sph_harm(0, l, 0, 0).real * a**l / gamma(lplus3half)\n",
    "    prefac_global *= d**l * np.exp(-a*d**2)\n",
    "    prefac_global /= (np.pi * smearing**2)**(3/4)\n",
    "\n",
    "    # Start main loop\n",
    "    featvec = np.zeros((nmax))\n",
    "    for n in range(nmax):\n",
    "        nlplus3half = (3 + n + l) / 2\n",
    "        b = 1. / (2 * sigma[n]**2)\n",
    "        prefac_n_dep = gamma(nlplus3half) / (a+b)**nlplus3half\n",
    "        hyp = hyp1f1(nlplus3half, lplus3half, a**2*d**2/(a+b))\n",
    "        featvec[n] = normalizations[n] * prefac_n_dep * hyp\n",
    "\n",
    "    #return prefac_global * featvec\n",
    "    return prefac_global * (transformation @ featvec)   "
   ]
  },
  {
   "cell_type": "markdown",
   "id": "prompt-grounds",
   "metadata": {},
   "source": [
    "### Semianalytical (final integral performed numerically) formula for general l"
   ]
  },
  {
   "cell_type": "code",
   "execution_count": 14,
   "id": "expressed-weapon",
   "metadata": {},
   "outputs": [],
   "source": [
    "def coefficients_semianalytical_general_l(nmax, d, l):\n",
    "    # Prefactor\n",
    "    a = 1. / (2 * smearing**2)\n",
    "    prefac_global = 4*np.pi * sph_harm(0, l, 0, 0).real * np.exp(-a*d**2)\n",
    "    prefac_global /= (np.pi * smearing**2)**(3/4)\n",
    "\n",
    "    # Main loop performing the numerical integration\n",
    "    featvec = np.zeros((nmax))\n",
    "    for n in range(nmax):\n",
    "        # Define the integrand consisting of a power-law, Gaussian and Bessel part\n",
    "        b = 1. / (2 * sigma[n]**2)\n",
    "        gaussian = lambda r: np.exp(-(a+b)*r**2)\n",
    "        power = lambda r: r**(2+n)\n",
    "        mod_sph_bessel = lambda x: np.sqrt(np.pi/2/x) * iv(l + 0.5, x)\n",
    "        bessel = lambda r: mod_sph_bessel(2*a*d*r)\n",
    "        integrand = lambda r: power(r) * gaussian(r) * bessel(r)\n",
    "        \n",
    "        # Numerical integration\n",
    "        eps = 1e-10\n",
    "        featvec[n] = normalizations[n] * quad(integrand, eps, 4.5*rcut)[0]\n",
    "\n",
    "    #return prefac_global * featvec\n",
    "    return prefac_global * (transformation @ featvec)   "
   ]
  },
  {
   "cell_type": "markdown",
   "id": "scientific-consortium",
   "metadata": {},
   "source": [
    "## Get the features for dimers <a class=\"anchor\" id=\"getfeatures\"></a>"
   ]
  },
  {
   "cell_type": "markdown",
   "id": "electoral-oasis",
   "metadata": {},
   "source": [
    "### Define structure to be used for the comparison\n",
    "The main differences between librascal and the pyLODE implementation are the presence of a smooth cutoff function and the potentially different order in which neighbors are stored. We thus wish to generate structures for which these two effects do not alter the coefficients too much. For this task, we use clusters of Oxygen atoms for which all atoms have a mutual distance of less than 3A. Then, even for a relatively large smearing of 1.5A, the atomic densities will be reasonably contained within a ball of cutoff radius 6 that will also be used for the cutoff."
   ]
  },
  {
   "cell_type": "code",
   "execution_count": 15,
   "id": "floppy-subject",
   "metadata": {},
   "outputs": [],
   "source": [
    "frames = []\n",
    "cell = np.eye(3) * 16\n",
    "Ndimers = 15\n",
    "distances = np.linspace(1., 2.5, Ndimers)\n",
    "for d in distances:\n",
    "    positions = [[1,1,1],[1,1,1+d]]\n",
    "    frame = Atoms('O2', positions=positions, cell=cell, pbc=True)\n",
    "    frames.append(frame)"
   ]
  },
  {
   "cell_type": "markdown",
   "id": "funded-operations",
   "metadata": {},
   "source": [
    "### Get the features from pyLODE"
   ]
  },
  {
   "cell_type": "code",
   "execution_count": 16,
   "id": "happy-sydney",
   "metadata": {},
   "outputs": [],
   "source": [
    "hypers = {\n",
    "    'smearing':smearing,\n",
    "    'max_angular':lmax,\n",
    "    'max_radial':nmax,\n",
    "    'cutoff_radius':rcut,\n",
    "    'potential_exponent':0,\n",
    "    'radial_basis': 'gto',\n",
    "    'compute_gradients':False,\n",
    "    'subtract_center_contribution':False,\n",
    "    }\n",
    "\n",
    "calculator_pylode = DensityProjectionCalculator(**hypers)\n",
    "calculator_pylode.transform(frames)\n",
    "features_pylode = calculator_pylode.features"
   ]
  },
  {
   "cell_type": "markdown",
   "id": "random-corporation",
   "metadata": {},
   "source": [
    "### Get the features from librascal"
   ]
  },
  {
   "cell_type": "code",
   "execution_count": 23,
   "id": "undefined-morning",
   "metadata": {},
   "outputs": [],
   "source": [
    "# define the parameters of the spherical expansion\n",
    "hypers = dict(interaction_cutoff=rcut, \n",
    "              max_radial=nmax, \n",
    "              max_angular=lmax, \n",
    "              gaussian_sigma_constant=smearing,\n",
    "              gaussian_sigma_type=\"Constant\",\n",
    "              cutoff_smooth_width=0.1,\n",
    "              radial_basis=\"GTO\",\n",
    "              compute_gradients=False,\n",
    "              expansion_by_species_method='structure wise',\n",
    "              optimization=dict(Spline=dict(accuracy=1e-12)),\n",
    "              )\n",
    "\n",
    "calculator_librascal = RascalSphericalExpansion(**hypers)\n",
    "# compute the representation of all the structures\n",
    "features_librascal = calculator_librascal.transform(frames).get_features(calculator_librascal)"
   ]
  },
  {
   "cell_type": "markdown",
   "id": "rental-working",
   "metadata": {},
   "source": [
    "### Get the features from Rascaline"
   ]
  },
  {
   "cell_type": "code",
   "execution_count": 24,
   "id": "bottom-shower",
   "metadata": {},
   "outputs": [],
   "source": [
    "HYPER_PARAMETERS = {\n",
    "    \"cutoff\": rcut,\n",
    "    \"max_radial\": nmax,\n",
    "    \"max_angular\": lmax,\n",
    "    \"atomic_gaussian_width\": smearing,\n",
    "    \"gradients\": False,\n",
    "    \"center_atom_weight\": 1.0,\n",
    "    \"radial_basis\": {\n",
    "        \"Gto\": {},\n",
    "    },\n",
    "    \"cutoff_function\": {\n",
    "        \"Step\": {\"width\": 1e-3},\n",
    "    },\n",
    "}\n",
    "\n",
    "calculator_rascaline = rascaline.SphericalExpansion(**HYPER_PARAMETERS)\n",
    "\n",
    "# run the actual calculation\n",
    "descriptor_rascaline = calculator_rascaline.compute(frames)"
   ]
  },
  {
   "cell_type": "markdown",
   "id": "beautiful-guest",
   "metadata": {},
   "source": [
    "# Compare coefficients for $l=1$ <a class=\"anchor\" id=\"l=1\"></a>"
   ]
  },
  {
   "cell_type": "markdown",
   "id": "coastal-animal",
   "metadata": {},
   "source": [
    "## Explicit computation of coefficients for $l=1$ <a class=\"anchor\" id=\"l=1explicit\"></a>"
   ]
  },
  {
   "cell_type": "markdown",
   "id": "completed-future",
   "metadata": {},
   "source": [
    "To make sure that we understand every single aspect of the codes including all the prefactors and conventions, we compute the exact coefficients we would expect from an Oxygen molecule oriented along the z-axis. The computations are done using three (four) different methods: a fully analytical approach applicable to all $l$, a semi-analytical approach in which the final radial integral is evaluated numerically also valid for all $l$, and finally an explicit formula that was obtained directly for the special case $l=1$ starting at the very definition. For convenience, we also include the complete analytical formula for the special case $l=1$."
   ]
  },
  {
   "cell_type": "markdown",
   "id": "realistic-sellers",
   "metadata": {},
   "source": [
    "### Fully analytical formula for $l=1$"
   ]
  },
  {
   "cell_type": "code",
   "execution_count": 28,
   "id": "welsh-python",
   "metadata": {},
   "outputs": [],
   "source": [
    "def coefficients_analytical_l1(nmax, d):\n",
    "    # Define auxilary quantities and prefactors\n",
    "    a = 1. / (2 * smearing**2)\n",
    "    lplus3half = 2.5\n",
    "    prefac_global = np.pi * np.sqrt(3/4) * a / gamma(lplus3half) * d * np.exp(-a*d**2)\n",
    "    prefac_global /= (np.pi*smearing**2)**(3/4)\n",
    "    \n",
    "    # Start main loop\n",
    "    featvec = np.zeros((nmax))\n",
    "    for n in range(nmax):\n",
    "        # Compute contribution for primitive GTO function\n",
    "        nlplus3half = (4 + n) / 2\n",
    "        b = 1. / (2 * sigma[n]**2)\n",
    "        prefac_n_dep = gamma(nlplus3half) / (a+b)**nlplus3half\n",
    "        hyp = hyp1f1(nlplus3half, lplus3half, a**2*d**2/(a+b))\n",
    "        featvec[n] = normalizations[n] * prefac_n_dep * hyp\n",
    "\n",
    "    return prefac_global * (transformation @ featvec)"
   ]
  },
  {
   "cell_type": "markdown",
   "id": "frequent-cooler",
   "metadata": {},
   "source": [
    "### Semianalytical (final integral performed numerically) formula for $l=1$"
   ]
  },
  {
   "cell_type": "code",
   "execution_count": 29,
   "id": "accurate-mumbai",
   "metadata": {},
   "outputs": [],
   "source": [
    "def coefficients_semianalytical_l1(nmax, d):\n",
    "    # Prefactor\n",
    "    a = 1. / (2 * smearing**2)\n",
    "    prefac = np.sqrt(1.5) / (2 * np.pi * smearing**3)\n",
    "    prefac *= np.exp(-a*d**2)\n",
    "    prefac *= (2*np.pi*smearing**2)**1.5 / (np.pi*smearing**2)**(3/4)\n",
    "    \n",
    "    # Start main loop\n",
    "    featvec = np.zeros((nmax,))\n",
    "    for n in range(nmax):\n",
    "        # Start defining functions appearing in integrand\n",
    "        b = 1. / (2 * sigma[n]**2)\n",
    "        gaussian = lambda r: np.exp(-(a+b)*r**2)\n",
    "        power = lambda r: r**(2+n)\n",
    "        mod_sph_bessel = lambda x: (x*np.cosh(x) - np.sinh(x))/x**2\n",
    "        bessel = lambda r: mod_sph_bessel(2*a*d*r)\n",
    "\n",
    "        integrand = lambda r: power(r) * gaussian(r) * bessel(r) * 2\n",
    "        \n",
    "        # Numerical Integration\n",
    "        featvec[n] = normalizations[n] * quad(integrand, 1e-10, 4.5 * rcut)[0]\n",
    "    \n",
    "    return prefac * (transformation @ featvec)"
   ]
  },
  {
   "cell_type": "markdown",
   "id": "satisfied-copying",
   "metadata": {},
   "source": [
    "### Compare the coefficients obtained using different methods"
   ]
  },
  {
   "cell_type": "code",
   "execution_count": 30,
   "id": "loose-problem",
   "metadata": {},
   "outputs": [],
   "source": [
    "features_analytical_l1 = np.zeros((len(distances), nmax))\n",
    "features_semianalytical_l1 = np.zeros((len(distances), nmax))\n",
    "features_analytical_general = np.zeros((len(distances), nmax))\n",
    "features_semianalytical_general = np.zeros((len(distances), nmax))\n",
    "\n",
    "for i_dist, d in enumerate(distances):\n",
    "    features_analytical_l1[i_dist] = coefficients_analytical_l1(nmax, d)\n",
    "    features_semianalytical_l1[i_dist] = coefficients_semianalytical_l1(nmax, d)\n",
    "    features_analytical_general[i_dist] = coefficients_analytical_general_l(nmax, d, l=1)\n",
    "    features_semianalytical_general[i_dist] = coefficients_semianalytical_general_l(nmax, d, l=1)"
   ]
  },
  {
   "cell_type": "code",
   "execution_count": 31,
   "id": "productive-entry",
   "metadata": {},
   "outputs": [
    {
     "name": "stdout",
     "output_type": "stream",
     "text": [
      "1.212138028838794e-16\n",
      "2.548252555056503e-15\n",
      "1.3430436943151222e-15\n"
     ]
    }
   ],
   "source": [
    "delta1 = np.linalg.norm(features_analytical_l1 - features_analytical_general)\n",
    "delta2 = np.linalg.norm(features_analytical_general - features_semianalytical_general)\n",
    "delta3 = np.linalg.norm(features_semianalytical_l1 - features_semianalytical_general)\n",
    "print(delta1)\n",
    "print(delta2)\n",
    "print(delta3)"
   ]
  },
  {
   "cell_type": "markdown",
   "id": "joint-history",
   "metadata": {},
   "source": [
    "## Compare the exact values with those obtained from the three codes <a class=\"anchor\" id=\"l=1dimer\"></a>"
   ]
  },
  {
   "cell_type": "markdown",
   "id": "mathematical-implement",
   "metadata": {},
   "source": [
    "The exact coefficients obtained using the analytical formula are now compared to those obtained from the three codes."
   ]
  },
  {
   "cell_type": "markdown",
   "id": "strong-tiger",
   "metadata": {},
   "source": [
    "### Get the $l=1$ (and $m=0$) part of the features of the three codes"
   ]
  },
  {
   "cell_type": "code",
   "execution_count": 32,
   "id": "absolute-sucking",
   "metadata": {},
   "outputs": [
    {
     "name": "stdout",
     "output_type": "stream",
     "text": [
      "Shapes of feature vectors\n",
      "rascaline (30, 20)\n",
      "librascal (30, 20)\n"
     ]
    }
   ],
   "source": [
    "print('Shapes of feature vectors')\n",
    "print('rascaline', descriptor_rascaline.values.shape)\n",
    "print('librascal', features_librascal.shape)"
   ]
  },
  {
   "cell_type": "code",
   "execution_count": 33,
   "id": "aggregate-crime",
   "metadata": {},
   "outputs": [],
   "source": [
    "features_L1_rascaline = descriptor_rascaline.values[0::2, 2*nmax:3*nmax] / 10.962374348347298 "
   ]
  },
  {
   "cell_type": "code",
   "execution_count": 34,
   "id": "green-native",
   "metadata": {},
   "outputs": [],
   "source": [
    "features_L1_librascal = features_librascal[0::2, 2::(lmax+1)**2]"
   ]
  },
  {
   "cell_type": "code",
   "execution_count": 35,
   "id": "portuguese-dividend",
   "metadata": {},
   "outputs": [],
   "source": [
    "features_L1_pylode = features_pylode[0::2, 0, :, 2]"
   ]
  },
  {
   "cell_type": "code",
   "execution_count": 36,
   "id": "miniature-ottawa",
   "metadata": {},
   "outputs": [],
   "source": [
    "for i,features in enumerate([features_L1_rascaline, features_L1_librascal, features_L1_pylode, features_analytical_l1]):\n",
    "    assert features.shape == (len(distances), nmax)"
   ]
  },
  {
   "cell_type": "code",
   "execution_count": 37,
   "id": "scenic-exhaust",
   "metadata": {},
   "outputs": [
    {
     "name": "stdout",
     "output_type": "stream",
     "text": [
      "[[ 8.46699747e-01  6.72185022e+00 -1.83005355e-01  3.39258157e+00\n",
      "  -1.67284502e-01]\n",
      " [ 8.29632652e-01  4.64659278e+00 -1.57082937e-01  1.08742771e+00\n",
      "  -1.81754301e-01]\n",
      " [ 8.08371689e-01  3.97597631e+00 -1.22381295e-01  6.17723155e-01\n",
      "  -1.73662280e-01]\n",
      " [ 7.82183913e-01  3.71430288e+00 -8.02365228e-02  3.99369829e-01\n",
      "  -1.50056768e-01]\n",
      " [ 7.50342069e-01  3.64673434e+00 -3.21383405e-02  2.67435989e-01\n",
      "  -1.18419736e-01]\n",
      " [ 7.12208121e-01  3.70846399e+00  2.05398877e-02  1.77935704e-01\n",
      "  -8.49752546e-02]\n",
      " [ 6.67357919e-01  3.88643303e+00  7.67223626e-02  1.14062038e-01\n",
      "  -5.39720266e-02]\n",
      " [ 6.15748513e-01  4.19965700e+00  1.35728523e-01  6.78169444e-02\n",
      "  -2.77398323e-02]\n",
      " [ 5.57914841e-01  4.70651464e+00  1.97313942e-01  3.47148811e-02\n",
      "  -7.13120447e-03]\n",
      " [ 4.95160525e-01  5.54514044e+00  2.61687825e-01  1.18920952e-02\n",
      "   7.96259136e-03]\n",
      " [ 4.29685019e-01  7.07833923e+00  3.29539336e-01 -2.66331774e-03\n",
      "   1.81798460e-02]\n",
      " [ 3.64580699e-01  1.05944931e+01  4.02103700e-01 -1.04541576e-02\n",
      "   2.43845032e-02]\n",
      " [ 3.03655935e-01  2.62078306e+01  4.81304159e-01 -1.26379597e-02\n",
      "   2.74769699e-02]\n",
      " [ 2.51101283e-01 -3.34354507e+01  5.70025514e-01 -1.01105976e-02\n",
      "   2.82896428e-02]\n",
      " [ 2.11099648e-01 -8.77346774e+00  6.72624027e-01 -3.55090268e-03\n",
      "   2.75384761e-02]]\n"
     ]
    }
   ],
   "source": [
    "print(features_analytical_l1 / features_L1_pylode)"
   ]
  },
  {
   "cell_type": "code",
   "execution_count": 38,
   "id": "public-cooperation",
   "metadata": {},
   "outputs": [
    {
     "name": "stdout",
     "output_type": "stream",
     "text": [
      "[[73.1664572 73.1664572 73.1664572 73.1664572 73.1664572]\n",
      " [73.1664572 73.1664572 73.1664572 73.1664572 73.1664572]\n",
      " [73.1664572 73.1664572 73.1664572 73.1664572 73.1664572]\n",
      " [73.1664572 73.1664572 73.1664572 73.1664572 73.1664572]\n",
      " [73.1664572 73.1664572 73.1664572 73.1664572 73.1664572]\n",
      " [73.1664572 73.1664572 73.1664572 73.1664572 73.1664572]\n",
      " [73.1664572 73.1664572 73.1664572 73.1664572 73.1664572]\n",
      " [73.1664572 73.1664572 73.1664572 73.1664572 73.1664572]\n",
      " [73.1664572 73.1664572 73.1664572 73.1664572 73.1664572]\n",
      " [73.1664572 73.1664572 73.1664572 73.1664572 73.1664572]\n",
      " [73.1664572 73.1664572 73.1664572 73.1664572 73.1664572]\n",
      " [73.1664572 73.1664572 73.1664572 73.1664572 73.1664572]\n",
      " [73.1664572 73.1664572 73.1664572 73.1664572 73.1664572]\n",
      " [73.1664572 73.1664572 73.1664572 73.1664572 73.1664572]\n",
      " [73.1664572 73.1664572 73.1664572 73.1664572 73.1664572]]\n"
     ]
    }
   ],
   "source": [
    "print(features_analytical_l1 / features_L1_rascaline)"
   ]
  },
  {
   "cell_type": "code",
   "execution_count": 39,
   "id": "active-jungle",
   "metadata": {},
   "outputs": [
    {
     "name": "stdout",
     "output_type": "stream",
     "text": [
      "[[26.69730293 26.69730293 26.69730293 26.69730293 26.69730293]\n",
      " [26.69730293 26.69730293 26.69730293 26.69730293 26.69730293]\n",
      " [26.69730293 26.69730293 26.69730293 26.69730293 26.69730293]\n",
      " [26.69730293 26.69730293 26.69730293 26.69730293 26.69730293]\n",
      " [26.69730293 26.69730293 26.69730293 26.69730293 26.69730293]\n",
      " [26.69730293 26.69730293 26.69730293 26.69730293 26.69730293]\n",
      " [26.69730293 26.69730293 26.69730293 26.69730293 26.69730293]\n",
      " [26.69730293 26.69730293 26.69730293 26.69730293 26.69730293]\n",
      " [26.69730293 26.69730293 26.69730293 26.69730293 26.69730293]\n",
      " [26.69730293 26.69730293 26.69730293 26.69730293 26.69730293]\n",
      " [26.69730293 26.69730293 26.69730293 26.69730293 26.69730293]\n",
      " [26.69730293 26.69730293 26.69730293 26.69730293 26.69730293]\n",
      " [26.69730293 26.69730293 26.69730293 26.69730293 26.69730293]\n",
      " [26.69730293 26.69730293 26.69730293 26.69730293 26.69730293]\n",
      " [26.69730293 26.69730293 26.69730293 26.69730293 26.69730293]]\n"
     ]
    }
   ],
   "source": [
    "print(features_semianalytical_general / features_L1_librascal)"
   ]
  },
  {
   "cell_type": "code",
   "execution_count": null,
   "id": "nonprofit-collectible",
   "metadata": {},
   "outputs": [],
   "source": [
    "for i, d in enumerate(distances):\n",
    "    print('Distance ', i)\n",
    "    coeffs_rascaline = descriptor_rascaline.values[2*i].reshape(((lmax+1)**2, nmax)).T\n",
    "    coeffs_librascal = features_librascal[2*i].reshape((nmax,(lmax+1)**2))\n",
    "    coeffs_pylode = features_pylode[2*i,0]\n",
    "    \n",
    "    for coeffs in [coeffs_rascaline, coeffs_librascal, coeffs_pylode]:\n",
    "        print(coeffs[:,2] / features_analytical_general[i])\n",
    "    \n",
    "    print()"
   ]
  },
  {
   "cell_type": "markdown",
   "id": "joined-wisconsin",
   "metadata": {},
   "source": [
    "# Compare coefficients for $l\\geq 2$ <a class=\"anchor\" id=\"lgeq2\"></a>"
   ]
  },
  {
   "cell_type": "markdown",
   "id": "tender-defensive",
   "metadata": {},
   "source": [
    "## Compare coefficients for $l=2$ <a class=\"anchor\" id=\"l=2\"></a>"
   ]
  },
  {
   "cell_type": "code",
   "execution_count": 40,
   "id": "taken-setting",
   "metadata": {},
   "outputs": [],
   "source": [
    "lm_index = 6 # l**2 + l"
   ]
  },
  {
   "cell_type": "code",
   "execution_count": 41,
   "id": "secret-silly",
   "metadata": {},
   "outputs": [
    {
     "name": "stdout",
     "output_type": "stream",
     "text": [
      "Shapes of feature vectors\n",
      "rascaline (30, 20)\n",
      "librascal (30, 20)\n"
     ]
    }
   ],
   "source": [
    "print('Shapes of feature vectors')\n",
    "print('rascaline', descriptor_rascaline.values.shape)\n",
    "print('librascal', features_librascal.shape)"
   ]
  },
  {
   "cell_type": "code",
   "execution_count": 42,
   "id": "freelance-canadian",
   "metadata": {},
   "outputs": [],
   "source": [
    "features_L2_rascaline = descriptor_rascaline.values[0::2, lm_index*nmax:(lm_index+1)*nmax]"
   ]
  },
  {
   "cell_type": "code",
   "execution_count": 43,
   "id": "black-jewelry",
   "metadata": {},
   "outputs": [],
   "source": [
    "features_L2_librascal = features_librascal[0::2, lm_index::(lmax+1)**2]"
   ]
  },
  {
   "cell_type": "code",
   "execution_count": 44,
   "id": "brave-watson",
   "metadata": {},
   "outputs": [
    {
     "ename": "IndexError",
     "evalue": "index 6 is out of bounds for axis 3 with size 4",
     "output_type": "error",
     "traceback": [
      "\u001b[0;31m---------------------------------------------------------------------------\u001b[0m",
      "\u001b[0;31mIndexError\u001b[0m                                Traceback (most recent call last)",
      "\u001b[0;32m<ipython-input-44-d3d24dcbfa26>\u001b[0m in \u001b[0;36m<module>\u001b[0;34m\u001b[0m\n\u001b[0;32m----> 1\u001b[0;31m \u001b[0mfeatures_L2_pylode\u001b[0m \u001b[0;34m=\u001b[0m \u001b[0mfeatures_pylode\u001b[0m\u001b[0;34m[\u001b[0m\u001b[0;36m0\u001b[0m\u001b[0;34m:\u001b[0m\u001b[0;34m:\u001b[0m\u001b[0;36m2\u001b[0m\u001b[0;34m,\u001b[0m \u001b[0;36m0\u001b[0m\u001b[0;34m,\u001b[0m \u001b[0;34m:\u001b[0m\u001b[0;34m,\u001b[0m \u001b[0mlm_index\u001b[0m\u001b[0;34m]\u001b[0m\u001b[0;34m\u001b[0m\u001b[0;34m\u001b[0m\u001b[0m\n\u001b[0m",
      "\u001b[0;31mIndexError\u001b[0m: index 6 is out of bounds for axis 3 with size 4"
     ]
    }
   ],
   "source": [
    "features_L2_pylode = features_pylode[0::2, 0, :, lm_index]"
   ]
  },
  {
   "cell_type": "code",
   "execution_count": null,
   "id": "unique-serum",
   "metadata": {},
   "outputs": [],
   "source": [
    "features_analytical_l2 = np.zeros((len(distances), nmax))\n",
    "features_numerical_l2 = np.zeros((len(distances), nmax))\n",
    "\n",
    "for i_dist, d in enumerate(distances):\n",
    "    features_analytical_l2[i_dist] = coefficients_analytical_general_l(nmax, d, l=2)\n",
    "    features_numerical_l2[i_dist] = coefficients_semianalytical_general_l(nmax, d, l=2)"
   ]
  },
  {
   "cell_type": "code",
   "execution_count": null,
   "id": "medical-implementation",
   "metadata": {},
   "outputs": [],
   "source": [
    "delta_l2 = np.linalg.norm(features_analytical_l2 - features_numerical_l2)"
   ]
  },
  {
   "cell_type": "code",
   "execution_count": null,
   "id": "breeding-transcription",
   "metadata": {},
   "outputs": [],
   "source": [
    "print(features_L2_pylode / features_analytical_l2)"
   ]
  },
  {
   "cell_type": "code",
   "execution_count": null,
   "id": "catholic-seeking",
   "metadata": {},
   "outputs": [],
   "source": [
    "print(features_L2_pylode / features_numerical_l2)"
   ]
  },
  {
   "cell_type": "code",
   "execution_count": null,
   "id": "confidential-pipeline",
   "metadata": {},
   "outputs": [],
   "source": [
    "print(features_L2_librascal / features_numerical_l2)"
   ]
  },
  {
   "cell_type": "markdown",
   "id": "editorial-engine",
   "metadata": {},
   "source": [
    "## Compare coefficients for general $l$ <a class=\"anchor\" id=\"l_general\"></a>"
   ]
  },
  {
   "cell_type": "code",
   "execution_count": null,
   "id": "disabled-platform",
   "metadata": {},
   "outputs": [],
   "source": [
    "for l in range(1, lmax+1):\n",
    "    lm_index = l**2 + l\n",
    "    \n",
    "    # Get the features from the spherical expansion codes\n",
    "    features_l_pylode = features_pylode[0::2, 0, :, lm_index]\n",
    "    features_l_rascaline = descriptor_rascaline.values[0::2, lm_index*nmax:(lm_index+1)*nmax] / 10.962374348347298 \n",
    "    features_l_librascal = features_librascal[0::2, lm_index::(lmax+1)**2]\n",
    "    \n",
    "    # Get the features from the analytical and numerical evaluations\n",
    "    features_l_analytical = np.zeros((len(distances), nmax))\n",
    "    features_l_numerical = np.zeros((len(distances), nmax))\n",
    "    for i_dist, d in enumerate(distances):\n",
    "        features_l_analytical[i_dist] = coefficients_analytical_general_l(nmax, d, l=l)\n",
    "        features_l_numerical[i_dist] = coefficients_semianalytical_general_l(nmax, d, l=l)\n",
    "    assert_allclose(features_l_analytical, features_l_numerical, atol=1e-9, rtol=1e-7)\n",
    "    \n",
    "    # Compare the coefficients\n",
    "    ratios = features_l_pylode / features_l_numerical\n",
    "    err = np.linalg.norm(features_l_analytical - features_l_numerical)\n",
    "    print(f'pyLODE vs numerical coefficients for l = {l}')\n",
    "    print(np.round(ratios,6))\n",
    "    print('Difference between numerical and analytical evaluation = ', err)\n",
    "    print()"
   ]
  },
  {
   "cell_type": "markdown",
   "id": "tribal-preservation",
   "metadata": {},
   "source": [
    "# Coefficients for $l=0$  <a class=\"anchor\" id=\"l=0\"></a>"
   ]
  },
  {
   "cell_type": "markdown",
   "id": "spanish-cherry",
   "metadata": {},
   "source": [
    "## Compute the exact expressions for reference <a class=\"anchor\" id=\"l=0exact\"></a>"
   ]
  },
  {
   "cell_type": "markdown",
   "id": "biblical-sellers",
   "metadata": {},
   "source": [
    "### Hybrid analytical-numerical computation"
   ]
  },
  {
   "cell_type": "markdown",
   "id": "theoretical-worker",
   "metadata": {},
   "source": [
    "Here, we use the convention that the Gaussian density is normalized to one, i.e. contains the factor of $1/(2\\pi\\sigma^2)^{3/2}$. The spherical harmonic $Y_{00}$ is the constant function whose value is $1/\\sqrt{4\\pi}$ and the GTO's are orthonormalized starting from the primitive ones using the usual procedure."
   ]
  },
  {
   "cell_type": "code",
   "execution_count": null,
   "id": "chief-composition",
   "metadata": {},
   "outputs": [],
   "source": [
    "def compute_coeffs_explicit_l0(d):\n",
    "    # Start computing coefficients for l=0\n",
    "    featvec = np.zeros((nmax))\n",
    "    \n",
    "    # Case 1: If the distance is zero, the integrals\n",
    "    # can easily be computed by hand. Furthermore,\n",
    "    # separating this case out is convenient since\n",
    "    # the general expression as a function of the pair\n",
    "    # distance d has a (removable) singularity at d=0\n",
    "    if d == 0:\n",
    "        prefac = np.sqrt(np.pi)\n",
    "        prefac /= np.sqrt(2 * np.pi * smearing**2)**3\n",
    "        \n",
    "        featvec = np.zeros((nmax))\n",
    "        for n in range(nmax):\n",
    "            b = 0.5 * (1/smearing**2 + 1/sigma[n]**2)\n",
    "            neff = (3+n) / 2\n",
    "            featvec[n] = prefac * b**(-neff) * gamma(neff)\n",
    "    \n",
    "    # Case 2: For nonzero pair distances (i.e. all proper neighbor contributions),\n",
    "    # the final integral over the radial variable results in a hypergeometric function\n",
    "    # in a fully analytical treatment. Here, we perform the final integral numerically.\n",
    "    else:\n",
    "        # Define auxilary quantities and prefactors\n",
    "        a = d / smearing**2\n",
    "        prefac = 1. / (np.sqrt(2) * np.pi * smearing * d) * np.exp(-0.5*d**2/smearing**2)\n",
    "\n",
    "        # Start main loop\n",
    "        for n in range(nmax):\n",
    "            # Compute contribution for primitive GTO function\n",
    "            powerlaw = lambda r: r**(1+n)\n",
    "            b = 0.5 * (1/smearing**2 + 1/sigma[n]**2)\n",
    "            gaussian = lambda r: np.exp(-b * r**2)\n",
    "            sinh = lambda r: np.sinh(a * r)\n",
    "            integrand = lambda r: powerlaw(r) * gaussian(r) * sinh(r)\n",
    "\n",
    "            # Numerical Integration\n",
    "            featvec[n] = prefac * quad(integrand, 1e-10, 4.5 * rcut)[0]\n",
    "    #return featvec\n",
    "    return transformation @ featvec"
   ]
  },
  {
   "cell_type": "code",
   "execution_count": null,
   "id": "working-satellite",
   "metadata": {},
   "outputs": [],
   "source": [
    "# Start plotting the behavior of the neighbor contribution as a function of the pair distance r_ij\n",
    "Ndist = 50\n",
    "dd = np.linspace(0, rcut, Ndist)\n",
    "coeffs_exact = np.zeros((nmax, Ndist))\n",
    "for i, d in enumerate(dd):\n",
    "    coeffs_exact[:,i] = compute_coeffs_explicit_l0(d)\n",
    "\n",
    "\n",
    "# Make plot\n",
    "for n in range(nmax):\n",
    "    plt.plot(dd, coeffs_exact[n], label=f'n={n}')\n",
    "plt.legend()\n",
    "plt.xlabel('Pair distance rij')\n",
    "plt.ylabel('Contribution to <n00|rho_i>')"
   ]
  },
  {
   "cell_type": "markdown",
   "id": "piano-apache",
   "metadata": {},
   "source": [
    "Remark: This plot was mostly used to make sure that the implementation for small distances $r_{ij} \\rightarrow 0$ does indeed converge to the special case $r_{ij}=0$ which is implemented separately."
   ]
  },
  {
   "cell_type": "markdown",
   "id": "provincial-kitty",
   "metadata": {},
   "source": [
    "### Comparison to fully analytical general expression"
   ]
  },
  {
   "cell_type": "code",
   "execution_count": null,
   "id": "chinese-throw",
   "metadata": {},
   "outputs": [],
   "source": [
    "coeffs_from_general_analytical = np.zeros((nmax, Ndist))\n",
    "coeffs_from_general_numerical = np.zeros((nmax, Ndist))\n",
    "for i, d in enumerate(dd):\n",
    "    coeffs_from_general_analytical[:,i] = coefficients_analytical_general_l(nmax, d, l=0)\n",
    "    coeffs_from_general_numerical[:,i] = coefficients_semianalytical_general_l(nmax, d, l=0)"
   ]
  },
  {
   "cell_type": "code",
   "execution_count": null,
   "id": "stylish-popularity",
   "metadata": {},
   "outputs": [],
   "source": [
    "# Make plot\n",
    "for n in range(nmax):\n",
    "    plt.plot(dd, coeffs_exact[n], 'k')\n",
    "    plt.plot(dd, coeffs_from_general_analytical[n], 'b')\n",
    "    plt.plot(dd, 0.005+coeffs_from_general_numerical[n], 'r')\n",
    "    \n",
    "plt.plot(dd, coeffs_exact[0], label=f'exact', c='k')\n",
    "plt.plot(dd, 0.01+coeffs_from_general_analytical[0], label=f'analytical', c='b')\n",
    "plt.plot(dd, -0.01+coeffs_from_general_numerical[0], label=f'numerical', c='r')\n",
    "plt.legend()\n",
    "plt.xlabel('Pair distance rij')\n",
    "plt.ylabel('Contribution to <n00|rho_i>')"
   ]
  },
  {
   "cell_type": "code",
   "execution_count": null,
   "id": "crucial-joint",
   "metadata": {},
   "outputs": [],
   "source": [
    "for n in range(nmax):\n",
    "    diff1 = coeffs_exact[n] - coeffs_from_general_analytical[n]\n",
    "    diff2 = coeffs_from_general_numerical[n] - coeffs_from_general_analytical[n]\n",
    "    print(np.linalg.norm(diff1))\n",
    "    print(np.linalg.norm(diff2[1:])) # first entry at d=0 is NaN for numerical evaluation"
   ]
  },
  {
   "cell_type": "markdown",
   "id": "split-stomach",
   "metadata": {},
   "source": [
    "## Compare exact coefficients with those from pyLODE and Rascal: Center atom contribution <a class=\"anchor\" id=\"l=0center\"></a>"
   ]
  },
  {
   "cell_type": "markdown",
   "id": "corporate-matthew",
   "metadata": {},
   "source": [
    "Note that $l=0$ is more complicated compared to $l=1,2,\\dots$ even for dimers since the center atom contributes to the density as well. We begin this investigation by using a frame that only consists of a single atom."
   ]
  },
  {
   "cell_type": "markdown",
   "id": "historical-preservation",
   "metadata": {},
   "source": [
    "### Get the coefficients from the three codes"
   ]
  },
  {
   "cell_type": "code",
   "execution_count": null,
   "id": "taken-resistance",
   "metadata": {},
   "outputs": [],
   "source": [
    "frames.append(Atoms('O', positions=[[1,1,1]], cell=cell, pbc=True))\n",
    "frames.append(Atoms('O', positions=[[1,1,1]], cell=1.2*cell, pbc=True))"
   ]
  },
  {
   "cell_type": "code",
   "execution_count": null,
   "id": "starting-editing",
   "metadata": {},
   "outputs": [],
   "source": [
    "hypers = {\n",
    "    'smearing':smearing,\n",
    "    'max_angular':lmax,\n",
    "    'max_radial':nmax-2,\n",
    "    'cutoff_radius':rcut,\n",
    "    'potential_exponent':0,\n",
    "    'radial_basis': 'gto',\n",
    "    'compute_gradients':False,\n",
    "    'subtract_center_contribution':False,\n",
    "    }\n",
    "\n",
    "calculator_pylode = DensityProjectionCalculator(**hypers)"
   ]
  },
  {
   "cell_type": "code",
   "execution_count": null,
   "id": "wicked-sierra",
   "metadata": {},
   "outputs": [],
   "source": [
    "features_librascal_single = calculator_librascal.transform(frames).get_features(calculator_librascal)[-2:]\n",
    "calculator_pylode.transform(frames)\n",
    "features_pylode_single = calculator_pylode.features[-2:]\n",
    "features_rascaline_single = calculator_rascaline.compute(frames).values[-2:]"
   ]
  },
  {
   "cell_type": "markdown",
   "id": "entertaining-obligation",
   "metadata": {},
   "source": [
    "### Sanity check 1: Make sure the feature vectors only contain nonzero entries for l=0"
   ]
  },
  {
   "cell_type": "code",
   "execution_count": null,
   "id": "little-motion",
   "metadata": {},
   "outputs": [],
   "source": [
    "features_pylode_single.shape"
   ]
  },
  {
   "cell_type": "code",
   "execution_count": null,
   "id": "dressed-century",
   "metadata": {},
   "outputs": [],
   "source": [
    "features_librascal_single.shape"
   ]
  },
  {
   "cell_type": "code",
   "execution_count": null,
   "id": "likely-occurrence",
   "metadata": {},
   "outputs": [],
   "source": [
    "features_rascaline_single.shape"
   ]
  },
  {
   "cell_type": "code",
   "execution_count": null,
   "id": "individual-tomato",
   "metadata": {},
   "outputs": [],
   "source": [
    "features_pylode_single"
   ]
  },
  {
   "cell_type": "code",
   "execution_count": null,
   "id": "emerging-tract",
   "metadata": {},
   "outputs": [],
   "source": [
    "print(features_rascaline_single)"
   ]
  },
  {
   "cell_type": "markdown",
   "id": "suspected-bankruptcy",
   "metadata": {},
   "source": [
    "Comment: Rascaline seems to exclude the center contribution by default, leading to coefficients that are zero everywhere. This is not an error of the code per se, but is something that should be kept in mind."
   ]
  },
  {
   "cell_type": "markdown",
   "id": "sporting-melissa",
   "metadata": {},
   "source": [
    "Make sure that the coefficients apart from those at $l=0$ are zero (since we only have a single atom in the structure, the density is spherically symmetric and thus only the $l=0$ projection survives)"
   ]
  },
  {
   "cell_type": "code",
   "execution_count": null,
   "id": "blind-pastor",
   "metadata": {},
   "outputs": [],
   "source": [
    "for i in range(len(features_pylode_single)):\n",
    "    # The l=0 coefficients for pyLODE are contained in [n,l]=[:,0]\n",
    "    feat = features_pylode_single[i,0]\n",
    "    feat_zero = feat[:,1:]\n",
    "    assert_allclose(feat_zero, np.zeros_like(feat_zero), atol=3e-6)\n",
    "    \n",
    "    # The l=0 coefficients for librascal are separated by (lmax+1)**2\n",
    "    feat = features_librascal_single[i]\n",
    "    for n in range(nmax):\n",
    "        for lm in range((lmax+1)**2):\n",
    "            if lm != 0:\n",
    "                assert abs(feat[n*(lmax+1)**2 + lm]) < 1e-8\n",
    "    \n",
    "    # The l=0 coefficients of rascaline are the first nmax entries.\n",
    "    # Thus, all the remaining contributions should be zero.\n",
    "    #feat = np.round(features_rascaline_single[i],15)\n",
    "    #assert_allclose(feat[nmax:], np.zeros_like(feat[nmax:]), atol=1e-8)"
   ]
  },
  {
   "cell_type": "markdown",
   "id": "alive-complaint",
   "metadata": {},
   "source": [
    "### Sanity check 2: Coefficients should be (for pyLODE: mostly) independent of the cell"
   ]
  },
  {
   "cell_type": "code",
   "execution_count": null,
   "id": "proved-monkey",
   "metadata": {},
   "outputs": [],
   "source": [
    "# For librascal and rascaline, the features should be completely independent of the cell\n",
    "for feats in [features_librascal_single]:\n",
    "    feat1 = feats[0]\n",
    "    feat2 = feats[1]\n",
    "    assert_allclose(feat1, feat2, rtol=1e-10)"
   ]
  },
  {
   "cell_type": "code",
   "execution_count": null,
   "id": "activated-fight",
   "metadata": {},
   "outputs": [],
   "source": [
    "# For pyLODE, the k-space sum does lead to a weak dependence on the cell that depends on\n",
    "# how well the k-space converged.\n",
    "feat1 = features_pylode_single[0]\n",
    "feat2 = features_pylode_single[1]\n",
    "assert_allclose(feat1, feat2, rtol=1e-10, atol=3e-6)"
   ]
  },
  {
   "cell_type": "markdown",
   "id": "favorite-surveillance",
   "metadata": {},
   "source": [
    "### Compare pyLODE and rascal coefficients with exact values"
   ]
  },
  {
   "cell_type": "code",
   "execution_count": null,
   "id": "inappropriate-potter",
   "metadata": {},
   "outputs": [],
   "source": [
    "feat_pylode_l0_zero = features_pylode_single[0,0,:,0]"
   ]
  },
  {
   "cell_type": "code",
   "execution_count": null,
   "id": "pursuant-interest",
   "metadata": {},
   "outputs": [],
   "source": [
    "coeffs_exact_center = coeffs_exact[:,0] # take the r_{ij} = 0 part"
   ]
  },
  {
   "cell_type": "code",
   "execution_count": null,
   "id": "regulation-intermediate",
   "metadata": {},
   "outputs": [],
   "source": [
    "print('Exact center contributions', coeffs_exact_center)"
   ]
  },
  {
   "cell_type": "code",
   "execution_count": null,
   "id": "experienced-passion",
   "metadata": {},
   "outputs": [],
   "source": [
    "print('Comparison to pyLODE')\n",
    "print(feat_pylode_l0_zero / coeffs_exact_center)"
   ]
  },
  {
   "cell_type": "code",
   "execution_count": null,
   "id": "veterinary-poster",
   "metadata": {
    "scrolled": true
   },
   "outputs": [],
   "source": [
    "print('Comparison to librascal')\n",
    "feat_librascal_l0_nonzeropart = features_librascal_single[0,::(lmax+1)**2]\n",
    "print(feat_librascal_l0_nonzeropart / coeffs_exact_center)"
   ]
  },
  {
   "cell_type": "code",
   "execution_count": null,
   "id": "offensive-insertion",
   "metadata": {},
   "outputs": [],
   "source": [
    "feat_librascal_l0_nonzeropart / feat_pylode_l0_zero"
   ]
  },
  {
   "cell_type": "code",
   "execution_count": null,
   "id": "bridal-harvest",
   "metadata": {},
   "outputs": [],
   "source": [
    "1./(2*np.pi*smearing**2)**1.5"
   ]
  },
  {
   "cell_type": "code",
   "execution_count": null,
   "id": "secondary-deposit",
   "metadata": {},
   "outputs": [],
   "source": [
    "feat_librascal_l0_nonzeropart"
   ]
  },
  {
   "cell_type": "code",
   "execution_count": null,
   "id": "chicken-exposure",
   "metadata": {},
   "outputs": [],
   "source": [
    "print('Comparison to rascaline')\n",
    "feat_rascaline_l0_nonzeropart = features_rascaline_single[0,:nmax]\n",
    "print(feat_rascaline_l0_nonzeropart / coeffs_exact_center)"
   ]
  },
  {
   "cell_type": "markdown",
   "id": "approved-filter",
   "metadata": {},
   "source": [
    "## Compare exact coefficients with those from pyLODE and Rascal: Dimers <a class=\"anchor\" id=\"l=0dimer\"></a>"
   ]
  },
  {
   "cell_type": "markdown",
   "id": "civil-drawing",
   "metadata": {},
   "source": [
    "TODO"
   ]
  },
  {
   "cell_type": "markdown",
   "id": "attached-cloud",
   "metadata": {},
   "source": [
    "## Norm tests"
   ]
  },
  {
   "cell_type": "code",
   "execution_count": null,
   "id": "settled-testimony",
   "metadata": {},
   "outputs": [],
   "source": [
    "features_pylode_single = calculator_pylode.features[-2:]\n",
    "features_pylode_dimers = calculator_pylode.features[:-2]"
   ]
  },
  {
   "cell_type": "code",
   "execution_count": null,
   "id": "laden-nightlife",
   "metadata": {},
   "outputs": [],
   "source": [
    "norm_exact_single = 1./(4 * np.pi * smearing**2)**0.75\n",
    "norm_exact_dimers = np.zeros((Ndimers,))\n",
    "\n",
    "for i, d in enumerate(distances):\n",
    "    norm_exact_dimers[i] = norm_exact_single * np.sqrt(2 + np.exp(-d**2/(4 * smearing**2)))"
   ]
  },
  {
   "cell_type": "code",
   "execution_count": null,
   "id": "latin-miami",
   "metadata": {},
   "outputs": [],
   "source": [
    "features_pylode_dimers.shape"
   ]
  },
  {
   "cell_type": "code",
   "execution_count": null,
   "id": "engaging-forty",
   "metadata": {},
   "outputs": [],
   "source": [
    "for features in features_pylode_single:\n",
    "    print(norm(features.flatten()))\n",
    "    print(norm_exact_single)"
   ]
  },
  {
   "cell_type": "code",
   "execution_count": null,
   "id": "private-childhood",
   "metadata": {},
   "outputs": [],
   "source": [
    "norm_pylode_single = np.zeros((2,))\n",
    "for i in range(2):\n",
    "    norm_pylode_single[i] = norm(features_pylode_single[i].flatten())"
   ]
  },
  {
   "cell_type": "code",
   "execution_count": null,
   "id": "distinct-satin",
   "metadata": {},
   "outputs": [],
   "source": [
    "print(norm_pylode_single)\n",
    "print(norm_exact_single)"
   ]
  },
  {
   "cell_type": "code",
   "execution_count": null,
   "id": "functioning-hobby",
   "metadata": {},
   "outputs": [],
   "source": [
    "norm_pylode_dimers = np.zeros_like(distances)\n",
    "for i,d in enumerate(distances):\n",
    "    norm_pylode_dimers[i] = norm(features_pylode_dimers[i].flatten())"
   ]
  },
  {
   "cell_type": "code",
   "execution_count": null,
   "id": "sonic-carbon",
   "metadata": {},
   "outputs": [],
   "source": [
    "plt.scatter(distances, norm_exact_dimers, label='exact')\n",
    "plt.scatter(distances, norm_pylode_dimers, label='pyLODE')\n",
    "plt.legend()\n",
    "plt.ylim(0,0.8)"
   ]
  },
  {
   "cell_type": "markdown",
   "id": "lucky-flash",
   "metadata": {},
   "source": [
    "# Compare coefficients for random molecules <a class=\"anchor\" id=\"randommolecule\"></a>"
   ]
  },
  {
   "cell_type": "code",
   "execution_count": null,
   "id": "recreational-installation",
   "metadata": {},
   "outputs": [],
   "source": [
    "frames = []\n",
    "frames.append(Atoms('O4', positions=[[1,1,1],[2,1,1],[2,2.2,1],[2.3,2.,1.5]], cell=cell, pbc=True))\n",
    "frames.append(Atoms('O4', positions=[[1,1,1],[2.3,1,1],[2.2,2.5,1.1],[2.7,2.,1.1]], cell=cell, pbc=True))"
   ]
  },
  {
   "cell_type": "code",
   "execution_count": null,
   "id": "sitting-thinking",
   "metadata": {},
   "outputs": [],
   "source": [
    "features_librascal_single = calculator_librascal.transform(frames).get_features(calculator_librascal)\n",
    "calculator_pylode.transform(frames)\n",
    "features_pylode_single = calculator_pylode.features"
   ]
  },
  {
   "cell_type": "code",
   "execution_count": null,
   "id": "color-mailman",
   "metadata": {},
   "outputs": [],
   "source": [
    "features_librascal_single.shape"
   ]
  },
  {
   "cell_type": "code",
   "execution_count": null,
   "id": "resident-uniform",
   "metadata": {},
   "outputs": [],
   "source": [
    "features_pylode_single = features_pylode_single[:,0,:,:]"
   ]
  },
  {
   "cell_type": "code",
   "execution_count": null,
   "id": "every-sodium",
   "metadata": {},
   "outputs": [],
   "source": [
    "f_librascal = features_librascal_single.reshape((8, nmax, (lmax+1)**2))"
   ]
  },
  {
   "cell_type": "code",
   "execution_count": null,
   "id": "oriented-beverage",
   "metadata": {},
   "outputs": [],
   "source": [
    "for i in range(8):\n",
    "    ratiomax = np.max(features_pylode_single[i] / f_librascal[i] /2.82841)\n",
    "    ratiomin = np.min(features_pylode_single[i] / f_librascal[i] /2.82841)\n",
    "    print(ratiomax)\n",
    "    print(ratiomin)"
   ]
  },
  {
   "cell_type": "code",
   "execution_count": null,
   "id": "sharing-buddy",
   "metadata": {},
   "outputs": [],
   "source": [
    "np.max(np.abs(features_pylode_single[i] / f_librascal[i])/2.82841)"
   ]
  },
  {
   "cell_type": "code",
   "execution_count": null,
   "id": "satisfied-shark",
   "metadata": {},
   "outputs": [],
   "source": [
    "features_pylode_single.shape"
   ]
  },
  {
   "cell_type": "markdown",
   "id": "reverse-universal",
   "metadata": {},
   "source": [
    "Comment: Coefficients now also agree for \"generic\" molecules (i.e. molecules that do not have any special symmetry) up to a global factor!"
   ]
  },
  {
   "cell_type": "markdown",
   "id": "bacterial-venezuela",
   "metadata": {},
   "source": [
    "## Table of Contents:\n",
    "* [Preparation](#preparation)\n",
    "    * [Exact Expression for Coefficients](#exactexpressions)\n",
    "    * [Get the features for dimers](#getfeatures)\n",
    "* [Coefficients for $l=1$](#l=1)\n",
    "    * [Explicit computation of coefficients for $l=1$](#l=1explicit)\n",
    "    * [Comparison to pyLODE/rascal for dimers](#l=1dimer)\n",
    "* [Coefficients for $l\\geq 2$](#lgeq2)\n",
    "    * [Coefficients for $l=2$](#l=2)\n",
    "    * [Coefficients for general $l$](#l_general)\n",
    "* [Coefficients for l=0](#l=0)\n",
    "    * [Exact coefficients](#l=0exact)\n",
    "    * [Comparison to pyLODE/rascal for center contribution](#l=0center)\n",
    "    * [Comparison to pyLODE/rascal for dimers](#l=0dimer)"
   ]
  }
 ],
 "metadata": {
  "kernelspec": {
   "display_name": "Python 3",
   "language": "python",
   "name": "python3"
  },
  "language_info": {
   "codemirror_mode": {
    "name": "ipython",
    "version": 3
   },
   "file_extension": ".py",
   "mimetype": "text/x-python",
   "name": "python",
   "nbconvert_exporter": "python",
   "pygments_lexer": "ipython3",
   "version": "3.8.5"
  }
 },
 "nbformat": 4,
 "nbformat_minor": 5
}
