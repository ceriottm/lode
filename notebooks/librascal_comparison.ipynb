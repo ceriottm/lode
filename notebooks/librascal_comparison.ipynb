{
 "cells": [
  {
   "cell_type": "code",
   "execution_count": 1,
   "id": "mental-mumbai",
   "metadata": {},
   "outputs": [],
   "source": [
    "%load_ext autoreload\n",
    "%autoreload 2"
   ]
  },
  {
   "cell_type": "code",
   "execution_count": 2,
   "id": "opposed-needle",
   "metadata": {},
   "outputs": [],
   "source": [
    "import sys"
   ]
  },
  {
   "cell_type": "code",
   "execution_count": 3,
   "id": "independent-translator",
   "metadata": {},
   "outputs": [],
   "source": [
    "sys.path.insert(0, '/ssd/scratch/khugueni/librascal-pypi-release/build')"
   ]
  },
  {
   "cell_type": "code",
   "execution_count": 4,
   "id": "swiss-hampton",
   "metadata": {},
   "outputs": [],
   "source": [
    "%matplotlib inline\n",
    "from matplotlib import pylab as plt\n",
    "\n",
    "import time\n",
    "import rascal\n",
    "\n",
    "import ase\n",
    "from ase import Atoms\n",
    "from ase.io import read, write\n",
    "from ase.build import make_supercell\n",
    "from ase.visualize import view\n",
    "from numpy.testing import assert_allclose\n",
    "import numpy as np\n",
    "\n",
    "from scipy.integrate import quad\n",
    "from pylode.lib.radial_basis import innerprod\n",
    "from scipy.special import gamma, hyp1f1, sph_harm, iv\n",
    "\n",
    "# Descriptor related imports: compare the librascal and pyLODE versions of SOAP\n",
    "#from rascal.representations import SphericalExpansion as RascalSphericalExpansion\n",
    "from librascal.representations import SphericalExpansion as RascalSphericalExpansion\n",
    "import rascaline\n",
    "from pylode.lib.projection_coeffs import DensityProjectionCalculator"
   ]
  },
  {
   "cell_type": "markdown",
   "id": "radio-worthy",
   "metadata": {},
   "source": [
    "# Introduction"
   ]
  },
  {
   "cell_type": "markdown",
   "id": "ecological-trash",
   "metadata": {},
   "source": [
    "This notebook is used to compare the features obtained from rascaline, librascal and pylode. The goal is to fully understand the details of the three implementations to make sure that the same coefficients from different codes agree."
   ]
  },
  {
   "cell_type": "markdown",
   "id": "crude-settle",
   "metadata": {},
   "source": [
    "## Table of Contents:\n",
    "* [Preparation](#preparation)\n",
    "    * [Exact Expression for Coefficients](#exactexpressions)\n",
    "    * [Get the features for dimers](#getfeatures)\n",
    "* [Coefficients for $l=1$](#l=1)\n",
    "    * [Explicit computation of coefficients for $l=1$](#l=1explicit)\n",
    "    * [Comparison to pyLODE/rascal for dimers](#l=1dimer)\n",
    "* [Coefficients for $l\\geq 2$](#lgeq2)\n",
    "    * [Coefficients for $l=2$](#l=2)\n",
    "    * [Coefficients for general $l$](#l_general)\n",
    "* [Coefficients for l=0](#l=0)\n",
    "    * [Exact coefficients](#l=0exact)\n",
    "    * [Comparison to pyLODE/rascal for center contribution](#l=0center)\n",
    "    * [Comparison to pyLODE/rascal for dimers](#l=0dimer)"
   ]
  },
  {
   "cell_type": "markdown",
   "id": "defined-clinic",
   "metadata": {},
   "source": [
    "# Preparation: Get features from all three codes <a class=\"anchor\" id=\"preparation\"></a>"
   ]
  },
  {
   "cell_type": "markdown",
   "id": "fancy-flood",
   "metadata": {},
   "source": [
    "## Exact Expression for Coefficients <a class=\"anchor\" id=\"exactexpressions\"></a>"
   ]
  },
  {
   "cell_type": "markdown",
   "id": "brazilian-eugene",
   "metadata": {},
   "source": [
    "### Define common hyperparameters"
   ]
  },
  {
   "cell_type": "code",
   "execution_count": 5,
   "id": "threatened-antibody",
   "metadata": {},
   "outputs": [],
   "source": [
    "nmax = 5\n",
    "lmax = 7\n",
    "rcut = 6.\n",
    "smearing = 0.5"
   ]
  },
  {
   "cell_type": "markdown",
   "id": "undefined-danger",
   "metadata": {},
   "source": [
    "### Generate orthonormalization matrix <a class=\"anchor\" id=\"orthonormalization\"></a>"
   ]
  },
  {
   "cell_type": "code",
   "execution_count": 6,
   "id": "sticky-coordinator",
   "metadata": {},
   "outputs": [],
   "source": [
    "Nradial = 1000\n",
    "sigma = np.ones(nmax, dtype=float)\n",
    "for i in range(1, nmax):\n",
    "    sigma[i] = np.sqrt(i)\n",
    "sigma *= rcut / nmax\n",
    "\n",
    "# Define primitive GTO-like radial basis functions\n",
    "f_gto = lambda n, x: x**n * np.exp(-0.5 * (x / sigma[n])**2)\n",
    "xx = np.linspace(0, rcut * 2.5, Nradial)\n",
    "R_n = np.array([f_gto(n, xx) for n in range(nmax)])\n",
    "\n",
    "# Orthonormalize\n",
    "innerprods = np.zeros((nmax, nmax))\n",
    "for i in range(nmax):\n",
    "    for j in range(nmax):\n",
    "        innerprods[i, j] = innerprod(xx, R_n[i], R_n[j])\n",
    "eigvals, eigvecs = np.linalg.eigh(innerprods)\n",
    "transformation = eigvecs @ np.diag(np.sqrt(1. / eigvals)) @ eigvecs.T"
   ]
  },
  {
   "cell_type": "markdown",
   "id": "included-fantasy",
   "metadata": {},
   "source": [
    "### Fully analytical formula for general $l$"
   ]
  },
  {
   "cell_type": "code",
   "execution_count": 7,
   "id": "suburban-roommate",
   "metadata": {},
   "outputs": [],
   "source": [
    "def coefficients_analytical_general_l(nmax, d, l):\n",
    "    # Define auxilary quantities and prefactors\n",
    "    a = 1. / (2 * smearing**2)\n",
    "    lplus3half = l + 1.5\n",
    "    prefac_global = np.pi**1.5 * sph_harm(0, l, 0, 0).real * a**l / gamma(lplus3half)\n",
    "    prefac_global *= d**l * np.exp(-a*d**2)\n",
    "    prefac_global /= (2 * np.pi * smearing**2)**1.5\n",
    "\n",
    "    # Start main loop\n",
    "    featvec = np.zeros((nmax))\n",
    "    for n in range(nmax):\n",
    "        nlplus3half = (3 + n + l) / 2\n",
    "        b = 1. / (2 * sigma[n]**2)\n",
    "        prefac_n_dep = gamma(nlplus3half) / (a+b)**nlplus3half\n",
    "        hyp = hyp1f1(nlplus3half, lplus3half, a**2*d**2/(a+b))\n",
    "        featvec[n] = prefac_n_dep * hyp\n",
    "\n",
    "    #return prefac_global * featvec\n",
    "    return prefac_global * (transformation @ featvec)   "
   ]
  },
  {
   "cell_type": "markdown",
   "id": "destroyed-island",
   "metadata": {},
   "source": [
    "### Semianalytical (final integral performed numerically) formula for general l"
   ]
  },
  {
   "cell_type": "code",
   "execution_count": 8,
   "id": "cooked-punishment",
   "metadata": {},
   "outputs": [],
   "source": [
    "def coefficients_semianalytical_general_l(nmax, d, l):\n",
    "    # Prefactor\n",
    "    a = 1. / (2 * smearing**2)\n",
    "    prefac_global = 4*np.pi * sph_harm(0, l, 0, 0).real * np.exp(-a*d**2)\n",
    "    prefac_global /= (2 * np.pi * smearing**2)**1.5\n",
    "\n",
    "    # Main loop performing the numerical integration\n",
    "    featvec = np.zeros((nmax))\n",
    "    for n in range(nmax):\n",
    "        # Define the integrand consisting of a power-law, Gaussian and Bessel part\n",
    "        b = 1. / (2 * sigma[n]**2)\n",
    "        gaussian = lambda r: np.exp(-(a+b)*r**2)\n",
    "        power = lambda r: r**(2+n)\n",
    "        mod_sph_bessel = lambda x: np.sqrt(np.pi/2/x) * iv(l + 0.5, x)\n",
    "        bessel = lambda r: mod_sph_bessel(2*a*d*r)\n",
    "        integrand = lambda r: power(r) * gaussian(r) * bessel(r)\n",
    "        \n",
    "        # Numerical integration\n",
    "        eps = 1e-10\n",
    "        featvec[n] = quad(integrand, eps, 4.5*rcut)[0]\n",
    "\n",
    "    #return prefac_global * featvec\n",
    "    return prefac_global * (transformation @ featvec)   "
   ]
  },
  {
   "cell_type": "markdown",
   "id": "numerous-school",
   "metadata": {},
   "source": [
    "## Get the features for dimers <a class=\"anchor\" id=\"getfeatures\"></a>"
   ]
  },
  {
   "cell_type": "markdown",
   "id": "electoral-oasis",
   "metadata": {},
   "source": [
    "### Define structure to be used for the comparison\n",
    "The main differences between librascal and the pyLODE implementation are the presence of a smooth cutoff function and the potentially different order in which neighbors are stored. We thus wish to generate structures for which these two effects do not alter the coefficients too much. For this task, we use clusters of Oxygen atoms for which all atoms have a mutual distance of less than 3A. Then, even for a relatively large smearing of 1.5A, the atomic densities will be reasonably contained within a ball of cutoff radius 6 that will also be used for the cutoff."
   ]
  },
  {
   "cell_type": "code",
   "execution_count": 9,
   "id": "floppy-subject",
   "metadata": {},
   "outputs": [],
   "source": [
    "frames = []\n",
    "cell = np.eye(3) * 16\n",
    "distances = np.linspace(1., 2.5, 10)\n",
    "for d in distances:\n",
    "    positions = [[1,1,1],[1+0.1*d,1+d,d+1]]\n",
    "    positions = [[1,1,1],[1,1,1+d]]\n",
    "    frame = Atoms('O2', positions=positions, cell=cell, pbc=True)\n",
    "    frames.append(frame)"
   ]
  },
  {
   "cell_type": "markdown",
   "id": "willing-functionality",
   "metadata": {},
   "source": [
    "### Get the features from librascal"
   ]
  },
  {
   "cell_type": "code",
   "execution_count": 10,
   "id": "artificial-heating",
   "metadata": {},
   "outputs": [],
   "source": [
    "# define the parameters of the spherical expansion\n",
    "hypers = dict(interaction_cutoff=rcut, \n",
    "              max_radial=nmax, \n",
    "              max_angular=lmax, \n",
    "              gaussian_sigma_constant=smearing,\n",
    "              gaussian_sigma_type=\"Constant\",\n",
    "              cutoff_smooth_width=0.1,\n",
    "              radial_basis=\"GTO\",\n",
    "              compute_gradients=False,\n",
    "              expansion_by_species_method='structure wise',\n",
    "              optimization=dict(Spline=dict(accuracy=1e-12)),\n",
    "              )\n",
    "\n",
    "calculator_librascal = RascalSphericalExpansion(**hypers)\n",
    "# compute the representation of all the structures\n",
    "features_librascal = calculator_librascal.transform(frames).get_features(calculator_librascal)"
   ]
  },
  {
   "cell_type": "markdown",
   "id": "funded-operations",
   "metadata": {},
   "source": [
    "### Get the features from pyLODE"
   ]
  },
  {
   "cell_type": "code",
   "execution_count": 11,
   "id": "happy-sydney",
   "metadata": {},
   "outputs": [],
   "source": [
    "hypers = {\n",
    "    'smearing':smearing,\n",
    "    'max_angular':lmax,\n",
    "    'max_radial':nmax,\n",
    "    'cutoff_radius':rcut,\n",
    "    'potential_exponent':0,\n",
    "    'radial_basis': 'gto',\n",
    "    'compute_gradients':False,\n",
    "    'subtract_center_contribution':False,\n",
    "    }\n",
    "\n",
    "calculator_pylode = DensityProjectionCalculator(**hypers)\n",
    "calculator_pylode.transform(frames)\n",
    "features_pylode = calculator_pylode.features"
   ]
  },
  {
   "cell_type": "markdown",
   "id": "rental-working",
   "metadata": {},
   "source": [
    "### Get the features from Rascaline"
   ]
  },
  {
   "cell_type": "code",
   "execution_count": 12,
   "id": "bottom-shower",
   "metadata": {},
   "outputs": [],
   "source": [
    "HYPER_PARAMETERS = {\n",
    "    \"cutoff\": rcut,\n",
    "    \"max_radial\": nmax,\n",
    "    \"max_angular\": lmax,\n",
    "    \"atomic_gaussian_width\": smearing,\n",
    "    \"gradients\": False,\n",
    "    \"radial_basis\": {\n",
    "        \"Gto\": {},\n",
    "    },\n",
    "    \"cutoff_function\": {\n",
    "        \"Step\": {\"width\": 1e-3},\n",
    "    },\n",
    "}\n",
    "\n",
    "calculator_rascaline = rascaline.SphericalExpansion(**HYPER_PARAMETERS)\n",
    "\n",
    "# run the actual calculation\n",
    "descriptor_rascaline = calculator_rascaline.compute(frames)"
   ]
  },
  {
   "cell_type": "code",
   "execution_count": 13,
   "id": "enclosed-employment",
   "metadata": {},
   "outputs": [
    {
     "name": "stdout",
     "output_type": "stream",
     "text": [
      "[[ 5.14718463e-02  0.00000000e+00  2.12209328e-02  0.00000000e+00\n",
      "   0.00000000e+00  0.00000000e+00  1.51260554e-02  0.00000000e+00\n",
      "   0.00000000e+00  0.00000000e+00  0.00000000e+00  0.00000000e+00\n",
      "   8.37159246e-03  0.00000000e+00  0.00000000e+00  0.00000000e+00\n",
      "   0.00000000e+00  0.00000000e+00  0.00000000e+00  0.00000000e+00\n",
      "   3.89939354e-03  0.00000000e+00  0.00000000e+00  0.00000000e+00\n",
      "   0.00000000e+00  0.00000000e+00  0.00000000e+00  0.00000000e+00\n",
      "   0.00000000e+00  0.00000000e+00  1.59174652e-03  0.00000000e+00\n",
      "   0.00000000e+00  0.00000000e+00  0.00000000e+00  0.00000000e+00\n",
      "   0.00000000e+00  0.00000000e+00  0.00000000e+00  0.00000000e+00\n",
      "   0.00000000e+00  0.00000000e+00  5.83550894e-04  0.00000000e+00\n",
      "   0.00000000e+00  0.00000000e+00  0.00000000e+00  0.00000000e+00\n",
      "   0.00000000e+00  0.00000000e+00  0.00000000e+00  0.00000000e+00\n",
      "   0.00000000e+00  0.00000000e+00  0.00000000e+00  0.00000000e+00\n",
      "   1.95304373e-04  0.00000000e+00  0.00000000e+00  0.00000000e+00\n",
      "   0.00000000e+00  0.00000000e+00  0.00000000e+00  0.00000000e+00]\n",
      " [-5.46906168e-03  0.00000000e+00  7.77222083e-03  0.00000000e+00\n",
      "   0.00000000e+00  0.00000000e+00  8.09736941e-03  0.00000000e+00\n",
      "   0.00000000e+00  0.00000000e+00  0.00000000e+00  0.00000000e+00\n",
      "   6.18845886e-03  0.00000000e+00  0.00000000e+00  0.00000000e+00\n",
      "   0.00000000e+00  0.00000000e+00  0.00000000e+00  0.00000000e+00\n",
      "   3.80602806e-03  0.00000000e+00  0.00000000e+00  0.00000000e+00\n",
      "   0.00000000e+00  0.00000000e+00  0.00000000e+00  0.00000000e+00\n",
      "   0.00000000e+00  0.00000000e+00  1.98704235e-03  0.00000000e+00\n",
      "   0.00000000e+00  0.00000000e+00  0.00000000e+00  0.00000000e+00\n",
      "   0.00000000e+00  0.00000000e+00  0.00000000e+00  0.00000000e+00\n",
      "   0.00000000e+00  0.00000000e+00  9.11055486e-04  0.00000000e+00\n",
      "   0.00000000e+00  0.00000000e+00  0.00000000e+00  0.00000000e+00\n",
      "   0.00000000e+00  0.00000000e+00  0.00000000e+00  0.00000000e+00\n",
      "   0.00000000e+00  0.00000000e+00  0.00000000e+00  0.00000000e+00\n",
      "   3.75405779e-04  0.00000000e+00  0.00000000e+00  0.00000000e+00\n",
      "   0.00000000e+00  0.00000000e+00  0.00000000e+00  0.00000000e+00]\n",
      " [-7.93927879e-04  0.00000000e+00 -2.22315980e-03  0.00000000e+00\n",
      "   0.00000000e+00  0.00000000e+00 -1.88236794e-03  0.00000000e+00\n",
      "   0.00000000e+00  0.00000000e+00  0.00000000e+00  0.00000000e+00\n",
      "  -1.13816864e-03  0.00000000e+00  0.00000000e+00  0.00000000e+00\n",
      "   0.00000000e+00  0.00000000e+00  0.00000000e+00  0.00000000e+00\n",
      "  -5.25115168e-04  0.00000000e+00  0.00000000e+00  0.00000000e+00\n",
      "   0.00000000e+00  0.00000000e+00  0.00000000e+00  0.00000000e+00\n",
      "   0.00000000e+00  0.00000000e+00 -1.84181671e-04  0.00000000e+00\n",
      "   0.00000000e+00  0.00000000e+00  0.00000000e+00  0.00000000e+00\n",
      "   0.00000000e+00  0.00000000e+00  0.00000000e+00  0.00000000e+00\n",
      "   0.00000000e+00  0.00000000e+00 -4.26390170e-05  0.00000000e+00\n",
      "   0.00000000e+00  0.00000000e+00  0.00000000e+00  0.00000000e+00\n",
      "   0.00000000e+00  0.00000000e+00  0.00000000e+00  0.00000000e+00\n",
      "   0.00000000e+00  0.00000000e+00  0.00000000e+00  0.00000000e+00\n",
      "   2.30314859e-07  0.00000000e+00  0.00000000e+00  0.00000000e+00\n",
      "   0.00000000e+00  0.00000000e+00  0.00000000e+00  0.00000000e+00]\n",
      " [-9.57342904e-04  0.00000000e+00  1.10086844e-03  0.00000000e+00\n",
      "   0.00000000e+00  0.00000000e+00  1.09044304e-03  0.00000000e+00\n",
      "   0.00000000e+00  0.00000000e+00  0.00000000e+00  0.00000000e+00\n",
      "   7.68276739e-04  0.00000000e+00  0.00000000e+00  0.00000000e+00\n",
      "   0.00000000e+00  0.00000000e+00  0.00000000e+00  0.00000000e+00\n",
      "   4.26878846e-04  0.00000000e+00  0.00000000e+00  0.00000000e+00\n",
      "   0.00000000e+00  0.00000000e+00  0.00000000e+00  0.00000000e+00\n",
      "   0.00000000e+00  0.00000000e+00  1.97692760e-04  0.00000000e+00\n",
      "   0.00000000e+00  0.00000000e+00  0.00000000e+00  0.00000000e+00\n",
      "   0.00000000e+00  0.00000000e+00  0.00000000e+00  0.00000000e+00\n",
      "   0.00000000e+00  0.00000000e+00  7.87784552e-05  0.00000000e+00\n",
      "   0.00000000e+00  0.00000000e+00  0.00000000e+00  0.00000000e+00\n",
      "   0.00000000e+00  0.00000000e+00  0.00000000e+00  0.00000000e+00\n",
      "   0.00000000e+00  0.00000000e+00  0.00000000e+00  0.00000000e+00\n",
      "   2.74964898e-05  0.00000000e+00  0.00000000e+00  0.00000000e+00\n",
      "   0.00000000e+00  0.00000000e+00  0.00000000e+00  0.00000000e+00]\n",
      " [ 7.03715183e-04  0.00000000e+00 -2.06963592e-04  0.00000000e+00\n",
      "   0.00000000e+00  0.00000000e+00 -2.49947692e-04  0.00000000e+00\n",
      "   0.00000000e+00  0.00000000e+00  0.00000000e+00  0.00000000e+00\n",
      "  -1.94022086e-04  0.00000000e+00  0.00000000e+00  0.00000000e+00\n",
      "   0.00000000e+00  0.00000000e+00  0.00000000e+00  0.00000000e+00\n",
      "  -1.13960721e-04  0.00000000e+00  0.00000000e+00  0.00000000e+00\n",
      "   0.00000000e+00  0.00000000e+00  0.00000000e+00  0.00000000e+00\n",
      "   0.00000000e+00  0.00000000e+00 -5.46360019e-05  0.00000000e+00\n",
      "   0.00000000e+00  0.00000000e+00  0.00000000e+00  0.00000000e+00\n",
      "   0.00000000e+00  0.00000000e+00  0.00000000e+00  0.00000000e+00\n",
      "   0.00000000e+00  0.00000000e+00 -2.22468124e-05  0.00000000e+00\n",
      "   0.00000000e+00  0.00000000e+00  0.00000000e+00  0.00000000e+00\n",
      "   0.00000000e+00  0.00000000e+00  0.00000000e+00  0.00000000e+00\n",
      "   0.00000000e+00  0.00000000e+00  0.00000000e+00  0.00000000e+00\n",
      "  -7.85040587e-06  0.00000000e+00  0.00000000e+00  0.00000000e+00\n",
      "   0.00000000e+00  0.00000000e+00  0.00000000e+00  0.00000000e+00]]\n"
     ]
    }
   ],
   "source": [
    "print(descriptor_rascaline.values[0].reshape(((lmax+1)**2, nmax)).T / 10.962374348347298)"
   ]
  },
  {
   "cell_type": "code",
   "execution_count": 14,
   "id": "funny-husband",
   "metadata": {},
   "outputs": [
    {
     "name": "stdout",
     "output_type": "stream",
     "text": [
      "[[2.06112060e-01 0.00000000e+00 7.71817269e-02 0.00000000e+00\n",
      "  0.00000000e+00 0.00000000e+00 5.30006099e-02 0.00000000e+00\n",
      "  0.00000000e+00 0.00000000e+00 0.00000000e+00 0.00000000e+00\n",
      "  2.79751027e-02 0.00000000e+00 0.00000000e+00 0.00000000e+00\n",
      "  0.00000000e+00 0.00000000e+00 0.00000000e+00 0.00000000e+00\n",
      "  1.22874278e-02 0.00000000e+00 0.00000000e+00 0.00000000e+00\n",
      "  0.00000000e+00 0.00000000e+00 0.00000000e+00 0.00000000e+00\n",
      "  0.00000000e+00 0.00000000e+00 4.66303023e-03 0.00000000e+00\n",
      "  0.00000000e+00 0.00000000e+00 0.00000000e+00 0.00000000e+00\n",
      "  0.00000000e+00 0.00000000e+00 0.00000000e+00 0.00000000e+00\n",
      "  0.00000000e+00 0.00000000e+00 1.55912727e-03 0.00000000e+00\n",
      "  0.00000000e+00 0.00000000e+00 0.00000000e+00 0.00000000e+00\n",
      "  0.00000000e+00 0.00000000e+00 0.00000000e+00 0.00000000e+00\n",
      "  0.00000000e+00 0.00000000e+00 0.00000000e+00 0.00000000e+00\n",
      "  4.63024123e-04 0.00000000e+00 0.00000000e+00 0.00000000e+00\n",
      "  0.00000000e+00 0.00000000e+00 0.00000000e+00 0.00000000e+00]\n",
      " [1.46212565e-02 0.00000000e+00 4.51620610e-02 0.00000000e+00\n",
      "  0.00000000e+00 0.00000000e+00 4.17795085e-02 0.00000000e+00\n",
      "  0.00000000e+00 0.00000000e+00 0.00000000e+00 0.00000000e+00\n",
      "  2.93089848e-02 0.00000000e+00 0.00000000e+00 0.00000000e+00\n",
      "  0.00000000e+00 0.00000000e+00 0.00000000e+00 0.00000000e+00\n",
      "  1.68810485e-02 0.00000000e+00 0.00000000e+00 0.00000000e+00\n",
      "  0.00000000e+00 0.00000000e+00 0.00000000e+00 0.00000000e+00\n",
      "  0.00000000e+00 0.00000000e+00 8.35006901e-03 0.00000000e+00\n",
      "  0.00000000e+00 0.00000000e+00 0.00000000e+00 0.00000000e+00\n",
      "  0.00000000e+00 0.00000000e+00 0.00000000e+00 0.00000000e+00\n",
      "  0.00000000e+00 0.00000000e+00 3.65163148e-03 0.00000000e+00\n",
      "  0.00000000e+00 0.00000000e+00 0.00000000e+00 0.00000000e+00\n",
      "  0.00000000e+00 0.00000000e+00 0.00000000e+00 0.00000000e+00\n",
      "  0.00000000e+00 0.00000000e+00 0.00000000e+00 0.00000000e+00\n",
      "  1.44044430e-03 0.00000000e+00 0.00000000e+00 0.00000000e+00\n",
      "  0.00000000e+00 0.00000000e+00 0.00000000e+00 0.00000000e+00]\n",
      " [1.39013256e-02 0.00000000e+00 1.61594399e-02 0.00000000e+00\n",
      "  0.00000000e+00 0.00000000e+00 1.48660337e-02 0.00000000e+00\n",
      "  0.00000000e+00 0.00000000e+00 0.00000000e+00 0.00000000e+00\n",
      "  1.08359932e-02 0.00000000e+00 0.00000000e+00 0.00000000e+00\n",
      "  0.00000000e+00 0.00000000e+00 0.00000000e+00 0.00000000e+00\n",
      "  6.66338666e-03 0.00000000e+00 0.00000000e+00 0.00000000e+00\n",
      "  0.00000000e+00 0.00000000e+00 0.00000000e+00 0.00000000e+00\n",
      "  0.00000000e+00 0.00000000e+00 3.57637692e-03 0.00000000e+00\n",
      "  0.00000000e+00 0.00000000e+00 0.00000000e+00 0.00000000e+00\n",
      "  0.00000000e+00 0.00000000e+00 0.00000000e+00 0.00000000e+00\n",
      "  0.00000000e+00 0.00000000e+00 1.71402747e-03 0.00000000e+00\n",
      "  0.00000000e+00 0.00000000e+00 0.00000000e+00 0.00000000e+00\n",
      "  0.00000000e+00 0.00000000e+00 0.00000000e+00 0.00000000e+00\n",
      "  0.00000000e+00 0.00000000e+00 0.00000000e+00 0.00000000e+00\n",
      "  7.45855444e-04 0.00000000e+00 0.00000000e+00 0.00000000e+00\n",
      "  0.00000000e+00 0.00000000e+00 0.00000000e+00 0.00000000e+00]\n",
      " [3.40095917e-03 0.00000000e+00 3.60819554e-03 0.00000000e+00\n",
      "  0.00000000e+00 0.00000000e+00 3.29146847e-03 0.00000000e+00\n",
      "  0.00000000e+00 0.00000000e+00 0.00000000e+00 0.00000000e+00\n",
      "  2.39645829e-03 0.00000000e+00 0.00000000e+00 0.00000000e+00\n",
      "  0.00000000e+00 0.00000000e+00 0.00000000e+00 0.00000000e+00\n",
      "  1.48615015e-03 0.00000000e+00 0.00000000e+00 0.00000000e+00\n",
      "  0.00000000e+00 0.00000000e+00 0.00000000e+00 0.00000000e+00\n",
      "  0.00000000e+00 0.00000000e+00 8.11689413e-04 0.00000000e+00\n",
      "  0.00000000e+00 0.00000000e+00 0.00000000e+00 0.00000000e+00\n",
      "  0.00000000e+00 0.00000000e+00 0.00000000e+00 0.00000000e+00\n",
      "  0.00000000e+00 0.00000000e+00 3.98854863e-04 0.00000000e+00\n",
      "  0.00000000e+00 0.00000000e+00 0.00000000e+00 0.00000000e+00\n",
      "  0.00000000e+00 0.00000000e+00 0.00000000e+00 0.00000000e+00\n",
      "  0.00000000e+00 0.00000000e+00 0.00000000e+00 0.00000000e+00\n",
      "  1.79019990e-04 0.00000000e+00 0.00000000e+00 0.00000000e+00\n",
      "  0.00000000e+00 0.00000000e+00 0.00000000e+00 0.00000000e+00]\n",
      " [2.88299701e-04 0.00000000e+00 3.79851682e-04 0.00000000e+00\n",
      "  0.00000000e+00 0.00000000e+00 3.63394906e-04 0.00000000e+00\n",
      "  0.00000000e+00 0.00000000e+00 0.00000000e+00 0.00000000e+00\n",
      "  2.78909616e-04 0.00000000e+00 0.00000000e+00 0.00000000e+00\n",
      "  0.00000000e+00 0.00000000e+00 0.00000000e+00 0.00000000e+00\n",
      "  1.82248638e-04 0.00000000e+00 0.00000000e+00 0.00000000e+00\n",
      "  0.00000000e+00 0.00000000e+00 0.00000000e+00 0.00000000e+00\n",
      "  0.00000000e+00 0.00000000e+00 1.04605665e-04 0.00000000e+00\n",
      "  0.00000000e+00 0.00000000e+00 0.00000000e+00 0.00000000e+00\n",
      "  0.00000000e+00 0.00000000e+00 0.00000000e+00 0.00000000e+00\n",
      "  0.00000000e+00 0.00000000e+00 5.38460896e-05 0.00000000e+00\n",
      "  0.00000000e+00 0.00000000e+00 0.00000000e+00 0.00000000e+00\n",
      "  0.00000000e+00 0.00000000e+00 0.00000000e+00 0.00000000e+00\n",
      "  0.00000000e+00 0.00000000e+00 0.00000000e+00 0.00000000e+00\n",
      "  2.52389920e-05 0.00000000e+00 0.00000000e+00 0.00000000e+00\n",
      "  0.00000000e+00 0.00000000e+00 0.00000000e+00 0.00000000e+00]]\n"
     ]
    }
   ],
   "source": [
    "print(features_librascal[0].reshape((nmax,(lmax+1)**2)))"
   ]
  },
  {
   "cell_type": "code",
   "execution_count": 15,
   "id": "unexpected-detroit",
   "metadata": {},
   "outputs": [
    {
     "name": "stdout",
     "output_type": "stream",
     "text": [
      "[[ 5.82969355e-01  0.00000000e+00  2.18301230e-01  0.00000000e+00\n",
      "   0.00000000e+00  0.00000000e+00  1.49910963e-01  0.00000000e+00\n",
      "   0.00000000e+00 -0.00000000e+00 -0.00000000e+00 -0.00000000e+00\n",
      "   7.91269910e-02  0.00000000e+00 -0.00000000e+00  0.00000000e+00\n",
      "  -0.00000000e+00  0.00000000e+00 -0.00000000e+00  0.00000000e+00\n",
      "   3.47551616e-02  0.00000000e+00  0.00000000e+00 -0.00000000e+00\n",
      "  -1.00400900e-07  0.00000000e+00  0.00000000e+00 -0.00000000e+00\n",
      "   0.00000000e+00  0.00000000e+00  1.31995033e-02  0.00000000e+00\n",
      "   0.00000000e+00  0.00000000e+00 -7.43360000e-09 -0.00000000e+00\n",
      "  -0.00000000e+00 -0.00000000e+00  0.00000000e+00  0.00000000e+00\n",
      "  -0.00000000e+00 -0.00000000e+00  4.42697264e-03 -0.00000000e+00\n",
      "   0.00000000e+00 -0.00000000e+00 -2.38121000e-08 -0.00000000e+00\n",
      "  -0.00000000e+00 -0.00000000e+00 -0.00000000e+00  0.00000000e+00\n",
      "   0.00000000e+00  0.00000000e+00  0.00000000e+00  0.00000000e+00\n",
      "   1.32087894e-03 -0.00000000e+00  0.00000000e+00  0.00000000e+00\n",
      "  -9.60060000e-09 -0.00000000e+00 -0.00000000e+00 -0.00000000e+00]\n",
      " [ 4.13588973e-02  0.00000000e+00  1.27738805e-01  0.00000000e+00\n",
      "   0.00000000e+00 -0.00000000e+00  1.18169936e-01  0.00000000e+00\n",
      "  -0.00000000e+00 -0.00000000e+00  0.00000000e+00 -0.00000000e+00\n",
      "   8.29036936e-02  0.00000000e+00 -0.00000000e+00  0.00000000e+00\n",
      "   0.00000000e+00 -0.00000000e+00 -0.00000000e+00 -0.00000000e+00\n",
      "   4.77460688e-02 -0.00000000e+00 -0.00000000e+00  0.00000000e+00\n",
      "   5.23742000e-08  0.00000000e+00 -0.00000000e+00  0.00000000e+00\n",
      "   0.00000000e+00 -0.00000000e+00  2.36030741e-02 -0.00000000e+00\n",
      "  -0.00000000e+00 -0.00000000e+00 -4.62300000e-09  0.00000000e+00\n",
      "   0.00000000e+00  0.00000000e+00  0.00000000e+00 -0.00000000e+00\n",
      "   0.00000000e+00  0.00000000e+00  1.03160580e-02  0.00000000e+00\n",
      "  -0.00000000e+00  0.00000000e+00  7.78932000e-08 -0.00000000e+00\n",
      "  -0.00000000e+00  0.00000000e+00  0.00000000e+00 -0.00000000e+00\n",
      "  -0.00000000e+00 -0.00000000e+00 -0.00000000e+00 -0.00000000e+00\n",
      "   4.08155856e-03  0.00000000e+00 -0.00000000e+00 -0.00000000e+00\n",
      "   6.83600000e-09  0.00000000e+00  0.00000000e+00 -0.00000000e+00]\n",
      " [ 3.93222557e-02  0.00000000e+00  4.57055610e-02 -0.00000000e+00\n",
      "  -0.00000000e+00  0.00000000e+00  4.20483337e-02 -0.00000000e+00\n",
      "   0.00000000e+00 -0.00000000e+00 -0.00000000e+00 -0.00000000e+00\n",
      "   3.06483378e-02 -0.00000000e+00 -0.00000000e+00  0.00000000e+00\n",
      "  -0.00000000e+00 -0.00000000e+00 -0.00000000e+00  0.00000000e+00\n",
      "   1.88478748e-02  0.00000000e+00  0.00000000e+00  0.00000000e+00\n",
      "   1.41307500e-07  0.00000000e+00 -0.00000000e+00 -0.00000000e+00\n",
      "  -0.00000000e+00 -0.00000000e+00  1.01121134e-02  0.00000000e+00\n",
      "   0.00000000e+00  0.00000000e+00  2.04830000e-08 -0.00000000e+00\n",
      "  -0.00000000e+00  0.00000000e+00 -0.00000000e+00 -0.00000000e+00\n",
      "  -0.00000000e+00  0.00000000e+00  4.83558243e-03 -0.00000000e+00\n",
      "   0.00000000e+00 -0.00000000e+00 -9.75811000e-08 -0.00000000e+00\n",
      "   0.00000000e+00  0.00000000e+00  0.00000000e+00 -0.00000000e+00\n",
      "   0.00000000e+00 -0.00000000e+00  0.00000000e+00  0.00000000e+00\n",
      "   2.08998905e-03 -0.00000000e+00  0.00000000e+00  0.00000000e+00\n",
      "  -5.94190000e-09 -0.00000000e+00  0.00000000e+00  0.00000000e+00]\n",
      " [ 9.61505237e-03  0.00000000e+00  1.02057574e-02  0.00000000e+00\n",
      "   0.00000000e+00  0.00000000e+00  9.30852290e-03  0.00000000e+00\n",
      "  -0.00000000e+00 -0.00000000e+00 -0.00000000e+00 -0.00000000e+00\n",
      "   6.77825255e-03  0.00000000e+00 -0.00000000e+00  0.00000000e+00\n",
      "  -0.00000000e+00  0.00000000e+00 -0.00000000e+00  0.00000000e+00\n",
      "   4.20246742e-03 -0.00000000e+00  0.00000000e+00 -0.00000000e+00\n",
      "  -1.50258700e-07 -0.00000000e+00 -0.00000000e+00 -0.00000000e+00\n",
      "  -0.00000000e+00  0.00000000e+00  2.29543965e-03 -0.00000000e+00\n",
      "   0.00000000e+00 -0.00000000e+00 -1.91266000e-08  0.00000000e+00\n",
      "  -0.00000000e+00  0.00000000e+00  0.00000000e+00  0.00000000e+00\n",
      "   0.00000000e+00  0.00000000e+00  1.12794093e-03  0.00000000e+00\n",
      "  -0.00000000e+00  0.00000000e+00  9.89934000e-08  0.00000000e+00\n",
      "   0.00000000e+00 -0.00000000e+00 -0.00000000e+00 -0.00000000e+00\n",
      "  -0.00000000e+00  0.00000000e+00 -0.00000000e+00  0.00000000e+00\n",
      "   5.06277689e-04  0.00000000e+00  0.00000000e+00 -0.00000000e+00\n",
      "   1.16915000e-08 -0.00000000e+00  0.00000000e+00  0.00000000e+00]\n",
      " [ 8.18093723e-04 -0.00000000e+00  1.07423776e-03 -0.00000000e+00\n",
      "  -0.00000000e+00  0.00000000e+00  1.02854099e-03  0.00000000e+00\n",
      "  -0.00000000e+00 -0.00000000e+00  0.00000000e+00 -0.00000000e+00\n",
      "   7.88848651e-04  0.00000000e+00 -0.00000000e+00  0.00000000e+00\n",
      "  -0.00000000e+00 -0.00000000e+00  0.00000000e+00  0.00000000e+00\n",
      "   5.16093716e-04  0.00000000e+00 -0.00000000e+00  0.00000000e+00\n",
      "   1.05006700e-07 -0.00000000e+00 -0.00000000e+00  0.00000000e+00\n",
      "   0.00000000e+00  0.00000000e+00  2.96003353e-04  0.00000000e+00\n",
      "   0.00000000e+00  0.00000000e+00  1.20424000e-08  0.00000000e+00\n",
      "  -0.00000000e+00 -0.00000000e+00  0.00000000e+00  0.00000000e+00\n",
      "  -0.00000000e+00 -0.00000000e+00  1.51800758e-04 -0.00000000e+00\n",
      "  -0.00000000e+00 -0.00000000e+00 -5.83424000e-08  0.00000000e+00\n",
      "   0.00000000e+00 -0.00000000e+00 -0.00000000e+00  0.00000000e+00\n",
      "   0.00000000e+00  0.00000000e+00 -0.00000000e+00  0.00000000e+00\n",
      "   6.97849379e-05 -0.00000000e+00 -0.00000000e+00 -0.00000000e+00\n",
      "  -6.55360000e-09  0.00000000e+00  0.00000000e+00  0.00000000e+00]]\n"
     ]
    }
   ],
   "source": [
    "print(np.round(features_pylode,13)[0,0])"
   ]
  },
  {
   "cell_type": "code",
   "execution_count": 16,
   "id": "forty-crazy",
   "metadata": {},
   "outputs": [
    {
     "name": "stderr",
     "output_type": "stream",
     "text": [
      "<ipython-input-16-404fd94f05df>:1: RuntimeWarning: divide by zero encountered in true_divide\n",
      "  features_pylode[0,0] / features_librascal[0].reshape((nmax,(lmax+1)**2))\n"
     ]
    },
    {
     "data": {
      "text/plain": [
       "array([[2.82840972,        inf, 2.82840562,        inf,        inf,\n",
       "               inf, 2.82847619,        inf,        inf,       -inf,\n",
       "              -inf,       -inf, 2.82847902,        inf,       -inf,\n",
       "               inf,       -inf,        inf,       -inf,        inf,\n",
       "        2.828514  ,        inf,        inf,       -inf,       -inf,\n",
       "               inf,        inf,       -inf,        inf,        inf,\n",
       "        2.83067075,        inf,        inf,        inf,       -inf,\n",
       "              -inf,       -inf,       -inf,        inf,        inf,\n",
       "              -inf,       -inf, 2.83939145,       -inf,        inf,\n",
       "              -inf,       -inf,       -inf,       -inf,       -inf,\n",
       "              -inf,        inf,        inf,        inf,        inf,\n",
       "               inf, 2.85272164,       -inf,        inf,        inf,\n",
       "              -inf,       -inf,       -inf,       -inf],\n",
       "       [2.82868284,        inf, 2.82845384,        inf,        inf,\n",
       "              -inf, 2.82841854,        inf,       -inf,       -inf,\n",
       "               inf,       -inf, 2.82861021,        inf,       -inf,\n",
       "               inf,        inf,       -inf,       -inf,       -inf,\n",
       "        2.8283829 ,       -inf,       -inf,        inf,        inf,\n",
       "               inf,       -inf,        inf,        inf,       -inf,\n",
       "        2.82669209,       -inf,       -inf,       -inf,       -inf,\n",
       "               inf,        inf,        inf,        inf,       -inf,\n",
       "               inf,        inf, 2.82505452,        inf,       -inf,\n",
       "               inf,        inf,       -inf,       -inf,        inf,\n",
       "               inf,       -inf,       -inf,       -inf,       -inf,\n",
       "              -inf, 2.8335414 ,        inf,       -inf,       -inf,\n",
       "               inf,        inf,        inf,       -inf],\n",
       "       [2.82866949,        inf, 2.82841245,       -inf,       -inf,\n",
       "               inf, 2.82848368,       -inf,        inf,       -inf,\n",
       "              -inf,       -inf, 2.8283829 ,       -inf,       -inf,\n",
       "               inf,       -inf,       -inf,       -inf,        inf,\n",
       "        2.82857288,        inf,        inf,        inf,        inf,\n",
       "               inf,       -inf,       -inf,       -inf,       -inf,\n",
       "        2.82747417,        inf,        inf,        inf,        inf,\n",
       "              -inf,       -inf,        inf,       -inf,       -inf,\n",
       "              -inf,        inf, 2.82118141,       -inf,        inf,\n",
       "              -inf,       -inf,       -inf,        inf,        inf,\n",
       "               inf,       -inf,        inf,       -inf,        inf,\n",
       "               inf, 2.80213689,       -inf,        inf,        inf,\n",
       "              -inf,       -inf,        inf,        inf],\n",
       "       [2.82715901,        inf, 2.82849343,        inf,        inf,\n",
       "               inf, 2.82807597,        inf,       -inf,       -inf,\n",
       "              -inf,       -inf, 2.82844587,        inf,       -inf,\n",
       "               inf,       -inf,        inf,       -inf,        inf,\n",
       "        2.82775426,       -inf,        inf,       -inf,       -inf,\n",
       "              -inf,       -inf,       -inf,       -inf,        inf,\n",
       "        2.82797781,       -inf,        inf,       -inf,       -inf,\n",
       "               inf,       -inf,        inf,        inf,        inf,\n",
       "               inf,        inf, 2.8279483 ,        inf,       -inf,\n",
       "               inf,        inf,        inf,        inf,       -inf,\n",
       "              -inf,       -inf,       -inf,        inf,       -inf,\n",
       "               inf, 2.82805116,        inf,        inf,       -inf,\n",
       "               inf,       -inf,        inf,        inf],\n",
       "       [2.83765026,       -inf, 2.82804528,       -inf,       -inf,\n",
       "               inf, 2.83036712,        inf,       -inf,       -inf,\n",
       "               inf,       -inf, 2.82833077,        inf,       -inf,\n",
       "               inf,       -inf,       -inf,        inf,        inf,\n",
       "        2.8318111 ,        inf,       -inf,        inf,        inf,\n",
       "              -inf,       -inf,        inf,        inf,        inf,\n",
       "        2.82970673,        inf,        inf,        inf,        inf,\n",
       "               inf,       -inf,       -inf,        inf,        inf,\n",
       "              -inf,       -inf, 2.81916029,       -inf,       -inf,\n",
       "              -inf,       -inf,        inf,        inf,       -inf,\n",
       "              -inf,        inf,        inf,        inf,       -inf,\n",
       "               inf, 2.76496533,       -inf,       -inf,       -inf,\n",
       "              -inf,        inf,        inf,        inf]])"
      ]
     },
     "execution_count": 16,
     "metadata": {},
     "output_type": "execute_result"
    }
   ],
   "source": [
    "features_pylode[0,0] / features_librascal[0].reshape((nmax,(lmax+1)**2))"
   ]
  },
  {
   "cell_type": "code",
   "execution_count": 17,
   "id": "north-smart",
   "metadata": {},
   "outputs": [],
   "source": [
    "v1 = descriptor_rascaline.values[0].reshape(((lmax+1)**2, nmax)).T / 10.962374348347298\n",
    "v2 = features_librascal[0].reshape((nmax,(lmax+1)**2))\n",
    "#assert_allclose(v1, v2, rtol=1e-13, atol=1e-8) # not true any more since librascal has been fixed but not rascaline"
   ]
  },
  {
   "cell_type": "markdown",
   "id": "polyphonic-thermal",
   "metadata": {},
   "source": [
    "Coefficients for librascal and rascaline match essentially perfectly for the dimers for $l \\geq 1$."
   ]
  },
  {
   "cell_type": "markdown",
   "id": "beautiful-guest",
   "metadata": {},
   "source": [
    "# Compare coefficients for $l=1$ <a class=\"anchor\" id=\"l=1\"></a>"
   ]
  },
  {
   "cell_type": "markdown",
   "id": "coastal-animal",
   "metadata": {},
   "source": [
    "## Explicit computation of coefficients for $l=1$ <a class=\"anchor\" id=\"l=1explicit\"></a>"
   ]
  },
  {
   "cell_type": "markdown",
   "id": "completed-future",
   "metadata": {},
   "source": [
    "To make sure that we understand every single aspect of the codes including all the prefactors and conventions, we compute the exact coefficients we would expect from an Oxygen molecule oriented along the z-axis. The computations are done using three (four) different methods: a fully analytical approach applicable to all $l$, a semi-analytical approach in which the final radial integral is evaluated numerically also valid for all $l$, and finally an explicit formula that was obtained directly for the special case $l=1$ starting at the very definition. For convenience, we also include the complete analytical formula for the special case $l=1$."
   ]
  },
  {
   "cell_type": "markdown",
   "id": "realistic-sellers",
   "metadata": {},
   "source": [
    "### Fully analytical formula for $l=1$"
   ]
  },
  {
   "cell_type": "code",
   "execution_count": 18,
   "id": "welsh-python",
   "metadata": {},
   "outputs": [],
   "source": [
    "def coefficients_analytical_l1(nmax, d):\n",
    "    # Define auxilary quantities and prefactors\n",
    "    a = 1. / (2 * smearing**2)\n",
    "    lplus3half = 2.5\n",
    "    prefac_global = np.pi * np.sqrt(3/4) * a / gamma(lplus3half) * d * np.exp(-a*d**2)\n",
    "    prefac_global /= (2 * np.pi * smearing**2)**1.5\n",
    "    \n",
    "    # Start main loop\n",
    "    featvec = np.zeros((nmax))\n",
    "    for n in range(nmax):\n",
    "        # Compute contribution for primitive GTO function\n",
    "        nlplus3half = (4 + n) / 2\n",
    "        b = 1. / (2 * sigma[n]**2)\n",
    "        prefac_n_dep = gamma(nlplus3half) / (a+b)**nlplus3half\n",
    "        hyp = hyp1f1(nlplus3half, lplus3half, a**2*d**2/(a+b))\n",
    "        featvec[n] = prefac_n_dep * hyp\n",
    "\n",
    "    return prefac_global * (transformation @ featvec)"
   ]
  },
  {
   "cell_type": "markdown",
   "id": "frequent-cooler",
   "metadata": {},
   "source": [
    "### Semianalytical (final integral performed numerically) formula for $l=1$"
   ]
  },
  {
   "cell_type": "code",
   "execution_count": 19,
   "id": "accurate-mumbai",
   "metadata": {},
   "outputs": [],
   "source": [
    "def coefficients_semianalytical_l1(nmax, d):\n",
    "    # Prefactor\n",
    "    a = 1. / (2 * smearing**2)\n",
    "    prefac = np.sqrt(1.5) / (2 * np.pi * smearing**3)\n",
    "    prefac *= np.exp(-a*d**2)\n",
    "    \n",
    "    # Start main loop\n",
    "    featvec = np.zeros((nmax,))\n",
    "    for n in range(nmax):\n",
    "        # Start defining functions appearing in integrand\n",
    "        b = 1. / (2 * sigma[n]**2)\n",
    "        gaussian = lambda r: np.exp(-(a+b)*r**2)\n",
    "        power = lambda r: r**(2+n)\n",
    "        mod_sph_bessel = lambda x: (x*np.cosh(x) - np.sinh(x))/x**2\n",
    "        bessel = lambda r: mod_sph_bessel(2*a*d*r)\n",
    "\n",
    "        integrand = lambda r: power(r) * gaussian(r) * bessel(r) * 2\n",
    "        \n",
    "        # Numerical Integration\n",
    "        featvec[n] = quad(integrand, 1e-10, 4.5 * rcut)[0]\n",
    "    \n",
    "    return prefac * (transformation @ featvec)"
   ]
  },
  {
   "cell_type": "markdown",
   "id": "satisfied-copying",
   "metadata": {},
   "source": [
    "### Compare the coefficients obtained using different methods"
   ]
  },
  {
   "cell_type": "code",
   "execution_count": 20,
   "id": "loose-problem",
   "metadata": {},
   "outputs": [],
   "source": [
    "features_analytical_l1 = np.zeros((len(distances), nmax))\n",
    "features_semianalytical_l1 = np.zeros((len(distances), nmax))\n",
    "features_analytical_general = np.zeros((len(distances), nmax))\n",
    "features_semianalytical_general = np.zeros((len(distances), nmax))\n",
    "\n",
    "for i_dist, d in enumerate(distances):\n",
    "    features_analytical_l1[i_dist] = coefficients_analytical_l1(nmax, d)\n",
    "    features_semianalytical_l1[i_dist] = coefficients_semianalytical_l1(nmax, d)\n",
    "    features_analytical_general[i_dist] = coefficients_analytical_general_l(nmax, d, l=1)\n",
    "    features_semianalytical_general[i_dist] = coefficients_semianalytical_general_l(nmax, d, l=1)"
   ]
  },
  {
   "cell_type": "code",
   "execution_count": 21,
   "id": "productive-entry",
   "metadata": {},
   "outputs": [],
   "source": [
    "delta1 = np.linalg.norm(features_analytical_l1 - features_analytical_general)\n",
    "delta2 = np.linalg.norm(features_analytical_general - features_semianalytical_general)\n",
    "delta3 = np.linalg.norm(features_semianalytical_l1 - features_semianalytical_general)\n",
    "#assert delta1 < 1e-14\n",
    "#assert delta2 < 1e-14\n",
    "#assert delta3 < 1e-14"
   ]
  },
  {
   "cell_type": "markdown",
   "id": "joint-history",
   "metadata": {},
   "source": [
    "## Compare the exact values with those obtained from the three codes <a class=\"anchor\" id=\"l=1dimer\"></a>"
   ]
  },
  {
   "cell_type": "markdown",
   "id": "mathematical-implement",
   "metadata": {},
   "source": [
    "The exact coefficients obtained using the analytical formula are now compared to those obtained from the three codes."
   ]
  },
  {
   "cell_type": "markdown",
   "id": "strong-tiger",
   "metadata": {},
   "source": [
    "### Get the $l=1$ (and $m=0$) part of the features of the three codes"
   ]
  },
  {
   "cell_type": "code",
   "execution_count": 22,
   "id": "absolute-sucking",
   "metadata": {},
   "outputs": [
    {
     "name": "stdout",
     "output_type": "stream",
     "text": [
      "Shapes of feature vectors\n",
      "rascaline (20, 320)\n",
      "librascal (20, 320)\n"
     ]
    }
   ],
   "source": [
    "print('Shapes of feature vectors')\n",
    "print('rascaline', descriptor_rascaline.values.shape)\n",
    "print('librascal', features_librascal.shape)"
   ]
  },
  {
   "cell_type": "code",
   "execution_count": 23,
   "id": "aggregate-crime",
   "metadata": {},
   "outputs": [],
   "source": [
    "features_L1_rascaline = descriptor_rascaline.values[0::2, 2*nmax:3*nmax] / 10.962374348347298 "
   ]
  },
  {
   "cell_type": "code",
   "execution_count": 24,
   "id": "green-native",
   "metadata": {},
   "outputs": [],
   "source": [
    "features_L1_librascal = features_librascal[0::2, 2::(lmax+1)**2]"
   ]
  },
  {
   "cell_type": "code",
   "execution_count": 25,
   "id": "portuguese-dividend",
   "metadata": {},
   "outputs": [],
   "source": [
    "features_L1_pylode = features_pylode[0::2, 0, :, 2]"
   ]
  },
  {
   "cell_type": "code",
   "execution_count": 26,
   "id": "miniature-ottawa",
   "metadata": {},
   "outputs": [],
   "source": [
    "for features in [features_L1_rascaline, features_L1_librascal, features_L1_pylode, features_analytical_l1]:\n",
    "    assert features.shape == (len(distances), nmax)"
   ]
  },
  {
   "cell_type": "code",
   "execution_count": 27,
   "id": "scenic-exhaust",
   "metadata": {},
   "outputs": [
    {
     "name": "stdout",
     "output_type": "stream",
     "text": [
      "[[1.00000652 0.99999203 1.00000484 0.99997672 1.00013495]\n",
      " [1.00001176 0.99999042 1.00000417 0.99997917 1.00010812]\n",
      " [0.99999967 0.99999679 1.00001156 0.99995062 1.00022285]\n",
      " [0.999988   0.99999817 1.0000171  0.99993273 1.00027445]\n",
      " [0.99999971 0.99999182 1.00001961 0.9999286  1.0002671 ]\n",
      " [1.00004083 0.99998263 1.00002343 0.99992237 1.00026729]\n",
      " [1.0001318  0.99997251 1.00003167 0.99990673 1.00029551]\n",
      " [0.99987848 0.99995229 1.00004472 0.99988466 1.00033642]\n",
      " [0.9999175  0.99989227 1.0000633  0.99985851 1.00037995]\n",
      " [0.99985533 0.99965541 1.00009136 0.99982544 1.00043086]]\n"
     ]
    }
   ],
   "source": [
    "print(features_analytical_l1 / features_L1_pylode)"
   ]
  },
  {
   "cell_type": "code",
   "execution_count": 28,
   "id": "funny-click",
   "metadata": {},
   "outputs": [
    {
     "data": {
      "text/plain": [
       "array([[ 2.12209328e-02,  7.77222083e-03, -2.22315980e-03,\n",
       "         1.10086844e-03, -2.06963592e-04],\n",
       "       [ 1.82872880e-02,  1.08215478e-02, -1.92841702e-03,\n",
       "         1.28198787e-03, -2.91064176e-04],\n",
       "       [ 1.48128538e-02,  1.32208991e-02, -1.16564928e-03,\n",
       "         1.28221435e-03, -3.17523578e-04],\n",
       "       [ 1.13269371e-02,  1.46821740e-02,  4.29768587e-05,\n",
       "         1.10319775e-03, -2.80126006e-04],\n",
       "       [ 8.18803551e-03,  1.51074657e-02,  1.60168701e-03,\n",
       "         7.91117698e-04, -1.87689390e-04],\n",
       "       [ 5.59090740e-03,  1.45604609e-02,  3.36449115e-03,\n",
       "         4.21322721e-04, -5.91186089e-05],\n",
       "       [ 3.59937371e-03,  1.32170997e-02,  5.16335949e-03,\n",
       "         7.99145053e-05,  8.26208132e-05],\n",
       "       [ 2.18608148e-03,  1.13134065e-02,  6.83430768e-03,\n",
       "        -1.52904894e-04,  2.15912558e-04],\n",
       "       [ 1.26902780e-03,  9.10051808e-03,  8.23764697e-03,\n",
       "        -2.15192429e-04,  3.24412870e-04],\n",
       "       [ 7.40858763e-04,  6.81097112e-03,  9.27105741e-03,\n",
       "        -7.05306736e-05,  3.99236327e-04]])"
      ]
     },
     "execution_count": 28,
     "metadata": {},
     "output_type": "execute_result"
    }
   ],
   "source": [
    "features_L1_rascaline"
   ]
  },
  {
   "cell_type": "code",
   "execution_count": 29,
   "id": "public-cooperation",
   "metadata": {},
   "outputs": [
    {
     "name": "stdout",
     "output_type": "stream",
     "text": [
      "[[  10.28713756   16.43517202  -20.558928      9.27042635   -5.19116778]\n",
      " [   9.77458243   13.96330621  -30.78519581   10.51760787   -5.49395653]\n",
      " [   9.07938946   12.43607865  -63.19524416   13.60294306   -7.24849529]\n",
      " [   8.12652275   11.30270389 2037.8391698    20.03520446  -11.47166267]\n",
      " [   6.79638072   10.32556364   62.45417019   34.67792844  -23.25304518]\n",
      " [   4.89369633    9.37042525   32.69576047   79.14078711  -97.75420123]\n",
      " [   2.09881702    8.33439651   22.59529455  496.4951787    90.48743811]\n",
      " [  -2.07770659    7.10699822   17.47936955 -302.31193861   43.83847828]\n",
      " [  -8.15579123    5.5286498    14.34035059 -245.05753762   36.20664184]\n",
      " [ -15.57813624    3.30894059   12.16169389 -835.47080193   35.83297961]]\n"
     ]
    }
   ],
   "source": [
    "print(features_analytical_l1 / features_L1_rascaline)"
   ]
  },
  {
   "cell_type": "code",
   "execution_count": 30,
   "id": "active-jungle",
   "metadata": {},
   "outputs": [
    {
     "name": "stdout",
     "output_type": "stream",
     "text": [
      "[[2.82842408 2.82843129 2.82842613 2.82842759 2.82842694]\n",
      " [2.82842459 2.82842947 2.82842664 2.82842735 2.82842705]\n",
      " [2.82842534 2.8284282  2.82842695 2.8284272  2.8284271 ]\n",
      " [2.8284265  2.82842729 2.82842713 2.82842712 2.82842713]\n",
      " [2.82842849 2.82842661 2.82842723 2.82842708 2.82842714]\n",
      " [2.82843283 2.82842607 2.82842727 2.82842707 2.82842714]\n",
      " [2.82845193 2.82842562 2.82842727 2.82842708 2.82842714]\n",
      " [2.82838764 2.82842519 2.82842725 2.82842709 2.82842713]\n",
      " [2.8284132  2.82842469 2.82842722 2.8284271  2.82842713]\n",
      " [2.82841898 2.82842367 2.82842719 2.82842711 2.82842713]]\n"
     ]
    }
   ],
   "source": [
    "print(features_semianalytical_general / features_L1_librascal)"
   ]
  },
  {
   "cell_type": "markdown",
   "id": "joined-wisconsin",
   "metadata": {},
   "source": [
    "# Compare coefficients for $l\\geq 2$ <a class=\"anchor\" id=\"l\\geq2\"></a>"
   ]
  },
  {
   "cell_type": "markdown",
   "id": "alive-dining",
   "metadata": {},
   "source": [
    "## Compare coefficients for $l=2$ <a class=\"anchor\" id=\"l=2\"></a>"
   ]
  },
  {
   "cell_type": "code",
   "execution_count": 31,
   "id": "taken-setting",
   "metadata": {},
   "outputs": [],
   "source": [
    "lm_index = 6 # l**2 + l"
   ]
  },
  {
   "cell_type": "code",
   "execution_count": 32,
   "id": "secret-silly",
   "metadata": {},
   "outputs": [
    {
     "name": "stdout",
     "output_type": "stream",
     "text": [
      "Shapes of feature vectors\n",
      "rascaline (20, 320)\n",
      "librascal (20, 320)\n"
     ]
    }
   ],
   "source": [
    "print('Shapes of feature vectors')\n",
    "print('rascaline', descriptor_rascaline.values.shape)\n",
    "print('librascal', features_librascal.shape)"
   ]
  },
  {
   "cell_type": "code",
   "execution_count": 33,
   "id": "freelance-canadian",
   "metadata": {},
   "outputs": [],
   "source": [
    "features_L2_rascaline = descriptor_rascaline.values[0::2, lm_index*nmax:(lm_index+1)*nmax] / 10.962374348347298 "
   ]
  },
  {
   "cell_type": "code",
   "execution_count": 34,
   "id": "black-jewelry",
   "metadata": {},
   "outputs": [],
   "source": [
    "features_L2_librascal = features_librascal[0::2, lm_index::(lmax+1)**2]"
   ]
  },
  {
   "cell_type": "code",
   "execution_count": 35,
   "id": "brave-watson",
   "metadata": {},
   "outputs": [],
   "source": [
    "features_L2_pylode = features_pylode[0::2, 0, :, lm_index]"
   ]
  },
  {
   "cell_type": "code",
   "execution_count": 36,
   "id": "unique-serum",
   "metadata": {},
   "outputs": [],
   "source": [
    "features_analytical_l2 = np.zeros((len(distances), nmax))\n",
    "features_numerical_l2 = np.zeros((len(distances), nmax))\n",
    "\n",
    "for i_dist, d in enumerate(distances):\n",
    "    features_analytical_l2[i_dist] = coefficients_analytical_general_l(nmax, d, l=2)\n",
    "    features_numerical_l2[i_dist] = coefficients_semianalytical_general_l(nmax, d, l=2)"
   ]
  },
  {
   "cell_type": "code",
   "execution_count": 37,
   "id": "medical-implementation",
   "metadata": {},
   "outputs": [],
   "source": [
    "delta_l2 = np.linalg.norm(features_analytical_l2 - features_numerical_l2)"
   ]
  },
  {
   "cell_type": "code",
   "execution_count": 38,
   "id": "breeding-transcription",
   "metadata": {},
   "outputs": [
    {
     "name": "stdout",
     "output_type": "stream",
     "text": [
      "[[1.00001828 0.99999603 1.00002021 0.99987575 1.00068593]\n",
      " [0.99998901 0.99999724 1.00001286 0.99995404 1.00022203]\n",
      " [0.99998207 0.9999953  1.00001185 0.99996435 1.00015507]\n",
      " [1.00000561 0.99999257 1.00001655 0.99993548 1.00026259]\n",
      " [1.00003428 0.99998916 1.00002274 0.99991304 1.00032592]\n",
      " [1.00003599 0.99998263 1.00002884 0.99990467 1.00032795]\n",
      " [1.00001843 0.99996963 1.00003657 0.99989559 1.00033045]\n",
      " [0.99990256 0.999943   1.00004883 0.99987635 1.00036089]\n",
      " [0.99986631 0.99987506 1.00006845 0.9998478  1.0004092 ]\n",
      " [0.99982907 0.9996044  1.00009905 0.99981167 1.00046507]]\n"
     ]
    }
   ],
   "source": [
    "print(features_L2_pylode / features_analytical_l2)"
   ]
  },
  {
   "cell_type": "code",
   "execution_count": 39,
   "id": "catholic-seeking",
   "metadata": {},
   "outputs": [
    {
     "name": "stdout",
     "output_type": "stream",
     "text": [
      "[[1.00001828 0.99999603 1.00002021 0.99987575 1.00068593]\n",
      " [0.99998901 0.99999724 1.00001286 0.99995404 1.00022203]\n",
      " [0.99998207 0.9999953  1.00001185 0.99996435 1.00015507]\n",
      " [1.00000561 0.99999257 1.00001655 0.99993548 1.00026259]\n",
      " [1.00003428 0.99998916 1.00002274 0.99991304 1.00032592]\n",
      " [1.00003599 0.99998263 1.00002884 0.99990467 1.00032795]\n",
      " [1.00001843 0.99996963 1.00003657 0.99989559 1.00033045]\n",
      " [0.99990256 0.999943   1.00004883 0.99987635 1.00036089]\n",
      " [0.99986631 0.99987506 1.00006845 0.9998478  1.0004092 ]\n",
      " [0.99982907 0.9996044  1.00009905 0.99981167 1.00046507]]\n"
     ]
    }
   ],
   "source": [
    "print(features_L2_pylode / features_numerical_l2)"
   ]
  },
  {
   "cell_type": "code",
   "execution_count": 40,
   "id": "congressional-teaching",
   "metadata": {},
   "outputs": [
    {
     "name": "stdout",
     "output_type": "stream",
     "text": [
      "[[0.35355372 0.35355306 0.35355347 0.35355335 0.3535534 ]\n",
      " [0.35355365 0.3535532  0.35355343 0.35355337 0.3535534 ]\n",
      " [0.35355355 0.35355331 0.3535534  0.35355339 0.35355339]\n",
      " [0.35355339 0.3535534  0.35355338 0.35355339 0.35355339]\n",
      " [0.35355311 0.35355348 0.35355338 0.3535534  0.35355339]\n",
      " [0.35355246 0.35355354 0.35355337 0.3535534  0.35355339]\n",
      " [0.35354867 0.35355359 0.35355337 0.3535534  0.35355339]\n",
      " [0.35355731 0.35355364 0.35355337 0.3535534  0.35355339]\n",
      " [0.35355503 0.3535537  0.35355338 0.35355339 0.35355339]\n",
      " [0.35355437 0.35355384 0.35355338 0.35355339 0.35355339]]\n"
     ]
    }
   ],
   "source": [
    "print(features_L2_librascal / features_numerical_l2)"
   ]
  },
  {
   "cell_type": "markdown",
   "id": "editorial-engine",
   "metadata": {},
   "source": [
    "## Compare coefficients for general $l$ <a class=\"anchor\" id=\"l_general\"></a>"
   ]
  },
  {
   "cell_type": "code",
   "execution_count": 41,
   "id": "disabled-platform",
   "metadata": {},
   "outputs": [
    {
     "name": "stdout",
     "output_type": "stream",
     "text": [
      "pyLODE vs numerical coefficients for l = 1\n",
      "[[0.999993 1.000008 0.999995 1.000023 0.999865]\n",
      " [0.999988 1.00001  0.999996 1.000021 0.999892]\n",
      " [1.       1.000003 0.999988 1.000049 0.999777]\n",
      " [1.000012 1.000002 0.999983 1.000067 0.999726]\n",
      " [1.       1.000008 0.99998  1.000071 0.999733]\n",
      " [0.999959 1.000017 0.999977 1.000078 0.999733]\n",
      " [0.999868 1.000027 0.999968 1.000093 0.999705]\n",
      " [1.000122 1.000048 0.999955 1.000115 0.999664]\n",
      " [1.000083 1.000108 0.999937 1.000142 0.99962 ]\n",
      " [1.000145 1.000345 0.999909 1.000175 0.999569]]\n",
      "Difference between numerical and analytical evaluation =  1.3456018268142403e-15\n",
      "\n",
      "pyLODE vs numerical coefficients for l = 2\n",
      "[[1.000018 0.999996 1.00002  0.999876 1.000686]\n",
      " [0.999989 0.999997 1.000013 0.999954 1.000222]\n",
      " [0.999982 0.999995 1.000012 0.999964 1.000155]\n",
      " [1.000006 0.999993 1.000017 0.999935 1.000263]\n",
      " [1.000034 0.999989 1.000023 0.999913 1.000326]\n",
      " [1.000036 0.999983 1.000029 0.999905 1.000328]\n",
      " [1.000018 0.99997  1.000037 0.999896 1.00033 ]\n",
      " [0.999903 0.999943 1.000049 0.999876 1.000361]\n",
      " [0.999866 0.999875 1.000068 0.999848 1.000409]\n",
      " [0.999829 0.999604 1.000099 0.999812 1.000465]]\n",
      "Difference between numerical and analytical evaluation =  9.108491309408963e-16\n",
      "\n",
      "pyLODE vs numerical coefficients for l = 3\n",
      "[[1.000019 1.000064 0.999984 1.000007 0.999966]\n",
      " [1.000001 1.000037 0.999983 1.000048 0.999773]\n",
      " [0.999987 0.999996 0.999979 1.000098 0.999573]\n",
      " [0.999989 0.99999  0.999975 1.000109 0.999565]\n",
      " [0.999996 1.000014 0.999971 1.000103 0.999622]\n",
      " [0.999974 1.000036 0.999966 1.000106 0.999638]\n",
      " [0.999561 1.000044 0.999956 1.000124 0.999611]\n",
      " [1.000157 1.00006  0.999942 1.000148 0.999573]\n",
      " [1.000129 1.000142 0.99992  1.000175 0.999533]\n",
      " [1.000172 1.000512 0.999888 1.00021  0.999484]]\n",
      "Difference between numerical and analytical evaluation =  1.4758556984291131e-15\n",
      "\n",
      "pyLODE vs numerical coefficients for l = 4\n",
      "[[1.000031 0.999984 1.000052 0.999762 1.001196]\n",
      " [0.99992  1.000137 1.000031 0.999941 1.000282]\n",
      " [0.999935 1.000054 1.00003  0.999904 1.000411]\n",
      " [1.000036 0.999952 1.000036 0.999853 1.000578]\n",
      " [1.000124 0.99993  1.000042 0.999843 1.000571]\n",
      " [1.000094 0.999968 1.000048 0.99985  1.000505]\n",
      " [1.000398 0.999985 1.000056 0.999845 1.000481]\n",
      " [0.999923 0.999926 1.000071 0.999824 1.000505]\n",
      " [0.999807 0.999769 1.000095 0.999793 1.000548]\n",
      " [0.999777 0.999268 1.000132 0.999754 1.000599]]\n",
      "Difference between numerical and analytical evaluation =  6.551430122850809e-16\n",
      "\n",
      "pyLODE vs numerical coefficients for l = 5\n",
      "[[1.000793 0.999387 0.999663 0.999841 1.000452]\n",
      " [0.999961 1.00008  0.999966 1.000265 0.998869]\n",
      " [0.999602 1.000218 1.00001  1.000306 0.998807]\n",
      " [0.99973  1.000098 0.999966 1.000229 0.999143]\n",
      " [1.00019  0.99998  0.999931 1.000179 0.99936 ]\n",
      " [1.000856 0.999982 0.999926 1.000179 0.999406]\n",
      " [1.000325 1.000077 0.999927 1.000201 0.999384]\n",
      " [1.00044  1.000185 0.999914 1.000226 0.999361]\n",
      " [1.000236 1.000303 0.999883 1.000252 0.999339]\n",
      " [1.000136 1.000912 0.999838 1.00029  0.9993  ]]\n",
      "Difference between numerical and analytical evaluation =  9.392903550355503e-16\n",
      "\n",
      "pyLODE vs numerical coefficients for l = 6\n",
      "[[1.003876 0.998808 0.997438 0.999831 0.996724]\n",
      " [1.001465 0.999669 0.999458 0.999688 1.000446]\n",
      " [0.9997   1.000045 1.000221 0.999635 1.001593]\n",
      " [0.998903 1.000082 1.000285 0.999653 1.001486]\n",
      " [0.999339 0.999974 1.000141 0.999693 1.001106]\n",
      " [1.026782 0.999877 1.000054 0.999722 1.000869]\n",
      " [0.998865 0.999846 1.000069 0.999726 1.000803]\n",
      " [0.999881 0.999827 1.000125 0.99971  1.000812]\n",
      " [1.000044 0.99965  1.000171 0.99968  1.000834]\n",
      " [0.999754 0.998248 1.000208 0.999638 1.000866]]\n",
      "Difference between numerical and analytical evaluation =  4.109625036569019e-16\n",
      "\n",
      "pyLODE vs numerical coefficients for l = 7\n",
      "[[1.008589 1.001808 0.990705 0.999867 0.977563]\n",
      " [1.005246 1.000883 0.99625  1.000406 0.990201]\n",
      " [1.00184  1.000309 0.999117 1.000637 0.996129]\n",
      " [0.998618 1.000045 1.000109 1.000616 0.998269]\n",
      " [0.993947 1.000004 1.000137 1.000505 0.998737]\n",
      " [1.001926 1.000085 0.999912 1.000417 0.998754]\n",
      " [0.999576 1.000205 0.99978  1.000386 0.998783]\n",
      " [0.999869 1.000351 0.999777 1.000396 0.998863]\n",
      " [1.000391 1.000677 0.999798 1.000424 0.998921]\n",
      " [1.000626 1.003749 0.999759 1.000464 0.998919]]\n",
      "Difference between numerical and analytical evaluation =  5.195529086789215e-16\n",
      "\n"
     ]
    }
   ],
   "source": [
    "for l in range(1, lmax+1):\n",
    "    lm_index = l**2 + l\n",
    "    \n",
    "    # Get the features from the spherical expansion codes\n",
    "    features_l_pylode = features_pylode[0::2, 0, :, lm_index]\n",
    "    features_l_rascaline = descriptor_rascaline.values[0::2, lm_index*nmax:(lm_index+1)*nmax] / 10.962374348347298 \n",
    "    features_l_librascal = features_librascal[0::2, lm_index::(lmax+1)**2]\n",
    "    \n",
    "    # Get the features from the analytical and numerical evaluations\n",
    "    features_l_analytical = np.zeros((len(distances), nmax))\n",
    "    features_l_numerical = np.zeros((len(distances), nmax))\n",
    "    for i_dist, d in enumerate(distances):\n",
    "        features_l_analytical[i_dist] = coefficients_analytical_general_l(nmax, d, l=l)\n",
    "        features_l_numerical[i_dist] = coefficients_semianalytical_general_l(nmax, d, l=l)\n",
    "    assert_allclose(features_l_analytical, features_l_numerical, atol=1e-10, rtol=1e-10)\n",
    "    \n",
    "    # Compare the coefficients\n",
    "    ratios = features_l_pylode / features_l_numerical\n",
    "    err = np.linalg.norm(features_l_analytical - features_l_numerical)\n",
    "    print(f'pyLODE vs numerical coefficients for l = {l}')\n",
    "    print(np.round(ratios,6))\n",
    "    print('Difference between numerical and analytical evaluation = ', err)\n",
    "    print()"
   ]
  },
  {
   "cell_type": "markdown",
   "id": "accurate-louisville",
   "metadata": {},
   "source": [
    "#### Comment on the results:"
   ]
  },
  {
   "cell_type": "markdown",
   "id": "speaking-railway",
   "metadata": {},
   "source": [
    "Overall, we have four sets of coefficients: 1. pyLODE, 2. rascal (rascaline and librascal, which agree), 3. the analytical expression and 4. the numerical evaluation (pen and paper derivation apart from final step). As the results above show, the coefficients from 1 and 4 agree up to a global sign of (-1)^l, which is most likely easy to be found. What has to be examined:\n",
    "- the rascal coefficients do not agree (even up to global factor) with the results from 3 or 4.\n",
    "- Personal belief by Kevin: Given that I understand the full derivation for 1 and 4, and the results for 1,3,4 agree, I am inclined to believe that those values are correct (apart from the global sign discussed above), and think that there might be potential issues in the rascal implementations"
   ]
  },
  {
   "cell_type": "markdown",
   "id": "premium-berlin",
   "metadata": {},
   "source": [
    "# Coefficients for $l=0$  <a class=\"anchor\" id=\"l=0\"></a>"
   ]
  },
  {
   "cell_type": "markdown",
   "id": "patent-interpretation",
   "metadata": {},
   "source": [
    "## Compute the exact expressions for reference <a class=\"anchor\" id=\"l=0exact\"></a>"
   ]
  },
  {
   "cell_type": "markdown",
   "id": "convinced-struggle",
   "metadata": {},
   "source": [
    "### Hybrid analytical-numerical computation"
   ]
  },
  {
   "cell_type": "markdown",
   "id": "informal-onion",
   "metadata": {},
   "source": [
    "Here, we use the convention that the Gaussian density is normalized to one, i.e. contains the factor of $1/(2\\pi\\sigma^2)^{3/2}$. The spherical harmonic $Y_{00}$ is the constant function whose value is $1/\\sqrt{4\\pi}$ and the GTO's are orthonormalized starting from the primitive ones using the usual procedure."
   ]
  },
  {
   "cell_type": "code",
   "execution_count": 42,
   "id": "accomplished-childhood",
   "metadata": {},
   "outputs": [],
   "source": [
    "def compute_coeffs_explicit_l0(d):\n",
    "    # Start computing coefficients for l=0\n",
    "    featvec = np.zeros((nmax))\n",
    "    \n",
    "    # Case 1: If the distance is zero, the integrals\n",
    "    # can easily be computed by hand. Furthermore,\n",
    "    # separating this case out is convenient since\n",
    "    # the general expression as a function of the pair\n",
    "    # distance d has a (removable) singularity at d=0\n",
    "    if d == 0:\n",
    "        prefac = np.sqrt(np.pi)\n",
    "        prefac /= np.sqrt(2 * np.pi * smearing**2)**3\n",
    "        \n",
    "        featvec = np.zeros((nmax))\n",
    "        for n in range(nmax):\n",
    "            b = 0.5 * (1/smearing**2 + 1/sigma[n]**2)\n",
    "            neff = (3+n) / 2\n",
    "            featvec[n] = prefac * b**(-neff) * gamma(neff)\n",
    "    \n",
    "    # Case 2: For nonzero pair distances (i.e. all proper neighbor contributions),\n",
    "    # the final integral over the radial variable results in a hypergeometric function\n",
    "    # in a fully analytical treatment. Here, we perform the final integral numerically.\n",
    "    else:\n",
    "        # Define auxilary quantities and prefactors\n",
    "        a = d / smearing**2\n",
    "        prefac = 1. / (np.sqrt(2) * np.pi * smearing * d) * np.exp(-0.5*d**2/smearing**2)\n",
    "\n",
    "        # Start main loop\n",
    "        for n in range(nmax):\n",
    "            # Compute contribution for primitive GTO function\n",
    "            powerlaw = lambda r: r**(1+n)\n",
    "            b = 0.5 * (1/smearing**2 + 1/sigma[n]**2)\n",
    "            gaussian = lambda r: np.exp(-b * r**2)\n",
    "            sinh = lambda r: np.sinh(a * r)\n",
    "            integrand = lambda r: powerlaw(r) * gaussian(r) * sinh(r)\n",
    "\n",
    "            # Numerical Integration\n",
    "            featvec[n] = prefac * quad(integrand, 1e-10, 4.5 * rcut)[0]\n",
    "    #return featvec\n",
    "    return transformation @ featvec"
   ]
  },
  {
   "cell_type": "code",
   "execution_count": 43,
   "id": "rough-police",
   "metadata": {},
   "outputs": [
    {
     "data": {
      "text/plain": [
       "Text(0, 0.5, 'Contribution to <n00|rho_i>')"
      ]
     },
     "execution_count": 43,
     "metadata": {},
     "output_type": "execute_result"
    },
    {
     "data": {
      "image/png": "[encoded data removed]",
      "text/plain": [
       "<Figure size 432x288 with 1 Axes>"
      ]
     },
     "metadata": {
      "needs_background": "light"
     },
     "output_type": "display_data"
    }
   ],
   "source": [
    "# Start plotting the behavior of the neighbor contribution as a function of the pair distance r_ij\n",
    "Ndist = 50\n",
    "dd = np.linspace(0, rcut, Ndist)\n",
    "coeffs_exact = np.zeros((nmax, Ndist))\n",
    "for i, d in enumerate(dd):\n",
    "    coeffs_exact[:,i] = compute_coeffs_explicit_l0(d)\n",
    "\n",
    "\n",
    "# Make plot\n",
    "for n in range(nmax):\n",
    "    plt.plot(dd, coeffs_exact[n], label=f'n={n}')\n",
    "plt.legend()\n",
    "plt.xlabel('Pair distance rij')\n",
    "plt.ylabel('Contribution to <n00|rho_i>')"
   ]
  },
  {
   "cell_type": "markdown",
   "id": "known-david",
   "metadata": {},
   "source": [
    "Remark: This plot was mostly used to make sure that the implementation for small distances $r_{ij} \\rightarrow 0$ does indeed converge to the special case $r_{ij}=0$ which is implemented separately."
   ]
  },
  {
   "cell_type": "markdown",
   "id": "breathing-eagle",
   "metadata": {},
   "source": [
    "### Comparison to fully analytical general expression"
   ]
  },
  {
   "cell_type": "code",
   "execution_count": 44,
   "id": "geological-gather",
   "metadata": {},
   "outputs": [
    {
     "name": "stderr",
     "output_type": "stream",
     "text": [
      "<ipython-input-8-3c12ec2cd49b>:14: RuntimeWarning: divide by zero encountered in double_scalars\n",
      "  mod_sph_bessel = lambda x: np.sqrt(np.pi/2/x) * iv(l + 0.5, x)\n",
      "<ipython-input-8-3c12ec2cd49b>:14: RuntimeWarning: invalid value encountered in double_scalars\n",
      "  mod_sph_bessel = lambda x: np.sqrt(np.pi/2/x) * iv(l + 0.5, x)\n",
      "<ipython-input-8-3c12ec2cd49b>:20: IntegrationWarning: The occurrence of roundoff error is detected, which prevents \n",
      "  the requested tolerance from being achieved.  The error may be \n",
      "  underestimated.\n",
      "  featvec[n] = quad(integrand, eps, 4.5*rcut)[0]\n"
     ]
    }
   ],
   "source": [
    "coeffs_from_general_analytical = np.zeros((nmax, Ndist))\n",
    "coeffs_from_general_numerical = np.zeros((nmax, Ndist))\n",
    "for i, d in enumerate(dd):\n",
    "    coeffs_from_general_analytical[:,i] = coefficients_analytical_general_l(nmax, d, l=0)\n",
    "    coeffs_from_general_numerical[:,i] = coefficients_semianalytical_general_l(nmax, d, l=0)"
   ]
  },
  {
   "cell_type": "code",
   "execution_count": 45,
   "id": "instrumental-index",
   "metadata": {},
   "outputs": [
    {
     "data": {
      "text/plain": [
       "Text(0, 0.5, 'Contribution to <n00|rho_i>')"
      ]
     },
     "execution_count": 45,
     "metadata": {},
     "output_type": "execute_result"
    },
    {
     "data": {
      "image/png": "[encoded data removed]",
      "text/plain": [
       "<Figure size 432x288 with 1 Axes>"
      ]
     },
     "metadata": {
      "needs_background": "light"
     },
     "output_type": "display_data"
    }
   ],
   "source": [
    "# Make plot\n",
    "for n in range(nmax):\n",
    "    plt.plot(dd, coeffs_exact[n], 'k')\n",
    "    plt.plot(dd, coeffs_from_general_analytical[n], 'b')\n",
    "    plt.plot(dd, 0.005+coeffs_from_general_numerical[n], 'r')\n",
    "    \n",
    "plt.plot(dd, coeffs_exact[0], label=f'exact', c='k')\n",
    "plt.plot(dd, 0.01+coeffs_from_general_analytical[0], label=f'analytical', c='b')\n",
    "plt.plot(dd, -0.01+coeffs_from_general_numerical[0], label=f'numerical', c='r')\n",
    "plt.legend()\n",
    "plt.xlabel('Pair distance rij')\n",
    "plt.ylabel('Contribution to <n00|rho_i>')"
   ]
  },
  {
   "cell_type": "code",
   "execution_count": 46,
   "id": "rotary-surgery",
   "metadata": {},
   "outputs": [
    {
     "name": "stdout",
     "output_type": "stream",
     "text": [
      "1.1841252027306506e-15\n",
      "1.0672883103416797e-15\n",
      "4.475924802416475e-15\n",
      "4.458275830013904e-15\n",
      "5.720396563042907e-15\n",
      "5.721600523525733e-15\n",
      "5.567627294941621e-15\n",
      "5.5622562550838524e-15\n",
      "3.1330639188442736e-15\n",
      "3.136485596072403e-15\n"
     ]
    }
   ],
   "source": [
    "for n in range(nmax):\n",
    "    diff1 = coeffs_exact[n] - coeffs_from_general_analytical[n]\n",
    "    diff2 = coeffs_from_general_numerical[n] - coeffs_from_general_analytical[n]\n",
    "    print(np.linalg.norm(diff1))\n",
    "    print(np.linalg.norm(diff2[1:])) # first entry at d=0 is NaN for numerical evaluation"
   ]
  },
  {
   "cell_type": "markdown",
   "id": "julian-trust",
   "metadata": {},
   "source": [
    "## Compare exact coefficients with those from pyLODE and Rascal: Center atom contribution <a class=\"anchor\" id=\"l=0center\"></a>"
   ]
  },
  {
   "cell_type": "markdown",
   "id": "individual-female",
   "metadata": {},
   "source": [
    "Note that $l=0$ is more complicated compared to $l=1,2,\\dots$ even for dimers since the center atom contributes to the density as well. We begin this investigation by using a frame that only consists of a single atom."
   ]
  },
  {
   "cell_type": "markdown",
   "id": "naked-throw",
   "metadata": {},
   "source": [
    "### Get the coefficients from the three codes"
   ]
  },
  {
   "cell_type": "code",
   "execution_count": 47,
   "id": "cultural-bundle",
   "metadata": {},
   "outputs": [],
   "source": [
    "frames.append(Atoms('O', positions=[[1,1,1]], cell=cell, pbc=True))\n",
    "frames.append(Atoms('O', positions=[[1,1,1]], cell=1.2*cell, pbc=True))"
   ]
  },
  {
   "cell_type": "code",
   "execution_count": 48,
   "id": "bibliographic-flash",
   "metadata": {},
   "outputs": [],
   "source": [
    "features_librascal_single = calculator_librascal.transform(frames).get_features(calculator_librascal)[-2:]\n",
    "calculator_pylode.transform(frames)\n",
    "features_pylode_single = calculator_pylode.features[-2:]\n",
    "features_rascaline_single = calculator_rascaline.compute(frames).values[-2:]"
   ]
  },
  {
   "cell_type": "markdown",
   "id": "instructional-belle",
   "metadata": {},
   "source": [
    "### Sanity check 1: Make sure the feature vectors only contain nonzero entries for l=0"
   ]
  },
  {
   "cell_type": "code",
   "execution_count": 49,
   "id": "comfortable-collins",
   "metadata": {},
   "outputs": [
    {
     "data": {
      "text/plain": [
       "(2, 1, 5, 64)"
      ]
     },
     "execution_count": 49,
     "metadata": {},
     "output_type": "execute_result"
    }
   ],
   "source": [
    "features_pylode_single.shape"
   ]
  },
  {
   "cell_type": "code",
   "execution_count": 50,
   "id": "golden-inspection",
   "metadata": {},
   "outputs": [
    {
     "data": {
      "text/plain": [
       "(2, 320)"
      ]
     },
     "execution_count": 50,
     "metadata": {},
     "output_type": "execute_result"
    }
   ],
   "source": [
    "features_librascal_single.shape"
   ]
  },
  {
   "cell_type": "code",
   "execution_count": 51,
   "id": "induced-offer",
   "metadata": {},
   "outputs": [
    {
     "data": {
      "text/plain": [
       "(2, 320)"
      ]
     },
     "execution_count": 51,
     "metadata": {},
     "output_type": "execute_result"
    }
   ],
   "source": [
    "features_rascaline_single.shape"
   ]
  },
  {
   "cell_type": "code",
   "execution_count": 52,
   "id": "decent-welsh",
   "metadata": {},
   "outputs": [
    {
     "data": {
      "text/plain": [
       "array([[[[ 3.96242348e-01,  0.00000000e+00,  0.00000000e+00,\n",
       "           0.00000000e+00, -2.92713573e-19,  5.96591009e-19,\n",
       "          -4.68341717e-18,  2.33339286e-18,  4.68341717e-19,\n",
       "           0.00000000e+00,  0.00000000e+00,  0.00000000e+00,\n",
       "           0.00000000e+00,  0.00000000e+00,  0.00000000e+00,\n",
       "           0.00000000e+00, -2.30977620e-18, -4.09133744e-20,\n",
       "          -6.33325731e-19,  5.62143112e-20, -4.68450975e-08,\n",
       "           1.35513079e-18,  2.15011425e-18, -7.09165157e-19,\n",
       "          -3.95913335e-08,  0.00000000e+00,  0.00000000e+00,\n",
       "           0.00000000e+00,  0.00000000e+00,  0.00000000e+00,\n",
       "           0.00000000e+00,  0.00000000e+00,  0.00000000e+00,\n",
       "           0.00000000e+00,  0.00000000e+00,  0.00000000e+00,\n",
       "          -5.00274107e-19, -2.16208889e-20, -1.33051624e-20,\n",
       "           2.89886226e-19, -4.92291010e-20, -1.56626709e-19,\n",
       "           8.86959934e-09, -1.73565844e-18, -3.51256288e-19,\n",
       "          -4.28426230e-19, -2.34667541e-08, -3.36620609e-19,\n",
       "          -3.15066246e-18,  0.00000000e+00,  0.00000000e+00,\n",
       "           0.00000000e+00,  0.00000000e+00,  0.00000000e+00,\n",
       "           0.00000000e+00,  0.00000000e+00,  0.00000000e+00,\n",
       "           0.00000000e+00,  0.00000000e+00,  0.00000000e+00,\n",
       "           0.00000000e+00,  0.00000000e+00,  0.00000000e+00,\n",
       "           0.00000000e+00],\n",
       "         [-4.15583527e-02,  0.00000000e+00,  0.00000000e+00,\n",
       "           0.00000000e+00,  2.42420059e-18, -2.00262444e-18,\n",
       "           1.27303794e-17,  3.51938178e-18, -2.30338972e-17,\n",
       "           0.00000000e+00,  0.00000000e+00,  0.00000000e+00,\n",
       "           0.00000000e+00,  0.00000000e+00,  0.00000000e+00,\n",
       "           0.00000000e+00,  1.33583831e-18, -9.97887182e-20,\n",
       "          -6.32261318e-18, -1.86256682e-18,  1.29791444e-08,\n",
       "          -1.49099313e-17, -4.73663782e-18,  2.77063376e-18,\n",
       "           1.09693791e-08,  0.00000000e+00,  0.00000000e+00,\n",
       "           0.00000000e+00,  0.00000000e+00,  0.00000000e+00,\n",
       "           0.00000000e+00,  0.00000000e+00,  0.00000000e+00,\n",
       "           0.00000000e+00,  0.00000000e+00,  0.00000000e+00,\n",
       "           1.09634538e-18,  1.12129256e-18,  7.26461868e-19,\n",
       "           2.61612756e-19,  1.28993550e-18,  1.18916968e-18,\n",
       "          -1.78067980e-08,  4.74362303e-18, -5.84894940e-18,\n",
       "           4.96216033e-18,  4.71123592e-08, -5.36198046e-19,\n",
       "           9.63293759e-19,  0.00000000e+00,  0.00000000e+00,\n",
       "           0.00000000e+00,  0.00000000e+00,  0.00000000e+00,\n",
       "           0.00000000e+00,  0.00000000e+00,  0.00000000e+00,\n",
       "           0.00000000e+00,  0.00000000e+00,  0.00000000e+00,\n",
       "           0.00000000e+00,  0.00000000e+00,  0.00000000e+00,\n",
       "           0.00000000e+00],\n",
       "         [ 7.83209044e-03,  0.00000000e+00,  0.00000000e+00,\n",
       "           0.00000000e+00,  3.25768586e-19,  1.70804056e-18,\n",
       "           1.71915172e-17, -6.99910793e-18,  7.81740660e-18,\n",
       "           0.00000000e+00,  0.00000000e+00,  0.00000000e+00,\n",
       "           0.00000000e+00,  0.00000000e+00,  0.00000000e+00,\n",
       "           0.00000000e+00, -7.46419612e-18, -3.87538842e-18,\n",
       "          -2.13015650e-18,  5.75978402e-18,  8.82391466e-08,\n",
       "           4.43328012e-18,  5.45179030e-18,  3.25699981e-18,\n",
       "           7.45756902e-08,  0.00000000e+00,  0.00000000e+00,\n",
       "           0.00000000e+00,  0.00000000e+00,  0.00000000e+00,\n",
       "           0.00000000e+00,  0.00000000e+00,  0.00000000e+00,\n",
       "           0.00000000e+00,  0.00000000e+00,  0.00000000e+00,\n",
       "          -4.27594657e-18,  8.78870945e-19, -4.74994298e-19,\n",
       "          -1.30156192e-18,  7.00849431e-19,  3.77662877e-18,\n",
       "           1.84696388e-08, -2.23438790e-17, -1.09434961e-18,\n",
       "          -4.08765774e-18, -4.88660711e-08, -4.10918507e-18,\n",
       "           2.13344953e-17,  0.00000000e+00,  0.00000000e+00,\n",
       "           0.00000000e+00,  0.00000000e+00,  0.00000000e+00,\n",
       "           0.00000000e+00,  0.00000000e+00,  0.00000000e+00,\n",
       "           0.00000000e+00,  0.00000000e+00,  0.00000000e+00,\n",
       "           0.00000000e+00,  0.00000000e+00,  0.00000000e+00,\n",
       "           0.00000000e+00],\n",
       "         [ 2.52909422e-03,  0.00000000e+00,  0.00000000e+00,\n",
       "           0.00000000e+00,  4.35145337e-18, -2.30278526e-18,\n",
       "           2.00329178e-17,  2.50376391e-18, -2.35484743e-17,\n",
       "           0.00000000e+00,  0.00000000e+00,  0.00000000e+00,\n",
       "           0.00000000e+00,  0.00000000e+00,  0.00000000e+00,\n",
       "           0.00000000e+00, -1.16171115e-17,  5.90719392e-18,\n",
       "          -1.61229464e-18,  6.46772488e-18, -9.42850863e-08,\n",
       "          -1.27960373e-17,  2.41264173e-18, -8.31838755e-18,\n",
       "          -7.96854419e-08,  0.00000000e+00,  0.00000000e+00,\n",
       "           0.00000000e+00,  0.00000000e+00,  0.00000000e+00,\n",
       "           0.00000000e+00,  0.00000000e+00,  0.00000000e+00,\n",
       "           0.00000000e+00,  0.00000000e+00,  0.00000000e+00,\n",
       "          -2.90850851e-18,  4.15334678e-18,  5.25495706e-18,\n",
       "           5.83608861e-18,  4.59443890e-19,  3.22662695e-18,\n",
       "          -2.01339012e-08,  1.64149011e-17, -1.81490731e-18,\n",
       "           2.41334857e-18,  5.32692954e-08,  6.57648192e-18,\n",
       "           3.14893279e-17,  0.00000000e+00,  0.00000000e+00,\n",
       "           0.00000000e+00,  0.00000000e+00,  0.00000000e+00,\n",
       "           0.00000000e+00,  0.00000000e+00,  0.00000000e+00,\n",
       "           0.00000000e+00,  0.00000000e+00,  0.00000000e+00,\n",
       "           0.00000000e+00,  0.00000000e+00,  0.00000000e+00,\n",
       "           0.00000000e+00],\n",
       "         [ 9.44148271e-05,  0.00000000e+00,  0.00000000e+00,\n",
       "           0.00000000e+00, -1.22814965e-18,  1.54343796e-18,\n",
       "           3.55131417e-18, -7.22782809e-20, -6.37608330e-18,\n",
       "           0.00000000e+00,  0.00000000e+00,  0.00000000e+00,\n",
       "           0.00000000e+00,  0.00000000e+00,  0.00000000e+00,\n",
       "           0.00000000e+00, -7.78502724e-18, -1.87317830e-19,\n",
       "           7.36955665e-18,  4.42308848e-18,  6.55540402e-08,\n",
       "           3.62761924e-18, -5.27021641e-18,  4.68654726e-18,\n",
       "           5.54032760e-08,  0.00000000e+00,  0.00000000e+00,\n",
       "           0.00000000e+00,  0.00000000e+00,  0.00000000e+00,\n",
       "           0.00000000e+00,  0.00000000e+00,  0.00000000e+00,\n",
       "           0.00000000e+00,  0.00000000e+00,  0.00000000e+00,\n",
       "          -1.43849491e-17,  1.70439374e-18,  7.24052386e-18,\n",
       "           1.26988001e-17, -1.30055884e-18, -4.51948276e-18,\n",
       "           1.18445354e-08, -1.54355984e-17, -6.43155440e-18,\n",
       "          -1.32852052e-17, -3.13376952e-08, -2.76907846e-19,\n",
       "           1.29828033e-17,  0.00000000e+00,  0.00000000e+00,\n",
       "           0.00000000e+00,  0.00000000e+00,  0.00000000e+00,\n",
       "           0.00000000e+00,  0.00000000e+00,  0.00000000e+00,\n",
       "           0.00000000e+00,  0.00000000e+00,  0.00000000e+00,\n",
       "           0.00000000e+00,  0.00000000e+00,  0.00000000e+00,\n",
       "           0.00000000e+00]]],\n",
       "\n",
       "\n",
       "       [[[ 3.96242325e-01,  0.00000000e+00,  0.00000000e+00,\n",
       "           0.00000000e+00, -6.40652543e-18, -4.81532867e-19,\n",
       "          -2.29471703e-18, -2.49699870e-18,  1.13326798e-17,\n",
       "           0.00000000e+00,  0.00000000e+00,  0.00000000e+00,\n",
       "           0.00000000e+00,  0.00000000e+00,  0.00000000e+00,\n",
       "           0.00000000e+00, -7.52096828e-19, -5.53759923e-19,\n",
       "           4.39896158e-19,  3.21234244e-19,  1.02715718e-08,\n",
       "           1.05803017e-18, -2.40386094e-18,  1.50034040e-18,\n",
       "           8.68106256e-09,  0.00000000e+00,  0.00000000e+00,\n",
       "           0.00000000e+00,  0.00000000e+00,  0.00000000e+00,\n",
       "           0.00000000e+00,  0.00000000e+00,  0.00000000e+00,\n",
       "           0.00000000e+00,  0.00000000e+00,  0.00000000e+00,\n",
       "          -3.93072073e-19,  3.18433404e-19,  1.17709879e-19,\n",
       "           2.90206764e-20, -2.12224270e-20,  2.61424261e-19,\n",
       "           1.00842658e-08, -8.32225325e-19,  6.20599590e-19,\n",
       "          -6.83552539e-19, -2.66804594e-08,  6.29035475e-19,\n",
       "           1.18191113e-18,  0.00000000e+00,  0.00000000e+00,\n",
       "           0.00000000e+00,  0.00000000e+00,  0.00000000e+00,\n",
       "           0.00000000e+00,  0.00000000e+00,  0.00000000e+00,\n",
       "           0.00000000e+00,  0.00000000e+00,  0.00000000e+00,\n",
       "           0.00000000e+00,  0.00000000e+00,  0.00000000e+00,\n",
       "           0.00000000e+00],\n",
       "         [-4.15582854e-02,  0.00000000e+00,  0.00000000e+00,\n",
       "           0.00000000e+00, -6.85009776e-18, -2.75979473e-18,\n",
       "           8.75249465e-18,  2.16235235e-18, -1.08364311e-17,\n",
       "           0.00000000e+00,  0.00000000e+00,  0.00000000e+00,\n",
       "           0.00000000e+00,  0.00000000e+00,  0.00000000e+00,\n",
       "           0.00000000e+00, -9.78774966e-18, -3.65306365e-18,\n",
       "          -5.16268021e-19, -1.37890791e-18, -2.11737678e-08,\n",
       "          -5.30946265e-18, -5.39367261e-18, -2.24053458e-18,\n",
       "          -1.78950999e-08,  0.00000000e+00,  0.00000000e+00,\n",
       "           0.00000000e+00,  0.00000000e+00,  0.00000000e+00,\n",
       "           0.00000000e+00,  0.00000000e+00,  0.00000000e+00,\n",
       "           0.00000000e+00,  0.00000000e+00,  0.00000000e+00,\n",
       "           3.23661262e-18,  8.94109408e-19,  6.25965351e-19,\n",
       "           1.05790235e-18,  1.59752902e-18,  3.66786348e-19,\n",
       "          -1.47397219e-09,  6.42278325e-18,  1.53446328e-18,\n",
       "           3.97048195e-18,  3.89976380e-09,  6.95492410e-20,\n",
       "          -4.23871060e-18,  0.00000000e+00,  0.00000000e+00,\n",
       "           0.00000000e+00,  0.00000000e+00,  0.00000000e+00,\n",
       "           0.00000000e+00,  0.00000000e+00,  0.00000000e+00,\n",
       "           0.00000000e+00,  0.00000000e+00,  0.00000000e+00,\n",
       "           0.00000000e+00,  0.00000000e+00,  0.00000000e+00,\n",
       "           0.00000000e+00],\n",
       "         [ 7.83201682e-03,  0.00000000e+00,  0.00000000e+00,\n",
       "           0.00000000e+00, -3.58676020e-18, -3.03705454e-18,\n",
       "           5.50955380e-18,  1.11451990e-18, -1.23023907e-18,\n",
       "           0.00000000e+00,  0.00000000e+00,  0.00000000e+00,\n",
       "           0.00000000e+00,  0.00000000e+00,  0.00000000e+00,\n",
       "           0.00000000e+00, -1.15140176e-17, -1.31494821e-19,\n",
       "           3.00103538e-18, -9.38714026e-19,  1.75790867e-08,\n",
       "           7.00001776e-18, -4.72568988e-18,  6.36041918e-18,\n",
       "           1.48570399e-08,  0.00000000e+00,  0.00000000e+00,\n",
       "           0.00000000e+00,  0.00000000e+00,  0.00000000e+00,\n",
       "           0.00000000e+00,  0.00000000e+00,  0.00000000e+00,\n",
       "           0.00000000e+00,  0.00000000e+00,  0.00000000e+00,\n",
       "          -3.70636936e-18, -2.32499794e-18,  3.63737241e-18,\n",
       "           1.79273358e-18, -1.82868986e-18,  2.99900381e-18,\n",
       "          -8.76381960e-09, -2.61700445e-18, -2.75925238e-18,\n",
       "          -7.96742952e-19,  2.31868873e-08, -4.54777441e-18,\n",
       "           1.86474392e-17,  0.00000000e+00,  0.00000000e+00,\n",
       "           0.00000000e+00,  0.00000000e+00,  0.00000000e+00,\n",
       "           0.00000000e+00,  0.00000000e+00,  0.00000000e+00,\n",
       "           0.00000000e+00,  0.00000000e+00,  0.00000000e+00,\n",
       "           0.00000000e+00,  0.00000000e+00,  0.00000000e+00,\n",
       "           0.00000000e+00],\n",
       "         [ 2.52917987e-03,  0.00000000e+00,  0.00000000e+00,\n",
       "           0.00000000e+00,  8.17392786e-18,  2.52388002e-18,\n",
       "          -6.84364321e-18, -6.43366219e-19,  1.15539513e-18,\n",
       "           0.00000000e+00,  0.00000000e+00,  0.00000000e+00,\n",
       "           0.00000000e+00,  0.00000000e+00,  0.00000000e+00,\n",
       "           0.00000000e+00,  3.73050325e-18,  8.10588872e-18,\n",
       "           4.58919683e-18,  1.59833993e-18, -2.02497974e-08,\n",
       "          -5.89208078e-18,  3.91459938e-19, -7.33940544e-18,\n",
       "          -1.71142024e-08,  0.00000000e+00,  0.00000000e+00,\n",
       "           0.00000000e+00,  0.00000000e+00,  0.00000000e+00,\n",
       "           0.00000000e+00,  0.00000000e+00,  0.00000000e+00,\n",
       "           0.00000000e+00,  0.00000000e+00,  0.00000000e+00,\n",
       "          -2.60310843e-18, -2.63817679e-18,  2.83071923e-18,\n",
       "           4.07728752e-19, -4.00643259e-18,  2.18941178e-18,\n",
       "           5.00210988e-09, -1.41624094e-18, -4.69869227e-18,\n",
       "          -8.70294626e-19, -1.32343388e-08, -1.81058040e-18,\n",
       "           1.17018586e-17,  0.00000000e+00,  0.00000000e+00,\n",
       "           0.00000000e+00,  0.00000000e+00,  0.00000000e+00,\n",
       "           0.00000000e+00,  0.00000000e+00,  0.00000000e+00,\n",
       "           0.00000000e+00,  0.00000000e+00,  0.00000000e+00,\n",
       "           0.00000000e+00,  0.00000000e+00,  0.00000000e+00,\n",
       "           0.00000000e+00],\n",
       "         [ 9.43389735e-05,  0.00000000e+00,  0.00000000e+00,\n",
       "           0.00000000e+00, -2.73391390e-19, -1.55476469e-18,\n",
       "           7.66590398e-18, -1.58355556e-19,  4.38837443e-19,\n",
       "           0.00000000e+00,  0.00000000e+00,  0.00000000e+00,\n",
       "           0.00000000e+00,  0.00000000e+00,  0.00000000e+00,\n",
       "           0.00000000e+00, -8.55883173e-18,  5.17255468e-19,\n",
       "           6.63233667e-18,  4.51146228e-20,  1.32345254e-08,\n",
       "          -3.63968186e-18, -2.20268100e-18, -2.33981508e-18,\n",
       "           1.11852155e-08,  0.00000000e+00,  0.00000000e+00,\n",
       "           0.00000000e+00,  0.00000000e+00,  0.00000000e+00,\n",
       "           0.00000000e+00,  0.00000000e+00,  0.00000000e+00,\n",
       "           0.00000000e+00,  0.00000000e+00,  0.00000000e+00,\n",
       "          -1.07776160e-17,  1.57137068e-19,  5.49641461e-18,\n",
       "           6.34064865e-18,  2.35938212e-20, -9.88204153e-20,\n",
       "          -2.92992106e-09, -2.77562461e-18, -5.38440284e-18,\n",
       "          -2.89499280e-18,  7.75184245e-09, -3.96777360e-18,\n",
       "           1.81691526e-17,  0.00000000e+00,  0.00000000e+00,\n",
       "           0.00000000e+00,  0.00000000e+00,  0.00000000e+00,\n",
       "           0.00000000e+00,  0.00000000e+00,  0.00000000e+00,\n",
       "           0.00000000e+00,  0.00000000e+00,  0.00000000e+00,\n",
       "           0.00000000e+00,  0.00000000e+00,  0.00000000e+00,\n",
       "           0.00000000e+00]]]])"
      ]
     },
     "execution_count": 52,
     "metadata": {},
     "output_type": "execute_result"
    }
   ],
   "source": [
    "features_pylode_single"
   ]
  },
  {
   "cell_type": "code",
   "execution_count": 53,
   "id": "clean-penguin",
   "metadata": {},
   "outputs": [
    {
     "name": "stdout",
     "output_type": "stream",
     "text": [
      "[[ 6.94184112e-310  2.82560011e-002  6.94184265e-310  3.06929650e-281\n",
      "   6.94183849e-310  1.55991651e-301  0.00000000e+000  0.00000000e+000\n",
      "   0.00000000e+000  0.00000000e+000  0.00000000e+000  0.00000000e+000\n",
      "   0.00000000e+000  0.00000000e+000  0.00000000e+000  0.00000000e+000\n",
      "   0.00000000e+000  0.00000000e+000  0.00000000e+000  0.00000000e+000\n",
      "   0.00000000e+000  0.00000000e+000  0.00000000e+000  0.00000000e+000\n",
      "   0.00000000e+000  0.00000000e+000  6.94177567e-310 -1.32698124e+191\n",
      "   0.00000000e+000  0.00000000e+000  0.00000000e+000  0.00000000e+000\n",
      "   0.00000000e+000  0.00000000e+000  0.00000000e+000  0.00000000e+000\n",
      "   6.94177016e-310 -4.36307603e-145  6.94184260e-310  6.95099832e-287\n",
      "   6.94177664e-310 -2.12304758e+148  6.94177565e-310 -1.47211875e+028\n",
      "   0.00000000e+000  0.00000000e+000  6.94179435e-310  5.97620284e-223\n",
      "   0.00000000e+000  0.00000000e+000  0.00000000e+000  0.00000000e+000\n",
      "   0.00000000e+000  0.00000000e+000  0.00000000e+000  0.00000000e+000\n",
      "   0.00000000e+000  0.00000000e+000  6.94177473e-310  4.13040544e-236\n",
      "   0.00000000e+000  0.00000000e+000  0.00000000e+000  0.00000000e+000\n",
      "   0.00000000e+000  0.00000000e+000  0.00000000e+000  0.00000000e+000\n",
      "   6.94179463e-310 -4.87350464e-270  6.94184063e-310  3.44858044e+132\n",
      "   6.94177767e-310 -1.29354363e+289  6.94177664e-310 -7.45873479e+214\n",
      "   0.00000000e+000  0.00000000e+000  0.00000000e+000  0.00000000e+000\n",
      "   0.00000000e+000  0.00000000e+000  0.00000000e+000  0.00000000e+000\n",
      "   6.94184266e-310 -1.07120501e+269  0.00000000e+000  0.00000000e+000\n",
      "   6.94183758e-310 -3.73662714e-080  6.94184113e-310  4.21056870e+028\n",
      "   6.94184111e-310  4.59045498e-173  0.00000000e+000  0.00000000e+000\n",
      "   0.00000000e+000  0.00000000e+000  6.94183761e-310 -4.74757945e-168\n",
      "   0.00000000e+000  0.00000000e+000  0.00000000e+000  0.00000000e+000\n",
      "   0.00000000e+000  0.00000000e+000  0.00000000e+000  0.00000000e+000\n",
      "   0.00000000e+000  0.00000000e+000  0.00000000e+000  0.00000000e+000\n",
      "   0.00000000e+000  0.00000000e+000  0.00000000e+000  0.00000000e+000\n",
      "   6.94184103e-310 -7.03592503e-243  6.94184139e-310 -1.22459097e-234\n",
      "   0.00000000e+000  0.00000000e+000  0.00000000e+000  0.00000000e+000\n",
      "   0.00000000e+000  0.00000000e+000  0.00000000e+000  0.00000000e+000\n",
      "   0.00000000e+000  0.00000000e+000  6.94179628e-310 -1.31276542e+075\n",
      "   0.00000000e+000  0.00000000e+000  0.00000000e+000  0.00000000e+000\n",
      "   0.00000000e+000  0.00000000e+000  0.00000000e+000  0.00000000e+000\n",
      "   6.94184022e-310 -2.64963847e+178  6.94184110e-310  7.51491416e+287\n",
      "   6.94177286e-310 -4.31362039e+197  0.00000000e+000  0.00000000e+000\n",
      "   0.00000000e+000  0.00000000e+000  6.94184262e-310  2.05786618e+064\n",
      "   6.94183847e-310 -3.53656815e-011  6.94177134e-310  1.01056927e+092\n",
      "   0.00000000e+000  0.00000000e+000  0.00000000e+000  0.00000000e+000\n",
      "   0.00000000e+000  0.00000000e+000  6.94184044e-310  6.68992414e-026\n",
      "   0.00000000e+000  0.00000000e+000  0.00000000e+000  0.00000000e+000\n",
      "   0.00000000e+000  0.00000000e+000  0.00000000e+000  0.00000000e+000\n",
      "   6.94184268e-310 -2.53044271e+269  0.00000000e+000  0.00000000e+000\n",
      "   0.00000000e+000  0.00000000e+000  0.00000000e+000  0.00000000e+000\n",
      "   0.00000000e+000  0.00000000e+000  0.00000000e+000  0.00000000e+000\n",
      "   0.00000000e+000  0.00000000e+000  0.00000000e+000  0.00000000e+000\n",
      "   0.00000000e+000  0.00000000e+000  0.00000000e+000  0.00000000e+000\n",
      "   0.00000000e+000  0.00000000e+000  6.94184101e-310  1.78791242e-050\n",
      "   6.94184063e-310  1.55886765e+240  0.00000000e+000  0.00000000e+000\n",
      "   6.94183848e-310  7.80907992e+274  0.00000000e+000  0.00000000e+000\n",
      "   0.00000000e+000  0.00000000e+000  0.00000000e+000  0.00000000e+000\n",
      "   6.94184052e-310  3.21740575e+144  6.94184058e-310  7.28226785e+258\n",
      "   6.94177015e-310  4.69710474e+242  0.00000000e+000  0.00000000e+000\n",
      "   6.94179776e-310  1.29424740e-119  0.00000000e+000  0.00000000e+000\n",
      "   6.94184047e-310  4.19735780e+206  0.00000000e+000  0.00000000e+000\n",
      "   0.00000000e+000  0.00000000e+000  0.00000000e+000  0.00000000e+000\n",
      "   6.94183736e-310 -8.95422507e+089  6.94184137e-310 -4.23300190e+179\n",
      "   6.94177400e-310 -2.16236105e+270  0.00000000e+000  0.00000000e+000\n",
      "   0.00000000e+000  0.00000000e+000  0.00000000e+000  0.00000000e+000\n",
      "   0.00000000e+000  0.00000000e+000  0.00000000e+000  0.00000000e+000\n",
      "   0.00000000e+000  0.00000000e+000  0.00000000e+000  0.00000000e+000\n",
      "   6.94184081e-310 -5.06468257e-302  6.94176817e-310  2.32595383e+015\n",
      "   0.00000000e+000  0.00000000e+000  6.94184157e-310  1.11779039e-210\n",
      "   6.94176734e-310  5.74014867e-132  6.94176794e-310 -1.06840762e-017\n",
      "   0.00000000e+000  0.00000000e+000  0.00000000e+000  0.00000000e+000\n",
      "   0.00000000e+000  0.00000000e+000  0.00000000e+000  0.00000000e+000\n",
      "   0.00000000e+000  0.00000000e+000  0.00000000e+000  0.00000000e+000\n",
      "   0.00000000e+000  0.00000000e+000  6.94176735e-310  9.51996635e-216\n",
      "   0.00000000e+000  0.00000000e+000  0.00000000e+000  0.00000000e+000\n",
      "   0.00000000e+000  0.00000000e+000  0.00000000e+000  0.00000000e+000\n",
      "   0.00000000e+000  0.00000000e+000  0.00000000e+000  0.00000000e+000\n",
      "   0.00000000e+000  0.00000000e+000  6.94184136e-310 -1.86515113e+023\n",
      "   6.94177014e-310  6.03340062e+071  0.00000000e+000  0.00000000e+000\n",
      "   0.00000000e+000  0.00000000e+000  0.00000000e+000  0.00000000e+000\n",
      "   0.00000000e+000  0.00000000e+000  0.00000000e+000  0.00000000e+000\n",
      "   6.94177694e-310  4.95628751e+126  0.00000000e+000  0.00000000e+000\n",
      "   6.94184067e-310  1.19983488e+260  6.94177565e-310 -1.39692163e-269\n",
      "   6.94176818e-310 -1.41636746e+024  6.94184146e-310  3.31359316e-115\n",
      "   6.94177018e-310 -7.18602706e-116  6.94177650e-310  8.71017396e-187]\n",
      " [ 0.00000000e+000  0.00000000e+000  0.00000000e+000  0.00000000e+000\n",
      "   6.94177015e-310  3.75117514e-108  0.00000000e+000  0.00000000e+000\n",
      "   0.00000000e+000  0.00000000e+000  0.00000000e+000  0.00000000e+000\n",
      "   0.00000000e+000  0.00000000e+000  6.94183098e-310 -1.21166777e+065\n",
      "   6.94176910e-310  9.01924842e+083  6.94181130e-310  7.58964782e-233\n",
      "   0.00000000e+000  0.00000000e+000  0.00000000e+000  0.00000000e+000\n",
      "   0.00000000e+000  0.00000000e+000  0.00000000e+000  0.00000000e+000\n",
      "   6.94184051e-310  2.60029105e+303  0.00000000e+000  0.00000000e+000\n",
      "   0.00000000e+000  0.00000000e+000  0.00000000e+000  0.00000000e+000\n",
      "   6.94177014e-310 -5.94916828e+192  6.94177115e-310 -1.18040000e-293\n",
      "   6.94184263e-310  1.03013012e-302  0.00000000e+000  0.00000000e+000\n",
      "   0.00000000e+000  0.00000000e+000  6.94184148e-310  5.13130615e-182\n",
      "   6.94177020e-310 -2.14727059e-173  0.00000000e+000  0.00000000e+000\n",
      "   0.00000000e+000  0.00000000e+000  6.94177473e-310 -6.10428546e-211\n",
      "   6.94176955e-310 -2.09572663e-267  0.00000000e+000  0.00000000e+000\n",
      "   0.00000000e+000  0.00000000e+000  0.00000000e+000  0.00000000e+000\n",
      "   0.00000000e+000  0.00000000e+000  0.00000000e+000  0.00000000e+000\n",
      "   0.00000000e+000  0.00000000e+000  6.94176590e-310  5.25470906e-038\n",
      "   0.00000000e+000  0.00000000e+000  0.00000000e+000  0.00000000e+000\n",
      "   6.94177649e-310 -1.01767159e-219  0.00000000e+000  0.00000000e+000\n",
      "   0.00000000e+000  0.00000000e+000  0.00000000e+000  0.00000000e+000\n",
      "   0.00000000e+000  0.00000000e+000  0.00000000e+000  0.00000000e+000\n",
      "   6.94184022e-310 -3.74738481e+198  6.94177020e-310 -1.34159129e-229\n",
      "   0.00000000e+000  0.00000000e+000  6.94184138e-310 -1.83426586e-156\n",
      "   0.00000000e+000  0.00000000e+000  0.00000000e+000  0.00000000e+000\n",
      "   0.00000000e+000  0.00000000e+000  0.00000000e+000  0.00000000e+000\n",
      "   0.00000000e+000  0.00000000e+000  0.00000000e+000  0.00000000e+000\n",
      "   0.00000000e+000  0.00000000e+000  0.00000000e+000  0.00000000e+000\n",
      "   6.94184133e-310  3.33236560e-236  0.00000000e+000  0.00000000e+000\n",
      "   0.00000000e+000  0.00000000e+000  6.94179467e-310  8.90946506e+116\n",
      "   0.00000000e+000  0.00000000e+000  0.00000000e+000  0.00000000e+000\n",
      "   0.00000000e+000  0.00000000e+000  6.94177567e-310  1.45295827e-080\n",
      "   0.00000000e+000  0.00000000e+000  0.00000000e+000  0.00000000e+000\n",
      "   0.00000000e+000  0.00000000e+000  6.94176911e-310 -1.16931226e+123\n",
      "   6.94177263e-310 -5.97898097e+150  6.94176651e-310 -2.23492833e-270\n",
      "   0.00000000e+000  0.00000000e+000  6.94177286e-310 -3.22077148e+096\n",
      "   6.94184156e-310  1.55819126e+189  0.00000000e+000  0.00000000e+000\n",
      "   0.00000000e+000  0.00000000e+000  6.94184043e-310 -5.79784407e+142\n",
      "   0.00000000e+000  0.00000000e+000  0.00000000e+000  0.00000000e+000\n",
      "   0.00000000e+000  0.00000000e+000  6.94177566e-310 -8.43132637e+013\n",
      "   6.94179433e-310  6.28211168e+296  0.00000000e+000  0.00000000e+000\n",
      "   0.00000000e+000  0.00000000e+000  0.00000000e+000  0.00000000e+000\n",
      "   0.00000000e+000  0.00000000e+000  0.00000000e+000  0.00000000e+000\n",
      "   6.94184264e-310 -1.66561129e-231  0.00000000e+000  0.00000000e+000\n",
      "   6.94177563e-310 -1.57981489e+106  0.00000000e+000  0.00000000e+000\n",
      "   0.00000000e+000  0.00000000e+000  0.00000000e+000  0.00000000e+000\n",
      "   0.00000000e+000  0.00000000e+000  0.00000000e+000  0.00000000e+000\n",
      "   6.94177021e-310 -1.09599915e+092  6.94177287e-310 -5.98649750e-125\n",
      "   0.00000000e+000  0.00000000e+000  0.00000000e+000  0.00000000e+000\n",
      "   6.94183851e-310 -3.65588007e-270  0.00000000e+000  0.00000000e+000\n",
      "   0.00000000e+000  0.00000000e+000  0.00000000e+000  0.00000000e+000\n",
      "   0.00000000e+000  0.00000000e+000  0.00000000e+000  0.00000000e+000\n",
      "   0.00000000e+000  0.00000000e+000  0.00000000e+000  0.00000000e+000\n",
      "   0.00000000e+000  0.00000000e+000  6.94184051e-310 -8.32026985e+222\n",
      "   6.94184024e-310  4.24923636e-054  6.94177567e-310  5.73851549e-232\n",
      "   0.00000000e+000  0.00000000e+000  6.94184156e-310 -8.54164616e+071\n",
      "   6.94177473e-310 -9.91304042e-190  6.94177649e-310 -5.30392910e-090\n",
      "   6.94177566e-310  9.62488190e+259  0.00000000e+000  0.00000000e+000\n",
      "   0.00000000e+000  0.00000000e+000  0.00000000e+000  0.00000000e+000\n",
      "   0.00000000e+000  0.00000000e+000  0.00000000e+000  0.00000000e+000\n",
      "   6.94184135e-310  9.59110012e+190  0.00000000e+000  0.00000000e+000\n",
      "   0.00000000e+000  0.00000000e+000  6.94183874e-310  1.40117553e-080\n",
      "   0.00000000e+000  0.00000000e+000  0.00000000e+000  0.00000000e+000\n",
      "   0.00000000e+000  0.00000000e+000  6.94184129e-310 -3.21418507e-076\n",
      "   6.94184077e-310 -3.35127010e-049  0.00000000e+000  0.00000000e+000\n",
      "   0.00000000e+000  0.00000000e+000  6.94184140e-310  2.99960612e-121\n",
      "   6.94184051e-310 -2.38968471e+204  6.94176830e-310  2.43771223e+094\n",
      "   6.94184135e-310  1.29345714e+238  0.00000000e+000  0.00000000e+000\n",
      "   0.00000000e+000  0.00000000e+000  0.00000000e+000  0.00000000e+000\n",
      "   6.94184087e-310  1.06490064e+273  0.00000000e+000  0.00000000e+000\n",
      "   6.94184067e-310  2.65198130e-238  0.00000000e+000  0.00000000e+000\n",
      "   0.00000000e+000  0.00000000e+000  6.94176818e-310 -4.88565951e-170\n",
      "   0.00000000e+000  0.00000000e+000  0.00000000e+000  0.00000000e+000\n",
      "   6.94177566e-310 -1.83198832e+181  0.00000000e+000  0.00000000e+000\n",
      "   6.94177426e-310  2.88242022e+142  0.00000000e+000  0.00000000e+000\n",
      "   0.00000000e+000  0.00000000e+000  6.94177567e-310  1.13070109e+293\n",
      "   6.94176794e-310 -7.56818920e-188  0.00000000e+000  0.00000000e+000\n",
      "   6.94177568e-310 -1.09111115e+208  0.00000000e+000  0.00000000e+000\n",
      "   0.00000000e+000  0.00000000e+000  0.00000000e+000  0.00000000e+000\n",
      "   6.94184021e-310  9.86445049e-014  0.00000000e+000  0.00000000e+000]]\n"
     ]
    }
   ],
   "source": [
    "print(features_rascaline_single)"
   ]
  },
  {
   "cell_type": "markdown",
   "id": "wanted-airfare",
   "metadata": {},
   "source": [
    "Comment: Rascaline seems to exclude the center contribution by default, leading to coefficients that are zero everywhere. This is not an error of the code per se, but is something that should be kept in mind."
   ]
  },
  {
   "cell_type": "markdown",
   "id": "reverse-reception",
   "metadata": {},
   "source": [
    "Make sure that the coefficients apart from those at $l=0$ are zero (since we only have a single atom in the structure, the density is spherically symmetric and thus only the $l=0$ projection survives)"
   ]
  },
  {
   "cell_type": "code",
   "execution_count": 54,
   "id": "spare-dress",
   "metadata": {},
   "outputs": [],
   "source": [
    "for i in range(len(features_pylode_single)):\n",
    "    # The l=0 coefficients for pyLODE are contained in [n,l]=[:,0]\n",
    "    feat = features_pylode_single[i,0]\n",
    "    feat_zero = feat[:,1:]\n",
    "    assert_allclose(feat_zero, np.zeros_like(feat_zero), atol=2e-7)\n",
    "    \n",
    "    # The l=0 coefficients for librascal are separated by (lmax+1)**2\n",
    "    feat = features_librascal_single[i]\n",
    "    for n in range(nmax):\n",
    "        for lm in range((lmax+1)**2):\n",
    "            if lm != 0:\n",
    "                assert abs(feat[n*(lmax+1)**2 + lm]) < 1e-8\n",
    "    \n",
    "    # The l=0 coefficients of rascaline are the first nmax entries.\n",
    "    # Thus, all the remaining contributions should be zero.\n",
    "    #feat = np.round(features_rascaline_single[i],15)\n",
    "    #assert_allclose(feat[nmax:], np.zeros_like(feat[nmax:]), atol=1e-8)"
   ]
  },
  {
   "cell_type": "markdown",
   "id": "angry-desperate",
   "metadata": {},
   "source": [
    "### Sanity check 2: Coefficients should be (for pyLODE: mostly) independent of the cell"
   ]
  },
  {
   "cell_type": "code",
   "execution_count": 55,
   "id": "promotional-visiting",
   "metadata": {},
   "outputs": [],
   "source": [
    "# For librascal and rascaline, the features should be completely independent of the cell\n",
    "for feats in [features_librascal_single]:\n",
    "    feat1 = feats[0]\n",
    "    feat2 = feats[1]\n",
    "    assert_allclose(feat1, feat2, rtol=1e-10)"
   ]
  },
  {
   "cell_type": "code",
   "execution_count": 56,
   "id": "occasional-anatomy",
   "metadata": {},
   "outputs": [],
   "source": [
    "# For pyLODE, the k-space sum does lead to a weak dependence on the cell that depends on\n",
    "# how well the k-space converged.\n",
    "feat1 = features_pylode_single[0]\n",
    "feat2 = features_pylode_single[1]\n",
    "assert_allclose(feat1, feat2, rtol=1e-10, atol=2e-7)"
   ]
  },
  {
   "cell_type": "markdown",
   "id": "dated-virgin",
   "metadata": {},
   "source": [
    "### Compare pyLODE and rascal coefficients with exact values"
   ]
  },
  {
   "cell_type": "code",
   "execution_count": 57,
   "id": "generic-faculty",
   "metadata": {},
   "outputs": [],
   "source": [
    "feat_pylode_l0_zero = features_pylode_single[0,0,:,0]"
   ]
  },
  {
   "cell_type": "code",
   "execution_count": 58,
   "id": "worth-growing",
   "metadata": {},
   "outputs": [],
   "source": [
    "coeffs_exact_center = coeffs_exact[:,0] # take the r_{ij} = 0 part"
   ]
  },
  {
   "cell_type": "code",
   "execution_count": 59,
   "id": "australian-expert",
   "metadata": {},
   "outputs": [
    {
     "name": "stdout",
     "output_type": "stream",
     "text": [
      "Exact center contributions [ 3.96244980e-01 -4.15614113e-02  7.82924674e-03  2.53274680e-03\n",
      "  9.21855147e-05]\n"
     ]
    }
   ],
   "source": [
    "print('Exact center contributions', coeffs_exact_center)"
   ]
  },
  {
   "cell_type": "code",
   "execution_count": 60,
   "id": "requested-technology",
   "metadata": {},
   "outputs": [
    {
     "name": "stdout",
     "output_type": "stream",
     "text": [
      "Comparison to pyLODE\n",
      "[0.99999336 0.99992641 1.00036322 0.99855786 1.02418289]\n"
     ]
    }
   ],
   "source": [
    "print('Comparison to pyLODE')\n",
    "print(feat_pylode_l0_zero / coeffs_exact_center)"
   ]
  },
  {
   "cell_type": "code",
   "execution_count": 61,
   "id": "satisfied-modem",
   "metadata": {
    "scrolled": true
   },
   "outputs": [
    {
     "name": "stdout",
     "output_type": "stream",
     "text": [
      "Comparison to librascal\n",
      "[0.35355394 0.35355774 0.35355549 0.35355269 0.35355421]\n"
     ]
    }
   ],
   "source": [
    "print('Comparison to librascal')\n",
    "feat_librascal_l0_nonzeropart = features_librascal_single[0,::(lmax+1)**2]\n",
    "print(feat_librascal_l0_nonzeropart / coeffs_exact_center)"
   ]
  },
  {
   "cell_type": "code",
   "execution_count": 62,
   "id": "green-victim",
   "metadata": {},
   "outputs": [
    {
     "data": {
      "text/plain": [
       "array([0.35355629, 0.35358376, 0.35342712, 0.3540633 , 0.34520613])"
      ]
     },
     "execution_count": 62,
     "metadata": {},
     "output_type": "execute_result"
    }
   ],
   "source": [
    "feat_librascal_l0_nonzeropart / feat_pylode_l0_zero"
   ]
  },
  {
   "cell_type": "code",
   "execution_count": 63,
   "id": "handy-camping",
   "metadata": {},
   "outputs": [
    {
     "data": {
      "text/plain": [
       "0.5079490874739278"
      ]
     },
     "execution_count": 63,
     "metadata": {},
     "output_type": "execute_result"
    }
   ],
   "source": [
    "1./(2*np.pi*smearing**2)**1.5"
   ]
  },
  {
   "cell_type": "code",
   "execution_count": 64,
   "id": "boolean-family",
   "metadata": {},
   "outputs": [
    {
     "data": {
      "text/plain": [
       "array([ 1.40093975e-01, -1.46943587e-02,  2.76807317e-03,  8.95459447e-04,\n",
       "        3.25925769e-05])"
      ]
     },
     "execution_count": 64,
     "metadata": {},
     "output_type": "execute_result"
    }
   ],
   "source": [
    "feat_librascal_l0_nonzeropart"
   ]
  },
  {
   "cell_type": "code",
   "execution_count": 65,
   "id": "historic-action",
   "metadata": {},
   "outputs": [
    {
     "name": "stdout",
     "output_type": "stream",
     "text": [
      "Comparison to rascaline\n",
      "[ 1.75190639e-309 -6.79861442e-001  8.86655240e-308  1.21184498e-278\n",
      "  7.53029206e-306]\n"
     ]
    }
   ],
   "source": [
    "print('Comparison to rascaline')\n",
    "feat_rascaline_l0_nonzeropart = features_rascaline_single[0,:nmax]\n",
    "print(feat_rascaline_l0_nonzeropart / coeffs_exact_center)"
   ]
  },
  {
   "cell_type": "markdown",
   "id": "beneficial-tender",
   "metadata": {},
   "source": [
    "## Compare exact coefficients with those from pyLODE and Rascal: Dimers <a class=\"anchor\" id=\"l=0dimer\"></a>"
   ]
  },
  {
   "cell_type": "markdown",
   "id": "national-bidder",
   "metadata": {},
   "source": [
    "TODO"
   ]
  },
  {
   "cell_type": "markdown",
   "id": "recognized-lounge",
   "metadata": {},
   "source": [
    "# Compare coefficients for random molecules <a class=\"anchor\" id=\"randommolecule\"></a>"
   ]
  },
  {
   "cell_type": "code",
   "execution_count": 66,
   "id": "moral-strength",
   "metadata": {},
   "outputs": [],
   "source": [
    "frames = []\n",
    "frames.append(Atoms('O4', positions=[[1,1,1],[2,1,1],[2,2.2,1],[2.3,2.,1.5]], cell=cell, pbc=True))\n",
    "frames.append(Atoms('O4', positions=[[1,1,1],[2.3,1,1],[2.2,2.5,1.1],[2.7,2.,1.1]], cell=cell, pbc=True))"
   ]
  },
  {
   "cell_type": "code",
   "execution_count": 67,
   "id": "exclusive-developer",
   "metadata": {},
   "outputs": [],
   "source": [
    "features_librascal_single = calculator_librascal.transform(frames).get_features(calculator_librascal)\n",
    "calculator_pylode.transform(frames)\n",
    "features_pylode_single = calculator_pylode.features"
   ]
  },
  {
   "cell_type": "code",
   "execution_count": 68,
   "id": "arabic-palace",
   "metadata": {},
   "outputs": [
    {
     "data": {
      "text/plain": [
       "(8, 320)"
      ]
     },
     "execution_count": 68,
     "metadata": {},
     "output_type": "execute_result"
    }
   ],
   "source": [
    "features_librascal_single.shape"
   ]
  },
  {
   "cell_type": "code",
   "execution_count": 69,
   "id": "boolean-investigation",
   "metadata": {},
   "outputs": [],
   "source": [
    "features_pylode_single = features_pylode_single[:,0,:,:]"
   ]
  },
  {
   "cell_type": "code",
   "execution_count": 70,
   "id": "mathematical-prime",
   "metadata": {},
   "outputs": [],
   "source": [
    "f_librascal = features_librascal_single.reshape((8, nmax, (lmax+1)**2))"
   ]
  },
  {
   "cell_type": "code",
   "execution_count": 71,
   "id": "essential-farmer",
   "metadata": {},
   "outputs": [
    {
     "name": "stdout",
     "output_type": "stream",
     "text": [
      "1.0258099743440476\n",
      "0.9701207503865753\n",
      "1.0086633765836863\n",
      "0.8978656452260723\n",
      "1.0669710203998333\n",
      "0.9352693576703586\n",
      "1.3784371540476397\n",
      "0.5992983770758131\n",
      "1.0055495204974494\n",
      "0.9892479186336299\n",
      "1.135862215923737\n",
      "0.9228667511641557\n",
      "1.0416334511738423\n",
      "0.9729712212689982\n",
      "1.0624019416032258\n",
      "0.9768875604728802\n"
     ]
    }
   ],
   "source": [
    "for i in range(8):\n",
    "    ratiomax = np.max(features_pylode_single[i] / f_librascal[i] /2.82841)\n",
    "    ratiomin = np.min(features_pylode_single[i] / f_librascal[i] /2.82841)\n",
    "    print(ratiomax)\n",
    "    print(ratiomin)"
   ]
  },
  {
   "cell_type": "code",
   "execution_count": 72,
   "id": "large-effectiveness",
   "metadata": {},
   "outputs": [
    {
     "data": {
      "text/plain": [
       "1.0624019416032258"
      ]
     },
     "execution_count": 72,
     "metadata": {},
     "output_type": "execute_result"
    }
   ],
   "source": [
    "np.max(np.abs(features_pylode_single[i] / f_librascal[i])/2.82841)"
   ]
  },
  {
   "cell_type": "code",
   "execution_count": 73,
   "id": "interior-jenny",
   "metadata": {},
   "outputs": [
    {
     "data": {
      "text/plain": [
       "(8, 5, 64)"
      ]
     },
     "execution_count": 73,
     "metadata": {},
     "output_type": "execute_result"
    }
   ],
   "source": [
    "features_pylode_single.shape"
   ]
  },
  {
   "cell_type": "markdown",
   "id": "complex-toronto",
   "metadata": {},
   "source": [
    "Comment: Coefficients now also agree for \"generic\" molecules (i.e. molecules that do not have any special symmetry) up to a global factor!"
   ]
  }
 ],
 "metadata": {
  "kernelspec": {
   "display_name": "Python 3",
   "language": "python",
   "name": "python3"
  },
  "language_info": {
   "codemirror_mode": {
    "name": "ipython",
    "version": 3
   },
   "file_extension": ".py",
   "mimetype": "text/x-python",
   "name": "python",
   "nbconvert_exporter": "python",
   "pygments_lexer": "ipython3",
   "version": "3.8.5"
  }
 },
 "nbformat": 4,
 "nbformat_minor": 5
}
