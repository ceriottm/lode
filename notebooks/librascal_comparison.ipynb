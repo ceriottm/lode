{
 "cells": [
  {
   "cell_type": "code",
   "execution_count": 1,
   "id": "mental-mumbai",
   "metadata": {},
   "outputs": [],
   "source": [
    "%load_ext autoreload\n",
    "%autoreload 2"
   ]
  },
  {
   "cell_type": "code",
   "execution_count": 2,
   "id": "banner-facility",
   "metadata": {},
   "outputs": [],
   "source": [
    "import sys"
   ]
  },
  {
   "cell_type": "code",
   "execution_count": 3,
   "id": "joint-disorder",
   "metadata": {},
   "outputs": [],
   "source": [
    "sys.path.insert(0, '/ssd/scratch/khugueni/librascal-pypi-release/build')"
   ]
  },
  {
   "cell_type": "code",
   "execution_count": 4,
   "id": "swiss-hampton",
   "metadata": {},
   "outputs": [],
   "source": [
    "%matplotlib inline\n",
    "from matplotlib import pylab as plt\n",
    "\n",
    "import time\n",
    "import rascal\n",
    "\n",
    "import ase\n",
    "from ase import Atoms\n",
    "from ase.io import read, write\n",
    "from ase.build import make_supercell\n",
    "from ase.visualize import view\n",
    "from numpy.testing import assert_allclose\n",
    "import numpy as np\n",
    "from numpy.linalg import norm\n",
    "\n",
    "from scipy.integrate import quad\n",
    "from pylode.lib.radial_basis import innerprod\n",
    "from scipy.special import gamma, hyp1f1, sph_harm, iv\n",
    "\n",
    "# Descriptor related imports: compare the librascal and pyLODE versions of SOAP\n",
    "from rascal.representations import SphericalExpansion as RascalSphericalExpansion\n",
    "#from librascal.representations import SphericalExpansion as RascalSphericalExpansion\n",
    "import rascaline\n",
    "from pylode.lib.projection_coeffs import DensityProjectionCalculator"
   ]
  },
  {
   "cell_type": "markdown",
   "id": "radio-worthy",
   "metadata": {},
   "source": [
    "# Introduction"
   ]
  },
  {
   "cell_type": "markdown",
   "id": "ecological-trash",
   "metadata": {},
   "source": [
    "This notebook is used to compare the features obtained from rascaline, librascal and pylode. The goal is to fully understand the details of the three implementations to make sure that the same coefficients from different codes agree."
   ]
  },
  {
   "cell_type": "markdown",
   "id": "forced-porter",
   "metadata": {},
   "source": [
    "## Table of Contents:\n",
    "* [Preparation](#preparation)\n",
    "    * [Exact Expression for Coefficients](#exactexpressions)\n",
    "    * [Get the features for dimers](#getfeatures)\n",
    "* [Coefficients for $l=1$](#l=1)\n",
    "    * [Explicit computation of coefficients for $l=1$](#l=1explicit)\n",
    "    * [Comparison to pyLODE/rascal for dimers](#l=1dimer)\n",
    "* [Coefficients for $l\\geq 2$](#lgeq2)\n",
    "    * [Coefficients for $l=2$](#l=2)\n",
    "    * [Coefficients for general $l$](#l_general)\n",
    "* [Coefficients for l=0](#l=0)\n",
    "    * [Exact coefficients](#l=0exact)\n",
    "    * [Comparison to pyLODE/rascal for center contribution](#l=0center)\n",
    "    * [Comparison to pyLODE/rascal for dimers](#l=0dimer)"
   ]
  },
  {
   "cell_type": "markdown",
   "id": "defined-clinic",
   "metadata": {},
   "source": [
    "# Preparation: Get features from all three codes <a class=\"anchor\" id=\"preparation\"></a>"
   ]
  },
  {
   "cell_type": "markdown",
   "id": "funded-message",
   "metadata": {},
   "source": [
    "## Exact Expression for Coefficients <a class=\"anchor\" id=\"exactexpressions\"></a>"
   ]
  },
  {
   "cell_type": "markdown",
   "id": "following-adobe",
   "metadata": {},
   "source": [
    "### Define common hyperparameters"
   ]
  },
  {
   "cell_type": "code",
   "execution_count": 5,
   "id": "suspended-lease",
   "metadata": {},
   "outputs": [],
   "source": [
    "nmax = 8\n",
    "lmax = 3\n",
    "rcut = 6.\n",
    "smearing = 0.5"
   ]
  },
  {
   "cell_type": "markdown",
   "id": "rental-surrey",
   "metadata": {},
   "source": [
    "### Generate orthonormalization matrix <a class=\"anchor\" id=\"orthonormalization\"></a>"
   ]
  },
  {
   "cell_type": "code",
   "execution_count": 6,
   "id": "continental-concern",
   "metadata": {},
   "outputs": [],
   "source": [
    "Nradial = 1000\n",
    "sigma = np.ones(nmax, dtype=float)\n",
    "for i in range(1, nmax):\n",
    "    sigma[i] = np.sqrt(i)\n",
    "sigma *= rcut / nmax"
   ]
  },
  {
   "cell_type": "code",
   "execution_count": 7,
   "id": "square-admission",
   "metadata": {},
   "outputs": [],
   "source": [
    "# Define inner product matrix using analytical expression for primitive GTOs\n",
    "innerprods_primitive = np.zeros((nmax, nmax))\n",
    "for n1 in range(nmax):\n",
    "    for n2 in range(nmax):\n",
    "        sigeff = 0.5 * (1/sigma[n1]**2 + 1/sigma[n2]**2)\n",
    "        neff = 0.5 * (3 + n1 + n2)\n",
    "        innerprods_primitive[n1, n2] = 0.5 * sigeff**(-neff) * gamma(neff)\n",
    "\n",
    "eigvals, eigvecs = np.linalg.eigh(innerprods_primitive)\n",
    "transformation_primitive = eigvecs @ np.diag(np.sqrt(1. / eigvals)) @ eigvecs.T"
   ]
  },
  {
   "cell_type": "code",
   "execution_count": 8,
   "id": "listed-gamma",
   "metadata": {},
   "outputs": [],
   "source": [
    "normalizations = np.zeros((nmax,))\n",
    "for n in range(nmax):\n",
    "    normalizations[n] = 1/np.sqrt(innerprods_primitive[n, n])"
   ]
  },
  {
   "cell_type": "code",
   "execution_count": 9,
   "id": "graduate-standard",
   "metadata": {},
   "outputs": [],
   "source": [
    "# Inner product matrix for normalized GTOs\n",
    "innerprods_normalized = np.zeros((nmax, nmax))\n",
    "for n1 in range(nmax):\n",
    "    for n2 in range(nmax):\n",
    "        innerprods_normalized[n1, n2] = innerprods_primitive[n1, n2]\n",
    "        innerprods_normalized[n1, n2] *= normalizations[n1] * normalizations[n2]\n",
    "        \n",
    "eigvals, eigvecs = np.linalg.eigh(innerprods_normalized)\n",
    "transformation_normalized = eigvecs @ np.diag(np.sqrt(1. / eigvals)) @ eigvecs.T"
   ]
  },
  {
   "cell_type": "code",
   "execution_count": 10,
   "id": "forty-cinema",
   "metadata": {},
   "outputs": [],
   "source": [
    "use_gto_convention = 'normalized' # choose between 'normalized' and 'primitive'\n",
    "if use_gto_convention == 'normalized':\n",
    "    transformation = transformation_normalized\n",
    "    innerprods = innerprods_normalized\n",
    "elif use_gto_convention == 'primitive':\n",
    "    transformation = transformation_primitive\n",
    "    innerprods = innerprods_primitive\n",
    "    normalizations = np.ones_like(normalizations)"
   ]
  },
  {
   "cell_type": "code",
   "execution_count": 11,
   "id": "interpreted-sierra",
   "metadata": {},
   "outputs": [],
   "source": [
    "assert_allclose(transformation @ innerprods @ transformation, np.eye(nmax), atol=1e-5, rtol=1e-5)"
   ]
  },
  {
   "cell_type": "markdown",
   "id": "polish-education",
   "metadata": {},
   "source": [
    "### Fully analytical formula for general $l$"
   ]
  },
  {
   "cell_type": "code",
   "execution_count": 12,
   "id": "clear-development",
   "metadata": {},
   "outputs": [],
   "source": [
    "def coefficients_analytical_general_l(nmax, d, l):\n",
    "    # Define auxilary quantities and prefactors\n",
    "    a = 1. / (2 * smearing**2)\n",
    "    lplus3half = l + 1.5\n",
    "    prefac_global = np.pi**1.5 * sph_harm(0, l, 0, 0).real * a**l / gamma(lplus3half)\n",
    "    prefac_global *= d**l * np.exp(-a*d**2)\n",
    "    prefac_global /= (np.pi * smearing**2)**(3/4)\n",
    "\n",
    "    # Start main loop\n",
    "    featvec = np.zeros((nmax))\n",
    "    for n in range(nmax):\n",
    "        nlplus3half = (3 + n + l) / 2\n",
    "        b = 1. / (2 * sigma[n]**2)\n",
    "        prefac_n_dep = gamma(nlplus3half) / (a+b)**nlplus3half\n",
    "        hyp = hyp1f1(nlplus3half, lplus3half, a**2*d**2/(a+b))\n",
    "        featvec[n] = normalizations[n] * prefac_n_dep * hyp\n",
    "\n",
    "    #return prefac_global * featvec\n",
    "    return prefac_global * (transformation @ featvec)   "
   ]
  },
  {
   "cell_type": "markdown",
   "id": "prompt-grounds",
   "metadata": {},
   "source": [
    "### Semianalytical (final integral performed numerically) formula for general l"
   ]
  },
  {
   "cell_type": "code",
   "execution_count": 13,
   "id": "expressed-weapon",
   "metadata": {},
   "outputs": [],
   "source": [
    "def coefficients_semianalytical_general_l(nmax, d, l):\n",
    "    # Prefactor\n",
    "    a = 1. / (2 * smearing**2)\n",
    "    prefac_global = 4*np.pi * sph_harm(0, l, 0, 0).real * np.exp(-a*d**2)\n",
    "    prefac_global /= (np.pi * smearing**2)**(3/4)\n",
    "\n",
    "    # Main loop performing the numerical integration\n",
    "    featvec = np.zeros((nmax))\n",
    "    for n in range(nmax):\n",
    "        # Define the integrand consisting of a power-law, Gaussian and Bessel part\n",
    "        b = 1. / (2 * sigma[n]**2)\n",
    "        gaussian = lambda r: np.exp(-(a+b)*r**2)\n",
    "        power = lambda r: r**(2+n)\n",
    "        mod_sph_bessel = lambda x: np.sqrt(np.pi/2/x) * iv(l + 0.5, x)\n",
    "        bessel = lambda r: mod_sph_bessel(2*a*d*r)\n",
    "        integrand = lambda r: power(r) * gaussian(r) * bessel(r)\n",
    "        \n",
    "        # Numerical integration\n",
    "        eps = 1e-10\n",
    "        featvec[n] = normalizations[n] * quad(integrand, eps, 4.5*rcut)[0]\n",
    "\n",
    "    #return prefac_global * featvec\n",
    "    return prefac_global * (transformation @ featvec)   "
   ]
  },
  {
   "cell_type": "markdown",
   "id": "scientific-consortium",
   "metadata": {},
   "source": [
    "## Get the features for dimers <a class=\"anchor\" id=\"getfeatures\"></a>"
   ]
  },
  {
   "cell_type": "markdown",
   "id": "electoral-oasis",
   "metadata": {},
   "source": [
    "### Define structure to be used for the comparison\n",
    "The main differences between librascal and the pyLODE implementation are the presence of a smooth cutoff function and the potentially different order in which neighbors are stored. We thus wish to generate structures for which these two effects do not alter the coefficients too much. For this task, we use clusters of Oxygen atoms for which all atoms have a mutual distance of less than 3A. Then, even for a relatively large smearing of 1.5A, the atomic densities will be reasonably contained within a ball of cutoff radius 6 that will also be used for the cutoff."
   ]
  },
  {
   "cell_type": "code",
   "execution_count": 14,
   "id": "floppy-subject",
   "metadata": {},
   "outputs": [],
   "source": [
    "frames = []\n",
    "cell = np.eye(3) * 16\n",
    "Ndimers = 15\n",
    "distances = np.linspace(1., 2.5, Ndimers)\n",
    "for d in distances:\n",
    "    positions = [[1,1,1],[1,1,1+d]]\n",
    "    frame = Atoms('O2', positions=positions, cell=cell, pbc=True)\n",
    "    frames.append(frame)"
   ]
  },
  {
   "cell_type": "markdown",
   "id": "funded-operations",
   "metadata": {},
   "source": [
    "### Get the features from pyLODE"
   ]
  },
  {
   "cell_type": "code",
   "execution_count": 15,
   "id": "happy-sydney",
   "metadata": {},
   "outputs": [],
   "source": [
    "hypers = {\n",
    "    'smearing':smearing,\n",
    "    'max_angular':lmax,\n",
    "    'max_radial':nmax,\n",
    "    'cutoff_radius':rcut,\n",
    "    'potential_exponent':0,\n",
    "    'radial_basis': 'gto',\n",
    "    'compute_gradients':False,\n",
    "    'subtract_center_contribution':False,\n",
    "    }\n",
    "\n",
    "calculator_pylode = DensityProjectionCalculator(**hypers)\n",
    "calculator_pylode.transform(frames)\n",
    "features_pylode = calculator_pylode.features"
   ]
  },
  {
   "cell_type": "markdown",
   "id": "random-corporation",
   "metadata": {},
   "source": [
    "### Get the features from librascal"
   ]
  },
  {
   "cell_type": "code",
   "execution_count": 16,
   "id": "undefined-morning",
   "metadata": {},
   "outputs": [],
   "source": [
    "# define the parameters of the spherical expansion\n",
    "hypers = dict(interaction_cutoff=rcut, \n",
    "              max_radial=nmax, \n",
    "              max_angular=lmax, \n",
    "              gaussian_sigma_constant=smearing,\n",
    "              gaussian_sigma_type=\"Constant\",\n",
    "              cutoff_smooth_width=0.1,\n",
    "              radial_basis=\"GTO\",\n",
    "              compute_gradients=False,\n",
    "              expansion_by_species_method='structure wise',\n",
    "              optimization=dict(Spline=dict(accuracy=1e-12)),\n",
    "              )\n",
    "\n",
    "calculator_librascal = RascalSphericalExpansion(**hypers)\n",
    "# compute the representation of all the structures\n",
    "features_librascal = calculator_librascal.transform(frames).get_features(calculator_librascal)"
   ]
  },
  {
   "cell_type": "markdown",
   "id": "rental-working",
   "metadata": {},
   "source": [
    "### Get the features from Rascaline"
   ]
  },
  {
   "cell_type": "code",
   "execution_count": 17,
   "id": "bottom-shower",
   "metadata": {},
   "outputs": [],
   "source": [
    "HYPER_PARAMETERS = {\n",
    "    \"cutoff\": rcut,\n",
    "    \"max_radial\": nmax,\n",
    "    \"max_angular\": lmax,\n",
    "    \"atomic_gaussian_width\": smearing,\n",
    "    \"gradients\": False,\n",
    "    \"center_atom_weight\": 1.0,\n",
    "    \"radial_basis\": {\n",
    "        \"Gto\": {},\n",
    "    },\n",
    "    \"cutoff_function\": {\n",
    "        \"Step\": {\"width\": 1e-3},\n",
    "    },\n",
    "}\n",
    "\n",
    "calculator_rascaline = rascaline.SphericalExpansion(**HYPER_PARAMETERS)\n",
    "\n",
    "# run the actual calculation\n",
    "descriptor_rascaline = calculator_rascaline.compute(frames)"
   ]
  },
  {
   "cell_type": "markdown",
   "id": "beautiful-guest",
   "metadata": {},
   "source": [
    "# Compare coefficients for $l=1$ <a class=\"anchor\" id=\"l=1\"></a>"
   ]
  },
  {
   "cell_type": "markdown",
   "id": "coastal-animal",
   "metadata": {},
   "source": [
    "## Explicit computation of coefficients for $l=1$ <a class=\"anchor\" id=\"l=1explicit\"></a>"
   ]
  },
  {
   "cell_type": "markdown",
   "id": "completed-future",
   "metadata": {},
   "source": [
    "To make sure that we understand every single aspect of the codes including all the prefactors and conventions, we compute the exact coefficients we would expect from an Oxygen molecule oriented along the z-axis. The computations are done using three (four) different methods: a fully analytical approach applicable to all $l$, a semi-analytical approach in which the final radial integral is evaluated numerically also valid for all $l$, and finally an explicit formula that was obtained directly for the special case $l=1$ starting at the very definition. For convenience, we also include the complete analytical formula for the special case $l=1$."
   ]
  },
  {
   "cell_type": "markdown",
   "id": "realistic-sellers",
   "metadata": {},
   "source": [
    "### Fully analytical formula for $l=1$"
   ]
  },
  {
   "cell_type": "code",
   "execution_count": 18,
   "id": "welsh-python",
   "metadata": {},
   "outputs": [],
   "source": [
    "def coefficients_analytical_l1(nmax, d):\n",
    "    # Define auxilary quantities and prefactors\n",
    "    a = 1. / (2 * smearing**2)\n",
    "    lplus3half = 2.5\n",
    "    prefac_global = np.pi * np.sqrt(3/4) * a / gamma(lplus3half) * d * np.exp(-a*d**2)\n",
    "    prefac_global /= (np.pi*smearing**2)**(3/4)\n",
    "    \n",
    "    # Start main loop\n",
    "    featvec = np.zeros((nmax))\n",
    "    for n in range(nmax):\n",
    "        # Compute contribution for primitive GTO function\n",
    "        nlplus3half = (4 + n) / 2\n",
    "        b = 1. / (2 * sigma[n]**2)\n",
    "        prefac_n_dep = gamma(nlplus3half) / (a+b)**nlplus3half\n",
    "        hyp = hyp1f1(nlplus3half, lplus3half, a**2*d**2/(a+b))\n",
    "        featvec[n] = normalizations[n] * prefac_n_dep * hyp\n",
    "\n",
    "    return prefac_global * (transformation @ featvec)"
   ]
  },
  {
   "cell_type": "markdown",
   "id": "frequent-cooler",
   "metadata": {},
   "source": [
    "### Semianalytical (final integral performed numerically) formula for $l=1$"
   ]
  },
  {
   "cell_type": "code",
   "execution_count": 19,
   "id": "accurate-mumbai",
   "metadata": {},
   "outputs": [],
   "source": [
    "def coefficients_semianalytical_l1(nmax, d):\n",
    "    # Prefactor\n",
    "    a = 1. / (2 * smearing**2)\n",
    "    prefac = np.sqrt(1.5) / (2 * np.pi * smearing**3)\n",
    "    prefac *= np.exp(-a*d**2)\n",
    "    prefac *= (2*np.pi*smearing**2)**1.5 / (np.pi*smearing**2)**(3/4)\n",
    "    \n",
    "    # Start main loop\n",
    "    featvec = np.zeros((nmax,))\n",
    "    for n in range(nmax):\n",
    "        # Start defining functions appearing in integrand\n",
    "        b = 1. / (2 * sigma[n]**2)\n",
    "        gaussian = lambda r: np.exp(-(a+b)*r**2)\n",
    "        power = lambda r: r**(2+n)\n",
    "        mod_sph_bessel = lambda x: (x*np.cosh(x) - np.sinh(x))/x**2\n",
    "        bessel = lambda r: mod_sph_bessel(2*a*d*r)\n",
    "\n",
    "        integrand = lambda r: power(r) * gaussian(r) * bessel(r) * 2\n",
    "        \n",
    "        # Numerical Integration\n",
    "        featvec[n] = normalizations[n] * quad(integrand, 1e-10, 4.5 * rcut)[0]\n",
    "    \n",
    "    return prefac * (transformation @ featvec)"
   ]
  },
  {
   "cell_type": "markdown",
   "id": "satisfied-copying",
   "metadata": {},
   "source": [
    "### Compare the coefficients obtained using different methods"
   ]
  },
  {
   "cell_type": "code",
   "execution_count": 20,
   "id": "loose-problem",
   "metadata": {},
   "outputs": [],
   "source": [
    "features_analytical_l1 = np.zeros((len(distances), nmax))\n",
    "features_semianalytical_l1 = np.zeros((len(distances), nmax))\n",
    "features_analytical_general = np.zeros((len(distances), nmax))\n",
    "features_semianalytical_general = np.zeros((len(distances), nmax))\n",
    "\n",
    "for i_dist, d in enumerate(distances):\n",
    "    features_analytical_l1[i_dist] = coefficients_analytical_l1(nmax, d)\n",
    "    features_semianalytical_l1[i_dist] = coefficients_semianalytical_l1(nmax, d)\n",
    "    features_analytical_general[i_dist] = coefficients_analytical_general_l(nmax, d, l=1)\n",
    "    features_semianalytical_general[i_dist] = coefficients_semianalytical_general_l(nmax, d, l=1)"
   ]
  },
  {
   "cell_type": "code",
   "execution_count": 21,
   "id": "productive-entry",
   "metadata": {},
   "outputs": [
    {
     "name": "stdout",
     "output_type": "stream",
     "text": [
      "1.6113655467566215e-16\n",
      "3.2572434721308636e-14\n",
      "6.728896395083236e-15\n"
     ]
    }
   ],
   "source": [
    "delta1 = np.linalg.norm(features_analytical_l1 - features_analytical_general)\n",
    "delta2 = np.linalg.norm(features_analytical_general - features_semianalytical_general)\n",
    "delta3 = np.linalg.norm(features_semianalytical_l1 - features_semianalytical_general)\n",
    "print(delta1)\n",
    "print(delta2)\n",
    "print(delta3)"
   ]
  },
  {
   "cell_type": "markdown",
   "id": "joint-history",
   "metadata": {},
   "source": [
    "## Compare the exact values with those obtained from the three codes <a class=\"anchor\" id=\"l=1dimer\"></a>"
   ]
  },
  {
   "cell_type": "markdown",
   "id": "mathematical-implement",
   "metadata": {},
   "source": [
    "The exact coefficients obtained using the analytical formula are now compared to those obtained from the three codes."
   ]
  },
  {
   "cell_type": "markdown",
   "id": "strong-tiger",
   "metadata": {},
   "source": [
    "### Get the $l=1$ (and $m=0$) part of the features of the three codes"
   ]
  },
  {
   "cell_type": "code",
   "execution_count": 22,
   "id": "absolute-sucking",
   "metadata": {},
   "outputs": [
    {
     "name": "stdout",
     "output_type": "stream",
     "text": [
      "Shapes of feature vectors\n",
      "rascaline (30, 128)\n",
      "librascal (30, 128)\n"
     ]
    }
   ],
   "source": [
    "print('Shapes of feature vectors')\n",
    "print('rascaline', descriptor_rascaline.values.shape)\n",
    "print('librascal', features_librascal.shape)"
   ]
  },
  {
   "cell_type": "code",
   "execution_count": 23,
   "id": "aggregate-crime",
   "metadata": {},
   "outputs": [],
   "source": [
    "features_L1_rascaline = descriptor_rascaline.values[0::2, 2*nmax:3*nmax] / 10.962374348347298 "
   ]
  },
  {
   "cell_type": "code",
   "execution_count": 24,
   "id": "green-native",
   "metadata": {},
   "outputs": [],
   "source": [
    "features_L1_librascal = features_librascal[0::2, 2::(lmax+1)**2]"
   ]
  },
  {
   "cell_type": "code",
   "execution_count": 25,
   "id": "portuguese-dividend",
   "metadata": {},
   "outputs": [],
   "source": [
    "features_L1_pylode = features_pylode[0::2, 0, :, 2]"
   ]
  },
  {
   "cell_type": "code",
   "execution_count": 26,
   "id": "miniature-ottawa",
   "metadata": {},
   "outputs": [],
   "source": [
    "for i,features in enumerate([features_L1_rascaline, features_L1_librascal, features_L1_pylode, features_analytical_l1]):\n",
    "    assert features.shape == (len(distances), nmax)"
   ]
  },
  {
   "cell_type": "code",
   "execution_count": 27,
   "id": "scenic-exhaust",
   "metadata": {},
   "outputs": [
    {
     "name": "stdout",
     "output_type": "stream",
     "text": [
      "[[1.00002809 0.99998288 1.00002168 0.99984767 0.99480887 0.99592798\n",
      "  1.02550283 1.00132204]\n",
      " [1.00005198 0.99998133 1.00000548 0.99993948 1.00012416 1.00011716\n",
      "  1.00006189 0.99997893]\n",
      " [1.00003987 0.99999336 0.99999225 1.00011857 0.9998635  0.9998023\n",
      "  0.99978185 0.99975851]\n",
      " [0.99999194 1.00001078 0.99998733 1.00020109 0.99982961 0.99976318\n",
      "  0.99974776 0.99972082]\n",
      " [0.99993356 1.00002243 0.99999059 1.00012127 0.9998866  0.99983756\n",
      "  0.99982353 0.99977325]\n",
      " [0.99990873 1.00001945 0.99999826 1.00001639 0.99998064 0.99997457\n",
      "  0.99995735 0.99985746]\n",
      " [0.99995426 0.99999988 1.00000536 0.99996559 1.00006516 1.00014079\n",
      "  1.00010329 0.99988659]\n",
      " [1.00006141 0.99997106 1.00000812 0.99996305 1.00009959 1.000344\n",
      "  1.00019066 0.99956201]\n",
      " [1.00015783 0.99994949 1.00000552 0.9999822  1.00006167 0.99917506\n",
      "  1.00105954 1.01766311]\n",
      " [1.0001511  0.99996026 0.99999943 1.00000221 0.9999686  1.00018909\n",
      "  1.00059178 1.00179663]\n",
      " [1.00001741 1.00005341 0.99999362 1.00001284 0.9998872  1.00022492\n",
      "  1.00058468 1.00150829]\n",
      " [0.99984185 1.00108753 0.99999179 1.00001282 0.99988049 1.00019513\n",
      "  1.00059291 1.00156343]\n",
      " [0.99975698 0.99975971 0.9999956  1.00000639 0.99992948 1.00015221\n",
      "  1.00065588 1.0018669 ]\n",
      " [0.99984499 0.99998071 1.00000337 0.99999954 0.99997195 1.00012979\n",
      "  1.00089923 1.00262452]\n",
      " [1.00008875 1.00008133 1.00001012 0.9999969  0.99998147 1.00015056\n",
      "  1.0017966  1.00447225]]\n"
     ]
    }
   ],
   "source": [
    "print(features_analytical_l1 / features_L1_pylode)"
   ]
  },
  {
   "cell_type": "code",
   "execution_count": 28,
   "id": "public-cooperation",
   "metadata": {},
   "outputs": [
    {
     "name": "stdout",
     "output_type": "stream",
     "text": [
      "[[73.1664572  73.1664572  73.1664572  73.16645719 73.16645718 73.16645717\n",
      "  73.16645741 73.16645721]\n",
      " [73.1664572  73.1664572  73.1664572  73.1664572  73.16645719 73.16645718\n",
      "  73.16645718 73.16645717]\n",
      " [73.1664572  73.1664572  73.1664572  73.1664572  73.16645719 73.16645718\n",
      "  73.16645717 73.16645717]\n",
      " [73.1664572  73.1664572  73.1664572  73.1664572  73.16645719 73.16645718\n",
      "  73.16645717 73.16645716]\n",
      " [73.1664572  73.1664572  73.1664572  73.1664572  73.16645719 73.16645718\n",
      "  73.16645717 73.16645716]\n",
      " [73.1664572  73.1664572  73.1664572  73.1664572  73.16645719 73.16645718\n",
      "  73.16645717 73.16645716]\n",
      " [73.1664572  73.1664572  73.1664572  73.1664572  73.16645719 73.16645718\n",
      "  73.16645717 73.16645715]\n",
      " [73.1664572  73.1664572  73.1664572  73.1664572  73.16645719 73.16645718\n",
      "  73.16645715 73.16645714]\n",
      " [73.1664572  73.1664572  73.1664572  73.1664572  73.16645719 73.16645724\n",
      "  73.16645727 73.16645757]\n",
      " [73.1664572  73.1664572  73.1664572  73.1664572  73.1664572  73.16645719\n",
      "  73.16645719 73.16645718]\n",
      " [73.1664572  73.1664572  73.1664572  73.16645719 73.1664572  73.16645719\n",
      "  73.16645718 73.16645717]\n",
      " [73.1664572  73.16645719 73.1664572  73.16645719 73.1664572  73.16645719\n",
      "  73.16645717 73.16645716]\n",
      " [73.1664572  73.1664572  73.1664572  73.16645719 73.1664572  73.16645719\n",
      "  73.16645717 73.16645715]\n",
      " [73.1664572  73.1664572  73.1664572  73.16645719 73.1664572  73.16645719\n",
      "  73.16645716 73.16645714]\n",
      " [73.1664572  73.1664572  73.1664572  73.16645719 73.1664572  73.16645719\n",
      "  73.16645714 73.16645712]]\n"
     ]
    }
   ],
   "source": [
    "print(features_analytical_l1 / features_L1_rascaline)"
   ]
  },
  {
   "cell_type": "code",
   "execution_count": 29,
   "id": "active-jungle",
   "metadata": {},
   "outputs": [
    {
     "name": "stdout",
     "output_type": "stream",
     "text": [
      "[[26.69730293 26.69730293 26.69730293 26.69730293 26.69730293 26.69730293\n",
      "  26.69730293 26.69730293]\n",
      " [26.69730293 26.69730293 26.69730293 26.69730293 26.69730293 26.69730293\n",
      "  26.69730293 26.69730293]\n",
      " [26.69730293 26.69730293 26.69730293 26.69730293 26.69730293 26.69730293\n",
      "  26.69730293 26.69730293]\n",
      " [26.69730293 26.69730293 26.69730293 26.69730293 26.69730293 26.69730293\n",
      "  26.69730293 26.69730293]\n",
      " [26.69730293 26.69730293 26.69730293 26.69730293 26.69730293 26.69730293\n",
      "  26.69730293 26.69730293]\n",
      " [26.69730293 26.69730293 26.69730293 26.69730293 26.69730293 26.69730293\n",
      "  26.69730293 26.69730293]\n",
      " [26.69730293 26.69730293 26.69730293 26.69730293 26.69730293 26.69730293\n",
      "  26.69730293 26.69730293]\n",
      " [26.69730293 26.69730293 26.69730293 26.69730293 26.69730293 26.69730293\n",
      "  26.69730293 26.69730293]\n",
      " [26.69730293 26.69730293 26.69730293 26.69730293 26.69730293 26.69730293\n",
      "  26.69730293 26.69730294]\n",
      " [26.69730293 26.69730293 26.69730293 26.69730293 26.69730293 26.69730293\n",
      "  26.69730293 26.69730293]\n",
      " [26.69730293 26.69730293 26.69730293 26.69730293 26.69730293 26.69730293\n",
      "  26.69730293 26.69730293]\n",
      " [26.69730293 26.69730293 26.69730293 26.69730293 26.69730293 26.69730293\n",
      "  26.69730293 26.69730293]\n",
      " [26.69730293 26.69730293 26.69730293 26.69730293 26.69730293 26.69730293\n",
      "  26.69730293 26.69730293]\n",
      " [26.69730293 26.69730293 26.69730293 26.69730293 26.69730293 26.69730293\n",
      "  26.69730293 26.69730293]\n",
      " [26.69730293 26.69730293 26.69730293 26.69730293 26.69730293 26.69730293\n",
      "  26.69730292 26.69730292]]\n"
     ]
    }
   ],
   "source": [
    "print(features_semianalytical_general / features_L1_librascal)"
   ]
  },
  {
   "cell_type": "code",
   "execution_count": 30,
   "id": "passing-funds",
   "metadata": {},
   "outputs": [
    {
     "name": "stdout",
     "output_type": "stream",
     "text": [
      "Distance  0\n",
      "[0.14982787 0.14982787 0.14982787 0.14982787 0.14982787 0.14982787\n",
      " 0.14982787 0.14982787]\n",
      "[0.03745697 0.03745697 0.03745697 0.03745697 0.03745697 0.03745697\n",
      " 0.03745697 0.03745697]\n",
      "[0.99997191 1.00001712 0.99997832 1.00015235 1.00521822 1.00408867\n",
      " 0.97513139 0.99867971]\n",
      "\n",
      "Distance  1\n",
      "[0.14982787 0.14982787 0.14982787 0.14982787 0.14982787 0.14982787\n",
      " 0.14982787 0.14982787]\n",
      "[0.03745697 0.03745697 0.03745697 0.03745697 0.03745697 0.03745697\n",
      " 0.03745697 0.03745697]\n",
      "[0.99994802 1.00001867 0.99999452 1.00006053 0.99987585 0.99988286\n",
      " 0.99993811 1.00002107]\n",
      "\n",
      "Distance  2\n",
      "[0.14982787 0.14982787 0.14982787 0.14982787 0.14982787 0.14982787\n",
      " 0.14982787 0.14982787]\n",
      "[0.03745697 0.03745697 0.03745697 0.03745697 0.03745697 0.03745697\n",
      " 0.03745697 0.03745697]\n",
      "[0.99996013 1.00000664 1.00000775 0.99988144 1.00013652 1.00019774\n",
      " 1.0002182  1.00024155]\n",
      "\n",
      "Distance  3\n",
      "[0.14982787 0.14982787 0.14982787 0.14982787 0.14982787 0.14982787\n",
      " 0.14982787 0.14982787]\n",
      "[0.03745697 0.03745697 0.03745697 0.03745697 0.03745697 0.03745697\n",
      " 0.03745697 0.03745697]\n",
      "[1.00000806 0.99998922 1.00001267 0.99979895 1.00017042 1.00023688\n",
      " 1.00025231 1.00027926]\n",
      "\n",
      "Distance  4\n",
      "[0.14982787 0.14982787 0.14982787 0.14982787 0.14982787 0.14982787\n",
      " 0.14982787 0.14982787]\n",
      "[0.03745697 0.03745697 0.03745697 0.03745697 0.03745697 0.03745697\n",
      " 0.03745697 0.03745697]\n",
      "[1.00006645 0.99997757 1.00000941 0.99987874 1.00011341 1.00016247\n",
      " 1.0001765  1.0002268 ]\n",
      "\n",
      "Distance  5\n",
      "[0.14982787 0.14982787 0.14982787 0.14982787 0.14982787 0.14982787\n",
      " 0.14982787 0.14982787]\n",
      "[0.03745697 0.03745697 0.03745697 0.03745697 0.03745697 0.03745697\n",
      " 0.03745697 0.03745697]\n",
      "[1.00009128 0.99998055 1.00000174 0.99998361 1.00001936 1.00002543\n",
      " 1.00004265 1.00014256]\n",
      "\n",
      "Distance  6\n",
      "[0.14982787 0.14982787 0.14982787 0.14982787 0.14982787 0.14982787\n",
      " 0.14982787 0.14982787]\n",
      "[0.03745697 0.03745697 0.03745697 0.03745697 0.03745697 0.03745697\n",
      " 0.03745697 0.03745697]\n",
      "[1.00004574 1.00000012 0.99999464 1.00003441 0.99993485 0.99985923\n",
      " 0.99989672 1.00011342]\n",
      "\n",
      "Distance  7\n",
      "[0.14982787 0.14982787 0.14982787 0.14982787 0.14982787 0.14982787\n",
      " 0.14982787 0.14982787]\n",
      "[0.03745697 0.03745697 0.03745697 0.03745697 0.03745697 0.03745697\n",
      " 0.03745697 0.03745697]\n",
      "[0.99993859 1.00002894 0.99999188 1.00003695 0.99990042 0.99965611\n",
      " 0.99980938 1.00043818]\n",
      "\n",
      "Distance  8\n",
      "[0.14982787 0.14982787 0.14982787 0.14982787 0.14982787 0.14982787\n",
      " 0.14982787 0.14982787]\n",
      "[0.03745697 0.03745697 0.03745697 0.03745697 0.03745697 0.03745697\n",
      " 0.03745697 0.03745697]\n",
      "[0.99984219 1.00005051 0.99999448 1.0000178  0.99993833 1.00082562\n",
      " 0.99894158 0.98264346]\n",
      "\n",
      "Distance  9\n",
      "[0.14982787 0.14982787 0.14982787 0.14982787 0.14982787 0.14982787\n",
      " 0.14982787 0.14982787]\n",
      "[0.03745697 0.03745697 0.03745697 0.03745697 0.03745697 0.03745697\n",
      " 0.03745697 0.03745697]\n",
      "[0.99984892 1.00003974 1.00000057 0.99999779 1.0000314  0.99981095\n",
      " 0.99940857 0.9982066 ]\n",
      "\n",
      "Distance  10\n",
      "[0.14982787 0.14982787 0.14982787 0.14982787 0.14982787 0.14982787\n",
      " 0.14982787 0.14982787]\n",
      "[0.03745697 0.03745697 0.03745697 0.03745697 0.03745697 0.03745697\n",
      " 0.03745697 0.03745697]\n",
      "[0.99998259 0.9999466  1.00000638 0.99998716 1.00011281 0.99977513\n",
      " 0.99941566 0.99849398]\n",
      "\n",
      "Distance  11\n",
      "[0.14982787 0.14982787 0.14982787 0.14982787 0.14982787 0.14982787\n",
      " 0.14982787 0.14982787]\n",
      "[0.03745697 0.03745697 0.03745697 0.03745697 0.03745697 0.03745697\n",
      " 0.03745697 0.03745697]\n",
      "[1.00015818 0.99891365 1.00000821 0.99998718 1.00011952 0.99980491\n",
      " 0.99940744 0.99843902]\n",
      "\n",
      "Distance  12\n",
      "[0.14982787 0.14982787 0.14982787 0.14982787 0.14982787 0.14982787\n",
      " 0.14982787 0.14982787]\n",
      "[0.03745697 0.03745697 0.03745697 0.03745697 0.03745697 0.03745697\n",
      " 0.03745697 0.03745697]\n",
      "[1.00024307 1.00024035 1.0000044  0.99999361 1.00007053 0.99984781\n",
      " 0.99934455 0.99813657]\n",
      "\n",
      "Distance  13\n",
      "[0.14982787 0.14982787 0.14982787 0.14982787 0.14982787 0.14982787\n",
      " 0.14982787 0.14982787]\n",
      "[0.03745697 0.03745697 0.03745697 0.03745697 0.03745697 0.03745697\n",
      " 0.03745697 0.03745697]\n",
      "[1.00015504 1.00001929 0.99999663 1.00000046 1.00002805 0.99987023\n",
      " 0.99910158 0.99738235]\n",
      "\n",
      "Distance  14\n",
      "[0.14982787 0.14982787 0.14982787 0.14982787 0.14982787 0.14982787\n",
      " 0.14982787 0.14982787]\n",
      "[0.03745697 0.03745697 0.03745697 0.03745697 0.03745697 0.03745697\n",
      " 0.03745697 0.03745697]\n",
      "[0.99991126 0.99991868 0.99998988 1.0000031  1.00001853 0.99984946\n",
      " 0.99820662 0.99554767]\n",
      "\n"
     ]
    }
   ],
   "source": [
    "for i, d in enumerate(distances):\n",
    "    print('Distance ', i)\n",
    "    coeffs_rascaline = descriptor_rascaline.values[2*i].reshape(((lmax+1)**2, nmax)).T\n",
    "    coeffs_librascal = features_librascal[2*i].reshape((nmax,(lmax+1)**2))\n",
    "    coeffs_pylode = features_pylode[2*i,0]\n",
    "    \n",
    "    for coeffs in [coeffs_rascaline, coeffs_librascal, coeffs_pylode]:\n",
    "        print(coeffs[:,2] / features_analytical_general[i])\n",
    "    \n",
    "    print()"
   ]
  },
  {
   "cell_type": "markdown",
   "id": "joined-wisconsin",
   "metadata": {},
   "source": [
    "# Compare coefficients for $l\\geq 2$ <a class=\"anchor\" id=\"lgeq2\"></a>"
   ]
  },
  {
   "cell_type": "markdown",
   "id": "tender-defensive",
   "metadata": {},
   "source": [
    "## Compare coefficients for $l=2$ <a class=\"anchor\" id=\"l=2\"></a>"
   ]
  },
  {
   "cell_type": "code",
   "execution_count": 31,
   "id": "taken-setting",
   "metadata": {},
   "outputs": [],
   "source": [
    "lm_index = 6 # l**2 + l"
   ]
  },
  {
   "cell_type": "code",
   "execution_count": 32,
   "id": "secret-silly",
   "metadata": {},
   "outputs": [
    {
     "name": "stdout",
     "output_type": "stream",
     "text": [
      "Shapes of feature vectors\n",
      "rascaline (30, 128)\n",
      "librascal (30, 128)\n"
     ]
    }
   ],
   "source": [
    "print('Shapes of feature vectors')\n",
    "print('rascaline', descriptor_rascaline.values.shape)\n",
    "print('librascal', features_librascal.shape)"
   ]
  },
  {
   "cell_type": "code",
   "execution_count": 33,
   "id": "freelance-canadian",
   "metadata": {},
   "outputs": [],
   "source": [
    "features_L2_rascaline = descriptor_rascaline.values[0::2, lm_index*nmax:(lm_index+1)*nmax]"
   ]
  },
  {
   "cell_type": "code",
   "execution_count": 34,
   "id": "black-jewelry",
   "metadata": {},
   "outputs": [],
   "source": [
    "features_L2_librascal = features_librascal[0::2, lm_index::(lmax+1)**2]"
   ]
  },
  {
   "cell_type": "code",
   "execution_count": 35,
   "id": "brave-watson",
   "metadata": {},
   "outputs": [],
   "source": [
    "features_L2_pylode = features_pylode[0::2, 0, :, lm_index]"
   ]
  },
  {
   "cell_type": "code",
   "execution_count": 36,
   "id": "unique-serum",
   "metadata": {},
   "outputs": [],
   "source": [
    "features_analytical_l2 = np.zeros((len(distances), nmax))\n",
    "features_numerical_l2 = np.zeros((len(distances), nmax))\n",
    "\n",
    "for i_dist, d in enumerate(distances):\n",
    "    features_analytical_l2[i_dist] = coefficients_analytical_general_l(nmax, d, l=2)\n",
    "    features_numerical_l2[i_dist] = coefficients_semianalytical_general_l(nmax, d, l=2)"
   ]
  },
  {
   "cell_type": "code",
   "execution_count": 37,
   "id": "medical-implementation",
   "metadata": {},
   "outputs": [],
   "source": [
    "delta_l2 = np.linalg.norm(features_analytical_l2 - features_numerical_l2)"
   ]
  },
  {
   "cell_type": "code",
   "execution_count": 38,
   "id": "breeding-transcription",
   "metadata": {},
   "outputs": [
    {
     "name": "stdout",
     "output_type": "stream",
     "text": [
      "[[1.00003765 1.00003907 0.99991463 1.00082442 0.99768113 0.99726798\n",
      "  0.99784288 0.99843231]\n",
      " [0.99992621 1.00004647 0.99995205 1.00074974 0.99925219 0.99909866\n",
      "  0.99917621 0.99930509]\n",
      " [0.99986331 1.00002646 0.99999458 1.00016865 0.99987659 0.99984856\n",
      "  0.99986309 0.99987699]\n",
      " [0.99989788 0.9999889  1.00002284 0.99968885 1.00018865 1.00024909\n",
      "  1.00025059 1.0002137 ]\n",
      " [1.00002754 0.9999528  1.0000303  0.99966114 1.00028168 1.00039828\n",
      "  1.00039061 1.00031372]\n",
      " [1.00017933 0.99994002 1.00002024 0.99983158 1.00020758 1.0003247\n",
      "  1.00028913 1.00015478]\n",
      " [1.00023195 0.9999668  1.00000179 0.99998182 1.00003085 1.00001446\n",
      "  0.9998887  0.99963034]\n",
      " [1.00009778 1.00003544 0.99998549 1.00005397 0.99983804 0.99912315\n",
      "  0.99855203 0.99789936]\n",
      " [0.99982619 1.0001277  0.99997921 1.00006136 0.99972917 1.00334856\n",
      "  1.00422927 1.01021579]\n",
      " [0.99961594 1.00019833 0.99998539 1.0000352  0.99977664 1.00057033\n",
      "  1.00100395 1.00216303]\n",
      " [0.99966834 1.00013179 1.00000029 1.00000353 0.99994403 1.0001487\n",
      "  1.00047311 1.001387  ]\n",
      " [0.99999977 1.01338138 1.00001555 0.99998379 1.00007696 1.00000862\n",
      "  1.00032885 1.00132264]\n",
      " [1.0004028  1.00059898 1.00002163 0.99998156 1.00007842 1.0000147\n",
      "  1.00044832 1.00173692]\n",
      " [1.00057521 1.00026317 1.00001202 0.99999296 1.00000212 1.00010799\n",
      "  1.00090854 1.00278857]\n",
      " [1.00028121 0.9999626  0.99998694 1.00000901 0.99993353 1.00023494\n",
      "  1.00225807 1.00512464]]\n"
     ]
    }
   ],
   "source": [
    "print(features_L2_pylode / features_analytical_l2)"
   ]
  },
  {
   "cell_type": "code",
   "execution_count": 39,
   "id": "catholic-seeking",
   "metadata": {},
   "outputs": [
    {
     "name": "stdout",
     "output_type": "stream",
     "text": [
      "[[1.00003765 1.00003907 0.99991463 1.00082442 0.99768113 0.99726798\n",
      "  0.99784288 0.99843231]\n",
      " [0.99992621 1.00004647 0.99995205 1.00074974 0.99925219 0.99909866\n",
      "  0.99917621 0.99930509]\n",
      " [0.99986331 1.00002646 0.99999458 1.00016865 0.99987659 0.99984856\n",
      "  0.99986309 0.99987699]\n",
      " [0.99989788 0.9999889  1.00002284 0.99968885 1.00018865 1.00024909\n",
      "  1.00025059 1.0002137 ]\n",
      " [1.00002754 0.9999528  1.0000303  0.99966114 1.00028168 1.00039828\n",
      "  1.00039061 1.00031372]\n",
      " [1.00017933 0.99994002 1.00002024 0.99983158 1.00020758 1.0003247\n",
      "  1.00028913 1.00015478]\n",
      " [1.00023195 0.9999668  1.00000179 0.99998182 1.00003085 1.00001446\n",
      "  0.9998887  0.99963034]\n",
      " [1.00009778 1.00003544 0.99998549 1.00005397 0.99983804 0.99912315\n",
      "  0.99855203 0.99789936]\n",
      " [0.99982619 1.0001277  0.99997921 1.00006136 0.99972917 1.00334856\n",
      "  1.00422927 1.01021579]\n",
      " [0.99961594 1.00019833 0.99998539 1.0000352  0.99977664 1.00057033\n",
      "  1.00100395 1.00216303]\n",
      " [0.99966834 1.00013179 1.00000029 1.00000353 0.99994403 1.0001487\n",
      "  1.00047311 1.001387  ]\n",
      " [0.99999977 1.01338138 1.00001555 0.99998379 1.00007696 1.00000862\n",
      "  1.00032885 1.00132264]\n",
      " [1.0004028  1.00059898 1.00002163 0.99998156 1.00007842 1.0000147\n",
      "  1.00044832 1.00173692]\n",
      " [1.00057521 1.00026317 1.00001202 0.99999296 1.00000212 1.00010799\n",
      "  1.00090854 1.00278857]\n",
      " [1.00028121 0.9999626  0.99998694 1.00000901 0.99993353 1.00023494\n",
      "  1.00225807 1.00512464]]\n"
     ]
    }
   ],
   "source": [
    "print(features_L2_pylode / features_numerical_l2)"
   ]
  },
  {
   "cell_type": "code",
   "execution_count": 40,
   "id": "confidential-pipeline",
   "metadata": {},
   "outputs": [
    {
     "name": "stdout",
     "output_type": "stream",
     "text": [
      "[[0.03745697 0.03745697 0.03745697 0.03745697 0.03745697 0.03745697\n",
      "  0.03745697 0.03745697]\n",
      " [0.03745697 0.03745697 0.03745697 0.03745697 0.03745697 0.03745697\n",
      "  0.03745697 0.03745697]\n",
      " [0.03745697 0.03745697 0.03745697 0.03745697 0.03745697 0.03745697\n",
      "  0.03745697 0.03745697]\n",
      " [0.03745697 0.03745697 0.03745697 0.03745697 0.03745697 0.03745697\n",
      "  0.03745697 0.03745697]\n",
      " [0.03745697 0.03745697 0.03745697 0.03745697 0.03745697 0.03745697\n",
      "  0.03745697 0.03745697]\n",
      " [0.03745697 0.03745697 0.03745697 0.03745697 0.03745697 0.03745697\n",
      "  0.03745697 0.03745697]\n",
      " [0.03745697 0.03745697 0.03745697 0.03745697 0.03745697 0.03745697\n",
      "  0.03745697 0.03745697]\n",
      " [0.03745697 0.03745697 0.03745697 0.03745697 0.03745697 0.03745697\n",
      "  0.03745697 0.03745697]\n",
      " [0.03745697 0.03745697 0.03745697 0.03745697 0.03745697 0.03745697\n",
      "  0.03745697 0.03745697]\n",
      " [0.03745697 0.03745697 0.03745697 0.03745697 0.03745697 0.03745697\n",
      "  0.03745697 0.03745697]\n",
      " [0.03745697 0.03745697 0.03745697 0.03745697 0.03745697 0.03745697\n",
      "  0.03745697 0.03745697]\n",
      " [0.03745697 0.03745697 0.03745697 0.03745697 0.03745697 0.03745697\n",
      "  0.03745697 0.03745697]\n",
      " [0.03745697 0.03745697 0.03745697 0.03745697 0.03745697 0.03745697\n",
      "  0.03745697 0.03745697]\n",
      " [0.03745697 0.03745697 0.03745697 0.03745697 0.03745697 0.03745697\n",
      "  0.03745697 0.03745697]\n",
      " [0.03745697 0.03745697 0.03745697 0.03745697 0.03745697 0.03745697\n",
      "  0.03745697 0.03745697]]\n"
     ]
    }
   ],
   "source": [
    "print(features_L2_librascal / features_numerical_l2)"
   ]
  },
  {
   "cell_type": "code",
   "execution_count": 41,
   "id": "concerned-divide",
   "metadata": {},
   "outputs": [
    {
     "name": "stdout",
     "output_type": "stream",
     "text": [
      "[[0.14982787 0.14982787 0.14982787 0.14982787 0.14982787 0.14982787\n",
      "  0.14982787 0.14982787]\n",
      " [0.14982787 0.14982787 0.14982787 0.14982787 0.14982787 0.14982787\n",
      "  0.14982787 0.14982787]\n",
      " [0.14982787 0.14982787 0.14982787 0.14982787 0.14982787 0.14982787\n",
      "  0.14982787 0.14982787]\n",
      " [0.14982787 0.14982787 0.14982787 0.14982787 0.14982787 0.14982787\n",
      "  0.14982787 0.14982787]\n",
      " [0.14982787 0.14982787 0.14982787 0.14982787 0.14982787 0.14982787\n",
      "  0.14982787 0.14982787]\n",
      " [0.14982787 0.14982787 0.14982787 0.14982787 0.14982787 0.14982787\n",
      "  0.14982787 0.14982787]\n",
      " [0.14982787 0.14982787 0.14982787 0.14982787 0.14982787 0.14982787\n",
      "  0.14982787 0.14982787]\n",
      " [0.14982787 0.14982787 0.14982787 0.14982787 0.14982787 0.14982787\n",
      "  0.14982787 0.14982787]\n",
      " [0.14982787 0.14982787 0.14982787 0.14982787 0.14982787 0.14982787\n",
      "  0.14982787 0.14982787]\n",
      " [0.14982787 0.14982787 0.14982787 0.14982787 0.14982787 0.14982787\n",
      "  0.14982787 0.14982787]\n",
      " [0.14982787 0.14982787 0.14982787 0.14982787 0.14982787 0.14982787\n",
      "  0.14982787 0.14982787]\n",
      " [0.14982787 0.14982787 0.14982787 0.14982787 0.14982787 0.14982787\n",
      "  0.14982787 0.14982787]\n",
      " [0.14982787 0.14982787 0.14982787 0.14982787 0.14982787 0.14982787\n",
      "  0.14982787 0.14982787]\n",
      " [0.14982787 0.14982787 0.14982787 0.14982787 0.14982787 0.14982787\n",
      "  0.14982787 0.14982787]\n",
      " [0.14982787 0.14982787 0.14982787 0.14982787 0.14982787 0.14982787\n",
      "  0.14982787 0.14982787]]\n"
     ]
    }
   ],
   "source": [
    "print(features_L2_rascaline / features_numerical_l2)"
   ]
  },
  {
   "cell_type": "markdown",
   "id": "editorial-engine",
   "metadata": {},
   "source": [
    "## Compare coefficients for general $l$ <a class=\"anchor\" id=\"l_general\"></a>"
   ]
  },
  {
   "cell_type": "code",
   "execution_count": 42,
   "id": "disabled-platform",
   "metadata": {},
   "outputs": [
    {
     "name": "stdout",
     "output_type": "stream",
     "text": [
      "pyLODE vs analytical coefficients for l = 1\n",
      "[[0.999972 1.000017 0.999978 1.000152 1.005218 1.004089 0.975131 0.99868 ]\n",
      " [0.999948 1.000019 0.999995 1.000061 0.999876 0.999883 0.999938 1.000021]\n",
      " [0.99996  1.000007 1.000008 0.999881 1.000137 1.000198 1.000218 1.000242]\n",
      " [1.000008 0.999989 1.000013 0.999799 1.00017  1.000237 1.000252 1.000279]\n",
      " [1.000066 0.999978 1.000009 0.999879 1.000113 1.000162 1.000176 1.000227]\n",
      " [1.000091 0.999981 1.000002 0.999984 1.000019 1.000025 1.000043 1.000143]\n",
      " [1.000046 1.       0.999995 1.000034 0.999935 0.999859 0.999897 1.000113]\n",
      " [0.999939 1.000029 0.999992 1.000037 0.9999   0.999656 0.999809 1.000438]\n",
      " [0.999842 1.000051 0.999994 1.000018 0.999938 1.000826 0.998942 0.982643]\n",
      " [0.999849 1.00004  1.000001 0.999998 1.000031 0.999811 0.999409 0.998207]\n",
      " [0.999983 0.999947 1.000006 0.999987 1.000113 0.999775 0.999416 0.998494]\n",
      " [1.000158 0.998914 1.000008 0.999987 1.00012  0.999805 0.999407 0.998439]\n",
      " [1.000243 1.00024  1.000004 0.999994 1.000071 0.999848 0.999345 0.998137]\n",
      " [1.000155 1.000019 0.999997 1.       1.000028 0.99987  0.999102 0.997382]\n",
      " [0.999911 0.999919 0.99999  1.000003 1.000019 0.999849 0.998207 0.995548]]\n",
      "pyLODE vs rascaline coefficients for l = 1\n",
      "[[6.674138 6.67444  6.674181 6.675343 6.709154 6.701615 6.508345 6.665514]\n",
      " [6.673979 6.67445  6.674289 6.67473  6.673497 6.673544 6.673913 6.674466]\n",
      " [6.67406  6.67437  6.674377 6.673534 6.675237 6.675646 6.675782 6.675938]\n",
      " [6.674379 6.674254 6.67441  6.672984 6.675463 6.675907 6.67601  6.67619 ]\n",
      " [6.674769 6.674176 6.674389 6.673516 6.675083 6.67541  6.675504 6.675839]\n",
      " [6.674935 6.674196 6.674337 6.674216 6.674455 6.674495 6.67461  6.675277]\n",
      " [6.674631 6.674327 6.67429  6.674555 6.673891 6.673386 6.673636 6.675083]\n",
      " [6.673916 6.674519 6.674272 6.674572 6.673661 6.672031 6.673053 6.67725 ]\n",
      " [6.673272 6.674663 6.674289 6.674445 6.673914 6.679836 6.667262 6.558483]\n",
      " [6.673317 6.674591 6.67433  6.674311 6.674535 6.673064 6.670378 6.662356]\n",
      " [6.67421  6.673969 6.674368 6.67424  6.675079 6.672825 6.670426 6.664274]\n",
      " [6.675381 6.667075 6.674381 6.67424  6.675123 6.673024 6.670371 6.663907]\n",
      " [6.675948 6.67593  6.674355 6.674283 6.674796 6.67331  6.669951 6.661889]\n",
      " [6.675361 6.674455 6.674303 6.674329 6.674513 6.67346  6.668329 6.656855]\n",
      " [6.673733 6.673783 6.674258 6.674346 6.674449 6.673321 6.662356 6.644609]]\n",
      "Difference between numerical and analytical evaluation =  3.2572434721308636e-14\n",
      "\n",
      "pyLODE vs analytical coefficients for l = 2\n",
      "[[1.000038 1.000039 0.999915 1.000824 0.997681 0.997268 0.997843 0.998432]\n",
      " [0.999926 1.000046 0.999952 1.00075  0.999252 0.999099 0.999176 0.999305]\n",
      " [0.999863 1.000026 0.999995 1.000169 0.999877 0.999849 0.999863 0.999877]\n",
      " [0.999898 0.999989 1.000023 0.999689 1.000189 1.000249 1.000251 1.000214]\n",
      " [1.000028 0.999953 1.00003  0.999661 1.000282 1.000398 1.000391 1.000314]\n",
      " [1.000179 0.99994  1.00002  0.999832 1.000208 1.000325 1.000289 1.000155]\n",
      " [1.000232 0.999967 1.000002 0.999982 1.000031 1.000014 0.999889 0.99963 ]\n",
      " [1.000098 1.000035 0.999985 1.000054 0.999838 0.999123 0.998552 0.997899]\n",
      " [0.999826 1.000128 0.999979 1.000061 0.999729 1.003349 1.004229 1.010216]\n",
      " [0.999616 1.000198 0.999985 1.000035 0.999777 1.00057  1.001004 1.002163]\n",
      " [0.999668 1.000132 1.       1.000004 0.999944 1.000149 1.000473 1.001387]\n",
      " [1.       1.013381 1.000016 0.999984 1.000077 1.000009 1.000329 1.001323]\n",
      " [1.000403 1.000599 1.000022 0.999982 1.000078 1.000015 1.000448 1.001737]\n",
      " [1.000575 1.000263 1.000012 0.999993 1.000002 1.000108 1.000909 1.002789]\n",
      " [1.000281 0.999963 0.999987 1.000009 0.999934 1.000235 1.002258 1.005125]]\n",
      "pyLODE vs rascaline coefficients for l = 2\n",
      "[[6.674577 6.674587 6.673756 6.679828 6.658849 6.656091 6.659928 6.663862]\n",
      " [6.673833 6.674636 6.674006 6.67933  6.669335 6.66831  6.668827 6.669688]\n",
      " [6.673413 6.674502 6.67429  6.675451 6.673502 6.673315 6.673412 6.673505]\n",
      " [6.673644 6.674252 6.674478 6.672249 6.675585 6.675988 6.675998 6.675752]\n",
      " [6.67451  6.674011 6.674528 6.672064 6.676206 6.676984 6.676933 6.67642 ]\n",
      " [6.675523 6.673925 6.674461 6.673202 6.675711 6.676493 6.676255 6.675359]\n",
      " [6.675874 6.674104 6.674338 6.674204 6.674532 6.674422 6.673583 6.671858]\n",
      " [6.674978 6.674562 6.674229 6.674686 6.673245 6.668473 6.664662 6.660305]\n",
      " [6.673166 6.675178 6.674187 6.674735 6.672518 6.696675 6.702553 6.742509]\n",
      " [6.671762 6.675649 6.674228 6.674561 6.672835 6.678132 6.681026 6.688762]\n",
      " [6.672112 6.675205 6.674328 6.674349 6.673952 6.675318 6.677483 6.683583]\n",
      " [6.674324 6.763637 6.674429 6.674218 6.674839 6.674383 6.676521 6.683153]\n",
      " [6.677014 6.678324 6.67447  6.674203 6.674849 6.674424 6.677318 6.685918]\n",
      " [6.678165 6.676082 6.674406 6.674279 6.67434  6.675046 6.68039  6.692938]\n",
      " [6.676203 6.674076 6.674239 6.674386 6.673882 6.675894 6.689397 6.708529]]\n",
      "Difference between numerical and analytical evaluation =  3.307623452135908e-14\n",
      "\n",
      "pyLODE vs analytical coefficients for l = 3\n",
      "[[1.000424 0.999984 0.999987 0.999574 1.000388 1.000493 1.000463 1.000509]\n",
      " [1.000211 1.000041 0.999973 1.000117 1.000076 1.000174 1.000242 1.000362]\n",
      " [0.999894 1.000069 0.999978 1.000328 0.999927 0.999979 1.000069 1.000229]\n",
      " [0.999656 1.000057 0.999992 1.000188 0.999901 0.999909 0.999988 1.000168]\n",
      " [0.999653 1.00001  1.000004 1.000032 0.99995  0.999938 1.000001 1.000208]\n",
      " [0.999923 0.999947 1.000011 0.999962 1.000024 1.000037 1.000107 1.000389]\n",
      " [1.000317 0.9999   1.000011 0.999956 1.00008  1.000202 1.000359 1.000884]\n",
      " [1.000547 0.999905 1.000005 0.999976 1.000089 1.000696 1.00159  1.003378]\n",
      " [1.00038  0.999999 0.999997 0.999997 1.000047 0.999428 0.998605 0.995307]\n",
      " [0.999867 1.00023  0.999991 1.00001  0.999988 0.999866 0.9994   0.997979]\n",
      " [0.999357 1.000852 0.999991 1.000011 0.999967 0.999916 0.999502 0.99829 ]\n",
      " [0.999253 0.998752 0.999997 1.000004 1.000004 0.999893 0.999432 0.998132]\n",
      " [0.999725 1.000106 1.000006 0.999996 1.000054 0.999845 0.999216 0.997596]\n",
      " [1.000596 1.00035  1.000013 0.99999  1.000079 0.99979  0.998732 0.996452]\n",
      " [1.001418 1.000355 1.000015 0.999989 1.000077 0.999738 0.997295 0.993886]]\n",
      "pyLODE vs rascaline coefficients for l = 3\n",
      "[[6.677157 6.674216 6.674238 6.67148  6.676919 6.677616 6.677419 6.67772 ]\n",
      " [6.675731 6.674602 6.674145 6.675106 6.67483  6.675488 6.675938 6.676743]\n",
      " [6.673615 6.674787 6.674179 6.676517 6.673837 6.674187 6.674788 6.675852]\n",
      " [6.672029 6.674706 6.674269 6.675578 6.673665 6.673718 6.674248 6.675449]\n",
      " [6.672012 6.674391 6.674355 6.67454  6.673992 6.673911 6.674334 6.675716]\n",
      " [6.673812 6.673973 6.674402 6.674075 6.674487 6.674573 6.675037 6.676922]\n",
      " [6.676442 6.673658 6.674398 6.67403  6.674861 6.675676 6.676721 6.680224]\n",
      " [6.677976 6.673692 6.674356 6.674162 6.67492  6.678972 6.684937 6.696873]\n",
      " [6.676864 6.67432  6.674303 6.674309 6.674641 6.670505 6.665017 6.643   ]\n",
      " [6.673438 6.675859 6.674267 6.674391 6.674246 6.673432 6.67032  6.660839]\n",
      " [6.670032 6.680011 6.674267 6.674399 6.674107 6.673767 6.670999 6.662913]\n",
      " [6.669341 6.665998 6.674304 6.674356 6.67435  6.673614 6.670533 6.661858]\n",
      " [6.672491 6.675036 6.674364 6.674299 6.674688 6.673288 6.669091 6.65828 ]\n",
      " [6.6783   6.676662 6.674415 6.67426  6.674855 6.672924 6.665861 6.650644]\n",
      " [6.683791 6.676698 6.674427 6.67425  6.674841 6.672577 6.656275 6.633519]]\n",
      "Difference between numerical and analytical evaluation =  2.922428565377758e-14\n",
      "\n"
     ]
    }
   ],
   "source": [
    "for l in range(1, lmax+1):\n",
    "    lm_index = l**2 + l\n",
    "    \n",
    "    # Get the features from the spherical expansion codes\n",
    "    features_l_pylode = features_pylode[0::2, 0, :, lm_index]\n",
    "    features_l_rascaline = descriptor_rascaline.values[0::2, lm_index*nmax:(lm_index+1)*nmax] \n",
    "    features_l_librascal = features_librascal[0::2, lm_index::(lmax+1)**2]\n",
    "    \n",
    "    # Get the features from the analytical and numerical evaluations\n",
    "    features_l_analytical = np.zeros((len(distances), nmax))\n",
    "    features_l_numerical = np.zeros((len(distances), nmax))\n",
    "    for i_dist, d in enumerate(distances):\n",
    "        features_l_analytical[i_dist] = coefficients_analytical_general_l(nmax, d, l=l)\n",
    "        features_l_numerical[i_dist] = coefficients_semianalytical_general_l(nmax, d, l=l)\n",
    "    assert_allclose(features_l_analytical, features_l_numerical, atol=1e-9, rtol=1e-7)\n",
    "    \n",
    "    # Compare the coefficients\n",
    "    ratios = features_l_pylode / features_l_analytical\n",
    "    err = np.linalg.norm(features_l_analytical - features_l_numerical)\n",
    "    ratios_rascal = features_l_pylode / features_l_rascaline\n",
    "    print(f'pyLODE vs analytical coefficients for l = {l}')\n",
    "    print(np.round(ratios,6))\n",
    "    print(f'pyLODE vs rascaline coefficients for l = {l}')\n",
    "    print(np.round(ratios_rascal, 6))\n",
    "    print('Difference between numerical and analytical evaluation = ', err)\n",
    "    print()"
   ]
  },
  {
   "cell_type": "markdown",
   "id": "tribal-preservation",
   "metadata": {},
   "source": [
    "# Coefficients for $l=0$  <a class=\"anchor\" id=\"l=0\"></a>"
   ]
  },
  {
   "cell_type": "markdown",
   "id": "spanish-cherry",
   "metadata": {},
   "source": [
    "## Compute the exact expressions for reference <a class=\"anchor\" id=\"l=0exact\"></a>"
   ]
  },
  {
   "cell_type": "markdown",
   "id": "biblical-sellers",
   "metadata": {},
   "source": [
    "### Hybrid analytical-numerical computation"
   ]
  },
  {
   "cell_type": "markdown",
   "id": "theoretical-worker",
   "metadata": {},
   "source": [
    "Here, we use the convention that the Gaussian density is normalized to one, i.e. contains the factor of $1/(2\\pi\\sigma^2)^{3/2}$. The spherical harmonic $Y_{00}$ is the constant function whose value is $1/\\sqrt{4\\pi}$ and the GTO's are orthonormalized starting from the primitive ones using the usual procedure."
   ]
  },
  {
   "cell_type": "code",
   "execution_count": 43,
   "id": "chief-composition",
   "metadata": {},
   "outputs": [],
   "source": [
    "def compute_coeffs_explicit_l0(d):\n",
    "    # Start computing coefficients for l=0\n",
    "    featvec = np.zeros((nmax))\n",
    "    \n",
    "    # Case 1: If the distance is zero, the integrals\n",
    "    # can easily be computed by hand. Furthermore,\n",
    "    # separating this case out is convenient since\n",
    "    # the general expression as a function of the pair\n",
    "    # distance d has a (removable) singularity at d=0\n",
    "    if d == 0:\n",
    "        prefac = np.sqrt(np.pi)\n",
    "        prefac /= (np.pi*smearing**2)**(3/4)\n",
    "        \n",
    "        featvec = np.zeros((nmax))\n",
    "        for n in range(nmax):\n",
    "            b = 0.5 * (1/smearing**2 + 1/sigma[n]**2)\n",
    "            neff = (3+n) / 2\n",
    "            featvec[n] = prefac * normalizations[n] * b**(-neff) * gamma(neff)\n",
    "    \n",
    "    # Case 2: For nonzero pair distances (i.e. all proper neighbor contributions),\n",
    "    # the final integral over the radial variable results in a hypergeometric function\n",
    "    # in a fully analytical treatment. Here, we perform the final integral numerically.\n",
    "    else:\n",
    "        # Define auxilary quantities and prefactors\n",
    "        a = d / smearing**2\n",
    "        prefac = 1. / (np.sqrt(2) * np.pi * smearing * d) * np.exp(-0.5*d**2/smearing**2)\n",
    "        prefac *= (2*np.pi*smearing**2)**1.5 / (np.pi*smearing**2)**(3/4)\n",
    "        \n",
    "        # Start main loop\n",
    "        for n in range(nmax):\n",
    "            # Compute contribution for primitive GTO function\n",
    "            powerlaw = lambda r: r**(1+n)\n",
    "            b = 0.5 * (1/smearing**2 + 1/sigma[n]**2)\n",
    "            gaussian = lambda r: np.exp(-b * r**2)\n",
    "            sinh = lambda r: np.sinh(a * r)\n",
    "            integrand = lambda r: powerlaw(r) * gaussian(r) * sinh(r)\n",
    "\n",
    "            # Numerical Integration\n",
    "            featvec[n] = prefac * normalizations[n] * quad(integrand, 1e-10, 4.5 * rcut)[0]\n",
    "    #return featvec\n",
    "    return transformation @ featvec"
   ]
  },
  {
   "cell_type": "code",
   "execution_count": 44,
   "id": "working-satellite",
   "metadata": {},
   "outputs": [
    {
     "data": {
      "text/plain": [
       "Text(0, 0.5, 'Contribution to <n00|rho_i>')"
      ]
     },
     "execution_count": 44,
     "metadata": {},
     "output_type": "execute_result"
    },
    {
     "data": {
      "image/png": "[encoded data removed]",
      "text/plain": [
       "<Figure size 432x288 with 1 Axes>"
      ]
     },
     "metadata": {
      "needs_background": "light"
     },
     "output_type": "display_data"
    }
   ],
   "source": [
    "# Start plotting the behavior of the neighbor contribution as a function of the pair distance r_ij\n",
    "Ndist = 50\n",
    "dd = np.linspace(0, rcut, Ndist)\n",
    "coeffs_exact = np.zeros((nmax, Ndist))\n",
    "for i, d in enumerate(dd):\n",
    "    coeffs_exact[:,i] = compute_coeffs_explicit_l0(d)\n",
    "\n",
    "\n",
    "# Make plot\n",
    "for n in range(nmax):\n",
    "    plt.plot(dd, coeffs_exact[n], label=f'n={n}')\n",
    "plt.legend()\n",
    "plt.xlabel('Pair distance rij')\n",
    "plt.ylabel('Contribution to <n00|rho_i>')"
   ]
  },
  {
   "cell_type": "markdown",
   "id": "piano-apache",
   "metadata": {},
   "source": [
    "Remark: This plot was mostly used to make sure that the implementation for small distances $r_{ij} \\rightarrow 0$ does indeed converge to the special case $r_{ij}=0$ which is implemented separately."
   ]
  },
  {
   "cell_type": "markdown",
   "id": "provincial-kitty",
   "metadata": {},
   "source": [
    "### Comparison to fully analytical general expression"
   ]
  },
  {
   "cell_type": "code",
   "execution_count": 45,
   "id": "chinese-throw",
   "metadata": {},
   "outputs": [
    {
     "name": "stderr",
     "output_type": "stream",
     "text": [
      "<ipython-input-13-71a9a352488c>:14: RuntimeWarning: divide by zero encountered in double_scalars\n",
      "  mod_sph_bessel = lambda x: np.sqrt(np.pi/2/x) * iv(l + 0.5, x)\n",
      "<ipython-input-13-71a9a352488c>:14: RuntimeWarning: invalid value encountered in double_scalars\n",
      "  mod_sph_bessel = lambda x: np.sqrt(np.pi/2/x) * iv(l + 0.5, x)\n",
      "<ipython-input-13-71a9a352488c>:20: IntegrationWarning: The occurrence of roundoff error is detected, which prevents \n",
      "  the requested tolerance from being achieved.  The error may be \n",
      "  underestimated.\n",
      "  featvec[n] = normalizations[n] * quad(integrand, eps, 4.5*rcut)[0]\n"
     ]
    }
   ],
   "source": [
    "coeffs_from_general_analytical = np.zeros((nmax, Ndist))\n",
    "coeffs_from_general_numerical = np.zeros((nmax, Ndist))\n",
    "for i, d in enumerate(dd):\n",
    "    coeffs_from_general_analytical[:,i] = coefficients_analytical_general_l(nmax, d, l=0)\n",
    "    coeffs_from_general_numerical[:,i] = coefficients_semianalytical_general_l(nmax, d, l=0)"
   ]
  },
  {
   "cell_type": "code",
   "execution_count": 46,
   "id": "stylish-popularity",
   "metadata": {},
   "outputs": [
    {
     "data": {
      "text/plain": [
       "Text(0, 0.5, 'Contribution to <n00|rho_i>')"
      ]
     },
     "execution_count": 46,
     "metadata": {},
     "output_type": "execute_result"
    },
    {
     "data": {
      "image/png": "[encoded data removed]",
      "text/plain": [
       "<Figure size 432x288 with 1 Axes>"
      ]
     },
     "metadata": {
      "needs_background": "light"
     },
     "output_type": "display_data"
    }
   ],
   "source": [
    "# Make plot\n",
    "for n in range(nmax):\n",
    "    plt.plot(dd, coeffs_exact[n], 'k')\n",
    "    plt.plot(dd, -0.01+coeffs_from_general_analytical[n], 'b')\n",
    "    plt.plot(dd, 0.01+coeffs_from_general_numerical[n], 'r')\n",
    "    \n",
    "plt.plot(dd, coeffs_exact[0], label=f'exact', c='k')\n",
    "plt.plot(dd, 0.01+coeffs_from_general_analytical[0], label=f'analytical', c='b')\n",
    "plt.plot(dd, -0.01+coeffs_from_general_numerical[0], label=f'numerical', c='r')\n",
    "plt.legend()\n",
    "plt.xlabel('Pair distance rij')\n",
    "plt.ylabel('Contribution to <n00|rho_i>')"
   ]
  },
  {
   "cell_type": "code",
   "execution_count": 47,
   "id": "crucial-joint",
   "metadata": {},
   "outputs": [
    {
     "name": "stdout",
     "output_type": "stream",
     "text": [
      "2.065819130578419e-15\n",
      "1.87931397382568e-15\n",
      "4.2105373992304264e-15\n",
      "4.3846121415455044e-15\n",
      "1.0083629377644011e-14\n",
      "1.0187525901307643e-14\n",
      "2.6263277329377824e-14\n",
      "2.666590151462467e-14\n",
      "4.6813404661281836e-14\n",
      "4.6007622750133644e-14\n",
      "5.368092002428532e-14\n",
      "5.429256333417508e-14\n",
      "3.63123144249675e-14\n",
      "3.560648353002623e-14\n",
      "1.2006001755488933e-14\n",
      "1.1910038537128725e-14\n"
     ]
    }
   ],
   "source": [
    "for n in range(nmax):\n",
    "    diff1 = coeffs_exact[n] - coeffs_from_general_analytical[n]\n",
    "    diff2 = coeffs_from_general_numerical[n] - coeffs_from_general_analytical[n]\n",
    "    print(np.linalg.norm(diff1))\n",
    "    print(np.linalg.norm(diff2[1:])) # first entry at d=0 is NaN for numerical evaluation"
   ]
  },
  {
   "cell_type": "markdown",
   "id": "split-stomach",
   "metadata": {},
   "source": [
    "## Compare exact coefficients with those from pyLODE and Rascal: Center atom contribution <a class=\"anchor\" id=\"l=0center\"></a>"
   ]
  },
  {
   "cell_type": "markdown",
   "id": "corporate-matthew",
   "metadata": {},
   "source": [
    "Note that $l=0$ is more complicated compared to $l=1,2,\\dots$ even for dimers since the center atom contributes to the density as well. We begin this investigation by using a frame that only consists of a single atom."
   ]
  },
  {
   "cell_type": "markdown",
   "id": "historical-preservation",
   "metadata": {},
   "source": [
    "### Get the coefficients from the three codes"
   ]
  },
  {
   "cell_type": "code",
   "execution_count": 48,
   "id": "taken-resistance",
   "metadata": {},
   "outputs": [],
   "source": [
    "Nscalings = 4\n",
    "scalings = np.linspace(1, 1.5, Nscalings)\n",
    "for scale in scalings:\n",
    "    frames.append(Atoms('O', positions=[[1,1,1]], cell=scale * cell, pbc=True))\n",
    "#frames.append(Atoms('O', positions=[[1,1,1]], cell=cell, pbc=True))\n",
    "#frames.append(Atoms('O', positions=[[1,1,1]], cell=1.2*cell, pbc=True))\n",
    "#frames.append(Atoms('O', positions=[[1,1,1]], cell=1.4*cell, pbc=True))"
   ]
  },
  {
   "cell_type": "code",
   "execution_count": 49,
   "id": "wicked-sierra",
   "metadata": {},
   "outputs": [],
   "source": [
    "calculator_pylode.transform(frames)\n",
    "features_pylode_single = calculator_pylode.features[-Nscalings:]\n",
    "features_librascal_single = calculator_librascal.transform(frames).get_features(calculator_librascal)[-Nscalings:]\n",
    "features_rascaline_single = calculator_rascaline.compute(frames).values[-Nscalings:]"
   ]
  },
  {
   "cell_type": "markdown",
   "id": "entertaining-obligation",
   "metadata": {},
   "source": [
    "### Sanity check 1: Make sure the feature vectors only contain nonzero entries for l=0"
   ]
  },
  {
   "cell_type": "code",
   "execution_count": 50,
   "id": "little-motion",
   "metadata": {},
   "outputs": [
    {
     "data": {
      "text/plain": [
       "(4, 1, 8, 16)"
      ]
     },
     "execution_count": 50,
     "metadata": {},
     "output_type": "execute_result"
    }
   ],
   "source": [
    "features_pylode_single.shape"
   ]
  },
  {
   "cell_type": "code",
   "execution_count": 51,
   "id": "dressed-century",
   "metadata": {},
   "outputs": [
    {
     "data": {
      "text/plain": [
       "(4, 128)"
      ]
     },
     "execution_count": 51,
     "metadata": {},
     "output_type": "execute_result"
    }
   ],
   "source": [
    "features_librascal_single.shape"
   ]
  },
  {
   "cell_type": "code",
   "execution_count": 52,
   "id": "likely-occurrence",
   "metadata": {},
   "outputs": [
    {
     "data": {
      "text/plain": [
       "(4, 128)"
      ]
     },
     "execution_count": 52,
     "metadata": {},
     "output_type": "execute_result"
    }
   ],
   "source": [
    "features_rascaline_single.shape"
   ]
  },
  {
   "cell_type": "code",
   "execution_count": 53,
   "id": "individual-tomato",
   "metadata": {},
   "outputs": [
    {
     "name": "stdout",
     "output_type": "stream",
     "text": [
      "[[ 9.87419e-01  1.49696e-01 -3.46860e-02  7.25100e-03  1.33660e-02\n",
      "  -7.26300e-03  7.29000e-04  1.87000e-04]\n",
      " [ 0.00000e+00  0.00000e+00  0.00000e+00  0.00000e+00  0.00000e+00\n",
      "   0.00000e+00  0.00000e+00  0.00000e+00]\n",
      " [ 0.00000e+00  0.00000e+00  0.00000e+00  0.00000e+00  0.00000e+00\n",
      "   0.00000e+00  0.00000e+00  0.00000e+00]\n",
      " [ 0.00000e+00  0.00000e+00  0.00000e+00  0.00000e+00  0.00000e+00\n",
      "   0.00000e+00  0.00000e+00  0.00000e+00]\n",
      " [-0.00000e+00 -0.00000e+00 -0.00000e+00 -0.00000e+00  0.00000e+00\n",
      "  -0.00000e+00 -0.00000e+00 -0.00000e+00]\n",
      " [ 0.00000e+00  0.00000e+00 -0.00000e+00 -0.00000e+00  0.00000e+00\n",
      "  -0.00000e+00 -0.00000e+00  0.00000e+00]\n",
      " [ 0.00000e+00  0.00000e+00  0.00000e+00  0.00000e+00  0.00000e+00\n",
      "   0.00000e+00 -0.00000e+00  0.00000e+00]\n",
      " [ 0.00000e+00  0.00000e+00  0.00000e+00 -0.00000e+00  0.00000e+00\n",
      "   0.00000e+00  0.00000e+00 -0.00000e+00]\n",
      " [ 0.00000e+00 -0.00000e+00  0.00000e+00 -0.00000e+00  0.00000e+00\n",
      "   0.00000e+00 -0.00000e+00  0.00000e+00]\n",
      " [ 0.00000e+00  0.00000e+00  0.00000e+00  0.00000e+00  0.00000e+00\n",
      "   0.00000e+00  0.00000e+00  0.00000e+00]\n",
      " [ 0.00000e+00  0.00000e+00  0.00000e+00  0.00000e+00  0.00000e+00\n",
      "   0.00000e+00  0.00000e+00  0.00000e+00]\n",
      " [ 0.00000e+00  0.00000e+00  0.00000e+00  0.00000e+00  0.00000e+00\n",
      "   0.00000e+00  0.00000e+00  0.00000e+00]\n",
      " [ 0.00000e+00  0.00000e+00  0.00000e+00  0.00000e+00  0.00000e+00\n",
      "   0.00000e+00  0.00000e+00  0.00000e+00]\n",
      " [ 0.00000e+00  0.00000e+00  0.00000e+00  0.00000e+00  0.00000e+00\n",
      "   0.00000e+00  0.00000e+00  0.00000e+00]\n",
      " [ 0.00000e+00  0.00000e+00  0.00000e+00  0.00000e+00  0.00000e+00\n",
      "   0.00000e+00  0.00000e+00  0.00000e+00]\n",
      " [ 0.00000e+00  0.00000e+00  0.00000e+00  0.00000e+00  0.00000e+00\n",
      "   0.00000e+00  0.00000e+00  0.00000e+00]]\n",
      "[[ 9.87419e-01  1.49697e-01 -3.46860e-02  7.25100e-03  1.33660e-02\n",
      "  -7.26300e-03  7.30000e-04  1.87000e-04]\n",
      " [ 0.00000e+00  0.00000e+00  0.00000e+00  0.00000e+00  0.00000e+00\n",
      "   0.00000e+00  0.00000e+00  0.00000e+00]\n",
      " [ 0.00000e+00  0.00000e+00  0.00000e+00  0.00000e+00  0.00000e+00\n",
      "   0.00000e+00  0.00000e+00  0.00000e+00]\n",
      " [ 0.00000e+00  0.00000e+00  0.00000e+00  0.00000e+00  0.00000e+00\n",
      "   0.00000e+00  0.00000e+00  0.00000e+00]\n",
      " [-0.00000e+00 -0.00000e+00 -0.00000e+00  0.00000e+00 -0.00000e+00\n",
      "  -0.00000e+00 -0.00000e+00  0.00000e+00]\n",
      " [-0.00000e+00 -0.00000e+00 -0.00000e+00  0.00000e+00 -0.00000e+00\n",
      "   0.00000e+00 -0.00000e+00  0.00000e+00]\n",
      " [ 0.00000e+00  0.00000e+00  0.00000e+00  0.00000e+00  0.00000e+00\n",
      "   0.00000e+00 -0.00000e+00  0.00000e+00]\n",
      " [-0.00000e+00 -0.00000e+00  0.00000e+00 -0.00000e+00 -0.00000e+00\n",
      "   0.00000e+00  0.00000e+00  0.00000e+00]\n",
      " [ 0.00000e+00 -0.00000e+00 -0.00000e+00 -0.00000e+00 -0.00000e+00\n",
      "   0.00000e+00  0.00000e+00 -0.00000e+00]\n",
      " [ 0.00000e+00  0.00000e+00  0.00000e+00  0.00000e+00  0.00000e+00\n",
      "   0.00000e+00  0.00000e+00  0.00000e+00]\n",
      " [ 0.00000e+00  0.00000e+00  0.00000e+00  0.00000e+00  0.00000e+00\n",
      "   0.00000e+00  0.00000e+00  0.00000e+00]\n",
      " [ 0.00000e+00  0.00000e+00  0.00000e+00  0.00000e+00  0.00000e+00\n",
      "   0.00000e+00  0.00000e+00  0.00000e+00]\n",
      " [ 0.00000e+00  0.00000e+00  0.00000e+00  0.00000e+00  0.00000e+00\n",
      "   0.00000e+00  0.00000e+00  0.00000e+00]\n",
      " [ 0.00000e+00  0.00000e+00  0.00000e+00  0.00000e+00  0.00000e+00\n",
      "   0.00000e+00  0.00000e+00  0.00000e+00]\n",
      " [ 0.00000e+00  0.00000e+00  0.00000e+00  0.00000e+00  0.00000e+00\n",
      "   0.00000e+00  0.00000e+00  0.00000e+00]\n",
      " [ 0.00000e+00  0.00000e+00  0.00000e+00  0.00000e+00  0.00000e+00\n",
      "   0.00000e+00  0.00000e+00  0.00000e+00]]\n",
      "[[ 9.87419e-01  1.49696e-01 -3.46860e-02  7.25100e-03  1.33660e-02\n",
      "  -7.26300e-03  7.29000e-04  1.87000e-04]\n",
      " [ 0.00000e+00  0.00000e+00  0.00000e+00  0.00000e+00  0.00000e+00\n",
      "   0.00000e+00  0.00000e+00  0.00000e+00]\n",
      " [ 0.00000e+00  0.00000e+00  0.00000e+00  0.00000e+00  0.00000e+00\n",
      "   0.00000e+00  0.00000e+00  0.00000e+00]\n",
      " [ 0.00000e+00  0.00000e+00  0.00000e+00  0.00000e+00  0.00000e+00\n",
      "   0.00000e+00  0.00000e+00  0.00000e+00]\n",
      " [-0.00000e+00 -0.00000e+00 -0.00000e+00 -0.00000e+00 -0.00000e+00\n",
      "   0.00000e+00  0.00000e+00 -0.00000e+00]\n",
      " [-0.00000e+00 -0.00000e+00 -0.00000e+00 -0.00000e+00 -0.00000e+00\n",
      "   0.00000e+00  0.00000e+00  0.00000e+00]\n",
      " [-0.00000e+00  0.00000e+00  0.00000e+00  0.00000e+00  0.00000e+00\n",
      "  -0.00000e+00  0.00000e+00  0.00000e+00]\n",
      " [-0.00000e+00 -0.00000e+00 -0.00000e+00 -0.00000e+00 -0.00000e+00\n",
      "  -0.00000e+00  0.00000e+00 -0.00000e+00]\n",
      " [-0.00000e+00  0.00000e+00  0.00000e+00  0.00000e+00 -0.00000e+00\n",
      "   0.00000e+00  0.00000e+00 -0.00000e+00]\n",
      " [ 0.00000e+00  0.00000e+00  0.00000e+00  0.00000e+00  0.00000e+00\n",
      "   0.00000e+00  0.00000e+00  0.00000e+00]\n",
      " [ 0.00000e+00  0.00000e+00  0.00000e+00  0.00000e+00  0.00000e+00\n",
      "   0.00000e+00  0.00000e+00  0.00000e+00]\n",
      " [ 0.00000e+00  0.00000e+00  0.00000e+00  0.00000e+00  0.00000e+00\n",
      "   0.00000e+00  0.00000e+00  0.00000e+00]\n",
      " [ 0.00000e+00  0.00000e+00  0.00000e+00  0.00000e+00  0.00000e+00\n",
      "   0.00000e+00  0.00000e+00  0.00000e+00]\n",
      " [ 0.00000e+00  0.00000e+00  0.00000e+00  0.00000e+00  0.00000e+00\n",
      "   0.00000e+00  0.00000e+00  0.00000e+00]\n",
      " [ 0.00000e+00  0.00000e+00  0.00000e+00  0.00000e+00  0.00000e+00\n",
      "   0.00000e+00  0.00000e+00  0.00000e+00]\n",
      " [ 0.00000e+00  0.00000e+00  0.00000e+00  0.00000e+00  0.00000e+00\n",
      "   0.00000e+00  0.00000e+00  0.00000e+00]]\n",
      "[[ 9.87419e-01  1.49697e-01 -3.46860e-02  7.25100e-03  1.33660e-02\n",
      "  -7.26300e-03  7.30000e-04  1.87000e-04]\n",
      " [ 0.00000e+00  0.00000e+00  0.00000e+00  0.00000e+00  0.00000e+00\n",
      "   0.00000e+00  0.00000e+00  0.00000e+00]\n",
      " [ 0.00000e+00  0.00000e+00  0.00000e+00  0.00000e+00  0.00000e+00\n",
      "   0.00000e+00  0.00000e+00  0.00000e+00]\n",
      " [ 0.00000e+00  0.00000e+00  0.00000e+00  0.00000e+00  0.00000e+00\n",
      "   0.00000e+00  0.00000e+00  0.00000e+00]\n",
      " [-0.00000e+00 -0.00000e+00 -0.00000e+00 -0.00000e+00 -0.00000e+00\n",
      "   0.00000e+00 -0.00000e+00  0.00000e+00]\n",
      " [-0.00000e+00 -0.00000e+00 -0.00000e+00 -0.00000e+00  0.00000e+00\n",
      "   0.00000e+00 -0.00000e+00 -0.00000e+00]\n",
      " [-0.00000e+00  0.00000e+00  0.00000e+00 -0.00000e+00  0.00000e+00\n",
      "   0.00000e+00  0.00000e+00  0.00000e+00]\n",
      " [-0.00000e+00 -0.00000e+00  0.00000e+00  0.00000e+00 -0.00000e+00\n",
      "  -0.00000e+00 -0.00000e+00  0.00000e+00]\n",
      " [-0.00000e+00  0.00000e+00  0.00000e+00 -0.00000e+00 -0.00000e+00\n",
      "  -0.00000e+00  0.00000e+00 -0.00000e+00]\n",
      " [ 0.00000e+00  0.00000e+00  0.00000e+00  0.00000e+00  0.00000e+00\n",
      "   0.00000e+00  0.00000e+00  0.00000e+00]\n",
      " [ 0.00000e+00  0.00000e+00  0.00000e+00  0.00000e+00  0.00000e+00\n",
      "   0.00000e+00  0.00000e+00  0.00000e+00]\n",
      " [ 0.00000e+00  0.00000e+00  0.00000e+00  0.00000e+00  0.00000e+00\n",
      "   0.00000e+00  0.00000e+00  0.00000e+00]\n",
      " [ 0.00000e+00  0.00000e+00  0.00000e+00  0.00000e+00  0.00000e+00\n",
      "   0.00000e+00  0.00000e+00  0.00000e+00]\n",
      " [ 0.00000e+00  0.00000e+00  0.00000e+00  0.00000e+00  0.00000e+00\n",
      "   0.00000e+00  0.00000e+00  0.00000e+00]\n",
      " [ 0.00000e+00  0.00000e+00  0.00000e+00  0.00000e+00  0.00000e+00\n",
      "   0.00000e+00  0.00000e+00  0.00000e+00]\n",
      " [ 0.00000e+00  0.00000e+00  0.00000e+00  0.00000e+00  0.00000e+00\n",
      "   0.00000e+00  0.00000e+00  0.00000e+00]]\n"
     ]
    }
   ],
   "source": [
    "for i in range(Nscalings):\n",
    "    print(np.round(features_pylode_single[i,0,:,:].T, 6))"
   ]
  },
  {
   "cell_type": "code",
   "execution_count": 54,
   "id": "emerging-tract",
   "metadata": {},
   "outputs": [
    {
     "name": "stdout",
     "output_type": "stream",
     "text": [
      "[[ 1.47950245e-01  2.24165151e-02 -5.18950965e-03  1.07896275e-03\n",
      "   2.00878241e-03 -1.09209148e-03  1.10944195e-04  2.76235594e-05\n",
      "   0.00000000e+00  0.00000000e+00  0.00000000e+00  0.00000000e+00\n",
      "   0.00000000e+00  0.00000000e+00  0.00000000e+00  0.00000000e+00\n",
      "   0.00000000e+00  0.00000000e+00  0.00000000e+00  0.00000000e+00\n",
      "   0.00000000e+00  0.00000000e+00  0.00000000e+00  0.00000000e+00\n",
      "   0.00000000e+00  0.00000000e+00  0.00000000e+00  0.00000000e+00\n",
      "   0.00000000e+00  0.00000000e+00  0.00000000e+00  0.00000000e+00\n",
      "   0.00000000e+00  0.00000000e+00  0.00000000e+00  0.00000000e+00\n",
      "   0.00000000e+00  0.00000000e+00  0.00000000e+00  0.00000000e+00\n",
      "   0.00000000e+00  0.00000000e+00  0.00000000e+00  0.00000000e+00\n",
      "   0.00000000e+00  0.00000000e+00  0.00000000e+00  0.00000000e+00\n",
      "   0.00000000e+00  0.00000000e+00  0.00000000e+00  0.00000000e+00\n",
      "   0.00000000e+00  0.00000000e+00  0.00000000e+00  0.00000000e+00\n",
      "   0.00000000e+00  0.00000000e+00  0.00000000e+00  0.00000000e+00\n",
      "   0.00000000e+00  0.00000000e+00  0.00000000e+00  0.00000000e+00\n",
      "   0.00000000e+00  0.00000000e+00  0.00000000e+00  0.00000000e+00\n",
      "   0.00000000e+00  0.00000000e+00  0.00000000e+00  0.00000000e+00\n",
      "   0.00000000e+00  0.00000000e+00  0.00000000e+00  0.00000000e+00\n",
      "   0.00000000e+00  0.00000000e+00  0.00000000e+00  0.00000000e+00\n",
      "   0.00000000e+00  0.00000000e+00  0.00000000e+00  0.00000000e+00\n",
      "   0.00000000e+00  0.00000000e+00  0.00000000e+00  0.00000000e+00\n",
      "   0.00000000e+00  0.00000000e+00  0.00000000e+00  0.00000000e+00\n",
      "   0.00000000e+00  0.00000000e+00  0.00000000e+00  0.00000000e+00\n",
      "   0.00000000e+00  0.00000000e+00  0.00000000e+00  0.00000000e+00\n",
      "   0.00000000e+00  0.00000000e+00  0.00000000e+00  0.00000000e+00\n",
      "   0.00000000e+00  0.00000000e+00  0.00000000e+00  0.00000000e+00\n",
      "   0.00000000e+00  0.00000000e+00  0.00000000e+00  0.00000000e+00\n",
      "   0.00000000e+00  0.00000000e+00  0.00000000e+00  0.00000000e+00\n",
      "   0.00000000e+00  0.00000000e+00  0.00000000e+00  0.00000000e+00\n",
      "   0.00000000e+00  0.00000000e+00  0.00000000e+00  0.00000000e+00\n",
      "   0.00000000e+00  0.00000000e+00  0.00000000e+00  0.00000000e+00]\n",
      " [ 1.47950245e-01  2.24165151e-02 -5.18950965e-03  1.07896275e-03\n",
      "   2.00878241e-03 -1.09209148e-03  1.10944195e-04  2.76235594e-05\n",
      "   0.00000000e+00  0.00000000e+00  0.00000000e+00  0.00000000e+00\n",
      "   0.00000000e+00  0.00000000e+00  0.00000000e+00  0.00000000e+00\n",
      "   0.00000000e+00  0.00000000e+00  0.00000000e+00  0.00000000e+00\n",
      "   0.00000000e+00  0.00000000e+00  0.00000000e+00  0.00000000e+00\n",
      "   0.00000000e+00  0.00000000e+00  0.00000000e+00  0.00000000e+00\n",
      "   0.00000000e+00  0.00000000e+00  0.00000000e+00  0.00000000e+00\n",
      "   0.00000000e+00  0.00000000e+00  0.00000000e+00  0.00000000e+00\n",
      "   0.00000000e+00  0.00000000e+00  0.00000000e+00  0.00000000e+00\n",
      "   0.00000000e+00  0.00000000e+00  0.00000000e+00  0.00000000e+00\n",
      "   0.00000000e+00  0.00000000e+00  0.00000000e+00  0.00000000e+00\n",
      "   0.00000000e+00  0.00000000e+00  0.00000000e+00  0.00000000e+00\n",
      "   0.00000000e+00  0.00000000e+00  0.00000000e+00  0.00000000e+00\n",
      "   0.00000000e+00  0.00000000e+00  0.00000000e+00  0.00000000e+00\n",
      "   0.00000000e+00  0.00000000e+00  0.00000000e+00  0.00000000e+00\n",
      "   0.00000000e+00  0.00000000e+00  0.00000000e+00  0.00000000e+00\n",
      "   0.00000000e+00  0.00000000e+00  0.00000000e+00  0.00000000e+00\n",
      "   0.00000000e+00  0.00000000e+00  0.00000000e+00  0.00000000e+00\n",
      "   0.00000000e+00  0.00000000e+00  0.00000000e+00  0.00000000e+00\n",
      "   0.00000000e+00  0.00000000e+00  0.00000000e+00  0.00000000e+00\n",
      "   0.00000000e+00  0.00000000e+00  0.00000000e+00  0.00000000e+00\n",
      "   0.00000000e+00  0.00000000e+00  0.00000000e+00  0.00000000e+00\n",
      "   0.00000000e+00  0.00000000e+00  0.00000000e+00  0.00000000e+00\n",
      "   0.00000000e+00  0.00000000e+00  0.00000000e+00  0.00000000e+00\n",
      "   0.00000000e+00  0.00000000e+00  0.00000000e+00  0.00000000e+00\n",
      "   0.00000000e+00  0.00000000e+00  0.00000000e+00  0.00000000e+00\n",
      "   0.00000000e+00  0.00000000e+00  0.00000000e+00  0.00000000e+00\n",
      "   0.00000000e+00  0.00000000e+00  0.00000000e+00  0.00000000e+00\n",
      "   0.00000000e+00  0.00000000e+00  0.00000000e+00  0.00000000e+00\n",
      "   0.00000000e+00  0.00000000e+00  0.00000000e+00  0.00000000e+00\n",
      "   0.00000000e+00  0.00000000e+00  0.00000000e+00  0.00000000e+00]\n",
      " [ 1.47950245e-01  2.24165151e-02 -5.18950965e-03  1.07896275e-03\n",
      "   2.00878241e-03 -1.09209148e-03  1.10944195e-04  2.76235594e-05\n",
      "   0.00000000e+00  0.00000000e+00  0.00000000e+00  0.00000000e+00\n",
      "   0.00000000e+00  0.00000000e+00  0.00000000e+00  0.00000000e+00\n",
      "   0.00000000e+00  0.00000000e+00  0.00000000e+00  0.00000000e+00\n",
      "   0.00000000e+00  0.00000000e+00  0.00000000e+00  0.00000000e+00\n",
      "   0.00000000e+00  0.00000000e+00  0.00000000e+00  0.00000000e+00\n",
      "   0.00000000e+00  0.00000000e+00  0.00000000e+00  0.00000000e+00\n",
      "   0.00000000e+00  0.00000000e+00  0.00000000e+00  0.00000000e+00\n",
      "   0.00000000e+00  0.00000000e+00  0.00000000e+00  0.00000000e+00\n",
      "   0.00000000e+00  0.00000000e+00  0.00000000e+00  0.00000000e+00\n",
      "   0.00000000e+00  0.00000000e+00  0.00000000e+00  0.00000000e+00\n",
      "   0.00000000e+00  0.00000000e+00  0.00000000e+00  0.00000000e+00\n",
      "   0.00000000e+00  0.00000000e+00  0.00000000e+00  0.00000000e+00\n",
      "   0.00000000e+00  0.00000000e+00  0.00000000e+00  0.00000000e+00\n",
      "   0.00000000e+00  0.00000000e+00  0.00000000e+00  0.00000000e+00\n",
      "   0.00000000e+00  0.00000000e+00  0.00000000e+00  0.00000000e+00\n",
      "   0.00000000e+00  0.00000000e+00  0.00000000e+00  0.00000000e+00\n",
      "   0.00000000e+00  0.00000000e+00  0.00000000e+00  0.00000000e+00\n",
      "   0.00000000e+00  0.00000000e+00  0.00000000e+00  0.00000000e+00\n",
      "   0.00000000e+00  0.00000000e+00  0.00000000e+00  0.00000000e+00\n",
      "   0.00000000e+00  0.00000000e+00  0.00000000e+00  0.00000000e+00\n",
      "   0.00000000e+00  0.00000000e+00  0.00000000e+00  0.00000000e+00\n",
      "   0.00000000e+00  0.00000000e+00  0.00000000e+00  0.00000000e+00\n",
      "   0.00000000e+00  0.00000000e+00  0.00000000e+00  0.00000000e+00\n",
      "   0.00000000e+00  0.00000000e+00  0.00000000e+00  0.00000000e+00\n",
      "   0.00000000e+00  0.00000000e+00  0.00000000e+00  0.00000000e+00\n",
      "   0.00000000e+00  0.00000000e+00  0.00000000e+00  0.00000000e+00\n",
      "   0.00000000e+00  0.00000000e+00  0.00000000e+00  0.00000000e+00\n",
      "   0.00000000e+00  0.00000000e+00  0.00000000e+00  0.00000000e+00\n",
      "   0.00000000e+00  0.00000000e+00  0.00000000e+00  0.00000000e+00\n",
      "   0.00000000e+00  0.00000000e+00  0.00000000e+00  0.00000000e+00]\n",
      " [ 1.47950245e-01  2.24165151e-02 -5.18950965e-03  1.07896275e-03\n",
      "   2.00878241e-03 -1.09209148e-03  1.10944195e-04  2.76235594e-05\n",
      "   0.00000000e+00  0.00000000e+00  0.00000000e+00  0.00000000e+00\n",
      "   0.00000000e+00  0.00000000e+00  0.00000000e+00  0.00000000e+00\n",
      "   0.00000000e+00  0.00000000e+00  0.00000000e+00  0.00000000e+00\n",
      "   0.00000000e+00  0.00000000e+00  0.00000000e+00  0.00000000e+00\n",
      "   0.00000000e+00  0.00000000e+00  0.00000000e+00  0.00000000e+00\n",
      "   0.00000000e+00  0.00000000e+00  0.00000000e+00  0.00000000e+00\n",
      "   0.00000000e+00  0.00000000e+00  0.00000000e+00  0.00000000e+00\n",
      "   0.00000000e+00  0.00000000e+00  0.00000000e+00  0.00000000e+00\n",
      "   0.00000000e+00  0.00000000e+00  0.00000000e+00  0.00000000e+00\n",
      "   0.00000000e+00  0.00000000e+00  0.00000000e+00  0.00000000e+00\n",
      "   0.00000000e+00  0.00000000e+00  0.00000000e+00  0.00000000e+00\n",
      "   0.00000000e+00  0.00000000e+00  0.00000000e+00  0.00000000e+00\n",
      "   0.00000000e+00  0.00000000e+00  0.00000000e+00  0.00000000e+00\n",
      "   0.00000000e+00  0.00000000e+00  0.00000000e+00  0.00000000e+00\n",
      "   0.00000000e+00  0.00000000e+00  0.00000000e+00  0.00000000e+00\n",
      "   0.00000000e+00  0.00000000e+00  0.00000000e+00  0.00000000e+00\n",
      "   0.00000000e+00  0.00000000e+00  0.00000000e+00  0.00000000e+00\n",
      "   0.00000000e+00  0.00000000e+00  0.00000000e+00  0.00000000e+00\n",
      "   0.00000000e+00  0.00000000e+00  0.00000000e+00  0.00000000e+00\n",
      "   0.00000000e+00  0.00000000e+00  0.00000000e+00  0.00000000e+00\n",
      "   0.00000000e+00  0.00000000e+00  0.00000000e+00  0.00000000e+00\n",
      "   0.00000000e+00  0.00000000e+00  0.00000000e+00  0.00000000e+00\n",
      "   0.00000000e+00  0.00000000e+00  0.00000000e+00  0.00000000e+00\n",
      "   0.00000000e+00  0.00000000e+00  0.00000000e+00  0.00000000e+00\n",
      "   0.00000000e+00  0.00000000e+00  0.00000000e+00  0.00000000e+00\n",
      "   0.00000000e+00  0.00000000e+00  0.00000000e+00  0.00000000e+00\n",
      "   0.00000000e+00  0.00000000e+00  0.00000000e+00  0.00000000e+00\n",
      "   0.00000000e+00  0.00000000e+00  0.00000000e+00  0.00000000e+00\n",
      "   0.00000000e+00  0.00000000e+00  0.00000000e+00  0.00000000e+00\n",
      "   0.00000000e+00  0.00000000e+00  0.00000000e+00  0.00000000e+00]]\n"
     ]
    }
   ],
   "source": [
    "print(features_rascaline_single)"
   ]
  },
  {
   "cell_type": "markdown",
   "id": "suspected-bankruptcy",
   "metadata": {},
   "source": [
    "Comment: Rascaline seems to exclude the center contribution by default, leading to coefficients that are zero everywhere. This is not an error of the code per se, but is something that should be kept in mind."
   ]
  },
  {
   "cell_type": "markdown",
   "id": "sporting-melissa",
   "metadata": {},
   "source": [
    "Make sure that the coefficients apart from those at $l=0$ are zero (since we only have a single atom in the structure, the density is spherically symmetric and thus only the $l=0$ projection survives)"
   ]
  },
  {
   "cell_type": "code",
   "execution_count": 55,
   "id": "blind-pastor",
   "metadata": {},
   "outputs": [],
   "source": [
    "for i in range(len(features_pylode_single)):\n",
    "    # The l=0 coefficients for pyLODE are contained in [n,l]=[:,0]\n",
    "    feat = features_pylode_single[i,0]\n",
    "    feat_zero = feat[:,1:]\n",
    "    assert_allclose(feat_zero, np.zeros_like(feat_zero), atol=3e-6)\n",
    "    \n",
    "    # The l=0 coefficients for librascal are separated by (lmax+1)**2\n",
    "    feat = features_librascal_single[i]\n",
    "    for n in range(nmax):\n",
    "        for lm in range((lmax+1)**2):\n",
    "            if lm != 0:\n",
    "                assert abs(feat[n*(lmax+1)**2 + lm]) < 1e-8\n",
    "    \n",
    "    # The l=0 coefficients of rascaline are the first nmax entries.\n",
    "    # Thus, all the remaining contributions should be zero.\n",
    "    feat = np.round(features_rascaline_single[i],15)\n",
    "    #assert_allclose(feat[nmax:], np.zeros_like(feat[nmax:]), atol=1e-8)"
   ]
  },
  {
   "cell_type": "markdown",
   "id": "alive-complaint",
   "metadata": {},
   "source": [
    "### Sanity check 2: Coefficients should be (for pyLODE: mostly) independent of the cell"
   ]
  },
  {
   "cell_type": "code",
   "execution_count": 56,
   "id": "proved-monkey",
   "metadata": {},
   "outputs": [],
   "source": [
    "# For librascal and rascaline, the features should be completely independent of the cell\n",
    "for feats in [features_librascal_single]:\n",
    "    feat1 = feats[0]\n",
    "    feat2 = feats[1]\n",
    "    assert_allclose(feat1, feat2, rtol=1e-10)"
   ]
  },
  {
   "cell_type": "code",
   "execution_count": 57,
   "id": "activated-fight",
   "metadata": {},
   "outputs": [],
   "source": [
    "# For pyLODE, the k-space sum does lead to a weak dependence on the cell that depends on\n",
    "# how well the k-space converged.\n",
    "feat1 = features_pylode_single[0]\n",
    "feat2 = features_pylode_single[1]\n",
    "assert_allclose(feat1, feat2, rtol=1e-10, atol=1e-5)"
   ]
  },
  {
   "cell_type": "markdown",
   "id": "favorite-surveillance",
   "metadata": {},
   "source": [
    "### Compare pyLODE and rascal coefficients with exact values"
   ]
  },
  {
   "cell_type": "code",
   "execution_count": 58,
   "id": "pursuant-interest",
   "metadata": {},
   "outputs": [],
   "source": [
    "coeffs_exact_center = coeffs_exact[:,0] # take the r_{ij} = 0 part"
   ]
  },
  {
   "cell_type": "code",
   "execution_count": 59,
   "id": "regulation-intermediate",
   "metadata": {},
   "outputs": [
    {
     "name": "stdout",
     "output_type": "stream",
     "text": [
      "Exact center contributions [ 9.87468127e-01  1.49615124e-01 -3.46364778e-02  7.20134882e-03\n",
      "  1.34072681e-02 -7.28897425e-03  7.40477692e-04  1.84368634e-04]\n"
     ]
    }
   ],
   "source": [
    "print('Exact center contributions', coeffs_exact_center)"
   ]
  },
  {
   "cell_type": "code",
   "execution_count": 60,
   "id": "veterinary-poster",
   "metadata": {
    "scrolled": true
   },
   "outputs": [
    {
     "name": "stdout",
     "output_type": "stream",
     "text": [
      "pyLODE / exact coeffs\n",
      "[0.99995039 1.00054158 1.00142997 1.00684733 0.99690512 0.99642194\n",
      " 0.98511848 1.01407865]\n",
      "[0.99995013 1.00054407 1.0014365  1.00688311 0.99688481 0.99641142\n",
      " 0.98537902 1.012638  ]\n",
      "[0.99995022 1.00054319 1.0014343  1.00687346 0.99688953 0.99640547\n",
      " 0.98504982 1.0131837 ]\n",
      "[0.9999501  1.00054428 1.00143669 1.00687924 0.99689212 0.99642712\n",
      " 0.98531401 1.01423748]\n"
     ]
    }
   ],
   "source": [
    "print('pyLODE / exact coeffs')\n",
    "for i in range(Nscalings):\n",
    "    feat_pylode_single_nonzero = features_pylode_single[i,0,:,0]\n",
    "    print(feat_pylode_single_nonzero / coeffs_exact_center)"
   ]
  },
  {
   "cell_type": "code",
   "execution_count": 61,
   "id": "weekly-present",
   "metadata": {},
   "outputs": [
    {
     "name": "stdout",
     "output_type": "stream",
     "text": [
      "librascal / exact coeffs\n",
      "[0.03745697 0.03745697 0.03745697 0.03745697 0.03745697 0.03745697\n",
      " 0.03745697 0.03745697]\n",
      "[0.03745697 0.03745697 0.03745697 0.03745697 0.03745697 0.03745697\n",
      " 0.03745697 0.03745697]\n",
      "[0.03745697 0.03745697 0.03745697 0.03745697 0.03745697 0.03745697\n",
      " 0.03745697 0.03745697]\n",
      "[0.03745697 0.03745697 0.03745697 0.03745697 0.03745697 0.03745697\n",
      " 0.03745697 0.03745697]\n"
     ]
    }
   ],
   "source": [
    "print('librascal / exact coeffs')\n",
    "for i in range(Nscalings):\n",
    "    feat_librascal_single_nonzero = features_librascal_single[i,::(lmax+1)**2]\n",
    "    print(feat_librascal_single_nonzero / coeffs_exact_center)"
   ]
  },
  {
   "cell_type": "code",
   "execution_count": 62,
   "id": "strategic-discount",
   "metadata": {},
   "outputs": [
    {
     "name": "stdout",
     "output_type": "stream",
     "text": [
      "rascaline / exact coeffs\n",
      "[0.14982787 0.14982787 0.14982787 0.14982787 0.14982787 0.14982787\n",
      " 0.14982787 0.14982787]\n",
      "[0.14982787 0.14982787 0.14982787 0.14982787 0.14982787 0.14982787\n",
      " 0.14982787 0.14982787]\n",
      "[0.14982787 0.14982787 0.14982787 0.14982787 0.14982787 0.14982787\n",
      " 0.14982787 0.14982787]\n",
      "[0.14982787 0.14982787 0.14982787 0.14982787 0.14982787 0.14982787\n",
      " 0.14982787 0.14982787]\n"
     ]
    }
   ],
   "source": [
    "print('rascaline / exact coeffs')\n",
    "for i in range(Nscalings):\n",
    "    feat_rascaline_single_nonzero = features_rascaline_single[i,:nmax]\n",
    "    print(feat_rascaline_single_nonzero / coeffs_exact_center)"
   ]
  },
  {
   "cell_type": "markdown",
   "id": "attached-cloud",
   "metadata": {},
   "source": [
    "## Norm tests"
   ]
  },
  {
   "cell_type": "code",
   "execution_count": 63,
   "id": "settled-testimony",
   "metadata": {},
   "outputs": [],
   "source": [
    "features_pylode_single = calculator_pylode.features[-Nscalings:]\n",
    "features_pylode_dimers = calculator_pylode.features[:-Nscalings]"
   ]
  },
  {
   "cell_type": "code",
   "execution_count": 64,
   "id": "laden-nightlife",
   "metadata": {},
   "outputs": [],
   "source": [
    "norm_exact_single = 1.\n",
    "norm_exact_dimers = np.zeros((Ndimers,))\n",
    "\n",
    "for i, d in enumerate(distances):\n",
    "    norm_exact_dimers[i] = norm_exact_single * np.sqrt(2 + np.exp(-d**2/(4 * smearing**2)))"
   ]
  },
  {
   "cell_type": "code",
   "execution_count": 65,
   "id": "latin-miami",
   "metadata": {},
   "outputs": [
    {
     "data": {
      "text/plain": [
       "(30, 1, 8, 16)"
      ]
     },
     "execution_count": 65,
     "metadata": {},
     "output_type": "execute_result"
    }
   ],
   "source": [
    "features_pylode_dimers.shape"
   ]
  },
  {
   "cell_type": "code",
   "execution_count": 66,
   "id": "engaging-forty",
   "metadata": {},
   "outputs": [
    {
     "name": "stdout",
     "output_type": "stream",
     "text": [
      "0.9994464149884253\n",
      "1.0\n",
      "0.999446226522141\n",
      "1.0\n",
      "0.9994462915624431\n",
      "1.0\n",
      "0.9994462095327907\n",
      "1.0\n"
     ]
    }
   ],
   "source": [
    "for features in features_pylode_single:\n",
    "    print(norm(features.flatten()))\n",
    "    print(norm_exact_single)"
   ]
  },
  {
   "cell_type": "code",
   "execution_count": 67,
   "id": "private-childhood",
   "metadata": {},
   "outputs": [],
   "source": [
    "norm_pylode_single = np.zeros((2,))\n",
    "for i in range(2):\n",
    "    norm_pylode_single[i] = norm(features_pylode_single[i].flatten())"
   ]
  },
  {
   "cell_type": "code",
   "execution_count": 68,
   "id": "distinct-satin",
   "metadata": {},
   "outputs": [
    {
     "name": "stdout",
     "output_type": "stream",
     "text": [
      "[0.99944641 0.99944623]\n",
      "1.0\n"
     ]
    }
   ],
   "source": [
    "print(norm_pylode_single)\n",
    "print(norm_exact_single)"
   ]
  },
  {
   "cell_type": "code",
   "execution_count": 69,
   "id": "functioning-hobby",
   "metadata": {},
   "outputs": [],
   "source": [
    "norm_pylode_dimers = np.zeros_like(distances)\n",
    "for i,d in enumerate(distances):\n",
    "    norm_pylode_dimers[i] = norm(features_pylode_dimers[i].flatten())"
   ]
  },
  {
   "cell_type": "code",
   "execution_count": 70,
   "id": "sonic-carbon",
   "metadata": {},
   "outputs": [
    {
     "data": {
      "text/plain": [
       "(0.0, 1.6582532588143946)"
      ]
     },
     "execution_count": 70,
     "metadata": {},
     "output_type": "execute_result"
    },
    {
     "data": {
      "image/png": "[encoded data removed]",
      "text/plain": [
       "<Figure size 432x288 with 1 Axes>"
      ]
     },
     "metadata": {
      "needs_background": "light"
     },
     "output_type": "display_data"
    }
   ],
   "source": [
    "plt.scatter(distances, norm_exact_dimers, label='exact')\n",
    "plt.scatter(distances, norm_pylode_dimers, label='pyLODE')\n",
    "plt.legend()\n",
    "plt.ylim(0,)"
   ]
  },
  {
   "cell_type": "markdown",
   "id": "lucky-flash",
   "metadata": {},
   "source": [
    "# Compare coefficients for random molecules <a class=\"anchor\" id=\"randommolecule\"></a>"
   ]
  },
  {
   "cell_type": "code",
   "execution_count": 71,
   "id": "recreational-installation",
   "metadata": {},
   "outputs": [],
   "source": [
    "frames = []\n",
    "frames.append(Atoms('O4', positions=[[1,1,1],[2,1,1],[2,2.2,1],[2.3,2.,1.5]], cell=cell, pbc=True))\n",
    "frames.append(Atoms('O4', positions=[[1,1,1],[2.3,1,1],[2.2,2.5,1.1],[2.7,2.,1.1]], cell=cell, pbc=True))"
   ]
  },
  {
   "cell_type": "code",
   "execution_count": 72,
   "id": "sitting-thinking",
   "metadata": {},
   "outputs": [],
   "source": [
    "features_librascal_single = calculator_librascal.transform(frames).get_features(calculator_librascal)\n",
    "calculator_pylode.transform(frames)\n",
    "features_pylode_single = calculator_pylode.features"
   ]
  },
  {
   "cell_type": "code",
   "execution_count": 73,
   "id": "color-mailman",
   "metadata": {},
   "outputs": [
    {
     "data": {
      "text/plain": [
       "(8, 128)"
      ]
     },
     "execution_count": 73,
     "metadata": {},
     "output_type": "execute_result"
    }
   ],
   "source": [
    "features_librascal_single.shape"
   ]
  },
  {
   "cell_type": "code",
   "execution_count": 74,
   "id": "resident-uniform",
   "metadata": {},
   "outputs": [],
   "source": [
    "features_pylode_single = features_pylode_single[:,0,:,:]"
   ]
  },
  {
   "cell_type": "code",
   "execution_count": 75,
   "id": "every-sodium",
   "metadata": {},
   "outputs": [],
   "source": [
    "f_librascal = features_librascal_single.reshape((8, nmax, (lmax+1)**2))"
   ]
  },
  {
   "cell_type": "code",
   "execution_count": 76,
   "id": "oriented-beverage",
   "metadata": {},
   "outputs": [
    {
     "name": "stdout",
     "output_type": "stream",
     "text": [
      "[[26.69627  26.698631 26.696885 26.696993 26.702275 26.702361 26.699788\n",
      "  26.701954 26.698153 26.70552  26.711341 26.700961 26.712631 26.706385\n",
      "  26.71364  26.72743 ]\n",
      " [26.700296 26.697203 26.697746 26.697575 26.69647  26.69733  26.697399\n",
      "  26.697445 26.69859  26.694919 26.694429 26.695302 26.694188 26.6961\n",
      "  26.694006 26.714839]\n",
      " [26.694757 26.697204 26.697111 26.697077 26.697391 26.697079 26.696958\n",
      "  26.697058 26.695018 26.697537 26.697492 26.697575 26.697507 26.697414\n",
      "  26.697518 26.697839]\n",
      " [26.710788 26.697971 26.698306 26.698754 26.696617 26.698107 26.699076\n",
      "  26.698207 26.711773 26.696411 26.696471 26.69633  26.696396 26.695625\n",
      "  26.696343 26.69713 ]\n",
      " [26.673758 26.695953 26.694711 26.693506 26.698662 26.695356 26.693958\n",
      "  26.695107 26.642542 26.69884  26.699407 26.698559 26.699598 26.700646\n",
      "  26.69974  26.69546 ]\n",
      " [26.655354 26.693804 26.68856  26.687727 26.700053 26.690236 26.689446\n",
      "  26.689461 26.58177  26.69976  26.703925 26.699323 26.704426 26.703855\n",
      "  26.704881 26.687233]\n",
      " [26.62842  26.692865 26.685867 26.686728 26.700201 26.688567 26.687627\n",
      "  26.68777  26.611452 26.697114 26.703047 26.699768 26.702784 26.704628\n",
      "  26.703192 26.676375]\n",
      " [26.57217  26.693618 26.685711 26.689736 26.701217 26.690785 26.687084\n",
      "  26.690285 26.638629 26.68938  26.701659 26.704789 26.695894 26.70905\n",
      "  26.699168 26.648088]]\n",
      "26.72742978443825\n",
      "26.57217025314606\n",
      "[[26.696427 26.69603  26.695893 26.696713 26.694032 26.694203 26.695882\n",
      "  26.694411 26.682743 26.696446 26.699039 26.695723 26.69899  26.709258\n",
      "  26.698515 26.704973]\n",
      " [26.699461 26.697611 26.697709 26.697776 26.698467 26.6984   26.698276\n",
      "  26.698319 26.698028 26.69908  26.698873 26.699101 26.698877 26.696721\n",
      "  26.698974 26.69769 ]\n",
      " [26.693673 26.697413 26.697321 26.696371 26.696515 26.696564 26.696298\n",
      "  26.696624 26.698031 26.696648 26.696599 26.696677 26.6966   26.696994\n",
      "  26.696577 26.696776]\n",
      " [26.725277 26.695737 26.697062 26.702425 26.712231 26.711318 26.71214\n",
      "  26.7102   26.6824   26.706014 26.704849 26.706001 26.704854 26.684526\n",
      "  26.705652 26.694374]\n",
      " [26.657974 26.699657 26.698015 26.722662 26.685687 26.686393 26.68193\n",
      "  26.687253 26.700818 26.695937 26.696867 26.695761 26.696855 26.708562\n",
      "  26.696586 26.701828]\n",
      " [26.649203 26.700993 26.698808 26.726927 26.683401 26.684246 26.678268\n",
      "  26.685269 26.702178 26.69769  26.698664 26.697485 26.698623 26.711304\n",
      "  26.698397 26.704317]\n",
      " [26.621703 26.701544 26.699053 26.737813 26.684944 26.685708 26.679586\n",
      "  26.686633 26.703216 26.700123 26.700138 26.700197 26.699965 26.710203\n",
      "  26.699962 26.704895]\n",
      " [26.571465 26.702158 26.699115 26.828137 26.687793 26.688428 26.682104\n",
      "  26.689192 26.703597 26.704618 26.700921 26.706012 26.69916  26.710701\n",
      "  26.700695 26.705753]]\n",
      "26.8281365091023\n",
      "26.571465202190367\n",
      "[[26.696791 26.697393 26.698253 26.697762 26.718569 26.695628 26.698937\n",
      "  26.695578 26.694394 26.700296 26.666581 26.707635 26.668275 26.679855\n",
      "  26.667524 26.699212]\n",
      " [26.699043 26.697191 26.696506 26.693062 26.696319 26.69478  26.698619\n",
      "  26.694814 26.698082 26.702179 26.693299 26.698892 26.692859 26.694223\n",
      "  26.693022 26.695539]\n",
      " [26.694736 26.697436 26.700791 26.697092 26.697256 26.712763 26.696561\n",
      "  26.712665 26.696963 26.690774 26.706343 26.696804 26.706559 26.698664\n",
      "  26.706516 26.69759 ]\n",
      " [26.710684 26.696127 26.694682 26.701663 26.69715  26.670078 26.705997\n",
      "  26.670279 26.703263 26.69207  26.699166 26.697939 26.697479 26.69629\n",
      "  26.698015 26.696182]\n",
      " [26.674557 26.699568 26.692859 26.695629 26.697588 26.650924 26.6912\n",
      "  26.65128  26.692774 26.692335 26.772473 26.69868  26.766842 26.692512\n",
      "  26.768939 26.698264]\n",
      " [26.663472 26.700959 26.693061 26.69475  26.697434 26.6447   26.68796\n",
      "  26.645087 26.691129 26.701357 26.833749 26.701308 26.826623 26.681273\n",
      "  26.830059 26.697989]\n",
      " [26.624762 26.701006 26.693952 26.694637 26.697057 26.636494 26.686911\n",
      "  26.636909 26.691025 26.707935 27.011472 26.703613 26.988952 26.677178\n",
      "  27.00628  26.696753]\n",
      " [26.489744 26.701661 26.694276 26.694856 26.69748  26.619254 26.686416\n",
      "  26.619744 26.691016 26.721178 25.710651 26.707982 26.268486 26.680096\n",
      "  25.719711 26.69413 ]]\n",
      "27.01147203825758\n",
      "25.71065097081998\n",
      "[[26.696721 26.692892 26.697684 26.697591 26.69777  26.694716 26.692795\n",
      "  26.69616  26.692668 26.648688 26.734872 26.681921 26.707115 26.644676\n",
      "  26.7054   26.69993 ]\n",
      " [26.699362 26.698144 26.697042 26.697215 26.699081 26.700072 26.707966\n",
      "  26.696274 26.699094 26.712352 26.698579 26.694089 26.697769 26.689469\n",
      "  26.700909 26.697896]\n",
      " [26.694376 26.697129 26.697532 26.697269 26.696507 26.69579  26.69546\n",
      "  26.698635 26.694639 26.697681 26.696766 26.698561 26.697035 26.69551\n",
      "  26.694735 26.697092]\n",
      " [26.708969 26.698853 26.696364 26.697463 26.701505 26.710905 26.708653\n",
      "  26.691857 26.685933 26.696    26.69679  26.696641 26.697068 26.696513\n",
      "  26.692714 26.697633]\n",
      " [26.669979 26.695263 26.671699 26.696415 26.689554 26.683665 26.683373\n",
      "  26.723287 26.662905 26.701923 26.700953 26.692436 26.699086 26.706143\n",
      "  26.697964 26.697498]\n",
      " [26.647914 26.694046 26.691698 26.678916 26.67945  26.675345 26.670005\n",
      "  27.166403 26.678141 26.510865 26.708393 26.664623 26.702183 26.736405\n",
      "  26.701628 26.698076]\n",
      " [26.549988 26.6944   26.69367  26.572217 26.677939 26.674719 26.666215\n",
      "  27.065321 26.681022 26.682804 26.710776 26.659917 26.702796 26.760844\n",
      "  26.704204 26.697279]\n",
      " [25.320481 26.695408 26.693782 26.689678 26.680165 26.676449 26.663925\n",
      "  26.818431 26.684832 26.723206 26.711023 26.683519 26.699277 26.801576\n",
      "  26.705467 26.690936]]\n",
      "27.166403181190145\n",
      "25.3204810401547\n",
      "[[26.696206 26.693328 26.691183 26.696376 26.687981 26.68577  26.691788\n",
      "  26.686701 26.69358  26.694612 26.700576 26.696717 26.692096 26.69175\n",
      "  26.686037 26.681447]\n",
      " [26.701332 26.698355 26.699522 26.697349 26.702195 26.703254 26.698651\n",
      "  26.702803 26.69743  26.702903 26.70054  26.701776 26.703538 26.699663\n",
      "  26.710556 26.698691]\n",
      " [26.69522  26.697298 26.697169 26.697427 26.69689  26.69679  26.697133\n",
      "  26.69686  26.697614 26.697068 26.697116 26.697085 26.697044 26.697059\n",
      "  26.697017 26.697455]\n",
      " [26.703442 26.697321 26.697658 26.696845 26.698288 26.69854  26.697966\n",
      "  26.69835  26.696049 26.697617 26.69749  26.697565 26.697674 26.697841\n",
      "  26.697697 26.696954]\n",
      " [26.678639 26.697317 26.695399 26.699182 26.691887 26.690563 26.694365\n",
      "  26.691459 26.699258 26.695878 26.696802 26.696515 26.69574  26.69587\n",
      "  26.69514  26.748427]\n",
      " [26.601551 26.6967   26.702797 26.749249 26.70995  26.713792 26.755823\n",
      "  26.71037  26.701116 26.699565 26.697458 26.697185 26.699249 26.704933\n",
      "  26.699386 26.697213]\n",
      " [26.431363 26.69483  26.704369 26.734236 26.710859 26.715411 27.042477\n",
      "  26.711489 26.699504 26.701016 26.696364 26.693597 26.698511 25.428551\n",
      "  26.699379 26.70084 ]\n",
      " [24.683612 26.689458 26.707576 26.733316 26.70854  26.714333 26.554217\n",
      "  26.709496 26.695183 26.710067 26.694592 26.682306 26.700758 26.844333\n",
      "  26.701123 26.71256 ]]\n",
      "27.04247731149724\n",
      "24.68361247045464\n",
      "[[26.696448 26.697041 26.696684 26.698914 26.695339 26.697519 26.696524\n",
      "  26.696481 26.703962 26.697108 26.70665  26.699334 26.700457 26.679451\n",
      "  26.699544 26.69719 ]\n",
      " [26.699436 26.69739  26.697543 26.696593 26.69907  26.697502 26.69731\n",
      "  26.698486 26.69711  26.696968 26.698185 26.697305 26.697515 26.699187\n",
      "  26.697375 26.698797]\n",
      " [26.694966 26.697281 26.6972   26.697771 26.694432 26.697081 26.697408\n",
      "  26.695431 26.696638 26.697408 26.696264 26.697273 26.697169 26.697161\n",
      "  26.697244 26.696714]\n",
      " [26.717626 26.697517 26.69836  26.688748 26.759323 26.699455 26.696369\n",
      "  26.729469 26.700476 26.696686 26.728261 26.696771 26.696976 26.702852\n",
      "  26.6969   26.705654]\n",
      " [26.676239 26.697036 26.695562 26.70265  26.618219 26.694861 26.697997\n",
      "  26.658164 26.691307 26.697886 26.703189 26.698268 26.698325 26.69356\n",
      "  26.698105 26.696413]\n",
      " [26.668454 26.696921 26.694332 26.704711 26.631507 26.693589 26.697957\n",
      "  26.657922 26.682852 26.698674 26.705931 26.699504 26.699277 26.69306\n",
      "  26.698791 26.698091]\n",
      " [26.655591 26.697339 26.693704 26.705251 26.646201 26.693689 26.69742\n",
      "  26.664613 26.677641 26.700616 26.706369 26.701292 26.699531 26.695223\n",
      "  26.698999 26.700188]\n",
      " [26.626753 26.699418 26.693851 26.706088 26.65971  26.694976 26.696276\n",
      "  26.672464 26.673746 26.707327 26.70579  26.706549 26.698309 26.700481\n",
      "  26.698789 26.703275]]\n",
      "26.759322555211128\n",
      "26.618219355268796\n",
      "[[26.696648 26.698615 26.697328 26.699199 26.701964 26.698699 26.698576\n",
      "  26.685057 26.700106 26.31177  26.706515 26.691916 26.693391 26.677981\n",
      "  26.69469  26.67288 ]\n",
      " [26.699782 26.696752 26.697439 26.69608  26.693435 26.696573 26.696396\n",
      "  26.706788 26.696047 26.698685 26.705179 26.695959 26.697391 26.689614\n",
      "  26.696301 26.690122]\n",
      " [26.694908 26.697384 26.697213 26.697073 26.695471 26.697525 26.697701\n",
      "  26.696721 26.697746 26.696988 26.69704  26.697612 26.697332 26.696083\n",
      "  26.697521 26.696276]\n",
      " [26.704944 26.696954 26.697739 26.698022 26.70119  26.696349 26.695853\n",
      "  26.698604 26.69469  26.697524 26.697509 26.697057 26.697415 26.697969\n",
      "  26.696863 26.697828]\n",
      " [26.674938 26.698672 26.696029 26.696109 26.682726 26.699631 26.702568\n",
      "  26.689619 26.701709 26.699223 26.696919 26.696906 26.696707 26.697877\n",
      "  26.697381 26.697643]\n",
      " [26.629604 26.717037 26.6915   26.694763 26.804271 26.705167 26.772568\n",
      "  26.712351 26.705728 26.700317 26.696986 26.693645 26.69348  26.691086\n",
      "  26.696565 26.694098]\n",
      " [26.375443 26.722533 26.689707 26.698659 26.807026 26.706075 26.744527\n",
      "  26.713475 26.704031 26.70422  26.695939 26.699181 26.693331 26.685693\n",
      "  26.695794 26.692337]\n",
      " [27.44962  26.722835 26.689075 26.702277 26.785287 26.70774  26.709942\n",
      "  26.712684 26.698867 26.71656  26.694489 26.719328 26.689685 26.678948\n",
      "  26.694924 26.694193]]\n",
      "27.449619837092914\n",
      "26.311769688029703\n",
      "[[26.69662  26.726631 26.695792 26.697782 26.720435 26.695301 26.696862\n",
      "  26.694289 26.697147 26.69528  26.704098 26.716372 26.701801 26.693928\n",
      "  26.704511 26.697911]\n",
      " [26.699726 26.700454 26.697897 26.69705  26.727577 26.698824 26.697685\n",
      "  26.699177 26.69818  26.693301 26.698378 26.702437 26.698876 26.696834\n",
      "  26.698056 26.69665 ]\n",
      " [26.693726 26.697089 26.697154 26.697361 26.695823 26.696131 26.697048\n",
      "  26.696607 26.70157  26.696524 26.696924 26.696236 26.696822 26.697439\n",
      "  26.693893 26.697621]\n",
      " [26.705957 26.698357 26.6979   26.697141 26.701507 26.702682 26.698068\n",
      "  26.699284 26.69532  26.697854 26.697452 26.698118 26.697744 26.697325\n",
      "  26.697367 26.694986]\n",
      " [26.657847 26.695319 26.694461 26.699673 26.683408 26.679963 26.692104\n",
      "  26.687882 26.718844 26.695461 26.698474 26.698593 26.697686 26.696592\n",
      "  26.71229  26.697992]\n",
      " [26.346563 26.693125 26.730168 26.695959 26.050125 26.623865 26.710205\n",
      "  26.741195 26.688665 26.697807 26.611264 26.759506 26.722217 26.698067\n",
      "  26.701    26.694913]\n",
      " [26.884097 26.695749 26.558297 26.694848 26.498129 26.646386 26.721655\n",
      "  26.771442 26.690941 26.697125 26.743207 26.745063 26.713118 26.69063\n",
      "  26.701901 26.688932]\n",
      " [26.857196 26.697512 26.679424 26.688984 26.564964 26.663683 26.787852\n",
      "  26.937783 26.698172 26.699991 26.7217   26.746812 26.704022 26.646458\n",
      "  26.702598 26.673854]]\n",
      "26.937782576960874\n",
      "26.050125094890525\n"
     ]
    }
   ],
   "source": [
    "for i in range(8):\n",
    "    print(np.round(features_pylode_single[i] / f_librascal[i], 6))\n",
    "    ratiomax = np.max(features_pylode_single[i] / f_librascal[i])\n",
    "    ratiomin = np.min(features_pylode_single[i] / f_librascal[i])\n",
    "    print(ratiomax)\n",
    "    print(ratiomin)"
   ]
  },
  {
   "cell_type": "code",
   "execution_count": 77,
   "id": "sharing-buddy",
   "metadata": {},
   "outputs": [
    {
     "data": {
      "text/plain": [
       "9.52400202833425"
      ]
     },
     "execution_count": 77,
     "metadata": {},
     "output_type": "execute_result"
    }
   ],
   "source": [
    "np.max(np.abs(features_pylode_single[i] / f_librascal[i])/2.82841)"
   ]
  },
  {
   "cell_type": "code",
   "execution_count": 78,
   "id": "satisfied-shark",
   "metadata": {},
   "outputs": [
    {
     "data": {
      "text/plain": [
       "(8, 8, 16)"
      ]
     },
     "execution_count": 78,
     "metadata": {},
     "output_type": "execute_result"
    }
   ],
   "source": [
    "features_pylode_single.shape"
   ]
  },
  {
   "cell_type": "markdown",
   "id": "reverse-universal",
   "metadata": {},
   "source": [
    "Comment: Coefficients now also agree for \"generic\" molecules (i.e. molecules that do not have any special symmetry) up to a global factor!"
   ]
  },
  {
   "cell_type": "markdown",
   "id": "bacterial-venezuela",
   "metadata": {},
   "source": [
    "## Table of Contents:\n",
    "* [Preparation](#preparation)\n",
    "    * [Exact Expression for Coefficients](#exactexpressions)\n",
    "    * [Get the features for dimers](#getfeatures)\n",
    "* [Coefficients for $l=1$](#l=1)\n",
    "    * [Explicit computation of coefficients for $l=1$](#l=1explicit)\n",
    "    * [Comparison to pyLODE/rascal for dimers](#l=1dimer)\n",
    "* [Coefficients for $l\\geq 2$](#lgeq2)\n",
    "    * [Coefficients for $l=2$](#l=2)\n",
    "    * [Coefficients for general $l$](#l_general)\n",
    "* [Coefficients for l=0](#l=0)\n",
    "    * [Exact coefficients](#l=0exact)\n",
    "    * [Comparison to pyLODE/rascal for center contribution](#l=0center)\n",
    "    * [Comparison to pyLODE/rascal for dimers](#l=0dimer)"
   ]
  }
 ],
 "metadata": {
  "kernelspec": {
   "display_name": "Python 3",
   "language": "python",
   "name": "python3"
  },
  "language_info": {
   "codemirror_mode": {
    "name": "ipython",
    "version": 3
   },
   "file_extension": ".py",
   "mimetype": "text/x-python",
   "name": "python",
   "nbconvert_exporter": "python",
   "pygments_lexer": "ipython3",
   "version": "3.8.5"
  }
 },
 "nbformat": 4,
 "nbformat_minor": 5
}
