{
 "cells": [
  {
   "cell_type": "code",
   "execution_count": 1,
   "id": "mental-mumbai",
   "metadata": {},
   "outputs": [],
   "source": [
    "%load_ext autoreload\n",
    "%autoreload 2"
   ]
  },
  {
   "cell_type": "code",
   "execution_count": 2,
   "id": "banner-facility",
   "metadata": {},
   "outputs": [],
   "source": [
    "import sys"
   ]
  },
  {
   "cell_type": "code",
   "execution_count": 3,
   "id": "joint-disorder",
   "metadata": {},
   "outputs": [],
   "source": [
    "sys.path.insert(0, '/ssd/scratch/khugueni/librascal-pypi-release/build')"
   ]
  },
  {
   "cell_type": "code",
   "execution_count": 4,
   "id": "swiss-hampton",
   "metadata": {},
   "outputs": [],
   "source": [
    "%matplotlib inline\n",
    "from matplotlib import pylab as plt\n",
    "\n",
    "import time\n",
    "import rascal\n",
    "\n",
    "import ase\n",
    "from ase import Atoms\n",
    "from ase.io import read, write\n",
    "from ase.build import make_supercell\n",
    "from ase.visualize import view\n",
    "from numpy.testing import assert_allclose\n",
    "import numpy as np\n",
    "from numpy.linalg import norm\n",
    "\n",
    "from scipy.integrate import quad\n",
    "from pylode.lib.radial_basis import innerprod\n",
    "from scipy.special import gamma, hyp1f1, sph_harm, iv\n",
    "\n",
    "# Descriptor related imports: compare the librascal and pyLODE versions of SOAP\n",
    "from rascal.representations import SphericalExpansion as RascalSphericalExpansion\n",
    "#from librascal.representations import SphericalExpansion as RascalSphericalExpansion\n",
    "import rascaline\n",
    "from pylode.lib.projection_coeffs import DensityProjectionCalculator"
   ]
  },
  {
   "cell_type": "markdown",
   "id": "radio-worthy",
   "metadata": {},
   "source": [
    "# Introduction"
   ]
  },
  {
   "cell_type": "markdown",
   "id": "ecological-trash",
   "metadata": {},
   "source": [
    "This notebook is used to compare the features obtained from rascaline, librascal and pylode. The goal is to fully understand the details of the three implementations to make sure that the same coefficients from different codes agree."
   ]
  },
  {
   "cell_type": "markdown",
   "id": "forced-porter",
   "metadata": {},
   "source": [
    "## Table of Contents:\n",
    "* [Preparation](#preparation)\n",
    "    * [Exact Expression for Coefficients](#exactexpressions)\n",
    "    * [Get the features for dimers](#getfeatures)\n",
    "* [Coefficients for $l=1$](#l=1)\n",
    "    * [Explicit computation of coefficients for $l=1$](#l=1explicit)\n",
    "    * [Comparison to pyLODE/rascal for dimers](#l=1dimer)\n",
    "* [Coefficients for $l\\geq 2$](#lgeq2)\n",
    "    * [Coefficients for $l=2$](#l=2)\n",
    "    * [Coefficients for general $l$](#l_general)\n",
    "* [Coefficients for l=0](#l=0)\n",
    "    * [Exact coefficients](#l=0exact)\n",
    "    * [Comparison to pyLODE/rascal for center contribution](#l=0center)\n",
    "    * [Comparison to pyLODE/rascal for dimers](#l=0dimer)"
   ]
  },
  {
   "cell_type": "markdown",
   "id": "defined-clinic",
   "metadata": {},
   "source": [
    "# Preparation: Get features from all three codes <a class=\"anchor\" id=\"preparation\"></a>"
   ]
  },
  {
   "cell_type": "markdown",
   "id": "funded-message",
   "metadata": {},
   "source": [
    "## Exact Expression for Coefficients <a class=\"anchor\" id=\"exactexpressions\"></a>"
   ]
  },
  {
   "cell_type": "markdown",
   "id": "following-adobe",
   "metadata": {},
   "source": [
    "### Define common hyperparameters"
   ]
  },
  {
   "cell_type": "code",
   "execution_count": 5,
   "id": "suspended-lease",
   "metadata": {},
   "outputs": [],
   "source": [
    "nmax = 5\n",
    "lmax = 4\n",
    "rcut = 6.\n",
    "smearing = 0.5"
   ]
  },
  {
   "cell_type": "markdown",
   "id": "rental-surrey",
   "metadata": {},
   "source": [
    "### Generate orthonormalization matrix <a class=\"anchor\" id=\"orthonormalization\"></a>"
   ]
  },
  {
   "cell_type": "code",
   "execution_count": 6,
   "id": "continental-concern",
   "metadata": {},
   "outputs": [],
   "source": [
    "Nradial = 1000\n",
    "sigma = np.ones(nmax, dtype=float)\n",
    "for i in range(1, nmax):\n",
    "    sigma[i] = np.sqrt(i)\n",
    "sigma *= rcut / nmax\n",
    "\n",
    "# Define primitive GTO-like radial basis functions\n",
    "f_gto = lambda n, x: x**n * np.exp(-0.5 * (x / sigma[n])**2)\n",
    "xx = np.linspace(0, rcut * 2.5, Nradial)\n",
    "R_n = np.array([f_gto(n, xx) for n in range(nmax)])"
   ]
  },
  {
   "cell_type": "code",
   "execution_count": 7,
   "id": "square-admission",
   "metadata": {},
   "outputs": [],
   "source": [
    "# Define inner product matrix using analytical expression for primitive GTOs\n",
    "innerprods_primitive = np.zeros((nmax, nmax))\n",
    "for n1 in range(nmax):\n",
    "    for n2 in range(nmax):\n",
    "        sigeff = 0.5 * (1/sigma[n1]**2 + 1/sigma[n2]**2)\n",
    "        neff = 0.5 * (3 + n1 + n2)\n",
    "        innerprods_primitive[n1, n2] = 0.5 * sigeff**(-neff) * gamma(neff)\n",
    "\n",
    "eigvals, eigvecs = np.linalg.eigh(innerprods_primitive)\n",
    "transformation_primitive = eigvecs @ np.diag(np.sqrt(1. / eigvals)) @ eigvecs.T"
   ]
  },
  {
   "cell_type": "code",
   "execution_count": 8,
   "id": "listed-gamma",
   "metadata": {},
   "outputs": [],
   "source": [
    "normalizations = np.zeros((nmax,))\n",
    "for n in range(nmax):\n",
    "    normalizations[n] = 1/np.sqrt(innerprods_primitive[n, n])"
   ]
  },
  {
   "cell_type": "code",
   "execution_count": 9,
   "id": "graduate-standard",
   "metadata": {},
   "outputs": [],
   "source": [
    "# Inner product matrix for normalized GTOs\n",
    "innerprods_normalized = np.zeros((nmax, nmax))\n",
    "for n1 in range(nmax):\n",
    "    for n2 in range(nmax):\n",
    "        innerprods_normalized[n1, n2] = innerprods_primitive[n1, n2]\n",
    "        innerprods_normalized[n1, n2] *= normalizations[n1] * normalizations[n2]"
   ]
  },
  {
   "cell_type": "code",
   "execution_count": 10,
   "id": "resistant-contest",
   "metadata": {},
   "outputs": [],
   "source": [
    "eigvals, eigvecs = np.linalg.eigh(innerprods_normalized)\n",
    "transformation_normalized = eigvecs @ np.diag(np.sqrt(1. / eigvals)) @ eigvecs.T"
   ]
  },
  {
   "cell_type": "code",
   "execution_count": 11,
   "id": "forty-cinema",
   "metadata": {},
   "outputs": [],
   "source": [
    "use_gto_convention = 'normalized' # choose between 'normalized' and 'primitive'\n",
    "if use_gto_convention == 'normalized':\n",
    "    transformation = transformation_normalized\n",
    "    innerprods = innerprods_normalized\n",
    "elif use_gto_convention == 'primitive':\n",
    "    transformation = transformation_primitive\n",
    "    innerprods = innerprods_primitive\n",
    "    normalizations = np.ones_like(normalizations)"
   ]
  },
  {
   "cell_type": "code",
   "execution_count": 12,
   "id": "interpreted-sierra",
   "metadata": {},
   "outputs": [],
   "source": [
    "assert_allclose(transformation @ innerprods @ transformation, np.eye(nmax), atol=1e-5, rtol=1e-5)"
   ]
  },
  {
   "cell_type": "markdown",
   "id": "polish-education",
   "metadata": {},
   "source": [
    "### Fully analytical formula for general $l$"
   ]
  },
  {
   "cell_type": "code",
   "execution_count": 13,
   "id": "clear-development",
   "metadata": {},
   "outputs": [],
   "source": [
    "def coefficients_analytical_general_l(nmax, d, l):\n",
    "    # Define auxilary quantities and prefactors\n",
    "    a = 1. / (2 * smearing**2)\n",
    "    lplus3half = l + 1.5\n",
    "    prefac_global = np.pi**1.5 * sph_harm(0, l, 0, 0).real * a**l / gamma(lplus3half)\n",
    "    prefac_global *= d**l * np.exp(-a*d**2)\n",
    "    prefac_global /= (np.pi * smearing**2)**(3/4)\n",
    "\n",
    "    # Start main loop\n",
    "    featvec = np.zeros((nmax))\n",
    "    for n in range(nmax):\n",
    "        nlplus3half = (3 + n + l) / 2\n",
    "        b = 1. / (2 * sigma[n]**2)\n",
    "        prefac_n_dep = gamma(nlplus3half) / (a+b)**nlplus3half\n",
    "        hyp = hyp1f1(nlplus3half, lplus3half, a**2*d**2/(a+b))\n",
    "        featvec[n] = normalizations[n] * prefac_n_dep * hyp\n",
    "\n",
    "    #return prefac_global * featvec\n",
    "    return prefac_global * (transformation @ featvec)   "
   ]
  },
  {
   "cell_type": "markdown",
   "id": "prompt-grounds",
   "metadata": {},
   "source": [
    "### Semianalytical (final integral performed numerically) formula for general l"
   ]
  },
  {
   "cell_type": "code",
   "execution_count": 14,
   "id": "expressed-weapon",
   "metadata": {},
   "outputs": [],
   "source": [
    "def coefficients_semianalytical_general_l(nmax, d, l):\n",
    "    # Prefactor\n",
    "    a = 1. / (2 * smearing**2)\n",
    "    prefac_global = 4*np.pi * sph_harm(0, l, 0, 0).real * np.exp(-a*d**2)\n",
    "    prefac_global /= (np.pi * smearing**2)**(3/4)\n",
    "\n",
    "    # Main loop performing the numerical integration\n",
    "    featvec = np.zeros((nmax))\n",
    "    for n in range(nmax):\n",
    "        # Define the integrand consisting of a power-law, Gaussian and Bessel part\n",
    "        b = 1. / (2 * sigma[n]**2)\n",
    "        gaussian = lambda r: np.exp(-(a+b)*r**2)\n",
    "        power = lambda r: r**(2+n)\n",
    "        mod_sph_bessel = lambda x: np.sqrt(np.pi/2/x) * iv(l + 0.5, x)\n",
    "        bessel = lambda r: mod_sph_bessel(2*a*d*r)\n",
    "        integrand = lambda r: power(r) * gaussian(r) * bessel(r)\n",
    "        \n",
    "        # Numerical integration\n",
    "        eps = 1e-10\n",
    "        featvec[n] = normalizations[n] * quad(integrand, eps, 4.5*rcut)[0]\n",
    "\n",
    "    #return prefac_global * featvec\n",
    "    return prefac_global * (transformation @ featvec)   "
   ]
  },
  {
   "cell_type": "markdown",
   "id": "scientific-consortium",
   "metadata": {},
   "source": [
    "## Get the features for dimers <a class=\"anchor\" id=\"getfeatures\"></a>"
   ]
  },
  {
   "cell_type": "markdown",
   "id": "electoral-oasis",
   "metadata": {},
   "source": [
    "### Define structure to be used for the comparison\n",
    "The main differences between librascal and the pyLODE implementation are the presence of a smooth cutoff function and the potentially different order in which neighbors are stored. We thus wish to generate structures for which these two effects do not alter the coefficients too much. For this task, we use clusters of Oxygen atoms for which all atoms have a mutual distance of less than 3A. Then, even for a relatively large smearing of 1.5A, the atomic densities will be reasonably contained within a ball of cutoff radius 6 that will also be used for the cutoff."
   ]
  },
  {
   "cell_type": "code",
   "execution_count": 15,
   "id": "floppy-subject",
   "metadata": {},
   "outputs": [],
   "source": [
    "frames = []\n",
    "cell = np.eye(3) * 16\n",
    "Ndimers = 15\n",
    "distances = np.linspace(1., 2.5, Ndimers)\n",
    "for d in distances:\n",
    "    positions = [[1,1,1],[1,1,1+d]]\n",
    "    frame = Atoms('O2', positions=positions, cell=cell, pbc=True)\n",
    "    frames.append(frame)"
   ]
  },
  {
   "cell_type": "markdown",
   "id": "funded-operations",
   "metadata": {},
   "source": [
    "### Get the features from pyLODE"
   ]
  },
  {
   "cell_type": "code",
   "execution_count": 16,
   "id": "happy-sydney",
   "metadata": {},
   "outputs": [],
   "source": [
    "hypers = {\n",
    "    'smearing':smearing,\n",
    "    'max_angular':lmax,\n",
    "    'max_radial':nmax,\n",
    "    'cutoff_radius':rcut,\n",
    "    'potential_exponent':0,\n",
    "    'radial_basis': 'gto',\n",
    "    'compute_gradients':False,\n",
    "    'subtract_center_contribution':False,\n",
    "    }\n",
    "\n",
    "calculator_pylode = DensityProjectionCalculator(**hypers)\n",
    "calculator_pylode.transform(frames)\n",
    "features_pylode = calculator_pylode.features"
   ]
  },
  {
   "cell_type": "markdown",
   "id": "random-corporation",
   "metadata": {},
   "source": [
    "### Get the features from librascal"
   ]
  },
  {
   "cell_type": "code",
   "execution_count": 17,
   "id": "undefined-morning",
   "metadata": {},
   "outputs": [],
   "source": [
    "# define the parameters of the spherical expansion\n",
    "hypers = dict(interaction_cutoff=rcut, \n",
    "              max_radial=nmax, \n",
    "              max_angular=lmax, \n",
    "              gaussian_sigma_constant=smearing,\n",
    "              gaussian_sigma_type=\"Constant\",\n",
    "              cutoff_smooth_width=0.1,\n",
    "              radial_basis=\"GTO\",\n",
    "              compute_gradients=False,\n",
    "              expansion_by_species_method='structure wise',\n",
    "              optimization=dict(Spline=dict(accuracy=1e-12)),\n",
    "              )\n",
    "\n",
    "calculator_librascal = RascalSphericalExpansion(**hypers)\n",
    "# compute the representation of all the structures\n",
    "features_librascal = calculator_librascal.transform(frames).get_features(calculator_librascal)"
   ]
  },
  {
   "cell_type": "markdown",
   "id": "rental-working",
   "metadata": {},
   "source": [
    "### Get the features from Rascaline"
   ]
  },
  {
   "cell_type": "code",
   "execution_count": 18,
   "id": "bottom-shower",
   "metadata": {},
   "outputs": [],
   "source": [
    "HYPER_PARAMETERS = {\n",
    "    \"cutoff\": rcut,\n",
    "    \"max_radial\": nmax,\n",
    "    \"max_angular\": lmax,\n",
    "    \"atomic_gaussian_width\": smearing,\n",
    "    \"gradients\": False,\n",
    "    \"center_atom_weight\": 1.0,\n",
    "    \"radial_basis\": {\n",
    "        \"Gto\": {},\n",
    "    },\n",
    "    \"cutoff_function\": {\n",
    "        \"Step\": {\"width\": 1e-3},\n",
    "    },\n",
    "}\n",
    "\n",
    "calculator_rascaline = rascaline.SphericalExpansion(**HYPER_PARAMETERS)\n",
    "\n",
    "# run the actual calculation\n",
    "descriptor_rascaline = calculator_rascaline.compute(frames)"
   ]
  },
  {
   "cell_type": "markdown",
   "id": "beautiful-guest",
   "metadata": {},
   "source": [
    "# Compare coefficients for $l=1$ <a class=\"anchor\" id=\"l=1\"></a>"
   ]
  },
  {
   "cell_type": "markdown",
   "id": "coastal-animal",
   "metadata": {},
   "source": [
    "## Explicit computation of coefficients for $l=1$ <a class=\"anchor\" id=\"l=1explicit\"></a>"
   ]
  },
  {
   "cell_type": "markdown",
   "id": "completed-future",
   "metadata": {},
   "source": [
    "To make sure that we understand every single aspect of the codes including all the prefactors and conventions, we compute the exact coefficients we would expect from an Oxygen molecule oriented along the z-axis. The computations are done using three (four) different methods: a fully analytical approach applicable to all $l$, a semi-analytical approach in which the final radial integral is evaluated numerically also valid for all $l$, and finally an explicit formula that was obtained directly for the special case $l=1$ starting at the very definition. For convenience, we also include the complete analytical formula for the special case $l=1$."
   ]
  },
  {
   "cell_type": "markdown",
   "id": "realistic-sellers",
   "metadata": {},
   "source": [
    "### Fully analytical formula for $l=1$"
   ]
  },
  {
   "cell_type": "code",
   "execution_count": 19,
   "id": "welsh-python",
   "metadata": {},
   "outputs": [],
   "source": [
    "def coefficients_analytical_l1(nmax, d):\n",
    "    # Define auxilary quantities and prefactors\n",
    "    a = 1. / (2 * smearing**2)\n",
    "    lplus3half = 2.5\n",
    "    prefac_global = np.pi * np.sqrt(3/4) * a / gamma(lplus3half) * d * np.exp(-a*d**2)\n",
    "    prefac_global /= (np.pi*smearing**2)**(3/4)\n",
    "    \n",
    "    # Start main loop\n",
    "    featvec = np.zeros((nmax))\n",
    "    for n in range(nmax):\n",
    "        # Compute contribution for primitive GTO function\n",
    "        nlplus3half = (4 + n) / 2\n",
    "        b = 1. / (2 * sigma[n]**2)\n",
    "        prefac_n_dep = gamma(nlplus3half) / (a+b)**nlplus3half\n",
    "        hyp = hyp1f1(nlplus3half, lplus3half, a**2*d**2/(a+b))\n",
    "        featvec[n] = normalizations[n] * prefac_n_dep * hyp\n",
    "\n",
    "    return prefac_global * (transformation @ featvec)"
   ]
  },
  {
   "cell_type": "markdown",
   "id": "frequent-cooler",
   "metadata": {},
   "source": [
    "### Semianalytical (final integral performed numerically) formula for $l=1$"
   ]
  },
  {
   "cell_type": "code",
   "execution_count": 20,
   "id": "accurate-mumbai",
   "metadata": {},
   "outputs": [],
   "source": [
    "def coefficients_semianalytical_l1(nmax, d):\n",
    "    # Prefactor\n",
    "    a = 1. / (2 * smearing**2)\n",
    "    prefac = np.sqrt(1.5) / (2 * np.pi * smearing**3)\n",
    "    prefac *= np.exp(-a*d**2)\n",
    "    prefac *= (2*np.pi*smearing**2)**1.5 / (np.pi*smearing**2)**(3/4)\n",
    "    \n",
    "    # Start main loop\n",
    "    featvec = np.zeros((nmax,))\n",
    "    for n in range(nmax):\n",
    "        # Start defining functions appearing in integrand\n",
    "        b = 1. / (2 * sigma[n]**2)\n",
    "        gaussian = lambda r: np.exp(-(a+b)*r**2)\n",
    "        power = lambda r: r**(2+n)\n",
    "        mod_sph_bessel = lambda x: (x*np.cosh(x) - np.sinh(x))/x**2\n",
    "        bessel = lambda r: mod_sph_bessel(2*a*d*r)\n",
    "\n",
    "        integrand = lambda r: power(r) * gaussian(r) * bessel(r) * 2\n",
    "        \n",
    "        # Numerical Integration\n",
    "        featvec[n] = normalizations[n] * quad(integrand, 1e-10, 4.5 * rcut)[0]\n",
    "    \n",
    "    return prefac * (transformation @ featvec)"
   ]
  },
  {
   "cell_type": "markdown",
   "id": "satisfied-copying",
   "metadata": {},
   "source": [
    "### Compare the coefficients obtained using different methods"
   ]
  },
  {
   "cell_type": "code",
   "execution_count": 21,
   "id": "loose-problem",
   "metadata": {},
   "outputs": [],
   "source": [
    "features_analytical_l1 = np.zeros((len(distances), nmax))\n",
    "features_semianalytical_l1 = np.zeros((len(distances), nmax))\n",
    "features_analytical_general = np.zeros((len(distances), nmax))\n",
    "features_semianalytical_general = np.zeros((len(distances), nmax))\n",
    "\n",
    "for i_dist, d in enumerate(distances):\n",
    "    features_analytical_l1[i_dist] = coefficients_analytical_l1(nmax, d)\n",
    "    features_semianalytical_l1[i_dist] = coefficients_semianalytical_l1(nmax, d)\n",
    "    features_analytical_general[i_dist] = coefficients_analytical_general_l(nmax, d, l=1)\n",
    "    features_semianalytical_general[i_dist] = coefficients_semianalytical_general_l(nmax, d, l=1)"
   ]
  },
  {
   "cell_type": "code",
   "execution_count": 22,
   "id": "productive-entry",
   "metadata": {},
   "outputs": [
    {
     "name": "stdout",
     "output_type": "stream",
     "text": [
      "1.212138028838794e-16\n",
      "2.548252555056503e-15\n",
      "1.3430436943151222e-15\n"
     ]
    }
   ],
   "source": [
    "delta1 = np.linalg.norm(features_analytical_l1 - features_analytical_general)\n",
    "delta2 = np.linalg.norm(features_analytical_general - features_semianalytical_general)\n",
    "delta3 = np.linalg.norm(features_semianalytical_l1 - features_semianalytical_general)\n",
    "print(delta1)\n",
    "print(delta2)\n",
    "print(delta3)"
   ]
  },
  {
   "cell_type": "markdown",
   "id": "joint-history",
   "metadata": {},
   "source": [
    "## Compare the exact values with those obtained from the three codes <a class=\"anchor\" id=\"l=1dimer\"></a>"
   ]
  },
  {
   "cell_type": "markdown",
   "id": "mathematical-implement",
   "metadata": {},
   "source": [
    "The exact coefficients obtained using the analytical formula are now compared to those obtained from the three codes."
   ]
  },
  {
   "cell_type": "markdown",
   "id": "strong-tiger",
   "metadata": {},
   "source": [
    "### Get the $l=1$ (and $m=0$) part of the features of the three codes"
   ]
  },
  {
   "cell_type": "code",
   "execution_count": 23,
   "id": "absolute-sucking",
   "metadata": {},
   "outputs": [
    {
     "name": "stdout",
     "output_type": "stream",
     "text": [
      "Shapes of feature vectors\n",
      "rascaline (30, 125)\n",
      "librascal (30, 125)\n"
     ]
    }
   ],
   "source": [
    "print('Shapes of feature vectors')\n",
    "print('rascaline', descriptor_rascaline.values.shape)\n",
    "print('librascal', features_librascal.shape)"
   ]
  },
  {
   "cell_type": "code",
   "execution_count": 24,
   "id": "aggregate-crime",
   "metadata": {},
   "outputs": [],
   "source": [
    "features_L1_rascaline = descriptor_rascaline.values[0::2, 2*nmax:3*nmax] / 10.962374348347298 "
   ]
  },
  {
   "cell_type": "code",
   "execution_count": 25,
   "id": "green-native",
   "metadata": {},
   "outputs": [],
   "source": [
    "features_L1_librascal = features_librascal[0::2, 2::(lmax+1)**2]"
   ]
  },
  {
   "cell_type": "code",
   "execution_count": 26,
   "id": "portuguese-dividend",
   "metadata": {},
   "outputs": [],
   "source": [
    "features_L1_pylode = features_pylode[0::2, 0, :, 2]"
   ]
  },
  {
   "cell_type": "code",
   "execution_count": 27,
   "id": "miniature-ottawa",
   "metadata": {},
   "outputs": [],
   "source": [
    "for i,features in enumerate([features_L1_rascaline, features_L1_librascal, features_L1_pylode, features_analytical_l1]):\n",
    "    assert features.shape == (len(distances), nmax)"
   ]
  },
  {
   "cell_type": "code",
   "execution_count": 28,
   "id": "scenic-exhaust",
   "metadata": {},
   "outputs": [
    {
     "name": "stdout",
     "output_type": "stream",
     "text": [
      "[[ 1.08667758  0.66982649 -3.80492613  1.42542139 -8.01782681]\n",
      " [ 1.11547474  0.74257649 -1.7558918   1.44153712 -6.06709412]\n",
      " [ 1.151996    0.80243537 -0.91906155  1.37338645 -4.52058365]\n",
      " [ 1.19898492  0.85350472 -0.45034831  1.23267187 -3.27974428]\n",
      " [ 1.2607061   0.89882746 -0.14368604  1.03854453 -2.28953418]\n",
      " [ 1.34413249  0.94079564  0.07631306  0.81518402 -1.50936898]\n",
      " [ 1.46144078  0.98144656  0.24403049  0.58790283 -0.90547881]\n",
      " [ 1.63585666  1.02270638  0.37757379  0.37888949 -0.4485312 ]\n",
      " [ 1.91754515  1.06663481  0.48752164  0.2040394  -0.11276552]\n",
      " [ 2.43754746  1.11573662  0.5805681   0.07177924  0.12442937]\n",
      " [ 3.6754542   1.17345096  0.66123496 -0.01619115  0.28280595]\n",
      " [ 9.82968733  1.24505291  0.7327563  -0.06302475  0.37949581]\n",
      " [-9.7947701   1.33954987  0.7975742  -0.07462054  0.42921253]\n",
      " [-3.05657275  1.47426601  0.85763919 -0.05788042  0.44443221]\n",
      " [-1.88854074  1.68808481  0.9146088  -0.01954401  0.43556659]]\n"
     ]
    }
   ],
   "source": [
    "print(features_analytical_l1 / features_L1_pylode)"
   ]
  },
  {
   "cell_type": "code",
   "execution_count": 29,
   "id": "public-cooperation",
   "metadata": {},
   "outputs": [
    {
     "name": "stdout",
     "output_type": "stream",
     "text": [
      "[[73.1664572 73.1664572 73.1664572 73.1664572 73.1664572]\n",
      " [73.1664572 73.1664572 73.1664572 73.1664572 73.1664572]\n",
      " [73.1664572 73.1664572 73.1664572 73.1664572 73.1664572]\n",
      " [73.1664572 73.1664572 73.1664572 73.1664572 73.1664572]\n",
      " [73.1664572 73.1664572 73.1664572 73.1664572 73.1664572]\n",
      " [73.1664572 73.1664572 73.1664572 73.1664572 73.1664572]\n",
      " [73.1664572 73.1664572 73.1664572 73.1664572 73.1664572]\n",
      " [73.1664572 73.1664572 73.1664572 73.1664572 73.1664572]\n",
      " [73.1664572 73.1664572 73.1664572 73.1664572 73.1664572]\n",
      " [73.1664572 73.1664572 73.1664572 73.1664572 73.1664572]\n",
      " [73.1664572 73.1664572 73.1664572 73.1664572 73.1664572]\n",
      " [73.1664572 73.1664572 73.1664572 73.1664572 73.1664572]\n",
      " [73.1664572 73.1664572 73.1664572 73.1664572 73.1664572]\n",
      " [73.1664572 73.1664572 73.1664572 73.1664572 73.1664572]\n",
      " [73.1664572 73.1664572 73.1664572 73.1664572 73.1664572]]\n"
     ]
    }
   ],
   "source": [
    "print(features_analytical_l1 / features_L1_rascaline)"
   ]
  },
  {
   "cell_type": "code",
   "execution_count": 30,
   "id": "active-jungle",
   "metadata": {},
   "outputs": [
    {
     "name": "stdout",
     "output_type": "stream",
     "text": [
      "[[26.69730293 26.69730293 26.69730293 26.69730293 26.69730293]\n",
      " [26.69730293 26.69730293 26.69730293 26.69730293 26.69730293]\n",
      " [26.69730293 26.69730293 26.69730293 26.69730293 26.69730293]\n",
      " [26.69730293 26.69730293 26.69730293 26.69730293 26.69730293]\n",
      " [26.69730293 26.69730293 26.69730293 26.69730293 26.69730293]\n",
      " [26.69730293 26.69730293 26.69730293 26.69730293 26.69730293]\n",
      " [26.69730293 26.69730293 26.69730293 26.69730293 26.69730293]\n",
      " [26.69730293 26.69730293 26.69730293 26.69730293 26.69730293]\n",
      " [26.69730293 26.69730293 26.69730293 26.69730293 26.69730293]\n",
      " [26.69730293 26.69730293 26.69730293 26.69730293 26.69730293]\n",
      " [26.69730293 26.69730293 26.69730293 26.69730293 26.69730293]\n",
      " [26.69730293 26.69730293 26.69730293 26.69730293 26.69730293]\n",
      " [26.69730293 26.69730293 26.69730293 26.69730293 26.69730293]\n",
      " [26.69730293 26.69730293 26.69730293 26.69730293 26.69730293]\n",
      " [26.69730293 26.69730293 26.69730293 26.69730293 26.69730293]]\n"
     ]
    }
   ],
   "source": [
    "print(features_semianalytical_general / features_L1_librascal)"
   ]
  },
  {
   "cell_type": "code",
   "execution_count": 31,
   "id": "latter-christian",
   "metadata": {},
   "outputs": [
    {
     "name": "stdout",
     "output_type": "stream",
     "text": [
      "Distance  0\n",
      "[0.14982787 0.14982787 0.14982787 0.14982787 0.14982787]\n",
      "[0.03745697 0.03745697 0.03745697 0.03745697 0.03745697]\n",
      "[ 0.92023615  1.49292394 -0.26281719  0.70154693 -0.12472208]\n",
      "\n",
      "Distance  1\n",
      "[0.14982787 0.14982787 0.14982787 0.14982787 0.14982787]\n",
      "[0.03745697 0.03745697 0.03745697 0.03745697 0.03745697]\n",
      "[ 0.89647929  1.34666262 -0.56951117  0.69370396 -0.16482355]\n",
      "\n",
      "Distance  2\n",
      "[0.14982787 0.14982787 0.14982787 0.14982787 0.14982787]\n",
      "[0.03745697 0.03745697 0.03745697 0.03745697 0.03745697]\n",
      "[ 0.86805857  1.24620629 -1.08806641  0.72812718 -0.22121037]\n",
      "\n",
      "Distance  3\n",
      "[0.14982787 0.14982787 0.14982787 0.14982787 0.14982787]\n",
      "[0.03745697 0.03745697 0.03745697 0.03745697 0.03745697]\n",
      "[ 0.83403885  1.17163969 -2.22050352  0.8112459  -0.30490182]\n",
      "\n",
      "Distance  4\n",
      "[0.14982787 0.14982787 0.14982787 0.14982787 0.14982787]\n",
      "[0.03745697 0.03745697 0.03745697 0.03745697 0.03745697]\n",
      "[ 0.79320628  1.11256058 -6.95961823  0.96288601 -0.43677007]\n",
      "\n",
      "Distance  5\n",
      "[0.14982787 0.14982787 0.14982787 0.14982787 0.14982787]\n",
      "[0.03745697 0.03745697 0.03745697 0.03745697 0.03745697]\n",
      "[ 0.74397428  1.06293009 13.10391655  1.22671688 -0.66252852]\n",
      "\n",
      "Distance  6\n",
      "[0.14982787 0.14982787 0.14982787 0.14982787 0.14982787]\n",
      "[0.03745697 0.03745697 0.03745697 0.03745697 0.03745697]\n",
      "[ 0.68425626  1.01890418  4.09784858  1.70096137 -1.10438808]\n",
      "\n",
      "Distance  7\n",
      "[0.14982787 0.14982787 0.14982787 0.14982787 0.14982787]\n",
      "[0.03745697 0.03745697 0.03745697 0.03745697 0.03745697]\n",
      "[ 0.61130051  0.97779775  2.6484889   2.63929201 -2.22949932]\n",
      "\n",
      "Distance  8\n",
      "[0.14982787 0.14982787 0.14982787 0.14982787 0.14982787]\n",
      "[0.03745697 0.03745697 0.03745697 0.03745697 0.03745697]\n",
      "[ 0.52150011  0.937528    2.051191    4.90101419 -8.8679592 ]\n",
      "\n",
      "Distance  9\n",
      "[0.14982787 0.14982787 0.14982787 0.14982787 0.14982787]\n",
      "[0.03745697 0.03745697 0.03745697 0.03745697 0.03745697]\n",
      "[ 0.41024842  0.89626887  1.72245081 13.93160499  8.03668785]\n",
      "\n",
      "Distance  10\n",
      "[0.14982787 0.14982787 0.14982787 0.14982787 0.14982787]\n",
      "[0.03745697 0.03745697 0.03745697 0.03745697 0.03745697]\n",
      "[  0.27207522   0.85218729   1.51232172 -61.76212814   3.53599352]\n",
      "\n",
      "Distance  11\n",
      "[0.14982787 0.14982787 0.14982787 0.14982787 0.14982787]\n",
      "[0.03745697 0.03745697 0.03745697 0.03745697 0.03745697]\n",
      "[  0.10173264   0.80317872   1.36471021 -15.86678371   2.6350752 ]\n",
      "\n",
      "Distance  12\n",
      "[0.14982787 0.14982787 0.14982787 0.14982787 0.14982787]\n",
      "[0.03745697 0.03745697 0.03745697 0.03745697 0.03745697]\n",
      "[ -0.1020953    0.74651942   1.25380183 -13.40113668   2.32984809]\n",
      "\n",
      "Distance  13\n",
      "[0.14982787 0.14982787 0.14982787 0.14982787 0.14982787]\n",
      "[0.03745697 0.03745697 0.03745697 0.03745697 0.03745697]\n",
      "[ -0.32716381   0.67830364   1.16599149 -17.27700094   2.25006193]\n",
      "\n",
      "Distance  14\n",
      "[0.14982787 0.14982787 0.14982787 0.14982787 0.14982787]\n",
      "[0.03745697 0.03745697 0.03745697 0.03745697 0.03745697]\n",
      "[ -0.52950936   0.5923873    1.09336364 -51.16658295   2.29586022]\n",
      "\n"
     ]
    }
   ],
   "source": [
    "for i, d in enumerate(distances):\n",
    "    print('Distance ', i)\n",
    "    coeffs_rascaline = descriptor_rascaline.values[2*i].reshape(((lmax+1)**2, nmax)).T\n",
    "    coeffs_librascal = features_librascal[2*i].reshape((nmax,(lmax+1)**2))\n",
    "    coeffs_pylode = features_pylode[2*i,0]\n",
    "    \n",
    "    for coeffs in [coeffs_rascaline, coeffs_librascal, coeffs_pylode]:\n",
    "        print(coeffs[:,2] / features_analytical_general[i])\n",
    "    \n",
    "    print()"
   ]
  },
  {
   "cell_type": "markdown",
   "id": "joined-wisconsin",
   "metadata": {},
   "source": [
    "# Compare coefficients for $l\\geq 2$ <a class=\"anchor\" id=\"lgeq2\"></a>"
   ]
  },
  {
   "cell_type": "markdown",
   "id": "tender-defensive",
   "metadata": {},
   "source": [
    "## Compare coefficients for $l=2$ <a class=\"anchor\" id=\"l=2\"></a>"
   ]
  },
  {
   "cell_type": "code",
   "execution_count": 32,
   "id": "taken-setting",
   "metadata": {},
   "outputs": [],
   "source": [
    "lm_index = 6 # l**2 + l"
   ]
  },
  {
   "cell_type": "code",
   "execution_count": 33,
   "id": "secret-silly",
   "metadata": {},
   "outputs": [
    {
     "name": "stdout",
     "output_type": "stream",
     "text": [
      "Shapes of feature vectors\n",
      "rascaline (30, 125)\n",
      "librascal (30, 125)\n"
     ]
    }
   ],
   "source": [
    "print('Shapes of feature vectors')\n",
    "print('rascaline', descriptor_rascaline.values.shape)\n",
    "print('librascal', features_librascal.shape)"
   ]
  },
  {
   "cell_type": "code",
   "execution_count": 34,
   "id": "freelance-canadian",
   "metadata": {},
   "outputs": [],
   "source": [
    "features_L2_rascaline = descriptor_rascaline.values[0::2, lm_index*nmax:(lm_index+1)*nmax]"
   ]
  },
  {
   "cell_type": "code",
   "execution_count": 35,
   "id": "black-jewelry",
   "metadata": {},
   "outputs": [],
   "source": [
    "features_L2_librascal = features_librascal[0::2, lm_index::(lmax+1)**2]"
   ]
  },
  {
   "cell_type": "code",
   "execution_count": 36,
   "id": "brave-watson",
   "metadata": {},
   "outputs": [],
   "source": [
    "features_L2_pylode = features_pylode[0::2, 0, :, lm_index]"
   ]
  },
  {
   "cell_type": "code",
   "execution_count": 37,
   "id": "unique-serum",
   "metadata": {},
   "outputs": [],
   "source": [
    "features_analytical_l2 = np.zeros((len(distances), nmax))\n",
    "features_numerical_l2 = np.zeros((len(distances), nmax))\n",
    "\n",
    "for i_dist, d in enumerate(distances):\n",
    "    features_analytical_l2[i_dist] = coefficients_analytical_general_l(nmax, d, l=2)\n",
    "    features_numerical_l2[i_dist] = coefficients_semianalytical_general_l(nmax, d, l=2)"
   ]
  },
  {
   "cell_type": "code",
   "execution_count": 38,
   "id": "medical-implementation",
   "metadata": {},
   "outputs": [],
   "source": [
    "delta_l2 = np.linalg.norm(features_analytical_l2 - features_numerical_l2)"
   ]
  },
  {
   "cell_type": "code",
   "execution_count": 39,
   "id": "breeding-transcription",
   "metadata": {},
   "outputs": [
    {
     "name": "stdout",
     "output_type": "stream",
     "text": [
      "[[  0.89072919   1.33331922  -0.41946173   0.61648506  -0.11676841]\n",
      " [  0.86723178   1.25348617  -0.77273136   0.64911052  -0.16354892]\n",
      " [  0.83897399   1.1886387   -1.41647251   0.7126314   -0.2276711 ]\n",
      " [  0.8049768    1.13426719  -3.00634649   0.82081624  -0.32153511]\n",
      " [  0.76396914   1.08711625 -14.0322585    0.99964281  -0.4690658 ]\n",
      " [  0.71429082   1.04474504   8.06000244   1.30125391  -0.72392735]\n",
      " [  0.65376454   1.00523128   3.60931632   1.84216527  -1.23590695]\n",
      " [  0.57953374   0.96696155   2.49230094   2.9325465   -2.63293641]\n",
      " [  0.48788254   0.92846815   1.98038829   5.70319287 -15.15976337]\n",
      " [  0.37411832   0.88828213   1.68430406  19.22773313   6.45975079]\n",
      " [  0.232779     0.8447737    1.48948601 -35.14184813   3.31801263]\n",
      " [  0.05890089   0.79594248   1.35000691 -14.37528602   2.56465471]\n",
      " [ -0.14785559   0.73909481   1.24379946 -12.96862273   2.30305052]\n",
      " [ -0.37285166   0.67028227   1.1588793  -17.33449825   2.24223698]\n",
      " [ -0.56794727   0.58321558   1.08811506 -56.51217076   2.29849722]]\n"
     ]
    }
   ],
   "source": [
    "print(features_L2_pylode / features_analytical_l2)"
   ]
  },
  {
   "cell_type": "code",
   "execution_count": 40,
   "id": "catholic-seeking",
   "metadata": {},
   "outputs": [
    {
     "name": "stdout",
     "output_type": "stream",
     "text": [
      "[[  0.89072919   1.33331922  -0.41946173   0.61648506  -0.11676841]\n",
      " [  0.86723178   1.25348617  -0.77273136   0.64911052  -0.16354892]\n",
      " [  0.83897399   1.1886387   -1.41647251   0.7126314   -0.2276711 ]\n",
      " [  0.8049768    1.13426719  -3.00634649   0.82081624  -0.32153511]\n",
      " [  0.76396914   1.08711625 -14.0322585    0.99964281  -0.4690658 ]\n",
      " [  0.71429082   1.04474504   8.06000244   1.30125391  -0.72392735]\n",
      " [  0.65376454   1.00523128   3.60931632   1.84216527  -1.23590695]\n",
      " [  0.57953374   0.96696155   2.49230094   2.9325465   -2.63293641]\n",
      " [  0.48788254   0.92846815   1.98038829   5.70319287 -15.15976337]\n",
      " [  0.37411832   0.88828213   1.68430406  19.22773313   6.45975079]\n",
      " [  0.232779     0.8447737    1.48948601 -35.14184813   3.31801263]\n",
      " [  0.05890089   0.79594248   1.35000691 -14.37528602   2.56465471]\n",
      " [ -0.14785559   0.73909481   1.24379946 -12.96862273   2.30305052]\n",
      " [ -0.37285166   0.67028227   1.1588793  -17.33449825   2.24223698]\n",
      " [ -0.56794727   0.58321558   1.08811506 -56.51217076   2.29849722]]\n"
     ]
    }
   ],
   "source": [
    "print(features_L2_pylode / features_numerical_l2)"
   ]
  },
  {
   "cell_type": "code",
   "execution_count": 41,
   "id": "confidential-pipeline",
   "metadata": {},
   "outputs": [
    {
     "name": "stdout",
     "output_type": "stream",
     "text": [
      "[[0.03745697 0.03745697 0.03745697 0.03745697 0.03745697]\n",
      " [0.03745697 0.03745697 0.03745697 0.03745697 0.03745697]\n",
      " [0.03745697 0.03745697 0.03745697 0.03745697 0.03745697]\n",
      " [0.03745697 0.03745697 0.03745697 0.03745697 0.03745697]\n",
      " [0.03745697 0.03745697 0.03745697 0.03745697 0.03745697]\n",
      " [0.03745697 0.03745697 0.03745697 0.03745697 0.03745697]\n",
      " [0.03745697 0.03745697 0.03745697 0.03745697 0.03745697]\n",
      " [0.03745697 0.03745697 0.03745697 0.03745697 0.03745697]\n",
      " [0.03745697 0.03745697 0.03745697 0.03745697 0.03745697]\n",
      " [0.03745697 0.03745697 0.03745697 0.03745697 0.03745697]\n",
      " [0.03745697 0.03745697 0.03745697 0.03745697 0.03745697]\n",
      " [0.03745697 0.03745697 0.03745697 0.03745697 0.03745697]\n",
      " [0.03745697 0.03745697 0.03745697 0.03745697 0.03745697]\n",
      " [0.03745697 0.03745697 0.03745697 0.03745697 0.03745697]\n",
      " [0.03745697 0.03745697 0.03745697 0.03745697 0.03745697]]\n"
     ]
    }
   ],
   "source": [
    "print(features_L2_librascal / features_numerical_l2)"
   ]
  },
  {
   "cell_type": "markdown",
   "id": "editorial-engine",
   "metadata": {},
   "source": [
    "## Compare coefficients for general $l$ <a class=\"anchor\" id=\"l_general\"></a>"
   ]
  },
  {
   "cell_type": "code",
   "execution_count": 42,
   "id": "disabled-platform",
   "metadata": {},
   "outputs": [
    {
     "name": "stdout",
     "output_type": "stream",
     "text": [
      "pyLODE vs numerical coefficients for l = 1\n",
      "[[  0.920236   1.492924  -0.262817   0.701547  -0.124722]\n",
      " [  0.896479   1.346663  -0.569511   0.693704  -0.164824]\n",
      " [  0.868059   1.246206  -1.088066   0.728127  -0.22121 ]\n",
      " [  0.834039   1.17164   -2.220504   0.811246  -0.304902]\n",
      " [  0.793206   1.112561  -6.959618   0.962886  -0.43677 ]\n",
      " [  0.743974   1.06293   13.103917   1.226717  -0.662529]\n",
      " [  0.684256   1.018904   4.097849   1.700961  -1.104388]\n",
      " [  0.611301   0.977798   2.648489   2.639292  -2.229499]\n",
      " [  0.5215     0.937528   2.051191   4.901014  -8.867959]\n",
      " [  0.410248   0.896269   1.722451  13.931605   8.036688]\n",
      " [  0.272075   0.852187   1.512322 -61.762128   3.535994]\n",
      " [  0.101733   0.803179   1.36471  -15.866784   2.635075]\n",
      " [ -0.102095   0.746519   1.253802 -13.401137   2.329848]\n",
      " [ -0.327164   0.678304   1.165991 -17.277001   2.250062]\n",
      " [ -0.529509   0.592387   1.093364 -51.166583   2.29586 ]]\n",
      "Difference between numerical and analytical evaluation =  2.548252555056503e-15\n",
      "\n",
      "pyLODE vs numerical coefficients for l = 2\n",
      "[[  0.890729   1.333319  -0.419462   0.616485  -0.116768]\n",
      " [  0.867232   1.253486  -0.772731   0.649111  -0.163549]\n",
      " [  0.838974   1.188639  -1.416473   0.712631  -0.227671]\n",
      " [  0.804977   1.134267  -3.006346   0.820816  -0.321535]\n",
      " [  0.763969   1.087116 -14.032259   0.999643  -0.469066]\n",
      " [  0.714291   1.044745   8.060002   1.301254  -0.723927]\n",
      " [  0.653765   1.005231   3.609316   1.842165  -1.235907]\n",
      " [  0.579534   0.966962   2.492301   2.932546  -2.632936]\n",
      " [  0.487883   0.928468   1.980388   5.703193 -15.159763]\n",
      " [  0.374118   0.888282   1.684304  19.227733   6.459751]\n",
      " [  0.232779   0.844774   1.489486 -35.141848   3.318013]\n",
      " [  0.058901   0.795942   1.350007 -14.375286   2.564655]\n",
      " [ -0.147856   0.739095   1.243799 -12.968623   2.303051]\n",
      " [ -0.372852   0.670282   1.158879 -17.334498   2.242237]\n",
      " [ -0.567947   0.583216   1.088115 -56.512171   2.298497]]\n",
      "Difference between numerical and analytical evaluation =  3.2483772080215955e-15\n",
      "\n",
      "pyLODE vs numerical coefficients for l = 3\n",
      "[[ 8.55369000e-01  1.23274100e+00 -6.94950000e-01  5.97798000e-01\n",
      "  -1.36206000e-01]\n",
      " [ 8.31372000e-01  1.18327200e+00 -1.16919200e+00  6.52454000e-01\n",
      "  -1.87548000e-01]\n",
      " [ 8.02450000e-01  1.13858000e+00 -2.14183500e+00  7.38578000e-01\n",
      "  -2.59839000e-01]\n",
      " [ 7.67569000e-01  1.09771200e+00 -5.30328200e+00  8.73626000e-01\n",
      "  -3.67631000e-01]\n",
      " [ 7.25386000e-01  1.05968000e+00  4.58998030e+01  1.08985000e+00\n",
      "  -5.40389000e-01]\n",
      " [ 6.74153000e-01  1.02350300e+00  5.33935200e+00  1.45262700e+00\n",
      "  -8.47597000e-01]\n",
      " [ 6.11577000e-01  9.88199000e-01  3.10847100e+00  2.11305900e+00\n",
      "  -1.49926200e+00]\n",
      " [ 5.34664000e-01  9.52766000e-01  2.30550700e+00  3.50075700e+00\n",
      "  -3.54933800e+00]\n",
      " [ 4.39545000e-01  9.16134000e-01  1.88947800e+00  7.41960700e+00\n",
      "  -6.38831034e+03]\n",
      " [ 3.21395000e-01  8.77093000e-01  1.63318800e+00  4.04805450e+01\n",
      "   5.06452900e+00]\n",
      " [ 1.74762000e-01  8.34171000e-01  1.45793700e+00 -2.22145190e+01\n",
      "   3.05078200e+00]\n",
      " [-4.85800000e-03  7.85451000e-01  1.32917100e+00 -1.28083140e+01\n",
      "   2.46776400e+00]\n",
      " [-2.16217000e-01  7.28244000e-01  1.22927800e+00 -1.25017720e+01\n",
      "   2.26146900e+00]\n",
      " [-4.40854000e-01  6.58520000e-01  1.14828000e+00 -1.75794940e+01\n",
      "   2.22553400e+00]\n",
      " [-6.24294000e-01  5.69759000e-01  1.08004700e+00 -6.81939180e+01\n",
      "   2.29540900e+00]]\n",
      "Difference between numerical and analytical evaluation =  3.3077660168393117e-15\n",
      "\n",
      "pyLODE vs numerical coefficients for l = 4\n",
      "[[ 8.14584000e-01  1.16378900e+00 -1.17714900e+00  6.22910000e-01\n",
      "  -1.74759000e-01]\n",
      " [ 7.89372000e-01  1.12969400e+00 -1.96094100e+00  6.97377000e-01\n",
      "  -2.33953000e-01]\n",
      " [ 7.59026000e-01  1.09656300e+00 -3.99685600e+00  8.08667000e-01\n",
      "  -3.19952000e-01]\n",
      " [ 7.22433000e-01  1.06429000e+00 -2.20185580e+01  9.79183000e-01\n",
      "  -4.51568000e-01]\n",
      " [ 6.78141000e-01  1.03260200e+00  8.31853000e+00  1.25131400e+00\n",
      "  -6.69044000e-01]\n",
      " [ 6.24263000e-01  1.00107400e+00  3.88828100e+00  1.71430900e+00\n",
      "  -1.07481000e+00]\n",
      " [ 5.58343000e-01  9.69145000e-01  2.68325800e+00  2.58781500e+00\n",
      "  -2.02335100e+00]\n",
      " [ 4.77203000e-01  9.36112000e-01  2.11956700e+00  4.57191900e+00\n",
      "  -6.08697800e+00]\n",
      " [ 3.76789000e-01  9.01108000e-01  1.79135500e+00  1.15282130e+01\n",
      "   1.28890570e+01]\n",
      " [ 2.52165000e-01  8.63050000e-01  1.57527500e+00 -1.40947617e+02\n",
      "   4.04896000e+00]\n",
      " [ 9.80170000e-02  8.20540000e-01  1.42105600e+00 -1.56434930e+01\n",
      "   2.79643800e+00]\n",
      " [-8.93150000e-02  7.71679000e-01  1.30432000e+00 -1.14394880e+01\n",
      "   2.37195500e+00]\n",
      " [-3.06040000e-01  7.13734000e-01  1.21175900e+00 -1.20989460e+01\n",
      "   2.22377700e+00]\n",
      " [-5.28014000e-01  6.42520000e-01  1.13544900e+00 -1.81282650e+01\n",
      "   2.21616200e+00]\n",
      " [-6.92249000e-01  5.51164000e-01  1.07032600e+00 -9.74609150e+01\n",
      "   2.30279300e+00]]\n",
      "Difference between numerical and analytical evaluation =  2.4680062229605105e-15\n",
      "\n"
     ]
    }
   ],
   "source": [
    "for l in range(1, lmax+1):\n",
    "    lm_index = l**2 + l\n",
    "    \n",
    "    # Get the features from the spherical expansion codes\n",
    "    features_l_pylode = features_pylode[0::2, 0, :, lm_index]\n",
    "    features_l_rascaline = descriptor_rascaline.values[0::2, lm_index*nmax:(lm_index+1)*nmax] / 10.962374348347298 \n",
    "    features_l_librascal = features_librascal[0::2, lm_index::(lmax+1)**2]\n",
    "    \n",
    "    # Get the features from the analytical and numerical evaluations\n",
    "    features_l_analytical = np.zeros((len(distances), nmax))\n",
    "    features_l_numerical = np.zeros((len(distances), nmax))\n",
    "    for i_dist, d in enumerate(distances):\n",
    "        features_l_analytical[i_dist] = coefficients_analytical_general_l(nmax, d, l=l)\n",
    "        features_l_numerical[i_dist] = coefficients_semianalytical_general_l(nmax, d, l=l)\n",
    "    assert_allclose(features_l_analytical, features_l_numerical, atol=1e-9, rtol=1e-7)\n",
    "    \n",
    "    # Compare the coefficients\n",
    "    ratios = features_l_pylode / features_l_numerical\n",
    "    err = np.linalg.norm(features_l_analytical - features_l_numerical)\n",
    "    print(f'pyLODE vs numerical coefficients for l = {l}')\n",
    "    print(np.round(ratios,6))\n",
    "    print('Difference between numerical and analytical evaluation = ', err)\n",
    "    print()"
   ]
  },
  {
   "cell_type": "markdown",
   "id": "tribal-preservation",
   "metadata": {},
   "source": [
    "# Coefficients for $l=0$  <a class=\"anchor\" id=\"l=0\"></a>"
   ]
  },
  {
   "cell_type": "markdown",
   "id": "spanish-cherry",
   "metadata": {},
   "source": [
    "## Compute the exact expressions for reference <a class=\"anchor\" id=\"l=0exact\"></a>"
   ]
  },
  {
   "cell_type": "markdown",
   "id": "biblical-sellers",
   "metadata": {},
   "source": [
    "### Hybrid analytical-numerical computation"
   ]
  },
  {
   "cell_type": "markdown",
   "id": "theoretical-worker",
   "metadata": {},
   "source": [
    "Here, we use the convention that the Gaussian density is normalized to one, i.e. contains the factor of $1/(2\\pi\\sigma^2)^{3/2}$. The spherical harmonic $Y_{00}$ is the constant function whose value is $1/\\sqrt{4\\pi}$ and the GTO's are orthonormalized starting from the primitive ones using the usual procedure."
   ]
  },
  {
   "cell_type": "code",
   "execution_count": 43,
   "id": "chief-composition",
   "metadata": {},
   "outputs": [],
   "source": [
    "def compute_coeffs_explicit_l0(d):\n",
    "    # Start computing coefficients for l=0\n",
    "    featvec = np.zeros((nmax))\n",
    "    \n",
    "    # Case 1: If the distance is zero, the integrals\n",
    "    # can easily be computed by hand. Furthermore,\n",
    "    # separating this case out is convenient since\n",
    "    # the general expression as a function of the pair\n",
    "    # distance d has a (removable) singularity at d=0\n",
    "    if d == 0:\n",
    "        prefac = np.sqrt(np.pi)\n",
    "        prefac /= (np.pi*smearing**2)**(3/4)\n",
    "        \n",
    "        featvec = np.zeros((nmax))\n",
    "        for n in range(nmax):\n",
    "            b = 0.5 * (1/smearing**2 + 1/sigma[n]**2)\n",
    "            neff = (3+n) / 2\n",
    "            featvec[n] = prefac * normalizations[n] * b**(-neff) * gamma(neff)\n",
    "    \n",
    "    # Case 2: For nonzero pair distances (i.e. all proper neighbor contributions),\n",
    "    # the final integral over the radial variable results in a hypergeometric function\n",
    "    # in a fully analytical treatment. Here, we perform the final integral numerically.\n",
    "    else:\n",
    "        # Define auxilary quantities and prefactors\n",
    "        a = d / smearing**2\n",
    "        prefac = 1. / (np.sqrt(2) * np.pi * smearing * d) * np.exp(-0.5*d**2/smearing**2)\n",
    "        prefac *= (2*np.pi*smearing**2)**1.5 / (np.pi*smearing**2)**(3/4)\n",
    "        \n",
    "        # Start main loop\n",
    "        for n in range(nmax):\n",
    "            # Compute contribution for primitive GTO function\n",
    "            powerlaw = lambda r: r**(1+n)\n",
    "            b = 0.5 * (1/smearing**2 + 1/sigma[n]**2)\n",
    "            gaussian = lambda r: np.exp(-b * r**2)\n",
    "            sinh = lambda r: np.sinh(a * r)\n",
    "            integrand = lambda r: powerlaw(r) * gaussian(r) * sinh(r)\n",
    "\n",
    "            # Numerical Integration\n",
    "            featvec[n] = prefac * normalizations[n] * quad(integrand, 1e-10, 4.5 * rcut)[0]\n",
    "    #return featvec\n",
    "    return transformation @ featvec"
   ]
  },
  {
   "cell_type": "code",
   "execution_count": 44,
   "id": "working-satellite",
   "metadata": {},
   "outputs": [
    {
     "data": {
      "text/plain": [
       "Text(0, 0.5, 'Contribution to <n00|rho_i>')"
      ]
     },
     "execution_count": 44,
     "metadata": {},
     "output_type": "execute_result"
    },
    {
     "data": {
      "image/png": "[encoded data removed]",
      "text/plain": [
       "<Figure size 432x288 with 1 Axes>"
      ]
     },
     "metadata": {
      "needs_background": "light"
     },
     "output_type": "display_data"
    }
   ],
   "source": [
    "# Start plotting the behavior of the neighbor contribution as a function of the pair distance r_ij\n",
    "Ndist = 50\n",
    "dd = np.linspace(0, rcut, Ndist)\n",
    "coeffs_exact = np.zeros((nmax, Ndist))\n",
    "for i, d in enumerate(dd):\n",
    "    coeffs_exact[:,i] = compute_coeffs_explicit_l0(d)\n",
    "\n",
    "\n",
    "# Make plot\n",
    "for n in range(nmax):\n",
    "    plt.plot(dd, coeffs_exact[n], label=f'n={n}')\n",
    "plt.legend()\n",
    "plt.xlabel('Pair distance rij')\n",
    "plt.ylabel('Contribution to <n00|rho_i>')"
   ]
  },
  {
   "cell_type": "markdown",
   "id": "piano-apache",
   "metadata": {},
   "source": [
    "Remark: This plot was mostly used to make sure that the implementation for small distances $r_{ij} \\rightarrow 0$ does indeed converge to the special case $r_{ij}=0$ which is implemented separately."
   ]
  },
  {
   "cell_type": "markdown",
   "id": "provincial-kitty",
   "metadata": {},
   "source": [
    "### Comparison to fully analytical general expression"
   ]
  },
  {
   "cell_type": "code",
   "execution_count": 45,
   "id": "chinese-throw",
   "metadata": {},
   "outputs": [
    {
     "name": "stderr",
     "output_type": "stream",
     "text": [
      "<ipython-input-14-71a9a352488c>:14: RuntimeWarning: divide by zero encountered in double_scalars\n",
      "  mod_sph_bessel = lambda x: np.sqrt(np.pi/2/x) * iv(l + 0.5, x)\n",
      "<ipython-input-14-71a9a352488c>:14: RuntimeWarning: invalid value encountered in double_scalars\n",
      "  mod_sph_bessel = lambda x: np.sqrt(np.pi/2/x) * iv(l + 0.5, x)\n",
      "<ipython-input-14-71a9a352488c>:20: IntegrationWarning: The occurrence of roundoff error is detected, which prevents \n",
      "  the requested tolerance from being achieved.  The error may be \n",
      "  underestimated.\n",
      "  featvec[n] = normalizations[n] * quad(integrand, eps, 4.5*rcut)[0]\n"
     ]
    }
   ],
   "source": [
    "coeffs_from_general_analytical = np.zeros((nmax, Ndist))\n",
    "coeffs_from_general_numerical = np.zeros((nmax, Ndist))\n",
    "for i, d in enumerate(dd):\n",
    "    coeffs_from_general_analytical[:,i] = coefficients_analytical_general_l(nmax, d, l=0)\n",
    "    coeffs_from_general_numerical[:,i] = coefficients_semianalytical_general_l(nmax, d, l=0)"
   ]
  },
  {
   "cell_type": "code",
   "execution_count": 46,
   "id": "stylish-popularity",
   "metadata": {},
   "outputs": [
    {
     "data": {
      "text/plain": [
       "Text(0, 0.5, 'Contribution to <n00|rho_i>')"
      ]
     },
     "execution_count": 46,
     "metadata": {},
     "output_type": "execute_result"
    },
    {
     "data": {
      "image/png": "[encoded data removed]",
      "text/plain": [
       "<Figure size 432x288 with 1 Axes>"
      ]
     },
     "metadata": {
      "needs_background": "light"
     },
     "output_type": "display_data"
    }
   ],
   "source": [
    "# Make plot\n",
    "for n in range(nmax):\n",
    "    plt.plot(dd, coeffs_exact[n], 'k')\n",
    "    plt.plot(dd, coeffs_from_general_analytical[n], 'b')\n",
    "    plt.plot(dd, 0.005+coeffs_from_general_numerical[n], 'r')\n",
    "    \n",
    "plt.plot(dd, coeffs_exact[0], label=f'exact', c='k')\n",
    "plt.plot(dd, 0.01+coeffs_from_general_analytical[0], label=f'analytical', c='b')\n",
    "plt.plot(dd, -0.01+coeffs_from_general_numerical[0], label=f'numerical', c='r')\n",
    "plt.legend()\n",
    "plt.xlabel('Pair distance rij')\n",
    "plt.ylabel('Contribution to <n00|rho_i>')"
   ]
  },
  {
   "cell_type": "code",
   "execution_count": 47,
   "id": "crucial-joint",
   "metadata": {},
   "outputs": [
    {
     "name": "stdout",
     "output_type": "stream",
     "text": [
      "2.1021632159171388e-15\n",
      "1.8423904127177282e-15\n",
      "3.687205184859943e-15\n",
      "3.63667396936402e-15\n",
      "7.383008069343714e-15\n",
      "7.416438570900206e-15\n",
      "1.5129578277370977e-14\n",
      "1.519949299267051e-14\n",
      "1.492595186371145e-14\n",
      "1.496502908630462e-14\n"
     ]
    }
   ],
   "source": [
    "for n in range(nmax):\n",
    "    diff1 = coeffs_exact[n] - coeffs_from_general_analytical[n]\n",
    "    diff2 = coeffs_from_general_numerical[n] - coeffs_from_general_analytical[n]\n",
    "    print(np.linalg.norm(diff1))\n",
    "    print(np.linalg.norm(diff2[1:])) # first entry at d=0 is NaN for numerical evaluation"
   ]
  },
  {
   "cell_type": "markdown",
   "id": "split-stomach",
   "metadata": {},
   "source": [
    "## Compare exact coefficients with those from pyLODE and Rascal: Center atom contribution <a class=\"anchor\" id=\"l=0center\"></a>"
   ]
  },
  {
   "cell_type": "markdown",
   "id": "corporate-matthew",
   "metadata": {},
   "source": [
    "Note that $l=0$ is more complicated compared to $l=1,2,\\dots$ even for dimers since the center atom contributes to the density as well. We begin this investigation by using a frame that only consists of a single atom."
   ]
  },
  {
   "cell_type": "markdown",
   "id": "historical-preservation",
   "metadata": {},
   "source": [
    "### Get the coefficients from the three codes"
   ]
  },
  {
   "cell_type": "code",
   "execution_count": 48,
   "id": "taken-resistance",
   "metadata": {},
   "outputs": [],
   "source": [
    "frames.append(Atoms('O', positions=[[1,1,1]], cell=cell, pbc=True))\n",
    "frames.append(Atoms('O', positions=[[1,1,1]], cell=1.2*cell, pbc=True))"
   ]
  },
  {
   "cell_type": "code",
   "execution_count": 49,
   "id": "wicked-sierra",
   "metadata": {},
   "outputs": [],
   "source": [
    "features_librascal_single = calculator_librascal.transform(frames).get_features(calculator_librascal)[-2:]\n",
    "calculator_pylode.transform(frames)\n",
    "features_pylode_single = calculator_pylode.features[-2:]\n",
    "features_rascaline_single = calculator_rascaline.compute(frames).values[-2:]"
   ]
  },
  {
   "cell_type": "markdown",
   "id": "entertaining-obligation",
   "metadata": {},
   "source": [
    "### Sanity check 1: Make sure the feature vectors only contain nonzero entries for l=0"
   ]
  },
  {
   "cell_type": "code",
   "execution_count": 50,
   "id": "little-motion",
   "metadata": {},
   "outputs": [
    {
     "data": {
      "text/plain": [
       "(2, 1, 5, 25)"
      ]
     },
     "execution_count": 50,
     "metadata": {},
     "output_type": "execute_result"
    }
   ],
   "source": [
    "features_pylode_single.shape"
   ]
  },
  {
   "cell_type": "code",
   "execution_count": 51,
   "id": "dressed-century",
   "metadata": {},
   "outputs": [
    {
     "data": {
      "text/plain": [
       "(2, 125)"
      ]
     },
     "execution_count": 51,
     "metadata": {},
     "output_type": "execute_result"
    }
   ],
   "source": [
    "features_librascal_single.shape"
   ]
  },
  {
   "cell_type": "code",
   "execution_count": 52,
   "id": "likely-occurrence",
   "metadata": {},
   "outputs": [
    {
     "data": {
      "text/plain": [
       "(2, 125)"
      ]
     },
     "execution_count": 52,
     "metadata": {},
     "output_type": "execute_result"
    }
   ],
   "source": [
    "features_rascaline_single.shape"
   ]
  },
  {
   "cell_type": "code",
   "execution_count": 53,
   "id": "individual-tomato",
   "metadata": {},
   "outputs": [
    {
     "data": {
      "text/plain": [
       "array([[[[ 9.32368760e-01,  0.00000000e+00,  0.00000000e+00,\n",
       "           0.00000000e+00,  5.77976256e-18,  1.27055985e-18,\n",
       "           4.53014170e-17,  5.71323674e-18, -2.52052997e-17,\n",
       "           0.00000000e+00,  0.00000000e+00,  0.00000000e+00,\n",
       "           0.00000000e+00,  0.00000000e+00,  0.00000000e+00,\n",
       "           0.00000000e+00, -1.29858385e-18,  2.01905840e-19,\n",
       "           2.90584747e-18,  1.77790233e-19, -9.82238971e-08,\n",
       "           4.23370268e-18,  3.32096854e-18, -1.65250117e-18,\n",
       "          -8.30143445e-08],\n",
       "         [-1.04852494e-01,  0.00000000e+00,  0.00000000e+00,\n",
       "           0.00000000e+00,  2.33212887e-17, -2.89607649e-18,\n",
       "           2.73341257e-17,  1.18242978e-17, -6.31835553e-17,\n",
       "           0.00000000e+00,  0.00000000e+00,  0.00000000e+00,\n",
       "           0.00000000e+00,  0.00000000e+00,  0.00000000e+00,\n",
       "           0.00000000e+00, -9.76598922e-18,  1.17584373e-18,\n",
       "          -9.18987569e-18, -7.53178219e-18,  7.51178412e-08,\n",
       "          -3.41965958e-17,  1.64558249e-17, -2.05232130e-19,\n",
       "           6.34861631e-08],\n",
       "         [-2.26568223e-02,  0.00000000e+00,  0.00000000e+00,\n",
       "           0.00000000e+00, -1.60267334e-17,  6.26264900e-18,\n",
       "           3.06018736e-17, -2.91066228e-17,  2.64932394e-17,\n",
       "           0.00000000e+00,  0.00000000e+00,  0.00000000e+00,\n",
       "           0.00000000e+00,  0.00000000e+00,  0.00000000e+00,\n",
       "           0.00000000e+00, -8.25452277e-18,  8.22121828e-18,\n",
       "           2.29181423e-18,  1.54793091e-17,  1.62398526e-07,\n",
       "           1.12224056e-17,  4.04743041e-18, -4.12942347e-18,\n",
       "           1.37251805e-07],\n",
       "         [ 9.94096009e-03,  0.00000000e+00,  0.00000000e+00,\n",
       "           0.00000000e+00,  5.88936383e-18, -6.23354655e-21,\n",
       "           4.27501521e-17,  9.57428054e-18, -6.24677376e-19,\n",
       "           0.00000000e+00,  0.00000000e+00,  0.00000000e+00,\n",
       "           0.00000000e+00,  0.00000000e+00,  0.00000000e+00,\n",
       "           0.00000000e+00, -8.83612468e-18,  8.51566776e-18,\n",
       "          -2.91635024e-17,  1.03815479e-17, -2.39376536e-07,\n",
       "          -3.04664312e-17,  1.99843540e-17, -2.50674042e-17,\n",
       "          -2.02310098e-07],\n",
       "         [-1.69180184e-02,  0.00000000e+00,  0.00000000e+00,\n",
       "           0.00000000e+00,  1.03427576e-17, -5.26739816e-18,\n",
       "          -6.67029371e-18, -1.65974787e-18,  6.71744388e-19,\n",
       "           0.00000000e+00,  0.00000000e+00,  0.00000000e+00,\n",
       "           0.00000000e+00,  0.00000000e+00,  0.00000000e+00,\n",
       "           0.00000000e+00, -1.83041406e-17, -8.76852237e-18,\n",
       "           1.06224233e-17,  8.14335628e-18,  1.76005412e-07,\n",
       "           8.23675830e-18,  7.96035394e-18, -4.23645532e-18,\n",
       "           1.48751723e-07]]],\n",
       "\n",
       "\n",
       "       [[[ 9.33160465e-01,  0.00000000e+00,  0.00000000e+00,\n",
       "           0.00000000e+00,  4.21315406e-18, -1.16283227e-18,\n",
       "          -9.49032288e-18, -6.20400874e-18, -3.86960399e-17,\n",
       "           0.00000000e+00,  0.00000000e+00,  0.00000000e+00,\n",
       "           0.00000000e+00,  0.00000000e+00,  0.00000000e+00,\n",
       "           0.00000000e+00,  5.75122960e-19, -4.74532987e-19,\n",
       "           2.66351084e-18,  2.36917524e-18,  2.64965228e-08,\n",
       "           3.36158462e-18, -5.64853423e-18,  2.69106902e-18,\n",
       "           2.23936490e-08],\n",
       "         [-1.05162114e-01,  0.00000000e+00,  0.00000000e+00,\n",
       "           0.00000000e+00, -2.20152303e-17, -5.01293066e-18,\n",
       "           1.75298210e-17,  6.16107946e-18, -1.89203952e-17,\n",
       "           0.00000000e+00,  0.00000000e+00,  0.00000000e+00,\n",
       "           0.00000000e+00,  0.00000000e+00,  0.00000000e+00,\n",
       "           0.00000000e+00,  1.28306655e-18, -7.33280872e-18,\n",
       "          -1.26314346e-17, -5.39015697e-18, -4.05322407e-08,\n",
       "          -9.12617449e-18,  1.38441447e-17, -1.48190048e-18,\n",
       "          -3.42559957e-08],\n",
       "         [-1.99055288e-02,  0.00000000e+00,  0.00000000e+00,\n",
       "           0.00000000e+00, -1.41117756e-17, -4.57883176e-18,\n",
       "           9.45192040e-18,  4.07385984e-18, -2.12199727e-17,\n",
       "           0.00000000e+00,  0.00000000e+00,  0.00000000e+00,\n",
       "           0.00000000e+00,  0.00000000e+00,  0.00000000e+00,\n",
       "           0.00000000e+00, -2.60614171e-17, -1.58492370e-18,\n",
       "          -4.64876723e-18, -4.06731642e-18,  4.05495977e-08,\n",
       "           1.26890665e-17, -1.26554000e-17,  5.36570577e-18,\n",
       "           3.42706650e-08],\n",
       "         [ 8.34813344e-03,  0.00000000e+00,  0.00000000e+00,\n",
       "           0.00000000e+00, -2.68576040e-18,  4.47487876e-18,\n",
       "          -1.66158129e-19, -6.12842635e-18, -3.73419191e-17,\n",
       "           0.00000000e+00,  0.00000000e+00,  0.00000000e+00,\n",
       "           0.00000000e+00,  0.00000000e+00,  0.00000000e+00,\n",
       "           0.00000000e+00,  2.90779734e-19,  5.37097627e-18,\n",
       "           9.52597331e-18,  1.19797138e-18, -5.27611960e-08,\n",
       "          -1.90604333e-17,  3.65831331e-17, -1.10382436e-17,\n",
       "          -4.45913493e-08],\n",
       "         [-9.83296048e-03,  0.00000000e+00,  0.00000000e+00,\n",
       "           0.00000000e+00, -5.86637541e-18,  1.69188540e-18,\n",
       "           2.76541458e-17, -1.03816061e-18, -2.74043612e-18,\n",
       "           0.00000000e+00,  0.00000000e+00,  0.00000000e+00,\n",
       "           0.00000000e+00,  0.00000000e+00,  0.00000000e+00,\n",
       "           0.00000000e+00, -7.23339326e-18, -1.18753902e-17,\n",
       "          -1.24809797e-17,  5.99667460e-18,  3.59215570e-08,\n",
       "          -2.07621798e-17,  6.81716330e-18,  1.54468142e-17,\n",
       "           3.03592567e-08]]]])"
      ]
     },
     "execution_count": 53,
     "metadata": {},
     "output_type": "execute_result"
    }
   ],
   "source": [
    "features_pylode_single"
   ]
  },
  {
   "cell_type": "code",
   "execution_count": 54,
   "id": "emerging-tract",
   "metadata": {},
   "outputs": [
    {
     "name": "stdout",
     "output_type": "stream",
     "text": [
      "[[ 0.1351241  -0.03919247  0.00272506 -0.00625739  0.00309146  0.\n",
      "   0.          0.          0.          0.          0.          0.\n",
      "   0.          0.          0.          0.          0.          0.\n",
      "   0.          0.          0.          0.          0.          0.\n",
      "   0.          0.          0.          0.          0.          0.\n",
      "   0.          0.          0.          0.          0.          0.\n",
      "   0.          0.          0.          0.          0.          0.\n",
      "   0.          0.          0.          0.          0.          0.\n",
      "   0.          0.          0.          0.          0.          0.\n",
      "   0.          0.          0.          0.          0.          0.\n",
      "   0.          0.          0.          0.          0.          0.\n",
      "   0.          0.          0.          0.          0.          0.\n",
      "   0.          0.          0.          0.          0.          0.\n",
      "   0.          0.          0.          0.          0.          0.\n",
      "   0.          0.          0.          0.          0.          0.\n",
      "   0.          0.          0.          0.          0.          0.\n",
      "   0.          0.          0.          0.          0.          0.\n",
      "   0.          0.          0.          0.          0.          0.\n",
      "   0.          0.          0.          0.          0.          0.\n",
      "   0.          0.          0.          0.          0.          0.\n",
      "   0.          0.          0.          0.          0.        ]\n",
      " [ 0.1351241  -0.03919247  0.00272506 -0.00625739  0.00309146  0.\n",
      "   0.          0.          0.          0.          0.          0.\n",
      "   0.          0.          0.          0.          0.          0.\n",
      "   0.          0.          0.          0.          0.          0.\n",
      "   0.          0.          0.          0.          0.          0.\n",
      "   0.          0.          0.          0.          0.          0.\n",
      "   0.          0.          0.          0.          0.          0.\n",
      "   0.          0.          0.          0.          0.          0.\n",
      "   0.          0.          0.          0.          0.          0.\n",
      "   0.          0.          0.          0.          0.          0.\n",
      "   0.          0.          0.          0.          0.          0.\n",
      "   0.          0.          0.          0.          0.          0.\n",
      "   0.          0.          0.          0.          0.          0.\n",
      "   0.          0.          0.          0.          0.          0.\n",
      "   0.          0.          0.          0.          0.          0.\n",
      "   0.          0.          0.          0.          0.          0.\n",
      "   0.          0.          0.          0.          0.          0.\n",
      "   0.          0.          0.          0.          0.          0.\n",
      "   0.          0.          0.          0.          0.          0.\n",
      "   0.          0.          0.          0.          0.          0.\n",
      "   0.          0.          0.          0.          0.        ]]\n"
     ]
    }
   ],
   "source": [
    "print(features_rascaline_single)"
   ]
  },
  {
   "cell_type": "markdown",
   "id": "suspected-bankruptcy",
   "metadata": {},
   "source": [
    "Comment: Rascaline seems to exclude the center contribution by default, leading to coefficients that are zero everywhere. This is not an error of the code per se, but is something that should be kept in mind."
   ]
  },
  {
   "cell_type": "markdown",
   "id": "sporting-melissa",
   "metadata": {},
   "source": [
    "Make sure that the coefficients apart from those at $l=0$ are zero (since we only have a single atom in the structure, the density is spherically symmetric and thus only the $l=0$ projection survives)"
   ]
  },
  {
   "cell_type": "code",
   "execution_count": 55,
   "id": "blind-pastor",
   "metadata": {},
   "outputs": [],
   "source": [
    "for i in range(len(features_pylode_single)):\n",
    "    # The l=0 coefficients for pyLODE are contained in [n,l]=[:,0]\n",
    "    feat = features_pylode_single[i,0]\n",
    "    feat_zero = feat[:,1:]\n",
    "    assert_allclose(feat_zero, np.zeros_like(feat_zero), atol=3e-6)\n",
    "    \n",
    "    # The l=0 coefficients for librascal are separated by (lmax+1)**2\n",
    "    feat = features_librascal_single[i]\n",
    "    for n in range(nmax):\n",
    "        for lm in range((lmax+1)**2):\n",
    "            if lm != 0:\n",
    "                assert abs(feat[n*(lmax+1)**2 + lm]) < 1e-8\n",
    "    \n",
    "    # The l=0 coefficients of rascaline are the first nmax entries.\n",
    "    # Thus, all the remaining contributions should be zero.\n",
    "    #feat = np.round(features_rascaline_single[i],15)\n",
    "    #assert_allclose(feat[nmax:], np.zeros_like(feat[nmax:]), atol=1e-8)"
   ]
  },
  {
   "cell_type": "markdown",
   "id": "alive-complaint",
   "metadata": {},
   "source": [
    "### Sanity check 2: Coefficients should be (for pyLODE: mostly) independent of the cell"
   ]
  },
  {
   "cell_type": "code",
   "execution_count": 56,
   "id": "proved-monkey",
   "metadata": {},
   "outputs": [],
   "source": [
    "# For librascal and rascaline, the features should be completely independent of the cell\n",
    "for feats in [features_librascal_single]:\n",
    "    feat1 = feats[0]\n",
    "    feat2 = feats[1]\n",
    "    assert_allclose(feat1, feat2, rtol=1e-10)"
   ]
  },
  {
   "cell_type": "code",
   "execution_count": 58,
   "id": "activated-fight",
   "metadata": {},
   "outputs": [],
   "source": [
    "# For pyLODE, the k-space sum does lead to a weak dependence on the cell that depends on\n",
    "# how well the k-space converged.\n",
    "feat1 = features_pylode_single[0]\n",
    "feat2 = features_pylode_single[1]\n",
    "#assert_allclose(feat1, feat2, rtol=1e-10, atol=1e-5)"
   ]
  },
  {
   "cell_type": "markdown",
   "id": "favorite-surveillance",
   "metadata": {},
   "source": [
    "### Compare pyLODE and rascal coefficients with exact values"
   ]
  },
  {
   "cell_type": "code",
   "execution_count": 59,
   "id": "inappropriate-potter",
   "metadata": {},
   "outputs": [],
   "source": [
    "feat_pylode_l0_zero = features_pylode_single[0,0,:,0]"
   ]
  },
  {
   "cell_type": "code",
   "execution_count": 60,
   "id": "pursuant-interest",
   "metadata": {},
   "outputs": [],
   "source": [
    "coeffs_exact_center = coeffs_exact[:,0] # take the r_{ij} = 0 part"
   ]
  },
  {
   "cell_type": "code",
   "execution_count": 61,
   "id": "regulation-intermediate",
   "metadata": {},
   "outputs": [
    {
     "name": "stdout",
     "output_type": "stream",
     "text": [
      "Exact center contributions [ 0.90186227 -0.26158334  0.01818794 -0.04176387  0.02063339]\n"
     ]
    }
   ],
   "source": [
    "print('Exact center contributions', coeffs_exact_center)"
   ]
  },
  {
   "cell_type": "code",
   "execution_count": 62,
   "id": "experienced-passion",
   "metadata": {},
   "outputs": [
    {
     "name": "stdout",
     "output_type": "stream",
     "text": [
      "Comparison to pyLODE\n",
      "[ 1.0338261   0.40083781 -1.2457059  -0.23802776 -0.81993403]\n"
     ]
    }
   ],
   "source": [
    "print('Comparison to pyLODE')\n",
    "print(feat_pylode_l0_zero / coeffs_exact_center)"
   ]
  },
  {
   "cell_type": "code",
   "execution_count": 63,
   "id": "veterinary-poster",
   "metadata": {
    "scrolled": true
   },
   "outputs": [
    {
     "name": "stdout",
     "output_type": "stream",
     "text": [
      "Comparison to librascal\n",
      "[0.03745697 0.03745697 0.03745697 0.03745697 0.03745697]\n"
     ]
    }
   ],
   "source": [
    "print('Comparison to librascal')\n",
    "feat_librascal_l0_nonzeropart = features_librascal_single[0,::(lmax+1)**2]\n",
    "print(feat_librascal_l0_nonzeropart / coeffs_exact_center)"
   ]
  },
  {
   "cell_type": "code",
   "execution_count": 64,
   "id": "offensive-insertion",
   "metadata": {},
   "outputs": [
    {
     "data": {
      "text/plain": [
       "array([ 0.0362314 ,  0.09344669, -0.03006887, -0.15736386, -0.0456829 ])"
      ]
     },
     "execution_count": 64,
     "metadata": {},
     "output_type": "execute_result"
    }
   ],
   "source": [
    "feat_librascal_l0_nonzeropart / feat_pylode_l0_zero"
   ]
  },
  {
   "cell_type": "code",
   "execution_count": 65,
   "id": "bridal-harvest",
   "metadata": {},
   "outputs": [
    {
     "data": {
      "text/plain": [
       "0.5079490874739278"
      ]
     },
     "execution_count": 65,
     "metadata": {},
     "output_type": "execute_result"
    }
   ],
   "source": [
    "1./(2*np.pi*smearing**2)**1.5"
   ]
  },
  {
   "cell_type": "code",
   "execution_count": 66,
   "id": "secondary-deposit",
   "metadata": {},
   "outputs": [
    {
     "data": {
      "text/plain": [
       "array([ 0.03378103, -0.00979812,  0.00068127, -0.00156435,  0.00077286])"
      ]
     },
     "execution_count": 66,
     "metadata": {},
     "output_type": "execute_result"
    }
   ],
   "source": [
    "feat_librascal_l0_nonzeropart"
   ]
  },
  {
   "cell_type": "code",
   "execution_count": 67,
   "id": "chicken-exposure",
   "metadata": {},
   "outputs": [
    {
     "name": "stdout",
     "output_type": "stream",
     "text": [
      "Comparison to rascaline\n",
      "[0.14982787 0.14982787 0.14982787 0.14982787 0.14982787]\n"
     ]
    }
   ],
   "source": [
    "print('Comparison to rascaline')\n",
    "feat_rascaline_l0_nonzeropart = features_rascaline_single[0,:nmax]\n",
    "print(feat_rascaline_l0_nonzeropart / coeffs_exact_center)"
   ]
  },
  {
   "cell_type": "markdown",
   "id": "approved-filter",
   "metadata": {},
   "source": [
    "## Compare exact coefficients with those from pyLODE and Rascal: Dimers <a class=\"anchor\" id=\"l=0dimer\"></a>"
   ]
  },
  {
   "cell_type": "markdown",
   "id": "civil-drawing",
   "metadata": {},
   "source": [
    "TODO"
   ]
  },
  {
   "cell_type": "markdown",
   "id": "attached-cloud",
   "metadata": {},
   "source": [
    "## Norm tests"
   ]
  },
  {
   "cell_type": "code",
   "execution_count": 68,
   "id": "settled-testimony",
   "metadata": {},
   "outputs": [],
   "source": [
    "features_pylode_single = calculator_pylode.features[-2:]\n",
    "features_pylode_dimers = calculator_pylode.features[:-2]"
   ]
  },
  {
   "cell_type": "code",
   "execution_count": 69,
   "id": "laden-nightlife",
   "metadata": {},
   "outputs": [],
   "source": [
    "norm_exact_single = 1./(4 * np.pi * smearing**2)**0.75\n",
    "norm_exact_dimers = np.zeros((Ndimers,))\n",
    "\n",
    "for i, d in enumerate(distances):\n",
    "    norm_exact_dimers[i] = norm_exact_single * np.sqrt(2 + np.exp(-d**2/(4 * smearing**2)))"
   ]
  },
  {
   "cell_type": "code",
   "execution_count": 70,
   "id": "latin-miami",
   "metadata": {},
   "outputs": [
    {
     "data": {
      "text/plain": [
       "(30, 1, 5, 25)"
      ]
     },
     "execution_count": 70,
     "metadata": {},
     "output_type": "execute_result"
    }
   ],
   "source": [
    "features_pylode_dimers.shape"
   ]
  },
  {
   "cell_type": "code",
   "execution_count": 71,
   "id": "engaging-forty",
   "metadata": {},
   "outputs": [
    {
     "name": "stdout",
     "output_type": "stream",
     "text": [
      "0.9387246262621582\n",
      "0.4237772081237576\n",
      "0.9393668785851814\n",
      "0.4237772081237576\n"
     ]
    }
   ],
   "source": [
    "for features in features_pylode_single:\n",
    "    print(norm(features.flatten()))\n",
    "    print(norm_exact_single)"
   ]
  },
  {
   "cell_type": "code",
   "execution_count": 72,
   "id": "private-childhood",
   "metadata": {},
   "outputs": [],
   "source": [
    "norm_pylode_single = np.zeros((2,))\n",
    "for i in range(2):\n",
    "    norm_pylode_single[i] = norm(features_pylode_single[i].flatten())"
   ]
  },
  {
   "cell_type": "code",
   "execution_count": 73,
   "id": "distinct-satin",
   "metadata": {},
   "outputs": [
    {
     "name": "stdout",
     "output_type": "stream",
     "text": [
      "[0.93872463 0.93936688]\n",
      "0.4237772081237576\n"
     ]
    }
   ],
   "source": [
    "print(norm_pylode_single)\n",
    "print(norm_exact_single)"
   ]
  },
  {
   "cell_type": "code",
   "execution_count": 74,
   "id": "functioning-hobby",
   "metadata": {},
   "outputs": [],
   "source": [
    "norm_pylode_dimers = np.zeros_like(distances)\n",
    "for i,d in enumerate(distances):\n",
    "    norm_pylode_dimers[i] = norm(features_pylode_dimers[i].flatten())"
   ]
  },
  {
   "cell_type": "code",
   "execution_count": 76,
   "id": "sonic-carbon",
   "metadata": {},
   "outputs": [
    {
     "data": {
      "text/plain": [
       "(0.0, 1.6580872354723006)"
      ]
     },
     "execution_count": 76,
     "metadata": {},
     "output_type": "execute_result"
    },
    {
     "data": {
      "image/png": "[encoded data removed]",
      "text/plain": [
       "<Figure size 432x288 with 1 Axes>"
      ]
     },
     "metadata": {
      "needs_background": "light"
     },
     "output_type": "display_data"
    }
   ],
   "source": [
    "plt.scatter(distances, norm_exact_dimers, label='exact')\n",
    "plt.scatter(distances, norm_pylode_dimers, label='pyLODE')\n",
    "plt.legend()\n",
    "plt.ylim(0,)"
   ]
  },
  {
   "cell_type": "markdown",
   "id": "lucky-flash",
   "metadata": {},
   "source": [
    "# Compare coefficients for random molecules <a class=\"anchor\" id=\"randommolecule\"></a>"
   ]
  },
  {
   "cell_type": "code",
   "execution_count": 77,
   "id": "recreational-installation",
   "metadata": {},
   "outputs": [],
   "source": [
    "frames = []\n",
    "frames.append(Atoms('O4', positions=[[1,1,1],[2,1,1],[2,2.2,1],[2.3,2.,1.5]], cell=cell, pbc=True))\n",
    "frames.append(Atoms('O4', positions=[[1,1,1],[2.3,1,1],[2.2,2.5,1.1],[2.7,2.,1.1]], cell=cell, pbc=True))"
   ]
  },
  {
   "cell_type": "code",
   "execution_count": null,
   "id": "sitting-thinking",
   "metadata": {},
   "outputs": [],
   "source": [
    "features_librascal_single = calculator_librascal.transform(frames).get_features(calculator_librascal)\n",
    "calculator_pylode.transform(frames)\n",
    "features_pylode_single = calculator_pylode.features"
   ]
  },
  {
   "cell_type": "code",
   "execution_count": null,
   "id": "color-mailman",
   "metadata": {},
   "outputs": [],
   "source": [
    "features_librascal_single.shape"
   ]
  },
  {
   "cell_type": "code",
   "execution_count": null,
   "id": "resident-uniform",
   "metadata": {},
   "outputs": [],
   "source": [
    "features_pylode_single = features_pylode_single[:,0,:,:]"
   ]
  },
  {
   "cell_type": "code",
   "execution_count": null,
   "id": "every-sodium",
   "metadata": {},
   "outputs": [],
   "source": [
    "f_librascal = features_librascal_single.reshape((8, nmax, (lmax+1)**2))"
   ]
  },
  {
   "cell_type": "code",
   "execution_count": null,
   "id": "oriented-beverage",
   "metadata": {},
   "outputs": [],
   "source": [
    "for i in range(8):\n",
    "    ratiomax = np.max(features_pylode_single[i] / f_librascal[i] /2.82841)\n",
    "    ratiomin = np.min(features_pylode_single[i] / f_librascal[i] /2.82841)\n",
    "    print(ratiomax)\n",
    "    print(ratiomin)"
   ]
  },
  {
   "cell_type": "code",
   "execution_count": null,
   "id": "sharing-buddy",
   "metadata": {},
   "outputs": [],
   "source": [
    "np.max(np.abs(features_pylode_single[i] / f_librascal[i])/2.82841)"
   ]
  },
  {
   "cell_type": "code",
   "execution_count": null,
   "id": "satisfied-shark",
   "metadata": {},
   "outputs": [],
   "source": [
    "features_pylode_single.shape"
   ]
  },
  {
   "cell_type": "markdown",
   "id": "reverse-universal",
   "metadata": {},
   "source": [
    "Comment: Coefficients now also agree for \"generic\" molecules (i.e. molecules that do not have any special symmetry) up to a global factor!"
   ]
  },
  {
   "cell_type": "markdown",
   "id": "bacterial-venezuela",
   "metadata": {},
   "source": [
    "## Table of Contents:\n",
    "* [Preparation](#preparation)\n",
    "    * [Exact Expression for Coefficients](#exactexpressions)\n",
    "    * [Get the features for dimers](#getfeatures)\n",
    "* [Coefficients for $l=1$](#l=1)\n",
    "    * [Explicit computation of coefficients for $l=1$](#l=1explicit)\n",
    "    * [Comparison to pyLODE/rascal for dimers](#l=1dimer)\n",
    "* [Coefficients for $l\\geq 2$](#lgeq2)\n",
    "    * [Coefficients for $l=2$](#l=2)\n",
    "    * [Coefficients for general $l$](#l_general)\n",
    "* [Coefficients for l=0](#l=0)\n",
    "    * [Exact coefficients](#l=0exact)\n",
    "    * [Comparison to pyLODE/rascal for center contribution](#l=0center)\n",
    "    * [Comparison to pyLODE/rascal for dimers](#l=0dimer)"
   ]
  }
 ],
 "metadata": {
  "kernelspec": {
   "display_name": "Python 3",
   "language": "python",
   "name": "python3"
  },
  "language_info": {
   "codemirror_mode": {
    "name": "ipython",
    "version": 3
   },
   "file_extension": ".py",
   "mimetype": "text/x-python",
   "name": "python",
   "nbconvert_exporter": "python",
   "pygments_lexer": "ipython3",
   "version": "3.8.5"
  }
 },
 "nbformat": 4,
 "nbformat_minor": 5
}
