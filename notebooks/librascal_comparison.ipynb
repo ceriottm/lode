{
 "cells": [
  {
   "cell_type": "code",
   "execution_count": 1,
   "id": "mental-mumbai",
   "metadata": {},
   "outputs": [],
   "source": [
    "%load_ext autoreload\n",
    "%autoreload 2"
   ]
  },
  {
   "cell_type": "code",
   "execution_count": 2,
   "id": "banner-facility",
   "metadata": {},
   "outputs": [],
   "source": [
    "import sys"
   ]
  },
  {
   "cell_type": "code",
   "execution_count": 3,
   "id": "joint-disorder",
   "metadata": {},
   "outputs": [],
   "source": [
    "sys.path.insert(0, '/ssd/scratch/khugueni/librascal-pypi-release/build')"
   ]
  },
  {
   "cell_type": "code",
   "execution_count": 4,
   "id": "swiss-hampton",
   "metadata": {},
   "outputs": [],
   "source": [
    "%matplotlib inline\n",
    "from matplotlib import pylab as plt\n",
    "\n",
    "import time\n",
    "import rascal\n",
    "\n",
    "import ase\n",
    "from ase import Atoms\n",
    "from ase.io import read, write\n",
    "from ase.build import make_supercell\n",
    "from ase.visualize import view\n",
    "from numpy.testing import assert_allclose\n",
    "import numpy as np\n",
    "from numpy.linalg import norm\n",
    "\n",
    "from scipy.integrate import quad\n",
    "from pylode.lib.radial_basis import innerprod\n",
    "from scipy.special import gamma, hyp1f1, sph_harm, iv\n",
    "\n",
    "# Descriptor related imports: compare the librascal and pyLODE versions of SOAP\n",
    "from rascal.representations import SphericalExpansion as RascalSphericalExpansion\n",
    "#from librascal.representations import SphericalExpansion as RascalSphericalExpansion\n",
    "import rascaline\n",
    "from pylode.lib.projection_coeffs import DensityProjectionCalculator"
   ]
  },
  {
   "cell_type": "markdown",
   "id": "radio-worthy",
   "metadata": {},
   "source": [
    "# Introduction"
   ]
  },
  {
   "cell_type": "markdown",
   "id": "ecological-trash",
   "metadata": {},
   "source": [
    "This notebook is used to compare the features obtained from rascaline, librascal and pylode. The goal is to fully understand the details of the three implementations to make sure that the same coefficients from different codes agree."
   ]
  },
  {
   "cell_type": "markdown",
   "id": "forced-porter",
   "metadata": {},
   "source": [
    "## Table of Contents:\n",
    "* [Preparation](#preparation)\n",
    "    * [Exact Expression for Coefficients](#exactexpressions)\n",
    "    * [Get the features for dimers](#getfeatures)\n",
    "* [Coefficients for $l=1$](#l=1)\n",
    "    * [Explicit computation of coefficients for $l=1$](#l=1explicit)\n",
    "    * [Comparison to pyLODE/rascal for dimers](#l=1dimer)\n",
    "* [Coefficients for $l\\geq 2$](#lgeq2)\n",
    "    * [Coefficients for $l=2$](#l=2)\n",
    "    * [Coefficients for general $l$](#l_general)\n",
    "* [Coefficients for l=0](#l=0)\n",
    "    * [Exact coefficients](#l=0exact)\n",
    "    * [Comparison to pyLODE/rascal for center contribution](#l=0center)\n",
    "    * [Comparison to pyLODE/rascal for dimers](#l=0dimer)"
   ]
  },
  {
   "cell_type": "markdown",
   "id": "defined-clinic",
   "metadata": {},
   "source": [
    "# Preparation: Get features from all three codes <a class=\"anchor\" id=\"preparation\"></a>"
   ]
  },
  {
   "cell_type": "markdown",
   "id": "funded-message",
   "metadata": {},
   "source": [
    "## Exact Expression for Coefficients <a class=\"anchor\" id=\"exactexpressions\"></a>"
   ]
  },
  {
   "cell_type": "markdown",
   "id": "following-adobe",
   "metadata": {},
   "source": [
    "### Define common hyperparameters"
   ]
  },
  {
   "cell_type": "code",
   "execution_count": 5,
   "id": "suspended-lease",
   "metadata": {},
   "outputs": [],
   "source": [
    "nmax = 5\n",
    "lmax = 4\n",
    "rcut = 6.\n",
    "smearing = 0.5"
   ]
  },
  {
   "cell_type": "markdown",
   "id": "rental-surrey",
   "metadata": {},
   "source": [
    "### Generate orthonormalization matrix <a class=\"anchor\" id=\"orthonormalization\"></a>"
   ]
  },
  {
   "cell_type": "code",
   "execution_count": 6,
   "id": "continental-concern",
   "metadata": {},
   "outputs": [],
   "source": [
    "Nradial = 1000\n",
    "sigma = np.ones(nmax, dtype=float)\n",
    "for i in range(1, nmax):\n",
    "    sigma[i] = np.sqrt(i)\n",
    "sigma *= rcut / nmax"
   ]
  },
  {
   "cell_type": "code",
   "execution_count": 7,
   "id": "square-admission",
   "metadata": {},
   "outputs": [],
   "source": [
    "# Define inner product matrix using analytical expression for primitive GTOs\n",
    "innerprods_primitive = np.zeros((nmax, nmax))\n",
    "for n1 in range(nmax):\n",
    "    for n2 in range(nmax):\n",
    "        sigeff = 0.5 * (1/sigma[n1]**2 + 1/sigma[n2]**2)\n",
    "        neff = 0.5 * (3 + n1 + n2)\n",
    "        innerprods_primitive[n1, n2] = 0.5 * sigeff**(-neff) * gamma(neff)\n",
    "\n",
    "eigvals, eigvecs = np.linalg.eigh(innerprods_primitive)\n",
    "transformation_primitive = eigvecs @ np.diag(np.sqrt(1. / eigvals)) @ eigvecs.T"
   ]
  },
  {
   "cell_type": "code",
   "execution_count": 8,
   "id": "listed-gamma",
   "metadata": {},
   "outputs": [],
   "source": [
    "normalizations = np.zeros((nmax,))\n",
    "for n in range(nmax):\n",
    "    normalizations[n] = 1/np.sqrt(innerprods_primitive[n, n])"
   ]
  },
  {
   "cell_type": "code",
   "execution_count": 9,
   "id": "graduate-standard",
   "metadata": {},
   "outputs": [],
   "source": [
    "# Inner product matrix for normalized GTOs\n",
    "innerprods_normalized = np.zeros((nmax, nmax))\n",
    "for n1 in range(nmax):\n",
    "    for n2 in range(nmax):\n",
    "        innerprods_normalized[n1, n2] = innerprods_primitive[n1, n2]\n",
    "        innerprods_normalized[n1, n2] *= normalizations[n1] * normalizations[n2]\n",
    "        \n",
    "eigvals, eigvecs = np.linalg.eigh(innerprods_normalized)\n",
    "transformation_normalized = eigvecs @ np.diag(np.sqrt(1. / eigvals)) @ eigvecs.T"
   ]
  },
  {
   "cell_type": "code",
   "execution_count": 10,
   "id": "forty-cinema",
   "metadata": {},
   "outputs": [],
   "source": [
    "use_gto_convention = 'normalized' # choose between 'normalized' and 'primitive'\n",
    "if use_gto_convention == 'normalized':\n",
    "    transformation = transformation_normalized\n",
    "    innerprods = innerprods_normalized\n",
    "elif use_gto_convention == 'primitive':\n",
    "    transformation = transformation_primitive\n",
    "    innerprods = innerprods_primitive\n",
    "    normalizations = np.ones_like(normalizations)"
   ]
  },
  {
   "cell_type": "code",
   "execution_count": 11,
   "id": "interpreted-sierra",
   "metadata": {},
   "outputs": [],
   "source": [
    "assert_allclose(transformation @ innerprods @ transformation, np.eye(nmax), atol=1e-5, rtol=1e-5)"
   ]
  },
  {
   "cell_type": "markdown",
   "id": "polish-education",
   "metadata": {},
   "source": [
    "### Fully analytical formula for general $l$"
   ]
  },
  {
   "cell_type": "code",
   "execution_count": 12,
   "id": "clear-development",
   "metadata": {},
   "outputs": [],
   "source": [
    "def coefficients_analytical_general_l(nmax, d, l):\n",
    "    # Define auxilary quantities and prefactors\n",
    "    a = 1. / (2 * smearing**2)\n",
    "    lplus3half = l + 1.5\n",
    "    prefac_global = np.pi**1.5 * sph_harm(0, l, 0, 0).real * a**l / gamma(lplus3half)\n",
    "    prefac_global *= d**l * np.exp(-a*d**2)\n",
    "    prefac_global /= (np.pi * smearing**2)**(3/4)\n",
    "\n",
    "    # Start main loop\n",
    "    featvec = np.zeros((nmax))\n",
    "    for n in range(nmax):\n",
    "        nlplus3half = (3 + n + l) / 2\n",
    "        b = 1. / (2 * sigma[n]**2)\n",
    "        prefac_n_dep = gamma(nlplus3half) / (a+b)**nlplus3half\n",
    "        hyp = hyp1f1(nlplus3half, lplus3half, a**2*d**2/(a+b))\n",
    "        featvec[n] = normalizations[n] * prefac_n_dep * hyp\n",
    "\n",
    "    #return prefac_global * featvec\n",
    "    return prefac_global * (transformation @ featvec)   "
   ]
  },
  {
   "cell_type": "markdown",
   "id": "prompt-grounds",
   "metadata": {},
   "source": [
    "### Semianalytical (final integral performed numerically) formula for general l"
   ]
  },
  {
   "cell_type": "code",
   "execution_count": 13,
   "id": "expressed-weapon",
   "metadata": {},
   "outputs": [],
   "source": [
    "def coefficients_semianalytical_general_l(nmax, d, l):\n",
    "    # Prefactor\n",
    "    a = 1. / (2 * smearing**2)\n",
    "    prefac_global = 4*np.pi * sph_harm(0, l, 0, 0).real * np.exp(-a*d**2)\n",
    "    prefac_global /= (np.pi * smearing**2)**(3/4)\n",
    "\n",
    "    # Main loop performing the numerical integration\n",
    "    featvec = np.zeros((nmax))\n",
    "    for n in range(nmax):\n",
    "        # Define the integrand consisting of a power-law, Gaussian and Bessel part\n",
    "        b = 1. / (2 * sigma[n]**2)\n",
    "        gaussian = lambda r: np.exp(-(a+b)*r**2)\n",
    "        power = lambda r: r**(2+n)\n",
    "        mod_sph_bessel = lambda x: np.sqrt(np.pi/2/x) * iv(l + 0.5, x)\n",
    "        bessel = lambda r: mod_sph_bessel(2*a*d*r)\n",
    "        integrand = lambda r: power(r) * gaussian(r) * bessel(r)\n",
    "        \n",
    "        # Numerical integration\n",
    "        eps = 1e-10\n",
    "        featvec[n] = normalizations[n] * quad(integrand, eps, 4.5*rcut)[0]\n",
    "\n",
    "    #return prefac_global * featvec\n",
    "    return prefac_global * (transformation @ featvec)   "
   ]
  },
  {
   "cell_type": "markdown",
   "id": "scientific-consortium",
   "metadata": {},
   "source": [
    "## Get the features for dimers <a class=\"anchor\" id=\"getfeatures\"></a>"
   ]
  },
  {
   "cell_type": "markdown",
   "id": "electoral-oasis",
   "metadata": {},
   "source": [
    "### Define structure to be used for the comparison\n",
    "The main differences between librascal and the pyLODE implementation are the presence of a smooth cutoff function and the potentially different order in which neighbors are stored. We thus wish to generate structures for which these two effects do not alter the coefficients too much. For this task, we use clusters of Oxygen atoms for which all atoms have a mutual distance of less than 3A. Then, even for a relatively large smearing of 1.5A, the atomic densities will be reasonably contained within a ball of cutoff radius 6 that will also be used for the cutoff."
   ]
  },
  {
   "cell_type": "code",
   "execution_count": 14,
   "id": "floppy-subject",
   "metadata": {},
   "outputs": [],
   "source": [
    "frames = []\n",
    "cell = np.eye(3) * 16\n",
    "Ndimers = 15\n",
    "distances = np.linspace(1., 2.5, Ndimers)\n",
    "for d in distances:\n",
    "    positions = [[1,1,1],[1,1,1+d]]\n",
    "    frame = Atoms('O2', positions=positions, cell=cell, pbc=True)\n",
    "    frames.append(frame)"
   ]
  },
  {
   "cell_type": "markdown",
   "id": "funded-operations",
   "metadata": {},
   "source": [
    "### Get the features from pyLODE"
   ]
  },
  {
   "cell_type": "code",
   "execution_count": 15,
   "id": "happy-sydney",
   "metadata": {},
   "outputs": [],
   "source": [
    "hypers = {\n",
    "    'smearing':smearing,\n",
    "    'max_angular':lmax,\n",
    "    'max_radial':nmax,\n",
    "    'cutoff_radius':rcut,\n",
    "    'potential_exponent':0,\n",
    "    'radial_basis': 'gto',\n",
    "    'compute_gradients':False,\n",
    "    'subtract_center_contribution':False,\n",
    "    }\n",
    "\n",
    "calculator_pylode = DensityProjectionCalculator(**hypers)\n",
    "calculator_pylode.transform(frames)\n",
    "features_pylode = calculator_pylode.features"
   ]
  },
  {
   "cell_type": "markdown",
   "id": "random-corporation",
   "metadata": {},
   "source": [
    "### Get the features from librascal"
   ]
  },
  {
   "cell_type": "code",
   "execution_count": 16,
   "id": "undefined-morning",
   "metadata": {},
   "outputs": [],
   "source": [
    "# define the parameters of the spherical expansion\n",
    "hypers = dict(interaction_cutoff=rcut, \n",
    "              max_radial=nmax, \n",
    "              max_angular=lmax, \n",
    "              gaussian_sigma_constant=smearing,\n",
    "              gaussian_sigma_type=\"Constant\",\n",
    "              cutoff_smooth_width=0.1,\n",
    "              radial_basis=\"GTO\",\n",
    "              compute_gradients=False,\n",
    "              expansion_by_species_method='structure wise',\n",
    "              optimization=dict(Spline=dict(accuracy=1e-12)),\n",
    "              )\n",
    "\n",
    "calculator_librascal = RascalSphericalExpansion(**hypers)\n",
    "# compute the representation of all the structures\n",
    "features_librascal = calculator_librascal.transform(frames).get_features(calculator_librascal)"
   ]
  },
  {
   "cell_type": "markdown",
   "id": "rental-working",
   "metadata": {},
   "source": [
    "### Get the features from Rascaline"
   ]
  },
  {
   "cell_type": "code",
   "execution_count": 17,
   "id": "bottom-shower",
   "metadata": {},
   "outputs": [],
   "source": [
    "HYPER_PARAMETERS = {\n",
    "    \"cutoff\": rcut,\n",
    "    \"max_radial\": nmax,\n",
    "    \"max_angular\": lmax,\n",
    "    \"atomic_gaussian_width\": smearing,\n",
    "    \"gradients\": False,\n",
    "    \"center_atom_weight\": 1.0,\n",
    "    \"radial_basis\": {\n",
    "        \"Gto\": {},\n",
    "    },\n",
    "    \"cutoff_function\": {\n",
    "        \"Step\": {\"width\": 1e-3},\n",
    "    },\n",
    "}\n",
    "\n",
    "calculator_rascaline = rascaline.SphericalExpansion(**HYPER_PARAMETERS)\n",
    "\n",
    "# run the actual calculation\n",
    "descriptor_rascaline = calculator_rascaline.compute(frames)"
   ]
  },
  {
   "cell_type": "markdown",
   "id": "beautiful-guest",
   "metadata": {},
   "source": [
    "# Compare coefficients for $l=1$ <a class=\"anchor\" id=\"l=1\"></a>"
   ]
  },
  {
   "cell_type": "markdown",
   "id": "coastal-animal",
   "metadata": {},
   "source": [
    "## Explicit computation of coefficients for $l=1$ <a class=\"anchor\" id=\"l=1explicit\"></a>"
   ]
  },
  {
   "cell_type": "markdown",
   "id": "completed-future",
   "metadata": {},
   "source": [
    "To make sure that we understand every single aspect of the codes including all the prefactors and conventions, we compute the exact coefficients we would expect from an Oxygen molecule oriented along the z-axis. The computations are done using three (four) different methods: a fully analytical approach applicable to all $l$, a semi-analytical approach in which the final radial integral is evaluated numerically also valid for all $l$, and finally an explicit formula that was obtained directly for the special case $l=1$ starting at the very definition. For convenience, we also include the complete analytical formula for the special case $l=1$."
   ]
  },
  {
   "cell_type": "markdown",
   "id": "realistic-sellers",
   "metadata": {},
   "source": [
    "### Fully analytical formula for $l=1$"
   ]
  },
  {
   "cell_type": "code",
   "execution_count": 18,
   "id": "welsh-python",
   "metadata": {},
   "outputs": [],
   "source": [
    "def coefficients_analytical_l1(nmax, d):\n",
    "    # Define auxilary quantities and prefactors\n",
    "    a = 1. / (2 * smearing**2)\n",
    "    lplus3half = 2.5\n",
    "    prefac_global = np.pi * np.sqrt(3/4) * a / gamma(lplus3half) * d * np.exp(-a*d**2)\n",
    "    prefac_global /= (np.pi*smearing**2)**(3/4)\n",
    "    \n",
    "    # Start main loop\n",
    "    featvec = np.zeros((nmax))\n",
    "    for n in range(nmax):\n",
    "        # Compute contribution for primitive GTO function\n",
    "        nlplus3half = (4 + n) / 2\n",
    "        b = 1. / (2 * sigma[n]**2)\n",
    "        prefac_n_dep = gamma(nlplus3half) / (a+b)**nlplus3half\n",
    "        hyp = hyp1f1(nlplus3half, lplus3half, a**2*d**2/(a+b))\n",
    "        featvec[n] = normalizations[n] * prefac_n_dep * hyp\n",
    "\n",
    "    return prefac_global * (transformation @ featvec)"
   ]
  },
  {
   "cell_type": "markdown",
   "id": "frequent-cooler",
   "metadata": {},
   "source": [
    "### Semianalytical (final integral performed numerically) formula for $l=1$"
   ]
  },
  {
   "cell_type": "code",
   "execution_count": 19,
   "id": "accurate-mumbai",
   "metadata": {},
   "outputs": [],
   "source": [
    "def coefficients_semianalytical_l1(nmax, d):\n",
    "    # Prefactor\n",
    "    a = 1. / (2 * smearing**2)\n",
    "    prefac = np.sqrt(1.5) / (2 * np.pi * smearing**3)\n",
    "    prefac *= np.exp(-a*d**2)\n",
    "    prefac *= (2*np.pi*smearing**2)**1.5 / (np.pi*smearing**2)**(3/4)\n",
    "    \n",
    "    # Start main loop\n",
    "    featvec = np.zeros((nmax,))\n",
    "    for n in range(nmax):\n",
    "        # Start defining functions appearing in integrand\n",
    "        b = 1. / (2 * sigma[n]**2)\n",
    "        gaussian = lambda r: np.exp(-(a+b)*r**2)\n",
    "        power = lambda r: r**(2+n)\n",
    "        mod_sph_bessel = lambda x: (x*np.cosh(x) - np.sinh(x))/x**2\n",
    "        bessel = lambda r: mod_sph_bessel(2*a*d*r)\n",
    "\n",
    "        integrand = lambda r: power(r) * gaussian(r) * bessel(r) * 2\n",
    "        \n",
    "        # Numerical Integration\n",
    "        featvec[n] = normalizations[n] * quad(integrand, 1e-10, 4.5 * rcut)[0]\n",
    "    \n",
    "    return prefac * (transformation @ featvec)"
   ]
  },
  {
   "cell_type": "markdown",
   "id": "satisfied-copying",
   "metadata": {},
   "source": [
    "### Compare the coefficients obtained using different methods"
   ]
  },
  {
   "cell_type": "code",
   "execution_count": 20,
   "id": "loose-problem",
   "metadata": {},
   "outputs": [],
   "source": [
    "features_analytical_l1 = np.zeros((len(distances), nmax))\n",
    "features_semianalytical_l1 = np.zeros((len(distances), nmax))\n",
    "features_analytical_general = np.zeros((len(distances), nmax))\n",
    "features_semianalytical_general = np.zeros((len(distances), nmax))\n",
    "\n",
    "for i_dist, d in enumerate(distances):\n",
    "    features_analytical_l1[i_dist] = coefficients_analytical_l1(nmax, d)\n",
    "    features_semianalytical_l1[i_dist] = coefficients_semianalytical_l1(nmax, d)\n",
    "    features_analytical_general[i_dist] = coefficients_analytical_general_l(nmax, d, l=1)\n",
    "    features_semianalytical_general[i_dist] = coefficients_semianalytical_general_l(nmax, d, l=1)"
   ]
  },
  {
   "cell_type": "code",
   "execution_count": 21,
   "id": "productive-entry",
   "metadata": {},
   "outputs": [
    {
     "name": "stdout",
     "output_type": "stream",
     "text": [
      "1.212138028838794e-16\n",
      "2.548252555056503e-15\n",
      "1.3430436943151222e-15\n"
     ]
    }
   ],
   "source": [
    "delta1 = np.linalg.norm(features_analytical_l1 - features_analytical_general)\n",
    "delta2 = np.linalg.norm(features_analytical_general - features_semianalytical_general)\n",
    "delta3 = np.linalg.norm(features_semianalytical_l1 - features_semianalytical_general)\n",
    "print(delta1)\n",
    "print(delta2)\n",
    "print(delta3)"
   ]
  },
  {
   "cell_type": "markdown",
   "id": "joint-history",
   "metadata": {},
   "source": [
    "## Compare the exact values with those obtained from the three codes <a class=\"anchor\" id=\"l=1dimer\"></a>"
   ]
  },
  {
   "cell_type": "markdown",
   "id": "mathematical-implement",
   "metadata": {},
   "source": [
    "The exact coefficients obtained using the analytical formula are now compared to those obtained from the three codes."
   ]
  },
  {
   "cell_type": "markdown",
   "id": "strong-tiger",
   "metadata": {},
   "source": [
    "### Get the $l=1$ (and $m=0$) part of the features of the three codes"
   ]
  },
  {
   "cell_type": "code",
   "execution_count": 22,
   "id": "absolute-sucking",
   "metadata": {},
   "outputs": [
    {
     "name": "stdout",
     "output_type": "stream",
     "text": [
      "Shapes of feature vectors\n",
      "rascaline (30, 125)\n",
      "librascal (30, 125)\n"
     ]
    }
   ],
   "source": [
    "print('Shapes of feature vectors')\n",
    "print('rascaline', descriptor_rascaline.values.shape)\n",
    "print('librascal', features_librascal.shape)"
   ]
  },
  {
   "cell_type": "code",
   "execution_count": 23,
   "id": "aggregate-crime",
   "metadata": {},
   "outputs": [],
   "source": [
    "features_L1_rascaline = descriptor_rascaline.values[0::2, 2*nmax:3*nmax] / 10.962374348347298 "
   ]
  },
  {
   "cell_type": "code",
   "execution_count": 24,
   "id": "green-native",
   "metadata": {},
   "outputs": [],
   "source": [
    "features_L1_librascal = features_librascal[0::2, 2::(lmax+1)**2]"
   ]
  },
  {
   "cell_type": "code",
   "execution_count": 25,
   "id": "portuguese-dividend",
   "metadata": {},
   "outputs": [],
   "source": [
    "features_L1_pylode = features_pylode[0::2, 0, :, 2]"
   ]
  },
  {
   "cell_type": "code",
   "execution_count": 26,
   "id": "miniature-ottawa",
   "metadata": {},
   "outputs": [],
   "source": [
    "for i,features in enumerate([features_L1_rascaline, features_L1_librascal, features_L1_pylode, features_analytical_l1]):\n",
    "    assert features.shape == (len(distances), nmax)"
   ]
  },
  {
   "cell_type": "code",
   "execution_count": 27,
   "id": "scenic-exhaust",
   "metadata": {},
   "outputs": [
    {
     "name": "stdout",
     "output_type": "stream",
     "text": [
      "[[1.00000608 0.99998532 0.9999798  0.999956   0.99983529]\n",
      " [1.00001021 0.99998274 0.99997263 0.9999562  0.99987589]\n",
      " [1.00000784 0.99998972 0.99997125 0.99995097 0.99983155]\n",
      " [1.00000099 0.99999818 0.99996859 0.99993698 0.99973484]\n",
      " [0.99999429 1.00000308 0.99993055 0.99991067 0.99959805]\n",
      " [0.99999239 1.0000031  1.00014181 0.99986598 0.99940299]\n",
      " [0.99999721 0.99999975 1.00005553 0.99978812 0.9990579 ]\n",
      " [1.00000654 0.99999572 1.00004288 0.99963472 0.99817813]\n",
      " [1.00001511 0.99999315 1.00003724 0.99925448 0.99281614]\n",
      " [1.00001784 0.99999258 1.00003422 0.99767134 1.00683356]\n",
      " [1.00001395 0.99999292 1.00003346 1.01157106 1.00316747]\n",
      " [1.00000983 0.99999224 1.00003497 1.00326771 1.00251125]\n",
      " [1.00001859 0.99998872 1.00003854 1.00305996 1.00236619]\n",
      " [1.00005521 0.99998123 1.00004391 1.0043829  1.002441  ]\n",
      " [1.00012745 0.99996901 1.00005101 1.01458322 1.00267426]]\n"
     ]
    }
   ],
   "source": [
    "print(features_analytical_l1 / features_L1_pylode)"
   ]
  },
  {
   "cell_type": "code",
   "execution_count": 28,
   "id": "public-cooperation",
   "metadata": {},
   "outputs": [
    {
     "name": "stdout",
     "output_type": "stream",
     "text": [
      "[[73.1664572 73.1664572 73.1664572 73.1664572 73.1664572]\n",
      " [73.1664572 73.1664572 73.1664572 73.1664572 73.1664572]\n",
      " [73.1664572 73.1664572 73.1664572 73.1664572 73.1664572]\n",
      " [73.1664572 73.1664572 73.1664572 73.1664572 73.1664572]\n",
      " [73.1664572 73.1664572 73.1664572 73.1664572 73.1664572]\n",
      " [73.1664572 73.1664572 73.1664572 73.1664572 73.1664572]\n",
      " [73.1664572 73.1664572 73.1664572 73.1664572 73.1664572]\n",
      " [73.1664572 73.1664572 73.1664572 73.1664572 73.1664572]\n",
      " [73.1664572 73.1664572 73.1664572 73.1664572 73.1664572]\n",
      " [73.1664572 73.1664572 73.1664572 73.1664572 73.1664572]\n",
      " [73.1664572 73.1664572 73.1664572 73.1664572 73.1664572]\n",
      " [73.1664572 73.1664572 73.1664572 73.1664572 73.1664572]\n",
      " [73.1664572 73.1664572 73.1664572 73.1664572 73.1664572]\n",
      " [73.1664572 73.1664572 73.1664572 73.1664572 73.1664572]\n",
      " [73.1664572 73.1664572 73.1664572 73.1664572 73.1664572]]\n"
     ]
    }
   ],
   "source": [
    "print(features_analytical_l1 / features_L1_rascaline)"
   ]
  },
  {
   "cell_type": "code",
   "execution_count": 29,
   "id": "active-jungle",
   "metadata": {},
   "outputs": [
    {
     "name": "stdout",
     "output_type": "stream",
     "text": [
      "[[26.69730293 26.69730293 26.69730293 26.69730293 26.69730293]\n",
      " [26.69730293 26.69730293 26.69730293 26.69730293 26.69730293]\n",
      " [26.69730293 26.69730293 26.69730293 26.69730293 26.69730293]\n",
      " [26.69730293 26.69730293 26.69730293 26.69730293 26.69730293]\n",
      " [26.69730293 26.69730293 26.69730293 26.69730293 26.69730293]\n",
      " [26.69730293 26.69730293 26.69730293 26.69730293 26.69730293]\n",
      " [26.69730293 26.69730293 26.69730293 26.69730293 26.69730293]\n",
      " [26.69730293 26.69730293 26.69730293 26.69730293 26.69730293]\n",
      " [26.69730293 26.69730293 26.69730293 26.69730293 26.69730293]\n",
      " [26.69730293 26.69730293 26.69730293 26.69730293 26.69730293]\n",
      " [26.69730293 26.69730293 26.69730293 26.69730293 26.69730293]\n",
      " [26.69730293 26.69730293 26.69730293 26.69730293 26.69730293]\n",
      " [26.69730293 26.69730293 26.69730293 26.69730293 26.69730293]\n",
      " [26.69730293 26.69730293 26.69730293 26.69730293 26.69730293]\n",
      " [26.69730293 26.69730293 26.69730293 26.69730293 26.69730293]]\n"
     ]
    }
   ],
   "source": [
    "print(features_semianalytical_general / features_L1_librascal)"
   ]
  },
  {
   "cell_type": "code",
   "execution_count": 30,
   "id": "czech-enclosure",
   "metadata": {},
   "outputs": [
    {
     "name": "stdout",
     "output_type": "stream",
     "text": [
      "Distance  0\n",
      "[0.14982787 0.14982787 0.14982787 0.14982787 0.14982787]\n",
      "[0.03745697 0.03745697 0.03745697 0.03745697 0.03745697]\n",
      "[0.99999392 1.00001468 1.0000202  1.000044   1.00016474]\n",
      "\n",
      "Distance  1\n",
      "[0.14982787 0.14982787 0.14982787 0.14982787 0.14982787]\n",
      "[0.03745697 0.03745697 0.03745697 0.03745697 0.03745697]\n",
      "[0.99998979 1.00001726 1.00002738 1.0000438  1.00012413]\n",
      "\n",
      "Distance  2\n",
      "[0.14982787 0.14982787 0.14982787 0.14982787 0.14982787]\n",
      "[0.03745697 0.03745697 0.03745697 0.03745697 0.03745697]\n",
      "[0.99999216 1.00001028 1.00002876 1.00004903 1.00016848]\n",
      "\n",
      "Distance  3\n",
      "[0.14982787 0.14982787 0.14982787 0.14982787 0.14982787]\n",
      "[0.03745697 0.03745697 0.03745697 0.03745697 0.03745697]\n",
      "[0.99999901 1.00000182 1.00003141 1.00006303 1.00026523]\n",
      "\n",
      "Distance  4\n",
      "[0.14982787 0.14982787 0.14982787 0.14982787 0.14982787]\n",
      "[0.03745697 0.03745697 0.03745697 0.03745697 0.03745697]\n",
      "[1.00000571 0.99999692 1.00006946 1.00008934 1.00040212]\n",
      "\n",
      "Distance  5\n",
      "[0.14982787 0.14982787 0.14982787 0.14982787 0.14982787]\n",
      "[0.03745697 0.03745697 0.03745697 0.03745697 0.03745697]\n",
      "[1.00000761 0.9999969  0.99985821 1.00013404 1.00059737]\n",
      "\n",
      "Distance  6\n",
      "[0.14982787 0.14982787 0.14982787 0.14982787 0.14982787]\n",
      "[0.03745697 0.03745697 0.03745697 0.03745697 0.03745697]\n",
      "[1.00000279 1.00000025 0.99994447 1.00021193 1.00094299]\n",
      "\n",
      "Distance  7\n",
      "[0.14982787 0.14982787 0.14982787 0.14982787 0.14982787]\n",
      "[0.03745697 0.03745697 0.03745697 0.03745697 0.03745697]\n",
      "[0.99999346 1.00000428 0.99995712 1.00036541 1.0018252 ]\n",
      "\n",
      "Distance  8\n",
      "[0.14982787 0.14982787 0.14982787 0.14982787 0.14982787]\n",
      "[0.03745697 0.03745697 0.03745697 0.03745697 0.03745697]\n",
      "[0.99998489 1.00000685 0.99996277 1.00074608 1.00723584]\n",
      "\n",
      "Distance  9\n",
      "[0.14982787 0.14982787 0.14982787 0.14982787 0.14982787]\n",
      "[0.03745697 0.03745697 0.03745697 0.03745697 0.03745697]\n",
      "[0.99998216 1.00000742 0.99996579 1.0023341  0.99321282]\n",
      "\n",
      "Distance  10\n",
      "[0.14982787 0.14982787 0.14982787 0.14982787 0.14982787]\n",
      "[0.03745697 0.03745697 0.03745697 0.03745697 0.03745697]\n",
      "[0.99998605 1.00000708 0.99996654 0.9885613  0.99684253]\n",
      "\n",
      "Distance  11\n",
      "[0.14982787 0.14982787 0.14982787 0.14982787 0.14982787]\n",
      "[0.03745697 0.03745697 0.03745697 0.03745697 0.03745697]\n",
      "[0.99999017 1.00000776 0.99996503 0.99674293 0.99749504]\n",
      "\n",
      "Distance  12\n",
      "[0.14982787 0.14982787 0.14982787 0.14982787 0.14982787]\n",
      "[0.03745697 0.03745697 0.03745697 0.03745697 0.03745697]\n",
      "[0.99998141 1.00001128 0.99996146 0.99694938 0.99763939]\n",
      "\n",
      "Distance  13\n",
      "[0.14982787 0.14982787 0.14982787 0.14982787 0.14982787]\n",
      "[0.03745697 0.03745697 0.03745697 0.03745697 0.03745697]\n",
      "[0.99994479 1.00001877 0.99995609 0.99563623 0.99756494]\n",
      "\n",
      "Distance  14\n",
      "[0.14982787 0.14982787 0.14982787 0.14982787 0.14982787]\n",
      "[0.03745697 0.03745697 0.03745697 0.03745697 0.03745697]\n",
      "[0.99987256 1.00003099 0.999949   0.98562639 0.99733287]\n",
      "\n"
     ]
    }
   ],
   "source": [
    "for i, d in enumerate(distances):\n",
    "    print('Distance ', i)\n",
    "    coeffs_rascaline = descriptor_rascaline.values[2*i].reshape(((lmax+1)**2, nmax)).T\n",
    "    coeffs_librascal = features_librascal[2*i].reshape((nmax,(lmax+1)**2))\n",
    "    coeffs_pylode = features_pylode[2*i,0]\n",
    "    \n",
    "    for coeffs in [coeffs_rascaline, coeffs_librascal, coeffs_pylode]:\n",
    "        print(coeffs[:,2] / features_analytical_general[i])\n",
    "    \n",
    "    print()"
   ]
  },
  {
   "cell_type": "markdown",
   "id": "joined-wisconsin",
   "metadata": {},
   "source": [
    "# Compare coefficients for $l\\geq 2$ <a class=\"anchor\" id=\"lgeq2\"></a>"
   ]
  },
  {
   "cell_type": "markdown",
   "id": "tender-defensive",
   "metadata": {},
   "source": [
    "## Compare coefficients for $l=2$ <a class=\"anchor\" id=\"l=2\"></a>"
   ]
  },
  {
   "cell_type": "code",
   "execution_count": 31,
   "id": "taken-setting",
   "metadata": {},
   "outputs": [],
   "source": [
    "lm_index = 6 # l**2 + l"
   ]
  },
  {
   "cell_type": "code",
   "execution_count": 32,
   "id": "secret-silly",
   "metadata": {},
   "outputs": [
    {
     "name": "stdout",
     "output_type": "stream",
     "text": [
      "Shapes of feature vectors\n",
      "rascaline (30, 125)\n",
      "librascal (30, 125)\n"
     ]
    }
   ],
   "source": [
    "print('Shapes of feature vectors')\n",
    "print('rascaline', descriptor_rascaline.values.shape)\n",
    "print('librascal', features_librascal.shape)"
   ]
  },
  {
   "cell_type": "code",
   "execution_count": 33,
   "id": "freelance-canadian",
   "metadata": {},
   "outputs": [],
   "source": [
    "features_L2_rascaline = descriptor_rascaline.values[0::2, lm_index*nmax:(lm_index+1)*nmax]"
   ]
  },
  {
   "cell_type": "code",
   "execution_count": 34,
   "id": "black-jewelry",
   "metadata": {},
   "outputs": [],
   "source": [
    "features_L2_librascal = features_librascal[0::2, lm_index::(lmax+1)**2]"
   ]
  },
  {
   "cell_type": "code",
   "execution_count": 35,
   "id": "brave-watson",
   "metadata": {},
   "outputs": [],
   "source": [
    "features_L2_pylode = features_pylode[0::2, 0, :, lm_index]"
   ]
  },
  {
   "cell_type": "code",
   "execution_count": 36,
   "id": "unique-serum",
   "metadata": {},
   "outputs": [],
   "source": [
    "features_analytical_l2 = np.zeros((len(distances), nmax))\n",
    "features_numerical_l2 = np.zeros((len(distances), nmax))\n",
    "\n",
    "for i_dist, d in enumerate(distances):\n",
    "    features_analytical_l2[i_dist] = coefficients_analytical_general_l(nmax, d, l=2)\n",
    "    features_numerical_l2[i_dist] = coefficients_semianalytical_general_l(nmax, d, l=2)"
   ]
  },
  {
   "cell_type": "code",
   "execution_count": 37,
   "id": "medical-implementation",
   "metadata": {},
   "outputs": [],
   "source": [
    "delta_l2 = np.linalg.norm(features_analytical_l2 - features_numerical_l2)"
   ]
  },
  {
   "cell_type": "code",
   "execution_count": 38,
   "id": "breeding-transcription",
   "metadata": {},
   "outputs": [
    {
     "name": "stdout",
     "output_type": "stream",
     "text": [
      "[[1.00001471 0.99999519 0.99999766 0.99991596 0.99953822]\n",
      " [0.99999799 1.00000169 0.99998618 0.99994274 0.99973156]\n",
      " [0.9999863  1.00000335 0.99996937 0.99995488 0.99983381]\n",
      " [0.99998517 1.0000016  0.99993894 0.99994262 0.99980346]\n",
      " [0.99999402 0.99999879 0.99975564 0.99990305 0.99963444]\n",
      " [1.00000708 0.99999662 1.00012449 0.99983312 0.99931481]\n",
      " [1.00001665 0.99999564 1.00005585 0.9997184  0.99874366]\n",
      " [1.00001735 0.99999539 1.00004313 0.99950502 0.99734951]\n",
      " [1.00000948 0.99999506 1.00003982 0.99897417 0.98527403]\n",
      " [0.99999971 0.99999399 1.00003896 0.99632584 1.00616482]\n",
      " [0.99999853 0.99999186 1.000039   1.00722457 1.0032259 ]\n",
      " [1.0000154  0.99998853 1.00004006 1.00322344 1.00261771]\n",
      " [1.00005388 0.99998369 1.00004276 1.00319941 1.00250516]\n",
      " [1.00010998 0.99997645 1.00004759 1.00472536 1.00261113]\n",
      " [1.00017596 0.99996505 1.00005477 1.01707165 1.00286997]]\n"
     ]
    }
   ],
   "source": [
    "print(features_L2_pylode / features_analytical_l2)"
   ]
  },
  {
   "cell_type": "code",
   "execution_count": 39,
   "id": "catholic-seeking",
   "metadata": {},
   "outputs": [
    {
     "name": "stdout",
     "output_type": "stream",
     "text": [
      "[[1.00001471 0.99999519 0.99999766 0.99991596 0.99953822]\n",
      " [0.99999799 1.00000169 0.99998618 0.99994274 0.99973156]\n",
      " [0.9999863  1.00000335 0.99996937 0.99995488 0.99983381]\n",
      " [0.99998517 1.0000016  0.99993894 0.99994262 0.99980346]\n",
      " [0.99999402 0.99999879 0.99975564 0.99990305 0.99963444]\n",
      " [1.00000708 0.99999662 1.00012449 0.99983312 0.99931481]\n",
      " [1.00001665 0.99999564 1.00005585 0.9997184  0.99874366]\n",
      " [1.00001735 0.99999539 1.00004313 0.99950502 0.99734951]\n",
      " [1.00000948 0.99999506 1.00003982 0.99897417 0.98527403]\n",
      " [0.99999971 0.99999399 1.00003896 0.99632584 1.00616482]\n",
      " [0.99999853 0.99999186 1.000039   1.00722457 1.0032259 ]\n",
      " [1.0000154  0.99998853 1.00004006 1.00322344 1.00261771]\n",
      " [1.00005388 0.99998369 1.00004276 1.00319941 1.00250516]\n",
      " [1.00010998 0.99997645 1.00004759 1.00472536 1.00261113]\n",
      " [1.00017596 0.99996505 1.00005477 1.01707165 1.00286997]]\n"
     ]
    }
   ],
   "source": [
    "print(features_L2_pylode / features_numerical_l2)"
   ]
  },
  {
   "cell_type": "code",
   "execution_count": 40,
   "id": "confidential-pipeline",
   "metadata": {},
   "outputs": [
    {
     "name": "stdout",
     "output_type": "stream",
     "text": [
      "[[0.03745697 0.03745697 0.03745697 0.03745697 0.03745697]\n",
      " [0.03745697 0.03745697 0.03745697 0.03745697 0.03745697]\n",
      " [0.03745697 0.03745697 0.03745697 0.03745697 0.03745697]\n",
      " [0.03745697 0.03745697 0.03745697 0.03745697 0.03745697]\n",
      " [0.03745697 0.03745697 0.03745697 0.03745697 0.03745697]\n",
      " [0.03745697 0.03745697 0.03745697 0.03745697 0.03745697]\n",
      " [0.03745697 0.03745697 0.03745697 0.03745697 0.03745697]\n",
      " [0.03745697 0.03745697 0.03745697 0.03745697 0.03745697]\n",
      " [0.03745697 0.03745697 0.03745697 0.03745697 0.03745697]\n",
      " [0.03745697 0.03745697 0.03745697 0.03745697 0.03745697]\n",
      " [0.03745697 0.03745697 0.03745697 0.03745697 0.03745697]\n",
      " [0.03745697 0.03745697 0.03745697 0.03745697 0.03745697]\n",
      " [0.03745697 0.03745697 0.03745697 0.03745697 0.03745697]\n",
      " [0.03745697 0.03745697 0.03745697 0.03745697 0.03745697]\n",
      " [0.03745697 0.03745697 0.03745697 0.03745697 0.03745697]]\n"
     ]
    }
   ],
   "source": [
    "print(features_L2_librascal / features_numerical_l2)"
   ]
  },
  {
   "cell_type": "markdown",
   "id": "editorial-engine",
   "metadata": {},
   "source": [
    "## Compare coefficients for general $l$ <a class=\"anchor\" id=\"l_general\"></a>"
   ]
  },
  {
   "cell_type": "code",
   "execution_count": 41,
   "id": "disabled-platform",
   "metadata": {},
   "outputs": [
    {
     "name": "stdout",
     "output_type": "stream",
     "text": [
      "pyLODE vs analytical coefficients for l = 1\n",
      "[[0.999994 1.000015 1.00002  1.000044 1.000165]\n",
      " [0.99999  1.000017 1.000027 1.000044 1.000124]\n",
      " [0.999992 1.00001  1.000029 1.000049 1.000168]\n",
      " [0.999999 1.000002 1.000031 1.000063 1.000265]\n",
      " [1.000006 0.999997 1.000069 1.000089 1.000402]\n",
      " [1.000008 0.999997 0.999858 1.000134 1.000597]\n",
      " [1.000003 1.       0.999944 1.000212 1.000943]\n",
      " [0.999993 1.000004 0.999957 1.000365 1.001825]\n",
      " [0.999985 1.000007 0.999963 1.000746 1.007236]\n",
      " [0.999982 1.000007 0.999966 1.002334 0.993213]\n",
      " [0.999986 1.000007 0.999967 0.988561 0.996843]\n",
      " [0.99999  1.000008 0.999965 0.996743 0.997495]\n",
      " [0.999981 1.000011 0.999961 0.996949 0.997639]\n",
      " [0.999945 1.000019 0.999956 0.995636 0.997565]\n",
      " [0.999873 1.000031 0.999949 0.985626 0.997333]]\n",
      "pyLODE vs rascaline coefficients for l = 1\n",
      "[[6.674285 6.674424 6.674461 6.674619 6.675425]\n",
      " [6.674258 6.674441 6.674508 6.674618 6.675154]\n",
      " [6.674273 6.674394 6.674518 6.674653 6.67545 ]\n",
      " [6.674319 6.674338 6.674535 6.674746 6.676096]\n",
      " [6.674364 6.674305 6.674789 6.674922 6.67701 ]\n",
      " [6.674376 6.674305 6.673379 6.67522  6.678313]\n",
      " [6.674344 6.674327 6.673955 6.67574  6.68062 ]\n",
      " [6.674282 6.674354 6.67404  6.676765 6.686508]\n",
      " [6.674225 6.674371 6.674077 6.679305 6.72262 ]\n",
      " [6.674207 6.674375 6.674097 6.689904 6.629026]\n",
      " [6.674233 6.674373 6.674102 6.59798  6.653252]\n",
      " [6.67426  6.674377 6.674092 6.652587 6.657607]\n",
      " [6.674202 6.674401 6.674069 6.653965 6.65857 ]\n",
      " [6.673957 6.674451 6.674033 6.645201 6.658073]\n",
      " [6.673475 6.674533 6.673985 6.578392 6.656524]]\n",
      "Difference between numerical and analytical evaluation =  2.548252555056503e-15\n",
      "\n",
      "pyLODE vs analytical coefficients for l = 2\n",
      "[[1.000015 0.999995 0.999998 0.999916 0.999538]\n",
      " [0.999998 1.000002 0.999986 0.999943 0.999732]\n",
      " [0.999986 1.000003 0.999969 0.999955 0.999834]\n",
      " [0.999985 1.000002 0.999939 0.999943 0.999803]\n",
      " [0.999994 0.999999 0.999756 0.999903 0.999634]\n",
      " [1.000007 0.999997 1.000124 0.999833 0.999315]\n",
      " [1.000017 0.999996 1.000056 0.999718 0.998744]\n",
      " [1.000017 0.999995 1.000043 0.999505 0.99735 ]\n",
      " [1.000009 0.999995 1.00004  0.998974 0.985274]\n",
      " [1.       0.999994 1.000039 0.996326 1.006165]\n",
      " [0.999999 0.999992 1.000039 1.007225 1.003226]\n",
      " [1.000015 0.999989 1.00004  1.003223 1.002618]\n",
      " [1.000054 0.999984 1.000043 1.003199 1.002505]\n",
      " [1.00011  0.999976 1.000048 1.004725 1.002611]\n",
      " [1.000176 0.999965 1.000055 1.017072 1.00287 ]]\n",
      "pyLODE vs rascaline coefficients for l = 2\n",
      "[[6.674424 6.674294 6.67431  6.673765 6.671244]\n",
      " [6.674312 6.674337 6.674233 6.673944 6.672534]\n",
      " [6.674234 6.674348 6.674121 6.674025 6.673217]\n",
      " [6.674227 6.674336 6.673918 6.673943 6.673014]\n",
      " [6.674286 6.674318 6.672695 6.673679 6.671886]\n",
      " [6.674373 6.674303 6.675157 6.673212 6.669753]\n",
      " [6.674437 6.674297 6.674698 6.672446 6.665941]\n",
      " [6.674442 6.674295 6.674614 6.671022 6.656636]\n",
      " [6.674389 6.674293 6.674592 6.667479 6.57604 ]\n",
      " [6.674324 6.674286 6.674586 6.649803 6.715472]\n",
      " [6.674316 6.674271 6.674586 6.722545 6.695856]\n",
      " [6.674428 6.674249 6.674593 6.69584  6.691797]\n",
      " [6.674685 6.674217 6.674611 6.69568  6.691046]\n",
      " [6.67506  6.674169 6.674643 6.705864 6.691753]\n",
      " [6.6755   6.674092 6.674691 6.788267 6.693481]]\n",
      "Difference between numerical and analytical evaluation =  3.2483772080215955e-15\n",
      "\n",
      "pyLODE vs analytical coefficients for l = 3\n",
      "[[1.000023 1.000058 1.000206 1.000173 1.000226]\n",
      " [1.000014 1.000047 1.000209 1.000165 1.000273]\n",
      " [1.       1.000019 1.000137 1.000132 1.00038 ]\n",
      " [0.999989 0.999995 1.00001  1.00011  1.00053 ]\n",
      " [0.999987 0.999986 1.000573 1.000127 1.000737]\n",
      " [0.999991 0.999989 1.000003 1.000207 1.001074]\n",
      " [0.999998 1.       0.999947 1.000382 1.001773]\n",
      " [1.000003 1.00001  0.999933 1.000735 1.004007]\n",
      " [1.000001 1.000015 0.999939 1.00167  8.086113]\n",
      " [0.999991 1.000013 0.99995  1.009384 0.994339]\n",
      " [0.999977 1.000009 0.999958 0.994674 0.996502]\n",
      " [0.999959 1.000007 0.99996  0.996734 0.997063]\n",
      " [0.999935 1.000012 0.999955 0.996524 0.997185]\n",
      " [0.999896 1.000024 0.999947 0.994614 0.997083]\n",
      " [0.999833 1.000042 0.999937 0.976962 0.996813]]\n",
      "pyLODE vs rascaline coefficients for l = 3\n",
      "[[ 6.674482  6.674716  6.675699  6.675478  6.675835]\n",
      " [ 6.67442   6.674636  6.675718  6.67543   6.676149]\n",
      " [ 6.674325  6.674451  6.67524   6.675209  6.676861]\n",
      " [ 6.674254  6.674295  6.674393  6.675058  6.677861]\n",
      " [ 6.674237  6.67423   6.67815   6.675173  6.679248]\n",
      " [ 6.674268  6.674255  6.674348  6.675711  6.681493]\n",
      " [ 6.674315  6.674326  6.673969  6.676873  6.686157]\n",
      " [ 6.674344  6.674394  6.673877  6.679232  6.701068]\n",
      " [ 6.67433   6.674424  6.673916  6.685472 53.969352]\n",
      " [ 6.674269  6.674413  6.673993  6.736957  6.636545]\n",
      " [ 6.674174  6.674386  6.674048  6.638776  6.650978]\n",
      " [ 6.674053  6.674376  6.674058  6.652528  6.654724]\n",
      " [ 6.67389   6.674407  6.674028  6.651126  6.655534]\n",
      " [ 6.673631  6.674487  6.673973  6.638376  6.654858]\n",
      " [ 6.673209  6.674608  6.673909  6.520562  6.653056]]\n",
      "Difference between numerical and analytical evaluation =  3.3077660168393117e-15\n",
      "\n",
      "pyLODE vs analytical coefficients for l = 4\n",
      "[[1.000022 0.99999  0.999923 0.999771 0.999074]\n",
      " [0.999984 1.000127 1.00047  1.000198 0.99997 ]\n",
      " [0.999966 1.000128 1.000797 1.000241 1.000061]\n",
      " [0.999971 1.000066 1.001593 1.000036 0.999614]\n",
      " [0.999992 0.999999 1.000229 0.999711 0.998839]\n",
      " [1.000016 0.999959 1.000273 0.999359 0.997791]\n",
      " [1.000032 0.999954 1.000183 0.999004 0.996065]\n",
      " [1.00003  0.999972 1.0001   0.9985   0.98982 ]\n",
      " [1.000013 0.999997 1.00005  0.996866 1.018598]\n",
      " [0.999995 1.000011 1.000033 1.035606 1.005415]\n",
      " [0.999996 1.000008 1.000037 1.00423  1.003752]\n",
      " [1.000031 0.999991 1.00005  1.003503 1.003327]\n",
      " [1.000099 0.999968 1.000061 1.004135 1.003281]\n",
      " [1.000179 0.999951 1.000069 1.006712 1.003419]\n",
      " [1.000247 0.999941 1.000074 1.03853  1.003706]]\n",
      "pyLODE vs rascaline coefficients for l = 4\n",
      "[[6.674475 6.674261 6.67381  6.672799 6.668144]\n",
      " [6.674219 6.675175 6.677465 6.675647 6.674126]\n",
      " [6.674102 6.675179 6.679647 6.675936 6.674734]\n",
      " [6.674133 6.674767 6.684956 6.674564 6.67175 ]\n",
      " [6.674271 6.674319 6.675852 6.672394 6.666575]\n",
      " [6.674436 6.674052 6.67615  6.67005  6.659582]\n",
      " [6.674539 6.674016 6.675549 6.667678 6.648065]\n",
      " [6.674526 6.674142 6.67499  6.664316 6.606382]\n",
      " [6.674414 6.674307 6.674657 6.653411 6.798457]\n",
      " [6.674295 6.674402 6.674544 6.911972 6.710469]\n",
      " [6.674301 6.67438  6.674574 6.70256  6.699365]\n",
      " [6.674534 6.674263 6.674657 6.697703 6.69653 ]\n",
      " [6.674986 6.674115 6.674735 6.701923 6.696226]\n",
      " [6.675523 6.673999 6.674786 6.719127 6.697146]\n",
      " [6.675977 6.67393  6.674823 6.931485 6.699058]]\n",
      "Difference between numerical and analytical evaluation =  2.4680062229605105e-15\n",
      "\n"
     ]
    }
   ],
   "source": [
    "for l in range(1, lmax+1):\n",
    "    lm_index = l**2 + l\n",
    "    \n",
    "    # Get the features from the spherical expansion codes\n",
    "    features_l_pylode = features_pylode[0::2, 0, :, lm_index]\n",
    "    features_l_rascaline = descriptor_rascaline.values[0::2, lm_index*nmax:(lm_index+1)*nmax] \n",
    "    features_l_librascal = features_librascal[0::2, lm_index::(lmax+1)**2]\n",
    "    \n",
    "    # Get the features from the analytical and numerical evaluations\n",
    "    features_l_analytical = np.zeros((len(distances), nmax))\n",
    "    features_l_numerical = np.zeros((len(distances), nmax))\n",
    "    for i_dist, d in enumerate(distances):\n",
    "        features_l_analytical[i_dist] = coefficients_analytical_general_l(nmax, d, l=l)\n",
    "        features_l_numerical[i_dist] = coefficients_semianalytical_general_l(nmax, d, l=l)\n",
    "    assert_allclose(features_l_analytical, features_l_numerical, atol=1e-9, rtol=1e-7)\n",
    "    \n",
    "    # Compare the coefficients\n",
    "    ratios = features_l_pylode / features_l_analytical\n",
    "    err = np.linalg.norm(features_l_analytical - features_l_numerical)\n",
    "    ratios_rascal = features_l_pylode / features_l_rascaline\n",
    "    print(f'pyLODE vs analytical coefficients for l = {l}')\n",
    "    print(np.round(ratios,6))\n",
    "    print(f'pyLODE vs rascaline coefficients for l = {l}')\n",
    "    print(np.round(ratios_rascal, 6))\n",
    "    print('Difference between numerical and analytical evaluation = ', err)\n",
    "    print()"
   ]
  },
  {
   "cell_type": "markdown",
   "id": "tribal-preservation",
   "metadata": {},
   "source": [
    "# Coefficients for $l=0$  <a class=\"anchor\" id=\"l=0\"></a>"
   ]
  },
  {
   "cell_type": "markdown",
   "id": "spanish-cherry",
   "metadata": {},
   "source": [
    "## Compute the exact expressions for reference <a class=\"anchor\" id=\"l=0exact\"></a>"
   ]
  },
  {
   "cell_type": "markdown",
   "id": "biblical-sellers",
   "metadata": {},
   "source": [
    "### Hybrid analytical-numerical computation"
   ]
  },
  {
   "cell_type": "markdown",
   "id": "theoretical-worker",
   "metadata": {},
   "source": [
    "Here, we use the convention that the Gaussian density is normalized to one, i.e. contains the factor of $1/(2\\pi\\sigma^2)^{3/2}$. The spherical harmonic $Y_{00}$ is the constant function whose value is $1/\\sqrt{4\\pi}$ and the GTO's are orthonormalized starting from the primitive ones using the usual procedure."
   ]
  },
  {
   "cell_type": "code",
   "execution_count": 42,
   "id": "chief-composition",
   "metadata": {},
   "outputs": [],
   "source": [
    "def compute_coeffs_explicit_l0(d):\n",
    "    # Start computing coefficients for l=0\n",
    "    featvec = np.zeros((nmax))\n",
    "    \n",
    "    # Case 1: If the distance is zero, the integrals\n",
    "    # can easily be computed by hand. Furthermore,\n",
    "    # separating this case out is convenient since\n",
    "    # the general expression as a function of the pair\n",
    "    # distance d has a (removable) singularity at d=0\n",
    "    if d == 0:\n",
    "        prefac = np.sqrt(np.pi)\n",
    "        prefac /= (np.pi*smearing**2)**(3/4)\n",
    "        \n",
    "        featvec = np.zeros((nmax))\n",
    "        for n in range(nmax):\n",
    "            b = 0.5 * (1/smearing**2 + 1/sigma[n]**2)\n",
    "            neff = (3+n) / 2\n",
    "            featvec[n] = prefac * normalizations[n] * b**(-neff) * gamma(neff)\n",
    "    \n",
    "    # Case 2: For nonzero pair distances (i.e. all proper neighbor contributions),\n",
    "    # the final integral over the radial variable results in a hypergeometric function\n",
    "    # in a fully analytical treatment. Here, we perform the final integral numerically.\n",
    "    else:\n",
    "        # Define auxilary quantities and prefactors\n",
    "        a = d / smearing**2\n",
    "        prefac = 1. / (np.sqrt(2) * np.pi * smearing * d) * np.exp(-0.5*d**2/smearing**2)\n",
    "        prefac *= (2*np.pi*smearing**2)**1.5 / (np.pi*smearing**2)**(3/4)\n",
    "        \n",
    "        # Start main loop\n",
    "        for n in range(nmax):\n",
    "            # Compute contribution for primitive GTO function\n",
    "            powerlaw = lambda r: r**(1+n)\n",
    "            b = 0.5 * (1/smearing**2 + 1/sigma[n]**2)\n",
    "            gaussian = lambda r: np.exp(-b * r**2)\n",
    "            sinh = lambda r: np.sinh(a * r)\n",
    "            integrand = lambda r: powerlaw(r) * gaussian(r) * sinh(r)\n",
    "\n",
    "            # Numerical Integration\n",
    "            featvec[n] = prefac * normalizations[n] * quad(integrand, 1e-10, 4.5 * rcut)[0]\n",
    "    #return featvec\n",
    "    return transformation @ featvec"
   ]
  },
  {
   "cell_type": "code",
   "execution_count": 43,
   "id": "working-satellite",
   "metadata": {},
   "outputs": [
    {
     "data": {
      "text/plain": [
       "Text(0, 0.5, 'Contribution to <n00|rho_i>')"
      ]
     },
     "execution_count": 43,
     "metadata": {},
     "output_type": "execute_result"
    },
    {
     "data": {
      "image/png": "[encoded data removed]",
      "text/plain": [
       "<Figure size 432x288 with 1 Axes>"
      ]
     },
     "metadata": {
      "needs_background": "light"
     },
     "output_type": "display_data"
    }
   ],
   "source": [
    "# Start plotting the behavior of the neighbor contribution as a function of the pair distance r_ij\n",
    "Ndist = 50\n",
    "dd = np.linspace(0, rcut, Ndist)\n",
    "coeffs_exact = np.zeros((nmax, Ndist))\n",
    "for i, d in enumerate(dd):\n",
    "    coeffs_exact[:,i] = compute_coeffs_explicit_l0(d)\n",
    "\n",
    "\n",
    "# Make plot\n",
    "for n in range(nmax):\n",
    "    plt.plot(dd, coeffs_exact[n], label=f'n={n}')\n",
    "plt.legend()\n",
    "plt.xlabel('Pair distance rij')\n",
    "plt.ylabel('Contribution to <n00|rho_i>')"
   ]
  },
  {
   "cell_type": "markdown",
   "id": "piano-apache",
   "metadata": {},
   "source": [
    "Remark: This plot was mostly used to make sure that the implementation for small distances $r_{ij} \\rightarrow 0$ does indeed converge to the special case $r_{ij}=0$ which is implemented separately."
   ]
  },
  {
   "cell_type": "markdown",
   "id": "provincial-kitty",
   "metadata": {},
   "source": [
    "### Comparison to fully analytical general expression"
   ]
  },
  {
   "cell_type": "code",
   "execution_count": 44,
   "id": "chinese-throw",
   "metadata": {},
   "outputs": [
    {
     "name": "stderr",
     "output_type": "stream",
     "text": [
      "<ipython-input-13-71a9a352488c>:14: RuntimeWarning: divide by zero encountered in double_scalars\n",
      "  mod_sph_bessel = lambda x: np.sqrt(np.pi/2/x) * iv(l + 0.5, x)\n",
      "<ipython-input-13-71a9a352488c>:14: RuntimeWarning: invalid value encountered in double_scalars\n",
      "  mod_sph_bessel = lambda x: np.sqrt(np.pi/2/x) * iv(l + 0.5, x)\n",
      "<ipython-input-13-71a9a352488c>:20: IntegrationWarning: The occurrence of roundoff error is detected, which prevents \n",
      "  the requested tolerance from being achieved.  The error may be \n",
      "  underestimated.\n",
      "  featvec[n] = normalizations[n] * quad(integrand, eps, 4.5*rcut)[0]\n"
     ]
    }
   ],
   "source": [
    "coeffs_from_general_analytical = np.zeros((nmax, Ndist))\n",
    "coeffs_from_general_numerical = np.zeros((nmax, Ndist))\n",
    "for i, d in enumerate(dd):\n",
    "    coeffs_from_general_analytical[:,i] = coefficients_analytical_general_l(nmax, d, l=0)\n",
    "    coeffs_from_general_numerical[:,i] = coefficients_semianalytical_general_l(nmax, d, l=0)"
   ]
  },
  {
   "cell_type": "code",
   "execution_count": 45,
   "id": "stylish-popularity",
   "metadata": {},
   "outputs": [
    {
     "data": {
      "text/plain": [
       "Text(0, 0.5, 'Contribution to <n00|rho_i>')"
      ]
     },
     "execution_count": 45,
     "metadata": {},
     "output_type": "execute_result"
    },
    {
     "data": {
      "image/png": "[encoded data removed]",
      "text/plain": [
       "<Figure size 432x288 with 1 Axes>"
      ]
     },
     "metadata": {
      "needs_background": "light"
     },
     "output_type": "display_data"
    }
   ],
   "source": [
    "# Make plot\n",
    "for n in range(nmax):\n",
    "    plt.plot(dd, coeffs_exact[n], 'k')\n",
    "    plt.plot(dd, coeffs_from_general_analytical[n], 'b')\n",
    "    plt.plot(dd, 0.005+coeffs_from_general_numerical[n], 'r')\n",
    "    \n",
    "plt.plot(dd, coeffs_exact[0], label=f'exact', c='k')\n",
    "plt.plot(dd, 0.01+coeffs_from_general_analytical[0], label=f'analytical', c='b')\n",
    "plt.plot(dd, -0.01+coeffs_from_general_numerical[0], label=f'numerical', c='r')\n",
    "plt.legend()\n",
    "plt.xlabel('Pair distance rij')\n",
    "plt.ylabel('Contribution to <n00|rho_i>')"
   ]
  },
  {
   "cell_type": "code",
   "execution_count": 46,
   "id": "crucial-joint",
   "metadata": {},
   "outputs": [
    {
     "name": "stdout",
     "output_type": "stream",
     "text": [
      "2.1021632159171388e-15\n",
      "1.8423904127177282e-15\n",
      "3.687205184859943e-15\n",
      "3.63667396936402e-15\n",
      "7.383008069343714e-15\n",
      "7.416438570900206e-15\n",
      "1.5129578277370977e-14\n",
      "1.519949299267051e-14\n",
      "1.492595186371145e-14\n",
      "1.496502908630462e-14\n"
     ]
    }
   ],
   "source": [
    "for n in range(nmax):\n",
    "    diff1 = coeffs_exact[n] - coeffs_from_general_analytical[n]\n",
    "    diff2 = coeffs_from_general_numerical[n] - coeffs_from_general_analytical[n]\n",
    "    print(np.linalg.norm(diff1))\n",
    "    print(np.linalg.norm(diff2[1:])) # first entry at d=0 is NaN for numerical evaluation"
   ]
  },
  {
   "cell_type": "markdown",
   "id": "split-stomach",
   "metadata": {},
   "source": [
    "## Compare exact coefficients with those from pyLODE and Rascal: Center atom contribution <a class=\"anchor\" id=\"l=0center\"></a>"
   ]
  },
  {
   "cell_type": "markdown",
   "id": "corporate-matthew",
   "metadata": {},
   "source": [
    "Note that $l=0$ is more complicated compared to $l=1,2,\\dots$ even for dimers since the center atom contributes to the density as well. We begin this investigation by using a frame that only consists of a single atom."
   ]
  },
  {
   "cell_type": "markdown",
   "id": "historical-preservation",
   "metadata": {},
   "source": [
    "### Get the coefficients from the three codes"
   ]
  },
  {
   "cell_type": "code",
   "execution_count": 47,
   "id": "taken-resistance",
   "metadata": {},
   "outputs": [],
   "source": [
    "frames.append(Atoms('O', positions=[[1,1,1]], cell=cell, pbc=True))\n",
    "frames.append(Atoms('O', positions=[[1,1,1]], cell=1.2*cell, pbc=True))"
   ]
  },
  {
   "cell_type": "code",
   "execution_count": 48,
   "id": "wicked-sierra",
   "metadata": {},
   "outputs": [],
   "source": [
    "features_librascal_single = calculator_librascal.transform(frames).get_features(calculator_librascal)[-2:]\n",
    "calculator_pylode.transform(frames)\n",
    "features_pylode_single = calculator_pylode.features[-2:]\n",
    "features_rascaline_single = calculator_rascaline.compute(frames).values[-2:]"
   ]
  },
  {
   "cell_type": "markdown",
   "id": "entertaining-obligation",
   "metadata": {},
   "source": [
    "### Sanity check 1: Make sure the feature vectors only contain nonzero entries for l=0"
   ]
  },
  {
   "cell_type": "code",
   "execution_count": 49,
   "id": "little-motion",
   "metadata": {},
   "outputs": [
    {
     "data": {
      "text/plain": [
       "(2, 1, 5, 25)"
      ]
     },
     "execution_count": 49,
     "metadata": {},
     "output_type": "execute_result"
    }
   ],
   "source": [
    "features_pylode_single.shape"
   ]
  },
  {
   "cell_type": "code",
   "execution_count": 50,
   "id": "dressed-century",
   "metadata": {},
   "outputs": [
    {
     "data": {
      "text/plain": [
       "(2, 125)"
      ]
     },
     "execution_count": 50,
     "metadata": {},
     "output_type": "execute_result"
    }
   ],
   "source": [
    "features_librascal_single.shape"
   ]
  },
  {
   "cell_type": "code",
   "execution_count": 51,
   "id": "likely-occurrence",
   "metadata": {},
   "outputs": [
    {
     "data": {
      "text/plain": [
       "(2, 125)"
      ]
     },
     "execution_count": 51,
     "metadata": {},
     "output_type": "execute_result"
    }
   ],
   "source": [
    "features_rascaline_single.shape"
   ]
  },
  {
   "cell_type": "code",
   "execution_count": 52,
   "id": "individual-tomato",
   "metadata": {},
   "outputs": [
    {
     "data": {
      "text/plain": [
       "array([[[[ 9.00152134e-01,  0.00000000e+00,  0.00000000e+00,\n",
       "           0.00000000e+00,  3.86381917e-18,  1.44814219e-18,\n",
       "           1.13679308e-17,  7.32582243e-18, -2.52052997e-17,\n",
       "           0.00000000e+00,  0.00000000e+00,  0.00000000e+00,\n",
       "           0.00000000e+00,  0.00000000e+00,  0.00000000e+00,\n",
       "           0.00000000e+00, -8.94106915e-18,  4.29756746e-19,\n",
       "           7.35509379e-18,  1.55553980e-18, -8.94906091e-08,\n",
       "          -2.77013482e-18,  1.58810419e-17, -1.40768618e-18,\n",
       "          -7.56333690e-08],\n",
       "         [-2.62630970e-01,  0.00000000e+00,  0.00000000e+00,\n",
       "           0.00000000e+00, -1.79566472e-17, -2.78984309e-18,\n",
       "           2.95906812e-17, -2.17938560e-18, -4.76431256e-17,\n",
       "           0.00000000e+00,  0.00000000e+00,  0.00000000e+00,\n",
       "           0.00000000e+00,  0.00000000e+00,  0.00000000e+00,\n",
       "           0.00000000e+00, -2.15650073e-17,  1.19513621e-18,\n",
       "           1.81748519e-18, -2.64165684e-18,  1.40164499e-07,\n",
       "          -2.62949925e-17,  1.92445869e-17,  5.88753437e-18,\n",
       "           1.18460623e-07],\n",
       "         [ 1.29226172e-02,  0.00000000e+00,  0.00000000e+00,\n",
       "           0.00000000e+00, -4.23104165e-18,  2.15015583e-18,\n",
       "           3.25550714e-17, -9.40342354e-18, -4.37580182e-17,\n",
       "           0.00000000e+00,  0.00000000e+00,  0.00000000e+00,\n",
       "           0.00000000e+00,  0.00000000e+00,  0.00000000e+00,\n",
       "           0.00000000e+00, -8.02301294e-18,  1.28402094e-18,\n",
       "          -9.00992336e-18,  1.79735398e-17,  3.02375622e-08,\n",
       "           1.75392809e-17,  1.21795457e-17, -1.02890484e-17,\n",
       "           2.55554043e-08],\n",
       "         [-4.21801382e-02,  0.00000000e+00,  0.00000000e+00,\n",
       "           0.00000000e+00,  1.45558477e-18, -8.07345822e-18,\n",
       "           3.52640025e-17,  2.42589700e-17, -3.26455465e-17,\n",
       "           0.00000000e+00,  0.00000000e+00,  0.00000000e+00,\n",
       "           0.00000000e+00,  0.00000000e+00,  0.00000000e+00,\n",
       "           0.00000000e+00, -3.24326639e-17,  5.18337944e-18,\n",
       "           1.51066814e-17,  1.98705584e-17, -1.82671674e-07,\n",
       "          -4.09952844e-17,  2.89147790e-17, -1.25941678e-17,\n",
       "          -1.54385742e-07],\n",
       "         [ 2.97924220e-03,  0.00000000e+00,  0.00000000e+00,\n",
       "           0.00000000e+00, -3.94830695e-18,  2.95184124e-18,\n",
       "           5.72121984e-20, -1.21989629e-17, -2.04526957e-17,\n",
       "           0.00000000e+00,  0.00000000e+00,  0.00000000e+00,\n",
       "           0.00000000e+00,  0.00000000e+00,  0.00000000e+00,\n",
       "           0.00000000e+00, -1.99111756e-17, -1.01301661e-17,\n",
       "           1.39882162e-17,  1.14696113e-17,  2.60777741e-07,\n",
       "           1.95701892e-17,  1.43057106e-17,  1.52949495e-17,\n",
       "           2.20397417e-07]]],\n",
       "\n",
       "\n",
       "       [[[ 9.00870148e-01,  0.00000000e+00,  0.00000000e+00,\n",
       "           0.00000000e+00,  3.31330781e-18, -4.35696315e-18,\n",
       "          -2.49606541e-18, -4.85692169e-18, -1.84050897e-17,\n",
       "           0.00000000e+00,  0.00000000e+00,  0.00000000e+00,\n",
       "           0.00000000e+00,  0.00000000e+00,  0.00000000e+00,\n",
       "           0.00000000e+00, -6.59440000e-18, -1.34611951e-18,\n",
       "          -8.39224275e-19,  1.70633193e-18,  1.82615225e-08,\n",
       "           6.80133521e-19, -4.64756715e-18,  1.69783101e-18,\n",
       "           1.54338034e-08],\n",
       "         [-2.62184607e-01,  0.00000000e+00,  0.00000000e+00,\n",
       "           0.00000000e+00, -1.45881387e-17, -2.85983768e-18,\n",
       "           6.94979144e-18,  2.85028262e-18, -7.62475124e-17,\n",
       "           0.00000000e+00,  0.00000000e+00,  0.00000000e+00,\n",
       "           0.00000000e+00,  0.00000000e+00,  0.00000000e+00,\n",
       "           0.00000000e+00, -2.41619979e-17, -5.25163184e-18,\n",
       "           5.19826748e-18,  1.49747818e-18, -2.94618590e-08,\n",
       "          -9.09752301e-18,  9.58849466e-18,  1.30369947e-18,\n",
       "          -2.48998155e-08],\n",
       "         [ 1.51395307e-02,  0.00000000e+00,  0.00000000e+00,\n",
       "           0.00000000e+00, -6.81251939e-18,  1.16683921e-17,\n",
       "           8.52506338e-19, -1.47553566e-17, -3.47099772e-17,\n",
       "           0.00000000e+00,  0.00000000e+00,  0.00000000e+00,\n",
       "           0.00000000e+00,  0.00000000e+00,  0.00000000e+00,\n",
       "           0.00000000e+00, -2.48545901e-17,  5.97558549e-18,\n",
       "           2.00072025e-17,  9.84911153e-19,  2.58677343e-08,\n",
       "           1.51051955e-17,  6.79656648e-18,  6.08352180e-19,\n",
       "           2.18622257e-08],\n",
       "         [-4.20065991e-02,  0.00000000e+00,  0.00000000e+00,\n",
       "           0.00000000e+00, -6.19337929e-18, -3.29131102e-18,\n",
       "          -4.83707717e-18, -4.49878477e-19, -4.06543742e-17,\n",
       "           0.00000000e+00,  0.00000000e+00,  0.00000000e+00,\n",
       "           0.00000000e+00,  0.00000000e+00,  0.00000000e+00,\n",
       "           0.00000000e+00,  4.32951949e-18,  7.81659588e-18,\n",
       "           1.66258346e-17, -3.58695617e-18, -5.26105050e-08,\n",
       "          -2.20686469e-17,  1.35521318e-17, -1.81587215e-17,\n",
       "          -4.44639921e-08],\n",
       "         [ 1.04201974e-02,  0.00000000e+00,  0.00000000e+00,\n",
       "           0.00000000e+00, -4.27447908e-18, -2.10093466e-18,\n",
       "           2.96564529e-17,  6.34093227e-20, -1.05719929e-17,\n",
       "           0.00000000e+00,  0.00000000e+00,  0.00000000e+00,\n",
       "           0.00000000e+00,  0.00000000e+00,  0.00000000e+00,\n",
       "           0.00000000e+00, -3.40060519e-18, -8.16497427e-18,\n",
       "           3.14331334e-18,  5.23435431e-18,  5.85218843e-08,\n",
       "           2.27960628e-18, -1.15500051e-17,  1.36886886e-17,\n",
       "           4.94600195e-08]]]])"
      ]
     },
     "execution_count": 52,
     "metadata": {},
     "output_type": "execute_result"
    }
   ],
   "source": [
    "features_pylode_single"
   ]
  },
  {
   "cell_type": "code",
   "execution_count": 53,
   "id": "emerging-tract",
   "metadata": {},
   "outputs": [
    {
     "name": "stdout",
     "output_type": "stream",
     "text": [
      "[[ 0.1351241  -0.03919247  0.00272506 -0.00625739  0.00309146  0.\n",
      "   0.          0.          0.          0.          0.          0.\n",
      "   0.          0.          0.          0.          0.          0.\n",
      "   0.          0.          0.          0.          0.          0.\n",
      "   0.          0.          0.          0.          0.          0.\n",
      "   0.          0.          0.          0.          0.          0.\n",
      "   0.          0.          0.          0.          0.          0.\n",
      "   0.          0.          0.          0.          0.          0.\n",
      "   0.          0.          0.          0.          0.          0.\n",
      "   0.          0.          0.          0.          0.          0.\n",
      "   0.          0.          0.          0.          0.          0.\n",
      "   0.          0.          0.          0.          0.          0.\n",
      "   0.          0.          0.          0.          0.          0.\n",
      "   0.          0.          0.          0.          0.          0.\n",
      "   0.          0.          0.          0.          0.          0.\n",
      "   0.          0.          0.          0.          0.          0.\n",
      "   0.          0.          0.          0.          0.          0.\n",
      "   0.          0.          0.          0.          0.          0.\n",
      "   0.          0.          0.          0.          0.          0.\n",
      "   0.          0.          0.          0.          0.          0.\n",
      "   0.          0.          0.          0.          0.        ]\n",
      " [ 0.1351241  -0.03919247  0.00272506 -0.00625739  0.00309146  0.\n",
      "   0.          0.          0.          0.          0.          0.\n",
      "   0.          0.          0.          0.          0.          0.\n",
      "   0.          0.          0.          0.          0.          0.\n",
      "   0.          0.          0.          0.          0.          0.\n",
      "   0.          0.          0.          0.          0.          0.\n",
      "   0.          0.          0.          0.          0.          0.\n",
      "   0.          0.          0.          0.          0.          0.\n",
      "   0.          0.          0.          0.          0.          0.\n",
      "   0.          0.          0.          0.          0.          0.\n",
      "   0.          0.          0.          0.          0.          0.\n",
      "   0.          0.          0.          0.          0.          0.\n",
      "   0.          0.          0.          0.          0.          0.\n",
      "   0.          0.          0.          0.          0.          0.\n",
      "   0.          0.          0.          0.          0.          0.\n",
      "   0.          0.          0.          0.          0.          0.\n",
      "   0.          0.          0.          0.          0.          0.\n",
      "   0.          0.          0.          0.          0.          0.\n",
      "   0.          0.          0.          0.          0.          0.\n",
      "   0.          0.          0.          0.          0.          0.\n",
      "   0.          0.          0.          0.          0.        ]]\n"
     ]
    }
   ],
   "source": [
    "print(features_rascaline_single)"
   ]
  },
  {
   "cell_type": "markdown",
   "id": "suspected-bankruptcy",
   "metadata": {},
   "source": [
    "Comment: Rascaline seems to exclude the center contribution by default, leading to coefficients that are zero everywhere. This is not an error of the code per se, but is something that should be kept in mind."
   ]
  },
  {
   "cell_type": "markdown",
   "id": "sporting-melissa",
   "metadata": {},
   "source": [
    "Make sure that the coefficients apart from those at $l=0$ are zero (since we only have a single atom in the structure, the density is spherically symmetric and thus only the $l=0$ projection survives)"
   ]
  },
  {
   "cell_type": "code",
   "execution_count": 54,
   "id": "blind-pastor",
   "metadata": {},
   "outputs": [],
   "source": [
    "for i in range(len(features_pylode_single)):\n",
    "    # The l=0 coefficients for pyLODE are contained in [n,l]=[:,0]\n",
    "    feat = features_pylode_single[i,0]\n",
    "    feat_zero = feat[:,1:]\n",
    "    assert_allclose(feat_zero, np.zeros_like(feat_zero), atol=3e-6)\n",
    "    \n",
    "    # The l=0 coefficients for librascal are separated by (lmax+1)**2\n",
    "    feat = features_librascal_single[i]\n",
    "    for n in range(nmax):\n",
    "        for lm in range((lmax+1)**2):\n",
    "            if lm != 0:\n",
    "                assert abs(feat[n*(lmax+1)**2 + lm]) < 1e-8\n",
    "    \n",
    "    # The l=0 coefficients of rascaline are the first nmax entries.\n",
    "    # Thus, all the remaining contributions should be zero.\n",
    "    #feat = np.round(features_rascaline_single[i],15)\n",
    "    #assert_allclose(feat[nmax:], np.zeros_like(feat[nmax:]), atol=1e-8)"
   ]
  },
  {
   "cell_type": "markdown",
   "id": "alive-complaint",
   "metadata": {},
   "source": [
    "### Sanity check 2: Coefficients should be (for pyLODE: mostly) independent of the cell"
   ]
  },
  {
   "cell_type": "code",
   "execution_count": 55,
   "id": "proved-monkey",
   "metadata": {},
   "outputs": [],
   "source": [
    "# For librascal and rascaline, the features should be completely independent of the cell\n",
    "for feats in [features_librascal_single]:\n",
    "    feat1 = feats[0]\n",
    "    feat2 = feats[1]\n",
    "    assert_allclose(feat1, feat2, rtol=1e-10)"
   ]
  },
  {
   "cell_type": "code",
   "execution_count": 56,
   "id": "activated-fight",
   "metadata": {},
   "outputs": [],
   "source": [
    "# For pyLODE, the k-space sum does lead to a weak dependence on the cell that depends on\n",
    "# how well the k-space converged.\n",
    "feat1 = features_pylode_single[0]\n",
    "feat2 = features_pylode_single[1]\n",
    "#assert_allclose(feat1, feat2, rtol=1e-10, atol=1e-5)"
   ]
  },
  {
   "cell_type": "markdown",
   "id": "favorite-surveillance",
   "metadata": {},
   "source": [
    "### Compare pyLODE and rascal coefficients with exact values"
   ]
  },
  {
   "cell_type": "code",
   "execution_count": 57,
   "id": "inappropriate-potter",
   "metadata": {},
   "outputs": [],
   "source": [
    "feat_pylode_l0_zero = features_pylode_single[0,0,:,0]"
   ]
  },
  {
   "cell_type": "code",
   "execution_count": 58,
   "id": "pursuant-interest",
   "metadata": {},
   "outputs": [],
   "source": [
    "coeffs_exact_center = coeffs_exact[:,0] # take the r_{ij} = 0 part"
   ]
  },
  {
   "cell_type": "code",
   "execution_count": 59,
   "id": "regulation-intermediate",
   "metadata": {},
   "outputs": [
    {
     "name": "stdout",
     "output_type": "stream",
     "text": [
      "Exact center contributions [ 0.90186227 -0.26158334  0.01818794 -0.04176387  0.02063339]\n"
     ]
    }
   ],
   "source": [
    "print('Exact center contributions', coeffs_exact_center)"
   ]
  },
  {
   "cell_type": "code",
   "execution_count": 60,
   "id": "experienced-passion",
   "metadata": {},
   "outputs": [
    {
     "name": "stdout",
     "output_type": "stream",
     "text": [
      "Comparison to pyLODE\n",
      "[0.99810377 1.00400494 0.71050477 1.00996721 0.14438937]\n"
     ]
    }
   ],
   "source": [
    "print('Comparison to pyLODE')\n",
    "print(feat_pylode_l0_zero / coeffs_exact_center)"
   ]
  },
  {
   "cell_type": "code",
   "execution_count": 61,
   "id": "veterinary-poster",
   "metadata": {
    "scrolled": true
   },
   "outputs": [
    {
     "name": "stdout",
     "output_type": "stream",
     "text": [
      "Comparison to librascal\n",
      "[0.03745697 0.03745697 0.03745697 0.03745697 0.03745697]\n"
     ]
    }
   ],
   "source": [
    "print('Comparison to librascal')\n",
    "feat_librascal_l0_nonzeropart = features_librascal_single[0,::(lmax+1)**2]\n",
    "print(feat_librascal_l0_nonzeropart / coeffs_exact_center)"
   ]
  },
  {
   "cell_type": "code",
   "execution_count": 62,
   "id": "offensive-insertion",
   "metadata": {},
   "outputs": [
    {
     "data": {
      "text/plain": [
       "array([0.03752813, 0.03730755, 0.05271881, 0.03708731, 0.25941637])"
      ]
     },
     "execution_count": 62,
     "metadata": {},
     "output_type": "execute_result"
    }
   ],
   "source": [
    "feat_librascal_l0_nonzeropart / feat_pylode_l0_zero"
   ]
  },
  {
   "cell_type": "code",
   "execution_count": 63,
   "id": "bridal-harvest",
   "metadata": {},
   "outputs": [
    {
     "data": {
      "text/plain": [
       "0.5079490874739278"
      ]
     },
     "execution_count": 63,
     "metadata": {},
     "output_type": "execute_result"
    }
   ],
   "source": [
    "1./(2*np.pi*smearing**2)**1.5"
   ]
  },
  {
   "cell_type": "code",
   "execution_count": 64,
   "id": "secondary-deposit",
   "metadata": {},
   "outputs": [
    {
     "data": {
      "text/plain": [
       "array([ 0.03378103, -0.00979812,  0.00068127, -0.00156435,  0.00077286])"
      ]
     },
     "execution_count": 64,
     "metadata": {},
     "output_type": "execute_result"
    }
   ],
   "source": [
    "feat_librascal_l0_nonzeropart"
   ]
  },
  {
   "cell_type": "code",
   "execution_count": 65,
   "id": "chicken-exposure",
   "metadata": {},
   "outputs": [
    {
     "name": "stdout",
     "output_type": "stream",
     "text": [
      "Comparison to rascaline\n",
      "[0.14982787 0.14982787 0.14982787 0.14982787 0.14982787]\n"
     ]
    }
   ],
   "source": [
    "print('Comparison to rascaline')\n",
    "feat_rascaline_l0_nonzeropart = features_rascaline_single[0,:nmax]\n",
    "print(feat_rascaline_l0_nonzeropart / coeffs_exact_center)"
   ]
  },
  {
   "cell_type": "markdown",
   "id": "approved-filter",
   "metadata": {},
   "source": [
    "## Compare exact coefficients with those from pyLODE and Rascal: Dimers <a class=\"anchor\" id=\"l=0dimer\"></a>"
   ]
  },
  {
   "cell_type": "markdown",
   "id": "civil-drawing",
   "metadata": {},
   "source": [
    "TODO"
   ]
  },
  {
   "cell_type": "markdown",
   "id": "attached-cloud",
   "metadata": {},
   "source": [
    "## Norm tests"
   ]
  },
  {
   "cell_type": "code",
   "execution_count": 66,
   "id": "settled-testimony",
   "metadata": {},
   "outputs": [],
   "source": [
    "features_pylode_single = calculator_pylode.features[-2:]\n",
    "features_pylode_dimers = calculator_pylode.features[:-2]"
   ]
  },
  {
   "cell_type": "code",
   "execution_count": 67,
   "id": "laden-nightlife",
   "metadata": {},
   "outputs": [],
   "source": [
    "norm_exact_single = 1./(4 * np.pi * smearing**2)**0.75\n",
    "norm_exact_dimers = np.zeros((Ndimers,))\n",
    "\n",
    "for i, d in enumerate(distances):\n",
    "    norm_exact_dimers[i] = norm_exact_single * np.sqrt(2 + np.exp(-d**2/(4 * smearing**2)))"
   ]
  },
  {
   "cell_type": "code",
   "execution_count": 68,
   "id": "latin-miami",
   "metadata": {},
   "outputs": [
    {
     "data": {
      "text/plain": [
       "(30, 1, 5, 25)"
      ]
     },
     "execution_count": 68,
     "metadata": {},
     "output_type": "execute_result"
    }
   ],
   "source": [
    "features_pylode_dimers.shape"
   ]
  },
  {
   "cell_type": "code",
   "execution_count": 69,
   "id": "engaging-forty",
   "metadata": {},
   "outputs": [
    {
     "name": "stdout",
     "output_type": "stream",
     "text": [
      "0.9387246262619203\n",
      "0.4237772081237576\n",
      "0.9393668785849424\n",
      "0.4237772081237576\n"
     ]
    }
   ],
   "source": [
    "for features in features_pylode_single:\n",
    "    print(norm(features.flatten()))\n",
    "    print(norm_exact_single)"
   ]
  },
  {
   "cell_type": "code",
   "execution_count": 70,
   "id": "private-childhood",
   "metadata": {},
   "outputs": [],
   "source": [
    "norm_pylode_single = np.zeros((2,))\n",
    "for i in range(2):\n",
    "    norm_pylode_single[i] = norm(features_pylode_single[i].flatten())"
   ]
  },
  {
   "cell_type": "code",
   "execution_count": 71,
   "id": "distinct-satin",
   "metadata": {},
   "outputs": [
    {
     "name": "stdout",
     "output_type": "stream",
     "text": [
      "[0.93872463 0.93936688]\n",
      "0.4237772081237576\n"
     ]
    }
   ],
   "source": [
    "print(norm_pylode_single)\n",
    "print(norm_exact_single)"
   ]
  },
  {
   "cell_type": "code",
   "execution_count": 72,
   "id": "functioning-hobby",
   "metadata": {},
   "outputs": [],
   "source": [
    "norm_pylode_dimers = np.zeros_like(distances)\n",
    "for i,d in enumerate(distances):\n",
    "    norm_pylode_dimers[i] = norm(features_pylode_dimers[i].flatten())"
   ]
  },
  {
   "cell_type": "code",
   "execution_count": 73,
   "id": "sonic-carbon",
   "metadata": {},
   "outputs": [
    {
     "data": {
      "text/plain": [
       "(0.0, 1.6580872354720437)"
      ]
     },
     "execution_count": 73,
     "metadata": {},
     "output_type": "execute_result"
    },
    {
     "data": {
      "image/png": "[encoded data removed]",
      "text/plain": [
       "<Figure size 432x288 with 1 Axes>"
      ]
     },
     "metadata": {
      "needs_background": "light"
     },
     "output_type": "display_data"
    }
   ],
   "source": [
    "plt.scatter(distances, norm_exact_dimers, label='exact')\n",
    "plt.scatter(distances, norm_pylode_dimers, label='pyLODE')\n",
    "plt.legend()\n",
    "plt.ylim(0,)"
   ]
  },
  {
   "cell_type": "markdown",
   "id": "lucky-flash",
   "metadata": {},
   "source": [
    "# Compare coefficients for random molecules <a class=\"anchor\" id=\"randommolecule\"></a>"
   ]
  },
  {
   "cell_type": "code",
   "execution_count": 74,
   "id": "recreational-installation",
   "metadata": {},
   "outputs": [],
   "source": [
    "frames = []\n",
    "frames.append(Atoms('O4', positions=[[1,1,1],[2,1,1],[2,2.2,1],[2.3,2.,1.5]], cell=cell, pbc=True))\n",
    "frames.append(Atoms('O4', positions=[[1,1,1],[2.3,1,1],[2.2,2.5,1.1],[2.7,2.,1.1]], cell=cell, pbc=True))"
   ]
  },
  {
   "cell_type": "code",
   "execution_count": 75,
   "id": "sitting-thinking",
   "metadata": {},
   "outputs": [],
   "source": [
    "features_librascal_single = calculator_librascal.transform(frames).get_features(calculator_librascal)\n",
    "calculator_pylode.transform(frames)\n",
    "features_pylode_single = calculator_pylode.features"
   ]
  },
  {
   "cell_type": "code",
   "execution_count": 76,
   "id": "color-mailman",
   "metadata": {},
   "outputs": [
    {
     "data": {
      "text/plain": [
       "(8, 125)"
      ]
     },
     "execution_count": 76,
     "metadata": {},
     "output_type": "execute_result"
    }
   ],
   "source": [
    "features_librascal_single.shape"
   ]
  },
  {
   "cell_type": "code",
   "execution_count": 77,
   "id": "resident-uniform",
   "metadata": {},
   "outputs": [],
   "source": [
    "features_pylode_single = features_pylode_single[:,0,:,:]"
   ]
  },
  {
   "cell_type": "code",
   "execution_count": 78,
   "id": "every-sodium",
   "metadata": {},
   "outputs": [],
   "source": [
    "f_librascal = features_librascal_single.reshape((8, nmax, (lmax+1)**2))"
   ]
  },
  {
   "cell_type": "code",
   "execution_count": 79,
   "id": "oriented-beverage",
   "metadata": {},
   "outputs": [
    {
     "name": "stdout",
     "output_type": "stream",
     "text": [
      "9.490667341117353\n",
      "-46.96975518098533\n",
      "11.654273531018074\n",
      "-57.20017832031479\n",
      "16.691428011941937\n",
      "-23.7626100528599\n",
      "52.44771248479327\n",
      "-20.731181973923135\n",
      "10.631753234360692\n",
      "-30.84460478434056\n",
      "13.795020908234035\n",
      "-78.8528777082086\n",
      "10.19374538607927\n",
      "-21.34287958599988\n",
      "10.14607296086954\n",
      "-18.49856567607263\n"
     ]
    }
   ],
   "source": [
    "for i in range(8):\n",
    "    ratiomax = np.max(features_pylode_single[i] / f_librascal[i] /2.82841)\n",
    "    ratiomin = np.min(features_pylode_single[i] / f_librascal[i] /2.82841)\n",
    "    print(ratiomax)\n",
    "    print(ratiomin)"
   ]
  },
  {
   "cell_type": "code",
   "execution_count": 80,
   "id": "sharing-buddy",
   "metadata": {},
   "outputs": [
    {
     "data": {
      "text/plain": [
       "18.49856567607263"
      ]
     },
     "execution_count": 80,
     "metadata": {},
     "output_type": "execute_result"
    }
   ],
   "source": [
    "np.max(np.abs(features_pylode_single[i] / f_librascal[i])/2.82841)"
   ]
  },
  {
   "cell_type": "code",
   "execution_count": 81,
   "id": "satisfied-shark",
   "metadata": {},
   "outputs": [
    {
     "data": {
      "text/plain": [
       "(8, 5, 25)"
      ]
     },
     "execution_count": 81,
     "metadata": {},
     "output_type": "execute_result"
    }
   ],
   "source": [
    "features_pylode_single.shape"
   ]
  },
  {
   "cell_type": "markdown",
   "id": "reverse-universal",
   "metadata": {},
   "source": [
    "Comment: Coefficients now also agree for \"generic\" molecules (i.e. molecules that do not have any special symmetry) up to a global factor!"
   ]
  },
  {
   "cell_type": "markdown",
   "id": "bacterial-venezuela",
   "metadata": {},
   "source": [
    "## Table of Contents:\n",
    "* [Preparation](#preparation)\n",
    "    * [Exact Expression for Coefficients](#exactexpressions)\n",
    "    * [Get the features for dimers](#getfeatures)\n",
    "* [Coefficients for $l=1$](#l=1)\n",
    "    * [Explicit computation of coefficients for $l=1$](#l=1explicit)\n",
    "    * [Comparison to pyLODE/rascal for dimers](#l=1dimer)\n",
    "* [Coefficients for $l\\geq 2$](#lgeq2)\n",
    "    * [Coefficients for $l=2$](#l=2)\n",
    "    * [Coefficients for general $l$](#l_general)\n",
    "* [Coefficients for l=0](#l=0)\n",
    "    * [Exact coefficients](#l=0exact)\n",
    "    * [Comparison to pyLODE/rascal for center contribution](#l=0center)\n",
    "    * [Comparison to pyLODE/rascal for dimers](#l=0dimer)"
   ]
  }
 ],
 "metadata": {
  "kernelspec": {
   "display_name": "Python 3",
   "language": "python",
   "name": "python3"
  },
  "language_info": {
   "codemirror_mode": {
    "name": "ipython",
    "version": 3
   },
   "file_extension": ".py",
   "mimetype": "text/x-python",
   "name": "python",
   "nbconvert_exporter": "python",
   "pygments_lexer": "ipython3",
   "version": "3.8.5"
  }
 },
 "nbformat": 4,
 "nbformat_minor": 5
}
