{
 "cells": [
  {
   "cell_type": "code",
   "execution_count": 1,
   "id": "mental-mumbai",
   "metadata": {},
   "outputs": [],
   "source": [
    "%load_ext autoreload\n",
    "%autoreload 2"
   ]
  },
  {
   "cell_type": "code",
   "execution_count": 2,
   "id": "banner-facility",
   "metadata": {},
   "outputs": [],
   "source": [
    "import sys"
   ]
  },
  {
   "cell_type": "code",
   "execution_count": 3,
   "id": "joint-disorder",
   "metadata": {},
   "outputs": [],
   "source": [
    "sys.path.insert(0, '/ssd/scratch/khugueni/librascal-pypi-release/build')"
   ]
  },
  {
   "cell_type": "code",
   "execution_count": 4,
   "id": "swiss-hampton",
   "metadata": {},
   "outputs": [],
   "source": [
    "%matplotlib inline\n",
    "from matplotlib import pylab as plt\n",
    "\n",
    "import time\n",
    "import rascal\n",
    "\n",
    "import ase\n",
    "from ase import Atoms\n",
    "from ase.io import read, write\n",
    "from ase.build import make_supercell\n",
    "from ase.visualize import view\n",
    "from numpy.testing import assert_allclose\n",
    "import numpy as np\n",
    "from numpy.linalg import norm\n",
    "\n",
    "from scipy.integrate import quad\n",
    "from pylode.lib.radial_basis import innerprod\n",
    "from scipy.special import gamma, hyp1f1, sph_harm, iv\n",
    "\n",
    "# Descriptor related imports: compare the librascal and pyLODE versions of SOAP\n",
    "from rascal.representations import SphericalExpansion as RascalSphericalExpansion\n",
    "#from librascal.representations import SphericalExpansion as RascalSphericalExpansion\n",
    "import rascaline\n",
    "from pylode.lib.projection_coeffs import DensityProjectionCalculator"
   ]
  },
  {
   "cell_type": "markdown",
   "id": "radio-worthy",
   "metadata": {},
   "source": [
    "# Introduction"
   ]
  },
  {
   "cell_type": "markdown",
   "id": "ecological-trash",
   "metadata": {},
   "source": [
    "This notebook is used to compare the features obtained from rascaline, librascal and pylode. The goal is to fully understand the details of the three implementations to make sure that the same coefficients from different codes agree."
   ]
  },
  {
   "cell_type": "markdown",
   "id": "forced-porter",
   "metadata": {},
   "source": [
    "## Table of Contents:\n",
    "* [Preparation](#preparation)\n",
    "    * [Exact Expression for Coefficients](#exactexpressions)\n",
    "    * [Get the features for dimers](#getfeatures)\n",
    "* [Coefficients for $l=1$](#l=1)\n",
    "    * [Explicit computation of coefficients for $l=1$](#l=1explicit)\n",
    "    * [Comparison to pyLODE/rascal for dimers](#l=1dimer)\n",
    "* [Coefficients for $l\\geq 2$](#lgeq2)\n",
    "    * [Coefficients for $l=2$](#l=2)\n",
    "    * [Coefficients for general $l$](#l_general)\n",
    "* [Coefficients for l=0](#l=0)\n",
    "    * [Exact coefficients](#l=0exact)\n",
    "    * [Comparison to pyLODE/rascal for center contribution](#l=0center)\n",
    "    * [Comparison to pyLODE/rascal for dimers](#l=0dimer)"
   ]
  },
  {
   "cell_type": "markdown",
   "id": "defined-clinic",
   "metadata": {},
   "source": [
    "# Preparation: Get features from all three codes <a class=\"anchor\" id=\"preparation\"></a>"
   ]
  },
  {
   "cell_type": "markdown",
   "id": "funded-message",
   "metadata": {},
   "source": [
    "## Exact Expression for Coefficients <a class=\"anchor\" id=\"exactexpressions\"></a>"
   ]
  },
  {
   "cell_type": "markdown",
   "id": "following-adobe",
   "metadata": {},
   "source": [
    "### Define common hyperparameters"
   ]
  },
  {
   "cell_type": "code",
   "execution_count": 5,
   "id": "suspended-lease",
   "metadata": {},
   "outputs": [],
   "source": [
    "nmax = 8\n",
    "lmax = 3\n",
    "rcut = 6.\n",
    "smearing = 0.5"
   ]
  },
  {
   "cell_type": "markdown",
   "id": "rental-surrey",
   "metadata": {},
   "source": [
    "### Generate orthonormalization matrix <a class=\"anchor\" id=\"orthonormalization\"></a>"
   ]
  },
  {
   "cell_type": "code",
   "execution_count": 6,
   "id": "continental-concern",
   "metadata": {},
   "outputs": [],
   "source": [
    "Nradial = 1000\n",
    "sigma = np.ones(nmax, dtype=float)\n",
    "for i in range(1, nmax):\n",
    "    sigma[i] = np.sqrt(i)\n",
    "sigma *= rcut / nmax"
   ]
  },
  {
   "cell_type": "code",
   "execution_count": 7,
   "id": "square-admission",
   "metadata": {},
   "outputs": [],
   "source": [
    "# Define inner product matrix using analytical expression for primitive GTOs\n",
    "innerprods_primitive = np.zeros((nmax, nmax))\n",
    "for n1 in range(nmax):\n",
    "    for n2 in range(nmax):\n",
    "        sigeff = 0.5 * (1/sigma[n1]**2 + 1/sigma[n2]**2)\n",
    "        neff = 0.5 * (3 + n1 + n2)\n",
    "        innerprods_primitive[n1, n2] = 0.5 * sigeff**(-neff) * gamma(neff)\n",
    "\n",
    "eigvals, eigvecs = np.linalg.eigh(innerprods_primitive)\n",
    "transformation_primitive = eigvecs @ np.diag(np.sqrt(1. / eigvals)) @ eigvecs.T"
   ]
  },
  {
   "cell_type": "code",
   "execution_count": 8,
   "id": "listed-gamma",
   "metadata": {},
   "outputs": [],
   "source": [
    "normalizations = np.zeros((nmax,))\n",
    "for n in range(nmax):\n",
    "    normalizations[n] = 1/np.sqrt(innerprods_primitive[n, n])"
   ]
  },
  {
   "cell_type": "code",
   "execution_count": 9,
   "id": "graduate-standard",
   "metadata": {},
   "outputs": [],
   "source": [
    "# Inner product matrix for normalized GTOs\n",
    "innerprods_normalized = np.zeros((nmax, nmax))\n",
    "for n1 in range(nmax):\n",
    "    for n2 in range(nmax):\n",
    "        innerprods_normalized[n1, n2] = innerprods_primitive[n1, n2]\n",
    "        innerprods_normalized[n1, n2] *= normalizations[n1] * normalizations[n2]\n",
    "        \n",
    "eigvals, eigvecs = np.linalg.eigh(innerprods_normalized)\n",
    "transformation_normalized = eigvecs @ np.diag(np.sqrt(1. / eigvals)) @ eigvecs.T"
   ]
  },
  {
   "cell_type": "code",
   "execution_count": 10,
   "id": "forty-cinema",
   "metadata": {},
   "outputs": [],
   "source": [
    "use_gto_convention = 'normalized' # choose between 'normalized' and 'primitive'\n",
    "if use_gto_convention == 'normalized':\n",
    "    transformation = transformation_normalized\n",
    "    innerprods = innerprods_normalized\n",
    "elif use_gto_convention == 'primitive':\n",
    "    transformation = transformation_primitive\n",
    "    innerprods = innerprods_primitive\n",
    "    normalizations = np.ones_like(normalizations)"
   ]
  },
  {
   "cell_type": "code",
   "execution_count": 11,
   "id": "interpreted-sierra",
   "metadata": {},
   "outputs": [],
   "source": [
    "assert_allclose(transformation @ innerprods @ transformation, np.eye(nmax), atol=1e-5, rtol=1e-5)"
   ]
  },
  {
   "cell_type": "markdown",
   "id": "polish-education",
   "metadata": {},
   "source": [
    "### Fully analytical formula for general $l$"
   ]
  },
  {
   "cell_type": "code",
   "execution_count": 12,
   "id": "clear-development",
   "metadata": {},
   "outputs": [],
   "source": [
    "def coefficients_analytical_general_l(nmax, d, l):\n",
    "    # Define auxilary quantities and prefactors\n",
    "    a = 1. / (2 * smearing**2)\n",
    "    lplus3half = l + 1.5\n",
    "    prefac_global = np.pi**1.5 * sph_harm(0, l, 0, 0).real * a**l / gamma(lplus3half)\n",
    "    prefac_global *= d**l * np.exp(-a*d**2)\n",
    "    prefac_global /= (np.pi * smearing**2)**(3/4)\n",
    "\n",
    "    # Start main loop\n",
    "    featvec = np.zeros((nmax))\n",
    "    for n in range(nmax):\n",
    "        nlplus3half = (3 + n + l) / 2\n",
    "        b = 1. / (2 * sigma[n]**2)\n",
    "        prefac_n_dep = gamma(nlplus3half) / (a+b)**nlplus3half\n",
    "        hyp = hyp1f1(nlplus3half, lplus3half, a**2*d**2/(a+b))\n",
    "        featvec[n] = normalizations[n] * prefac_n_dep * hyp\n",
    "\n",
    "    #return prefac_global * featvec\n",
    "    return prefac_global * (transformation @ featvec)   "
   ]
  },
  {
   "cell_type": "markdown",
   "id": "prompt-grounds",
   "metadata": {},
   "source": [
    "### Semianalytical (final integral performed numerically) formula for general l"
   ]
  },
  {
   "cell_type": "code",
   "execution_count": 13,
   "id": "expressed-weapon",
   "metadata": {},
   "outputs": [],
   "source": [
    "def coefficients_semianalytical_general_l(nmax, d, l):\n",
    "    # Prefactor\n",
    "    a = 1. / (2 * smearing**2)\n",
    "    prefac_global = 4*np.pi * sph_harm(0, l, 0, 0).real * np.exp(-a*d**2)\n",
    "    prefac_global /= (np.pi * smearing**2)**(3/4)\n",
    "\n",
    "    # Main loop performing the numerical integration\n",
    "    featvec = np.zeros((nmax))\n",
    "    for n in range(nmax):\n",
    "        # Define the integrand consisting of a power-law, Gaussian and Bessel part\n",
    "        b = 1. / (2 * sigma[n]**2)\n",
    "        gaussian = lambda r: np.exp(-(a+b)*r**2)\n",
    "        power = lambda r: r**(2+n)\n",
    "        mod_sph_bessel = lambda x: np.sqrt(np.pi/2/x) * iv(l + 0.5, x)\n",
    "        bessel = lambda r: mod_sph_bessel(2*a*d*r)\n",
    "        integrand = lambda r: power(r) * gaussian(r) * bessel(r)\n",
    "        \n",
    "        # Numerical integration\n",
    "        eps = 1e-10\n",
    "        featvec[n] = normalizations[n] * quad(integrand, eps, 4.5*rcut)[0]\n",
    "\n",
    "    #return prefac_global * featvec\n",
    "    return prefac_global * (transformation @ featvec)"
   ]
  },
  {
   "cell_type": "markdown",
   "id": "scientific-consortium",
   "metadata": {},
   "source": [
    "## Get the features for dimers <a class=\"anchor\" id=\"getfeatures\"></a>"
   ]
  },
  {
   "cell_type": "markdown",
   "id": "electoral-oasis",
   "metadata": {},
   "source": [
    "### Define structure to be used for the comparison\n",
    "The main differences between librascal and the pyLODE implementation are the presence of a smooth cutoff function and the potentially different order in which neighbors are stored. We thus wish to generate structures for which these two effects do not alter the coefficients too much. For this task, we use clusters of Oxygen atoms for which all atoms have a mutual distance of less than 3A. Then, even for a relatively large smearing of 1.5A, the atomic densities will be reasonably contained within a ball of cutoff radius 6 that will also be used for the cutoff."
   ]
  },
  {
   "cell_type": "code",
   "execution_count": 14,
   "id": "floppy-subject",
   "metadata": {},
   "outputs": [],
   "source": [
    "frames = []\n",
    "cell = np.eye(3) * 16\n",
    "Ndimers = 15\n",
    "distances = np.linspace(1., 2.5, Ndimers)\n",
    "for d in distances:\n",
    "    positions = [[1,1,1],[1,1,1+d]]\n",
    "    frame = Atoms('O2', positions=positions, cell=cell, pbc=True)\n",
    "    frames.append(frame)"
   ]
  },
  {
   "cell_type": "markdown",
   "id": "funded-operations",
   "metadata": {},
   "source": [
    "### Get the features from pyLODE"
   ]
  },
  {
   "cell_type": "code",
   "execution_count": 15,
   "id": "happy-sydney",
   "metadata": {},
   "outputs": [],
   "source": [
    "hypers = {\n",
    "    'smearing':smearing,\n",
    "    'max_angular':lmax,\n",
    "    'max_radial':nmax,\n",
    "    'cutoff_radius':rcut,\n",
    "    'potential_exponent':0,\n",
    "    'radial_basis': 'gto',\n",
    "    'compute_gradients':False,\n",
    "    'subtract_center_contribution':False,\n",
    "    }\n",
    "\n",
    "calculator_pylode = DensityProjectionCalculator(**hypers)\n",
    "calculator_pylode.transform(frames)\n",
    "features_pylode = calculator_pylode.features"
   ]
  },
  {
   "cell_type": "markdown",
   "id": "random-corporation",
   "metadata": {},
   "source": [
    "### Get the features from librascal"
   ]
  },
  {
   "cell_type": "code",
   "execution_count": 16,
   "id": "undefined-morning",
   "metadata": {},
   "outputs": [],
   "source": [
    "# define the parameters of the spherical expansion\n",
    "hypers = dict(interaction_cutoff=rcut, \n",
    "              max_radial=nmax, \n",
    "              max_angular=lmax, \n",
    "              gaussian_sigma_constant=smearing,\n",
    "              gaussian_sigma_type=\"Constant\",\n",
    "              cutoff_smooth_width=0.1,\n",
    "              radial_basis=\"GTO\",\n",
    "              compute_gradients=False,\n",
    "              expansion_by_species_method='structure wise',\n",
    "              optimization=dict(Spline=dict(accuracy=1e-12)),\n",
    "              )\n",
    "\n",
    "calculator_librascal = RascalSphericalExpansion(**hypers)\n",
    "# compute the representation of all the structures\n",
    "features_librascal = calculator_librascal.transform(frames).get_features(calculator_librascal)"
   ]
  },
  {
   "cell_type": "markdown",
   "id": "rental-working",
   "metadata": {},
   "source": [
    "### Get the features from Rascaline"
   ]
  },
  {
   "cell_type": "code",
   "execution_count": 17,
   "id": "bottom-shower",
   "metadata": {},
   "outputs": [],
   "source": [
    "HYPER_PARAMETERS = {\n",
    "    \"cutoff\": rcut,\n",
    "    \"max_radial\": nmax,\n",
    "    \"max_angular\": lmax,\n",
    "    \"atomic_gaussian_width\": smearing,\n",
    "    \"gradients\": False,\n",
    "    \"center_atom_weight\": 1.0,\n",
    "    \"radial_basis\": {\n",
    "        \"Gto\": {},\n",
    "    },\n",
    "    \"cutoff_function\": {\n",
    "        \"Step\": {\"width\": 1e-3},\n",
    "    },\n",
    "}\n",
    "\n",
    "calculator_rascaline = rascaline.SphericalExpansion(**HYPER_PARAMETERS)\n",
    "\n",
    "# run the actual calculation\n",
    "descriptor_rascaline = calculator_rascaline.compute(frames)"
   ]
  },
  {
   "cell_type": "markdown",
   "id": "beautiful-guest",
   "metadata": {},
   "source": [
    "# Compare coefficients for $l=1$ <a class=\"anchor\" id=\"l=1\"></a>"
   ]
  },
  {
   "cell_type": "markdown",
   "id": "coastal-animal",
   "metadata": {},
   "source": [
    "## Explicit computation of coefficients for $l=1$ <a class=\"anchor\" id=\"l=1explicit\"></a>"
   ]
  },
  {
   "cell_type": "markdown",
   "id": "completed-future",
   "metadata": {},
   "source": [
    "To make sure that we understand every single aspect of the codes including all the prefactors and conventions, we compute the exact coefficients we would expect from an Oxygen molecule oriented along the z-axis. The computations are done using three (four) different methods: a fully analytical approach applicable to all $l$, a semi-analytical approach in which the final radial integral is evaluated numerically also valid for all $l$, and finally an explicit formula that was obtained directly for the special case $l=1$ starting at the very definition. For convenience, we also include the complete analytical formula for the special case $l=1$."
   ]
  },
  {
   "cell_type": "markdown",
   "id": "realistic-sellers",
   "metadata": {},
   "source": [
    "### Fully analytical formula for $l=1$"
   ]
  },
  {
   "cell_type": "code",
   "execution_count": 18,
   "id": "welsh-python",
   "metadata": {},
   "outputs": [],
   "source": [
    "def coefficients_analytical_l1(nmax, d):\n",
    "    # Define auxilary quantities and prefactors\n",
    "    a = 1. / (2 * smearing**2)\n",
    "    lplus3half = 2.5\n",
    "    prefac_global = np.pi * np.sqrt(3/4) * a / gamma(lplus3half) * d * np.exp(-a*d**2)\n",
    "    prefac_global /= (np.pi*smearing**2)**(3/4)\n",
    "    \n",
    "    # Start main loop\n",
    "    featvec = np.zeros((nmax))\n",
    "    for n in range(nmax):\n",
    "        # Compute contribution for primitive GTO function\n",
    "        nlplus3half = (4 + n) / 2\n",
    "        b = 1. / (2 * sigma[n]**2)\n",
    "        prefac_n_dep = gamma(nlplus3half) / (a+b)**nlplus3half\n",
    "        hyp = hyp1f1(nlplus3half, lplus3half, a**2*d**2/(a+b))\n",
    "        featvec[n] = normalizations[n] * prefac_n_dep * hyp\n",
    "\n",
    "    return prefac_global * (transformation @ featvec)"
   ]
  },
  {
   "cell_type": "markdown",
   "id": "frequent-cooler",
   "metadata": {},
   "source": [
    "### Semianalytical (final integral performed numerically) formula for $l=1$"
   ]
  },
  {
   "cell_type": "code",
   "execution_count": 19,
   "id": "accurate-mumbai",
   "metadata": {},
   "outputs": [],
   "source": [
    "def coefficients_semianalytical_l1(nmax, d):\n",
    "    # Prefactor\n",
    "    a = 1. / (2 * smearing**2)\n",
    "    prefac = np.sqrt(1.5) / (2 * np.pi * smearing**3)\n",
    "    prefac *= np.exp(-a*d**2)\n",
    "    prefac *= (2*np.pi*smearing**2)**1.5 / (np.pi*smearing**2)**(3/4)\n",
    "    \n",
    "    # Start main loop\n",
    "    featvec = np.zeros((nmax,))\n",
    "    for n in range(nmax):\n",
    "        # Start defining functions appearing in integrand\n",
    "        b = 1. / (2 * sigma[n]**2)\n",
    "        gaussian = lambda r: np.exp(-(a+b)*r**2)\n",
    "        power = lambda r: r**(2+n)\n",
    "        mod_sph_bessel = lambda x: (x*np.cosh(x) - np.sinh(x))/x**2\n",
    "        bessel = lambda r: mod_sph_bessel(2*a*d*r)\n",
    "\n",
    "        integrand = lambda r: power(r) * gaussian(r) * bessel(r) * 2\n",
    "        \n",
    "        # Numerical Integration\n",
    "        featvec[n] = normalizations[n] * quad(integrand, 1e-10, 4.5 * rcut)[0]\n",
    "    \n",
    "    return prefac * (transformation @ featvec)"
   ]
  },
  {
   "cell_type": "markdown",
   "id": "satisfied-copying",
   "metadata": {},
   "source": [
    "### Compare the coefficients obtained using different methods"
   ]
  },
  {
   "cell_type": "code",
   "execution_count": 20,
   "id": "loose-problem",
   "metadata": {},
   "outputs": [],
   "source": [
    "features_analytical_l1 = np.zeros((len(distances), nmax))\n",
    "features_semianalytical_l1 = np.zeros((len(distances), nmax))\n",
    "features_analytical_general = np.zeros((len(distances), nmax))\n",
    "features_semianalytical_general = np.zeros((len(distances), nmax))\n",
    "\n",
    "for i_dist, d in enumerate(distances):\n",
    "    features_analytical_l1[i_dist] = coefficients_analytical_l1(nmax, d)\n",
    "    features_semianalytical_l1[i_dist] = coefficients_semianalytical_l1(nmax, d)\n",
    "    features_analytical_general[i_dist] = coefficients_analytical_general_l(nmax, d, l=1)\n",
    "    features_semianalytical_general[i_dist] = coefficients_semianalytical_general_l(nmax, d, l=1)"
   ]
  },
  {
   "cell_type": "code",
   "execution_count": 21,
   "id": "productive-entry",
   "metadata": {},
   "outputs": [
    {
     "name": "stdout",
     "output_type": "stream",
     "text": [
      "1.6113655467566215e-16\n",
      "3.2572434721308636e-14\n",
      "6.728896395083236e-15\n"
     ]
    }
   ],
   "source": [
    "delta1 = np.linalg.norm(features_analytical_l1 - features_analytical_general)\n",
    "delta2 = np.linalg.norm(features_analytical_general - features_semianalytical_general)\n",
    "delta3 = np.linalg.norm(features_semianalytical_l1 - features_semianalytical_general)\n",
    "print(delta1)\n",
    "print(delta2)\n",
    "print(delta3)"
   ]
  },
  {
   "cell_type": "markdown",
   "id": "joint-history",
   "metadata": {},
   "source": [
    "## Compare the exact values with those obtained from the three codes <a class=\"anchor\" id=\"l=1dimer\"></a>"
   ]
  },
  {
   "cell_type": "markdown",
   "id": "mathematical-implement",
   "metadata": {},
   "source": [
    "The exact coefficients obtained using the analytical formula are now compared to those obtained from the three codes."
   ]
  },
  {
   "cell_type": "markdown",
   "id": "strong-tiger",
   "metadata": {},
   "source": [
    "### Get the $l=1$ (and $m=0$) part of the features of the three codes"
   ]
  },
  {
   "cell_type": "code",
   "execution_count": 22,
   "id": "absolute-sucking",
   "metadata": {},
   "outputs": [
    {
     "name": "stdout",
     "output_type": "stream",
     "text": [
      "Shapes of feature vectors\n",
      "rascaline (30, 128)\n",
      "librascal (30, 128)\n"
     ]
    }
   ],
   "source": [
    "print('Shapes of feature vectors')\n",
    "print('rascaline', descriptor_rascaline.values.shape)\n",
    "print('librascal', features_librascal.shape)"
   ]
  },
  {
   "cell_type": "code",
   "execution_count": 23,
   "id": "aggregate-crime",
   "metadata": {},
   "outputs": [],
   "source": [
    "features_L1_rascaline = descriptor_rascaline.values[0::2, 2*nmax:3*nmax] / 10.962374348347298 "
   ]
  },
  {
   "cell_type": "code",
   "execution_count": 24,
   "id": "green-native",
   "metadata": {},
   "outputs": [],
   "source": [
    "features_L1_librascal = features_librascal[0::2, 2::(lmax+1)**2]"
   ]
  },
  {
   "cell_type": "code",
   "execution_count": 25,
   "id": "portuguese-dividend",
   "metadata": {},
   "outputs": [],
   "source": [
    "features_L1_pylode = features_pylode[0::2, 0, :, 2]"
   ]
  },
  {
   "cell_type": "code",
   "execution_count": 26,
   "id": "miniature-ottawa",
   "metadata": {},
   "outputs": [],
   "source": [
    "for i,features in enumerate([features_L1_rascaline, features_L1_librascal, features_L1_pylode, features_analytical_l1]):\n",
    "    assert features.shape == (len(distances), nmax)"
   ]
  },
  {
   "cell_type": "code",
   "execution_count": 27,
   "id": "scenic-exhaust",
   "metadata": {},
   "outputs": [
    {
     "name": "stdout",
     "output_type": "stream",
     "text": [
      "[[1.00003247 0.99997936 1.00002793 0.9998034  0.99328528 0.99473118\n",
      "  1.03319436 1.00174156]\n",
      " [1.00015923 0.9999223  1.00006652 0.99925532 1.00176125 1.00215712\n",
      "  1.0018054  1.00124966]\n",
      " [1.00020005 0.99991815 1.00005084 0.9992282  1.00079993 1.0009858\n",
      "  1.00089068 1.00068117]\n",
      " [1.00010587 0.99996482 1.00001442 0.99977269 1.00018124 1.00022929\n",
      "  1.00020245 1.00011859]\n",
      " [0.99989343 1.00003771 0.99998302 1.0002187  0.99979548 0.99970475\n",
      "  0.9996878  0.99964989]\n",
      " [0.99966945 1.00009872 0.99997004 1.00027723 0.99964717 0.99941948\n",
      "  0.99937672 0.99932598]\n",
      " [0.99960632 1.00010877 0.99997663 1.00015169 0.99971527 0.99938788\n",
      "  0.99928679 0.99914098]\n",
      " [0.99983853 1.00004094 0.99999508 1.00002298 0.99993205 0.99969773\n",
      "  0.99944869 0.99891868]\n",
      " [1.00031086 0.99989086 1.00001395 0.99995408 1.00017692 0.99632302\n",
      "  0.9986527  1.01056136]\n",
      " [1.00072402 0.99968141 1.00002325 0.99994357 1.00029586 0.99941587\n",
      "  0.999691   1.00079267]\n",
      " [1.00072041 0.99945804 1.00001842 0.99996709 1.00019685 0.99983807\n",
      "  1.00009248 1.00098118]\n",
      " [1.00019319 0.99920168 1.00000197 0.99999864 0.9999796  1.00009826\n",
      "  1.00045689 1.0014212 ]\n",
      " [0.99941007 0.99929715 0.99998259 1.00002016 0.99984229 1.0002404\n",
      "  1.00080565 1.00202394]\n",
      " [0.99886033 0.99940392 0.99997191 1.00002461 0.99984348 1.00028024\n",
      "  1.00122681 1.00294721]\n",
      " [0.9990245  0.99968804 0.99997993 1.00001475 0.99991065 1.00025357\n",
      "  1.00215903 1.00477023]]\n"
     ]
    }
   ],
   "source": [
    "print(features_analytical_l1 / features_L1_pylode)"
   ]
  },
  {
   "cell_type": "code",
   "execution_count": 81,
   "id": "public-cooperation",
   "metadata": {},
   "outputs": [
    {
     "name": "stdout",
     "output_type": "stream",
     "text": [
      "[[10.96237435 10.96237435 10.96237435 10.96237435 10.96237435 10.96237435\n",
      "  10.96237438 10.96237435]\n",
      " [10.96237435 10.96237435 10.96237435 10.96237435 10.96237435 10.96237435\n",
      "  10.96237435 10.96237435]\n",
      " [10.96237435 10.96237435 10.96237435 10.96237435 10.96237435 10.96237435\n",
      "  10.96237435 10.96237434]\n",
      " [10.96237435 10.96237435 10.96237435 10.96237435 10.96237435 10.96237435\n",
      "  10.96237435 10.96237434]\n",
      " [10.96237435 10.96237435 10.96237435 10.96237435 10.96237435 10.96237435\n",
      "  10.96237434 10.96237434]\n",
      " [10.96237435 10.96237435 10.96237435 10.96237435 10.96237435 10.96237435\n",
      "  10.96237434 10.96237434]\n",
      " [10.96237435 10.96237435 10.96237435 10.96237435 10.96237435 10.96237435\n",
      "  10.96237434 10.96237434]\n",
      " [10.96237435 10.96237435 10.96237435 10.96237435 10.96237435 10.96237435\n",
      "  10.96237434 10.96237434]\n",
      " [10.96237435 10.96237435 10.96237435 10.96237435 10.96237435 10.96237436\n",
      "  10.96237436 10.9623744 ]\n",
      " [10.96237435 10.96237435 10.96237435 10.96237435 10.96237435 10.96237435\n",
      "  10.96237435 10.96237435]\n",
      " [10.96237435 10.96237435 10.96237435 10.96237435 10.96237435 10.96237435\n",
      "  10.96237435 10.96237434]\n",
      " [10.96237435 10.96237435 10.96237435 10.96237435 10.96237435 10.96237435\n",
      "  10.96237435 10.96237434]\n",
      " [10.96237435 10.96237435 10.96237435 10.96237435 10.96237435 10.96237435\n",
      "  10.96237434 10.96237434]\n",
      " [10.96237435 10.96237435 10.96237435 10.96237435 10.96237435 10.96237435\n",
      "  10.96237434 10.96237434]\n",
      " [10.96237435 10.96237435 10.96237435 10.96237435 10.96237435 10.96237435\n",
      "  10.96237434 10.96237434]]\n"
     ]
    }
   ],
   "source": [
    "print(features_analytical_l1 / features_L1_rascaline)"
   ]
  },
  {
   "cell_type": "code",
   "execution_count": 29,
   "id": "active-jungle",
   "metadata": {},
   "outputs": [
    {
     "name": "stdout",
     "output_type": "stream",
     "text": [
      "[[26.69730293 26.69730293 26.69730293 26.69730293 26.69730293 26.69730293\n",
      "  26.69730293 26.69730293]\n",
      " [26.69730293 26.69730293 26.69730293 26.69730293 26.69730293 26.69730293\n",
      "  26.69730293 26.69730293]\n",
      " [26.69730293 26.69730293 26.69730293 26.69730293 26.69730293 26.69730293\n",
      "  26.69730293 26.69730293]\n",
      " [26.69730293 26.69730293 26.69730293 26.69730293 26.69730293 26.69730293\n",
      "  26.69730293 26.69730293]\n",
      " [26.69730293 26.69730293 26.69730293 26.69730293 26.69730293 26.69730293\n",
      "  26.69730293 26.69730293]\n",
      " [26.69730293 26.69730293 26.69730293 26.69730293 26.69730293 26.69730293\n",
      "  26.69730293 26.69730293]\n",
      " [26.69730293 26.69730293 26.69730293 26.69730293 26.69730293 26.69730293\n",
      "  26.69730293 26.69730293]\n",
      " [26.69730293 26.69730293 26.69730293 26.69730293 26.69730293 26.69730293\n",
      "  26.69730293 26.69730293]\n",
      " [26.69730293 26.69730293 26.69730293 26.69730293 26.69730293 26.69730293\n",
      "  26.69730293 26.69730294]\n",
      " [26.69730293 26.69730293 26.69730293 26.69730293 26.69730293 26.69730293\n",
      "  26.69730293 26.69730293]\n",
      " [26.69730293 26.69730293 26.69730293 26.69730293 26.69730293 26.69730293\n",
      "  26.69730293 26.69730293]\n",
      " [26.69730293 26.69730293 26.69730293 26.69730293 26.69730293 26.69730293\n",
      "  26.69730293 26.69730293]\n",
      " [26.69730293 26.69730293 26.69730293 26.69730293 26.69730293 26.69730293\n",
      "  26.69730293 26.69730293]\n",
      " [26.69730293 26.69730293 26.69730293 26.69730293 26.69730293 26.69730293\n",
      "  26.69730293 26.69730293]\n",
      " [26.69730293 26.69730293 26.69730293 26.69730293 26.69730293 26.69730293\n",
      "  26.69730292 26.69730292]]\n"
     ]
    }
   ],
   "source": [
    "print(features_semianalytical_general / features_L1_librascal)"
   ]
  },
  {
   "cell_type": "code",
   "execution_count": 30,
   "id": "passing-funds",
   "metadata": {},
   "outputs": [
    {
     "name": "stdout",
     "output_type": "stream",
     "text": [
      "Distance  0\n",
      "[1. 1. 1. 1. 1. 1. 1. 1.]\n",
      "[0.03745697 0.03745697 0.03745697 0.03745697 0.03745697 0.03745697\n",
      " 0.03745697 0.03745697]\n",
      "[0.99996753 1.00002064 0.99997207 1.00019664 1.00676011 1.00529673\n",
      " 0.9678721  0.99826147]\n",
      "\n",
      "Distance  1\n",
      "[1. 1. 1. 1. 1. 1. 1. 1.]\n",
      "[0.03745697 0.03745697 0.03745697 0.03745697 0.03745697 0.03745697\n",
      " 0.03745697 0.03745697]\n",
      "[0.99984079 1.0000777  0.99993349 1.00074524 0.99824185 0.99784753\n",
      " 0.99819786 0.99875189]\n",
      "\n",
      "Distance  2\n",
      "[1. 1. 1. 1. 1. 1. 1. 1.]\n",
      "[0.03745697 0.03745697 0.03745697 0.03745697 0.03745697 0.03745697\n",
      " 0.03745697 0.03745697]\n",
      "[0.99979999 1.00008185 0.99994916 1.0007724  0.99920071 0.99901517\n",
      " 0.99911011 0.99931929]\n",
      "\n",
      "Distance  3\n",
      "[1. 1. 1. 1. 1. 1. 1. 1.]\n",
      "[0.03745697 0.03745697 0.03745697 0.03745697 0.03745697 0.03745697\n",
      " 0.03745697 0.03745697]\n",
      "[0.99989414 1.00003518 0.99998558 1.00022737 0.99981879 0.99977076\n",
      " 0.9997976  0.99988142]\n",
      "\n",
      "Distance  4\n",
      "[1. 1. 1. 1. 1. 1. 1. 1.]\n",
      "[0.03745697 0.03745697 0.03745697 0.03745697 0.03745697 0.03745697\n",
      " 0.03745697 0.03745697]\n",
      "[1.00010658 0.99996229 1.00001698 0.99978135 1.00020457 1.00029534\n",
      " 1.0003123  1.00035023]\n",
      "\n",
      "Distance  5\n",
      "[1. 1. 1. 1. 1. 1. 1. 1.]\n",
      "[0.03745697 0.03745697 0.03745697 0.03745697 0.03745697 0.03745697\n",
      " 0.03745697 0.03745697]\n",
      "[1.00033066 0.99990129 1.00002996 0.99972285 1.00035296 1.00058086\n",
      " 1.00062367 1.00067447]\n",
      "\n",
      "Distance  6\n",
      "[1. 1. 1. 1. 1. 1. 1. 1.]\n",
      "[0.03745697 0.03745697 0.03745697 0.03745697 0.03745697 0.03745697\n",
      " 0.03745697 0.03745697]\n",
      "[1.00039383 0.99989124 1.00002338 0.99984833 1.00028481 1.00061249\n",
      " 1.00071372 1.00085976]\n",
      "\n",
      "Distance  7\n",
      "[1. 1. 1. 1. 1. 1. 1. 1.]\n",
      "[0.03745697 0.03745697 0.03745697 0.03745697 0.03745697 0.03745697\n",
      " 0.03745697 0.03745697]\n",
      "[1.00016149 0.99995906 1.00000492 0.99997702 1.00006796 1.00030236\n",
      " 1.00055161 1.00108249]\n",
      "\n",
      "Distance  8\n",
      "[1.         1.         1.         1.         1.         1.\n",
      " 1.         0.99999999]\n",
      "[0.03745697 0.03745697 0.03745697 0.03745697 0.03745697 0.03745697\n",
      " 0.03745697 0.03745697]\n",
      "[0.99968924 1.00010915 0.99998605 1.00004592 0.99982311 1.00369055\n",
      " 1.00134912 0.98954901]\n",
      "\n",
      "Distance  9\n",
      "[1. 1. 1. 1. 1. 1. 1. 1.]\n",
      "[0.03745697 0.03745697 0.03745697 0.03745697 0.03745697 0.03745697\n",
      " 0.03745697 0.03745697]\n",
      "[0.99927651 1.00031869 0.99997675 1.00005644 0.99970423 1.00058447\n",
      " 1.0003091  0.99920796]\n",
      "\n",
      "Distance  10\n",
      "[1. 1. 1. 1. 1. 1. 1. 1.]\n",
      "[0.03745697 0.03745697 0.03745697 0.03745697 0.03745697 0.03745697\n",
      " 0.03745697 0.03745697]\n",
      "[0.99928011 1.00054225 0.99998158 1.00003291 0.99980319 1.00016196\n",
      " 0.99990752 0.99901978]\n",
      "\n",
      "Distance  11\n",
      "[1. 1. 1. 1. 1. 1. 1. 1.]\n",
      "[0.03745697 0.03745697 0.03745697 0.03745697 0.03745697 0.03745697\n",
      " 0.03745697 0.03745697]\n",
      "[0.99980684 1.00079896 0.99999803 1.00000136 1.0000204  0.99990175\n",
      " 0.99954332 0.99858082]\n",
      "\n",
      "Distance  12\n",
      "[1. 1. 1. 1. 1. 1. 1. 1.]\n",
      "[0.03745697 0.03745697 0.03745697 0.03745697 0.03745697 0.03745697\n",
      " 0.03745697 0.03745697]\n",
      "[1.00059028 1.00070334 1.00001741 0.99997984 1.00015773 0.99975966\n",
      " 0.999195   0.99798015]\n",
      "\n",
      "Distance  13\n",
      "[1. 1. 1. 1. 1. 1. 1. 1.]\n",
      "[0.03745697 0.03745697 0.03745697 0.03745697 0.03745697 0.03745697\n",
      " 0.03745697 0.03745697]\n",
      "[1.00114097 1.00059644 1.00002809 0.99997539 1.00015655 0.99971984\n",
      " 0.99877469 0.99706145]\n",
      "\n",
      "Distance  14\n",
      "[1. 1. 1. 1. 1. 1. 1. 1.]\n",
      "[0.03745697 0.03745697 0.03745697 0.03745697 0.03745697 0.03745697\n",
      " 0.03745697 0.03745697]\n",
      "[1.00097645 1.00031206 1.00002007 0.99998525 1.00008936 0.9997465\n",
      " 0.99784562 0.99525242]\n",
      "\n"
     ]
    }
   ],
   "source": [
    "for i, d in enumerate(distances):\n",
    "    print('Distance ', i)\n",
    "    coeffs_rascaline = descriptor_rascaline.values[2*i].reshape(((lmax+1)**2, nmax)).T\n",
    "    coeffs_librascal = features_librascal[2*i].reshape((nmax,(lmax+1)**2))\n",
    "    coeffs_pylode = features_pylode[2*i,0]\n",
    "    \n",
    "    for coeffs in [coeffs_rascaline, coeffs_librascal, coeffs_pylode]:\n",
    "        print(coeffs[:,2] / features_analytical_general[i])\n",
    "    \n",
    "    print()"
   ]
  },
  {
   "cell_type": "markdown",
   "id": "joined-wisconsin",
   "metadata": {},
   "source": [
    "# Compare coefficients for $l\\geq 2$ <a class=\"anchor\" id=\"lgeq2\"></a>"
   ]
  },
  {
   "cell_type": "markdown",
   "id": "tender-defensive",
   "metadata": {},
   "source": [
    "## Compare coefficients for $l=2$ <a class=\"anchor\" id=\"l=2\"></a>"
   ]
  },
  {
   "cell_type": "code",
   "execution_count": 31,
   "id": "taken-setting",
   "metadata": {},
   "outputs": [],
   "source": [
    "lm_index = 6 # l**2 + l"
   ]
  },
  {
   "cell_type": "code",
   "execution_count": 32,
   "id": "secret-silly",
   "metadata": {},
   "outputs": [
    {
     "name": "stdout",
     "output_type": "stream",
     "text": [
      "Shapes of feature vectors\n",
      "rascaline (30, 128)\n",
      "librascal (30, 128)\n"
     ]
    }
   ],
   "source": [
    "print('Shapes of feature vectors')\n",
    "print('rascaline', descriptor_rascaline.values.shape)\n",
    "print('librascal', features_librascal.shape)"
   ]
  },
  {
   "cell_type": "code",
   "execution_count": 33,
   "id": "freelance-canadian",
   "metadata": {},
   "outputs": [],
   "source": [
    "features_L2_rascaline = descriptor_rascaline.values[0::2, lm_index*nmax:(lm_index+1)*nmax]"
   ]
  },
  {
   "cell_type": "code",
   "execution_count": 34,
   "id": "black-jewelry",
   "metadata": {},
   "outputs": [],
   "source": [
    "features_L2_librascal = features_librascal[0::2, lm_index::(lmax+1)**2]"
   ]
  },
  {
   "cell_type": "code",
   "execution_count": 35,
   "id": "brave-watson",
   "metadata": {},
   "outputs": [],
   "source": [
    "features_L2_pylode = features_pylode[0::2, 0, :, lm_index]"
   ]
  },
  {
   "cell_type": "code",
   "execution_count": 36,
   "id": "unique-serum",
   "metadata": {},
   "outputs": [],
   "source": [
    "features_analytical_l2 = np.zeros((len(distances), nmax))\n",
    "features_numerical_l2 = np.zeros((len(distances), nmax))\n",
    "\n",
    "for i_dist, d in enumerate(distances):\n",
    "    features_analytical_l2[i_dist] = coefficients_analytical_general_l(nmax, d, l=2)\n",
    "    features_numerical_l2[i_dist] = coefficients_semianalytical_general_l(nmax, d, l=2)"
   ]
  },
  {
   "cell_type": "code",
   "execution_count": 37,
   "id": "medical-implementation",
   "metadata": {},
   "outputs": [],
   "source": [
    "delta_l2 = np.linalg.norm(features_analytical_l2 - features_numerical_l2)"
   ]
  },
  {
   "cell_type": "code",
   "execution_count": 38,
   "id": "breeding-transcription",
   "metadata": {},
   "outputs": [
    {
     "name": "stdout",
     "output_type": "stream",
     "text": [
      "[[1.00057156 0.99984432 1.0000789  0.99884375 1.00354572 1.00376924\n",
      "  1.00244749 1.00145475]\n",
      " [1.00017616 0.99996762 1.00000215 0.99985228 1.00016991 1.00015584\n",
      "  1.00006923 0.99999887]\n",
      " [0.99967248 1.00008497 0.99996237 1.00082903 0.99944038 0.99931945\n",
      "  0.99938007 0.99947019]\n",
      " [0.99931799 1.00014228 0.99995967 1.0008465  0.99941564 0.9992552\n",
      "  0.99931257 0.99940032]\n",
      " [0.99934811 1.00011436 0.99997958 1.00034373 0.99967961 0.9995495\n",
      "  0.99956501 0.99958474]\n",
      " [0.99984398 1.0000111  1.00000432 0.99998286 1.00001047 1.00000212\n",
      "  0.99996807 0.99987141]\n",
      " [1.00060348 0.999876   1.00002015 0.99986739 1.00025391 1.00050771\n",
      "  1.00041411 1.00010433]\n",
      " [1.00114266 0.99977843 1.00002102 0.99989359 1.00030965 1.00119281\n",
      "  1.00092358 0.99988863]\n",
      " [1.00096115 0.99980464 1.00000891 0.99996275 1.0001518  0.9989552\n",
      "  1.00024613 1.00462892]\n",
      " [0.99998265 1.00006807 0.99999159 1.00001904 0.99987142 1.00038422\n",
      "  1.00080216 1.00195443]\n",
      " [0.99875929 1.00090066 0.9999788  1.00004251 0.9996747  1.00045543\n",
      "  1.00085199 1.00178308]\n",
      " [0.99814533 0.94576824 0.99997813 1.00003613 0.99970706 1.00035297\n",
      "  1.00080232 1.00180836]\n",
      " [0.99871975 0.99930127 0.99999171 1.00001387 0.99987608 1.00020873\n",
      "  1.0007608  1.00204864]\n",
      " [1.00045318 1.00026251 1.00001469 0.99999148 1.0000089  1.00009936\n",
      "  1.00088655 1.00276417]\n",
      " [1.00275979 1.00068741 1.00003591 0.99998024 1.00004544 1.00007449\n",
      "  1.00169126 1.0046766 ]]\n"
     ]
    }
   ],
   "source": [
    "print(features_L2_pylode / features_analytical_l2)"
   ]
  },
  {
   "cell_type": "code",
   "execution_count": 39,
   "id": "catholic-seeking",
   "metadata": {},
   "outputs": [
    {
     "name": "stdout",
     "output_type": "stream",
     "text": [
      "[[1.00057156 0.99984432 1.0000789  0.99884375 1.00354572 1.00376924\n",
      "  1.00244749 1.00145475]\n",
      " [1.00017616 0.99996762 1.00000215 0.99985228 1.00016991 1.00015584\n",
      "  1.00006923 0.99999887]\n",
      " [0.99967248 1.00008497 0.99996237 1.00082903 0.99944038 0.99931945\n",
      "  0.99938007 0.99947019]\n",
      " [0.99931799 1.00014228 0.99995967 1.0008465  0.99941564 0.9992552\n",
      "  0.99931257 0.99940032]\n",
      " [0.99934811 1.00011436 0.99997958 1.00034373 0.99967961 0.9995495\n",
      "  0.99956501 0.99958474]\n",
      " [0.99984398 1.0000111  1.00000432 0.99998286 1.00001047 1.00000212\n",
      "  0.99996807 0.99987141]\n",
      " [1.00060348 0.999876   1.00002015 0.99986739 1.00025391 1.00050771\n",
      "  1.00041411 1.00010433]\n",
      " [1.00114266 0.99977843 1.00002102 0.99989359 1.00030965 1.00119281\n",
      "  1.00092358 0.99988863]\n",
      " [1.00096115 0.99980464 1.00000891 0.99996275 1.0001518  0.9989552\n",
      "  1.00024613 1.00462892]\n",
      " [0.99998265 1.00006807 0.99999159 1.00001904 0.99987142 1.00038422\n",
      "  1.00080216 1.00195443]\n",
      " [0.99875929 1.00090066 0.9999788  1.00004251 0.9996747  1.00045543\n",
      "  1.00085199 1.00178308]\n",
      " [0.99814533 0.94576824 0.99997813 1.00003613 0.99970706 1.00035297\n",
      "  1.00080232 1.00180836]\n",
      " [0.99871975 0.99930127 0.99999171 1.00001387 0.99987608 1.00020873\n",
      "  1.0007608  1.00204864]\n",
      " [1.00045318 1.00026251 1.00001469 0.99999148 1.0000089  1.00009936\n",
      "  1.00088655 1.00276417]\n",
      " [1.00275979 1.00068741 1.00003591 0.99998024 1.00004544 1.00007449\n",
      "  1.00169126 1.0046766 ]]\n"
     ]
    }
   ],
   "source": [
    "print(features_L2_pylode / features_numerical_l2)"
   ]
  },
  {
   "cell_type": "code",
   "execution_count": 79,
   "id": "confidential-pipeline",
   "metadata": {},
   "outputs": [
    {
     "name": "stdout",
     "output_type": "stream",
     "text": [
      "[[26.69730293 26.69730293 26.69730293 26.69730293 26.69730293 26.69730293\n",
      "  26.69730293 26.69730293]\n",
      " [26.69730293 26.69730293 26.69730293 26.69730293 26.69730293 26.69730293\n",
      "  26.69730293 26.69730293]\n",
      " [26.69730293 26.69730293 26.69730293 26.69730293 26.69730293 26.69730293\n",
      "  26.69730293 26.69730293]\n",
      " [26.69730293 26.69730293 26.69730293 26.69730293 26.69730293 26.69730293\n",
      "  26.69730293 26.69730293]\n",
      " [26.69730293 26.69730293 26.69730293 26.69730293 26.69730293 26.69730293\n",
      "  26.69730293 26.69730293]\n",
      " [26.69730293 26.69730293 26.69730293 26.69730293 26.69730293 26.69730293\n",
      "  26.69730293 26.69730293]\n",
      " [26.69730293 26.69730293 26.69730293 26.69730293 26.69730293 26.69730293\n",
      "  26.69730293 26.69730293]\n",
      " [26.69730293 26.69730293 26.69730293 26.69730293 26.69730293 26.69730293\n",
      "  26.69730293 26.69730293]\n",
      " [26.69730293 26.69730293 26.69730293 26.69730293 26.69730293 26.69730293\n",
      "  26.69730293 26.69730293]\n",
      " [26.69730293 26.69730293 26.69730293 26.69730293 26.69730293 26.69730293\n",
      "  26.69730293 26.69730293]\n",
      " [26.69730293 26.69730293 26.69730293 26.69730293 26.69730293 26.69730293\n",
      "  26.69730293 26.69730293]\n",
      " [26.69730293 26.69730293 26.69730293 26.69730293 26.69730293 26.69730293\n",
      "  26.69730293 26.69730293]\n",
      " [26.69730293 26.69730293 26.69730293 26.69730293 26.69730293 26.69730293\n",
      "  26.69730293 26.69730293]\n",
      " [26.69730293 26.69730293 26.69730293 26.69730293 26.69730293 26.69730293\n",
      "  26.69730293 26.69730293]\n",
      " [26.69730293 26.69730293 26.69730293 26.69730293 26.69730293 26.69730291\n",
      "  26.69730282 26.6973028 ]]\n"
     ]
    }
   ],
   "source": [
    "print(features_numerical_l2 / features_L2_librascal)"
   ]
  },
  {
   "cell_type": "code",
   "execution_count": 80,
   "id": "concerned-divide",
   "metadata": {},
   "outputs": [
    {
     "name": "stdout",
     "output_type": "stream",
     "text": [
      "[[1.         1.         1.         1.         1.         1.\n",
      "  1.         1.        ]\n",
      " [1.         1.         1.         1.         1.         1.\n",
      "  1.         1.        ]\n",
      " [1.         1.         1.         1.         1.         1.\n",
      "  1.         1.        ]\n",
      " [1.         1.         1.         1.         1.         1.\n",
      "  1.         1.        ]\n",
      " [1.         1.         1.         1.         1.         1.\n",
      "  1.         1.        ]\n",
      " [1.         1.         1.         1.         1.         1.\n",
      "  1.         1.        ]\n",
      " [1.         1.         1.         1.         1.         1.\n",
      "  1.         1.        ]\n",
      " [1.         1.         1.         1.         1.         1.\n",
      "  1.         1.        ]\n",
      " [1.         1.         1.         1.         1.         1.\n",
      "  1.         1.        ]\n",
      " [1.         1.         1.         1.         1.         1.\n",
      "  1.         1.        ]\n",
      " [1.         1.         1.         1.         1.         1.\n",
      "  1.         1.        ]\n",
      " [1.         1.         1.         1.         1.         1.\n",
      "  1.         1.        ]\n",
      " [1.         1.         1.         1.         1.         1.\n",
      "  1.         1.        ]\n",
      " [1.         1.         1.         1.         1.         1.\n",
      "  1.         1.        ]\n",
      " [1.         1.         1.         1.         1.         1.\n",
      "  1.         1.00000001]]\n"
     ]
    }
   ],
   "source": [
    "print(features_L2_rascaline / features_numerical_l2)"
   ]
  },
  {
   "cell_type": "markdown",
   "id": "editorial-engine",
   "metadata": {},
   "source": [
    "## Compare coefficients for general $l$ <a class=\"anchor\" id=\"l_general\"></a>"
   ]
  },
  {
   "cell_type": "code",
   "execution_count": 42,
   "id": "disabled-platform",
   "metadata": {},
   "outputs": [
    {
     "name": "stdout",
     "output_type": "stream",
     "text": [
      "pyLODE vs analytical coefficients for l = 1\n",
      "[[0.999968 1.000021 0.999972 1.000197 1.00676  1.005297 0.967872 0.998261]\n",
      " [0.999841 1.000078 0.999933 1.000745 0.998242 0.997848 0.998198 0.998752]\n",
      " [0.9998   1.000082 0.999949 1.000772 0.999201 0.999015 0.99911  0.999319]\n",
      " [0.999894 1.000035 0.999986 1.000227 0.999819 0.999771 0.999798 0.999881]\n",
      " [1.000107 0.999962 1.000017 0.999781 1.000205 1.000295 1.000312 1.00035 ]\n",
      " [1.000331 0.999901 1.00003  0.999723 1.000353 1.000581 1.000624 1.000674]\n",
      " [1.000394 0.999891 1.000023 0.999848 1.000285 1.000612 1.000714 1.00086 ]\n",
      " [1.000161 0.999959 1.000005 0.999977 1.000068 1.000302 1.000552 1.001082]\n",
      " [0.999689 1.000109 0.999986 1.000046 0.999823 1.003691 1.001349 0.989549]\n",
      " [0.999277 1.000319 0.999977 1.000056 0.999704 1.000584 1.000309 0.999208]\n",
      " [0.99928  1.000542 0.999982 1.000033 0.999803 1.000162 0.999908 0.99902 ]\n",
      " [0.999807 1.000799 0.999998 1.000001 1.00002  0.999902 0.999543 0.998581]\n",
      " [1.00059  1.000703 1.000017 0.99998  1.000158 0.99976  0.999195 0.99798 ]\n",
      " [1.001141 1.000596 1.000028 0.999975 1.000157 0.99972  0.998775 0.997061]\n",
      " [1.000976 1.000312 1.00002  0.999985 1.000089 0.999746 0.997846 0.995252]]\n",
      "pyLODE vs rascaline coefficients for l = 1\n",
      "[[0.999968 1.000021 0.999972 1.000197 1.00676  1.005297 0.967872 0.998261]\n",
      " [0.999841 1.000078 0.999933 1.000745 0.998242 0.997848 0.998198 0.998752]\n",
      " [0.9998   1.000082 0.999949 1.000772 0.999201 0.999015 0.99911  0.999319]\n",
      " [0.999894 1.000035 0.999986 1.000227 0.999819 0.999771 0.999798 0.999881]\n",
      " [1.000107 0.999962 1.000017 0.999781 1.000205 1.000295 1.000312 1.00035 ]\n",
      " [1.000331 0.999901 1.00003  0.999723 1.000353 1.000581 1.000624 1.000674]\n",
      " [1.000394 0.999891 1.000023 0.999848 1.000285 1.000612 1.000714 1.00086 ]\n",
      " [1.000161 0.999959 1.000005 0.999977 1.000068 1.000302 1.000552 1.001082]\n",
      " [0.999689 1.000109 0.999986 1.000046 0.999823 1.003691 1.001349 0.989549]\n",
      " [0.999277 1.000319 0.999977 1.000056 0.999704 1.000584 1.000309 0.999208]\n",
      " [0.99928  1.000542 0.999982 1.000033 0.999803 1.000162 0.999908 0.99902 ]\n",
      " [0.999807 1.000799 0.999998 1.000001 1.00002  0.999902 0.999543 0.998581]\n",
      " [1.00059  1.000703 1.000017 0.99998  1.000158 0.99976  0.999195 0.99798 ]\n",
      " [1.001141 1.000596 1.000028 0.999975 1.000157 0.99972  0.998775 0.997061]\n",
      " [1.000976 1.000312 1.00002  0.999985 1.000089 0.999746 0.997846 0.995252]]\n",
      "Difference between numerical and analytical evaluation =  3.2572434721308636e-14\n",
      "\n",
      "pyLODE vs analytical coefficients for l = 2\n",
      "[[1.000572 0.999844 1.000079 0.998844 1.003546 1.003769 1.002447 1.001455]\n",
      " [1.000176 0.999968 1.000002 0.999852 1.00017  1.000156 1.000069 0.999999]\n",
      " [0.999672 1.000085 0.999962 1.000829 0.99944  0.999319 0.99938  0.99947 ]\n",
      " [0.999318 1.000142 0.99996  1.000846 0.999416 0.999255 0.999313 0.9994  ]\n",
      " [0.999348 1.000114 0.99998  1.000344 0.99968  0.999549 0.999565 0.999585]\n",
      " [0.999844 1.000011 1.000004 0.999983 1.00001  1.000002 0.999968 0.999871]\n",
      " [1.000603 0.999876 1.00002  0.999867 1.000254 1.000508 1.000414 1.000104]\n",
      " [1.001143 0.999778 1.000021 0.999894 1.00031  1.001193 1.000924 0.999889]\n",
      " [1.000961 0.999805 1.000009 0.999963 1.000152 0.998955 1.000246 1.004629]\n",
      " [0.999983 1.000068 0.999992 1.000019 0.999871 1.000384 1.000802 1.001954]\n",
      " [0.998759 1.000901 0.999979 1.000043 0.999675 1.000455 1.000852 1.001783]\n",
      " [0.998145 0.945768 0.999978 1.000036 0.999707 1.000353 1.000802 1.001808]\n",
      " [0.99872  0.999301 0.999992 1.000014 0.999876 1.000209 1.000761 1.002049]\n",
      " [1.000453 1.000263 1.000015 0.999991 1.000009 1.000099 1.000887 1.002764]\n",
      " [1.00276  1.000687 1.000036 0.99998  1.000045 1.000074 1.001691 1.004677]]\n",
      "pyLODE vs rascaline coefficients for l = 2\n",
      "[[1.000572 0.999844 1.000079 0.998844 1.003546 1.003769 1.002447 1.001455]\n",
      " [1.000176 0.999968 1.000002 0.999852 1.00017  1.000156 1.000069 0.999999]\n",
      " [0.999672 1.000085 0.999962 1.000829 0.99944  0.999319 0.99938  0.99947 ]\n",
      " [0.999318 1.000142 0.99996  1.000846 0.999416 0.999255 0.999313 0.9994  ]\n",
      " [0.999348 1.000114 0.99998  1.000344 0.99968  0.999549 0.999565 0.999585]\n",
      " [0.999844 1.000011 1.000004 0.999983 1.00001  1.000002 0.999968 0.999871]\n",
      " [1.000603 0.999876 1.00002  0.999867 1.000254 1.000508 1.000414 1.000104]\n",
      " [1.001143 0.999778 1.000021 0.999894 1.00031  1.001193 1.000924 0.999889]\n",
      " [1.000961 0.999805 1.000009 0.999963 1.000152 0.998955 1.000246 1.004629]\n",
      " [0.999983 1.000068 0.999992 1.000019 0.999871 1.000384 1.000802 1.001954]\n",
      " [0.998759 1.000901 0.999979 1.000043 0.999675 1.000455 1.000852 1.001783]\n",
      " [0.998145 0.945768 0.999978 1.000036 0.999707 1.000353 1.000802 1.001808]\n",
      " [0.99872  0.999301 0.999992 1.000014 0.999876 1.000209 1.000761 1.002049]\n",
      " [1.000453 1.000263 1.000015 0.999991 1.000009 1.000099 1.000887 1.002764]\n",
      " [1.00276  1.000687 1.000036 0.99998  1.000045 1.000074 1.001691 1.004677]]\n",
      "Difference between numerical and analytical evaluation =  3.307623452135908e-14\n",
      "\n",
      "pyLODE vs analytical coefficients for l = 3\n",
      "[[1.001626 0.999785 1.000015 0.998065 1.001266 1.001277 1.000884 1.00067 ]\n",
      " [1.001872 0.999797 0.999997 0.998338 1.000789 1.00084  1.000612 1.000502]\n",
      " [1.001162 0.999902 0.999989 0.999521 1.000277 1.000323 1.000262 1.000297]\n",
      " [0.999884 1.000037 0.99999  1.000154 0.999928 0.999935 0.999997 1.000163]\n",
      " [0.998658 1.000137 0.999996 1.000222 0.999777 0.999733 0.999869 1.000147]\n",
      " [0.998166 1.000158 1.000002 1.000118 0.999797 0.999717 0.999901 1.000303]\n",
      " [0.998815 1.00008  1.000006 1.000022 0.999927 0.999901 1.000162 1.000812]\n",
      " [1.000376 0.999914 1.000006 0.999974 1.000088 1.000699 1.001624 1.003428]\n",
      " [1.001924 0.999705 1.000003 0.999967 1.000195 0.998771 0.998193 0.995058]\n",
      " [1.002359 0.999538 0.999998 0.99998  1.000185 0.9996   0.999213 0.997888]\n",
      " [1.001205 0.999651 0.999994 0.999997 1.000078 0.999823 0.999433 0.998262]\n",
      " [0.99898  0.998133 0.999994 1.000008 0.999981 0.999911 0.99945  0.998146]\n",
      " [0.996881 0.999013 0.999998 1.00001  0.999964 0.999915 0.99929  0.997632]\n",
      " [0.996153 0.9994   1.000005 1.000005 1.000002 0.999862 0.998828 0.99649 ]\n",
      " [0.997651 0.999837 1.000012 0.999996 1.000046 0.999775 0.997372 0.993903]]\n",
      "pyLODE vs rascaline coefficients for l = 3\n",
      "[[1.001626 0.999785 1.000015 0.998065 1.001266 1.001277 1.000884 1.00067 ]\n",
      " [1.001872 0.999797 0.999997 0.998338 1.000789 1.00084  1.000612 1.000502]\n",
      " [1.001162 0.999902 0.999989 0.999521 1.000277 1.000323 1.000262 1.000297]\n",
      " [0.999884 1.000037 0.99999  1.000154 0.999928 0.999935 0.999997 1.000163]\n",
      " [0.998658 1.000137 0.999996 1.000222 0.999777 0.999733 0.999869 1.000147]\n",
      " [0.998166 1.000158 1.000002 1.000118 0.999797 0.999717 0.999901 1.000303]\n",
      " [0.998815 1.00008  1.000006 1.000022 0.999927 0.999901 1.000162 1.000812]\n",
      " [1.000376 0.999914 1.000006 0.999974 1.000088 1.000699 1.001624 1.003428]\n",
      " [1.001924 0.999705 1.000003 0.999967 1.000195 0.998771 0.998193 0.995058]\n",
      " [1.002359 0.999538 0.999998 0.99998  1.000185 0.9996   0.999213 0.997888]\n",
      " [1.001205 0.999651 0.999994 0.999997 1.000078 0.999823 0.999433 0.998262]\n",
      " [0.99898  0.998133 0.999994 1.000008 0.999981 0.999911 0.99945  0.998146]\n",
      " [0.996881 0.999013 0.999998 1.00001  0.999964 0.999915 0.99929  0.997632]\n",
      " [0.996153 0.9994   1.000005 1.000005 1.000002 0.999862 0.998828 0.99649 ]\n",
      " [0.997651 0.999837 1.000012 0.999996 1.000046 0.999775 0.997372 0.993903]]\n",
      "Difference between numerical and analytical evaluation =  2.922428565377758e-14\n",
      "\n"
     ]
    }
   ],
   "source": [
    "for l in range(1, lmax+1):\n",
    "    lm_index = l**2 + l\n",
    "    \n",
    "    # Get the features from the spherical expansion codes\n",
    "    features_l_pylode = features_pylode[0::2, 0, :, lm_index]\n",
    "    features_l_rascaline = descriptor_rascaline.values[0::2, lm_index*nmax:(lm_index+1)*nmax] \n",
    "    features_l_librascal = features_librascal[0::2, lm_index::(lmax+1)**2]\n",
    "    \n",
    "    # Get the features from the analytical and numerical evaluations\n",
    "    features_l_analytical = np.zeros((len(distances), nmax))\n",
    "    features_l_numerical = np.zeros((len(distances), nmax))\n",
    "    for i_dist, d in enumerate(distances):\n",
    "        features_l_analytical[i_dist] = coefficients_analytical_general_l(nmax, d, l=l)\n",
    "        features_l_numerical[i_dist] = coefficients_semianalytical_general_l(nmax, d, l=l)\n",
    "    assert_allclose(features_l_analytical, features_l_numerical, atol=1e-9, rtol=1e-7)\n",
    "    \n",
    "    # Compare the coefficients\n",
    "    ratios = features_l_pylode / features_l_analytical\n",
    "    err = np.linalg.norm(features_l_analytical - features_l_numerical)\n",
    "    ratios_rascal = features_l_pylode / features_l_rascaline\n",
    "    print(f'pyLODE vs analytical coefficients for l = {l}')\n",
    "    print(np.round(ratios,6))\n",
    "    print(f'pyLODE vs rascaline coefficients for l = {l}')\n",
    "    print(np.round(ratios_rascal, 6))\n",
    "    print('Difference between numerical and analytical evaluation = ', err)\n",
    "    print()"
   ]
  },
  {
   "cell_type": "markdown",
   "id": "tribal-preservation",
   "metadata": {},
   "source": [
    "# Coefficients for $l=0$  <a class=\"anchor\" id=\"l=0\"></a>"
   ]
  },
  {
   "cell_type": "markdown",
   "id": "spanish-cherry",
   "metadata": {},
   "source": [
    "## Compute the exact expressions for reference <a class=\"anchor\" id=\"l=0exact\"></a>"
   ]
  },
  {
   "cell_type": "markdown",
   "id": "biblical-sellers",
   "metadata": {},
   "source": [
    "### Hybrid analytical-numerical computation"
   ]
  },
  {
   "cell_type": "markdown",
   "id": "theoretical-worker",
   "metadata": {},
   "source": [
    "Here, we use the convention that the Gaussian density is normalized to one, i.e. contains the factor of $1/(2\\pi\\sigma^2)^{3/2}$. The spherical harmonic $Y_{00}$ is the constant function whose value is $1/\\sqrt{4\\pi}$ and the GTO's are orthonormalized starting from the primitive ones using the usual procedure."
   ]
  },
  {
   "cell_type": "code",
   "execution_count": 43,
   "id": "chief-composition",
   "metadata": {},
   "outputs": [],
   "source": [
    "def compute_coeffs_explicit_l0(d):\n",
    "    # Start computing coefficients for l=0\n",
    "    featvec = np.zeros((nmax))\n",
    "    \n",
    "    # Case 1: If the distance is zero, the integrals\n",
    "    # can easily be computed by hand. Furthermore,\n",
    "    # separating this case out is convenient since\n",
    "    # the general expression as a function of the pair\n",
    "    # distance d has a (removable) singularity at d=0\n",
    "    if d == 0:\n",
    "        prefac = np.sqrt(np.pi)\n",
    "        prefac /= (np.pi*smearing**2)**(3/4)\n",
    "        \n",
    "        featvec = np.zeros((nmax))\n",
    "        for n in range(nmax):\n",
    "            b = 0.5 * (1/smearing**2 + 1/sigma[n]**2)\n",
    "            neff = (3+n) / 2\n",
    "            featvec[n] = prefac * normalizations[n] * b**(-neff) * gamma(neff)\n",
    "    \n",
    "    # Case 2: For nonzero pair distances (i.e. all proper neighbor contributions),\n",
    "    # the final integral over the radial variable results in a hypergeometric function\n",
    "    # in a fully analytical treatment. Here, we perform the final integral numerically.\n",
    "    else:\n",
    "        # Define auxilary quantities and prefactors\n",
    "        a = d / smearing**2\n",
    "        prefac = 1. / (np.sqrt(2) * np.pi * smearing * d) * np.exp(-0.5*d**2/smearing**2)\n",
    "        prefac *= (2*np.pi*smearing**2)**1.5 / (np.pi*smearing**2)**(3/4)\n",
    "        \n",
    "        # Start main loop\n",
    "        for n in range(nmax):\n",
    "            # Compute contribution for primitive GTO function\n",
    "            powerlaw = lambda r: r**(1+n)\n",
    "            b = 0.5 * (1/smearing**2 + 1/sigma[n]**2)\n",
    "            gaussian = lambda r: np.exp(-b * r**2)\n",
    "            sinh = lambda r: np.sinh(a * r)\n",
    "            integrand = lambda r: powerlaw(r) * gaussian(r) * sinh(r)\n",
    "\n",
    "            # Numerical Integration\n",
    "            featvec[n] = prefac * normalizations[n] * quad(integrand, 1e-10, 4.5 * rcut)[0]\n",
    "    #return featvec\n",
    "    return transformation @ featvec"
   ]
  },
  {
   "cell_type": "code",
   "execution_count": 44,
   "id": "working-satellite",
   "metadata": {},
   "outputs": [
    {
     "data": {
      "text/plain": [
       "Text(0, 0.5, 'Contribution to <n00|rho_i>')"
      ]
     },
     "execution_count": 44,
     "metadata": {},
     "output_type": "execute_result"
    },
    {
     "data": {
      "image/png": "[encoded data removed]",
      "text/plain": [
       "<Figure size 432x288 with 1 Axes>"
      ]
     },
     "metadata": {
      "needs_background": "light"
     },
     "output_type": "display_data"
    }
   ],
   "source": [
    "# Start plotting the behavior of the neighbor contribution as a function of the pair distance r_ij\n",
    "Ndist = 50\n",
    "dd = np.linspace(0, rcut, Ndist)\n",
    "coeffs_exact = np.zeros((nmax, Ndist))\n",
    "for i, d in enumerate(dd):\n",
    "    coeffs_exact[:,i] = compute_coeffs_explicit_l0(d)\n",
    "\n",
    "\n",
    "# Make plot\n",
    "for n in range(nmax):\n",
    "    plt.plot(dd, coeffs_exact[n], label=f'n={n}')\n",
    "plt.legend()\n",
    "plt.xlabel('Pair distance rij')\n",
    "plt.ylabel('Contribution to <n00|rho_i>')"
   ]
  },
  {
   "cell_type": "markdown",
   "id": "piano-apache",
   "metadata": {},
   "source": [
    "Remark: This plot was mostly used to make sure that the implementation for small distances $r_{ij} \\rightarrow 0$ does indeed converge to the special case $r_{ij}=0$ which is implemented separately."
   ]
  },
  {
   "cell_type": "markdown",
   "id": "provincial-kitty",
   "metadata": {},
   "source": [
    "### Comparison to fully analytical general expression"
   ]
  },
  {
   "cell_type": "code",
   "execution_count": 45,
   "id": "chinese-throw",
   "metadata": {},
   "outputs": [
    {
     "name": "stderr",
     "output_type": "stream",
     "text": [
      "<ipython-input-13-71a9a352488c>:14: RuntimeWarning: divide by zero encountered in double_scalars\n",
      "  mod_sph_bessel = lambda x: np.sqrt(np.pi/2/x) * iv(l + 0.5, x)\n",
      "<ipython-input-13-71a9a352488c>:14: RuntimeWarning: invalid value encountered in double_scalars\n",
      "  mod_sph_bessel = lambda x: np.sqrt(np.pi/2/x) * iv(l + 0.5, x)\n",
      "<ipython-input-13-71a9a352488c>:20: IntegrationWarning: The occurrence of roundoff error is detected, which prevents \n",
      "  the requested tolerance from being achieved.  The error may be \n",
      "  underestimated.\n",
      "  featvec[n] = normalizations[n] * quad(integrand, eps, 4.5*rcut)[0]\n"
     ]
    }
   ],
   "source": [
    "coeffs_from_general_analytical = np.zeros((nmax, Ndist))\n",
    "coeffs_from_general_numerical = np.zeros((nmax, Ndist))\n",
    "for i, d in enumerate(dd):\n",
    "    coeffs_from_general_analytical[:,i] = coefficients_analytical_general_l(nmax, d, l=0)\n",
    "    coeffs_from_general_numerical[:,i] = coefficients_semianalytical_general_l(nmax, d, l=0)"
   ]
  },
  {
   "cell_type": "code",
   "execution_count": 46,
   "id": "stylish-popularity",
   "metadata": {},
   "outputs": [
    {
     "data": {
      "text/plain": [
       "Text(0, 0.5, 'Contribution to <n00|rho_i>')"
      ]
     },
     "execution_count": 46,
     "metadata": {},
     "output_type": "execute_result"
    },
    {
     "data": {
      "image/png": "[encoded data removed]",
      "text/plain": [
       "<Figure size 432x288 with 1 Axes>"
      ]
     },
     "metadata": {
      "needs_background": "light"
     },
     "output_type": "display_data"
    }
   ],
   "source": [
    "# Make plot\n",
    "for n in range(nmax):\n",
    "    plt.plot(dd, coeffs_exact[n], 'k')\n",
    "    plt.plot(dd, -0.01+coeffs_from_general_analytical[n], 'b')\n",
    "    plt.plot(dd, 0.01+coeffs_from_general_numerical[n], 'r')\n",
    "    \n",
    "plt.plot(dd, coeffs_exact[0], label=f'exact', c='k')\n",
    "plt.plot(dd, 0.01+coeffs_from_general_analytical[0], label=f'analytical', c='b')\n",
    "plt.plot(dd, -0.01+coeffs_from_general_numerical[0], label=f'numerical', c='r')\n",
    "plt.legend()\n",
    "plt.xlabel('Pair distance rij')\n",
    "plt.ylabel('Contribution to <n00|rho_i>')"
   ]
  },
  {
   "cell_type": "code",
   "execution_count": 47,
   "id": "crucial-joint",
   "metadata": {},
   "outputs": [
    {
     "name": "stdout",
     "output_type": "stream",
     "text": [
      "2.065819130578419e-15\n",
      "1.87931397382568e-15\n",
      "4.2105373992304264e-15\n",
      "4.3846121415455044e-15\n",
      "1.0083629377644011e-14\n",
      "1.0187525901307643e-14\n",
      "2.6263277329377824e-14\n",
      "2.666590151462467e-14\n",
      "4.6813404661281836e-14\n",
      "4.6007622750133644e-14\n",
      "5.368092002428532e-14\n",
      "5.429256333417508e-14\n",
      "3.63123144249675e-14\n",
      "3.560648353002623e-14\n",
      "1.2006001755488933e-14\n",
      "1.1910038537128725e-14\n"
     ]
    }
   ],
   "source": [
    "for n in range(nmax):\n",
    "    diff1 = coeffs_exact[n] - coeffs_from_general_analytical[n]\n",
    "    diff2 = coeffs_from_general_numerical[n] - coeffs_from_general_analytical[n]\n",
    "    print(np.linalg.norm(diff1))\n",
    "    print(np.linalg.norm(diff2[1:])) # first entry at d=0 is NaN for numerical evaluation"
   ]
  },
  {
   "cell_type": "markdown",
   "id": "split-stomach",
   "metadata": {},
   "source": [
    "## Compare exact coefficients with those from pyLODE and Rascal: Center atom contribution <a class=\"anchor\" id=\"l=0center\"></a>"
   ]
  },
  {
   "cell_type": "markdown",
   "id": "corporate-matthew",
   "metadata": {},
   "source": [
    "Note that $l=0$ is more complicated compared to $l=1,2,\\dots$ even for dimers since the center atom contributes to the density as well. We begin this investigation by using a frame that only consists of a single atom."
   ]
  },
  {
   "cell_type": "markdown",
   "id": "historical-preservation",
   "metadata": {},
   "source": [
    "### Get the coefficients from the three codes"
   ]
  },
  {
   "cell_type": "code",
   "execution_count": 48,
   "id": "taken-resistance",
   "metadata": {},
   "outputs": [],
   "source": [
    "Nscalings = 4\n",
    "scalings = np.linspace(1, 1.5, Nscalings)\n",
    "for scale in scalings:\n",
    "    frames.append(Atoms('O', positions=[[1,1,1]], cell=scale * cell, pbc=True))\n",
    "#frames.append(Atoms('O', positions=[[1,1,1]], cell=cell, pbc=True))\n",
    "#frames.append(Atoms('O', positions=[[1,1,1]], cell=1.2*cell, pbc=True))\n",
    "#frames.append(Atoms('O', positions=[[1,1,1]], cell=1.4*cell, pbc=True))"
   ]
  },
  {
   "cell_type": "code",
   "execution_count": 49,
   "id": "wicked-sierra",
   "metadata": {},
   "outputs": [],
   "source": [
    "calculator_pylode.transform(frames)\n",
    "features_pylode_single = calculator_pylode.features[-Nscalings:]\n",
    "features_librascal_single = calculator_librascal.transform(frames).get_features(calculator_librascal)[-Nscalings:]\n",
    "features_rascaline_single = calculator_rascaline.compute(frames).values[-Nscalings:]"
   ]
  },
  {
   "cell_type": "markdown",
   "id": "entertaining-obligation",
   "metadata": {},
   "source": [
    "### Sanity check 1: Make sure the feature vectors only contain nonzero entries for l=0"
   ]
  },
  {
   "cell_type": "code",
   "execution_count": 50,
   "id": "little-motion",
   "metadata": {},
   "outputs": [
    {
     "data": {
      "text/plain": [
       "(4, 1, 8, 16)"
      ]
     },
     "execution_count": 50,
     "metadata": {},
     "output_type": "execute_result"
    }
   ],
   "source": [
    "features_pylode_single.shape"
   ]
  },
  {
   "cell_type": "code",
   "execution_count": 51,
   "id": "dressed-century",
   "metadata": {},
   "outputs": [
    {
     "data": {
      "text/plain": [
       "(4, 128)"
      ]
     },
     "execution_count": 51,
     "metadata": {},
     "output_type": "execute_result"
    }
   ],
   "source": [
    "features_librascal_single.shape"
   ]
  },
  {
   "cell_type": "code",
   "execution_count": 52,
   "id": "likely-occurrence",
   "metadata": {},
   "outputs": [
    {
     "data": {
      "text/plain": [
       "(4, 128)"
      ]
     },
     "execution_count": 52,
     "metadata": {},
     "output_type": "execute_result"
    }
   ],
   "source": [
    "features_rascaline_single.shape"
   ]
  },
  {
   "cell_type": "code",
   "execution_count": 53,
   "id": "individual-tomato",
   "metadata": {},
   "outputs": [
    {
     "name": "stdout",
     "output_type": "stream",
     "text": [
      "[[ 9.87418e-01  1.49704e-01 -3.46930e-02  7.25900e-03  1.33580e-02\n",
      "  -7.25800e-03  7.27000e-04  1.87000e-04]\n",
      " [ 0.00000e+00  0.00000e+00  0.00000e+00  0.00000e+00  0.00000e+00\n",
      "   0.00000e+00  0.00000e+00  0.00000e+00]\n",
      " [ 0.00000e+00  0.00000e+00  0.00000e+00  0.00000e+00  0.00000e+00\n",
      "   0.00000e+00  0.00000e+00  0.00000e+00]\n",
      " [ 0.00000e+00  0.00000e+00  0.00000e+00  0.00000e+00  0.00000e+00\n",
      "   0.00000e+00  0.00000e+00  0.00000e+00]\n",
      " [-0.00000e+00 -0.00000e+00 -0.00000e+00 -0.00000e+00 -0.00000e+00\n",
      "  -0.00000e+00 -0.00000e+00 -0.00000e+00]\n",
      " [ 0.00000e+00  0.00000e+00 -0.00000e+00 -0.00000e+00 -0.00000e+00\n",
      "   0.00000e+00  0.00000e+00 -0.00000e+00]\n",
      " [ 0.00000e+00  0.00000e+00  0.00000e+00  0.00000e+00  0.00000e+00\n",
      "   0.00000e+00 -0.00000e+00 -0.00000e+00]\n",
      " [ 0.00000e+00  0.00000e+00  0.00000e+00 -0.00000e+00  0.00000e+00\n",
      "   0.00000e+00  0.00000e+00 -0.00000e+00]\n",
      " [ 0.00000e+00  0.00000e+00 -0.00000e+00 -0.00000e+00 -0.00000e+00\n",
      "  -0.00000e+00  0.00000e+00 -0.00000e+00]\n",
      " [ 0.00000e+00  0.00000e+00  0.00000e+00  0.00000e+00  0.00000e+00\n",
      "   0.00000e+00  0.00000e+00  0.00000e+00]\n",
      " [ 0.00000e+00  0.00000e+00  0.00000e+00  0.00000e+00  0.00000e+00\n",
      "   0.00000e+00  0.00000e+00  0.00000e+00]\n",
      " [ 0.00000e+00  0.00000e+00  0.00000e+00  0.00000e+00  0.00000e+00\n",
      "   0.00000e+00  0.00000e+00  0.00000e+00]\n",
      " [ 0.00000e+00  0.00000e+00  0.00000e+00  0.00000e+00  0.00000e+00\n",
      "   0.00000e+00  0.00000e+00  0.00000e+00]\n",
      " [ 0.00000e+00  0.00000e+00  0.00000e+00  0.00000e+00  0.00000e+00\n",
      "   0.00000e+00  0.00000e+00  0.00000e+00]\n",
      " [ 0.00000e+00  0.00000e+00  0.00000e+00  0.00000e+00  0.00000e+00\n",
      "   0.00000e+00  0.00000e+00  0.00000e+00]\n",
      " [ 0.00000e+00  0.00000e+00  0.00000e+00  0.00000e+00  0.00000e+00\n",
      "   0.00000e+00  0.00000e+00  0.00000e+00]]\n",
      "[[ 9.87419e-01  1.49702e-01 -3.46920e-02  7.25700e-03  1.33590e-02\n",
      "  -7.25900e-03  7.28000e-04  1.87000e-04]\n",
      " [ 0.00000e+00  0.00000e+00  0.00000e+00  0.00000e+00  0.00000e+00\n",
      "   0.00000e+00  0.00000e+00  0.00000e+00]\n",
      " [ 0.00000e+00  0.00000e+00  0.00000e+00  0.00000e+00  0.00000e+00\n",
      "   0.00000e+00  0.00000e+00  0.00000e+00]\n",
      " [ 0.00000e+00  0.00000e+00  0.00000e+00  0.00000e+00  0.00000e+00\n",
      "   0.00000e+00  0.00000e+00  0.00000e+00]\n",
      " [-0.00000e+00 -0.00000e+00  0.00000e+00 -0.00000e+00 -0.00000e+00\n",
      "  -0.00000e+00  0.00000e+00 -0.00000e+00]\n",
      " [-0.00000e+00 -0.00000e+00 -0.00000e+00 -0.00000e+00 -0.00000e+00\n",
      "   0.00000e+00 -0.00000e+00  0.00000e+00]\n",
      " [ 0.00000e+00  0.00000e+00  0.00000e+00  0.00000e+00  0.00000e+00\n",
      "  -0.00000e+00 -0.00000e+00  0.00000e+00]\n",
      " [-0.00000e+00 -0.00000e+00  0.00000e+00 -0.00000e+00 -0.00000e+00\n",
      "  -0.00000e+00  0.00000e+00  0.00000e+00]\n",
      " [ 0.00000e+00 -0.00000e+00 -0.00000e+00 -0.00000e+00 -0.00000e+00\n",
      "  -0.00000e+00 -0.00000e+00 -0.00000e+00]\n",
      " [ 0.00000e+00  0.00000e+00  0.00000e+00  0.00000e+00  0.00000e+00\n",
      "   0.00000e+00  0.00000e+00  0.00000e+00]\n",
      " [ 0.00000e+00  0.00000e+00  0.00000e+00  0.00000e+00  0.00000e+00\n",
      "   0.00000e+00  0.00000e+00  0.00000e+00]\n",
      " [ 0.00000e+00  0.00000e+00  0.00000e+00  0.00000e+00  0.00000e+00\n",
      "   0.00000e+00  0.00000e+00  0.00000e+00]\n",
      " [ 0.00000e+00  0.00000e+00  0.00000e+00  0.00000e+00  0.00000e+00\n",
      "   0.00000e+00  0.00000e+00  0.00000e+00]\n",
      " [ 0.00000e+00  0.00000e+00  0.00000e+00  0.00000e+00  0.00000e+00\n",
      "   0.00000e+00  0.00000e+00  0.00000e+00]\n",
      " [ 0.00000e+00  0.00000e+00  0.00000e+00  0.00000e+00  0.00000e+00\n",
      "   0.00000e+00  0.00000e+00  0.00000e+00]\n",
      " [ 0.00000e+00  0.00000e+00  0.00000e+00  0.00000e+00  0.00000e+00\n",
      "   0.00000e+00  0.00000e+00  0.00000e+00]]\n",
      "[[ 9.87419e-01  1.49702e-01 -3.46920e-02  7.25700e-03  1.33590e-02\n",
      "  -7.25800e-03  7.28000e-04  1.87000e-04]\n",
      " [ 0.00000e+00  0.00000e+00  0.00000e+00  0.00000e+00  0.00000e+00\n",
      "   0.00000e+00  0.00000e+00  0.00000e+00]\n",
      " [ 0.00000e+00  0.00000e+00  0.00000e+00  0.00000e+00  0.00000e+00\n",
      "   0.00000e+00  0.00000e+00  0.00000e+00]\n",
      " [ 0.00000e+00  0.00000e+00  0.00000e+00  0.00000e+00  0.00000e+00\n",
      "   0.00000e+00  0.00000e+00  0.00000e+00]\n",
      " [-0.00000e+00  0.00000e+00 -0.00000e+00 -0.00000e+00 -0.00000e+00\n",
      "  -0.00000e+00 -0.00000e+00 -0.00000e+00]\n",
      " [-0.00000e+00 -0.00000e+00 -0.00000e+00 -0.00000e+00  0.00000e+00\n",
      "   0.00000e+00  0.00000e+00 -0.00000e+00]\n",
      " [-0.00000e+00  0.00000e+00  0.00000e+00  0.00000e+00  0.00000e+00\n",
      "  -0.00000e+00  0.00000e+00  0.00000e+00]\n",
      " [-0.00000e+00 -0.00000e+00 -0.00000e+00 -0.00000e+00 -0.00000e+00\n",
      "  -0.00000e+00  0.00000e+00  0.00000e+00]\n",
      " [ 0.00000e+00  0.00000e+00 -0.00000e+00 -0.00000e+00 -0.00000e+00\n",
      "  -0.00000e+00 -0.00000e+00  0.00000e+00]\n",
      " [ 0.00000e+00  0.00000e+00  0.00000e+00  0.00000e+00  0.00000e+00\n",
      "   0.00000e+00  0.00000e+00  0.00000e+00]\n",
      " [ 0.00000e+00  0.00000e+00  0.00000e+00  0.00000e+00  0.00000e+00\n",
      "   0.00000e+00  0.00000e+00  0.00000e+00]\n",
      " [ 0.00000e+00  0.00000e+00  0.00000e+00  0.00000e+00  0.00000e+00\n",
      "   0.00000e+00  0.00000e+00  0.00000e+00]\n",
      " [ 0.00000e+00  0.00000e+00  0.00000e+00  0.00000e+00  0.00000e+00\n",
      "   0.00000e+00  0.00000e+00  0.00000e+00]\n",
      " [ 0.00000e+00  0.00000e+00  0.00000e+00  0.00000e+00  0.00000e+00\n",
      "   0.00000e+00  0.00000e+00  0.00000e+00]\n",
      " [ 0.00000e+00  0.00000e+00  0.00000e+00  0.00000e+00  0.00000e+00\n",
      "   0.00000e+00  0.00000e+00  0.00000e+00]\n",
      " [ 0.00000e+00  0.00000e+00  0.00000e+00  0.00000e+00  0.00000e+00\n",
      "   0.00000e+00  0.00000e+00  0.00000e+00]]\n",
      "[[ 9.87419e-01  1.49702e-01 -3.46920e-02  7.25700e-03  1.33600e-02\n",
      "  -7.25900e-03  7.28000e-04  1.87000e-04]\n",
      " [ 0.00000e+00  0.00000e+00  0.00000e+00  0.00000e+00  0.00000e+00\n",
      "   0.00000e+00  0.00000e+00  0.00000e+00]\n",
      " [ 0.00000e+00  0.00000e+00  0.00000e+00  0.00000e+00  0.00000e+00\n",
      "   0.00000e+00  0.00000e+00  0.00000e+00]\n",
      " [ 0.00000e+00  0.00000e+00  0.00000e+00  0.00000e+00  0.00000e+00\n",
      "   0.00000e+00  0.00000e+00  0.00000e+00]\n",
      " [-0.00000e+00 -0.00000e+00 -0.00000e+00  0.00000e+00 -0.00000e+00\n",
      "  -0.00000e+00 -0.00000e+00 -0.00000e+00]\n",
      " [-0.00000e+00 -0.00000e+00 -0.00000e+00 -0.00000e+00 -0.00000e+00\n",
      "   0.00000e+00 -0.00000e+00 -0.00000e+00]\n",
      " [-0.00000e+00 -0.00000e+00 -0.00000e+00 -0.00000e+00  0.00000e+00\n",
      "  -0.00000e+00  0.00000e+00  0.00000e+00]\n",
      " [-0.00000e+00 -0.00000e+00  0.00000e+00  0.00000e+00 -0.00000e+00\n",
      "  -0.00000e+00 -0.00000e+00  0.00000e+00]\n",
      " [ 0.00000e+00 -0.00000e+00  0.00000e+00 -0.00000e+00 -0.00000e+00\n",
      "   0.00000e+00 -0.00000e+00 -0.00000e+00]\n",
      " [ 0.00000e+00  0.00000e+00  0.00000e+00  0.00000e+00  0.00000e+00\n",
      "   0.00000e+00  0.00000e+00  0.00000e+00]\n",
      " [ 0.00000e+00  0.00000e+00  0.00000e+00  0.00000e+00  0.00000e+00\n",
      "   0.00000e+00  0.00000e+00  0.00000e+00]\n",
      " [ 0.00000e+00  0.00000e+00  0.00000e+00  0.00000e+00  0.00000e+00\n",
      "   0.00000e+00  0.00000e+00  0.00000e+00]\n",
      " [ 0.00000e+00  0.00000e+00  0.00000e+00  0.00000e+00  0.00000e+00\n",
      "   0.00000e+00  0.00000e+00  0.00000e+00]\n",
      " [ 0.00000e+00  0.00000e+00  0.00000e+00  0.00000e+00  0.00000e+00\n",
      "   0.00000e+00  0.00000e+00  0.00000e+00]\n",
      " [ 0.00000e+00  0.00000e+00  0.00000e+00  0.00000e+00  0.00000e+00\n",
      "   0.00000e+00  0.00000e+00  0.00000e+00]\n",
      " [ 0.00000e+00  0.00000e+00  0.00000e+00  0.00000e+00  0.00000e+00\n",
      "   0.00000e+00  0.00000e+00  0.00000e+00]]\n"
     ]
    }
   ],
   "source": [
    "for i in range(Nscalings):\n",
    "    print(np.round(features_pylode_single[i,0,:,:].T, 6))"
   ]
  },
  {
   "cell_type": "code",
   "execution_count": 54,
   "id": "emerging-tract",
   "metadata": {},
   "outputs": [
    {
     "name": "stdout",
     "output_type": "stream",
     "text": [
      "[[ 7.85802168e-02  1.19059933e-02 -2.75628332e-03  5.73065131e-04\n",
      "   1.06691650e-03 -5.80038141e-04  5.89253425e-05  1.46715897e-05\n",
      "   0.00000000e+00  0.00000000e+00  0.00000000e+00  0.00000000e+00\n",
      "   0.00000000e+00  0.00000000e+00  0.00000000e+00  0.00000000e+00\n",
      "   0.00000000e+00  0.00000000e+00  0.00000000e+00  0.00000000e+00\n",
      "   0.00000000e+00  0.00000000e+00  0.00000000e+00  0.00000000e+00\n",
      "   0.00000000e+00  0.00000000e+00  0.00000000e+00  0.00000000e+00\n",
      "   0.00000000e+00  0.00000000e+00  0.00000000e+00  0.00000000e+00\n",
      "   0.00000000e+00  0.00000000e+00  0.00000000e+00  0.00000000e+00\n",
      "   0.00000000e+00  0.00000000e+00  0.00000000e+00  0.00000000e+00\n",
      "   0.00000000e+00  0.00000000e+00  0.00000000e+00  0.00000000e+00\n",
      "   0.00000000e+00  0.00000000e+00  0.00000000e+00  0.00000000e+00\n",
      "   0.00000000e+00  0.00000000e+00  0.00000000e+00  0.00000000e+00\n",
      "   0.00000000e+00  0.00000000e+00  0.00000000e+00  0.00000000e+00\n",
      "   0.00000000e+00  0.00000000e+00  0.00000000e+00  0.00000000e+00\n",
      "   0.00000000e+00  0.00000000e+00  0.00000000e+00  0.00000000e+00\n",
      "   0.00000000e+00  0.00000000e+00  0.00000000e+00  0.00000000e+00\n",
      "   0.00000000e+00  0.00000000e+00  0.00000000e+00  0.00000000e+00\n",
      "   0.00000000e+00  0.00000000e+00  0.00000000e+00  0.00000000e+00\n",
      "   0.00000000e+00  0.00000000e+00  0.00000000e+00  0.00000000e+00\n",
      "   0.00000000e+00  0.00000000e+00  0.00000000e+00  0.00000000e+00\n",
      "   0.00000000e+00  0.00000000e+00  0.00000000e+00  0.00000000e+00\n",
      "   0.00000000e+00  0.00000000e+00  0.00000000e+00  0.00000000e+00\n",
      "   0.00000000e+00  0.00000000e+00  0.00000000e+00  0.00000000e+00\n",
      "   0.00000000e+00  0.00000000e+00  0.00000000e+00  0.00000000e+00\n",
      "   0.00000000e+00  0.00000000e+00  0.00000000e+00  0.00000000e+00\n",
      "   0.00000000e+00  0.00000000e+00  0.00000000e+00  0.00000000e+00\n",
      "   0.00000000e+00  0.00000000e+00  0.00000000e+00  0.00000000e+00\n",
      "   0.00000000e+00  0.00000000e+00  0.00000000e+00  0.00000000e+00\n",
      "   0.00000000e+00  0.00000000e+00  0.00000000e+00  0.00000000e+00\n",
      "   0.00000000e+00  0.00000000e+00  0.00000000e+00  0.00000000e+00\n",
      "   0.00000000e+00  0.00000000e+00  0.00000000e+00  0.00000000e+00]\n",
      " [ 7.85802168e-02  1.19059933e-02 -2.75628332e-03  5.73065131e-04\n",
      "   1.06691650e-03 -5.80038141e-04  5.89253425e-05  1.46715897e-05\n",
      "   0.00000000e+00  0.00000000e+00  0.00000000e+00  0.00000000e+00\n",
      "   0.00000000e+00  0.00000000e+00  0.00000000e+00  0.00000000e+00\n",
      "   0.00000000e+00  0.00000000e+00  0.00000000e+00  0.00000000e+00\n",
      "   0.00000000e+00  0.00000000e+00  0.00000000e+00  0.00000000e+00\n",
      "   0.00000000e+00  0.00000000e+00  0.00000000e+00  0.00000000e+00\n",
      "   0.00000000e+00  0.00000000e+00  0.00000000e+00  0.00000000e+00\n",
      "   0.00000000e+00  0.00000000e+00  0.00000000e+00  0.00000000e+00\n",
      "   0.00000000e+00  0.00000000e+00  0.00000000e+00  0.00000000e+00\n",
      "   0.00000000e+00  0.00000000e+00  0.00000000e+00  0.00000000e+00\n",
      "   0.00000000e+00  0.00000000e+00  0.00000000e+00  0.00000000e+00\n",
      "   0.00000000e+00  0.00000000e+00  0.00000000e+00  0.00000000e+00\n",
      "   0.00000000e+00  0.00000000e+00  0.00000000e+00  0.00000000e+00\n",
      "   0.00000000e+00  0.00000000e+00  0.00000000e+00  0.00000000e+00\n",
      "   0.00000000e+00  0.00000000e+00  0.00000000e+00  0.00000000e+00\n",
      "   0.00000000e+00  0.00000000e+00  0.00000000e+00  0.00000000e+00\n",
      "   0.00000000e+00  0.00000000e+00  0.00000000e+00  0.00000000e+00\n",
      "   0.00000000e+00  0.00000000e+00  0.00000000e+00  0.00000000e+00\n",
      "   0.00000000e+00  0.00000000e+00  0.00000000e+00  0.00000000e+00\n",
      "   0.00000000e+00  0.00000000e+00  0.00000000e+00  0.00000000e+00\n",
      "   0.00000000e+00  0.00000000e+00  0.00000000e+00  0.00000000e+00\n",
      "   0.00000000e+00  0.00000000e+00  0.00000000e+00  0.00000000e+00\n",
      "   0.00000000e+00  0.00000000e+00  0.00000000e+00  0.00000000e+00\n",
      "   0.00000000e+00  0.00000000e+00  0.00000000e+00  0.00000000e+00\n",
      "   0.00000000e+00  0.00000000e+00  0.00000000e+00  0.00000000e+00\n",
      "   0.00000000e+00  0.00000000e+00  0.00000000e+00  0.00000000e+00\n",
      "   0.00000000e+00  0.00000000e+00  0.00000000e+00  0.00000000e+00\n",
      "   0.00000000e+00  0.00000000e+00  0.00000000e+00  0.00000000e+00\n",
      "   0.00000000e+00  0.00000000e+00  0.00000000e+00  0.00000000e+00\n",
      "   0.00000000e+00  0.00000000e+00  0.00000000e+00  0.00000000e+00\n",
      "   0.00000000e+00  0.00000000e+00  0.00000000e+00  0.00000000e+00]\n",
      " [ 7.85802168e-02  1.19059933e-02 -2.75628332e-03  5.73065131e-04\n",
      "   1.06691650e-03 -5.80038141e-04  5.89253425e-05  1.46715897e-05\n",
      "   0.00000000e+00  0.00000000e+00  0.00000000e+00  0.00000000e+00\n",
      "   0.00000000e+00  0.00000000e+00  0.00000000e+00  0.00000000e+00\n",
      "   0.00000000e+00  0.00000000e+00  0.00000000e+00  0.00000000e+00\n",
      "   0.00000000e+00  0.00000000e+00  0.00000000e+00  0.00000000e+00\n",
      "   0.00000000e+00  0.00000000e+00  0.00000000e+00  0.00000000e+00\n",
      "   0.00000000e+00  0.00000000e+00  0.00000000e+00  0.00000000e+00\n",
      "   0.00000000e+00  0.00000000e+00  0.00000000e+00  0.00000000e+00\n",
      "   0.00000000e+00  0.00000000e+00  0.00000000e+00  0.00000000e+00\n",
      "   0.00000000e+00  0.00000000e+00  0.00000000e+00  0.00000000e+00\n",
      "   0.00000000e+00  0.00000000e+00  0.00000000e+00  0.00000000e+00\n",
      "   0.00000000e+00  0.00000000e+00  0.00000000e+00  0.00000000e+00\n",
      "   0.00000000e+00  0.00000000e+00  0.00000000e+00  0.00000000e+00\n",
      "   0.00000000e+00  0.00000000e+00  0.00000000e+00  0.00000000e+00\n",
      "   0.00000000e+00  0.00000000e+00  0.00000000e+00  0.00000000e+00\n",
      "   0.00000000e+00  0.00000000e+00  0.00000000e+00  0.00000000e+00\n",
      "   0.00000000e+00  0.00000000e+00  0.00000000e+00  0.00000000e+00\n",
      "   0.00000000e+00  0.00000000e+00  0.00000000e+00  0.00000000e+00\n",
      "   0.00000000e+00  0.00000000e+00  0.00000000e+00  0.00000000e+00\n",
      "   0.00000000e+00  0.00000000e+00  0.00000000e+00  0.00000000e+00\n",
      "   0.00000000e+00  0.00000000e+00  0.00000000e+00  0.00000000e+00\n",
      "   0.00000000e+00  0.00000000e+00  0.00000000e+00  0.00000000e+00\n",
      "   0.00000000e+00  0.00000000e+00  0.00000000e+00  0.00000000e+00\n",
      "   0.00000000e+00  0.00000000e+00  0.00000000e+00  0.00000000e+00\n",
      "   0.00000000e+00  0.00000000e+00  0.00000000e+00  0.00000000e+00\n",
      "   0.00000000e+00  0.00000000e+00  0.00000000e+00  0.00000000e+00\n",
      "   0.00000000e+00  0.00000000e+00  0.00000000e+00  0.00000000e+00\n",
      "   0.00000000e+00  0.00000000e+00  0.00000000e+00  0.00000000e+00\n",
      "   0.00000000e+00  0.00000000e+00  0.00000000e+00  0.00000000e+00\n",
      "   0.00000000e+00  0.00000000e+00  0.00000000e+00  0.00000000e+00\n",
      "   0.00000000e+00  0.00000000e+00  0.00000000e+00  0.00000000e+00]\n",
      " [ 7.85802168e-02  1.19059933e-02 -2.75628332e-03  5.73065131e-04\n",
      "   1.06691650e-03 -5.80038141e-04  5.89253425e-05  1.46715897e-05\n",
      "   0.00000000e+00  0.00000000e+00  0.00000000e+00  0.00000000e+00\n",
      "   0.00000000e+00  0.00000000e+00  0.00000000e+00  0.00000000e+00\n",
      "   0.00000000e+00  0.00000000e+00  0.00000000e+00  0.00000000e+00\n",
      "   0.00000000e+00  0.00000000e+00  0.00000000e+00  0.00000000e+00\n",
      "   0.00000000e+00  0.00000000e+00  0.00000000e+00  0.00000000e+00\n",
      "   0.00000000e+00  0.00000000e+00  0.00000000e+00  0.00000000e+00\n",
      "   0.00000000e+00  0.00000000e+00  0.00000000e+00  0.00000000e+00\n",
      "   0.00000000e+00  0.00000000e+00  0.00000000e+00  0.00000000e+00\n",
      "   0.00000000e+00  0.00000000e+00  0.00000000e+00  0.00000000e+00\n",
      "   0.00000000e+00  0.00000000e+00  0.00000000e+00  0.00000000e+00\n",
      "   0.00000000e+00  0.00000000e+00  0.00000000e+00  0.00000000e+00\n",
      "   0.00000000e+00  0.00000000e+00  0.00000000e+00  0.00000000e+00\n",
      "   0.00000000e+00  0.00000000e+00  0.00000000e+00  0.00000000e+00\n",
      "   0.00000000e+00  0.00000000e+00  0.00000000e+00  0.00000000e+00\n",
      "   0.00000000e+00  0.00000000e+00  0.00000000e+00  0.00000000e+00\n",
      "   0.00000000e+00  0.00000000e+00  0.00000000e+00  0.00000000e+00\n",
      "   0.00000000e+00  0.00000000e+00  0.00000000e+00  0.00000000e+00\n",
      "   0.00000000e+00  0.00000000e+00  0.00000000e+00  0.00000000e+00\n",
      "   0.00000000e+00  0.00000000e+00  0.00000000e+00  0.00000000e+00\n",
      "   0.00000000e+00  0.00000000e+00  0.00000000e+00  0.00000000e+00\n",
      "   0.00000000e+00  0.00000000e+00  0.00000000e+00  0.00000000e+00\n",
      "   0.00000000e+00  0.00000000e+00  0.00000000e+00  0.00000000e+00\n",
      "   0.00000000e+00  0.00000000e+00  0.00000000e+00  0.00000000e+00\n",
      "   0.00000000e+00  0.00000000e+00  0.00000000e+00  0.00000000e+00\n",
      "   0.00000000e+00  0.00000000e+00  0.00000000e+00  0.00000000e+00\n",
      "   0.00000000e+00  0.00000000e+00  0.00000000e+00  0.00000000e+00\n",
      "   0.00000000e+00  0.00000000e+00  0.00000000e+00  0.00000000e+00\n",
      "   0.00000000e+00  0.00000000e+00  0.00000000e+00  0.00000000e+00\n",
      "   0.00000000e+00  0.00000000e+00  0.00000000e+00  0.00000000e+00\n",
      "   0.00000000e+00  0.00000000e+00  0.00000000e+00  0.00000000e+00]]\n"
     ]
    }
   ],
   "source": [
    "print(features_rascaline_single)"
   ]
  },
  {
   "cell_type": "markdown",
   "id": "suspected-bankruptcy",
   "metadata": {},
   "source": [
    "Comment: Rascaline seems to exclude the center contribution by default, leading to coefficients that are zero everywhere. This is not an error of the code per se, but is something that should be kept in mind."
   ]
  },
  {
   "cell_type": "markdown",
   "id": "sporting-melissa",
   "metadata": {},
   "source": [
    "Make sure that the coefficients apart from those at $l=0$ are zero (since we only have a single atom in the structure, the density is spherically symmetric and thus only the $l=0$ projection survives)"
   ]
  },
  {
   "cell_type": "code",
   "execution_count": 55,
   "id": "blind-pastor",
   "metadata": {},
   "outputs": [],
   "source": [
    "for i in range(len(features_pylode_single)):\n",
    "    # The l=0 coefficients for pyLODE are contained in [n,l]=[:,0]\n",
    "    feat = features_pylode_single[i,0]\n",
    "    feat_zero = feat[:,1:]\n",
    "    assert_allclose(feat_zero, np.zeros_like(feat_zero), atol=3e-6)\n",
    "    \n",
    "    # The l=0 coefficients for librascal are separated by (lmax+1)**2\n",
    "    feat = features_librascal_single[i]\n",
    "    for n in range(nmax):\n",
    "        for lm in range((lmax+1)**2):\n",
    "            if lm != 0:\n",
    "                assert abs(feat[n*(lmax+1)**2 + lm]) < 1e-8\n",
    "    \n",
    "    # The l=0 coefficients of rascaline are the first nmax entries.\n",
    "    # Thus, all the remaining contributions should be zero.\n",
    "    feat = np.round(features_rascaline_single[i],15)\n",
    "    #assert_allclose(feat[nmax:], np.zeros_like(feat[nmax:]), atol=1e-8)"
   ]
  },
  {
   "cell_type": "markdown",
   "id": "alive-complaint",
   "metadata": {},
   "source": [
    "### Sanity check 2: Coefficients should be (for pyLODE: mostly) independent of the cell"
   ]
  },
  {
   "cell_type": "code",
   "execution_count": 56,
   "id": "proved-monkey",
   "metadata": {},
   "outputs": [],
   "source": [
    "# For librascal and rascaline, the features should be completely independent of the cell\n",
    "for feats in [features_librascal_single]:\n",
    "    feat1 = feats[0]\n",
    "    feat2 = feats[1]\n",
    "    assert_allclose(feat1, feat2, rtol=1e-10)"
   ]
  },
  {
   "cell_type": "code",
   "execution_count": 57,
   "id": "activated-fight",
   "metadata": {},
   "outputs": [],
   "source": [
    "# For pyLODE, the k-space sum does lead to a weak dependence on the cell that depends on\n",
    "# how well the k-space converged.\n",
    "feat1 = features_pylode_single[0]\n",
    "feat2 = features_pylode_single[1]\n",
    "assert_allclose(feat1, feat2, rtol=1e-10, atol=1e-5)"
   ]
  },
  {
   "cell_type": "markdown",
   "id": "favorite-surveillance",
   "metadata": {},
   "source": [
    "### Compare pyLODE and rascal coefficients with exact values"
   ]
  },
  {
   "cell_type": "code",
   "execution_count": 58,
   "id": "pursuant-interest",
   "metadata": {},
   "outputs": [],
   "source": [
    "coeffs_exact_center = coeffs_exact[:,0] # take the r_{ij} = 0 part"
   ]
  },
  {
   "cell_type": "code",
   "execution_count": 59,
   "id": "regulation-intermediate",
   "metadata": {},
   "outputs": [
    {
     "name": "stdout",
     "output_type": "stream",
     "text": [
      "Exact center contributions [ 9.87468127e-01  1.49615124e-01 -3.46364778e-02  7.20134882e-03\n",
      "  1.34072681e-02 -7.28897425e-03  7.40477692e-04  1.84368634e-04]\n"
     ]
    }
   ],
   "source": [
    "print('Exact center contributions', coeffs_exact_center)"
   ]
  },
  {
   "cell_type": "code",
   "execution_count": 60,
   "id": "veterinary-poster",
   "metadata": {
    "scrolled": true
   },
   "outputs": [
    {
     "name": "stdout",
     "output_type": "stream",
     "text": [
      "pyLODE / exact coeffs\n",
      "[0.99994887 1.00059561 1.00162981 1.00795882 0.99634221 0.99571439\n",
      " 0.98210241 1.01649154]\n",
      "[0.99994995 1.00058226 1.00159243 1.00777804 0.9964222  0.99582167\n",
      " 0.98284639 1.01465316]\n",
      "[0.99994999 1.0005817  1.00159082 1.00777053 0.99642622 0.99581519\n",
      " 0.98251568 1.01520051]\n",
      "[0.99995004 1.00058111 1.00158893 1.00775612 0.99643781 0.99584707\n",
      " 0.98282106 1.01621992]\n"
     ]
    }
   ],
   "source": [
    "print('pyLODE / exact coeffs')\n",
    "for i in range(Nscalings):\n",
    "    feat_pylode_single_nonzero = features_pylode_single[i,0,:,0]\n",
    "    print(feat_pylode_single_nonzero / coeffs_exact_center)"
   ]
  },
  {
   "cell_type": "code",
   "execution_count": 61,
   "id": "weekly-present",
   "metadata": {},
   "outputs": [
    {
     "name": "stdout",
     "output_type": "stream",
     "text": [
      "librascal / exact coeffs\n",
      "[0.03745697 0.03745697 0.03745697 0.03745697 0.03745697 0.03745697\n",
      " 0.03745697 0.03745697]\n",
      "[0.03745697 0.03745697 0.03745697 0.03745697 0.03745697 0.03745697\n",
      " 0.03745697 0.03745697]\n",
      "[0.03745697 0.03745697 0.03745697 0.03745697 0.03745697 0.03745697\n",
      " 0.03745697 0.03745697]\n",
      "[0.03745697 0.03745697 0.03745697 0.03745697 0.03745697 0.03745697\n",
      " 0.03745697 0.03745697]\n"
     ]
    }
   ],
   "source": [
    "print('librascal / exact coeffs')\n",
    "for i in range(Nscalings):\n",
    "    feat_librascal_single_nonzero = features_librascal_single[i,::(lmax+1)**2]\n",
    "    print(feat_librascal_single_nonzero / coeffs_exact_center)"
   ]
  },
  {
   "cell_type": "code",
   "execution_count": 62,
   "id": "strategic-discount",
   "metadata": {},
   "outputs": [
    {
     "name": "stdout",
     "output_type": "stream",
     "text": [
      "rascaline / exact coeffs\n",
      "[0.07957747 0.07957747 0.07957747 0.07957747 0.07957747 0.07957747\n",
      " 0.07957747 0.07957747]\n",
      "[0.07957747 0.07957747 0.07957747 0.07957747 0.07957747 0.07957747\n",
      " 0.07957747 0.07957747]\n",
      "[0.07957747 0.07957747 0.07957747 0.07957747 0.07957747 0.07957747\n",
      " 0.07957747 0.07957747]\n",
      "[0.07957747 0.07957747 0.07957747 0.07957747 0.07957747 0.07957747\n",
      " 0.07957747 0.07957747]\n"
     ]
    }
   ],
   "source": [
    "print('rascaline / exact coeffs')\n",
    "for i in range(Nscalings):\n",
    "    feat_rascaline_single_nonzero = features_rascaline_single[i,:nmax]\n",
    "    print(feat_rascaline_single_nonzero / coeffs_exact_center)"
   ]
  },
  {
   "cell_type": "markdown",
   "id": "attached-cloud",
   "metadata": {},
   "source": [
    "## Norm tests"
   ]
  },
  {
   "cell_type": "code",
   "execution_count": 63,
   "id": "settled-testimony",
   "metadata": {},
   "outputs": [],
   "source": [
    "features_pylode_single = calculator_pylode.features[-Nscalings:]\n",
    "features_pylode_dimers = calculator_pylode.features[:-Nscalings]"
   ]
  },
  {
   "cell_type": "code",
   "execution_count": 64,
   "id": "laden-nightlife",
   "metadata": {},
   "outputs": [],
   "source": [
    "norm_exact_single = 1.\n",
    "norm_exact_dimers = np.zeros((Ndimers,))\n",
    "\n",
    "for i, d in enumerate(distances):\n",
    "    norm_exact_dimers[i] = norm_exact_single * np.sqrt(2 + np.exp(-d**2/(4 * smearing**2)))"
   ]
  },
  {
   "cell_type": "code",
   "execution_count": 65,
   "id": "latin-miami",
   "metadata": {},
   "outputs": [
    {
     "data": {
      "text/plain": [
       "(30, 1, 8, 16)"
      ]
     },
     "execution_count": 65,
     "metadata": {},
     "output_type": "execute_result"
    }
   ],
   "source": [
    "features_pylode_dimers.shape"
   ]
  },
  {
   "cell_type": "code",
   "execution_count": 66,
   "id": "engaging-forty",
   "metadata": {},
   "outputs": [
    {
     "name": "stdout",
     "output_type": "stream",
     "text": [
      "0.9994463071306344\n",
      "1.0\n",
      "0.9994470256142135\n",
      "1.0\n",
      "0.999447053573533\n",
      "1.0\n",
      "0.9994470892247209\n",
      "1.0\n"
     ]
    }
   ],
   "source": [
    "for features in features_pylode_single:\n",
    "    print(norm(features.flatten()))\n",
    "    print(norm_exact_single)"
   ]
  },
  {
   "cell_type": "code",
   "execution_count": 67,
   "id": "private-childhood",
   "metadata": {},
   "outputs": [],
   "source": [
    "norm_pylode_single = np.zeros((2,))\n",
    "for i in range(2):\n",
    "    norm_pylode_single[i] = norm(features_pylode_single[i].flatten())"
   ]
  },
  {
   "cell_type": "code",
   "execution_count": 68,
   "id": "distinct-satin",
   "metadata": {},
   "outputs": [
    {
     "name": "stdout",
     "output_type": "stream",
     "text": [
      "[0.99944631 0.99944703]\n",
      "1.0\n"
     ]
    }
   ],
   "source": [
    "print(norm_pylode_single)\n",
    "print(norm_exact_single)"
   ]
  },
  {
   "cell_type": "code",
   "execution_count": 69,
   "id": "functioning-hobby",
   "metadata": {},
   "outputs": [],
   "source": [
    "norm_pylode_dimers = np.zeros_like(distances)\n",
    "for i,d in enumerate(distances):\n",
    "    norm_pylode_dimers[i] = norm(features_pylode_dimers[i].flatten())"
   ]
  },
  {
   "cell_type": "code",
   "execution_count": 70,
   "id": "sonic-carbon",
   "metadata": {},
   "outputs": [
    {
     "data": {
      "text/plain": [
       "(0.0, 1.658249950494985)"
      ]
     },
     "execution_count": 70,
     "metadata": {},
     "output_type": "execute_result"
    },
    {
     "data": {
      "image/png": "[encoded data removed]",
      "text/plain": [
       "<Figure size 432x288 with 1 Axes>"
      ]
     },
     "metadata": {
      "needs_background": "light"
     },
     "output_type": "display_data"
    }
   ],
   "source": [
    "plt.scatter(distances, norm_exact_dimers, label='exact')\n",
    "plt.scatter(distances, norm_pylode_dimers, label='pyLODE')\n",
    "plt.legend()\n",
    "plt.ylim(0,)"
   ]
  },
  {
   "cell_type": "markdown",
   "id": "lucky-flash",
   "metadata": {},
   "source": [
    "# Compare coefficients for random molecules <a class=\"anchor\" id=\"randommolecule\"></a>"
   ]
  },
  {
   "cell_type": "code",
   "execution_count": 71,
   "id": "recreational-installation",
   "metadata": {},
   "outputs": [],
   "source": [
    "frames = []\n",
    "frames.append(Atoms('O4', positions=[[1,1,1],[2,1,1],[2,2.2,1],[2.3,2.,1.5]], cell=cell, pbc=True))\n",
    "frames.append(Atoms('O4', positions=[[1,1,1],[2.3,1,1],[2.2,2.5,1.1],[2.7,2.,1.1]], cell=cell, pbc=True))"
   ]
  },
  {
   "cell_type": "code",
   "execution_count": 72,
   "id": "sitting-thinking",
   "metadata": {},
   "outputs": [],
   "source": [
    "features_librascal_single = calculator_librascal.transform(frames).get_features(calculator_librascal)\n",
    "calculator_pylode.transform(frames)\n",
    "features_pylode_single = calculator_pylode.features"
   ]
  },
  {
   "cell_type": "code",
   "execution_count": 73,
   "id": "color-mailman",
   "metadata": {},
   "outputs": [
    {
     "data": {
      "text/plain": [
       "(8, 128)"
      ]
     },
     "execution_count": 73,
     "metadata": {},
     "output_type": "execute_result"
    }
   ],
   "source": [
    "features_librascal_single.shape"
   ]
  },
  {
   "cell_type": "code",
   "execution_count": 74,
   "id": "resident-uniform",
   "metadata": {},
   "outputs": [],
   "source": [
    "features_pylode_single = features_pylode_single[:,0,:,:]"
   ]
  },
  {
   "cell_type": "code",
   "execution_count": 75,
   "id": "every-sodium",
   "metadata": {},
   "outputs": [],
   "source": [
    "f_librascal = features_librascal_single.reshape((8, nmax, (lmax+1)**2))"
   ]
  },
  {
   "cell_type": "code",
   "execution_count": 76,
   "id": "oriented-beverage",
   "metadata": {},
   "outputs": [
    {
     "name": "stdout",
     "output_type": "stream",
     "text": [
      "[[26.696249 26.705905 26.703117 26.69871  26.709526 26.726127 26.710955\n",
      "  26.726365 26.714379 26.672763 26.691936 26.657348 26.690416 26.712611\n",
      "  26.689511 26.933707]\n",
      " [26.70057  26.694866 26.695807 26.696711 26.694682 26.691707 26.694009\n",
      "  26.691646 26.692624 26.698878 26.696686 26.700504 26.696873 26.695111\n",
      "  26.696968 26.58858 ]\n",
      " [26.694419 26.697858 26.697521 26.69752  26.697763 26.697939 26.698064\n",
      "  26.697949 26.699319 26.697453 26.697482 26.697429 26.697479 26.697496\n",
      "  26.69748  26.697307]\n",
      " [26.712888 26.693659 26.696202 26.695912 26.694305 26.693763 26.691226\n",
      "  26.693711 26.678104 26.697696 26.696945 26.698638 26.696989 26.694679\n",
      "  26.697008 26.702568]\n",
      " [26.669634 26.703927 26.699879 26.700732 26.703185 26.706555 26.709576\n",
      "  26.706691 26.776123 26.695575 26.697863 26.693774 26.697718 26.702324\n",
      "  26.697652 26.682196]\n",
      " [26.647451 26.710693 26.703926 26.70439  26.710093 26.726046 26.720834\n",
      "  26.726517 26.846723 26.692574 26.699134 26.690864 26.698551 26.706456\n",
      "  26.698345 26.654318]\n",
      " [26.615725 26.71101  26.7031   26.703683 26.710791 26.728036 26.7184\n",
      "  26.72864  26.787523 26.692474 26.700063 26.694354 26.698954 26.706301\n",
      "  26.698873 26.648984]\n",
      " [26.556728 26.710135 26.701114 26.703312 26.710719 26.725132 26.712792\n",
      "  26.725875 26.74564  26.687797 26.70108  26.702782 26.694901 26.709818\n",
      "  26.697966 26.634584]]\n",
      "26.933707009614245\n",
      "26.556727934969075\n",
      "[[26.696389 26.692043 26.692101 26.697427 26.695755 26.695574 26.701383\n",
      "  26.695252 26.640397 26.734705 26.739946 26.73219  26.740673 26.740186\n",
      "  26.741067 26.741099]\n",
      " [26.699708 26.699579 26.69964  26.697316 26.698009 26.698058 26.69653\n",
      "  26.698145 26.706938 26.693873 26.693126 26.694208 26.693043 26.691599\n",
      "  26.69299  26.692082]\n",
      " [26.693107 26.69574  26.695581 26.697072 26.696734 26.696709 26.697381\n",
      "  26.696666 26.694639 26.697047 26.697097 26.697031 26.697094 26.697727\n",
      "  26.697098 26.697422]\n",
      " [26.730307 26.719319 26.720205 26.698544 26.707582 26.708105 26.69371\n",
      "  26.708999 26.805859 26.677207 26.668603 26.680216 26.66821  26.645312\n",
      "  26.667892 26.654832]\n",
      " [26.6501   26.669737 26.663817 26.703728 26.689373 26.688961 26.701502\n",
      "  26.688249 26.665042 26.707806 26.711172 26.706554 26.711344 26.731625\n",
      "  26.71148  26.720962]\n",
      " [26.638902 26.663493 26.656195 26.705966 26.687674 26.687194 26.701297\n",
      "  26.686362 26.658843 26.709169 26.712312 26.707971 26.712437 26.731885\n",
      "  26.712607 26.722007]\n",
      " [26.605944 26.667062 26.66052  26.710986 26.688586 26.688173 26.699223\n",
      "  26.687458 26.662196 26.706598 26.707827 26.706107 26.707723 26.721253\n",
      "  26.70797  26.71464 ]\n",
      " [26.553763 26.674228 26.668631 26.738699 26.690652 26.690321 26.69743\n",
      "  26.68975  26.667165 26.707005 26.703822 26.708163 26.702052 26.714967\n",
      "  26.703717 26.709482]]\n",
      "26.805859287202573\n",
      "26.5537625363175\n",
      "[[26.696775 26.696791 26.699415 26.696586 26.760215 26.673358 26.74115\n",
      "  26.673447 26.693645 26.824416 26.509192 26.783959 26.510822 26.563451\n",
      "  26.507415 26.654397]\n",
      " [26.699215 26.69751  26.695227 26.702055 26.692132 26.706594 26.693497\n",
      "  26.706551 26.698354 26.685242 26.727039 26.690326 26.726681 26.713372\n",
      "  26.727355 26.700782]\n",
      " [26.694383 26.69723  26.709906 26.697436 26.697988 26.685129 26.697785\n",
      "  26.685217 26.696805 26.695107 26.697707 26.697215 26.697813 26.697433\n",
      "  26.697719 26.697401]\n",
      " [26.712818 26.69794  26.687908 26.694699 26.690517 26.730586 26.68856\n",
      "  26.730384 26.7058   26.714277 26.81221  26.687167 26.810974 26.715601\n",
      "  26.813041 26.699369]\n",
      " [26.670507 26.696147 26.680929 26.698236 26.705312 26.759457 26.703849\n",
      "  26.759092 26.690926 26.788153 27.160314 26.709335 27.155838 26.652752\n",
      "  27.16352  26.693071]\n",
      " [26.657065 26.695321 26.680232 26.698516 26.710261 26.761147 26.705857\n",
      "  26.760758 26.688709 26.742596 27.224105 26.714116 27.218175 26.619202\n",
      "  27.227161 26.690233]\n",
      " [26.611766 26.695371 26.681588 26.698427 26.710243 26.757547 26.704379\n",
      "  26.757152 26.688706 26.729226 27.469749 26.711423 27.449097 26.639172\n",
      "  27.472389 26.691756]\n",
      " [26.467306 26.697002 26.681623 26.698487 26.709705 26.757983 26.702209\n",
      "  26.757539 26.688972 26.728947 25.132917 26.71109  25.686469 26.66567\n",
      "  25.132435 26.692108]]\n",
      "27.472389014421825\n",
      "25.132435311883096\n",
      "[[26.696703 26.68595  26.69794  26.698714 26.734794 26.744342 26.599593\n",
      "  26.684216 26.696793 26.703904 26.895855 26.574009 26.751177 26.394396\n",
      "  26.821428 26.723986]\n",
      " [26.699571 26.699984 26.696827 26.696443 26.691695 26.69182  26.661062\n",
      "  26.701156 26.698069 26.70161  26.681185 26.713194 26.691834 26.772611\n",
      "  26.685952 26.694446]\n",
      " [26.693964 26.696355 26.697783 26.697699 26.69798  26.698011 26.698764\n",
      "  26.696331 26.695593 26.697646 26.697357 26.697494 26.697327 26.6974\n",
      "  26.696687 26.697303]\n",
      " [26.710876 26.705687 26.695338 26.695456 26.692117 26.687088 26.68369\n",
      "  26.703671 26.690672 26.696675 26.689396 26.708684 26.692899 26.678829\n",
      "  26.721295 26.694397]\n",
      " [26.664987 26.685842 26.642628 26.705938 26.707551 26.708461 26.715303\n",
      "  26.663618 26.67774  26.698944 26.716068 26.6513   26.707033 26.746457\n",
      "  26.742885 26.703139]\n",
      " [26.638283 26.677985 26.6841   26.809126 26.71874  26.713413 26.728488\n",
      "  26.146074 26.686205 26.636325 26.736144 26.53479  26.715215 26.837525\n",
      "  26.730727 26.706546]\n",
      " [26.522491 26.67867  26.686481 27.250372 26.717477 26.71094  26.725227\n",
      "  26.354842 26.687641 26.694305 26.728655 26.583303 26.710812 26.840657\n",
      "  26.720409 26.702385]\n",
      " [25.159781 26.681596 26.684519 26.770094 26.714833 26.708277 26.718955\n",
      "  26.619236 26.690126 26.725625 26.718427 26.659498 26.702472 26.842208\n",
      "  26.711722 26.692969]]\n",
      "27.25037227590316\n",
      "25.159781461445387\n",
      "[[26.696148 26.680093 26.683182 26.690398 26.70159  26.699856 26.688204\n",
      "  26.693089 26.680191 26.761862 26.763769 26.760064 26.783111 26.723318\n",
      "  26.753805 26.663567]\n",
      " [26.701823 26.704407 26.703113 26.699909 26.697516 26.698107 26.699884\n",
      "  26.700407 26.701185 26.684868 26.684989 26.685834 26.680701 26.694842\n",
      "  26.682903 26.700811]\n",
      " [26.694883 26.696717 26.69685  26.696693 26.697148 26.697113 26.696895\n",
      "  26.697002 26.696337 26.697236 26.697249 26.69726  26.697252 26.697172\n",
      "  26.697173 26.698078]\n",
      " [26.704573 26.698832 26.698478 26.699534 26.697598 26.697696 26.698737\n",
      "  26.697988 26.70432  26.696801 26.696732 26.696731 26.696563 26.696899\n",
      "  26.69703  26.696367]\n",
      " [26.67486  26.689326 26.691022 26.689193 26.695754 26.695208 26.691275\n",
      "  26.693497 26.683006 26.701178 26.701661 26.701712 26.702835 26.699887\n",
      "  26.700074 26.842436]\n",
      " [26.581205 26.719882 26.714751 26.516352 26.701175 26.702735 26.80961\n",
      "  26.70592  26.665199 26.69215  26.690096 26.689044 26.688606 26.640571\n",
      "  26.694487 26.695135]\n",
      " [26.377778 26.721444 26.71805  26.614933 26.701373 26.703324 27.293923\n",
      "  26.706589 26.667881 26.695843 26.691385 26.687934 26.691261 24.070665\n",
      "  26.695828 26.69941 ]\n",
      " [24.426679 26.719655 26.722919 26.666668 26.698544 26.701352 26.487574\n",
      "  26.704277 26.669112 26.707582 26.692351 26.679472 26.697429 26.859106\n",
      "  26.699426 26.711758]]\n",
      "27.293923258154674\n",
      "24.07066477633815\n",
      "[[26.696416 26.696866 26.695944 26.694552 26.706305 26.701273 26.693244\n",
      "  26.70642  26.727074 26.686935 26.756223 26.706057 26.716638 26.66755\n",
      "  26.706893 26.731564]\n",
      " [26.699664 26.697476 26.697896 26.697905 26.695288 26.696419 26.698249\n",
      "  26.69523  26.689721 26.69832  26.690445 26.696412 26.695242 26.700902\n",
      "  26.696332 26.694067]\n",
      " [26.694623 26.697225 26.696969 26.697183 26.697941 26.697542 26.697009\n",
      "  26.697987 26.699117 26.697324 26.697329 26.697322 26.697336 26.696963\n",
      "  26.697326 26.697087]\n",
      " [26.721065 26.698085 26.700701 26.699474 26.671039 26.693827 26.701768\n",
      "  26.676478 26.682655 26.698399 29.778039 26.695368 26.692523 26.707141\n",
      "  26.695072 26.673946]\n",
      " [26.672276 26.696185 26.691763 26.696101 26.734679 26.70151  26.692708\n",
      "  26.72539  26.727882 26.695912 26.735769 26.699765 26.702647 26.690974\n",
      "  26.699966 26.70773 ]\n",
      " [26.662688 26.695615 26.688664 26.695987 26.724852 26.702972 26.690701\n",
      "  26.722494 26.755915 26.69621  26.732132 26.701268 26.704224 26.690172\n",
      "  26.700987 26.708819]\n",
      " [26.647614 26.696044 26.688277 26.696612 26.714013 26.702375 26.690591\n",
      "  26.714071 26.750963 26.699072 26.720366 26.702332 26.702497 26.693227\n",
      "  26.700359 26.706202]\n",
      " [26.618125 26.698317 26.689405 26.698297 26.70707  26.702189 26.690456\n",
      "  26.708043 26.734848 26.706668 26.711085 26.706935 26.699518 26.699353\n",
      "  26.699383 26.705473]]\n",
      "29.778039267613273\n",
      "26.618125273013433\n",
      "[[26.696628 26.701151 26.698423 26.70345  26.690857 26.692484 26.694548\n",
      "  26.731086 26.689876 24.134502 26.809128 26.647461 26.688013 26.465563\n",
      "  26.651493 26.423618]\n",
      " [26.700026 26.695142 26.696945 26.691745 26.698707 26.698056 26.697788\n",
      "  26.687432 26.698386 26.693542 26.663677 26.70283  26.698151 26.726119\n",
      "  26.701609 26.725726]\n",
      " [26.694579 26.698122 26.697382 26.693665 26.697059 26.697257 26.697334\n",
      "  26.697425 26.697236 26.697101 26.697279 26.697369 26.697308 26.697048\n",
      "  26.697331 26.697104]\n",
      " [26.706157 26.693859 26.696946 26.708278 26.697391 26.697697 26.697413\n",
      "  26.696797 26.698191 26.699357 26.696469 26.699355 26.697613 26.693515\n",
      "  26.699656 26.694295]\n",
      " [26.670986 26.711742 26.698199 26.675313 26.697311 26.696169 26.696505\n",
      "  26.700534 26.695355 26.703014 26.70425  26.689213 26.696074 26.72553\n",
      "  26.691976 26.723003]\n",
      " [26.616934 26.96022  26.699741 26.602812 26.700562 26.693693 26.680562\n",
      "  26.691856 26.69259  26.702666 26.688396 26.658174 26.690606 26.650578\n",
      "  26.687304 26.667011]\n",
      " [26.318437 27.005253 26.698305 26.615989 26.705426 26.694976 26.678601\n",
      "  26.692284 26.691087 26.70564  26.690139 26.679264 26.691559 26.660598\n",
      "  26.690064 26.675171]\n",
      " [27.531386 26.824282 26.696553 26.616365 26.704785 26.698501 26.677564\n",
      "  26.691077 26.687602 26.71701  26.691623 26.712725 26.688991 26.668424\n",
      "  26.692737 26.686783]]\n",
      "27.531386436829816\n",
      "24.134502384773047\n",
      "[[26.696594 26.787589 26.693563 26.698298 26.660669 26.705009 26.699427\n",
      "  26.699209 26.707042 26.596635 26.75105  26.90073  26.755131 26.678069\n",
      "  26.74919  26.690032]\n",
      " [26.699988 26.71056  26.699173 26.696642 26.685327 26.695635 26.696699\n",
      "  26.697469 26.694977 26.707133 26.690698 26.676806 26.690177 26.699852\n",
      "  26.691724 26.697885]\n",
      " [26.693197 26.694663 26.696363 26.697609 26.697105 26.697567 26.69743\n",
      "  26.697022 26.694106 26.697036 26.697253 26.697121 26.697275 26.697345\n",
      "  26.697642 26.697523]\n",
      " [26.707433 26.710142 26.701029 26.69649  26.697364 26.695054 26.696757\n",
      "  26.69796  26.699595 26.6959   26.694826 26.691295 26.694062 26.697975\n",
      "  26.701295 26.699592]\n",
      " [26.650371 26.669688 26.678753 26.708703 26.697466 26.705307 26.700823\n",
      "  26.694324 26.668113 26.711107 26.70951  26.723403 26.711723 26.692687\n",
      "  26.796066 26.692714]\n",
      " [26.27601  26.615348 26.917999 26.690896 26.684118 26.727151 26.691911\n",
      "  26.712013 26.710485 26.684974 26.252548 27.087037 26.905806 26.705876\n",
      "  26.712069 26.689655]\n",
      " [26.919971 26.631187 25.806951 26.689305 26.684658 26.714024 26.695728\n",
      "  26.723017 26.711941 26.688894 26.827005 26.840232 26.758879 26.696929\n",
      "  26.708507 26.686348]\n",
      " [26.876755 26.643314 26.59517  26.682553 26.689275 26.707781 26.72625\n",
      "  26.763852 26.716479 26.696581 26.736495 26.77451  26.716295 26.650018\n",
      "  26.705241 26.673101]]\n",
      "27.087037096783828\n",
      "25.806950580211254\n"
     ]
    }
   ],
   "source": [
    "for i in range(8):\n",
    "    print(np.round(features_pylode_single[i] / f_librascal[i], 6))\n",
    "    ratiomax = np.max(features_pylode_single[i] / f_librascal[i])\n",
    "    ratiomin = np.min(features_pylode_single[i] / f_librascal[i])\n",
    "    print(ratiomax)\n",
    "    print(ratiomin)"
   ]
  },
  {
   "cell_type": "code",
   "execution_count": 77,
   "id": "sharing-buddy",
   "metadata": {},
   "outputs": [
    {
     "data": {
      "text/plain": [
       "9.576771789374181"
      ]
     },
     "execution_count": 77,
     "metadata": {},
     "output_type": "execute_result"
    }
   ],
   "source": [
    "np.max(np.abs(features_pylode_single[i] / f_librascal[i])/2.82841)"
   ]
  },
  {
   "cell_type": "code",
   "execution_count": 78,
   "id": "satisfied-shark",
   "metadata": {},
   "outputs": [
    {
     "data": {
      "text/plain": [
       "(8, 8, 16)"
      ]
     },
     "execution_count": 78,
     "metadata": {},
     "output_type": "execute_result"
    }
   ],
   "source": [
    "features_pylode_single.shape"
   ]
  },
  {
   "cell_type": "markdown",
   "id": "reverse-universal",
   "metadata": {},
   "source": [
    "Comment: Coefficients now also agree for \"generic\" molecules (i.e. molecules that do not have any special symmetry) up to a global factor!"
   ]
  },
  {
   "cell_type": "markdown",
   "id": "bacterial-venezuela",
   "metadata": {},
   "source": [
    "## Table of Contents:\n",
    "* [Preparation](#preparation)\n",
    "    * [Exact Expression for Coefficients](#exactexpressions)\n",
    "    * [Get the features for dimers](#getfeatures)\n",
    "* [Coefficients for $l=1$](#l=1)\n",
    "    * [Explicit computation of coefficients for $l=1$](#l=1explicit)\n",
    "    * [Comparison to pyLODE/rascal for dimers](#l=1dimer)\n",
    "* [Coefficients for $l\\geq 2$](#lgeq2)\n",
    "    * [Coefficients for $l=2$](#l=2)\n",
    "    * [Coefficients for general $l$](#l_general)\n",
    "* [Coefficients for l=0](#l=0)\n",
    "    * [Exact coefficients](#l=0exact)\n",
    "    * [Comparison to pyLODE/rascal for center contribution](#l=0center)\n",
    "    * [Comparison to pyLODE/rascal for dimers](#l=0dimer)"
   ]
  }
 ],
 "metadata": {
  "kernelspec": {
   "display_name": "Python 3",
   "language": "python",
   "name": "python3"
  },
  "language_info": {
   "codemirror_mode": {
    "name": "ipython",
    "version": 3
   },
   "file_extension": ".py",
   "mimetype": "text/x-python",
   "name": "python",
   "nbconvert_exporter": "python",
   "pygments_lexer": "ipython3",
   "version": "3.8.5"
  }
 },
 "nbformat": 4,
 "nbformat_minor": 5
}
