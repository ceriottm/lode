{
 "cells": [
  {
   "cell_type": "code",
   "execution_count": 1,
   "id": "mental-mumbai",
   "metadata": {},
   "outputs": [],
   "source": [
    "%load_ext autoreload\n",
    "%autoreload 2"
   ]
  },
  {
   "cell_type": "code",
   "execution_count": 2,
   "id": "banner-facility",
   "metadata": {},
   "outputs": [],
   "source": [
    "import sys"
   ]
  },
  {
   "cell_type": "code",
   "execution_count": 3,
   "id": "joint-disorder",
   "metadata": {},
   "outputs": [],
   "source": [
    "sys.path.insert(0, '/ssd/scratch/khugueni/librascal-pypi-release/build')"
   ]
  },
  {
   "cell_type": "code",
   "execution_count": 4,
   "id": "swiss-hampton",
   "metadata": {},
   "outputs": [],
   "source": [
    "%matplotlib inline\n",
    "from matplotlib import pylab as plt\n",
    "\n",
    "import time\n",
    "import rascal\n",
    "\n",
    "import ase\n",
    "from ase import Atoms\n",
    "from ase.io import read, write\n",
    "from ase.build import make_supercell\n",
    "from ase.visualize import view\n",
    "from numpy.testing import assert_allclose\n",
    "import numpy as np\n",
    "from numpy.linalg import norm\n",
    "\n",
    "from scipy.integrate import quad\n",
    "from pylode.lib.radial_basis import innerprod\n",
    "from scipy.special import gamma, hyp1f1, sph_harm, iv\n",
    "\n",
    "# Descriptor related imports: compare the librascal and pyLODE versions of SOAP\n",
    "from rascal.representations import SphericalExpansion as RascalSphericalExpansion\n",
    "#from librascal.representations import SphericalExpansion as RascalSphericalExpansion\n",
    "import rascaline\n",
    "from pylode.lib.projection_coeffs import DensityProjectionCalculator"
   ]
  },
  {
   "cell_type": "markdown",
   "id": "radio-worthy",
   "metadata": {},
   "source": [
    "# Introduction"
   ]
  },
  {
   "cell_type": "markdown",
   "id": "ecological-trash",
   "metadata": {},
   "source": [
    "This notebook is used to compare the features obtained from rascaline, librascal and pylode. The goal is to fully understand the details of the three implementations to make sure that the same coefficients from different codes agree."
   ]
  },
  {
   "cell_type": "markdown",
   "id": "forced-porter",
   "metadata": {},
   "source": [
    "## Table of Contents:\n",
    "* [Preparation](#preparation)\n",
    "    * [Exact Expression for Coefficients](#exactexpressions)\n",
    "    * [Get the features for dimers](#getfeatures)\n",
    "* [Coefficients for $l=1$](#l=1)\n",
    "    * [Explicit computation of coefficients for $l=1$](#l=1explicit)\n",
    "    * [Comparison to pyLODE/rascal for dimers](#l=1dimer)\n",
    "* [Coefficients for $l\\geq 2$](#lgeq2)\n",
    "    * [Coefficients for $l=2$](#l=2)\n",
    "    * [Coefficients for general $l$](#l_general)\n",
    "* [Coefficients for l=0](#l=0)\n",
    "    * [Exact coefficients](#l=0exact)\n",
    "    * [Comparison to pyLODE/rascal for center contribution](#l=0center)\n",
    "    * [Comparison to pyLODE/rascal for dimers](#l=0dimer)"
   ]
  },
  {
   "cell_type": "markdown",
   "id": "defined-clinic",
   "metadata": {},
   "source": [
    "# Preparation: Get features from all three codes <a class=\"anchor\" id=\"preparation\"></a>"
   ]
  },
  {
   "cell_type": "markdown",
   "id": "funded-message",
   "metadata": {},
   "source": [
    "## Exact Expression for Coefficients <a class=\"anchor\" id=\"exactexpressions\"></a>"
   ]
  },
  {
   "cell_type": "markdown",
   "id": "following-adobe",
   "metadata": {},
   "source": [
    "### Define common hyperparameters"
   ]
  },
  {
   "cell_type": "code",
   "execution_count": 5,
   "id": "suspended-lease",
   "metadata": {},
   "outputs": [],
   "source": [
    "nmax = 8\n",
    "lmax = 3\n",
    "rcut = 6.\n",
    "smearing = 0.5"
   ]
  },
  {
   "cell_type": "markdown",
   "id": "rental-surrey",
   "metadata": {},
   "source": [
    "### Generate orthonormalization matrix <a class=\"anchor\" id=\"orthonormalization\"></a>"
   ]
  },
  {
   "cell_type": "code",
   "execution_count": 6,
   "id": "continental-concern",
   "metadata": {},
   "outputs": [],
   "source": [
    "Nradial = 1000\n",
    "sigma = np.ones(nmax, dtype=float)\n",
    "for i in range(1, nmax):\n",
    "    sigma[i] = np.sqrt(i)\n",
    "sigma *= rcut / nmax"
   ]
  },
  {
   "cell_type": "code",
   "execution_count": 7,
   "id": "square-admission",
   "metadata": {},
   "outputs": [],
   "source": [
    "# Define inner product matrix using analytical expression for primitive GTOs\n",
    "innerprods_primitive = np.zeros((nmax, nmax))\n",
    "for n1 in range(nmax):\n",
    "    for n2 in range(nmax):\n",
    "        sigeff = 0.5 * (1/sigma[n1]**2 + 1/sigma[n2]**2)\n",
    "        neff = 0.5 * (3 + n1 + n2)\n",
    "        innerprods_primitive[n1, n2] = 0.5 * sigeff**(-neff) * gamma(neff)\n",
    "\n",
    "eigvals, eigvecs = np.linalg.eigh(innerprods_primitive)\n",
    "transformation_primitive = eigvecs @ np.diag(np.sqrt(1. / eigvals)) @ eigvecs.T"
   ]
  },
  {
   "cell_type": "code",
   "execution_count": 8,
   "id": "listed-gamma",
   "metadata": {},
   "outputs": [],
   "source": [
    "normalizations = np.zeros((nmax,))\n",
    "for n in range(nmax):\n",
    "    normalizations[n] = 1/np.sqrt(innerprods_primitive[n, n])"
   ]
  },
  {
   "cell_type": "code",
   "execution_count": 9,
   "id": "graduate-standard",
   "metadata": {},
   "outputs": [],
   "source": [
    "# Inner product matrix for normalized GTOs\n",
    "innerprods_normalized = np.zeros((nmax, nmax))\n",
    "for n1 in range(nmax):\n",
    "    for n2 in range(nmax):\n",
    "        innerprods_normalized[n1, n2] = innerprods_primitive[n1, n2]\n",
    "        innerprods_normalized[n1, n2] *= normalizations[n1] * normalizations[n2]\n",
    "        \n",
    "eigvals, eigvecs = np.linalg.eigh(innerprods_normalized)\n",
    "transformation_normalized = eigvecs @ np.diag(np.sqrt(1. / eigvals)) @ eigvecs.T"
   ]
  },
  {
   "cell_type": "code",
   "execution_count": 10,
   "id": "forty-cinema",
   "metadata": {},
   "outputs": [],
   "source": [
    "use_gto_convention = 'normalized' # choose between 'normalized' and 'primitive'\n",
    "if use_gto_convention == 'normalized':\n",
    "    transformation = transformation_normalized\n",
    "    innerprods = innerprods_normalized\n",
    "elif use_gto_convention == 'primitive':\n",
    "    transformation = transformation_primitive\n",
    "    innerprods = innerprods_primitive\n",
    "    normalizations = np.ones_like(normalizations)"
   ]
  },
  {
   "cell_type": "code",
   "execution_count": 11,
   "id": "interpreted-sierra",
   "metadata": {},
   "outputs": [],
   "source": [
    "assert_allclose(transformation @ innerprods @ transformation, np.eye(nmax), atol=1e-5, rtol=1e-5)"
   ]
  },
  {
   "cell_type": "markdown",
   "id": "polish-education",
   "metadata": {},
   "source": [
    "### Fully analytical formula for general $l$"
   ]
  },
  {
   "cell_type": "code",
   "execution_count": 12,
   "id": "clear-development",
   "metadata": {},
   "outputs": [],
   "source": [
    "def coefficients_analytical_general_l(nmax, d, l):\n",
    "    # Define auxilary quantities and prefactors\n",
    "    a = 1. / (2 * smearing**2)\n",
    "    lplus3half = l + 1.5\n",
    "    prefac_global = np.pi**1.5 * sph_harm(0, l, 0, 0).real * a**l / gamma(lplus3half)\n",
    "    prefac_global *= d**l * np.exp(-a*d**2)\n",
    "    prefac_global /= (np.pi * smearing**2)**(3/4)\n",
    "\n",
    "    # Start main loop\n",
    "    featvec = np.zeros((nmax))\n",
    "    for n in range(nmax):\n",
    "        nlplus3half = (3 + n + l) / 2\n",
    "        b = 1. / (2 * sigma[n]**2)\n",
    "        prefac_n_dep = gamma(nlplus3half) / (a+b)**nlplus3half\n",
    "        hyp = hyp1f1(nlplus3half, lplus3half, a**2*d**2/(a+b))\n",
    "        featvec[n] = normalizations[n] * prefac_n_dep * hyp\n",
    "\n",
    "    #return prefac_global * featvec\n",
    "    return prefac_global * (transformation @ featvec)   "
   ]
  },
  {
   "cell_type": "markdown",
   "id": "prompt-grounds",
   "metadata": {},
   "source": [
    "### Semianalytical (final integral performed numerically) formula for general l"
   ]
  },
  {
   "cell_type": "code",
   "execution_count": 13,
   "id": "expressed-weapon",
   "metadata": {},
   "outputs": [],
   "source": [
    "def coefficients_semianalytical_general_l(nmax, d, l):\n",
    "    # Prefactor\n",
    "    a = 1. / (2 * smearing**2)\n",
    "    prefac_global = 4*np.pi * sph_harm(0, l, 0, 0).real * np.exp(-a*d**2)\n",
    "    prefac_global /= (np.pi * smearing**2)**(3/4)\n",
    "\n",
    "    # Main loop performing the numerical integration\n",
    "    featvec = np.zeros((nmax))\n",
    "    for n in range(nmax):\n",
    "        # Define the integrand consisting of a power-law, Gaussian and Bessel part\n",
    "        b = 1. / (2 * sigma[n]**2)\n",
    "        gaussian = lambda r: np.exp(-(a+b)*r**2)\n",
    "        power = lambda r: r**(2+n)\n",
    "        mod_sph_bessel = lambda x: np.sqrt(np.pi/2/x) * iv(l + 0.5, x)\n",
    "        bessel = lambda r: mod_sph_bessel(2*a*d*r)\n",
    "        integrand = lambda r: power(r) * gaussian(r) * bessel(r)\n",
    "        \n",
    "        # Numerical integration\n",
    "        eps = 1e-10\n",
    "        featvec[n] = normalizations[n] * quad(integrand, eps, 4.5*rcut)[0]\n",
    "\n",
    "    #return prefac_global * featvec\n",
    "    return prefac_global * (transformation @ featvec)"
   ]
  },
  {
   "cell_type": "markdown",
   "id": "scientific-consortium",
   "metadata": {},
   "source": [
    "## Get the features for dimers <a class=\"anchor\" id=\"getfeatures\"></a>"
   ]
  },
  {
   "cell_type": "markdown",
   "id": "electoral-oasis",
   "metadata": {},
   "source": [
    "### Define structure to be used for the comparison\n",
    "The main differences between librascal and the pyLODE implementation are the presence of a smooth cutoff function and the potentially different order in which neighbors are stored. We thus wish to generate structures for which these two effects do not alter the coefficients too much. For this task, we use clusters of Oxygen atoms for which all atoms have a mutual distance of less than 3A. Then, even for a relatively large smearing of 1.5A, the atomic densities will be reasonably contained within a ball of cutoff radius 6 that will also be used for the cutoff."
   ]
  },
  {
   "cell_type": "code",
   "execution_count": 14,
   "id": "floppy-subject",
   "metadata": {},
   "outputs": [],
   "source": [
    "frames = []\n",
    "cell = np.eye(3) * 16\n",
    "Ndimers = 15\n",
    "distances = np.linspace(1., 2.5, Ndimers)\n",
    "for d in distances:\n",
    "    positions = [[1,1,1],[1,1,1+d]]\n",
    "    frame = Atoms('O2', positions=positions, cell=cell, pbc=True)\n",
    "    frames.append(frame)"
   ]
  },
  {
   "cell_type": "markdown",
   "id": "funded-operations",
   "metadata": {},
   "source": [
    "### Get the features from pyLODE"
   ]
  },
  {
   "cell_type": "code",
   "execution_count": 15,
   "id": "happy-sydney",
   "metadata": {},
   "outputs": [],
   "source": [
    "hypers = {\n",
    "    'smearing':smearing,\n",
    "    'max_angular':lmax,\n",
    "    'max_radial':nmax,\n",
    "    'cutoff_radius':rcut,\n",
    "    'potential_exponent':0,\n",
    "    'radial_basis': 'gto',\n",
    "    'compute_gradients':False,\n",
    "    'subtract_center_contribution':False,\n",
    "    }\n",
    "\n",
    "calculator_pylode = DensityProjectionCalculator(**hypers)\n",
    "calculator_pylode.transform(frames)\n",
    "features_pylode = calculator_pylode.features"
   ]
  },
  {
   "cell_type": "markdown",
   "id": "random-corporation",
   "metadata": {},
   "source": [
    "### Get the features from librascal"
   ]
  },
  {
   "cell_type": "code",
   "execution_count": 16,
   "id": "undefined-morning",
   "metadata": {},
   "outputs": [],
   "source": [
    "# define the parameters of the spherical expansion\n",
    "hypers = dict(interaction_cutoff=rcut, \n",
    "              max_radial=nmax, \n",
    "              max_angular=lmax, \n",
    "              gaussian_sigma_constant=smearing,\n",
    "              gaussian_sigma_type=\"Constant\",\n",
    "              cutoff_smooth_width=0.1,\n",
    "              radial_basis=\"GTO\",\n",
    "              compute_gradients=False,\n",
    "              expansion_by_species_method='structure wise',\n",
    "              optimization=dict(Spline=dict(accuracy=1e-12)),\n",
    "              )\n",
    "\n",
    "calculator_librascal = RascalSphericalExpansion(**hypers)\n",
    "# compute the representation of all the structures\n",
    "features_librascal = calculator_librascal.transform(frames).get_features(calculator_librascal)"
   ]
  },
  {
   "cell_type": "markdown",
   "id": "rental-working",
   "metadata": {},
   "source": [
    "### Get the features from Rascaline"
   ]
  },
  {
   "cell_type": "code",
   "execution_count": 17,
   "id": "bottom-shower",
   "metadata": {},
   "outputs": [],
   "source": [
    "HYPER_PARAMETERS = {\n",
    "    \"cutoff\": rcut,\n",
    "    \"max_radial\": nmax,\n",
    "    \"max_angular\": lmax,\n",
    "    \"atomic_gaussian_width\": smearing,\n",
    "    \"center_atom_weight\": 1.0,\n",
    "    \"radial_basis\": {\n",
    "        \"Gto\": {},\n",
    "    },\n",
    "    \"cutoff_function\": {\n",
    "        \"Step\": {\"width\": 1e-3},\n",
    "    },\n",
    "}\n",
    "\n",
    "calculator_rascaline = rascaline.SphericalExpansion(**HYPER_PARAMETERS)\n",
    "\n",
    "# run the actual calculation\n",
    "descriptor_rascaline = calculator_rascaline.compute(frames)\n",
    "descriptor_rascaline.keys_to_samples('species_center')\n",
    "descriptor_rascaline.keys_to_samples('species_neighbor')"
   ]
  },
  {
   "cell_type": "markdown",
   "id": "beautiful-guest",
   "metadata": {},
   "source": [
    "# Compare coefficients for $l=1$ <a class=\"anchor\" id=\"l=1\"></a>"
   ]
  },
  {
   "cell_type": "markdown",
   "id": "coastal-animal",
   "metadata": {},
   "source": [
    "## Explicit computation of coefficients for $l=1$ <a class=\"anchor\" id=\"l=1explicit\"></a>"
   ]
  },
  {
   "cell_type": "markdown",
   "id": "completed-future",
   "metadata": {},
   "source": [
    "To make sure that we understand every single aspect of the codes including all the prefactors and conventions, we compute the exact coefficients we would expect from an Oxygen molecule oriented along the z-axis. The computations are done using three (four) different methods: a fully analytical approach applicable to all $l$, a semi-analytical approach in which the final radial integral is evaluated numerically also valid for all $l$, and finally an explicit formula that was obtained directly for the special case $l=1$ starting at the very definition. For convenience, we also include the complete analytical formula for the special case $l=1$."
   ]
  },
  {
   "cell_type": "markdown",
   "id": "realistic-sellers",
   "metadata": {},
   "source": [
    "### Fully analytical formula for $l=1$"
   ]
  },
  {
   "cell_type": "code",
   "execution_count": 18,
   "id": "welsh-python",
   "metadata": {},
   "outputs": [],
   "source": [
    "def coefficients_analytical_l1(nmax, d):\n",
    "    # Define auxilary quantities and prefactors\n",
    "    a = 1. / (2 * smearing**2)\n",
    "    lplus3half = 2.5\n",
    "    prefac_global = np.pi * np.sqrt(3/4) * a / gamma(lplus3half) * d * np.exp(-a*d**2)\n",
    "    prefac_global /= (np.pi*smearing**2)**(3/4)\n",
    "    \n",
    "    # Start main loop\n",
    "    featvec = np.zeros((nmax))\n",
    "    for n in range(nmax):\n",
    "        # Compute contribution for primitive GTO function\n",
    "        nlplus3half = (4 + n) / 2\n",
    "        b = 1. / (2 * sigma[n]**2)\n",
    "        prefac_n_dep = gamma(nlplus3half) / (a+b)**nlplus3half\n",
    "        hyp = hyp1f1(nlplus3half, lplus3half, a**2*d**2/(a+b))\n",
    "        featvec[n] = normalizations[n] * prefac_n_dep * hyp\n",
    "\n",
    "    return prefac_global * (transformation @ featvec)"
   ]
  },
  {
   "cell_type": "markdown",
   "id": "frequent-cooler",
   "metadata": {},
   "source": [
    "### Semianalytical (final integral performed numerically) formula for $l=1$"
   ]
  },
  {
   "cell_type": "code",
   "execution_count": 19,
   "id": "accurate-mumbai",
   "metadata": {},
   "outputs": [],
   "source": [
    "def coefficients_semianalytical_l1(nmax, d):\n",
    "    # Prefactor\n",
    "    a = 1. / (2 * smearing**2)\n",
    "    prefac = np.sqrt(1.5) / (2 * np.pi * smearing**3)\n",
    "    prefac *= np.exp(-a*d**2)\n",
    "    prefac *= (2*np.pi*smearing**2)**1.5 / (np.pi*smearing**2)**(3/4)\n",
    "    \n",
    "    # Start main loop\n",
    "    featvec = np.zeros((nmax,))\n",
    "    for n in range(nmax):\n",
    "        # Start defining functions appearing in integrand\n",
    "        b = 1. / (2 * sigma[n]**2)\n",
    "        gaussian = lambda r: np.exp(-(a+b)*r**2)\n",
    "        power = lambda r: r**(2+n)\n",
    "        mod_sph_bessel = lambda x: (x*np.cosh(x) - np.sinh(x))/x**2\n",
    "        bessel = lambda r: mod_sph_bessel(2*a*d*r)\n",
    "\n",
    "        integrand = lambda r: power(r) * gaussian(r) * bessel(r) * 2\n",
    "        \n",
    "        # Numerical Integration\n",
    "        featvec[n] = normalizations[n] * quad(integrand, 1e-10, 4.5 * rcut)[0]\n",
    "    \n",
    "    return prefac * (transformation @ featvec)"
   ]
  },
  {
   "cell_type": "markdown",
   "id": "satisfied-copying",
   "metadata": {},
   "source": [
    "### Compare the coefficients obtained using different methods"
   ]
  },
  {
   "cell_type": "code",
   "execution_count": 20,
   "id": "loose-problem",
   "metadata": {},
   "outputs": [],
   "source": [
    "features_analytical_l1 = np.zeros((len(distances), nmax))\n",
    "features_semianalytical_l1 = np.zeros((len(distances), nmax))\n",
    "features_analytical_general = np.zeros((len(distances), nmax))\n",
    "features_semianalytical_general = np.zeros((len(distances), nmax))\n",
    "\n",
    "for i_dist, d in enumerate(distances):\n",
    "    features_analytical_l1[i_dist] = coefficients_analytical_l1(nmax, d)\n",
    "    features_semianalytical_l1[i_dist] = coefficients_semianalytical_l1(nmax, d)\n",
    "    features_analytical_general[i_dist] = coefficients_analytical_general_l(nmax, d, l=1)\n",
    "    features_semianalytical_general[i_dist] = coefficients_semianalytical_general_l(nmax, d, l=1)"
   ]
  },
  {
   "cell_type": "code",
   "execution_count": 21,
   "id": "productive-entry",
   "metadata": {},
   "outputs": [
    {
     "name": "stdout",
     "output_type": "stream",
     "text": [
      "1.6113655467566215e-16\n",
      "3.2572434721308636e-14\n",
      "6.728896395083236e-15\n"
     ]
    }
   ],
   "source": [
    "delta1 = np.linalg.norm(features_analytical_l1 - features_analytical_general)\n",
    "delta2 = np.linalg.norm(features_analytical_general - features_semianalytical_general)\n",
    "delta3 = np.linalg.norm(features_semianalytical_l1 - features_semianalytical_general)\n",
    "print(delta1)\n",
    "print(delta2)\n",
    "print(delta3)"
   ]
  },
  {
   "cell_type": "markdown",
   "id": "joint-history",
   "metadata": {},
   "source": [
    "## Compare the exact values with those obtained from the three codes <a class=\"anchor\" id=\"l=1dimer\"></a>"
   ]
  },
  {
   "cell_type": "markdown",
   "id": "mathematical-implement",
   "metadata": {},
   "source": [
    "The exact coefficients obtained using the analytical formula are now compared to those obtained from the three codes."
   ]
  },
  {
   "cell_type": "markdown",
   "id": "strong-tiger",
   "metadata": {},
   "source": [
    "### Get the $l=1$ (and $m=0$) part of the features of the three codes"
   ]
  },
  {
   "cell_type": "code",
   "execution_count": 22,
   "id": "aggregate-crime",
   "metadata": {},
   "outputs": [
    {
     "name": "stdout",
     "output_type": "stream",
     "text": [
      "(30, 3, 8)\n",
      "(15, 8)\n"
     ]
    }
   ],
   "source": [
    "features_L1_rascaline = descriptor_rascaline.block(spherical_harmonics_l = 1).values\n",
    "print(features_L1_rascaline.shape)\n",
    "features_L1_rascaline = features_L1_rascaline[::2,1,:] # the second index corresponds to angular momentum m\n",
    "print(features_L1_rascaline.shape)"
   ]
  },
  {
   "cell_type": "code",
   "execution_count": 23,
   "id": "green-native",
   "metadata": {},
   "outputs": [],
   "source": [
    "features_L1_librascal = features_librascal[0::2, 2::(lmax+1)**2]"
   ]
  },
  {
   "cell_type": "code",
   "execution_count": 24,
   "id": "portuguese-dividend",
   "metadata": {},
   "outputs": [],
   "source": [
    "features_L1_pylode = features_pylode[0::2, 0, :, 2]"
   ]
  },
  {
   "cell_type": "code",
   "execution_count": 25,
   "id": "miniature-ottawa",
   "metadata": {},
   "outputs": [],
   "source": [
    "for i,features in enumerate([features_L1_rascaline, features_L1_librascal, features_L1_pylode, features_analytical_l1]):\n",
    "    assert features.shape == (len(distances), nmax)"
   ]
  },
  {
   "cell_type": "code",
   "execution_count": 26,
   "id": "scenic-exhaust",
   "metadata": {},
   "outputs": [
    {
     "name": "stdout",
     "output_type": "stream",
     "text": [
      "[[1.00003247 0.99997936 1.00002793 0.9998034  0.99328528 0.99473118\n",
      "  1.03319436 1.00174156]\n",
      " [1.00015923 0.9999223  1.00006652 0.99925532 1.00176125 1.00215712\n",
      "  1.0018054  1.00124966]\n",
      " [1.00020005 0.99991815 1.00005084 0.9992282  1.00079993 1.0009858\n",
      "  1.00089068 1.00068117]\n",
      " [1.00010587 0.99996482 1.00001442 0.99977269 1.00018124 1.00022929\n",
      "  1.00020245 1.00011859]\n",
      " [0.99989343 1.00003771 0.99998302 1.0002187  0.99979548 0.99970475\n",
      "  0.9996878  0.99964989]\n",
      " [0.99966945 1.00009872 0.99997004 1.00027723 0.99964717 0.99941948\n",
      "  0.99937672 0.99932598]\n",
      " [0.99960632 1.00010877 0.99997663 1.00015169 0.99971527 0.99938788\n",
      "  0.99928679 0.99914098]\n",
      " [0.99983853 1.00004094 0.99999508 1.00002298 0.99993205 0.99969773\n",
      "  0.99944869 0.99891868]\n",
      " [1.00031086 0.99989086 1.00001395 0.99995408 1.00017692 0.99632302\n",
      "  0.9986527  1.01056136]\n",
      " [1.00072402 0.99968141 1.00002325 0.99994357 1.00029586 0.99941587\n",
      "  0.999691   1.00079267]\n",
      " [1.00072041 0.99945804 1.00001842 0.99996709 1.00019685 0.99983807\n",
      "  1.00009248 1.00098118]\n",
      " [1.00019319 0.99920168 1.00000197 0.99999864 0.9999796  1.00009826\n",
      "  1.00045689 1.0014212 ]\n",
      " [0.99941007 0.99929715 0.99998259 1.00002016 0.99984229 1.0002404\n",
      "  1.00080565 1.00202394]\n",
      " [0.99886033 0.99940392 0.99997191 1.00002461 0.99984348 1.00028024\n",
      "  1.00122681 1.00294721]\n",
      " [0.9990245  0.99968804 0.99997993 1.00001475 0.99991065 1.00025357\n",
      "  1.00215903 1.00477023]]\n"
     ]
    }
   ],
   "source": [
    "print(features_analytical_l1 / features_L1_pylode)"
   ]
  },
  {
   "cell_type": "code",
   "execution_count": 27,
   "id": "public-cooperation",
   "metadata": {},
   "outputs": [
    {
     "name": "stdout",
     "output_type": "stream",
     "text": [
      "[[1.         1.         1.         1.         1.         1.\n",
      "  1.         1.        ]\n",
      " [1.         1.         1.         1.         1.         1.\n",
      "  1.         1.        ]\n",
      " [1.         1.         1.         1.         1.         1.\n",
      "  1.         1.        ]\n",
      " [1.         1.         1.         1.         1.         1.\n",
      "  1.         1.        ]\n",
      " [1.         1.         1.         1.         1.         1.\n",
      "  1.         1.        ]\n",
      " [1.         1.         1.         1.         1.         1.\n",
      "  1.         1.        ]\n",
      " [1.         1.         1.         1.         1.         1.\n",
      "  1.         1.        ]\n",
      " [1.         1.         1.         1.         1.         1.\n",
      "  1.         1.        ]\n",
      " [1.         1.         1.         1.         1.         1.\n",
      "  1.         1.00000001]\n",
      " [1.         1.         1.         1.         1.         1.\n",
      "  1.         1.        ]\n",
      " [1.         1.         1.         1.         1.         1.\n",
      "  1.         1.        ]\n",
      " [1.         1.         1.         1.         1.         1.\n",
      "  1.         1.        ]\n",
      " [1.         1.         1.         1.         1.         1.\n",
      "  1.         1.        ]\n",
      " [1.         1.         1.         1.         1.         1.\n",
      "  1.         1.        ]\n",
      " [1.         1.         1.         1.         1.         1.\n",
      "  1.         1.        ]]\n"
     ]
    }
   ],
   "source": [
    "print(features_analytical_l1 / features_L1_rascaline)"
   ]
  },
  {
   "cell_type": "code",
   "execution_count": 28,
   "id": "active-jungle",
   "metadata": {},
   "outputs": [
    {
     "name": "stdout",
     "output_type": "stream",
     "text": [
      "[[26.69730293 26.69730293 26.69730293 26.69730293 26.69730293 26.69730293\n",
      "  26.69730293 26.69730293]\n",
      " [26.69730293 26.69730293 26.69730293 26.69730293 26.69730293 26.69730293\n",
      "  26.69730293 26.69730293]\n",
      " [26.69730293 26.69730293 26.69730293 26.69730293 26.69730293 26.69730293\n",
      "  26.69730293 26.69730293]\n",
      " [26.69730293 26.69730293 26.69730293 26.69730293 26.69730293 26.69730293\n",
      "  26.69730293 26.69730293]\n",
      " [26.69730293 26.69730293 26.69730293 26.69730293 26.69730293 26.69730293\n",
      "  26.69730293 26.69730293]\n",
      " [26.69730293 26.69730293 26.69730293 26.69730293 26.69730293 26.69730293\n",
      "  26.69730293 26.69730293]\n",
      " [26.69730293 26.69730293 26.69730293 26.69730293 26.69730293 26.69730293\n",
      "  26.69730293 26.69730293]\n",
      " [26.69730293 26.69730293 26.69730293 26.69730293 26.69730293 26.69730293\n",
      "  26.69730293 26.69730293]\n",
      " [26.69730293 26.69730293 26.69730293 26.69730293 26.69730293 26.69730293\n",
      "  26.69730293 26.69730294]\n",
      " [26.69730293 26.69730293 26.69730293 26.69730293 26.69730293 26.69730293\n",
      "  26.69730293 26.69730293]\n",
      " [26.69730293 26.69730293 26.69730293 26.69730293 26.69730293 26.69730293\n",
      "  26.69730293 26.69730293]\n",
      " [26.69730293 26.69730293 26.69730293 26.69730293 26.69730293 26.69730293\n",
      "  26.69730293 26.69730293]\n",
      " [26.69730293 26.69730293 26.69730293 26.69730293 26.69730293 26.69730293\n",
      "  26.69730293 26.69730293]\n",
      " [26.69730293 26.69730293 26.69730293 26.69730293 26.69730293 26.69730293\n",
      "  26.69730293 26.69730293]\n",
      " [26.69730293 26.69730293 26.69730293 26.69730293 26.69730293 26.69730293\n",
      "  26.69730292 26.69730292]]\n"
     ]
    }
   ],
   "source": [
    "print(features_semianalytical_general / features_L1_librascal)"
   ]
  },
  {
   "cell_type": "markdown",
   "id": "comic-avatar",
   "metadata": {},
   "source": [
    "### Check the distance dependence of the features\n",
    "This is used to see whether some potential discrepancies have a dependence on the pair distance. To provide an example: if the smooth cutoff is not chosen properly, this might show up here."
   ]
  },
  {
   "cell_type": "code",
   "execution_count": 29,
   "id": "passing-funds",
   "metadata": {},
   "outputs": [
    {
     "name": "stdout",
     "output_type": "stream",
     "text": [
      "Distance  0\n",
      "[0.99996753 1.00002064 0.99997207 1.00019664 1.00676011 1.00529673\n",
      " 0.9678721  0.99826147]\n",
      "[0.03745697 0.03745697 0.03745697 0.03745697 0.03745697 0.03745697\n",
      " 0.03745697 0.03745697]\n",
      "\n",
      "Distance  1\n",
      "[0.99984079 1.0000777  0.99993349 1.00074524 0.99824185 0.99784753\n",
      " 0.99819786 0.99875189]\n",
      "[0.03745697 0.03745697 0.03745697 0.03745697 0.03745697 0.03745697\n",
      " 0.03745697 0.03745697]\n",
      "\n",
      "Distance  2\n",
      "[0.99979999 1.00008185 0.99994916 1.0007724  0.99920071 0.99901517\n",
      " 0.99911011 0.99931929]\n",
      "[0.03745697 0.03745697 0.03745697 0.03745697 0.03745697 0.03745697\n",
      " 0.03745697 0.03745697]\n",
      "\n",
      "Distance  3\n",
      "[0.99989414 1.00003518 0.99998558 1.00022737 0.99981879 0.99977076\n",
      " 0.9997976  0.99988142]\n",
      "[0.03745697 0.03745697 0.03745697 0.03745697 0.03745697 0.03745697\n",
      " 0.03745697 0.03745697]\n",
      "\n",
      "Distance  4\n",
      "[1.00010658 0.99996229 1.00001698 0.99978135 1.00020457 1.00029534\n",
      " 1.0003123  1.00035023]\n",
      "[0.03745697 0.03745697 0.03745697 0.03745697 0.03745697 0.03745697\n",
      " 0.03745697 0.03745697]\n",
      "\n",
      "Distance  5\n",
      "[1.00033066 0.99990129 1.00002996 0.99972285 1.00035296 1.00058086\n",
      " 1.00062367 1.00067447]\n",
      "[0.03745697 0.03745697 0.03745697 0.03745697 0.03745697 0.03745697\n",
      " 0.03745697 0.03745697]\n",
      "\n",
      "Distance  6\n",
      "[1.00039383 0.99989124 1.00002338 0.99984833 1.00028481 1.00061249\n",
      " 1.00071372 1.00085976]\n",
      "[0.03745697 0.03745697 0.03745697 0.03745697 0.03745697 0.03745697\n",
      " 0.03745697 0.03745697]\n",
      "\n",
      "Distance  7\n",
      "[1.00016149 0.99995906 1.00000492 0.99997702 1.00006796 1.00030236\n",
      " 1.00055161 1.00108249]\n",
      "[0.03745697 0.03745697 0.03745697 0.03745697 0.03745697 0.03745697\n",
      " 0.03745697 0.03745697]\n",
      "\n",
      "Distance  8\n",
      "[0.99968924 1.00010915 0.99998605 1.00004592 0.99982311 1.00369055\n",
      " 1.00134912 0.98954901]\n",
      "[0.03745697 0.03745697 0.03745697 0.03745697 0.03745697 0.03745697\n",
      " 0.03745697 0.03745697]\n",
      "\n",
      "Distance  9\n",
      "[0.99927651 1.00031869 0.99997675 1.00005644 0.99970423 1.00058447\n",
      " 1.0003091  0.99920796]\n",
      "[0.03745697 0.03745697 0.03745697 0.03745697 0.03745697 0.03745697\n",
      " 0.03745697 0.03745697]\n",
      "\n",
      "Distance  10\n",
      "[0.99928011 1.00054225 0.99998158 1.00003291 0.99980319 1.00016196\n",
      " 0.99990752 0.99901978]\n",
      "[0.03745697 0.03745697 0.03745697 0.03745697 0.03745697 0.03745697\n",
      " 0.03745697 0.03745697]\n",
      "\n",
      "Distance  11\n",
      "[0.99980684 1.00079896 0.99999803 1.00000136 1.0000204  0.99990175\n",
      " 0.99954332 0.99858082]\n",
      "[0.03745697 0.03745697 0.03745697 0.03745697 0.03745697 0.03745697\n",
      " 0.03745697 0.03745697]\n",
      "\n",
      "Distance  12\n",
      "[1.00059028 1.00070334 1.00001741 0.99997984 1.00015773 0.99975966\n",
      " 0.999195   0.99798015]\n",
      "[0.03745697 0.03745697 0.03745697 0.03745697 0.03745697 0.03745697\n",
      " 0.03745697 0.03745697]\n",
      "\n",
      "Distance  13\n",
      "[1.00114097 1.00059644 1.00002809 0.99997539 1.00015655 0.99971984\n",
      " 0.99877469 0.99706145]\n",
      "[0.03745697 0.03745697 0.03745697 0.03745697 0.03745697 0.03745697\n",
      " 0.03745697 0.03745697]\n",
      "\n",
      "Distance  14\n",
      "[1.00097645 1.00031206 1.00002007 0.99998525 1.00008936 0.9997465\n",
      " 0.99784562 0.99525242]\n",
      "[0.03745697 0.03745697 0.03745697 0.03745697 0.03745697 0.03745697\n",
      " 0.03745697 0.03745697]\n",
      "\n"
     ]
    }
   ],
   "source": [
    "for i, d in enumerate(distances):\n",
    "    print('Distance ', i)\n",
    "    #coeffs_rascaline = descriptor_rascaline.values[2*i].reshape(((lmax+1)**2, nmax)).T\n",
    "    coeffs_librascal = features_librascal[2*i].reshape((nmax,(lmax+1)**2))\n",
    "    coeffs_pylode = features_pylode[2*i,0]\n",
    "    \n",
    "    for coeffs in [coeffs_pylode, coeffs_librascal]:\n",
    "        print(coeffs[:,2] / features_analytical_general[i])\n",
    "    \n",
    "    print()"
   ]
  },
  {
   "cell_type": "markdown",
   "id": "joined-wisconsin",
   "metadata": {},
   "source": [
    "# Compare coefficients for $l\\geq 2$ <a class=\"anchor\" id=\"lgeq2\"></a>"
   ]
  },
  {
   "cell_type": "markdown",
   "id": "tender-defensive",
   "metadata": {},
   "source": [
    "## Compare coefficients for $l=2$ <a class=\"anchor\" id=\"l=2\"></a>"
   ]
  },
  {
   "cell_type": "code",
   "execution_count": 30,
   "id": "taken-setting",
   "metadata": {},
   "outputs": [],
   "source": [
    "lm_index = 6 # l**2 + l"
   ]
  },
  {
   "cell_type": "code",
   "execution_count": 31,
   "id": "secret-silly",
   "metadata": {},
   "outputs": [
    {
     "name": "stdout",
     "output_type": "stream",
     "text": [
      "Shapes of feature vectors\n",
      "librascal (30, 128)\n"
     ]
    }
   ],
   "source": [
    "print('Shapes of feature vectors')\n",
    "#print('rascaline', descriptor_rascaline.values.shape)\n",
    "print('librascal', features_librascal.shape)"
   ]
  },
  {
   "cell_type": "code",
   "execution_count": 32,
   "id": "parallel-trailer",
   "metadata": {},
   "outputs": [],
   "source": [
    "features_L2_rascaline = descriptor_rascaline.block(spherical_harmonics_l = 2).values\n",
    "features_L2_rascaline = features_L2_rascaline[::2,2,:] # the second index corresponds to angular momentum m"
   ]
  },
  {
   "cell_type": "code",
   "execution_count": 33,
   "id": "black-jewelry",
   "metadata": {},
   "outputs": [],
   "source": [
    "features_L2_librascal = features_librascal[0::2, lm_index::(lmax+1)**2]"
   ]
  },
  {
   "cell_type": "code",
   "execution_count": 34,
   "id": "brave-watson",
   "metadata": {},
   "outputs": [],
   "source": [
    "features_L2_pylode = features_pylode[0::2, 0, :, lm_index]"
   ]
  },
  {
   "cell_type": "code",
   "execution_count": 35,
   "id": "unique-serum",
   "metadata": {},
   "outputs": [],
   "source": [
    "features_analytical_l2 = np.zeros((len(distances), nmax))\n",
    "features_numerical_l2 = np.zeros((len(distances), nmax))\n",
    "\n",
    "for i_dist, d in enumerate(distances):\n",
    "    features_analytical_l2[i_dist] = coefficients_analytical_general_l(nmax, d, l=2)\n",
    "    features_numerical_l2[i_dist] = coefficients_semianalytical_general_l(nmax, d, l=2)"
   ]
  },
  {
   "cell_type": "code",
   "execution_count": 36,
   "id": "medical-implementation",
   "metadata": {},
   "outputs": [],
   "source": [
    "delta_l2 = np.linalg.norm(features_analytical_l2 - features_numerical_l2)"
   ]
  },
  {
   "cell_type": "code",
   "execution_count": 37,
   "id": "breeding-transcription",
   "metadata": {},
   "outputs": [
    {
     "name": "stdout",
     "output_type": "stream",
     "text": [
      "[[1.00057156 0.99984432 1.0000789  0.99884375 1.00354572 1.00376924\n",
      "  1.00244749 1.00145475]\n",
      " [1.00017616 0.99996762 1.00000215 0.99985228 1.00016991 1.00015584\n",
      "  1.00006923 0.99999887]\n",
      " [0.99967248 1.00008497 0.99996237 1.00082903 0.99944038 0.99931945\n",
      "  0.99938007 0.99947019]\n",
      " [0.99931799 1.00014228 0.99995967 1.0008465  0.99941564 0.9992552\n",
      "  0.99931257 0.99940032]\n",
      " [0.99934811 1.00011436 0.99997958 1.00034373 0.99967961 0.9995495\n",
      "  0.99956501 0.99958474]\n",
      " [0.99984398 1.0000111  1.00000432 0.99998286 1.00001047 1.00000212\n",
      "  0.99996807 0.99987141]\n",
      " [1.00060348 0.999876   1.00002015 0.99986739 1.00025391 1.00050771\n",
      "  1.00041411 1.00010433]\n",
      " [1.00114266 0.99977843 1.00002102 0.99989359 1.00030965 1.00119281\n",
      "  1.00092358 0.99988863]\n",
      " [1.00096115 0.99980464 1.00000891 0.99996275 1.0001518  0.9989552\n",
      "  1.00024613 1.00462892]\n",
      " [0.99998265 1.00006807 0.99999159 1.00001904 0.99987142 1.00038422\n",
      "  1.00080216 1.00195443]\n",
      " [0.99875929 1.00090066 0.9999788  1.00004251 0.9996747  1.00045543\n",
      "  1.00085199 1.00178308]\n",
      " [0.99814533 0.94576824 0.99997813 1.00003613 0.99970706 1.00035297\n",
      "  1.00080232 1.00180836]\n",
      " [0.99871975 0.99930127 0.99999171 1.00001387 0.99987608 1.00020873\n",
      "  1.0007608  1.00204864]\n",
      " [1.00045318 1.00026251 1.00001469 0.99999148 1.0000089  1.00009936\n",
      "  1.00088655 1.00276417]\n",
      " [1.00275979 1.00068741 1.00003591 0.99998024 1.00004544 1.00007449\n",
      "  1.00169126 1.0046766 ]]\n"
     ]
    }
   ],
   "source": [
    "print(features_L2_pylode / features_analytical_l2)"
   ]
  },
  {
   "cell_type": "code",
   "execution_count": 38,
   "id": "catholic-seeking",
   "metadata": {},
   "outputs": [
    {
     "name": "stdout",
     "output_type": "stream",
     "text": [
      "[[1.00057156 0.99984432 1.0000789  0.99884375 1.00354572 1.00376924\n",
      "  1.00244749 1.00145475]\n",
      " [1.00017616 0.99996762 1.00000215 0.99985228 1.00016991 1.00015584\n",
      "  1.00006923 0.99999887]\n",
      " [0.99967248 1.00008497 0.99996237 1.00082903 0.99944038 0.99931945\n",
      "  0.99938007 0.99947019]\n",
      " [0.99931799 1.00014228 0.99995967 1.0008465  0.99941564 0.9992552\n",
      "  0.99931257 0.99940032]\n",
      " [0.99934811 1.00011436 0.99997958 1.00034373 0.99967961 0.9995495\n",
      "  0.99956501 0.99958474]\n",
      " [0.99984398 1.0000111  1.00000432 0.99998286 1.00001047 1.00000212\n",
      "  0.99996807 0.99987141]\n",
      " [1.00060348 0.999876   1.00002015 0.99986739 1.00025391 1.00050771\n",
      "  1.00041411 1.00010433]\n",
      " [1.00114266 0.99977843 1.00002102 0.99989359 1.00030965 1.00119281\n",
      "  1.00092358 0.99988863]\n",
      " [1.00096115 0.99980464 1.00000891 0.99996275 1.0001518  0.9989552\n",
      "  1.00024613 1.00462892]\n",
      " [0.99998265 1.00006807 0.99999159 1.00001904 0.99987142 1.00038422\n",
      "  1.00080216 1.00195443]\n",
      " [0.99875929 1.00090066 0.9999788  1.00004251 0.9996747  1.00045543\n",
      "  1.00085199 1.00178308]\n",
      " [0.99814533 0.94576824 0.99997813 1.00003613 0.99970706 1.00035297\n",
      "  1.00080232 1.00180836]\n",
      " [0.99871975 0.99930127 0.99999171 1.00001387 0.99987608 1.00020873\n",
      "  1.0007608  1.00204864]\n",
      " [1.00045318 1.00026251 1.00001469 0.99999148 1.0000089  1.00009936\n",
      "  1.00088655 1.00276417]\n",
      " [1.00275979 1.00068741 1.00003591 0.99998024 1.00004544 1.00007449\n",
      "  1.00169126 1.0046766 ]]\n"
     ]
    }
   ],
   "source": [
    "print(features_L2_pylode / features_numerical_l2)"
   ]
  },
  {
   "cell_type": "code",
   "execution_count": 39,
   "id": "confidential-pipeline",
   "metadata": {},
   "outputs": [
    {
     "name": "stdout",
     "output_type": "stream",
     "text": [
      "[[26.69730293 26.69730293 26.69730293 26.69730293 26.69730293 26.69730293\n",
      "  26.69730293 26.69730293]\n",
      " [26.69730293 26.69730293 26.69730293 26.69730293 26.69730293 26.69730293\n",
      "  26.69730293 26.69730293]\n",
      " [26.69730293 26.69730293 26.69730293 26.69730293 26.69730293 26.69730293\n",
      "  26.69730293 26.69730293]\n",
      " [26.69730293 26.69730293 26.69730293 26.69730293 26.69730293 26.69730293\n",
      "  26.69730293 26.69730293]\n",
      " [26.69730293 26.69730293 26.69730293 26.69730293 26.69730293 26.69730293\n",
      "  26.69730293 26.69730293]\n",
      " [26.69730293 26.69730293 26.69730293 26.69730293 26.69730293 26.69730293\n",
      "  26.69730293 26.69730293]\n",
      " [26.69730293 26.69730293 26.69730293 26.69730293 26.69730293 26.69730293\n",
      "  26.69730293 26.69730293]\n",
      " [26.69730293 26.69730293 26.69730293 26.69730293 26.69730293 26.69730293\n",
      "  26.69730293 26.69730293]\n",
      " [26.69730293 26.69730293 26.69730293 26.69730293 26.69730293 26.69730293\n",
      "  26.69730293 26.69730293]\n",
      " [26.69730293 26.69730293 26.69730293 26.69730293 26.69730293 26.69730293\n",
      "  26.69730293 26.69730293]\n",
      " [26.69730293 26.69730293 26.69730293 26.69730293 26.69730293 26.69730293\n",
      "  26.69730293 26.69730293]\n",
      " [26.69730293 26.69730293 26.69730293 26.69730293 26.69730293 26.69730293\n",
      "  26.69730293 26.69730293]\n",
      " [26.69730293 26.69730293 26.69730293 26.69730293 26.69730293 26.69730293\n",
      "  26.69730293 26.69730293]\n",
      " [26.69730293 26.69730293 26.69730293 26.69730293 26.69730293 26.69730293\n",
      "  26.69730293 26.69730293]\n",
      " [26.69730293 26.69730293 26.69730293 26.69730293 26.69730293 26.69730291\n",
      "  26.69730282 26.6973028 ]]\n"
     ]
    }
   ],
   "source": [
    "print(features_numerical_l2 / features_L2_librascal)"
   ]
  },
  {
   "cell_type": "code",
   "execution_count": 40,
   "id": "concerned-divide",
   "metadata": {},
   "outputs": [
    {
     "name": "stdout",
     "output_type": "stream",
     "text": [
      "[[1.         1.         1.         1.         1.         1.\n",
      "  1.         1.        ]\n",
      " [1.         1.         1.         1.         1.         1.\n",
      "  1.         1.        ]\n",
      " [1.         1.         1.         1.         1.         1.\n",
      "  1.         1.        ]\n",
      " [1.         1.         1.         1.         1.         1.\n",
      "  1.         1.        ]\n",
      " [1.         1.         1.         1.         1.         1.\n",
      "  1.         1.        ]\n",
      " [1.         1.         1.         1.         1.         1.\n",
      "  1.         1.        ]\n",
      " [1.         1.         1.         1.         1.         1.\n",
      "  1.         1.        ]\n",
      " [1.         1.         1.         1.         1.         1.\n",
      "  1.         1.        ]\n",
      " [1.         1.         1.         1.         1.         1.\n",
      "  1.         1.        ]\n",
      " [1.         1.         1.         1.         1.         1.\n",
      "  1.         1.        ]\n",
      " [1.         1.         1.         1.         1.         1.\n",
      "  1.         1.        ]\n",
      " [1.         1.         1.         1.         1.         1.\n",
      "  1.         1.        ]\n",
      " [1.         1.         1.         1.         1.         1.\n",
      "  1.         1.        ]\n",
      " [1.         1.         1.         1.         1.         1.\n",
      "  1.         1.        ]\n",
      " [1.         1.         1.         1.         1.         1.\n",
      "  1.         1.00000001]]\n"
     ]
    }
   ],
   "source": [
    "print(features_L2_rascaline / features_numerical_l2)"
   ]
  },
  {
   "cell_type": "markdown",
   "id": "editorial-engine",
   "metadata": {},
   "source": [
    "## Compare coefficients for general $l$ <a class=\"anchor\" id=\"l_general\"></a>"
   ]
  },
  {
   "cell_type": "code",
   "execution_count": 41,
   "id": "disabled-platform",
   "metadata": {},
   "outputs": [
    {
     "name": "stdout",
     "output_type": "stream",
     "text": [
      "pyLODE vs analytical coefficients for l = 1\n",
      "[[0.999968 1.000021 0.999972 1.000197 1.00676  1.005297 0.967872 0.998261]\n",
      " [0.999841 1.000078 0.999933 1.000745 0.998242 0.997848 0.998198 0.998752]\n",
      " [0.9998   1.000082 0.999949 1.000772 0.999201 0.999015 0.99911  0.999319]\n",
      " [0.999894 1.000035 0.999986 1.000227 0.999819 0.999771 0.999798 0.999881]\n",
      " [1.000107 0.999962 1.000017 0.999781 1.000205 1.000295 1.000312 1.00035 ]\n",
      " [1.000331 0.999901 1.00003  0.999723 1.000353 1.000581 1.000624 1.000674]\n",
      " [1.000394 0.999891 1.000023 0.999848 1.000285 1.000612 1.000714 1.00086 ]\n",
      " [1.000161 0.999959 1.000005 0.999977 1.000068 1.000302 1.000552 1.001082]\n",
      " [0.999689 1.000109 0.999986 1.000046 0.999823 1.003691 1.001349 0.989549]\n",
      " [0.999277 1.000319 0.999977 1.000056 0.999704 1.000584 1.000309 0.999208]\n",
      " [0.99928  1.000542 0.999982 1.000033 0.999803 1.000162 0.999908 0.99902 ]\n",
      " [0.999807 1.000799 0.999998 1.000001 1.00002  0.999902 0.999543 0.998581]\n",
      " [1.00059  1.000703 1.000017 0.99998  1.000158 0.99976  0.999195 0.99798 ]\n",
      " [1.001141 1.000596 1.000028 0.999975 1.000157 0.99972  0.998775 0.997061]\n",
      " [1.000976 1.000312 1.00002  0.999985 1.000089 0.999746 0.997846 0.995252]]\n",
      "pyLODE vs rascaline coefficients for l = 1\n",
      "[[0.999968 1.000021 0.999972 1.000197 1.00676  1.005297 0.967872 0.998261]\n",
      " [0.999841 1.000078 0.999933 1.000745 0.998242 0.997848 0.998198 0.998752]\n",
      " [0.9998   1.000082 0.999949 1.000772 0.999201 0.999015 0.99911  0.999319]\n",
      " [0.999894 1.000035 0.999986 1.000227 0.999819 0.999771 0.999798 0.999881]\n",
      " [1.000107 0.999962 1.000017 0.999781 1.000205 1.000295 1.000312 1.00035 ]\n",
      " [1.000331 0.999901 1.00003  0.999723 1.000353 1.000581 1.000624 1.000674]\n",
      " [1.000394 0.999891 1.000023 0.999848 1.000285 1.000612 1.000714 1.00086 ]\n",
      " [1.000161 0.999959 1.000005 0.999977 1.000068 1.000302 1.000552 1.001082]\n",
      " [0.999689 1.000109 0.999986 1.000046 0.999823 1.003691 1.001349 0.989549]\n",
      " [0.999277 1.000319 0.999977 1.000056 0.999704 1.000584 1.000309 0.999208]\n",
      " [0.99928  1.000542 0.999982 1.000033 0.999803 1.000162 0.999908 0.99902 ]\n",
      " [0.999807 1.000799 0.999998 1.000001 1.00002  0.999902 0.999543 0.998581]\n",
      " [1.00059  1.000703 1.000017 0.99998  1.000158 0.99976  0.999195 0.99798 ]\n",
      " [1.001141 1.000596 1.000028 0.999975 1.000157 0.99972  0.998775 0.997061]\n",
      " [1.000976 1.000312 1.00002  0.999985 1.000089 0.999746 0.997846 0.995252]]\n",
      "Difference between numerical and analytical evaluation =  3.2572434721308636e-14\n",
      "\n",
      "pyLODE vs analytical coefficients for l = 2\n",
      "[[1.000572 0.999844 1.000079 0.998844 1.003546 1.003769 1.002447 1.001455]\n",
      " [1.000176 0.999968 1.000002 0.999852 1.00017  1.000156 1.000069 0.999999]\n",
      " [0.999672 1.000085 0.999962 1.000829 0.99944  0.999319 0.99938  0.99947 ]\n",
      " [0.999318 1.000142 0.99996  1.000846 0.999416 0.999255 0.999313 0.9994  ]\n",
      " [0.999348 1.000114 0.99998  1.000344 0.99968  0.999549 0.999565 0.999585]\n",
      " [0.999844 1.000011 1.000004 0.999983 1.00001  1.000002 0.999968 0.999871]\n",
      " [1.000603 0.999876 1.00002  0.999867 1.000254 1.000508 1.000414 1.000104]\n",
      " [1.001143 0.999778 1.000021 0.999894 1.00031  1.001193 1.000924 0.999889]\n",
      " [1.000961 0.999805 1.000009 0.999963 1.000152 0.998955 1.000246 1.004629]\n",
      " [0.999983 1.000068 0.999992 1.000019 0.999871 1.000384 1.000802 1.001954]\n",
      " [0.998759 1.000901 0.999979 1.000043 0.999675 1.000455 1.000852 1.001783]\n",
      " [0.998145 0.945768 0.999978 1.000036 0.999707 1.000353 1.000802 1.001808]\n",
      " [0.99872  0.999301 0.999992 1.000014 0.999876 1.000209 1.000761 1.002049]\n",
      " [1.000453 1.000263 1.000015 0.999991 1.000009 1.000099 1.000887 1.002764]\n",
      " [1.00276  1.000687 1.000036 0.99998  1.000045 1.000074 1.001691 1.004677]]\n",
      "pyLODE vs rascaline coefficients for l = 2\n",
      "[[1.000572 0.999844 1.000079 0.998844 1.003546 1.003769 1.002447 1.001455]\n",
      " [1.000176 0.999968 1.000002 0.999852 1.00017  1.000156 1.000069 0.999999]\n",
      " [0.999672 1.000085 0.999962 1.000829 0.99944  0.999319 0.99938  0.99947 ]\n",
      " [0.999318 1.000142 0.99996  1.000846 0.999416 0.999255 0.999313 0.9994  ]\n",
      " [0.999348 1.000114 0.99998  1.000344 0.99968  0.999549 0.999565 0.999585]\n",
      " [0.999844 1.000011 1.000004 0.999983 1.00001  1.000002 0.999968 0.999871]\n",
      " [1.000603 0.999876 1.00002  0.999867 1.000254 1.000508 1.000414 1.000104]\n",
      " [1.001143 0.999778 1.000021 0.999894 1.00031  1.001193 1.000924 0.999889]\n",
      " [1.000961 0.999805 1.000009 0.999963 1.000152 0.998955 1.000246 1.004629]\n",
      " [0.999983 1.000068 0.999992 1.000019 0.999871 1.000384 1.000802 1.001954]\n",
      " [0.998759 1.000901 0.999979 1.000043 0.999675 1.000455 1.000852 1.001783]\n",
      " [0.998145 0.945768 0.999978 1.000036 0.999707 1.000353 1.000802 1.001808]\n",
      " [0.99872  0.999301 0.999992 1.000014 0.999876 1.000209 1.000761 1.002049]\n",
      " [1.000453 1.000263 1.000015 0.999991 1.000009 1.000099 1.000887 1.002764]\n",
      " [1.00276  1.000687 1.000036 0.99998  1.000045 1.000074 1.001691 1.004677]]\n",
      "Difference between numerical and analytical evaluation =  3.307623452135908e-14\n",
      "\n",
      "pyLODE vs analytical coefficients for l = 3\n",
      "[[1.001626 0.999785 1.000015 0.998065 1.001266 1.001277 1.000884 1.00067 ]\n",
      " [1.001872 0.999797 0.999997 0.998338 1.000789 1.00084  1.000612 1.000502]\n",
      " [1.001162 0.999902 0.999989 0.999521 1.000277 1.000323 1.000262 1.000297]\n",
      " [0.999884 1.000037 0.99999  1.000154 0.999928 0.999935 0.999997 1.000163]\n",
      " [0.998658 1.000137 0.999996 1.000222 0.999777 0.999733 0.999869 1.000147]\n",
      " [0.998166 1.000158 1.000002 1.000118 0.999797 0.999717 0.999901 1.000303]\n",
      " [0.998815 1.00008  1.000006 1.000022 0.999927 0.999901 1.000162 1.000812]\n",
      " [1.000376 0.999914 1.000006 0.999974 1.000088 1.000699 1.001624 1.003428]\n",
      " [1.001924 0.999705 1.000003 0.999967 1.000195 0.998771 0.998193 0.995058]\n",
      " [1.002359 0.999538 0.999998 0.99998  1.000185 0.9996   0.999213 0.997888]\n",
      " [1.001205 0.999651 0.999994 0.999997 1.000078 0.999823 0.999433 0.998262]\n",
      " [0.99898  0.998133 0.999994 1.000008 0.999981 0.999911 0.99945  0.998146]\n",
      " [0.996881 0.999013 0.999998 1.00001  0.999964 0.999915 0.99929  0.997632]\n",
      " [0.996153 0.9994   1.000005 1.000005 1.000002 0.999862 0.998828 0.99649 ]\n",
      " [0.997651 0.999837 1.000012 0.999996 1.000046 0.999775 0.997372 0.993903]]\n",
      "pyLODE vs rascaline coefficients for l = 3\n",
      "[[1.001626 0.999785 1.000015 0.998065 1.001266 1.001277 1.000884 1.00067 ]\n",
      " [1.001872 0.999797 0.999997 0.998338 1.000789 1.00084  1.000612 1.000502]\n",
      " [1.001162 0.999902 0.999989 0.999521 1.000277 1.000323 1.000262 1.000297]\n",
      " [0.999884 1.000037 0.99999  1.000154 0.999928 0.999935 0.999997 1.000163]\n",
      " [0.998658 1.000137 0.999996 1.000222 0.999777 0.999733 0.999869 1.000147]\n",
      " [0.998166 1.000158 1.000002 1.000118 0.999797 0.999717 0.999901 1.000303]\n",
      " [0.998815 1.00008  1.000006 1.000022 0.999927 0.999901 1.000162 1.000812]\n",
      " [1.000376 0.999914 1.000006 0.999974 1.000088 1.000699 1.001624 1.003428]\n",
      " [1.001924 0.999705 1.000003 0.999967 1.000195 0.998771 0.998193 0.995058]\n",
      " [1.002359 0.999538 0.999998 0.99998  1.000185 0.9996   0.999213 0.997888]\n",
      " [1.001205 0.999651 0.999994 0.999997 1.000078 0.999823 0.999433 0.998262]\n",
      " [0.99898  0.998133 0.999994 1.000008 0.999981 0.999911 0.99945  0.998146]\n",
      " [0.996881 0.999013 0.999998 1.00001  0.999964 0.999915 0.99929  0.997632]\n",
      " [0.996153 0.9994   1.000005 1.000005 1.000002 0.999862 0.998828 0.99649 ]\n",
      " [0.997651 0.999837 1.000012 0.999996 1.000046 0.999775 0.997372 0.993903]]\n",
      "Difference between numerical and analytical evaluation =  2.922428565377758e-14\n",
      "\n"
     ]
    }
   ],
   "source": [
    "for l in range(1, lmax+1):\n",
    "    lm_index = l**2 + l\n",
    "    \n",
    "    # Get the features from the spherical expansion codes\n",
    "    features_l_pylode = features_pylode[0::2, 0, :, lm_index]\n",
    "    features_l_rascaline = descriptor_rascaline.block(spherical_harmonics_l = l).values[::2,l]\n",
    "    features_l_librascal = features_librascal[0::2, lm_index::(lmax+1)**2]\n",
    "    \n",
    "    # Get the features from the analytical and numerical evaluations\n",
    "    features_l_analytical = np.zeros((len(distances), nmax))\n",
    "    features_l_numerical = np.zeros((len(distances), nmax))\n",
    "    for i_dist, d in enumerate(distances):\n",
    "        features_l_analytical[i_dist] = coefficients_analytical_general_l(nmax, d, l=l)\n",
    "        features_l_numerical[i_dist] = coefficients_semianalytical_general_l(nmax, d, l=l)\n",
    "    assert_allclose(features_l_analytical, features_l_numerical, atol=1e-9, rtol=1e-7)\n",
    "    \n",
    "    # Compare the coefficients\n",
    "    ratios = features_l_pylode / features_l_analytical\n",
    "    err = np.linalg.norm(features_l_analytical - features_l_numerical)\n",
    "    ratios_rascal = features_l_pylode / features_l_rascaline\n",
    "    print(f'pyLODE vs analytical coefficients for l = {l}')\n",
    "    print(np.round(ratios,6))\n",
    "    print(f'pyLODE vs rascaline coefficients for l = {l}')\n",
    "    print(np.round(ratios_rascal, 6))\n",
    "    print('Difference between numerical and analytical evaluation = ', err)\n",
    "    print()"
   ]
  },
  {
   "cell_type": "markdown",
   "id": "tribal-preservation",
   "metadata": {},
   "source": [
    "# Coefficients for $l=0$  <a class=\"anchor\" id=\"l=0\"></a>"
   ]
  },
  {
   "cell_type": "markdown",
   "id": "spanish-cherry",
   "metadata": {},
   "source": [
    "## Compute the exact expressions for reference <a class=\"anchor\" id=\"l=0exact\"></a>"
   ]
  },
  {
   "cell_type": "markdown",
   "id": "biblical-sellers",
   "metadata": {},
   "source": [
    "### Hybrid analytical-numerical computation"
   ]
  },
  {
   "cell_type": "markdown",
   "id": "theoretical-worker",
   "metadata": {},
   "source": [
    "Here, we use the convention that the Gaussian density is normalized to one, i.e. contains the factor of $1/(2\\pi\\sigma^2)^{3/2}$. The spherical harmonic $Y_{00}$ is the constant function whose value is $1/\\sqrt{4\\pi}$ and the GTO's are orthonormalized starting from the primitive ones using the usual procedure."
   ]
  },
  {
   "cell_type": "code",
   "execution_count": 42,
   "id": "chief-composition",
   "metadata": {},
   "outputs": [],
   "source": [
    "def compute_coeffs_explicit_l0(d):\n",
    "    # Start computing coefficients for l=0\n",
    "    featvec = np.zeros((nmax))\n",
    "    \n",
    "    # Case 1: If the distance is zero, the integrals\n",
    "    # can easily be computed by hand. Furthermore,\n",
    "    # separating this case out is convenient since\n",
    "    # the general expression as a function of the pair\n",
    "    # distance d has a (removable) singularity at d=0\n",
    "    if d == 0:\n",
    "        prefac = np.sqrt(np.pi)\n",
    "        prefac /= (np.pi*smearing**2)**(3/4)\n",
    "        \n",
    "        featvec = np.zeros((nmax))\n",
    "        for n in range(nmax):\n",
    "            b = 0.5 * (1/smearing**2 + 1/sigma[n]**2)\n",
    "            neff = (3+n) / 2\n",
    "            featvec[n] = prefac * normalizations[n] * b**(-neff) * gamma(neff)\n",
    "    \n",
    "    # Case 2: For nonzero pair distances (i.e. all proper neighbor contributions),\n",
    "    # the final integral over the radial variable results in a hypergeometric function\n",
    "    # in a fully analytical treatment. Here, we perform the final integral numerically.\n",
    "    else:\n",
    "        # Define auxilary quantities and prefactors\n",
    "        a = d / smearing**2\n",
    "        prefac = 1. / (np.sqrt(2) * np.pi * smearing * d) * np.exp(-0.5*d**2/smearing**2)\n",
    "        prefac *= (2*np.pi*smearing**2)**1.5 / (np.pi*smearing**2)**(3/4)\n",
    "        \n",
    "        # Start main loop\n",
    "        for n in range(nmax):\n",
    "            # Compute contribution for primitive GTO function\n",
    "            powerlaw = lambda r: r**(1+n)\n",
    "            b = 0.5 * (1/smearing**2 + 1/sigma[n]**2)\n",
    "            gaussian = lambda r: np.exp(-b * r**2)\n",
    "            sinh = lambda r: np.sinh(a * r)\n",
    "            integrand = lambda r: powerlaw(r) * gaussian(r) * sinh(r)\n",
    "\n",
    "            # Numerical Integration\n",
    "            featvec[n] = prefac * normalizations[n] * quad(integrand, 1e-10, 4.5 * rcut)[0]\n",
    "    #return featvec\n",
    "    return transformation @ featvec"
   ]
  },
  {
   "cell_type": "code",
   "execution_count": 43,
   "id": "working-satellite",
   "metadata": {},
   "outputs": [
    {
     "data": {
      "text/plain": [
       "Text(0, 0.5, 'Contribution to <n00|rho_i>')"
      ]
     },
     "execution_count": 43,
     "metadata": {},
     "output_type": "execute_result"
    },
    {
     "data": {
      "image/png": "[encoded data removed]",
      "text/plain": [
       "<Figure size 432x288 with 1 Axes>"
      ]
     },
     "metadata": {
      "needs_background": "light"
     },
     "output_type": "display_data"
    }
   ],
   "source": [
    "# Start plotting the behavior of the neighbor contribution as a function of the pair distance r_ij\n",
    "Ndist = 50\n",
    "dd = np.linspace(0, rcut, Ndist)\n",
    "coeffs_exact = np.zeros((nmax, Ndist))\n",
    "for i, d in enumerate(dd):\n",
    "    coeffs_exact[:,i] = compute_coeffs_explicit_l0(d)\n",
    "\n",
    "\n",
    "# Make plot\n",
    "for n in range(nmax):\n",
    "    plt.plot(dd, coeffs_exact[n], label=f'n={n}')\n",
    "plt.legend()\n",
    "plt.xlabel('Pair distance rij')\n",
    "plt.ylabel('Contribution to <n00|rho_i>')"
   ]
  },
  {
   "cell_type": "markdown",
   "id": "piano-apache",
   "metadata": {},
   "source": [
    "Remark: This plot was mostly used to make sure that the implementation for small distances $r_{ij} \\rightarrow 0$ does indeed converge to the special case $r_{ij}=0$ which is implemented separately."
   ]
  },
  {
   "cell_type": "markdown",
   "id": "provincial-kitty",
   "metadata": {},
   "source": [
    "### Comparison to fully analytical general expression"
   ]
  },
  {
   "cell_type": "code",
   "execution_count": 44,
   "id": "chinese-throw",
   "metadata": {},
   "outputs": [
    {
     "name": "stderr",
     "output_type": "stream",
     "text": [
      "<ipython-input-13-661da3b54972>:14: RuntimeWarning: divide by zero encountered in double_scalars\n",
      "  mod_sph_bessel = lambda x: np.sqrt(np.pi/2/x) * iv(l + 0.5, x)\n",
      "<ipython-input-13-661da3b54972>:14: RuntimeWarning: invalid value encountered in double_scalars\n",
      "  mod_sph_bessel = lambda x: np.sqrt(np.pi/2/x) * iv(l + 0.5, x)\n",
      "<ipython-input-13-661da3b54972>:20: IntegrationWarning: The occurrence of roundoff error is detected, which prevents \n",
      "  the requested tolerance from being achieved.  The error may be \n",
      "  underestimated.\n",
      "  featvec[n] = normalizations[n] * quad(integrand, eps, 4.5*rcut)[0]\n"
     ]
    }
   ],
   "source": [
    "coeffs_from_general_analytical = np.zeros((nmax, Ndist))\n",
    "coeffs_from_general_numerical = np.zeros((nmax, Ndist))\n",
    "for i, d in enumerate(dd):\n",
    "    coeffs_from_general_analytical[:,i] = coefficients_analytical_general_l(nmax, d, l=0)\n",
    "    coeffs_from_general_numerical[:,i] = coefficients_semianalytical_general_l(nmax, d, l=0)"
   ]
  },
  {
   "cell_type": "code",
   "execution_count": 45,
   "id": "stylish-popularity",
   "metadata": {},
   "outputs": [
    {
     "data": {
      "text/plain": [
       "Text(0, 0.5, 'Contribution to <n00|rho_i>')"
      ]
     },
     "execution_count": 45,
     "metadata": {},
     "output_type": "execute_result"
    },
    {
     "data": {
      "image/png": "[encoded data removed]",
      "text/plain": [
       "<Figure size 432x288 with 1 Axes>"
      ]
     },
     "metadata": {
      "needs_background": "light"
     },
     "output_type": "display_data"
    }
   ],
   "source": [
    "# Make plot\n",
    "for n in range(nmax):\n",
    "    plt.plot(dd, coeffs_exact[n], 'k')\n",
    "    plt.plot(dd, -0.01+coeffs_from_general_analytical[n], 'b')\n",
    "    plt.plot(dd, 0.01+coeffs_from_general_numerical[n], 'r')\n",
    "    \n",
    "plt.plot(dd, coeffs_exact[0], label=f'exact', c='k')\n",
    "plt.plot(dd, 0.01+coeffs_from_general_analytical[0], label=f'analytical', c='b')\n",
    "plt.plot(dd, -0.01+coeffs_from_general_numerical[0], label=f'numerical', c='r')\n",
    "plt.legend()\n",
    "plt.xlabel('Pair distance rij')\n",
    "plt.ylabel('Contribution to <n00|rho_i>')"
   ]
  },
  {
   "cell_type": "code",
   "execution_count": 46,
   "id": "crucial-joint",
   "metadata": {},
   "outputs": [
    {
     "name": "stdout",
     "output_type": "stream",
     "text": [
      "2.065819130578419e-15\n",
      "1.87931397382568e-15\n",
      "4.2105373992304264e-15\n",
      "4.3846121415455044e-15\n",
      "1.0083629377644011e-14\n",
      "1.0187525901307643e-14\n",
      "2.6263277329377824e-14\n",
      "2.666590151462467e-14\n",
      "4.6813404661281836e-14\n",
      "4.6007622750133644e-14\n",
      "5.368092002428532e-14\n",
      "5.429256333417508e-14\n",
      "3.63123144249675e-14\n",
      "3.560648353002623e-14\n",
      "1.2006001755488933e-14\n",
      "1.1910038537128725e-14\n"
     ]
    }
   ],
   "source": [
    "for n in range(nmax):\n",
    "    diff1 = coeffs_exact[n] - coeffs_from_general_analytical[n]\n",
    "    diff2 = coeffs_from_general_numerical[n] - coeffs_from_general_analytical[n]\n",
    "    print(np.linalg.norm(diff1))\n",
    "    print(np.linalg.norm(diff2[1:])) # first entry at d=0 is NaN for numerical evaluation"
   ]
  },
  {
   "cell_type": "markdown",
   "id": "split-stomach",
   "metadata": {},
   "source": [
    "# Center atom contribution and $l=0$ <a class=\"anchor\" id=\"l=0center\"></a>"
   ]
  },
  {
   "cell_type": "markdown",
   "id": "corporate-matthew",
   "metadata": {},
   "source": [
    "Note that $l=0$ is more complicated compared to $l=1,2,\\dots$ even for dimers since the center atom contributes to the density as well. We begin this investigation by using a frame that only consists of a single atom."
   ]
  },
  {
   "cell_type": "markdown",
   "id": "historical-preservation",
   "metadata": {},
   "source": [
    "## Center atom contributions from single atom cells"
   ]
  },
  {
   "cell_type": "code",
   "execution_count": 47,
   "id": "taken-resistance",
   "metadata": {},
   "outputs": [],
   "source": [
    "# Create some frames that only contain a single atom\n",
    "# We use a cubic cell with varying lattice constants determined as a default times a scaling\n",
    "Nscalings = 4\n",
    "scalings = np.linspace(1, 1.5, Nscalings)\n",
    "frames_single_atom = []\n",
    "for scale in scalings:\n",
    "    frames_single_atom.append(Atoms('O', positions=[[1,1,1]], cell=scale * cell, pbc=True))"
   ]
  },
  {
   "cell_type": "code",
   "execution_count": 48,
   "id": "wicked-sierra",
   "metadata": {},
   "outputs": [],
   "source": [
    "calculator_pylode.transform(frames_single_atom)\n",
    "features_pylode_single = calculator_pylode.features\n",
    "features_librascal_single = calculator_librascal.transform(frames_single_atom).get_features(calculator_librascal)\n",
    "#features_rascaline_single = calculator_rascaline.compute(frames)"
   ]
  },
  {
   "cell_type": "code",
   "execution_count": 49,
   "id": "printable-karen",
   "metadata": {},
   "outputs": [],
   "source": [
    "descriptor_rascaline = calculator_rascaline.compute(frames_single_atom)\n",
    "descriptor_rascaline.keys_to_samples('species_center')\n",
    "descriptor_rascaline.keys_to_samples('species_neighbor')"
   ]
  },
  {
   "cell_type": "code",
   "execution_count": 50,
   "id": "caring-sister",
   "metadata": {},
   "outputs": [
    {
     "name": "stdout",
     "output_type": "stream",
     "text": [
      "(0, 1, 8)\n"
     ]
    }
   ],
   "source": [
    "# Create some frames that only contain a single atom\n",
    "# We use a cubic cell with varying lattice constants determined as a default times a scaling\n",
    "Nscalings = 4\n",
    "scalings = np.linspace(1, 1.5, Nscalings)\n",
    "frames = []\n",
    "for scale in scalings:\n",
    "    frames.append(Atoms('O', positions=[[1,1,1]], cell=scale * cell, pbc=True))\n",
    "\n",
    "    \n",
    "# Compute features\n",
    "descriptor_rascaline = calculator_rascaline.compute(frames)\n",
    "descriptor_rascaline.keys_to_samples('species_center')\n",
    "descriptor_rascaline.keys_to_samples('species_neighbor')\n",
    "\n",
    "# Show shape of features for different angular momentum channels\n",
    "feat = descriptor_rascaline.block(spherical_harmonics_l = 0).values\n",
    "print(feat.shape)"
   ]
  },
  {
   "cell_type": "markdown",
   "id": "entertaining-obligation",
   "metadata": {},
   "source": [
    "### Sanity check 1: Make sure the feature vectors only contain nonzero entries for l=0"
   ]
  },
  {
   "cell_type": "code",
   "execution_count": 51,
   "id": "little-motion",
   "metadata": {},
   "outputs": [
    {
     "data": {
      "text/plain": [
       "(4, 1, 8, 16)"
      ]
     },
     "execution_count": 51,
     "metadata": {},
     "output_type": "execute_result"
    }
   ],
   "source": [
    "features_pylode_single.shape"
   ]
  },
  {
   "cell_type": "code",
   "execution_count": 52,
   "id": "dressed-century",
   "metadata": {},
   "outputs": [
    {
     "data": {
      "text/plain": [
       "(4, 128)"
      ]
     },
     "execution_count": 52,
     "metadata": {},
     "output_type": "execute_result"
    }
   ],
   "source": [
    "features_librascal_single.shape"
   ]
  },
  {
   "cell_type": "code",
   "execution_count": 53,
   "id": "individual-tomato",
   "metadata": {},
   "outputs": [
    {
     "name": "stdout",
     "output_type": "stream",
     "text": [
      "[[ 9.87418e-01  1.49704e-01 -3.46930e-02  7.25900e-03  1.33580e-02\n",
      "  -7.25800e-03  7.27000e-04  1.87000e-04]\n",
      " [ 0.00000e+00  0.00000e+00  0.00000e+00  0.00000e+00  0.00000e+00\n",
      "   0.00000e+00  0.00000e+00  0.00000e+00]\n",
      " [ 0.00000e+00  0.00000e+00  0.00000e+00  0.00000e+00  0.00000e+00\n",
      "   0.00000e+00  0.00000e+00  0.00000e+00]\n",
      " [ 0.00000e+00  0.00000e+00  0.00000e+00  0.00000e+00  0.00000e+00\n",
      "   0.00000e+00  0.00000e+00  0.00000e+00]\n",
      " [-0.00000e+00 -0.00000e+00 -0.00000e+00 -0.00000e+00 -0.00000e+00\n",
      "  -0.00000e+00 -0.00000e+00 -0.00000e+00]\n",
      " [ 0.00000e+00  0.00000e+00 -0.00000e+00 -0.00000e+00 -0.00000e+00\n",
      "   0.00000e+00  0.00000e+00 -0.00000e+00]\n",
      " [ 0.00000e+00  0.00000e+00  0.00000e+00  0.00000e+00  0.00000e+00\n",
      "   0.00000e+00 -0.00000e+00 -0.00000e+00]\n",
      " [ 0.00000e+00  0.00000e+00  0.00000e+00 -0.00000e+00  0.00000e+00\n",
      "   0.00000e+00  0.00000e+00 -0.00000e+00]\n",
      " [ 0.00000e+00  0.00000e+00 -0.00000e+00 -0.00000e+00 -0.00000e+00\n",
      "  -0.00000e+00  0.00000e+00 -0.00000e+00]\n",
      " [ 0.00000e+00  0.00000e+00  0.00000e+00  0.00000e+00  0.00000e+00\n",
      "   0.00000e+00  0.00000e+00  0.00000e+00]\n",
      " [ 0.00000e+00  0.00000e+00  0.00000e+00  0.00000e+00  0.00000e+00\n",
      "   0.00000e+00  0.00000e+00  0.00000e+00]\n",
      " [ 0.00000e+00  0.00000e+00  0.00000e+00  0.00000e+00  0.00000e+00\n",
      "   0.00000e+00  0.00000e+00  0.00000e+00]\n",
      " [ 0.00000e+00  0.00000e+00  0.00000e+00  0.00000e+00  0.00000e+00\n",
      "   0.00000e+00  0.00000e+00  0.00000e+00]\n",
      " [ 0.00000e+00  0.00000e+00  0.00000e+00  0.00000e+00  0.00000e+00\n",
      "   0.00000e+00  0.00000e+00  0.00000e+00]\n",
      " [ 0.00000e+00  0.00000e+00  0.00000e+00  0.00000e+00  0.00000e+00\n",
      "   0.00000e+00  0.00000e+00  0.00000e+00]\n",
      " [ 0.00000e+00  0.00000e+00  0.00000e+00  0.00000e+00  0.00000e+00\n",
      "   0.00000e+00  0.00000e+00  0.00000e+00]]\n",
      "[[ 9.87419e-01  1.49702e-01 -3.46920e-02  7.25700e-03  1.33590e-02\n",
      "  -7.25900e-03  7.28000e-04  1.87000e-04]\n",
      " [ 0.00000e+00  0.00000e+00  0.00000e+00  0.00000e+00  0.00000e+00\n",
      "   0.00000e+00  0.00000e+00  0.00000e+00]\n",
      " [ 0.00000e+00  0.00000e+00  0.00000e+00  0.00000e+00  0.00000e+00\n",
      "   0.00000e+00  0.00000e+00  0.00000e+00]\n",
      " [ 0.00000e+00  0.00000e+00  0.00000e+00  0.00000e+00  0.00000e+00\n",
      "   0.00000e+00  0.00000e+00  0.00000e+00]\n",
      " [-0.00000e+00 -0.00000e+00  0.00000e+00 -0.00000e+00 -0.00000e+00\n",
      "  -0.00000e+00  0.00000e+00 -0.00000e+00]\n",
      " [-0.00000e+00 -0.00000e+00 -0.00000e+00 -0.00000e+00 -0.00000e+00\n",
      "   0.00000e+00 -0.00000e+00  0.00000e+00]\n",
      " [ 0.00000e+00  0.00000e+00  0.00000e+00  0.00000e+00  0.00000e+00\n",
      "  -0.00000e+00 -0.00000e+00  0.00000e+00]\n",
      " [-0.00000e+00 -0.00000e+00  0.00000e+00 -0.00000e+00 -0.00000e+00\n",
      "  -0.00000e+00  0.00000e+00  0.00000e+00]\n",
      " [ 0.00000e+00 -0.00000e+00 -0.00000e+00 -0.00000e+00 -0.00000e+00\n",
      "  -0.00000e+00 -0.00000e+00 -0.00000e+00]\n",
      " [ 0.00000e+00  0.00000e+00  0.00000e+00  0.00000e+00  0.00000e+00\n",
      "   0.00000e+00  0.00000e+00  0.00000e+00]\n",
      " [ 0.00000e+00  0.00000e+00  0.00000e+00  0.00000e+00  0.00000e+00\n",
      "   0.00000e+00  0.00000e+00  0.00000e+00]\n",
      " [ 0.00000e+00  0.00000e+00  0.00000e+00  0.00000e+00  0.00000e+00\n",
      "   0.00000e+00  0.00000e+00  0.00000e+00]\n",
      " [ 0.00000e+00  0.00000e+00  0.00000e+00  0.00000e+00  0.00000e+00\n",
      "   0.00000e+00  0.00000e+00  0.00000e+00]\n",
      " [ 0.00000e+00  0.00000e+00  0.00000e+00  0.00000e+00  0.00000e+00\n",
      "   0.00000e+00  0.00000e+00  0.00000e+00]\n",
      " [ 0.00000e+00  0.00000e+00  0.00000e+00  0.00000e+00  0.00000e+00\n",
      "   0.00000e+00  0.00000e+00  0.00000e+00]\n",
      " [ 0.00000e+00  0.00000e+00  0.00000e+00  0.00000e+00  0.00000e+00\n",
      "   0.00000e+00  0.00000e+00  0.00000e+00]]\n",
      "[[ 9.87419e-01  1.49702e-01 -3.46920e-02  7.25700e-03  1.33590e-02\n",
      "  -7.25800e-03  7.28000e-04  1.87000e-04]\n",
      " [ 0.00000e+00  0.00000e+00  0.00000e+00  0.00000e+00  0.00000e+00\n",
      "   0.00000e+00  0.00000e+00  0.00000e+00]\n",
      " [ 0.00000e+00  0.00000e+00  0.00000e+00  0.00000e+00  0.00000e+00\n",
      "   0.00000e+00  0.00000e+00  0.00000e+00]\n",
      " [ 0.00000e+00  0.00000e+00  0.00000e+00  0.00000e+00  0.00000e+00\n",
      "   0.00000e+00  0.00000e+00  0.00000e+00]\n",
      " [-0.00000e+00  0.00000e+00 -0.00000e+00 -0.00000e+00 -0.00000e+00\n",
      "  -0.00000e+00 -0.00000e+00 -0.00000e+00]\n",
      " [-0.00000e+00 -0.00000e+00 -0.00000e+00 -0.00000e+00  0.00000e+00\n",
      "   0.00000e+00  0.00000e+00 -0.00000e+00]\n",
      " [-0.00000e+00  0.00000e+00  0.00000e+00  0.00000e+00  0.00000e+00\n",
      "  -0.00000e+00  0.00000e+00  0.00000e+00]\n",
      " [-0.00000e+00 -0.00000e+00 -0.00000e+00 -0.00000e+00 -0.00000e+00\n",
      "  -0.00000e+00  0.00000e+00  0.00000e+00]\n",
      " [ 0.00000e+00  0.00000e+00 -0.00000e+00 -0.00000e+00 -0.00000e+00\n",
      "  -0.00000e+00 -0.00000e+00  0.00000e+00]\n",
      " [ 0.00000e+00  0.00000e+00  0.00000e+00  0.00000e+00  0.00000e+00\n",
      "   0.00000e+00  0.00000e+00  0.00000e+00]\n",
      " [ 0.00000e+00  0.00000e+00  0.00000e+00  0.00000e+00  0.00000e+00\n",
      "   0.00000e+00  0.00000e+00  0.00000e+00]\n",
      " [ 0.00000e+00  0.00000e+00  0.00000e+00  0.00000e+00  0.00000e+00\n",
      "   0.00000e+00  0.00000e+00  0.00000e+00]\n",
      " [ 0.00000e+00  0.00000e+00  0.00000e+00  0.00000e+00  0.00000e+00\n",
      "   0.00000e+00  0.00000e+00  0.00000e+00]\n",
      " [ 0.00000e+00  0.00000e+00  0.00000e+00  0.00000e+00  0.00000e+00\n",
      "   0.00000e+00  0.00000e+00  0.00000e+00]\n",
      " [ 0.00000e+00  0.00000e+00  0.00000e+00  0.00000e+00  0.00000e+00\n",
      "   0.00000e+00  0.00000e+00  0.00000e+00]\n",
      " [ 0.00000e+00  0.00000e+00  0.00000e+00  0.00000e+00  0.00000e+00\n",
      "   0.00000e+00  0.00000e+00  0.00000e+00]]\n",
      "[[ 9.87419e-01  1.49702e-01 -3.46920e-02  7.25700e-03  1.33600e-02\n",
      "  -7.25900e-03  7.28000e-04  1.87000e-04]\n",
      " [ 0.00000e+00  0.00000e+00  0.00000e+00  0.00000e+00  0.00000e+00\n",
      "   0.00000e+00  0.00000e+00  0.00000e+00]\n",
      " [ 0.00000e+00  0.00000e+00  0.00000e+00  0.00000e+00  0.00000e+00\n",
      "   0.00000e+00  0.00000e+00  0.00000e+00]\n",
      " [ 0.00000e+00  0.00000e+00  0.00000e+00  0.00000e+00  0.00000e+00\n",
      "   0.00000e+00  0.00000e+00  0.00000e+00]\n",
      " [-0.00000e+00 -0.00000e+00 -0.00000e+00  0.00000e+00 -0.00000e+00\n",
      "  -0.00000e+00 -0.00000e+00 -0.00000e+00]\n",
      " [-0.00000e+00 -0.00000e+00 -0.00000e+00 -0.00000e+00 -0.00000e+00\n",
      "   0.00000e+00 -0.00000e+00 -0.00000e+00]\n",
      " [-0.00000e+00 -0.00000e+00 -0.00000e+00 -0.00000e+00  0.00000e+00\n",
      "  -0.00000e+00  0.00000e+00  0.00000e+00]\n",
      " [-0.00000e+00 -0.00000e+00  0.00000e+00  0.00000e+00 -0.00000e+00\n",
      "  -0.00000e+00 -0.00000e+00  0.00000e+00]\n",
      " [ 0.00000e+00 -0.00000e+00  0.00000e+00 -0.00000e+00 -0.00000e+00\n",
      "   0.00000e+00 -0.00000e+00 -0.00000e+00]\n",
      " [ 0.00000e+00  0.00000e+00  0.00000e+00  0.00000e+00  0.00000e+00\n",
      "   0.00000e+00  0.00000e+00  0.00000e+00]\n",
      " [ 0.00000e+00  0.00000e+00  0.00000e+00  0.00000e+00  0.00000e+00\n",
      "   0.00000e+00  0.00000e+00  0.00000e+00]\n",
      " [ 0.00000e+00  0.00000e+00  0.00000e+00  0.00000e+00  0.00000e+00\n",
      "   0.00000e+00  0.00000e+00  0.00000e+00]\n",
      " [ 0.00000e+00  0.00000e+00  0.00000e+00  0.00000e+00  0.00000e+00\n",
      "   0.00000e+00  0.00000e+00  0.00000e+00]\n",
      " [ 0.00000e+00  0.00000e+00  0.00000e+00  0.00000e+00  0.00000e+00\n",
      "   0.00000e+00  0.00000e+00  0.00000e+00]\n",
      " [ 0.00000e+00  0.00000e+00  0.00000e+00  0.00000e+00  0.00000e+00\n",
      "   0.00000e+00  0.00000e+00  0.00000e+00]\n",
      " [ 0.00000e+00  0.00000e+00  0.00000e+00  0.00000e+00  0.00000e+00\n",
      "   0.00000e+00  0.00000e+00  0.00000e+00]]\n"
     ]
    }
   ],
   "source": [
    "for i in range(Nscalings):\n",
    "    print(np.round(features_pylode_single[i,0,:,:].T, 6))"
   ]
  },
  {
   "cell_type": "markdown",
   "id": "suspected-bankruptcy",
   "metadata": {},
   "source": [
    "Comment: Rascaline seems to exclude the center contribution by default, leading to coefficients that are zero everywhere. This is not an error of the code per se, but is something that should be kept in mind."
   ]
  },
  {
   "cell_type": "markdown",
   "id": "sporting-melissa",
   "metadata": {},
   "source": [
    "Make sure that the coefficients apart from those at $l=0$ are zero (since we only have a single atom in the structure, the density is spherically symmetric and thus only the $l=0$ projection survives)"
   ]
  },
  {
   "cell_type": "code",
   "execution_count": 54,
   "id": "blind-pastor",
   "metadata": {},
   "outputs": [],
   "source": [
    "for i in range(len(features_pylode_single)):\n",
    "    # The l=0 coefficients for pyLODE are contained in [n,l]=[:,0]\n",
    "    feat = features_pylode_single[i,0]\n",
    "    feat_zero = feat[:,1:]\n",
    "    assert_allclose(feat_zero, np.zeros_like(feat_zero), atol=3e-6)\n",
    "    \n",
    "    # The l=0 coefficients for librascal are separated by (lmax+1)**2\n",
    "    feat = features_librascal_single[i]\n",
    "    for n in range(nmax):\n",
    "        for lm in range((lmax+1)**2):\n",
    "            if lm != 0:\n",
    "                assert abs(feat[n*(lmax+1)**2 + lm]) < 1e-8\n",
    "\n",
    "    # Ignore rascaline for now, since it doesn't seem to process single atom frames\n",
    "    #or l in range(1, lmax+1):\n",
    "    #   feat = descriptor_rascaline.block(spherical_harmonics_l = l).values\n",
    "    #   print(feat.shape)\n",
    "    #   print(feat)"
   ]
  },
  {
   "cell_type": "markdown",
   "id": "alive-complaint",
   "metadata": {},
   "source": [
    "### Sanity check 2: Coefficients should be (for pyLODE: mostly) independent of the cell"
   ]
  },
  {
   "cell_type": "code",
   "execution_count": 55,
   "id": "proved-monkey",
   "metadata": {},
   "outputs": [],
   "source": [
    "# For librascal and rascaline, the features should be completely independent of the cell\n",
    "for feats in [features_librascal_single]:\n",
    "    for i in range(Nscalings-1):\n",
    "        feat1 = feats[i]\n",
    "        feat2 = feats[i+1]\n",
    "        assert_allclose(feat1, feat2, rtol=1e-10)"
   ]
  },
  {
   "cell_type": "code",
   "execution_count": 56,
   "id": "activated-fight",
   "metadata": {},
   "outputs": [],
   "source": [
    "# For pyLODE, the k-space sum does lead to a weak dependence on the cell\n",
    "for i in range(Nscalings-1):\n",
    "    feat1 = features_pylode_single[i]\n",
    "    feat2 = features_pylode_single[i+1]\n",
    "    assert_allclose(feat1, feat2, rtol=1e-10, atol=1e-5)"
   ]
  },
  {
   "cell_type": "markdown",
   "id": "favorite-surveillance",
   "metadata": {},
   "source": [
    "### Compare pyLODE and rascal coefficients with exact values"
   ]
  },
  {
   "cell_type": "code",
   "execution_count": 57,
   "id": "pursuant-interest",
   "metadata": {},
   "outputs": [],
   "source": [
    "coeffs_exact_center = coeffs_exact[:,0] # take the r_{ij} = 0 part"
   ]
  },
  {
   "cell_type": "code",
   "execution_count": 58,
   "id": "regulation-intermediate",
   "metadata": {},
   "outputs": [
    {
     "name": "stdout",
     "output_type": "stream",
     "text": [
      "Exact center contributions [ 9.87468127e-01  1.49615124e-01 -3.46364778e-02  7.20134882e-03\n",
      "  1.34072681e-02 -7.28897425e-03  7.40477692e-04  1.84368634e-04]\n"
     ]
    }
   ],
   "source": [
    "print('Exact center contributions', coeffs_exact_center)"
   ]
  },
  {
   "cell_type": "code",
   "execution_count": 59,
   "id": "veterinary-poster",
   "metadata": {
    "scrolled": true
   },
   "outputs": [
    {
     "name": "stdout",
     "output_type": "stream",
     "text": [
      "pyLODE / exact coeffs\n",
      "[0.99994887 1.00059561 1.00162981 1.00795882 0.99634221 0.99571439\n",
      " 0.98210241 1.01649154]\n",
      "[0.99994995 1.00058226 1.00159243 1.00777804 0.9964222  0.99582167\n",
      " 0.98284639 1.01465316]\n",
      "[0.99994999 1.0005817  1.00159082 1.00777053 0.99642622 0.99581519\n",
      " 0.98251568 1.01520051]\n",
      "[0.99995004 1.00058111 1.00158893 1.00775612 0.99643781 0.99584707\n",
      " 0.98282106 1.01621992]\n"
     ]
    }
   ],
   "source": [
    "print('pyLODE / exact coeffs')\n",
    "for i in range(Nscalings):\n",
    "    feat_pylode_single_nonzero = features_pylode_single[i,0,:,0]\n",
    "    print(feat_pylode_single_nonzero / coeffs_exact_center)"
   ]
  },
  {
   "cell_type": "code",
   "execution_count": 60,
   "id": "weekly-present",
   "metadata": {},
   "outputs": [
    {
     "name": "stdout",
     "output_type": "stream",
     "text": [
      "librascal / exact coeffs\n",
      "[0.03745697 0.03745697 0.03745697 0.03745697 0.03745697 0.03745697\n",
      " 0.03745697 0.03745697]\n",
      "[0.03745697 0.03745697 0.03745697 0.03745697 0.03745697 0.03745697\n",
      " 0.03745697 0.03745697]\n",
      "[0.03745697 0.03745697 0.03745697 0.03745697 0.03745697 0.03745697\n",
      " 0.03745697 0.03745697]\n",
      "[0.03745697 0.03745697 0.03745697 0.03745697 0.03745697 0.03745697\n",
      " 0.03745697 0.03745697]\n"
     ]
    }
   ],
   "source": [
    "print('librascal / exact coeffs')\n",
    "for i in range(Nscalings):\n",
    "    feat_librascal_single_nonzero = features_librascal_single[i,::(lmax+1)**2]\n",
    "    print(feat_librascal_single_nonzero / coeffs_exact_center)"
   ]
  },
  {
   "cell_type": "code",
   "execution_count": 61,
   "id": "strategic-discount",
   "metadata": {},
   "outputs": [
    {
     "data": {
      "text/plain": [
       "\" ignore rascaline for now since it cannot process single atom frames\\nprint('rascaline / exact coeffs')\\nfor i in range(Nscalings):\\n    feat_rascaline_single_nonzero = descriptor_rascaline.block(spherical_harmonics_l = 0).values[i]\\n    print(feat_rascaline_single_nonzero.shape)\\n    print(feat_rascaline_single_nonzero / coeffs_exact_center)\\n\""
      ]
     },
     "execution_count": 61,
     "metadata": {},
     "output_type": "execute_result"
    }
   ],
   "source": [
    "\"\"\" ignore rascaline for now since it cannot process single atom frames\n",
    "print('rascaline / exact coeffs')\n",
    "for i in range(Nscalings):\n",
    "    feat_rascaline_single_nonzero = descriptor_rascaline.block(spherical_harmonics_l = 0).values[i]\n",
    "    print(feat_rascaline_single_nonzero.shape)\n",
    "    print(feat_rascaline_single_nonzero / coeffs_exact_center)\n",
    "\"\"\""
   ]
  },
  {
   "cell_type": "markdown",
   "id": "lucky-flash",
   "metadata": {},
   "source": [
    "# Compare coefficients for random molecules <a class=\"anchor\" id=\"randommolecule\"></a>"
   ]
  },
  {
   "cell_type": "code",
   "execution_count": 81,
   "id": "recreational-installation",
   "metadata": {},
   "outputs": [],
   "source": [
    "frames = []\n",
    "frames.append(Atoms('O4', positions=[[1,1,1],[2,1,1],[2,2.2,1],[2.3,2.,1.5]], cell=cell, pbc=True))\n",
    "frames.append(Atoms('O4', positions=[[1,1,1],[2.3,1,1],[2.2,2.5,1.1],[2.7,2.,1.1]], cell=cell, pbc=True))"
   ]
  },
  {
   "cell_type": "code",
   "execution_count": 93,
   "id": "sitting-thinking",
   "metadata": {},
   "outputs": [],
   "source": [
    "features_librascal_general_struc = calculator_librascal.transform(frames).get_features(calculator_librascal)\n",
    "calculator_pylode.transform(frames)\n",
    "features_pylode_general_struc = calculator_pylode.features\n",
    "\n",
    "# Rascaline\n",
    "descriptor_rascaline_general_struc = calculator_rascaline.compute(frames)\n",
    "descriptor_rascaline_general_struc.keys_to_samples('species_center')\n",
    "descriptor_rascaline_general_struc.keys_to_samples('species_neighbor')"
   ]
  },
  {
   "cell_type": "code",
   "execution_count": 94,
   "id": "fabulous-fifty",
   "metadata": {},
   "outputs": [
    {
     "data": {
      "text/plain": [
       "(8, 1, 8, 16)"
      ]
     },
     "execution_count": 94,
     "metadata": {},
     "output_type": "execute_result"
    }
   ],
   "source": [
    "features_pylode_general_struc.shape"
   ]
  },
  {
   "cell_type": "code",
   "execution_count": 95,
   "id": "american-consultation",
   "metadata": {},
   "outputs": [
    {
     "data": {
      "text/plain": [
       "(8, 128)"
      ]
     },
     "execution_count": 95,
     "metadata": {},
     "output_type": "execute_result"
    }
   ],
   "source": [
    "features_librascal_general_struc.shape"
   ]
  },
  {
   "cell_type": "code",
   "execution_count": 96,
   "id": "underlying-desert",
   "metadata": {},
   "outputs": [
    {
     "name": "stdout",
     "output_type": "stream",
     "text": [
      "pyLODE vs rascaline coefficients for l,m = (0, 0)\n",
      "[[ 2.773724  1.204344  0.948099  1.064838  1.301369  1.541579  1.149205\n",
      "   0.827673]\n",
      " [ 2.109236  1.135208  0.929066  1.141576  1.617312  1.664227  1.164393\n",
      "   0.827506]\n",
      " [ 1.917535  1.167488  0.926627  1.094602  1.472884  1.67737   1.23447\n",
      "   0.700332]\n",
      " [ 1.919606  1.178162  0.925301  1.072339  1.527449  2.127456  1.541635\n",
      "   0.26192 ]\n",
      " [ 4.315691  1.349526  0.95168   1.032388  1.261274  9.757751  2.232465\n",
      "   0.21133 ]\n",
      " [ 2.576933  1.161813  0.945299  1.118119  1.313959  1.38378   1.097417\n",
      "   0.888497]\n",
      " [ 2.213816  1.227658  0.937029  1.046927  1.399465  3.686035  4.283012\n",
      "  -2.710404]\n",
      " [ 1.975561  1.187972  0.919004  1.046854  1.802355 -0.416948  0.719452\n",
      "   1.385366]]\n",
      "pyLODE vs librascal coefficients for l,m = (0, 0)\n",
      "[[0.999897 1.000059 0.999828 1.00052  0.9989   0.998069 0.996881 0.994671]\n",
      " [0.999902 1.000027 0.999779 1.001173 0.998168 0.997749 0.996515 0.99456 ]\n",
      " [0.999917 1.000008 0.999827 1.000518 0.998933 0.998429 0.996733 0.991322]\n",
      " [0.999914 1.000021 0.999811 1.000445 0.998726 0.997726 0.993389 0.942349]\n",
      " [0.999893 1.000106 0.999846 1.000209 0.999096 0.995588 0.987969 0.914891]\n",
      " [0.999903 1.000025 0.999836 1.000826 0.998999 0.99864  0.998075 0.996971]\n",
      " [0.999911 1.000038 0.999834 1.000268 0.998951 0.996926 0.985746 1.031177]\n",
      " [0.99991  1.000037 0.999783 1.000316 0.998179 0.984157 1.008276 1.006658]]\n",
      "\n",
      "pyLODE vs rascaline coefficients for l,m = (1, -1)\n",
      "[[1.000322 0.999909 1.000021 0.999864 1.000248 1.000502 1.000513 1.000481]\n",
      " [0.999803 1.000085 0.999941 1.000825 0.998967 0.998734 0.998867 0.999136]\n",
      " [0.999981 1.000008 0.999997 1.000024 0.999957 0.999926 0.999928 0.999989]\n",
      " [0.999575 1.0001   0.999964 1.000314 0.999571 0.999276 0.999302 0.999412]\n",
      " [0.999355 1.000266 0.999978 1.000057 0.999701 1.000846 1.000904 1.000837]\n",
      " [0.999984 1.000006 0.999997 1.000029 0.999958 0.999937 0.999953 1.000038]\n",
      " [1.000144 0.999919 1.000031 0.999871 1.000541 1.009848 1.011535 1.004756]\n",
      " [1.003382 1.000497 0.999901 1.000481 0.998966 0.99693  0.997523 0.997978]]\n",
      "pyLODE vs librascal coefficients for l,m = (1, -1)\n",
      "[[1.000259 0.999845 0.999957 0.9998   1.000185 1.000438 1.00045  1.000417]\n",
      " [0.999739 1.000022 0.999878 1.000761 0.998904 0.99867  0.998804 0.999072]\n",
      " [0.999917 0.999944 0.999934 0.99996  0.999893 0.999862 0.999864 0.999925]\n",
      " [0.999511 1.000037 0.999901 1.00025  0.999507 0.999213 0.999239 0.999348]\n",
      " [0.999292 1.000203 0.999914 0.999994 0.999638 1.000782 1.000841 1.000774]\n",
      " [0.99992  0.999943 0.999934 0.999966 0.999895 0.999873 0.999889 0.999974]\n",
      " [1.000081 0.999855 0.999967 0.999807 1.000477 1.009784 1.011471 1.004692]\n",
      " [1.003318 1.000433 0.999838 1.000417 0.998902 0.996867 0.99746  0.997914]]\n",
      "\n",
      "pyLODE vs rascaline coefficients for l,m = (1, 0)\n",
      "[[1.000218 0.999944 1.000008 0.999959 1.000096 1.000248 1.000217 1.000143]\n",
      " [0.999805 1.000088 0.999936 1.000858 0.998746 0.99846  0.998622 0.998926]\n",
      " [1.000079 0.999922 1.000472 0.999648 0.999387 0.999361 0.999411 0.999413]\n",
      " [1.000024 0.999982 1.000018 0.999926 0.997952 0.999505 0.999595 0.999521]\n",
      " [0.999471 1.000218 0.999983 1.000044 0.999765 1.000654 1.000777 1.000959]\n",
      " [0.999949 1.000022 0.999987 1.000127 0.999793 0.999676 0.999662 0.999704]\n",
      " [1.000042 0.999987 1.000003 0.999987 1.000034 1.000091 1.000038 0.999972]\n",
      " [0.99986  1.00007  0.999965 1.00014  0.999305 1.008267 0.96665  0.996174]]\n",
      "pyLODE vs librascal coefficients for l,m = (1, 0)\n",
      "[[1.000154 0.99988  0.999945 0.999895 1.000033 1.000185 1.000154 1.000079]\n",
      " [0.999742 1.000024 0.999872 1.000794 0.998682 0.998397 0.998559 0.998863]\n",
      " [1.000016 0.999859 1.000408 0.999585 0.999323 0.999297 0.999348 0.999349]\n",
      " [0.99996  0.999919 0.999954 0.999863 0.997889 0.999442 0.999531 0.999458]\n",
      " [0.999408 1.000154 0.999919 0.99998  0.999701 1.00059  1.000714 1.000896]\n",
      " [0.999886 0.999959 0.999924 1.000064 0.999729 0.999613 0.999598 0.999641]\n",
      " [0.999978 0.999923 0.999939 0.999923 0.99997  1.000028 0.999974 0.999908]\n",
      " [0.999796 1.000006 0.999901 1.000076 0.999242 1.008203 0.966589 0.996111]]\n",
      "\n",
      "pyLODE vs rascaline coefficients for l,m = (1, 1)\n",
      "[[1.000053 0.999978 1.000008 0.999948 1.000128 1.000265 1.000239 1.000225]\n",
      " [1.000005 1.       0.999991 1.000046 1.000241 1.000324 1.000513 1.001551]\n",
      " [0.999973 1.000178 1.000005 0.999902 1.000035 1.000045 1.000042 1.000044]\n",
      " [1.000053 0.999968 1.000015 0.999931 1.000323 1.004189 1.020716 1.002727]\n",
      " [0.999741 1.000098 0.999977 1.000084 0.999696 0.993222 0.996915 0.998853]\n",
      " [0.999897 1.000023 0.999996 1.000081 0.999955 0.999951 0.999974 1.000037]\n",
      " [1.00023  0.999792 0.999864 1.000411 0.999176 0.996461 0.996954 0.996968]\n",
      " [1.000037 0.999975 1.000011 0.99997  1.000427 0.99976  0.9997   0.999448]]\n",
      "pyLODE vs librascal coefficients for l,m = (1, 1)\n",
      "[[0.999989 0.999914 0.999945 0.999884 1.000065 1.000202 1.000175 1.000162]\n",
      " [0.999941 0.999937 0.999928 0.999983 1.000177 1.000261 1.000449 1.001487]\n",
      " [0.99991  1.000114 0.999941 0.999839 0.999971 0.999982 0.999979 0.999981]\n",
      " [0.999989 0.999904 0.999951 0.999867 1.00026  1.004125 1.020651 1.002663]\n",
      " [0.999678 1.000034 0.999914 1.00002  0.999633 0.993159 0.996851 0.998789]\n",
      " [0.999833 0.999959 0.999932 1.000018 0.999891 0.999887 0.999911 0.999974]\n",
      " [1.000167 0.999728 0.9998   1.000348 0.999113 0.996397 0.996891 0.996905]\n",
      " [0.999974 0.999912 0.999948 0.999906 1.000363 0.999696 0.999637 0.999384]]\n",
      "\n",
      "pyLODE vs rascaline coefficients for l,m = (2, -2)\n",
      "[[1.000458 0.999902 1.000017 0.999888 1.00022  1.000479 1.000505 1.000503]\n",
      " [0.999942 1.000026 0.999979 1.000385 0.999703 0.999639 0.999673 0.999751]\n",
      " [1.002356 0.999806 1.000026 0.999746 1.0003   1.000485 1.000485 1.000465]\n",
      " [1.001404 0.99979  1.000025 0.999806 1.000384 1.000803 1.000756 1.000657]\n",
      " [1.000161 1.000008 0.999994 1.000011 0.999942 1.000145 1.000152 1.000046]\n",
      " [1.000337 0.999925 1.000024 0.999016 1.0014   1.001032 1.000626 1.000366]\n",
      " [0.999759 1.000053 0.999991 1.000003 1.       1.000122 1.000304 1.00028 ]\n",
      " [0.998628 0.999551 0.999993 1.000002 1.000006 0.999506 0.999526 0.999699]]\n",
      "pyLODE vs librascal coefficients for l,m = (2, -2)\n",
      "[[1.000394 0.999838 0.999954 0.999824 1.000157 1.000415 1.000442 1.000439]\n",
      " [0.999878 0.999963 0.999915 1.000321 0.999639 0.999576 0.99961  0.999687]\n",
      " [1.002293 0.999743 0.999962 0.999682 1.000236 1.000422 1.000421 1.000401]\n",
      " [1.001341 0.999726 0.999962 0.999742 1.00032  1.000739 1.000692 1.000593]\n",
      " [1.000097 0.999944 0.999931 0.999947 0.999878 1.000081 1.000089 0.999983]\n",
      " [1.000274 0.999861 0.99996  0.998953 1.001336 1.000968 1.000562 1.000302]\n",
      " [0.999695 0.999989 0.999927 0.99994  0.999937 1.000059 1.000241 1.000217]\n",
      " [0.998564 0.999488 0.999929 0.999939 0.999943 0.999443 0.999463 0.999636]]\n",
      "\n",
      "pyLODE vs rascaline coefficients for l,m = (2, -1)\n",
      "[[1.00108  0.99979  1.000024 0.999867 1.000347 1.001077 1.001151 1.001042]\n",
      " [0.999935 1.000028 0.999978 1.000405 0.999688 0.999621 0.999658 0.999738]\n",
      " [0.999103 1.000348 0.999544 1.001247 1.002328 1.002391 1.002257 1.002273]\n",
      " [1.001762 0.999795 1.000027 0.999617 1.000418 1.000603 1.000511 1.000411]\n",
      " [1.000096 1.00003  0.999993 1.000015 0.999922 1.000203 1.000226 1.000152]\n",
      " [1.000149 0.999967 1.000009 0.99987  1.000158 1.000212 1.00019  1.000183]\n",
      " [0.999819 1.000028 0.999998 1.000015 0.999958 0.999865 0.999913 1.000045]\n",
      " [1.000289 0.999938 1.00001  0.999916 1.0003   1.001118 1.000626 1.000392]]\n",
      "pyLODE vs librascal coefficients for l,m = (2, -1)\n",
      "[[1.001016 0.999727 0.99996  0.999804 1.000283 1.001013 1.001088 1.000979]\n",
      " [0.999872 0.999965 0.999914 1.000341 0.999624 0.999558 0.999594 0.999675]\n",
      " [0.99904  1.000284 0.99948  1.001183 1.002264 1.002328 1.002193 1.002209]\n",
      " [1.001698 0.999731 0.999963 0.999554 1.000354 1.00054  1.000447 1.000347]\n",
      " [1.000032 0.999967 0.999929 0.999951 0.999858 1.00014  1.000162 1.000088]\n",
      " [1.000085 0.999903 0.999945 0.999806 1.000094 1.000149 1.000126 1.000119]\n",
      " [0.999756 0.999965 0.999935 0.999951 0.999894 0.999801 0.999849 0.999981]\n",
      " [1.000225 0.999874 0.999946 0.999852 1.000236 1.001054 1.000563 1.000329]]\n",
      "\n",
      "pyLODE vs rascaline coefficients for l,m = (2, 0)\n",
      "[[1.000511 0.999877 1.000028 0.999772 1.00046  1.000881 1.00079  1.00058 ]\n",
      " [1.000153 0.999971 1.000003 0.999865 1.000157 1.00015  1.000072 1.000005]\n",
      " [1.001642 0.999857 1.000018 0.999673 1.000245 1.00032  1.000265 1.000184]\n",
      " [0.99634  0.998643 1.000055 0.99949  1.000674 1.001168 1.001046 1.000811]\n",
      " [0.999659 1.000097 0.999985 1.000054 0.999774 1.004207 1.022348 0.992144]\n",
      " [0.999848 1.000035 0.999989 1.000167 0.999828 0.999753 0.999749 0.999744]\n",
      " [0.999897 1.000018 1.000001 1.000004 0.99997  0.999373 0.999299 0.999261]\n",
      " [1.00008  0.999977 1.000005 0.99998  1.000132 0.999798 0.999941 1.001084]]\n",
      "pyLODE vs librascal coefficients for l,m = (2, 0)\n",
      "[[1.000448 0.999813 0.999965 0.999709 1.000396 1.000818 1.000727 1.000517]\n",
      " [1.000089 0.999908 0.999939 0.999802 1.000094 1.000086 1.000008 0.999941]\n",
      " [1.001579 0.999794 0.999954 0.999609 1.000182 1.000257 1.000201 1.00012 ]\n",
      " [0.996277 0.998579 0.999991 0.999427 1.000611 1.001104 1.000982 1.000747]\n",
      " [0.999596 1.000033 0.999921 0.99999  0.999711 1.004143 1.022283 0.992081]\n",
      " [0.999784 0.999972 0.999925 1.000104 0.999764 0.999689 0.999685 0.99968 ]\n",
      " [0.999833 0.999955 0.999938 0.999941 0.999907 0.999309 0.999236 0.999197]\n",
      " [1.000016 0.999914 0.999941 0.999916 1.000068 0.999734 0.999877 1.001021]]\n",
      "\n",
      "pyLODE vs rascaline coefficients for l,m = (2, 1)\n",
      "[[1.001089 0.999788 1.000024 0.999865 1.000352 1.001094 1.001174 1.00107 ]\n",
      " [0.999923 1.000032 0.999976 1.000438 0.999661 0.99959  0.999631 0.999717]\n",
      " [0.999106 1.000346 0.999547 1.001239 1.002314 1.002377 1.002242 1.002256]\n",
      " [0.99951  1.000144 0.999964 1.000239 0.998738 0.979353 0.987172 0.997076]\n",
      " [0.999842 1.000116 0.999989 1.000026 0.999857 1.000323 1.000348 1.000261]\n",
      " [1.000342 0.999922 1.000026 0.99922  1.001052 1.000944 1.000628 1.000402]\n",
      " [1.001265 0.99963  1.000005 0.999981 1.000121 0.999796 0.999812 0.999767]\n",
      " [1.000071 1.000006 0.999989 1.000025 0.999888 1.000551 1.000963 1.002493]]\n",
      "pyLODE vs librascal coefficients for l,m = (2, 1)\n",
      "[[1.001025 0.999725 0.999961 0.999802 1.000288 1.001031 1.00111  1.001007]\n",
      " [0.99986  0.999968 0.999913 1.000375 0.999597 0.999527 0.999568 0.999654]\n",
      " [0.999043 1.000283 0.999484 1.001175 1.002251 1.002313 1.002178 1.002193]\n",
      " [0.999446 1.000081 0.9999   1.000175 0.998675 0.97929  0.98711  0.997012]\n",
      " [0.999779 1.000053 0.999925 0.999962 0.999794 1.000259 1.000284 1.000198]\n",
      " [1.000278 0.999859 0.999962 0.999156 1.000988 1.00088  1.000564 1.000339]\n",
      " [1.001202 0.999567 0.999941 0.999917 1.000057 0.999732 0.999748 0.999703]\n",
      " [1.000008 0.999943 0.999926 0.999961 0.999825 1.000487 1.0009   1.002429]]\n",
      "\n",
      "pyLODE vs rascaline coefficients for l,m = (2, 2)\n",
      "[[1.00064  0.999825 1.000076 0.999281 1.002952 1.005597 1.003379 1.001811]\n",
      " [0.997868 1.000361 0.9999   1.004066 0.998792 0.998559 0.998685 0.998871]\n",
      " [0.999863 1.000039 0.999981 1.000318 0.999761 0.999678 0.999678 0.999688]\n",
      " [0.999981 1.000029 0.999936 0.999752 0.999267 0.999584 0.999638 0.999731]\n",
      " [0.999359 1.000145 0.999964 1.000263 0.999464 0.998797 0.998898 0.998944]\n",
      " [1.001115 0.999716 1.000068 0.999451 1.001145 1.002195 1.00201  1.001406]\n",
      " [0.999722 1.000041 0.999998 1.000033 0.999927 0.999823 0.999767 0.999637]\n",
      " [1.000365 0.999913 0.99988  1.000086 0.998907 1.000494 1.000548 1.000718]]\n",
      "pyLODE vs librascal coefficients for l,m = (2, 2)\n",
      "[[1.000576 0.999761 1.000012 0.999217 1.002889 1.005533 1.003316 1.001747]\n",
      " [0.997805 1.000297 0.999837 1.004002 0.998728 0.998496 0.998622 0.998808]\n",
      " [0.999799 0.999976 0.999918 1.000255 0.999698 0.999615 0.999614 0.999624]\n",
      " [0.999917 0.999965 0.999872 0.999688 0.999204 0.999521 0.999575 0.999668]\n",
      " [0.999296 1.000082 0.9999   1.000199 0.999401 0.998734 0.998834 0.998881]\n",
      " [1.001052 0.999652 1.000004 0.999388 1.001082 1.002132 1.001946 1.001343]\n",
      " [0.999658 0.999977 0.999934 0.99997  0.999863 0.99976  0.999704 0.999573]\n",
      " [1.000301 0.999849 0.999817 1.000022 0.998843 1.00043  1.000485 1.000655]]\n",
      "\n",
      "pyLODE vs rascaline coefficients for l,m = (3, -3)\n",
      "[[0.999081 1.000059 1.000006 1.000015 0.999935 0.999823 0.999819 0.999644]\n",
      " [1.001401 0.999872 0.99999  0.999247 1.000393 1.000444 1.000348 1.000363]\n",
      " [1.004761 0.999548 0.999918 1.000636 1.003403 1.001697 1.001196 1.001185]\n",
      " [1.000247 1.000161 1.000013 0.999976 1.000061 0.997716 0.999888 1.001061]\n",
      " [1.002418 0.999534 0.999997 0.999981 1.000145 0.999807 0.999945 1.000385]\n",
      " [0.999612 1.000038 1.000001 1.000041 0.999948 0.999959 1.000066 1.000351]\n",
      " [0.904005 0.999859 0.999992 1.000077 1.000214 1.000201 1.000312 1.000738]\n",
      " [0.996229 1.000368 0.99999  0.999947 1.000517 0.999538 0.999685 0.999973]]\n",
      "pyLODE vs librascal coefficients for l,m = (3, -3)\n",
      "[[0.999017 0.999995 0.999942 0.999951 0.999872 0.999759 0.999756 0.99958 ]\n",
      " [1.001337 0.999808 0.999927 0.999184 1.00033  1.000381 1.000285 1.0003  ]\n",
      " [1.004697 0.999485 0.999854 1.000572 1.003339 1.001633 1.001132 1.001122]\n",
      " [1.000184 1.000098 0.999949 0.999913 0.999998 0.997653 0.999824 1.000997]\n",
      " [1.002354 0.999471 0.999934 0.999918 1.000082 0.999743 0.999882 1.000321]\n",
      " [0.999548 0.999975 0.999937 0.999977 0.999884 0.999896 1.000003 1.000287]\n",
      " [0.903948 0.999796 0.999929 1.000013 1.00015  1.000137 1.000249 1.000675]\n",
      " [0.996166 1.000305 0.999926 0.999884 1.000453 0.999475 0.999621 0.999909]]\n",
      "\n",
      "pyLODE vs rascaline coefficients for l,m = (3, -2)\n",
      "[[0.999799 0.999977 1.000007 0.999987 1.000021 1.000069 1.000103 1.000141]\n",
      " [1.001597 0.999844 0.999992 0.998925 1.000519 1.000562 1.000394 1.000244]\n",
      " [0.992954 1.001114 1.000015 1.004304 1.017343 1.019732 1.028933 0.941403]\n",
      " [1.007437 0.999396 1.000002 0.999704 1.000703 1.001455 1.001174 1.000791]\n",
      " [1.00249  0.999539 0.999998 0.999979 1.000163 0.99973  0.999778 0.999815]\n",
      " [1.002207 0.999743 1.000001 1.115395 1.001441 1.001305 1.000864 1.000516]\n",
      " [1.004189 0.99874  0.999999 0.999969 1.00026  0.999666 0.999732 0.999787]\n",
      " [1.002013 0.999753 0.999998 0.999907 1.000457 0.983341 1.004858 1.001468]]\n",
      "pyLODE vs librascal coefficients for l,m = (3, -2)\n",
      "[[0.999735 0.999913 0.999943 0.999923 0.999957 1.000005 1.00004  1.000078]\n",
      " [1.001534 0.99978  0.999929 0.998861 1.000456 1.000499 1.000331 1.000181]\n",
      " [0.992891 1.00105  0.999952 1.00424  1.017278 1.019668 1.028868 0.941343]\n",
      " [1.007373 0.999333 0.999938 0.99964  1.000639 1.001391 1.001111 1.000728]\n",
      " [1.002426 0.999475 0.999934 0.999915 1.0001   0.999667 0.999715 0.999751]\n",
      " [1.002143 0.99968  0.999937 1.115324 1.001377 1.001241 1.0008   1.000453]\n",
      " [1.004125 0.998677 0.999936 0.999905 1.000197 0.999603 0.999668 0.999724]\n",
      " [1.00195  0.999689 0.999935 0.999844 1.000394 0.983278 1.004794 1.001404]]\n",
      "\n",
      "pyLODE vs rascaline coefficients for l,m = (3, -1)\n",
      "[[0.998503 1.00012  1.000005 1.00005  0.999868 0.999759 0.99989  1.000205]\n",
      " [1.001307 0.999884 0.99999  0.99936  1.000347 1.0004   1.00033  1.000407]\n",
      " [1.003246 0.999739 0.999997 0.99962  1.000451 1.00063  1.000529 1.000516]\n",
      " [0.995382 1.000595 1.000007 1.000426 0.998277 0.993913 0.99573  0.998584]\n",
      " [1.002351 0.99957  0.999998 0.999979 1.000165 0.999691 0.999649 0.999332]\n",
      " [1.000328 0.999967 1.000001 0.999928 1.000092 1.000149 1.000188 1.000361]\n",
      " [0.998133 1.000207 1.000002 1.000077 0.999697 0.998534 0.999324 1.000578]\n",
      " [1.00762  0.999232 0.999993 0.999775 1.000978 1.014598 1.005354 1.002892]]\n",
      "pyLODE vs librascal coefficients for l,m = (3, -1)\n",
      "[[0.99844  1.000056 0.999941 0.999986 0.999804 0.999695 0.999826 1.000142]\n",
      " [1.001243 0.999821 0.999926 0.999296 1.000283 1.000336 1.000266 1.000343]\n",
      " [1.003182 0.999675 0.999933 0.999557 1.000387 1.000566 1.000465 1.000453]\n",
      " [0.995319 1.000532 0.999944 1.000363 0.998213 0.99385  0.995667 0.99852 ]\n",
      " [1.002287 0.999507 0.999935 0.999915 1.000102 0.999627 0.999586 0.999269]\n",
      " [1.000264 0.999903 0.999937 0.999864 1.000029 1.000085 1.000125 1.000297]\n",
      " [0.99807  1.000143 0.999939 1.000013 0.999633 0.998471 0.999261 1.000514]\n",
      " [1.007556 0.999169 0.99993  0.999711 1.000914 1.014534 1.00529  1.002828]]\n",
      "\n",
      "pyLODE vs rascaline coefficients for l,m = (3, 0)\n",
      "[[0.999742 0.999984 1.000007 0.999988 1.000016 1.000047 1.000062 0.99991 ]\n",
      " [1.001625 0.99984  0.999992 0.99891  1.000526 1.000567 1.00039  1.000178]\n",
      " [0.993015 1.0011   1.000019 1.004258 1.017175 1.01951  1.02816  0.962137]\n",
      " [1.002018 0.999795 1.000001 0.999835 1.000364 1.000671 1.000506 1.000194]\n",
      " [1.003214 0.999378 0.999998 0.999972 1.000207 0.999674 0.999774 1.000005]\n",
      " [1.000724 0.999923 1.000001 0.999821 1.0002   1.000259 1.000195 1.000083]\n",
      " [0.999652 1.000032 1.       1.000012 0.999954 0.999749 0.999785 0.999689]\n",
      " [1.002166 0.999733 0.999999 0.999879 1.00054  1.00781  1.002306 1.000711]]\n",
      "pyLODE vs librascal coefficients for l,m = (3, 0)\n",
      "[[0.999679 0.99992  0.999943 0.999925 0.999952 0.999983 0.999998 0.999846]\n",
      " [1.001561 0.999777 0.999929 0.998847 1.000462 1.000503 1.000327 1.000114]\n",
      " [0.992952 1.001037 0.999956 1.004194 1.017111 1.019445 1.028095 0.962076]\n",
      " [1.001954 0.999732 0.999937 0.999771 1.000301 1.000607 1.000442 1.00013 ]\n",
      " [1.00315  0.999315 0.999935 0.999909 1.000144 0.999611 0.99971  0.999941]\n",
      " [1.000661 0.999859 0.999938 0.999757 1.000137 1.000196 1.000131 1.000019]\n",
      " [0.999588 0.999968 0.999937 0.999948 0.99989  0.999686 0.999721 0.999625]\n",
      " [1.002102 0.99967  0.999935 0.999815 1.000477 1.007746 1.002243 1.000648]]\n",
      "\n",
      "pyLODE vs rascaline coefficients for l,m = (3, 1)\n",
      "[[1.000573 0.999918 1.000007 0.999902 1.000188 1.000343 1.000337 1.000469]\n",
      " [1.001606 0.999786 1.000016 0.998053 1.001286 1.001295 1.000897 1.000662]\n",
      " [0.994986 1.000602 1.000005 1.000685 0.998331 0.997075 0.997823 0.998815]\n",
      " [0.988654 1.002821 1.000004 0.999308 1.001841 1.005252 1.00537  1.005428]\n",
      " [1.000974 0.999908 0.999995 0.999985 1.000097 0.997875 0.901614 1.006061]\n",
      " [0.998886 1.000135 0.999987 1.000369 0.999763 0.999733 0.999847 1.000077]\n",
      " [0.99132  1.001079 0.99999  0.999858 1.001057 0.99825  0.998625 0.998918]\n",
      " [0.99928  1.000095 1.000002 1.000025 0.999827 1.000321 0.999986 0.998229]]\n",
      "pyLODE vs librascal coefficients for l,m = (3, 1)\n",
      "[[1.00051  0.999854 0.999944 0.999838 1.000124 1.000279 1.000273 1.000405]\n",
      " [1.001543 0.999723 0.999952 0.997989 1.001222 1.001232 1.000833 1.000598]\n",
      " [0.994923 1.000538 0.999941 1.000622 0.998268 0.997011 0.997759 0.998752]\n",
      " [0.988591 1.002757 0.99994  0.999244 1.001777 1.005188 1.005306 1.005364]\n",
      " [1.000911 0.999844 0.999932 0.999921 1.000033 0.997812 0.901557 1.005997]\n",
      " [0.998822 1.000071 0.999924 1.000305 0.999699 0.999669 0.999784 1.000013]\n",
      " [0.991257 1.001016 0.999927 0.999795 1.000994 0.998186 0.998562 0.998855]\n",
      " [0.999216 1.000032 0.999938 0.999962 0.999764 1.000258 0.999922 0.998165]]\n",
      "\n",
      "pyLODE vs rascaline coefficients for l,m = (3, 2)\n",
      "[[0.999708 0.999987 1.000007 0.999989 1.000013 1.000039 1.000059 1.000025]\n",
      " [1.001639 0.999838 0.999992 0.998898 1.000531 1.000573 1.0004   1.00024 ]\n",
      " [0.992887 1.001126 1.000016 1.004335 1.017463 1.019847 1.029032 0.941385]\n",
      " [1.004649 0.999575 0.999977 1.000899 1.001707 1.001252 1.000865 1.00054 ]\n",
      " [1.002116 0.999461 0.999995 0.99999  1.000104 0.999895 0.999945 1.00008 ]\n",
      " [1.000359 0.999964 1.000001 0.999916 1.0001   1.000138 1.000114 1.000078]\n",
      " [0.998284 1.000161 1.000001 1.000088 0.9998   0.999625 0.999729 0.999829]\n",
      " [1.001944 0.999791 1.000013 1.00015  1.003699 1.000553 1.00042  1.000297]]\n",
      "pyLODE vs librascal coefficients for l,m = (3, 2)\n",
      "[[0.999645 0.999924 0.999943 0.999925 0.99995  0.999975 0.999995 0.999961]\n",
      " [1.001576 0.999775 0.999929 0.998835 1.000467 1.00051  1.000336 1.000177]\n",
      " [0.992824 1.001062 0.999952 1.004271 1.017398 1.019782 1.028967 0.941325]\n",
      " [1.004585 0.999511 0.999913 1.000835 1.001644 1.001188 1.000802 1.000476]\n",
      " [1.002053 0.999397 0.999932 0.999926 1.00004  0.999831 0.999881 1.000016]\n",
      " [1.000296 0.9999   0.999937 0.999853 1.000036 1.000074 1.000051 1.000014]\n",
      " [0.998221 1.000098 0.999937 1.000025 0.999737 0.999562 0.999665 0.999765]\n",
      " [1.00188  0.999727 0.999949 1.000086 1.003636 1.000489 1.000356 1.000234]]\n",
      "\n",
      "pyLODE vs rascaline coefficients for l,m = (3, 3)\n",
      "[[1.008855 0.995928 1.       1.000197 0.999434 0.99839  0.99819  0.997651]\n",
      " [1.00164  0.999804 1.000004 0.998409 1.000886 1.000925 1.000649 1.000456]\n",
      " [0.998393 1.00013  1.000004 1.000077 0.999841 0.999735 0.999792 0.999805]\n",
      " [1.000999 0.999893 1.       0.999891 1.000219 1.000346 1.00019  0.999838]\n",
      " [0.998736 1.000131 1.000029 0.999965 1.005436 0.999919 1.000079 1.000541]\n",
      " [1.001283 0.999879 0.999992 0.999125 1.000391 1.000431 1.000333 1.000306]\n",
      " [0.989749 1.001065 0.999993 0.999887 1.000963 0.998865 0.999171 0.999606]\n",
      " [0.999728 1.000022 1.000008 1.000086 0.999828 0.999714 0.99959  0.999093]]\n",
      "pyLODE vs librascal coefficients for l,m = (3, 3)\n",
      "[[1.008791 0.995864 0.999937 1.000134 0.999371 0.998326 0.998127 0.997587]\n",
      " [1.001577 0.999741 0.999941 0.998346 1.000823 1.000862 1.000586 1.000393]\n",
      " [0.998329 1.000067 0.99994  1.000014 0.999778 0.999672 0.999729 0.999742]\n",
      " [1.000936 0.999829 0.999936 0.999828 1.000155 1.000283 1.000127 0.999774]\n",
      " [0.998673 1.000068 0.999965 0.999901 1.005372 0.999855 1.000015 1.000478]\n",
      " [1.00122  0.999815 0.999928 0.999062 1.000327 1.000368 1.00027  1.000242]\n",
      " [0.989686 1.001001 0.999929 0.999824 1.000899 0.998802 0.999107 0.999542]\n",
      " [0.999664 0.999958 0.999945 1.000022 0.999765 0.99965  0.999526 0.99903 ]]\n",
      "\n"
     ]
    }
   ],
   "source": [
    "for l in range(0, lmax+1):\n",
    "    lm_index = l**2 + l\n",
    "    \n",
    "    for idx_m in range(2*l+1):\n",
    "        # Get the features from the spherical expansion codes\n",
    "        features_l_pylode = features_pylode_general_struc[:, 0, :, l**2 + idx_m]\n",
    "        features_l_rascaline = descriptor_rascaline_general_struc.block(spherical_harmonics_l = l).values[:,idx_m]\n",
    "        features_l_librascal = features_librascal_general_struc[:, l**2 + idx_m::(lmax+1)**2]\n",
    "\n",
    "        # Compare the coefficients\n",
    "        ratios_rascaline = features_l_pylode / features_l_rascaline\n",
    "        ratios_librascal = features_l_pylode / features_l_librascal / 26.699\n",
    "        print(f'pyLODE vs rascaline coefficients for l,m = {l,idx_m-l}')\n",
    "        print(np.round(ratios_rascaline,6))\n",
    "        print(f'pyLODE vs librascal coefficients for l,m = {l,idx_m-l}')\n",
    "        print(np.round(ratios_librascal, 6))\n",
    "        print()"
   ]
  },
  {
   "cell_type": "markdown",
   "id": "reverse-universal",
   "metadata": {},
   "source": [
    "Comment: Coefficients now also agree for \"generic\" molecules (i.e. molecules that do not have any special symmetry) up to a global factor!"
   ]
  },
  {
   "cell_type": "markdown",
   "id": "bacterial-venezuela",
   "metadata": {},
   "source": [
    "## Table of Contents:\n",
    "* [Preparation](#preparation)\n",
    "    * [Exact Expression for Coefficients](#exactexpressions)\n",
    "    * [Get the features for dimers](#getfeatures)\n",
    "* [Coefficients for $l=1$](#l=1)\n",
    "    * [Explicit computation of coefficients for $l=1$](#l=1explicit)\n",
    "    * [Comparison to pyLODE/rascal for dimers](#l=1dimer)\n",
    "* [Coefficients for $l\\geq 2$](#lgeq2)\n",
    "    * [Coefficients for $l=2$](#l=2)\n",
    "    * [Coefficients for general $l$](#l_general)\n",
    "* [Coefficients for l=0](#l=0)\n",
    "    * [Exact coefficients](#l=0exact)\n",
    "    * [Comparison to pyLODE/rascal for center contribution](#l=0center)\n",
    "    * [Comparison to pyLODE/rascal for dimers](#l=0dimer)"
   ]
  }
 ],
 "metadata": {
  "kernelspec": {
   "display_name": "Python 3",
   "language": "python",
   "name": "python3"
  },
  "language_info": {
   "codemirror_mode": {
    "name": "ipython",
    "version": 3
   },
   "file_extension": ".py",
   "mimetype": "text/x-python",
   "name": "python",
   "nbconvert_exporter": "python",
   "pygments_lexer": "ipython3",
   "version": "3.8.5"
  }
 },
 "nbformat": 4,
 "nbformat_minor": 5
}
