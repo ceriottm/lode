{
 "cells": [
  {
   "cell_type": "code",
   "execution_count": 1,
   "id": "empirical-right",
   "metadata": {},
   "outputs": [],
   "source": [
    "from ase import Atoms\n",
    "from matplotlib import pyplot as plt\n",
    "import numpy as np\n",
    "from numpy.testing import assert_allclose\n",
    "from ase.visualize import view\n",
    "\n",
    "from pylode.lib.projection_coeffs import DensityProjectionCalculator"
   ]
  },
  {
   "cell_type": "markdown",
   "id": "considered-hughes",
   "metadata": {},
   "source": [
    "### Define helper function to scale a given frame"
   ]
  },
  {
   "cell_type": "code",
   "execution_count": 2,
   "id": "blank-benefit",
   "metadata": {},
   "outputs": [],
   "source": [
    "def build_frames(symbols, positions, cell, scaling_factors):\n",
    "    \"\"\"Build an list of `ase.Atoms` instances.\n",
    "\n",
    "    The list build by scaling the positions and cell size according to\n",
    "    `scaling_factors`.\n",
    "\n",
    "    Parameters\n",
    "    ----------\n",
    "    symbols : list[str]\n",
    "        list of symbols\n",
    "    positions : list of xyz-positions\n",
    "        Atomic positions\n",
    "    cell : 3x3 matrix or length 3 or 6 vector\n",
    "        Unit cell vectors.\n",
    "    scaling_factors : list[float]\n",
    "        scaling factor for the positions and the cell\n",
    "    \"\"\"\n",
    "    if len(positions.shape) != 2:\n",
    "        raise ValueError(\"Positions must be a (N, 3) array!\")\n",
    "    if positions.shape[1] != 3:\n",
    "        raise ValueError(\"Positions must have 3 columns!\")\n",
    "    if cell.shape != (3, 3):\n",
    "        raise ValueError(\"Cell must be a 3x3 matrix!\")\n",
    "\n",
    "    frames = []\n",
    "    for a in scaling_factors:\n",
    "        frames.append(\n",
    "            Atoms(symbols=symbols,\n",
    "                  positions=a * positions,\n",
    "                  cell=a * cell,\n",
    "                  pbc=True))\n",
    "\n",
    "    return frames"
   ]
  },
  {
   "cell_type": "markdown",
   "id": "animated-motivation",
   "metadata": {},
   "source": [
    "### Generate the frames of different crystals"
   ]
  },
  {
   "cell_type": "code",
   "execution_count": 42,
   "id": "sealed-magnitude",
   "metadata": {},
   "outputs": [],
   "source": [
    "crystal_list = [\"NaCl\", \"CsCl\", \"ZnS\"]\n",
    "def crystal_dictionary(scaling_factors):\n",
    "        \"\"\"Init dictionary for crystal paramaters.\"\"\"\n",
    "        d = {k: {} for k in crystal_list}\n",
    "\n",
    "        d[\"NaCl\"][\"symbols\"] = 4 * ['Na'] + 4 * ['Cl']\n",
    "        d[\"NaCl\"][\"positions\"] = np.array([[.0, .0, .0], [.5, .5, .0],\n",
    "                                           [.5, .0, .5], [.0, .5, .5],\n",
    "                                           [.5, .0, .0], [.0, .5, .0],\n",
    "                                           [.0, .0, .5], [.5, .5, .5]])\n",
    "        d[\"NaCl\"][\"cell\"] = np.diag([1, 1, 1])\n",
    "        \n",
    "        # primitive unit cell version\n",
    "        d[\"NaCl\"][\"symbols\"] = ['Na', 'Cl']\n",
    "        d[\"NaCl\"][\"positions\"] = np.array([[0, 0, 0], [1,0,0]])\n",
    "        d[\"NaCl\"][\"cell\"] = np.array([[0, 1, 1], [1, 0, 1], [1, 1, 0]])\n",
    "        d[\"NaCl\"][\"madelung\"] = 1.7476\n",
    "\n",
    "        frames = build_frames(symbols=d[\"NaCl\"][\"symbols\"],\n",
    "                                   positions=d[\"NaCl\"][\"positions\"],\n",
    "                                   cell=d[\"NaCl\"][\"cell\"],\n",
    "                                   scaling_factors=scaling_factors)\n",
    "        d[\"NaCl\"][\"frames\"] = frames\n",
    "\n",
    "        d[\"CsCl\"][\"symbols\"] = [\"Cs\", \"Cl\"]\n",
    "        d[\"CsCl\"][\"positions\"] = np.array([[0, 0, 0], [.5, .5, .5]])\n",
    "        d[\"CsCl\"][\"cell\"] = np.diag([1, 1, 1]) \n",
    "        d[\"CsCl\"][\"madelung\"] = 1.7626 * 2 / np.sqrt(3)\n",
    "        #d[\"CsCl\"][\"madelung\"] = 1.7626\n",
    "        \n",
    "        frames = build_frames(symbols=d[\"CsCl\"][\"symbols\"],\n",
    "                                   positions=d[\"CsCl\"][\"positions\"],\n",
    "                                   cell=d[\"CsCl\"][\"cell\"],\n",
    "                                   scaling_factors=scaling_factors)\n",
    "        d[\"CsCl\"][\"frames\"] = frames\n",
    "\n",
    "        d[\"ZnS\"][\"symbols\"] = [\"Zn\", \"S\"]\n",
    "        d[\"ZnS\"][\"positions\"] = np.array([[0, 0, 0], [.5, .5, .5]])\n",
    "        d[\"ZnS\"][\"cell\"] = np.array([[0, 1, 1], [1, 0, 1], [1, 1, 0]])\n",
    "        #d[\"ZnS\"][\"madelung\"] = 1.63805505338879 / 4 / np.sqrt(3)\n",
    "        d[\"ZnS\"][\"madelung\"] = 1.63805505338879 * 2 / np.sqrt(3)\n",
    "        \n",
    "        frames = build_frames(symbols=d[\"ZnS\"][\"symbols\"],\n",
    "                                   positions=d[\"ZnS\"][\"positions\"],\n",
    "                                   cell=d[\"ZnS\"][\"cell\"],\n",
    "                                   scaling_factors=scaling_factors)\n",
    "        d[\"ZnS\"][\"frames\"] = frames\n",
    "        return d"
   ]
  },
  {
   "cell_type": "code",
   "execution_count": 43,
   "id": "supported-likelihood",
   "metadata": {},
   "outputs": [],
   "source": [
    "rcut = 0.15\n",
    "def test_madelung(crystal_dictionary, crystal_name):\n",
    "    frames = crystal_dictionary[crystal_name][\"frames\"]\n",
    "    n_atoms = len(crystal_dictionary[crystal_name][\"symbols\"])\n",
    "\n",
    "    calculator = DensityProjectionCalculator(\n",
    "        max_radial=1,\n",
    "        max_angular=0,\n",
    "        cutoff_radius=rcut,\n",
    "        smearing=0.15,\n",
    "        radial_basis=\"monomial\",\n",
    "        potential_exponent=1,\n",
    "        subtract_center_contribution=True)\n",
    "\n",
    "    calculator.transform(frames=frames)\n",
    "    features = calculator.features\n",
    "    features = features.reshape(len(frames), n_atoms, *features.shape[1:])\n",
    "\n",
    "    # Contribution of second atom on first atom\n",
    "    X = features[:, 0, 0, :] - features[:, 0, 1, :]\n",
    "    \n",
    "    return X\n",
    "    #assert_allclose(-X, crystal_dictionary[crystal_name][\"madelung\"])"
   ]
  },
  {
   "cell_type": "code",
   "execution_count": 44,
   "id": "conventional-granny",
   "metadata": {},
   "outputs": [
    {
     "name": "stderr",
     "output_type": "stream",
     "text": [
      "/home/khugueni/miniconda3/lib/python3.8/site-packages/pylode/lib/radial_basis.py:103: RuntimeWarning: invalid value encountered in true_divide\n",
      "  density = lambda x: np.nan_to_num(erf(x/self.smearing/np.sqrt(2))/x,\n"
     ]
    },
    {
     "name": "stdout",
     "output_type": "stream",
     "text": [
      "Slope =  -0.13632495700713643\n",
      "offset =  2.8866010009001846\n",
      "1.7476\n",
      "Slope =  -0.9826063249930012\n",
      "offset =  0.7099674830143223\n",
      "2.035275168947269\n",
      "Slope =  -0.9884739297685151\n",
      "offset =  0.6373403450713574\n",
      "1.8914630520428897\n"
     ]
    },
    {
     "name": "stderr",
     "output_type": "stream",
     "text": [
      "/home/khugueni/miniconda3/lib/python3.8/site-packages/pylode/lib/radial_basis.py:103: RuntimeWarning: invalid value encountered in true_divide\n",
      "  density = lambda x: np.nan_to_num(erf(x/self.smearing/np.sqrt(2))/x,\n",
      "/home/khugueni/miniconda3/lib/python3.8/site-packages/pylode/lib/radial_basis.py:103: RuntimeWarning: invalid value encountered in true_divide\n",
      "  density = lambda x: np.nan_to_num(erf(x/self.smearing/np.sqrt(2))/x,\n"
     ]
    },
    {
     "data": {
      "text/plain": [
       "Text(0, 0.5, 'Energy in some units')"
      ]
     },
     "execution_count": 44,
     "metadata": {},
     "output_type": "execute_result"
    },
    {
     "data": {
      "image/png": "[encoded data removed]",
      "text/plain": [
       "<Figure size 432x288 with 1 Axes>"
      ]
     },
     "metadata": {
      "needs_background": "light"
     },
     "output_type": "display_data"
    }
   ],
   "source": [
    "scaling_factors = np.geomspace(0.5,1.5,15)\n",
    "crystal_dict = crystal_dictionary(scaling_factors)\n",
    "crystal_list = [\"NaCl\", \"CsCl\", \"ZnS\"]\n",
    "extra_factors = [1,1,1]\n",
    "\n",
    "global_factor = 1./np.sqrt(4*np.pi/3.*rcut**3)\n",
    "#global_factor = 1.\n",
    "\n",
    "for i, crystal_name in enumerate(crystal_list):\n",
    "    X = test_madelung(crystal_dict, crystal_name) * global_factor\n",
    "    \n",
    "    madelung_lode = -X[:,0,0]\n",
    "    plt.loglog(scaling_factors, madelung_lode * extra_factors[i], label=crystal_name)\n",
    "    \n",
    "    # Linear fit\n",
    "    coeffs = np.polyfit(np.log(scaling_factors[-15:]), np.log(madelung_lode[-15:]),1)\n",
    "    fit = np.exp(coeffs[0]*np.log(scaling_factors) + coeffs[1])\n",
    "    plt.loglog(scaling_factors[-10:], fit[-10:], 'k--')\n",
    "    \n",
    "    # Target value\n",
    "    plt.scatter(1, crystal_dict[crystal_name]['madelung'], s=30)\n",
    "    \n",
    "    # Prints\n",
    "    print('Slope = ', coeffs[0])\n",
    "    print('offset = ', coeffs[1])\n",
    "    print(crystal_dict[crystal_name]['madelung'])\n",
    "plt.legend()\n",
    "plt.xlabel('Scaling factor')\n",
    "plt.ylabel('Energy in some units')"
   ]
  },
  {
   "cell_type": "code",
   "execution_count": null,
   "id": "informational-sender",
   "metadata": {},
   "outputs": [],
   "source": [
    "scaling_factors = np.geomspace(0.9,8.5,35)\n",
    "crystal_dict = crystal_dictionary(scaling_factors)\n",
    "crystal_list = [\"NaCl\", \"CsCl\", \"ZnS\"]\n",
    "\n",
    "for crystal_name in crystal_list:\n",
    "    X = test_madelung(crystal_dict, crystal_name)\n",
    "    madelung_lode = -X[:,0,0]\n",
    "    plt.loglog(scaling_factors, madelung_lode, label=crystal_name)\n",
    "    \n",
    "    # Linear fit\n",
    "    coeffs = np.polyfit(np.log(scaling_factors[-15:]), np.log(madelung_lode[-15:]),1)\n",
    "    fit = np.exp(coeffs[0]*np.log(scaling_factors) + coeffs[1])\n",
    "    plt.loglog(scaling_factors[-10:], fit[-10:], 'k--')\n",
    "    \n",
    "    # Target value\n",
    "    plt.scatter(1, crystal_dict[crystal_name]['madelung'], s=30)\n",
    "    \n",
    "    print('Slope = ', coeffs[0])\n",
    "    print('offset = ', coeffs[1])\n",
    "    print(crystal_dict[crystal_name]['madelung'])\n",
    "plt.legend()\n",
    "plt.xlabel('Scaling factor')\n",
    "plt.ylabel('Energy in some units')"
   ]
  },
  {
   "cell_type": "code",
   "execution_count": null,
   "id": "devoted-salvation",
   "metadata": {},
   "outputs": [],
   "source": [
    "frames = crystal_dict[\"CsCl\"][\"frames\"]\n",
    "for frame in frames:\n",
    "    cell = frame.cell\n",
    "    print(cell)\n",
    "    print(frame.get_positions())\n",
    "    print()"
   ]
  },
  {
   "cell_type": "code",
   "execution_count": null,
   "id": "thousand-badge",
   "metadata": {},
   "outputs": [],
   "source": [
    "scaling_factors = np.geomspace(0.9,8.5,25)\n",
    "crystal_dict = crystal_dictionary(scaling_factors)\n",
    "framesNaCl = crystal_dict[\"NaCl\"][\"frames\"]\n",
    "from ase.io import write\n",
    "write('nacl.xyz', framesNaCl)"
   ]
  },
  {
   "cell_type": "code",
   "execution_count": null,
   "id": "olympic-extreme",
   "metadata": {},
   "outputs": [],
   "source": []
  }
 ],
 "metadata": {
  "kernelspec": {
   "display_name": "Python 3",
   "language": "python",
   "name": "python3"
  },
  "language_info": {
   "codemirror_mode": {
    "name": "ipython",
    "version": 3
   },
   "file_extension": ".py",
   "mimetype": "text/x-python",
   "name": "python",
   "nbconvert_exporter": "python",
   "pygments_lexer": "ipython3",
   "version": "3.8.5"
  }
 },
 "nbformat": 4,
 "nbformat_minor": 5
}
